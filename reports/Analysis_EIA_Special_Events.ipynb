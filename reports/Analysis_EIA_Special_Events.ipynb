{
 "cells": [
  {
   "cell_type": "code",
   "execution_count": 1,
   "metadata": {
    "ExecuteTime": {
     "end_time": "2020-02-21T09:41:33.623722Z",
     "start_time": "2020-02-21T09:41:33.187655Z"
    }
   },
   "outputs": [
    {
     "name": "stderr",
     "output_type": "stream",
     "text": [
      "Using TensorFlow backend.\n",
      "/Users/lucasbaier/anaconda3/envs/taxiData/lib/python3.7/site-packages/tensorflow/python/framework/dtypes.py:516: FutureWarning: Passing (type, 1) or '1type' as a synonym of type is deprecated; in a future version of numpy, it will be understood as (type, (1,)) / '(1,)type'.\n",
      "  _np_qint8 = np.dtype([(\"qint8\", np.int8, 1)])\n",
      "/Users/lucasbaier/anaconda3/envs/taxiData/lib/python3.7/site-packages/tensorflow/python/framework/dtypes.py:517: FutureWarning: Passing (type, 1) or '1type' as a synonym of type is deprecated; in a future version of numpy, it will be understood as (type, (1,)) / '(1,)type'.\n",
      "  _np_quint8 = np.dtype([(\"quint8\", np.uint8, 1)])\n",
      "/Users/lucasbaier/anaconda3/envs/taxiData/lib/python3.7/site-packages/tensorflow/python/framework/dtypes.py:518: FutureWarning: Passing (type, 1) or '1type' as a synonym of type is deprecated; in a future version of numpy, it will be understood as (type, (1,)) / '(1,)type'.\n",
      "  _np_qint16 = np.dtype([(\"qint16\", np.int16, 1)])\n",
      "/Users/lucasbaier/anaconda3/envs/taxiData/lib/python3.7/site-packages/tensorflow/python/framework/dtypes.py:519: FutureWarning: Passing (type, 1) or '1type' as a synonym of type is deprecated; in a future version of numpy, it will be understood as (type, (1,)) / '(1,)type'.\n",
      "  _np_quint16 = np.dtype([(\"quint16\", np.uint16, 1)])\n",
      "/Users/lucasbaier/anaconda3/envs/taxiData/lib/python3.7/site-packages/tensorflow/python/framework/dtypes.py:520: FutureWarning: Passing (type, 1) or '1type' as a synonym of type is deprecated; in a future version of numpy, it will be understood as (type, (1,)) / '(1,)type'.\n",
      "  _np_qint32 = np.dtype([(\"qint32\", np.int32, 1)])\n",
      "/Users/lucasbaier/anaconda3/envs/taxiData/lib/python3.7/site-packages/tensorflow/python/framework/dtypes.py:525: FutureWarning: Passing (type, 1) or '1type' as a synonym of type is deprecated; in a future version of numpy, it will be understood as (type, (1,)) / '(1,)type'.\n",
      "  np_resource = np.dtype([(\"resource\", np.ubyte, 1)])\n",
      "/Users/lucasbaier/anaconda3/envs/taxiData/lib/python3.7/site-packages/tensorboard/compat/tensorflow_stub/dtypes.py:541: FutureWarning: Passing (type, 1) or '1type' as a synonym of type is deprecated; in a future version of numpy, it will be understood as (type, (1,)) / '(1,)type'.\n",
      "  _np_qint8 = np.dtype([(\"qint8\", np.int8, 1)])\n",
      "/Users/lucasbaier/anaconda3/envs/taxiData/lib/python3.7/site-packages/tensorboard/compat/tensorflow_stub/dtypes.py:542: FutureWarning: Passing (type, 1) or '1type' as a synonym of type is deprecated; in a future version of numpy, it will be understood as (type, (1,)) / '(1,)type'.\n",
      "  _np_quint8 = np.dtype([(\"quint8\", np.uint8, 1)])\n",
      "/Users/lucasbaier/anaconda3/envs/taxiData/lib/python3.7/site-packages/tensorboard/compat/tensorflow_stub/dtypes.py:543: FutureWarning: Passing (type, 1) or '1type' as a synonym of type is deprecated; in a future version of numpy, it will be understood as (type, (1,)) / '(1,)type'.\n",
      "  _np_qint16 = np.dtype([(\"qint16\", np.int16, 1)])\n",
      "/Users/lucasbaier/anaconda3/envs/taxiData/lib/python3.7/site-packages/tensorboard/compat/tensorflow_stub/dtypes.py:544: FutureWarning: Passing (type, 1) or '1type' as a synonym of type is deprecated; in a future version of numpy, it will be understood as (type, (1,)) / '(1,)type'.\n",
      "  _np_quint16 = np.dtype([(\"quint16\", np.uint16, 1)])\n",
      "/Users/lucasbaier/anaconda3/envs/taxiData/lib/python3.7/site-packages/tensorboard/compat/tensorflow_stub/dtypes.py:545: FutureWarning: Passing (type, 1) or '1type' as a synonym of type is deprecated; in a future version of numpy, it will be understood as (type, (1,)) / '(1,)type'.\n",
      "  _np_qint32 = np.dtype([(\"qint32\", np.int32, 1)])\n",
      "/Users/lucasbaier/anaconda3/envs/taxiData/lib/python3.7/site-packages/tensorboard/compat/tensorflow_stub/dtypes.py:550: FutureWarning: Passing (type, 1) or '1type' as a synonym of type is deprecated; in a future version of numpy, it will be understood as (type, (1,)) / '(1,)type'.\n",
      "  np_resource = np.dtype([(\"resource\", np.ubyte, 1)])\n"
     ]
    },
    {
     "data": {
      "text/html": [
       "\n",
       "    <div class=\"bk-root\">\n",
       "        <a href=\"https://bokeh.org\" target=\"_blank\" class=\"bk-logo bk-logo-small bk-logo-notebook\"></a>\n",
       "        <span id=\"1001\">Loading BokehJS ...</span>\n",
       "    </div>"
      ]
     },
     "metadata": {},
     "output_type": "display_data"
    },
    {
     "data": {
      "application/javascript": [
       "\n",
       "(function(root) {\n",
       "  function now() {\n",
       "    return new Date();\n",
       "  }\n",
       "\n",
       "  var force = true;\n",
       "\n",
       "  if (typeof root._bokeh_onload_callbacks === \"undefined\" || force === true) {\n",
       "    root._bokeh_onload_callbacks = [];\n",
       "    root._bokeh_is_loading = undefined;\n",
       "  }\n",
       "\n",
       "  var JS_MIME_TYPE = 'application/javascript';\n",
       "  var HTML_MIME_TYPE = 'text/html';\n",
       "  var EXEC_MIME_TYPE = 'application/vnd.bokehjs_exec.v0+json';\n",
       "  var CLASS_NAME = 'output_bokeh rendered_html';\n",
       "\n",
       "  /**\n",
       "   * Render data to the DOM node\n",
       "   */\n",
       "  function render(props, node) {\n",
       "    var script = document.createElement(\"script\");\n",
       "    node.appendChild(script);\n",
       "  }\n",
       "\n",
       "  /**\n",
       "   * Handle when an output is cleared or removed\n",
       "   */\n",
       "  function handleClearOutput(event, handle) {\n",
       "    var cell = handle.cell;\n",
       "\n",
       "    var id = cell.output_area._bokeh_element_id;\n",
       "    var server_id = cell.output_area._bokeh_server_id;\n",
       "    // Clean up Bokeh references\n",
       "    if (id != null && id in Bokeh.index) {\n",
       "      Bokeh.index[id].model.document.clear();\n",
       "      delete Bokeh.index[id];\n",
       "    }\n",
       "\n",
       "    if (server_id !== undefined) {\n",
       "      // Clean up Bokeh references\n",
       "      var cmd = \"from bokeh.io.state import curstate; print(curstate().uuid_to_server['\" + server_id + \"'].get_sessions()[0].document.roots[0]._id)\";\n",
       "      cell.notebook.kernel.execute(cmd, {\n",
       "        iopub: {\n",
       "          output: function(msg) {\n",
       "            var id = msg.content.text.trim();\n",
       "            if (id in Bokeh.index) {\n",
       "              Bokeh.index[id].model.document.clear();\n",
       "              delete Bokeh.index[id];\n",
       "            }\n",
       "          }\n",
       "        }\n",
       "      });\n",
       "      // Destroy server and session\n",
       "      var cmd = \"import bokeh.io.notebook as ion; ion.destroy_server('\" + server_id + \"')\";\n",
       "      cell.notebook.kernel.execute(cmd);\n",
       "    }\n",
       "  }\n",
       "\n",
       "  /**\n",
       "   * Handle when a new output is added\n",
       "   */\n",
       "  function handleAddOutput(event, handle) {\n",
       "    var output_area = handle.output_area;\n",
       "    var output = handle.output;\n",
       "\n",
       "    // limit handleAddOutput to display_data with EXEC_MIME_TYPE content only\n",
       "    if ((output.output_type != \"display_data\") || (!output.data.hasOwnProperty(EXEC_MIME_TYPE))) {\n",
       "      return\n",
       "    }\n",
       "\n",
       "    var toinsert = output_area.element.find(\".\" + CLASS_NAME.split(' ')[0]);\n",
       "\n",
       "    if (output.metadata[EXEC_MIME_TYPE][\"id\"] !== undefined) {\n",
       "      toinsert[toinsert.length - 1].firstChild.textContent = output.data[JS_MIME_TYPE];\n",
       "      // store reference to embed id on output_area\n",
       "      output_area._bokeh_element_id = output.metadata[EXEC_MIME_TYPE][\"id\"];\n",
       "    }\n",
       "    if (output.metadata[EXEC_MIME_TYPE][\"server_id\"] !== undefined) {\n",
       "      var bk_div = document.createElement(\"div\");\n",
       "      bk_div.innerHTML = output.data[HTML_MIME_TYPE];\n",
       "      var script_attrs = bk_div.children[0].attributes;\n",
       "      for (var i = 0; i < script_attrs.length; i++) {\n",
       "        toinsert[toinsert.length - 1].firstChild.setAttribute(script_attrs[i].name, script_attrs[i].value);\n",
       "      }\n",
       "      // store reference to server id on output_area\n",
       "      output_area._bokeh_server_id = output.metadata[EXEC_MIME_TYPE][\"server_id\"];\n",
       "    }\n",
       "  }\n",
       "\n",
       "  function register_renderer(events, OutputArea) {\n",
       "\n",
       "    function append_mime(data, metadata, element) {\n",
       "      // create a DOM node to render to\n",
       "      var toinsert = this.create_output_subarea(\n",
       "        metadata,\n",
       "        CLASS_NAME,\n",
       "        EXEC_MIME_TYPE\n",
       "      );\n",
       "      this.keyboard_manager.register_events(toinsert);\n",
       "      // Render to node\n",
       "      var props = {data: data, metadata: metadata[EXEC_MIME_TYPE]};\n",
       "      render(props, toinsert[toinsert.length - 1]);\n",
       "      element.append(toinsert);\n",
       "      return toinsert\n",
       "    }\n",
       "\n",
       "    /* Handle when an output is cleared or removed */\n",
       "    events.on('clear_output.CodeCell', handleClearOutput);\n",
       "    events.on('delete.Cell', handleClearOutput);\n",
       "\n",
       "    /* Handle when a new output is added */\n",
       "    events.on('output_added.OutputArea', handleAddOutput);\n",
       "\n",
       "    /**\n",
       "     * Register the mime type and append_mime function with output_area\n",
       "     */\n",
       "    OutputArea.prototype.register_mime_type(EXEC_MIME_TYPE, append_mime, {\n",
       "      /* Is output safe? */\n",
       "      safe: true,\n",
       "      /* Index of renderer in `output_area.display_order` */\n",
       "      index: 0\n",
       "    });\n",
       "  }\n",
       "\n",
       "  // register the mime type if in Jupyter Notebook environment and previously unregistered\n",
       "  if (root.Jupyter !== undefined) {\n",
       "    var events = require('base/js/events');\n",
       "    var OutputArea = require('notebook/js/outputarea').OutputArea;\n",
       "\n",
       "    if (OutputArea.prototype.mime_types().indexOf(EXEC_MIME_TYPE) == -1) {\n",
       "      register_renderer(events, OutputArea);\n",
       "    }\n",
       "  }\n",
       "\n",
       "  \n",
       "  if (typeof (root._bokeh_timeout) === \"undefined\" || force === true) {\n",
       "    root._bokeh_timeout = Date.now() + 5000;\n",
       "    root._bokeh_failed_load = false;\n",
       "  }\n",
       "\n",
       "  var NB_LOAD_WARNING = {'data': {'text/html':\n",
       "     \"<div style='background-color: #fdd'>\\n\"+\n",
       "     \"<p>\\n\"+\n",
       "     \"BokehJS does not appear to have successfully loaded. If loading BokehJS from CDN, this \\n\"+\n",
       "     \"may be due to a slow or bad network connection. Possible fixes:\\n\"+\n",
       "     \"</p>\\n\"+\n",
       "     \"<ul>\\n\"+\n",
       "     \"<li>re-rerun `output_notebook()` to attempt to load from CDN again, or</li>\\n\"+\n",
       "     \"<li>use INLINE resources instead, as so:</li>\\n\"+\n",
       "     \"</ul>\\n\"+\n",
       "     \"<code>\\n\"+\n",
       "     \"from bokeh.resources import INLINE\\n\"+\n",
       "     \"output_notebook(resources=INLINE)\\n\"+\n",
       "     \"</code>\\n\"+\n",
       "     \"</div>\"}};\n",
       "\n",
       "  function display_loaded() {\n",
       "    var el = document.getElementById(\"1001\");\n",
       "    if (el != null) {\n",
       "      el.textContent = \"BokehJS is loading...\";\n",
       "    }\n",
       "    if (root.Bokeh !== undefined) {\n",
       "      if (el != null) {\n",
       "        el.textContent = \"BokehJS \" + root.Bokeh.version + \" successfully loaded.\";\n",
       "      }\n",
       "    } else if (Date.now() < root._bokeh_timeout) {\n",
       "      setTimeout(display_loaded, 100)\n",
       "    }\n",
       "  }\n",
       "\n",
       "\n",
       "  function run_callbacks() {\n",
       "    try {\n",
       "      root._bokeh_onload_callbacks.forEach(function(callback) {\n",
       "        if (callback != null)\n",
       "          callback();\n",
       "      });\n",
       "    } finally {\n",
       "      delete root._bokeh_onload_callbacks\n",
       "    }\n",
       "    console.debug(\"Bokeh: all callbacks have finished\");\n",
       "  }\n",
       "\n",
       "  function load_libs(css_urls, js_urls, callback) {\n",
       "    if (css_urls == null) css_urls = [];\n",
       "    if (js_urls == null) js_urls = [];\n",
       "\n",
       "    root._bokeh_onload_callbacks.push(callback);\n",
       "    if (root._bokeh_is_loading > 0) {\n",
       "      console.debug(\"Bokeh: BokehJS is being loaded, scheduling callback at\", now());\n",
       "      return null;\n",
       "    }\n",
       "    if (js_urls == null || js_urls.length === 0) {\n",
       "      run_callbacks();\n",
       "      return null;\n",
       "    }\n",
       "    console.debug(\"Bokeh: BokehJS not loaded, scheduling load and callback at\", now());\n",
       "    root._bokeh_is_loading = css_urls.length + js_urls.length;\n",
       "\n",
       "    function on_load() {\n",
       "      root._bokeh_is_loading--;\n",
       "      if (root._bokeh_is_loading === 0) {\n",
       "        console.debug(\"Bokeh: all BokehJS libraries/stylesheets loaded\");\n",
       "        run_callbacks()\n",
       "      }\n",
       "    }\n",
       "\n",
       "    function on_error() {\n",
       "      console.error(\"failed to load \" + url);\n",
       "    }\n",
       "\n",
       "    for (var i = 0; i < css_urls.length; i++) {\n",
       "      var url = css_urls[i];\n",
       "      const element = document.createElement(\"link\");\n",
       "      element.onload = on_load;\n",
       "      element.onerror = on_error;\n",
       "      element.rel = \"stylesheet\";\n",
       "      element.type = \"text/css\";\n",
       "      element.href = url;\n",
       "      console.debug(\"Bokeh: injecting link tag for BokehJS stylesheet: \", url);\n",
       "      document.body.appendChild(element);\n",
       "    }\n",
       "\n",
       "    for (var i = 0; i < js_urls.length; i++) {\n",
       "      var url = js_urls[i];\n",
       "      var element = document.createElement('script');\n",
       "      element.onload = on_load;\n",
       "      element.onerror = on_error;\n",
       "      element.async = false;\n",
       "      element.src = url;\n",
       "      console.debug(\"Bokeh: injecting script tag for BokehJS library: \", url);\n",
       "      document.head.appendChild(element);\n",
       "    }\n",
       "  };var element = document.getElementById(\"1001\");\n",
       "  if (element == null) {\n",
       "    console.error(\"Bokeh: ERROR: autoload.js configured with elementid '1001' but no matching script tag was found. \")\n",
       "    return false;\n",
       "  }\n",
       "\n",
       "  function inject_raw_css(css) {\n",
       "    const element = document.createElement(\"style\");\n",
       "    element.appendChild(document.createTextNode(css));\n",
       "    document.body.appendChild(element);\n",
       "  }\n",
       "\n",
       "  \n",
       "  var js_urls = [\"https://cdn.pydata.org/bokeh/release/bokeh-1.4.0.min.js\", \"https://cdn.pydata.org/bokeh/release/bokeh-widgets-1.4.0.min.js\", \"https://cdn.pydata.org/bokeh/release/bokeh-tables-1.4.0.min.js\", \"https://cdn.pydata.org/bokeh/release/bokeh-gl-1.4.0.min.js\"];\n",
       "  var css_urls = [];\n",
       "  \n",
       "\n",
       "  var inline_js = [\n",
       "    function(Bokeh) {\n",
       "      Bokeh.set_log_level(\"info\");\n",
       "    },\n",
       "    function(Bokeh) {\n",
       "    \n",
       "    \n",
       "    }\n",
       "  ];\n",
       "\n",
       "  function run_inline_js() {\n",
       "    \n",
       "    if (root.Bokeh !== undefined || force === true) {\n",
       "      \n",
       "    for (var i = 0; i < inline_js.length; i++) {\n",
       "      inline_js[i].call(root, root.Bokeh);\n",
       "    }\n",
       "    if (force === true) {\n",
       "        display_loaded();\n",
       "      }} else if (Date.now() < root._bokeh_timeout) {\n",
       "      setTimeout(run_inline_js, 100);\n",
       "    } else if (!root._bokeh_failed_load) {\n",
       "      console.log(\"Bokeh: BokehJS failed to load within specified timeout.\");\n",
       "      root._bokeh_failed_load = true;\n",
       "    } else if (force !== true) {\n",
       "      var cell = $(document.getElementById(\"1001\")).parents('.cell').data().cell;\n",
       "      cell.output_area.append_execute_result(NB_LOAD_WARNING)\n",
       "    }\n",
       "\n",
       "  }\n",
       "\n",
       "  if (root._bokeh_is_loading === 0) {\n",
       "    console.debug(\"Bokeh: BokehJS loaded, going straight to plotting\");\n",
       "    run_inline_js();\n",
       "  } else {\n",
       "    load_libs(css_urls, js_urls, function() {\n",
       "      console.debug(\"Bokeh: BokehJS plotting callback run at\", now());\n",
       "      run_inline_js();\n",
       "    });\n",
       "  }\n",
       "}(window));"
      ],
      "application/vnd.bokehjs_load.v0+json": "\n(function(root) {\n  function now() {\n    return new Date();\n  }\n\n  var force = true;\n\n  if (typeof root._bokeh_onload_callbacks === \"undefined\" || force === true) {\n    root._bokeh_onload_callbacks = [];\n    root._bokeh_is_loading = undefined;\n  }\n\n  \n\n  \n  if (typeof (root._bokeh_timeout) === \"undefined\" || force === true) {\n    root._bokeh_timeout = Date.now() + 5000;\n    root._bokeh_failed_load = false;\n  }\n\n  var NB_LOAD_WARNING = {'data': {'text/html':\n     \"<div style='background-color: #fdd'>\\n\"+\n     \"<p>\\n\"+\n     \"BokehJS does not appear to have successfully loaded. If loading BokehJS from CDN, this \\n\"+\n     \"may be due to a slow or bad network connection. Possible fixes:\\n\"+\n     \"</p>\\n\"+\n     \"<ul>\\n\"+\n     \"<li>re-rerun `output_notebook()` to attempt to load from CDN again, or</li>\\n\"+\n     \"<li>use INLINE resources instead, as so:</li>\\n\"+\n     \"</ul>\\n\"+\n     \"<code>\\n\"+\n     \"from bokeh.resources import INLINE\\n\"+\n     \"output_notebook(resources=INLINE)\\n\"+\n     \"</code>\\n\"+\n     \"</div>\"}};\n\n  function display_loaded() {\n    var el = document.getElementById(\"1001\");\n    if (el != null) {\n      el.textContent = \"BokehJS is loading...\";\n    }\n    if (root.Bokeh !== undefined) {\n      if (el != null) {\n        el.textContent = \"BokehJS \" + root.Bokeh.version + \" successfully loaded.\";\n      }\n    } else if (Date.now() < root._bokeh_timeout) {\n      setTimeout(display_loaded, 100)\n    }\n  }\n\n\n  function run_callbacks() {\n    try {\n      root._bokeh_onload_callbacks.forEach(function(callback) {\n        if (callback != null)\n          callback();\n      });\n    } finally {\n      delete root._bokeh_onload_callbacks\n    }\n    console.debug(\"Bokeh: all callbacks have finished\");\n  }\n\n  function load_libs(css_urls, js_urls, callback) {\n    if (css_urls == null) css_urls = [];\n    if (js_urls == null) js_urls = [];\n\n    root._bokeh_onload_callbacks.push(callback);\n    if (root._bokeh_is_loading > 0) {\n      console.debug(\"Bokeh: BokehJS is being loaded, scheduling callback at\", now());\n      return null;\n    }\n    if (js_urls == null || js_urls.length === 0) {\n      run_callbacks();\n      return null;\n    }\n    console.debug(\"Bokeh: BokehJS not loaded, scheduling load and callback at\", now());\n    root._bokeh_is_loading = css_urls.length + js_urls.length;\n\n    function on_load() {\n      root._bokeh_is_loading--;\n      if (root._bokeh_is_loading === 0) {\n        console.debug(\"Bokeh: all BokehJS libraries/stylesheets loaded\");\n        run_callbacks()\n      }\n    }\n\n    function on_error() {\n      console.error(\"failed to load \" + url);\n    }\n\n    for (var i = 0; i < css_urls.length; i++) {\n      var url = css_urls[i];\n      const element = document.createElement(\"link\");\n      element.onload = on_load;\n      element.onerror = on_error;\n      element.rel = \"stylesheet\";\n      element.type = \"text/css\";\n      element.href = url;\n      console.debug(\"Bokeh: injecting link tag for BokehJS stylesheet: \", url);\n      document.body.appendChild(element);\n    }\n\n    for (var i = 0; i < js_urls.length; i++) {\n      var url = js_urls[i];\n      var element = document.createElement('script');\n      element.onload = on_load;\n      element.onerror = on_error;\n      element.async = false;\n      element.src = url;\n      console.debug(\"Bokeh: injecting script tag for BokehJS library: \", url);\n      document.head.appendChild(element);\n    }\n  };var element = document.getElementById(\"1001\");\n  if (element == null) {\n    console.error(\"Bokeh: ERROR: autoload.js configured with elementid '1001' but no matching script tag was found. \")\n    return false;\n  }\n\n  function inject_raw_css(css) {\n    const element = document.createElement(\"style\");\n    element.appendChild(document.createTextNode(css));\n    document.body.appendChild(element);\n  }\n\n  \n  var js_urls = [\"https://cdn.pydata.org/bokeh/release/bokeh-1.4.0.min.js\", \"https://cdn.pydata.org/bokeh/release/bokeh-widgets-1.4.0.min.js\", \"https://cdn.pydata.org/bokeh/release/bokeh-tables-1.4.0.min.js\", \"https://cdn.pydata.org/bokeh/release/bokeh-gl-1.4.0.min.js\"];\n  var css_urls = [];\n  \n\n  var inline_js = [\n    function(Bokeh) {\n      Bokeh.set_log_level(\"info\");\n    },\n    function(Bokeh) {\n    \n    \n    }\n  ];\n\n  function run_inline_js() {\n    \n    if (root.Bokeh !== undefined || force === true) {\n      \n    for (var i = 0; i < inline_js.length; i++) {\n      inline_js[i].call(root, root.Bokeh);\n    }\n    if (force === true) {\n        display_loaded();\n      }} else if (Date.now() < root._bokeh_timeout) {\n      setTimeout(run_inline_js, 100);\n    } else if (!root._bokeh_failed_load) {\n      console.log(\"Bokeh: BokehJS failed to load within specified timeout.\");\n      root._bokeh_failed_load = true;\n    } else if (force !== true) {\n      var cell = $(document.getElementById(\"1001\")).parents('.cell').data().cell;\n      cell.output_area.append_execute_result(NB_LOAD_WARNING)\n    }\n\n  }\n\n  if (root._bokeh_is_loading === 0) {\n    console.debug(\"Bokeh: BokehJS loaded, going straight to plotting\");\n    run_inline_js();\n  } else {\n    load_libs(css_urls, js_urls, function() {\n      console.debug(\"Bokeh: BokehJS plotting callback run at\", now());\n      run_inline_js();\n    });\n  }\n}(window));"
     },
     "metadata": {},
     "output_type": "display_data"
    }
   ],
   "source": [
    "import pandas as pd\n",
    "import numpy as np\n",
    "import sys\n",
    "sys.path.append('../')\n",
    "\n",
    "from src.data import util\n",
    "from src.models import dm_test\n",
    "from joblib import load, dump\n",
    "import pickle\n",
    "import matplotlib.pyplot as plt\n",
    "from six.moves import zip\n",
    "from bokeh.plotting import figure, show, output_notebook, ColumnDataSource\n",
    "\n",
    "output_notebook()"
   ]
  },
  {
   "cell_type": "code",
   "execution_count": 2,
   "metadata": {
    "ExecuteTime": {
     "end_time": "2020-02-21T09:27:35.519142Z",
     "start_time": "2020-02-21T09:27:35.396842Z"
    }
   },
   "outputs": [],
   "source": [
    "with open('../results/all_predictions.pickle', 'rb') as handle:\n",
    "    predictions = pickle.load(handle)\n",
    "    \n",
    "with open('../results/all_eia_predictions.pickle', 'rb') as handle:\n",
    "    eia = pickle.load(handle)"
   ]
  },
  {
   "cell_type": "code",
   "execution_count": 3,
   "metadata": {
    "ExecuteTime": {
     "end_time": "2020-02-21T08:50:24.068401Z",
     "start_time": "2020-02-21T08:50:23.843545Z"
    }
   },
   "outputs": [],
   "source": [
    "df = util.read_all(show=False)\n",
    "regions = util.largest(20)\n",
    "br = df[regions].sum(axis = 0).idxmax()"
   ]
  },
  {
   "cell_type": "code",
   "execution_count": 4,
   "metadata": {
    "ExecuteTime": {
     "end_time": "2020-02-21T09:29:56.217975Z",
     "start_time": "2020-02-21T09:29:56.214138Z"
    }
   },
   "outputs": [],
   "source": [
    "pred_ne = predictions['yearly_training_no_weather_3y']\n",
    "pred_w_h = predictions['yearly_training_weather_h_3y']"
   ]
  },
  {
   "cell_type": "code",
   "execution_count": 5,
   "metadata": {
    "ExecuteTime": {
     "end_time": "2020-02-21T09:29:56.601773Z",
     "start_time": "2020-02-21T09:29:56.595981Z"
    }
   },
   "outputs": [],
   "source": [
    "eia_ne = eia['yearly_training_no_weather_3y']\n",
    "eia_w_h = eia['yearly_training_weather_h_3y']"
   ]
  },
  {
   "cell_type": "code",
   "execution_count": 17,
   "metadata": {
    "ExecuteTime": {
     "end_time": "2020-02-21T09:01:09.886175Z",
     "start_time": "2020-02-21T09:01:09.873426Z"
    }
   },
   "outputs": [],
   "source": [
    "#pred_ne = pred_ne[br]\n",
    "#pred_w_h = pred_w_h[br]\n",
    "#real = df[br].loc[pred_ne.index]"
   ]
  },
  {
   "cell_type": "code",
   "execution_count": 6,
   "metadata": {},
   "outputs": [
    {
     "data": {
      "text/html": [
       "<div>\n",
       "<style scoped>\n",
       "    .dataframe tbody tr th:only-of-type {\n",
       "        vertical-align: middle;\n",
       "    }\n",
       "\n",
       "    .dataframe tbody tr th {\n",
       "        vertical-align: top;\n",
       "    }\n",
       "\n",
       "    .dataframe thead th {\n",
       "        text-align: right;\n",
       "    }\n",
       "</style>\n",
       "<table border=\"1\" class=\"dataframe\">\n",
       "  <thead>\n",
       "    <tr style=\"text-align: right;\">\n",
       "      <th>region</th>\n",
       "      <th>48</th>\n",
       "      <th>68</th>\n",
       "      <th>79</th>\n",
       "      <th>90</th>\n",
       "      <th>107</th>\n",
       "      <th>138</th>\n",
       "      <th>141</th>\n",
       "      <th>142</th>\n",
       "      <th>161</th>\n",
       "      <th>162</th>\n",
       "      <th>163</th>\n",
       "      <th>164</th>\n",
       "      <th>170</th>\n",
       "      <th>186</th>\n",
       "      <th>230</th>\n",
       "      <th>234</th>\n",
       "      <th>236</th>\n",
       "      <th>237</th>\n",
       "      <th>239</th>\n",
       "      <th>249</th>\n",
       "    </tr>\n",
       "    <tr>\n",
       "      <th>date</th>\n",
       "      <th></th>\n",
       "      <th></th>\n",
       "      <th></th>\n",
       "      <th></th>\n",
       "      <th></th>\n",
       "      <th></th>\n",
       "      <th></th>\n",
       "      <th></th>\n",
       "      <th></th>\n",
       "      <th></th>\n",
       "      <th></th>\n",
       "      <th></th>\n",
       "      <th></th>\n",
       "      <th></th>\n",
       "      <th></th>\n",
       "      <th></th>\n",
       "      <th></th>\n",
       "      <th></th>\n",
       "      <th></th>\n",
       "      <th></th>\n",
       "    </tr>\n",
       "  </thead>\n",
       "  <tbody>\n",
       "    <tr>\n",
       "      <th>2012-01-01 00:00:00-05:00</th>\n",
       "      <td>880.742766</td>\n",
       "      <td>693.159747</td>\n",
       "      <td>1116.630006</td>\n",
       "      <td>549.921000</td>\n",
       "      <td>845.698499</td>\n",
       "      <td>93.983403</td>\n",
       "      <td>501.787744</td>\n",
       "      <td>613.672704</td>\n",
       "      <td>371.947544</td>\n",
       "      <td>366.344589</td>\n",
       "      <td>305.267030</td>\n",
       "      <td>469.531124</td>\n",
       "      <td>644.787654</td>\n",
       "      <td>387.761510</td>\n",
       "      <td>176.773378</td>\n",
       "      <td>639.582946</td>\n",
       "      <td>446.092110</td>\n",
       "      <td>419.958563</td>\n",
       "      <td>503.322732</td>\n",
       "      <td>669.394584</td>\n",
       "    </tr>\n",
       "    <tr>\n",
       "      <th>2012-01-01 01:00:00-05:00</th>\n",
       "      <td>520.907053</td>\n",
       "      <td>590.018093</td>\n",
       "      <td>449.913862</td>\n",
       "      <td>390.894161</td>\n",
       "      <td>574.517266</td>\n",
       "      <td>5.715500</td>\n",
       "      <td>385.837442</td>\n",
       "      <td>292.446883</td>\n",
       "      <td>274.884322</td>\n",
       "      <td>248.573180</td>\n",
       "      <td>231.048036</td>\n",
       "      <td>438.113798</td>\n",
       "      <td>504.408962</td>\n",
       "      <td>295.552251</td>\n",
       "      <td>94.835440</td>\n",
       "      <td>515.715626</td>\n",
       "      <td>274.757649</td>\n",
       "      <td>290.327032</td>\n",
       "      <td>332.181070</td>\n",
       "      <td>373.930470</td>\n",
       "    </tr>\n",
       "    <tr>\n",
       "      <th>2012-01-01 02:00:00-05:00</th>\n",
       "      <td>384.541484</td>\n",
       "      <td>469.363647</td>\n",
       "      <td>471.642291</td>\n",
       "      <td>286.459015</td>\n",
       "      <td>506.441011</td>\n",
       "      <td>-13.355533</td>\n",
       "      <td>353.552855</td>\n",
       "      <td>192.030461</td>\n",
       "      <td>170.625939</td>\n",
       "      <td>237.957948</td>\n",
       "      <td>193.549179</td>\n",
       "      <td>352.885829</td>\n",
       "      <td>482.598655</td>\n",
       "      <td>262.000171</td>\n",
       "      <td>78.348335</td>\n",
       "      <td>334.767862</td>\n",
       "      <td>241.756882</td>\n",
       "      <td>261.557145</td>\n",
       "      <td>336.954738</td>\n",
       "      <td>324.639988</td>\n",
       "    </tr>\n",
       "    <tr>\n",
       "      <th>2012-01-01 03:00:00-05:00</th>\n",
       "      <td>370.096473</td>\n",
       "      <td>355.170072</td>\n",
       "      <td>539.747875</td>\n",
       "      <td>214.354042</td>\n",
       "      <td>426.762471</td>\n",
       "      <td>-1.299149</td>\n",
       "      <td>286.573021</td>\n",
       "      <td>171.687014</td>\n",
       "      <td>133.377895</td>\n",
       "      <td>217.354723</td>\n",
       "      <td>146.084465</td>\n",
       "      <td>269.825156</td>\n",
       "      <td>361.143932</td>\n",
       "      <td>204.455973</td>\n",
       "      <td>83.129122</td>\n",
       "      <td>210.415266</td>\n",
       "      <td>173.056571</td>\n",
       "      <td>145.243891</td>\n",
       "      <td>258.252286</td>\n",
       "      <td>267.202795</td>\n",
       "    </tr>\n",
       "    <tr>\n",
       "      <th>2012-01-01 04:00:00-05:00</th>\n",
       "      <td>412.598129</td>\n",
       "      <td>235.129991</td>\n",
       "      <td>538.269067</td>\n",
       "      <td>144.835612</td>\n",
       "      <td>330.625938</td>\n",
       "      <td>-3.357577</td>\n",
       "      <td>209.168063</td>\n",
       "      <td>123.021741</td>\n",
       "      <td>117.645465</td>\n",
       "      <td>151.098137</td>\n",
       "      <td>133.872607</td>\n",
       "      <td>224.197941</td>\n",
       "      <td>261.554251</td>\n",
       "      <td>163.461495</td>\n",
       "      <td>192.639725</td>\n",
       "      <td>154.836665</td>\n",
       "      <td>80.663203</td>\n",
       "      <td>86.764356</td>\n",
       "      <td>172.989762</td>\n",
       "      <td>180.505792</td>\n",
       "    </tr>\n",
       "    <tr>\n",
       "      <th>...</th>\n",
       "      <td>...</td>\n",
       "      <td>...</td>\n",
       "      <td>...</td>\n",
       "      <td>...</td>\n",
       "      <td>...</td>\n",
       "      <td>...</td>\n",
       "      <td>...</td>\n",
       "      <td>...</td>\n",
       "      <td>...</td>\n",
       "      <td>...</td>\n",
       "      <td>...</td>\n",
       "      <td>...</td>\n",
       "      <td>...</td>\n",
       "      <td>...</td>\n",
       "      <td>...</td>\n",
       "      <td>...</td>\n",
       "      <td>...</td>\n",
       "      <td>...</td>\n",
       "      <td>...</td>\n",
       "      <td>...</td>\n",
       "    </tr>\n",
       "    <tr>\n",
       "      <th>2018-06-30 19:00:00-04:00</th>\n",
       "      <td>547.374249</td>\n",
       "      <td>409.369859</td>\n",
       "      <td>448.047386</td>\n",
       "      <td>308.711991</td>\n",
       "      <td>361.922535</td>\n",
       "      <td>235.095511</td>\n",
       "      <td>353.397717</td>\n",
       "      <td>525.683246</td>\n",
       "      <td>549.557637</td>\n",
       "      <td>434.929786</td>\n",
       "      <td>422.498993</td>\n",
       "      <td>386.805149</td>\n",
       "      <td>458.630589</td>\n",
       "      <td>553.358071</td>\n",
       "      <td>515.272911</td>\n",
       "      <td>460.366833</td>\n",
       "      <td>409.390616</td>\n",
       "      <td>461.303613</td>\n",
       "      <td>445.510657</td>\n",
       "      <td>348.263073</td>\n",
       "    </tr>\n",
       "    <tr>\n",
       "      <th>2018-06-30 20:00:00-04:00</th>\n",
       "      <td>472.831664</td>\n",
       "      <td>375.875303</td>\n",
       "      <td>483.415932</td>\n",
       "      <td>257.322021</td>\n",
       "      <td>327.896303</td>\n",
       "      <td>210.901447</td>\n",
       "      <td>303.543770</td>\n",
       "      <td>440.108012</td>\n",
       "      <td>435.976903</td>\n",
       "      <td>381.627574</td>\n",
       "      <td>345.164359</td>\n",
       "      <td>359.637205</td>\n",
       "      <td>394.204098</td>\n",
       "      <td>435.905274</td>\n",
       "      <td>463.749862</td>\n",
       "      <td>440.505018</td>\n",
       "      <td>285.750363</td>\n",
       "      <td>331.777162</td>\n",
       "      <td>328.114262</td>\n",
       "      <td>359.470322</td>\n",
       "    </tr>\n",
       "    <tr>\n",
       "      <th>2018-06-30 21:00:00-04:00</th>\n",
       "      <td>528.153091</td>\n",
       "      <td>404.416762</td>\n",
       "      <td>524.593986</td>\n",
       "      <td>246.265255</td>\n",
       "      <td>347.551246</td>\n",
       "      <td>243.310245</td>\n",
       "      <td>262.489081</td>\n",
       "      <td>466.734308</td>\n",
       "      <td>413.029618</td>\n",
       "      <td>336.588052</td>\n",
       "      <td>278.906107</td>\n",
       "      <td>344.598152</td>\n",
       "      <td>387.962839</td>\n",
       "      <td>464.698702</td>\n",
       "      <td>499.132210</td>\n",
       "      <td>423.882580</td>\n",
       "      <td>202.790742</td>\n",
       "      <td>290.829892</td>\n",
       "      <td>333.275622</td>\n",
       "      <td>408.594326</td>\n",
       "    </tr>\n",
       "    <tr>\n",
       "      <th>2018-06-30 22:00:00-04:00</th>\n",
       "      <td>696.633289</td>\n",
       "      <td>399.605528</td>\n",
       "      <td>674.277921</td>\n",
       "      <td>266.220085</td>\n",
       "      <td>408.094851</td>\n",
       "      <td>251.991465</td>\n",
       "      <td>243.911383</td>\n",
       "      <td>542.133329</td>\n",
       "      <td>473.855949</td>\n",
       "      <td>317.666392</td>\n",
       "      <td>314.940043</td>\n",
       "      <td>417.953767</td>\n",
       "      <td>384.310537</td>\n",
       "      <td>469.747158</td>\n",
       "      <td>773.974981</td>\n",
       "      <td>473.703711</td>\n",
       "      <td>180.626989</td>\n",
       "      <td>274.663908</td>\n",
       "      <td>338.852429</td>\n",
       "      <td>478.607756</td>\n",
       "    </tr>\n",
       "    <tr>\n",
       "      <th>2018-06-30 23:00:00-04:00</th>\n",
       "      <td>691.699344</td>\n",
       "      <td>396.794573</td>\n",
       "      <td>766.615607</td>\n",
       "      <td>259.780094</td>\n",
       "      <td>384.556878</td>\n",
       "      <td>237.155014</td>\n",
       "      <td>205.508983</td>\n",
       "      <td>475.174152</td>\n",
       "      <td>428.713638</td>\n",
       "      <td>299.622499</td>\n",
       "      <td>288.255894</td>\n",
       "      <td>465.698917</td>\n",
       "      <td>394.097054</td>\n",
       "      <td>441.055906</td>\n",
       "      <td>722.889214</td>\n",
       "      <td>470.758630</td>\n",
       "      <td>137.132051</td>\n",
       "      <td>208.218940</td>\n",
       "      <td>252.677025</td>\n",
       "      <td>488.197908</td>\n",
       "    </tr>\n",
       "  </tbody>\n",
       "</table>\n",
       "<p>56957 rows × 20 columns</p>\n",
       "</div>"
      ],
      "text/plain": [
       "region                            48          68           79          90   \\\n",
       "date                                                                         \n",
       "2012-01-01 00:00:00-05:00  880.742766  693.159747  1116.630006  549.921000   \n",
       "2012-01-01 01:00:00-05:00  520.907053  590.018093   449.913862  390.894161   \n",
       "2012-01-01 02:00:00-05:00  384.541484  469.363647   471.642291  286.459015   \n",
       "2012-01-01 03:00:00-05:00  370.096473  355.170072   539.747875  214.354042   \n",
       "2012-01-01 04:00:00-05:00  412.598129  235.129991   538.269067  144.835612   \n",
       "...                               ...         ...          ...         ...   \n",
       "2018-06-30 19:00:00-04:00  547.374249  409.369859   448.047386  308.711991   \n",
       "2018-06-30 20:00:00-04:00  472.831664  375.875303   483.415932  257.322021   \n",
       "2018-06-30 21:00:00-04:00  528.153091  404.416762   524.593986  246.265255   \n",
       "2018-06-30 22:00:00-04:00  696.633289  399.605528   674.277921  266.220085   \n",
       "2018-06-30 23:00:00-04:00  691.699344  396.794573   766.615607  259.780094   \n",
       "\n",
       "region                            107         138         141         142  \\\n",
       "date                                                                        \n",
       "2012-01-01 00:00:00-05:00  845.698499   93.983403  501.787744  613.672704   \n",
       "2012-01-01 01:00:00-05:00  574.517266    5.715500  385.837442  292.446883   \n",
       "2012-01-01 02:00:00-05:00  506.441011  -13.355533  353.552855  192.030461   \n",
       "2012-01-01 03:00:00-05:00  426.762471   -1.299149  286.573021  171.687014   \n",
       "2012-01-01 04:00:00-05:00  330.625938   -3.357577  209.168063  123.021741   \n",
       "...                               ...         ...         ...         ...   \n",
       "2018-06-30 19:00:00-04:00  361.922535  235.095511  353.397717  525.683246   \n",
       "2018-06-30 20:00:00-04:00  327.896303  210.901447  303.543770  440.108012   \n",
       "2018-06-30 21:00:00-04:00  347.551246  243.310245  262.489081  466.734308   \n",
       "2018-06-30 22:00:00-04:00  408.094851  251.991465  243.911383  542.133329   \n",
       "2018-06-30 23:00:00-04:00  384.556878  237.155014  205.508983  475.174152   \n",
       "\n",
       "region                            161         162         163         164  \\\n",
       "date                                                                        \n",
       "2012-01-01 00:00:00-05:00  371.947544  366.344589  305.267030  469.531124   \n",
       "2012-01-01 01:00:00-05:00  274.884322  248.573180  231.048036  438.113798   \n",
       "2012-01-01 02:00:00-05:00  170.625939  237.957948  193.549179  352.885829   \n",
       "2012-01-01 03:00:00-05:00  133.377895  217.354723  146.084465  269.825156   \n",
       "2012-01-01 04:00:00-05:00  117.645465  151.098137  133.872607  224.197941   \n",
       "...                               ...         ...         ...         ...   \n",
       "2018-06-30 19:00:00-04:00  549.557637  434.929786  422.498993  386.805149   \n",
       "2018-06-30 20:00:00-04:00  435.976903  381.627574  345.164359  359.637205   \n",
       "2018-06-30 21:00:00-04:00  413.029618  336.588052  278.906107  344.598152   \n",
       "2018-06-30 22:00:00-04:00  473.855949  317.666392  314.940043  417.953767   \n",
       "2018-06-30 23:00:00-04:00  428.713638  299.622499  288.255894  465.698917   \n",
       "\n",
       "region                            170         186         230         234  \\\n",
       "date                                                                        \n",
       "2012-01-01 00:00:00-05:00  644.787654  387.761510  176.773378  639.582946   \n",
       "2012-01-01 01:00:00-05:00  504.408962  295.552251   94.835440  515.715626   \n",
       "2012-01-01 02:00:00-05:00  482.598655  262.000171   78.348335  334.767862   \n",
       "2012-01-01 03:00:00-05:00  361.143932  204.455973   83.129122  210.415266   \n",
       "2012-01-01 04:00:00-05:00  261.554251  163.461495  192.639725  154.836665   \n",
       "...                               ...         ...         ...         ...   \n",
       "2018-06-30 19:00:00-04:00  458.630589  553.358071  515.272911  460.366833   \n",
       "2018-06-30 20:00:00-04:00  394.204098  435.905274  463.749862  440.505018   \n",
       "2018-06-30 21:00:00-04:00  387.962839  464.698702  499.132210  423.882580   \n",
       "2018-06-30 22:00:00-04:00  384.310537  469.747158  773.974981  473.703711   \n",
       "2018-06-30 23:00:00-04:00  394.097054  441.055906  722.889214  470.758630   \n",
       "\n",
       "region                            236         237         239         249  \n",
       "date                                                                       \n",
       "2012-01-01 00:00:00-05:00  446.092110  419.958563  503.322732  669.394584  \n",
       "2012-01-01 01:00:00-05:00  274.757649  290.327032  332.181070  373.930470  \n",
       "2012-01-01 02:00:00-05:00  241.756882  261.557145  336.954738  324.639988  \n",
       "2012-01-01 03:00:00-05:00  173.056571  145.243891  258.252286  267.202795  \n",
       "2012-01-01 04:00:00-05:00   80.663203   86.764356  172.989762  180.505792  \n",
       "...                               ...         ...         ...         ...  \n",
       "2018-06-30 19:00:00-04:00  409.390616  461.303613  445.510657  348.263073  \n",
       "2018-06-30 20:00:00-04:00  285.750363  331.777162  328.114262  359.470322  \n",
       "2018-06-30 21:00:00-04:00  202.790742  290.829892  333.275622  408.594326  \n",
       "2018-06-30 22:00:00-04:00  180.626989  274.663908  338.852429  478.607756  \n",
       "2018-06-30 23:00:00-04:00  137.132051  208.218940  252.677025  488.197908  \n",
       "\n",
       "[56957 rows x 20 columns]"
      ]
     },
     "execution_count": 6,
     "metadata": {},
     "output_type": "execute_result"
    }
   ],
   "source": [
    "pred_ne"
   ]
  },
  {
   "cell_type": "code",
   "execution_count": 7,
   "metadata": {
    "ExecuteTime": {
     "end_time": "2020-02-21T09:29:59.110389Z",
     "start_time": "2020-02-21T09:29:59.043748Z"
    }
   },
   "outputs": [],
   "source": [
    "pred_ne = pred_ne.mean(axis = 1)\n",
    "pred_w_h = pred_w_h.mean(axis = 1)\n",
    "\n",
    "eia_ne = eia_ne.mean(axis = 1)\n",
    "eia_w_h = eia_w_h.mean(axis = 1)\n",
    "\n",
    "real = df[regions].mean(axis = 1).loc[pred_ne.index]\n",
    "\n"
   ]
  },
  {
   "cell_type": "markdown",
   "metadata": {
    "ExecuteTime": {
     "end_time": "2020-02-21T09:52:42.196067Z",
     "start_time": "2020-02-21T09:52:42.183731Z"
    }
   },
   "source": [
    "df = pd.concat([pred_ne, pred_w_h, eia_ne, eia_w_h, real], axis = 1)\n",
    "df.columns = ['pred_ne', 'pred_w_h', 'eia_ne', 'eia_w_h', 'real']\n",
    "df['date_col'] = pd.to_datetime(df.index)"
   ]
  },
  {
   "cell_type": "markdown",
   "metadata": {},
   "source": [
    "**Blizzard in Jan 2015**"
   ]
  },
  {
   "cell_type": "code",
   "execution_count": 8,
   "metadata": {
    "ExecuteTime": {
     "end_time": "2020-02-21T09:52:45.660415Z",
     "start_time": "2020-02-21T09:52:45.656352Z"
    }
   },
   "outputs": [],
   "source": [
    "from bokeh.palettes import Spectral8"
   ]
  },
  {
   "cell_type": "code",
   "execution_count": 9,
   "metadata": {
    "ExecuteTime": {
     "end_time": "2020-02-21T09:59:55.068915Z",
     "start_time": "2020-02-21T09:59:54.937753Z"
    }
   },
   "outputs": [
    {
     "data": {
      "text/html": [
       "\n",
       "\n",
       "\n",
       "\n",
       "\n",
       "\n",
       "  <div class=\"bk-root\" id=\"ace2baa9-3507-483d-8726-7b7cb1789bf3\" data-root-id=\"1002\"></div>\n"
      ]
     },
     "metadata": {},
     "output_type": "display_data"
    },
    {
     "data": {
      "application/javascript": [
       "(function(root) {\n",
       "  function embed_document(root) {\n",
       "    \n",
       "  var docs_json = {\"c258d444-63bb-496c-94bc-c77f1d847c0f\":{\"roots\":{\"references\":[{\"attributes\":{\"below\":[{\"id\":\"1011\",\"type\":\"DatetimeAxis\"}],\"center\":[{\"id\":\"1015\",\"type\":\"Grid\"},{\"id\":\"1020\",\"type\":\"Grid\"},{\"id\":\"1058\",\"type\":\"Legend\"}],\"left\":[{\"id\":\"1016\",\"type\":\"LinearAxis\"}],\"plot_height\":400,\"plot_width\":800,\"renderers\":[{\"id\":\"1037\",\"type\":\"GlyphRenderer\"},{\"id\":\"1063\",\"type\":\"GlyphRenderer\"},{\"id\":\"1090\",\"type\":\"GlyphRenderer\"},{\"id\":\"1119\",\"type\":\"GlyphRenderer\"},{\"id\":\"1150\",\"type\":\"GlyphRenderer\"}],\"title\":{\"id\":\"1039\",\"type\":\"Title\"},\"toolbar\":{\"id\":\"1027\",\"type\":\"Toolbar\"},\"x_range\":{\"id\":\"1003\",\"type\":\"DataRange1d\"},\"x_scale\":{\"id\":\"1007\",\"type\":\"LinearScale\"},\"y_range\":{\"id\":\"1005\",\"type\":\"DataRange1d\"},\"y_scale\":{\"id\":\"1009\",\"type\":\"LinearScale\"}},\"id\":\"1002\",\"subtype\":\"Figure\",\"type\":\"Plot\"},{\"attributes\":{\"source\":{\"id\":\"1034\",\"type\":\"ColumnDataSource\"}},\"id\":\"1038\",\"type\":\"CDSView\"},{\"attributes\":{},\"id\":\"1143\",\"type\":\"UnionRenderers\"},{\"attributes\":{\"callback\":null},\"id\":\"1003\",\"type\":\"DataRange1d\"},{\"attributes\":{\"source\":{\"id\":\"1087\",\"type\":\"ColumnDataSource\"}},\"id\":\"1091\",\"type\":\"CDSView\"},{\"attributes\":{\"base\":24,\"mantissas\":[1,2,4,6,8,12],\"max_interval\":43200000.0,\"min_interval\":3600000.0,\"num_minor_ticks\":0},\"id\":\"1047\",\"type\":\"AdaptiveTicker\"},{\"attributes\":{\"label\":{\"value\":\"EIA weather and holidays\"},\"renderers\":[{\"id\":\"1119\",\"type\":\"GlyphRenderer\"}]},\"id\":\"1146\",\"type\":\"LegendItem\"},{\"attributes\":{\"line_color\":\"#3288bd\",\"line_width\":2,\"x\":{\"field\":\"x\"},\"y\":{\"field\":\"y\"}},\"id\":\"1035\",\"type\":\"Line\"},{\"attributes\":{\"line_color\":\"#66c2a5\",\"line_width\":2,\"x\":{\"field\":\"x\"},\"y\":{\"field\":\"y\"}},\"id\":\"1061\",\"type\":\"Line\"},{\"attributes\":{\"callback\":null,\"data\":{\"x\":{\"__ndarray__\":\"AAC4Xl6ydEIAAKDNYbJ0QgAAiDxlsnRCAABwq2iydEIAAFgabLJ0QgAAQIlvsnRCAAAo+HKydEIAABBndrJ0QgAA+NV5snRCAADgRH2ydEIAAMizgLJ0QgAAsCKEsnRCAACYkYeydEIAAIAAi7J0QgAAaG+OsnRCAABQ3pGydEIAADhNlbJ0QgAAILyYsnRCAAAIK5yydEIAAPCZn7J0QgAA2AijsnRCAADAd6aydEIAAKjmqbJ0QgAAkFWtsnRCAAB4xLCydEIAAGAztLJ0QgAASKK3snRCAAAwEbuydEIAABiAvrJ0QgAAAO/BsnRCAADoXcWydEIAANDMyLJ0QgAAuDvMsnRCAACgqs+ydEIAAIgZ07J0QgAAcIjWsnRCAABY99mydEIAAEBm3bJ0QgAAKNXgsnRCAAAQROSydEIAAPiy57J0QgAA4CHrsnRC\",\"dtype\":\"float64\",\"shape\":[42]},\"y\":{\"__ndarray__\":\"Vvn+fJb4cUD6tvHLsQ+AQMBFExSi2oNAGfYZKp+agkC60XsyA+qAQIv6IqcwG4BATic4dV2tgEAdoXK+UZOBQHfNKa/RpIFA2/9DOVhdfEBO68MS00dyQPnc0tW6i3JAmpmZmZkRZkDNzMzMzDRpQDMzMzMzS2VAMzMzMzMjYEBmZmZmZtZYQAAAAAAAoENAzczMzMzMGkBmZmZmZmYGQGZmZmZmZvI/zczMzMzM8D+amZmZmZnJP2ZmZmZmZtY/MzMzMzMz6z9mZmZmZmYIQDMzMzMzMyFAZmZmZmZmNECamZmZmRlNQAAAAAAAMFpAzczMzMycYUAzMzMzMwNlQJqZmZmZUWZAAAAAAAAoakAzMzMzM4tuQAAAAAAACHJAmpmZmZkVd0B+joRis3J/QM3MzMzMFHlAmpmZmZm5dkAzMzMzM/d3QDMzMzMzH3VA\",\"dtype\":\"float64\",\"shape\":[42]}},\"selected\":{\"id\":\"1177\",\"type\":\"Selection\"},\"selection_policy\":{\"id\":\"1176\",\"type\":\"UnionRenderers\"}},\"id\":\"1116\",\"type\":\"ColumnDataSource\"},{\"attributes\":{\"days\":[1,2,3,4,5,6,7,8,9,10,11,12,13,14,15,16,17,18,19,20,21,22,23,24,25,26,27,28,29,30,31]},\"id\":\"1048\",\"type\":\"DaysTicker\"},{\"attributes\":{},\"id\":\"1112\",\"type\":\"UnionRenderers\"},{\"attributes\":{\"callback\":null,\"data\":{\"x\":{\"__ndarray__\":\"AAC4Xl6ydEIAAKDNYbJ0QgAAiDxlsnRCAABwq2iydEIAAFgabLJ0QgAAQIlvsnRCAAAo+HKydEIAABBndrJ0QgAA+NV5snRCAADgRH2ydEIAAMizgLJ0QgAAsCKEsnRCAACYkYeydEIAAIAAi7J0QgAAaG+OsnRCAABQ3pGydEIAADhNlbJ0QgAAILyYsnRCAAAIK5yydEIAAPCZn7J0QgAA2AijsnRCAADAd6aydEIAAKjmqbJ0QgAAkFWtsnRCAAB4xLCydEIAAGAztLJ0QgAASKK3snRCAAAwEbuydEIAABiAvrJ0QgAAAO/BsnRCAADoXcWydEIAANDMyLJ0QgAAuDvMsnRCAACgqs+ydEIAAIgZ07J0QgAAcIjWsnRCAABY99mydEIAAEBm3bJ0QgAAKNXgsnRCAAAQROSydEIAAPiy57J0QgAA4CHrsnRC\",\"dtype\":\"float64\",\"shape\":[42]},\"y\":{\"__ndarray__\":\"oB9Yh1macUAyOUDFI9yAQIeilmjz24RAyhhDa9rog0AVrlEufX6BQAESUy98LIBAsU9eWJCsgED5PaJxSUeBQJ+1sFt5DYJAqJuTj/yHfUAAAAAAALRxQAAAAAAA0GdAmpmZmZkRZkDNzMzMzDRpQDMzMzMzS2VAMzMzMzMjYEBmZmZmZtZYQAAAAAAAoENAzczMzMzMGkBmZmZmZmYGQGZmZmZmZvI/zczMzMzM8D+amZmZmZnJP2ZmZmZmZtY/MzMzMzMz6z9mZmZmZmYIQDMzMzMzMyFAZmZmZmZmNECamZmZmRlNQAAAAAAAMFpAzczMzMycYUAzMzMzMwNlQJqZmZmZUWZAAAAAAAAoakAzMzMzM4tuQAAAAAAACHJApe0Jrpmmd0BqBYs1JRJ6QMq8tQWoyHRAepFUNAc+ckAzMzMzM/d3QDMzMzMzH3VA\",\"dtype\":\"float64\",\"shape\":[42]}},\"selected\":{\"id\":\"1144\",\"type\":\"Selection\"},\"selection_policy\":{\"id\":\"1143\",\"type\":\"UnionRenderers\"}},\"id\":\"1087\",\"type\":\"ColumnDataSource\"},{\"attributes\":{},\"id\":\"1021\",\"type\":\"PanTool\"},{\"attributes\":{\"label\":{\"value\":\"EIA no external variables\"},\"renderers\":[{\"id\":\"1090\",\"type\":\"GlyphRenderer\"}]},\"id\":\"1115\",\"type\":\"LegendItem\"},{\"attributes\":{\"line_alpha\":0.1,\"line_color\":\"#1f77b4\",\"line_width\":2,\"x\":{\"field\":\"x\"},\"y\":{\"field\":\"y\"}},\"id\":\"1062\",\"type\":\"Line\"},{\"attributes\":{\"callback\":null,\"data\":{\"x\":{\"__ndarray__\":\"AAC4Xl6ydEIAAKDNYbJ0QgAAiDxlsnRCAABwq2iydEIAAFgabLJ0QgAAQIlvsnRCAAAo+HKydEIAABBndrJ0QgAA+NV5snRCAADgRH2ydEIAAMizgLJ0QgAAsCKEsnRCAACYkYeydEIAAIAAi7J0QgAAaG+OsnRCAABQ3pGydEIAADhNlbJ0QgAAILyYsnRCAAAIK5yydEIAAPCZn7J0QgAA2AijsnRCAADAd6aydEIAAKjmqbJ0QgAAkFWtsnRCAAB4xLCydEIAAGAztLJ0QgAASKK3snRCAAAwEbuydEIAABiAvrJ0QgAAAO/BsnRCAADoXcWydEIAANDMyLJ0QgAAuDvMsnRCAACgqs+ydEIAAIgZ07J0QgAAcIjWsnRCAABY99mydEIAAEBm3bJ0QgAAKNXgsnRCAAAQROSydEIAAPiy57J0QgAA4CHrsnRC\",\"dtype\":\"float64\",\"shape\":[42]},\"y\":{\"__ndarray__\":\"MzMzMzMPc0CamZmZmcOAQGZmZmZm3oNAZmZmZmZqgkCamZmZmSV/QGZmZmZmwn9AmpmZmZmpgEBmZmZmZnyAQJqZmZmZyXtAAAAAAAC0cUAAAAAAANBnQJqZmZmZEWZAzczMzMw0aUAzMzMzM0tlQDMzMzMzI2BAZmZmZmbWWEAAAAAAAKBDQM3MzMzMzBpAZmZmZmZmBkBmZmZmZmbyP83MzMzMzPA/mpmZmZmZyT9mZmZmZmbWPzMzMzMzM+s/ZmZmZmZmCEAzMzMzMzMhQGZmZmZmZjRAmpmZmZkZTUAAAAAAADBaQM3MzMzMnGFAMzMzMzMDZUCamZmZmVFmQAAAAAAAKGpAMzMzMzOLbkAAAAAAAAhyQJqZmZmZFXdAAAAAAAAkfEDNzMzMzBR5QJqZmZmZuXZAMzMzMzP3d0AzMzMzMx91QGZmZmZmlm9A\",\"dtype\":\"float64\",\"shape\":[42]}},\"selected\":{\"id\":\"1208\",\"type\":\"Selection\"},\"selection_policy\":{\"id\":\"1207\",\"type\":\"UnionRenderers\"}},\"id\":\"1147\",\"type\":\"ColumnDataSource\"},{\"attributes\":{},\"id\":\"1022\",\"type\":\"WheelZoomTool\"},{\"attributes\":{\"days\":[1,4,7,10,13,16,19,22,25,28]},\"id\":\"1049\",\"type\":\"DaysTicker\"},{\"attributes\":{},\"id\":\"1113\",\"type\":\"Selection\"},{\"attributes\":{\"overlay\":{\"id\":\"1057\",\"type\":\"BoxAnnotation\"}},\"id\":\"1023\",\"type\":\"BoxZoomTool\"},{\"attributes\":{\"days\":[1,8,15,22]},\"id\":\"1050\",\"type\":\"DaysTicker\"},{\"attributes\":{\"source\":{\"id\":\"1060\",\"type\":\"ColumnDataSource\"}},\"id\":\"1064\",\"type\":\"CDSView\"},{\"attributes\":{},\"id\":\"1024\",\"type\":\"SaveTool\"},{\"attributes\":{\"days\":[1,15]},\"id\":\"1051\",\"type\":\"DaysTicker\"},{\"attributes\":{},\"id\":\"1083\",\"type\":\"UnionRenderers\"},{\"attributes\":{},\"id\":\"1007\",\"type\":\"LinearScale\"},{\"attributes\":{\"line_color\":\"#d53e4f\",\"line_width\":2,\"x\":{\"field\":\"x\"},\"y\":{\"field\":\"y\"}},\"id\":\"1148\",\"type\":\"Line\"},{\"attributes\":{\"label\":{\"value\":\"Weather and holidays\"},\"renderers\":[{\"id\":\"1063\",\"type\":\"GlyphRenderer\"}]},\"id\":\"1086\",\"type\":\"LegendItem\"},{\"attributes\":{},\"id\":\"1025\",\"type\":\"ResetTool\"},{\"attributes\":{\"months\":[0,1,2,3,4,5,6,7,8,9,10,11]},\"id\":\"1052\",\"type\":\"MonthsTicker\"},{\"attributes\":{\"data_source\":{\"id\":\"1034\",\"type\":\"ColumnDataSource\"},\"glyph\":{\"id\":\"1035\",\"type\":\"Line\"},\"hover_glyph\":null,\"muted_glyph\":null,\"nonselection_glyph\":{\"id\":\"1036\",\"type\":\"Line\"},\"selection_glyph\":null,\"view\":{\"id\":\"1038\",\"type\":\"CDSView\"}},\"id\":\"1037\",\"type\":\"GlyphRenderer\"},{\"attributes\":{\"data_source\":{\"id\":\"1116\",\"type\":\"ColumnDataSource\"},\"glyph\":{\"id\":\"1117\",\"type\":\"Line\"},\"hover_glyph\":null,\"muted_glyph\":null,\"nonselection_glyph\":{\"id\":\"1118\",\"type\":\"Line\"},\"selection_glyph\":null,\"view\":{\"id\":\"1120\",\"type\":\"CDSView\"}},\"id\":\"1119\",\"type\":\"GlyphRenderer\"},{\"attributes\":{\"callback\":null,\"data\":{\"x\":{\"__ndarray__\":\"AAC4Xl6ydEIAAKDNYbJ0QgAAiDxlsnRCAABwq2iydEIAAFgabLJ0QgAAQIlvsnRCAAAo+HKydEIAABBndrJ0QgAA+NV5snRCAADgRH2ydEIAAMizgLJ0QgAAsCKEsnRCAACYkYeydEIAAIAAi7J0QgAAaG+OsnRCAABQ3pGydEIAADhNlbJ0QgAAILyYsnRCAAAIK5yydEIAAPCZn7J0QgAA2AijsnRCAADAd6aydEIAAKjmqbJ0QgAAkFWtsnRCAAB4xLCydEIAAGAztLJ0QgAASKK3snRCAAAwEbuydEIAABiAvrJ0QgAAAO/BsnRCAADoXcWydEIAANDMyLJ0QgAAuDvMsnRCAACgqs+ydEIAAIgZ07J0QgAAcIjWsnRCAABY99mydEIAAEBm3bJ0QgAAKNXgsnRCAAAQROSydEIAAPiy57J0QgAA4CHrsnRC\",\"dtype\":\"float64\",\"shape\":[42]},\"y\":{\"__ndarray__\":\"oB9Yh1macUAyOUDFI9yAQIeilmjz24RAyhhDa9rog0AVrlEufX6BQAESUy98LIBAsU9eWJCsgED5PaJxSUeBQJ+1sFt5DYJAqJuTj/yHfUCuiVg10wdyQEISGElFAHJAob3KBO4QcEBOlHvZ5FlwQKPbTiscBWpA+snG8dm+YkBCFoy2CxJdQBXyzshPxkpA3suwHefhGEBDQeaUfLDUP/uBJZatQQFAolGI78xpIkBm2FvOsOI8QP60/7Hon05An/J383WHU0CdQ9NPCd3+v19InssChEPAo7glwoDaJsCT25KvtCdTQKKlsF4Kw2BA2pzAtK9IZEBQf6zRsgRnQPy7Wav7OGdAGyll623na0D2uUFi0wNwQFWL4yvpUXNApe0Jrpmmd0BqBYs1JRJ6QMq8tQWoyHRAepFUNAc+ckA4qEU7b4pyQEXYDrIV+W5A\",\"dtype\":\"float64\",\"shape\":[42]}},\"selected\":{\"id\":\"1084\",\"type\":\"Selection\"},\"selection_policy\":{\"id\":\"1083\",\"type\":\"UnionRenderers\"}},\"id\":\"1034\",\"type\":\"ColumnDataSource\"},{\"attributes\":{\"months\":[0,2,4,6,8,10]},\"id\":\"1053\",\"type\":\"MonthsTicker\"},{\"attributes\":{\"callback\":null},\"id\":\"1005\",\"type\":\"DataRange1d\"},{\"attributes\":{\"line_alpha\":0.1,\"line_color\":\"#1f77b4\",\"line_width\":2,\"x\":{\"field\":\"x\"},\"y\":{\"field\":\"y\"}},\"id\":\"1036\",\"type\":\"Line\"},{\"attributes\":{},\"id\":\"1026\",\"type\":\"HelpTool\"},{\"attributes\":{},\"id\":\"1084\",\"type\":\"Selection\"},{\"attributes\":{\"line_alpha\":0.1,\"line_color\":\"#1f77b4\",\"line_width\":2,\"x\":{\"field\":\"x\"},\"y\":{\"field\":\"y\"}},\"id\":\"1149\",\"type\":\"Line\"},{\"attributes\":{\"months\":[0,4,8]},\"id\":\"1054\",\"type\":\"MonthsTicker\"},{\"attributes\":{},\"id\":\"1176\",\"type\":\"UnionRenderers\"},{\"attributes\":{\"click_policy\":\"hide\",\"items\":[{\"id\":\"1059\",\"type\":\"LegendItem\"},{\"id\":\"1086\",\"type\":\"LegendItem\"},{\"id\":\"1115\",\"type\":\"LegendItem\"},{\"id\":\"1146\",\"type\":\"LegendItem\"},{\"id\":\"1179\",\"type\":\"LegendItem\"}],\"location\":\"bottom_left\"},\"id\":\"1058\",\"type\":\"Legend\"},{\"attributes\":{\"label\":{\"value\":\"Real demand\"},\"renderers\":[{\"id\":\"1150\",\"type\":\"GlyphRenderer\"}]},\"id\":\"1179\",\"type\":\"LegendItem\"},{\"attributes\":{\"months\":[0,6]},\"id\":\"1055\",\"type\":\"MonthsTicker\"},{\"attributes\":{},\"id\":\"1009\",\"type\":\"LinearScale\"},{\"attributes\":{\"line_alpha\":0.1,\"line_color\":\"#1f77b4\",\"line_width\":2,\"x\":{\"field\":\"x\"},\"y\":{\"field\":\"y\"}},\"id\":\"1118\",\"type\":\"Line\"},{\"attributes\":{\"mantissas\":[1,2,5],\"max_interval\":500.0,\"num_minor_ticks\":0},\"id\":\"1045\",\"type\":\"AdaptiveTicker\"},{\"attributes\":{},\"id\":\"1207\",\"type\":\"UnionRenderers\"},{\"attributes\":{\"source\":{\"id\":\"1147\",\"type\":\"ColumnDataSource\"}},\"id\":\"1151\",\"type\":\"CDSView\"},{\"attributes\":{},\"id\":\"1056\",\"type\":\"YearsTicker\"},{\"attributes\":{\"data_source\":{\"id\":\"1147\",\"type\":\"ColumnDataSource\"},\"glyph\":{\"id\":\"1148\",\"type\":\"Line\"},\"hover_glyph\":null,\"muted_glyph\":null,\"nonselection_glyph\":{\"id\":\"1149\",\"type\":\"Line\"},\"selection_glyph\":null,\"view\":{\"id\":\"1151\",\"type\":\"CDSView\"}},\"id\":\"1150\",\"type\":\"GlyphRenderer\"},{\"attributes\":{\"formatter\":{\"id\":\"1042\",\"type\":\"DatetimeTickFormatter\"},\"ticker\":{\"id\":\"1012\",\"type\":\"DatetimeTicker\"}},\"id\":\"1011\",\"type\":\"DatetimeAxis\"},{\"attributes\":{\"line_color\":\"#e6f598\",\"line_width\":2,\"x\":{\"field\":\"x\"},\"y\":{\"field\":\"y\"}},\"id\":\"1088\",\"type\":\"Line\"},{\"attributes\":{},\"id\":\"1208\",\"type\":\"Selection\"},{\"attributes\":{\"label\":{\"value\":\"No external variables\"},\"renderers\":[{\"id\":\"1037\",\"type\":\"GlyphRenderer\"}]},\"id\":\"1059\",\"type\":\"LegendItem\"},{\"attributes\":{\"bottom_units\":\"screen\",\"fill_alpha\":{\"value\":0.5},\"fill_color\":{\"value\":\"lightgrey\"},\"left_units\":\"screen\",\"level\":\"overlay\",\"line_alpha\":{\"value\":1.0},\"line_color\":{\"value\":\"black\"},\"line_dash\":[4,4],\"line_width\":{\"value\":2},\"render_mode\":\"css\",\"right_units\":\"screen\",\"top_units\":\"screen\"},\"id\":\"1057\",\"type\":\"BoxAnnotation\"},{\"attributes\":{\"axis_label\":\"Predictions\",\"formatter\":{\"id\":\"1044\",\"type\":\"BasicTickFormatter\"},\"ticker\":{\"id\":\"1017\",\"type\":\"BasicTicker\"}},\"id\":\"1016\",\"type\":\"LinearAxis\"},{\"attributes\":{\"num_minor_ticks\":5,\"tickers\":[{\"id\":\"1045\",\"type\":\"AdaptiveTicker\"},{\"id\":\"1046\",\"type\":\"AdaptiveTicker\"},{\"id\":\"1047\",\"type\":\"AdaptiveTicker\"},{\"id\":\"1048\",\"type\":\"DaysTicker\"},{\"id\":\"1049\",\"type\":\"DaysTicker\"},{\"id\":\"1050\",\"type\":\"DaysTicker\"},{\"id\":\"1051\",\"type\":\"DaysTicker\"},{\"id\":\"1052\",\"type\":\"MonthsTicker\"},{\"id\":\"1053\",\"type\":\"MonthsTicker\"},{\"id\":\"1054\",\"type\":\"MonthsTicker\"},{\"id\":\"1055\",\"type\":\"MonthsTicker\"},{\"id\":\"1056\",\"type\":\"YearsTicker\"}]},\"id\":\"1012\",\"type\":\"DatetimeTicker\"},{\"attributes\":{},\"id\":\"1042\",\"type\":\"DatetimeTickFormatter\"},{\"attributes\":{\"callback\":null,\"data\":{\"x\":{\"__ndarray__\":\"AAC4Xl6ydEIAAKDNYbJ0QgAAiDxlsnRCAABwq2iydEIAAFgabLJ0QgAAQIlvsnRCAAAo+HKydEIAABBndrJ0QgAA+NV5snRCAADgRH2ydEIAAMizgLJ0QgAAsCKEsnRCAACYkYeydEIAAIAAi7J0QgAAaG+OsnRCAABQ3pGydEIAADhNlbJ0QgAAILyYsnRCAAAIK5yydEIAAPCZn7J0QgAA2AijsnRCAADAd6aydEIAAKjmqbJ0QgAAkFWtsnRCAAB4xLCydEIAAGAztLJ0QgAASKK3snRCAAAwEbuydEIAABiAvrJ0QgAAAO/BsnRCAADoXcWydEIAANDMyLJ0QgAAuDvMsnRCAACgqs+ydEIAAIgZ07J0QgAAcIjWsnRCAABY99mydEIAAEBm3bJ0QgAAKNXgsnRCAAAQROSydEIAAPiy57J0QgAA4CHrsnRC\",\"dtype\":\"float64\",\"shape\":[42]},\"y\":{\"__ndarray__\":\"Vvn+fJb4cUD6tvHLsQ+AQMBFExSi2oNAGfYZKp+agkC60XsyA+qAQIv6IqcwG4BATic4dV2tgEAdoXK+UZOBQHfNKa/RpIFA2/9DOVhdfEBO68MS00dyQPnc0tW6i3JA0j3w7IX+cEDPePh1ZFpxQPUWcVl7LGxAzEaTwLl9ZEDqJcLDjcdfQF6j+4RrOFNANxyugo5RQkB7VQgngW0sQKZ+12hphQ5AsHONkwS7G0Bmk2l2lqMcQH/9Ym9akEFA2hPHiMDAU0B2jOsEvTRKQOgdxqx+jjlAfB1CMfS6RUAgEM+lTn1cQOC3iMVl4GNAbaw4b88AaEAgnU2zEI5sQJKJbYAyuG5AJq37axvXcUBCOS5XmelzQNaG04emKXhABnjgHaOQfUB+joRis3J/QMN81l8DWHtA9BCEILj1eEDeDrLuuIF3QDF1MjGRhXFA\",\"dtype\":\"float64\",\"shape\":[42]}},\"selected\":{\"id\":\"1113\",\"type\":\"Selection\"},\"selection_policy\":{\"id\":\"1112\",\"type\":\"UnionRenderers\"}},\"id\":\"1060\",\"type\":\"ColumnDataSource\"},{\"attributes\":{\"text\":\"Blizzard\"},\"id\":\"1039\",\"type\":\"Title\"},{\"attributes\":{\"source\":{\"id\":\"1116\",\"type\":\"ColumnDataSource\"}},\"id\":\"1120\",\"type\":\"CDSView\"},{\"attributes\":{\"line_color\":\"#fdae61\",\"line_width\":2,\"x\":{\"field\":\"x\"},\"y\":{\"field\":\"y\"}},\"id\":\"1117\",\"type\":\"Line\"},{\"attributes\":{\"base\":60,\"mantissas\":[1,2,5,10,15,20,30],\"max_interval\":1800000.0,\"min_interval\":1000.0,\"num_minor_ticks\":0},\"id\":\"1046\",\"type\":\"AdaptiveTicker\"},{\"attributes\":{\"ticker\":{\"id\":\"1012\",\"type\":\"DatetimeTicker\"}},\"id\":\"1015\",\"type\":\"Grid\"},{\"attributes\":{},\"id\":\"1144\",\"type\":\"Selection\"},{\"attributes\":{\"data_source\":{\"id\":\"1060\",\"type\":\"ColumnDataSource\"},\"glyph\":{\"id\":\"1061\",\"type\":\"Line\"},\"hover_glyph\":null,\"muted_glyph\":null,\"nonselection_glyph\":{\"id\":\"1062\",\"type\":\"Line\"},\"selection_glyph\":null,\"view\":{\"id\":\"1064\",\"type\":\"CDSView\"}},\"id\":\"1063\",\"type\":\"GlyphRenderer\"},{\"attributes\":{\"line_alpha\":0.1,\"line_color\":\"#1f77b4\",\"line_width\":2,\"x\":{\"field\":\"x\"},\"y\":{\"field\":\"y\"}},\"id\":\"1089\",\"type\":\"Line\"},{\"attributes\":{},\"id\":\"1044\",\"type\":\"BasicTickFormatter\"},{\"attributes\":{},\"id\":\"1177\",\"type\":\"Selection\"},{\"attributes\":{},\"id\":\"1017\",\"type\":\"BasicTicker\"},{\"attributes\":{\"data_source\":{\"id\":\"1087\",\"type\":\"ColumnDataSource\"},\"glyph\":{\"id\":\"1088\",\"type\":\"Line\"},\"hover_glyph\":null,\"muted_glyph\":null,\"nonselection_glyph\":{\"id\":\"1089\",\"type\":\"Line\"},\"selection_glyph\":null,\"view\":{\"id\":\"1091\",\"type\":\"CDSView\"}},\"id\":\"1090\",\"type\":\"GlyphRenderer\"},{\"attributes\":{\"active_drag\":\"auto\",\"active_inspect\":\"auto\",\"active_multi\":null,\"active_scroll\":\"auto\",\"active_tap\":\"auto\",\"tools\":[{\"id\":\"1021\",\"type\":\"PanTool\"},{\"id\":\"1022\",\"type\":\"WheelZoomTool\"},{\"id\":\"1023\",\"type\":\"BoxZoomTool\"},{\"id\":\"1024\",\"type\":\"SaveTool\"},{\"id\":\"1025\",\"type\":\"ResetTool\"},{\"id\":\"1026\",\"type\":\"HelpTool\"}]},\"id\":\"1027\",\"type\":\"Toolbar\"},{\"attributes\":{\"dimension\":1,\"ticker\":{\"id\":\"1017\",\"type\":\"BasicTicker\"}},\"id\":\"1020\",\"type\":\"Grid\"}],\"root_ids\":[\"1002\"]},\"title\":\"Bokeh Application\",\"version\":\"1.4.0\"}};\n",
       "  var render_items = [{\"docid\":\"c258d444-63bb-496c-94bc-c77f1d847c0f\",\"roots\":{\"1002\":\"ace2baa9-3507-483d-8726-7b7cb1789bf3\"}}];\n",
       "  root.Bokeh.embed.embed_items_notebook(docs_json, render_items);\n",
       "\n",
       "  }\n",
       "  if (root.Bokeh !== undefined) {\n",
       "    embed_document(root);\n",
       "  } else {\n",
       "    var attempts = 0;\n",
       "    var timer = setInterval(function(root) {\n",
       "      if (root.Bokeh !== undefined) {\n",
       "        clearInterval(timer);\n",
       "        embed_document(root);\n",
       "      } else {\n",
       "        attempts++;\n",
       "        if (attempts > 100) {\n",
       "          clearInterval(timer);\n",
       "          console.log(\"Bokeh: ERROR: Unable to run BokehJS code because BokehJS library is missing\");\n",
       "        }\n",
       "      }\n",
       "    }, 10, root)\n",
       "  }\n",
       "})(window);"
      ],
      "application/vnd.bokehjs_exec.v0+json": ""
     },
     "metadata": {
      "application/vnd.bokehjs_exec.v0+json": {
       "id": "1002"
      }
     },
     "output_type": "display_data"
    }
   ],
   "source": [
    "s = slice('2015-1-26 6:00', '2015-1-27')\n",
    "\n",
    "p = figure(plot_width=800, plot_height=400, x_axis_type='datetime')\n",
    "p.line(x = pred_ne[s].index, y=pred_ne[s], line_width=2, legend_label='No external variables', color = Spectral8[0])\n",
    "p.line(x = pred_w_h[s].index, y=pred_w_h[s], line_width=2, legend_label='Weather and holidays', color = Spectral8[1])\n",
    "p.line(x = eia_ne[s].index, y=eia_ne[s], line_width=2, legend_label='EIA no external variables', color = Spectral8[3])\n",
    "p.line(x = eia_w_h[s].index, y=eia_w_h[s], line_width=2, legend_label='EIA weather and holidays', color = Spectral8[5])\n",
    "p.line(x = real[s].index, y=real[s], line_width=2, legend_label='Real demand', color = Spectral8[7])\n",
    "\n",
    "p.yaxis.axis_label = 'Predictions'\n",
    "p.title.text = 'Blizzard'\n",
    "p.legend.location = 'bottom_left'\n",
    "p.legend.click_policy=\"hide\"\n",
    "\n",
    "show(p)\n"
   ]
  },
  {
   "cell_type": "markdown",
   "metadata": {},
   "source": [
    "**Hurricane Sandy**"
   ]
  },
  {
   "cell_type": "code",
   "execution_count": 22,
   "metadata": {
    "ExecuteTime": {
     "end_time": "2020-02-21T10:01:12.016825Z",
     "start_time": "2020-02-21T10:01:11.884698Z"
    }
   },
   "outputs": [
    {
     "data": {
      "text/html": [
       "\n",
       "\n",
       "\n",
       "\n",
       "\n",
       "\n",
       "  <div class=\"bk-root\" id=\"2dbb104e-c9d7-499a-b53d-e9e057ccb37d\" data-root-id=\"1384\"></div>\n"
      ]
     },
     "metadata": {},
     "output_type": "display_data"
    },
    {
     "data": {
      "application/javascript": [
       "(function(root) {\n",
       "  function embed_document(root) {\n",
       "    \n",
       "  var docs_json = {\"a1f02463-4a07-4daf-b1b2-5dd5b5889e93\":{\"roots\":{\"references\":[{\"attributes\":{\"below\":[{\"id\":\"1393\",\"type\":\"DatetimeAxis\"}],\"center\":[{\"id\":\"1397\",\"type\":\"Grid\"},{\"id\":\"1402\",\"type\":\"Grid\"},{\"id\":\"1440\",\"type\":\"Legend\"}],\"left\":[{\"id\":\"1398\",\"type\":\"LinearAxis\"}],\"plot_height\":400,\"plot_width\":800,\"renderers\":[{\"id\":\"1419\",\"type\":\"GlyphRenderer\"},{\"id\":\"1445\",\"type\":\"GlyphRenderer\"},{\"id\":\"1472\",\"type\":\"GlyphRenderer\"},{\"id\":\"1501\",\"type\":\"GlyphRenderer\"},{\"id\":\"1532\",\"type\":\"GlyphRenderer\"}],\"title\":{\"id\":\"1421\",\"type\":\"Title\"},\"toolbar\":{\"id\":\"1409\",\"type\":\"Toolbar\"},\"x_range\":{\"id\":\"1385\",\"type\":\"DataRange1d\"},\"x_scale\":{\"id\":\"1389\",\"type\":\"LinearScale\"},\"y_range\":{\"id\":\"1387\",\"type\":\"DataRange1d\"},\"y_scale\":{\"id\":\"1391\",\"type\":\"LinearScale\"}},\"id\":\"1384\",\"subtype\":\"Figure\",\"type\":\"Plot\"},{\"attributes\":{\"callback\":null,\"data\":{\"x\":{\"__ndarray__\":\"AACgBQaqc0IAAIh0CapzQgAAcOMMqnNCAABYUhCqc0IAAEDBE6pzQgAAKDAXqnNCAAAQnxqqc0IAAPgNHqpzQgAA4HwhqnNCAADI6ySqc0IAALBaKKpzQgAAmMkrqnNCAACAOC+qc0IAAGinMqpzQgAAUBY2qnNCAAA4hTmqc0IAACD0PKpzQgAACGNAqnNCAADw0UOqc0IAANhAR6pzQgAAwK9KqnNCAACoHk6qc0IAAJCNUapzQgAAePxUqnNCAABga1iqc0IAAEjaW6pzQgAAMElfqnNCAAAYuGKqc0IAAAAnZqpzQgAA6JVpqnNCAADQBG2qc0IAALhzcKpzQgAAoOJzqnNCAACIUXeqc0IAAHDAeqpzQgAAWC9+qnNCAABAnoGqc0IAACgNhapzQgAAEHyIqnNCAAD46ouqc0IAAOBZj6pzQgAAyMiSqnNCAACwN5aqc0IAAJimmapzQgAAgBWdqnNCAABohKCqc0IAAFDzo6pzQgAAOGKnqnNCAAAg0aqqc0IAAAhArqpzQgAA8K6xqnNCAADYHbWqc0IAAMCMuKpzQgAAqPu7qnNCAACQar+qc0IAAHjZwqpzQgAAYEjGqnNCAABIt8mqc0IAADAmzapzQgAAGJXQqnNCAAAABNSqc0IAAOhy16pzQgAA0OHaqnNCAAC4UN6qc0IAAKC/4apzQgAAiC7lqnNCAABwneiqc0IAAFgM7KpzQgAAQHvvqnNCAAAo6vKqc0IAABBZ9qpzQgAA+Mf5qnNCAADgNv2qc0IAAMilAKtzQgAAsBQEq3NCAACYgwerc0IAAIDyCqtzQgAAaGEOq3NCAABQ0BGrc0IAADg/FatzQgAAIK4Yq3NCAAAIHRyrc0IAAPCLH6tzQgAA2Poiq3NCAADAaSarc0IAAKjYKatzQgAAkEctq3NCAAB4tjCrc0IAAGAlNKtzQgAASJQ3q3NCAAAwAzurc0IAABhyPqtzQgAAAOFBq3NCAADoT0Wrc0IAANC+SKtzQgAAuC1Mq3NC\",\"dtype\":\"float64\",\"shape\":[96]},\"y\":{\"__ndarray__\":\"uq2YOR6+h0DJjKR9lZKDQA2j2paPn4BAgKefLP6lekB5JMuF8x5yQIjpYrPLy2JAYlGRBQWuYEBB5DwaxqBoQF+DJGYqpnJAEunHljMqfEBSCL6faiCCQIy7kM69rYRAft+X8nZOhkCAYXw8RsOGQMO8DU3f/4VAyeF1uREAhUAxYnr7uoeCQAhqXrcpPoNAmrVZ19TOhkAcpFpDZmOJQNIxvK6QX4hAIBtZpcoviUCg8TREWnqLQIqknwAYqYpAiHE0iExciEA1GWRHWmyGQNTfBvJfx4RAsubd3llbgUDuJzWV+Ql3QPOTKL4g82hAPiqftLDQYEA2LdUsnedlQGrsa533E3FA0+cGvRXweEClF5Irx4OBQLHdn04mvIRAi/qVgd2ZhkBKXHFDkRiHQIZzIbFQGYZAGd/FzIcehUAJ93Tn8BeDQDWS//eD8oNA/qa8rIGvhEDp0Z7OfaaAQPVjycNiAnpAEpVPlLCmdUDLszfu4yZvQDh98sN6O2VACEEFhOl7YUAP+g3EEdtWQE44VvuWG0pAhl35J2iKQ0Da3GeRUQxLQEjPvSBZHlVAM7BpjTnWY0CKtIJHigtvQL9xVdUwEnRAoq4C68JCc0AmQd6FPIxvQAFsqVef43BArpFf9+4BdkCWj7FmgwZ2QMWU/t9EWXNASnNPByjHb0DePc4uJy1rQMMz95vUoGdAkvczeW+BZUDiXF+peOJfQPbveCTm8VZA9nciAj8KUkA/Tg8XvxZTQHSr/4vsvFFAisHZMtjYLUC6515AwcMeQG7H2CeGYSlASFudtVtPNEByUdIkxbY2QA15w+xStkFAqzHZK6RvUkDFDZawZIpQQHPPnEReE1RACrXXDtlkXEBqf9FKfHNiQBNZCjqfBmlAOtel+C1BbkACF0PmsB9xQBc2GMFtP3JAjiZ58vW0dEAdbNYnP1F1QBmn/brG4XdAM100hdjDfEBaSsB9Tnl8QO7cWoxAFnlAgUuE3JJbdUA0fMT5Zwx0QCFwTlUZPnFA\",\"dtype\":\"float64\",\"shape\":[96]}},\"selected\":{\"id\":\"1467\",\"type\":\"Selection\"},\"selection_policy\":{\"id\":\"1466\",\"type\":\"UnionRenderers\"}},\"id\":\"1416\",\"type\":\"ColumnDataSource\"},{\"attributes\":{},\"id\":\"1466\",\"type\":\"UnionRenderers\"},{\"attributes\":{},\"id\":\"1404\",\"type\":\"WheelZoomTool\"},{\"attributes\":{\"days\":[1,15]},\"id\":\"1433\",\"type\":\"DaysTicker\"},{\"attributes\":{\"data_source\":{\"id\":\"1416\",\"type\":\"ColumnDataSource\"},\"glyph\":{\"id\":\"1417\",\"type\":\"Line\"},\"hover_glyph\":null,\"muted_glyph\":null,\"nonselection_glyph\":{\"id\":\"1418\",\"type\":\"Line\"},\"selection_glyph\":null,\"view\":{\"id\":\"1420\",\"type\":\"CDSView\"}},\"id\":\"1419\",\"type\":\"GlyphRenderer\"},{\"attributes\":{},\"id\":\"1391\",\"type\":\"LinearScale\"},{\"attributes\":{\"source\":{\"id\":\"1529\",\"type\":\"ColumnDataSource\"}},\"id\":\"1533\",\"type\":\"CDSView\"},{\"attributes\":{\"days\":[1,4,7,10,13,16,19,22,25,28]},\"id\":\"1431\",\"type\":\"DaysTicker\"},{\"attributes\":{},\"id\":\"1560\",\"type\":\"Selection\"},{\"attributes\":{\"text\":\"Blizzard\"},\"id\":\"1421\",\"type\":\"Title\"},{\"attributes\":{\"base\":24,\"mantissas\":[1,2,4,6,8,12],\"max_interval\":43200000.0,\"min_interval\":3600000.0,\"num_minor_ticks\":0},\"id\":\"1429\",\"type\":\"AdaptiveTicker\"},{\"attributes\":{},\"id\":\"1467\",\"type\":\"Selection\"},{\"attributes\":{\"label\":{\"value\":\"Real demand\"},\"renderers\":[{\"id\":\"1532\",\"type\":\"GlyphRenderer\"}]},\"id\":\"1561\",\"type\":\"LegendItem\"},{\"attributes\":{\"formatter\":{\"id\":\"1423\",\"type\":\"DatetimeTickFormatter\"},\"ticker\":{\"id\":\"1394\",\"type\":\"DatetimeTicker\"}},\"id\":\"1393\",\"type\":\"DatetimeAxis\"},{\"attributes\":{\"label\":{\"value\":\"No external variables\"},\"renderers\":[{\"id\":\"1419\",\"type\":\"GlyphRenderer\"}]},\"id\":\"1441\",\"type\":\"LegendItem\"},{\"attributes\":{\"months\":[0,4,8]},\"id\":\"1436\",\"type\":\"MonthsTicker\"},{\"attributes\":{},\"id\":\"1619\",\"type\":\"UnionRenderers\"},{\"attributes\":{\"active_drag\":\"auto\",\"active_inspect\":\"auto\",\"active_multi\":null,\"active_scroll\":\"auto\",\"active_tap\":\"auto\",\"tools\":[{\"id\":\"1403\",\"type\":\"PanTool\"},{\"id\":\"1404\",\"type\":\"WheelZoomTool\"},{\"id\":\"1405\",\"type\":\"BoxZoomTool\"},{\"id\":\"1406\",\"type\":\"SaveTool\"},{\"id\":\"1407\",\"type\":\"ResetTool\"},{\"id\":\"1408\",\"type\":\"HelpTool\"}]},\"id\":\"1409\",\"type\":\"Toolbar\"},{\"attributes\":{\"months\":[0,1,2,3,4,5,6,7,8,9,10,11]},\"id\":\"1434\",\"type\":\"MonthsTicker\"},{\"attributes\":{},\"id\":\"1423\",\"type\":\"DatetimeTickFormatter\"},{\"attributes\":{\"line_alpha\":0.1,\"line_color\":\"#1f77b4\",\"line_width\":2,\"x\":{\"field\":\"x\"},\"y\":{\"field\":\"y\"}},\"id\":\"1418\",\"type\":\"Line\"},{\"attributes\":{\"callback\":null,\"data\":{\"x\":{\"__ndarray__\":\"AACgBQaqc0IAAIh0CapzQgAAcOMMqnNCAABYUhCqc0IAAEDBE6pzQgAAKDAXqnNCAAAQnxqqc0IAAPgNHqpzQgAA4HwhqnNCAADI6ySqc0IAALBaKKpzQgAAmMkrqnNCAACAOC+qc0IAAGinMqpzQgAAUBY2qnNCAAA4hTmqc0IAACD0PKpzQgAACGNAqnNCAADw0UOqc0IAANhAR6pzQgAAwK9KqnNCAACoHk6qc0IAAJCNUapzQgAAePxUqnNCAABga1iqc0IAAEjaW6pzQgAAMElfqnNCAAAYuGKqc0IAAAAnZqpzQgAA6JVpqnNCAADQBG2qc0IAALhzcKpzQgAAoOJzqnNCAACIUXeqc0IAAHDAeqpzQgAAWC9+qnNCAABAnoGqc0IAACgNhapzQgAAEHyIqnNCAAD46ouqc0IAAOBZj6pzQgAAyMiSqnNCAACwN5aqc0IAAJimmapzQgAAgBWdqnNCAABohKCqc0IAAFDzo6pzQgAAOGKnqnNCAAAg0aqqc0IAAAhArqpzQgAA8K6xqnNCAADYHbWqc0IAAMCMuKpzQgAAqPu7qnNCAACQar+qc0IAAHjZwqpzQgAAYEjGqnNCAABIt8mqc0IAADAmzapzQgAAGJXQqnNCAAAABNSqc0IAAOhy16pzQgAA0OHaqnNCAAC4UN6qc0IAAKC/4apzQgAAiC7lqnNCAABwneiqc0IAAFgM7KpzQgAAQHvvqnNCAAAo6vKqc0IAABBZ9qpzQgAA+Mf5qnNCAADgNv2qc0IAAMilAKtzQgAAsBQEq3NCAACYgwerc0IAAIDyCqtzQgAAaGEOq3NCAABQ0BGrc0IAADg/FatzQgAAIK4Yq3NCAAAIHRyrc0IAAPCLH6tzQgAA2Poiq3NCAADAaSarc0IAAKjYKatzQgAAkEctq3NCAAB4tjCrc0IAAGAlNKtzQgAASJQ3q3NCAAAwAzurc0IAABhyPqtzQgAAAOFBq3NCAADoT0Wrc0IAANC+SKtzQgAAuC1Mq3NC\",\"dtype\":\"float64\",\"shape\":[96]},\"y\":{\"__ndarray__\":\"9o5PoXXoh0CSf6PidcODQLZ3tw8qiIBAM/cIdfcXekD9CWeYsApyQBvnHCLf+mNAjzItHQRjYEDT+YxsHwRoQHKD1UIgJHNAi6iTiSWGfEDNjdOiJwqCQHbr/oRcdIRAaHQqeutfhkDP+n+bor+GQCKHQjiW+4VAIi2b7bp1hUAUFuA8b+CCQNIafk13wYNAfmINDWZzh0C7rbL5R/yJQKZltumhkIhAMVmb3294iUAihAd6+qKLQFMOlvxjCotAyPP4CVejiEC6nAjTFm+GQIKqFVMr14RALf9GTXVNgUA+nceXSNh2QEb6bzV+smlAj2Ddhd/CYUB9S9RTNxdmQDrTtMXuM3FAdb0igmHweUAWunsLAI+BQIxukRotmIRAulE7AIq7hkDfF6hfpiiHQEFytW8XS4ZAegm9uMADhUCnaMXpo1iDQGpTdWDPHYRAY1PUg+RmhUCamZmZmW18QGZmZmZmBndAmpmZmZndc0DNzMzMzPRwQDMzMzMzc25AMzMzMzP7Z0BmZmZmZoZhQDMzMzMz01RAjJ5reO6MRUD+SAzVqRlMQJqZmZmZmTtAMzMzMzMzQ0AzMzMzM0NaQGZmZmZmXmdAzczMzMy0bEDNzMzMzNRpQGZmZmZmXmtAmpmZmZlRc0BmZmZmZtZzQGZmZmZmNnFAMzMzMzOrbUAzMzMzM+NoQAAAAAAAaGBAMzMzMzPzWkDNzMzMzFxUQGZmZmZmxk5AmpmZmZl5RkAAAAAAAKBEQM3MzMzMjEBAAAAAAACAPkAzMzMzM7M3QM3MzMzMTC9AzczMzMzMJEBmZmZmZmYeQJqZmZmZmR5AMzMzMzMzI0DNzMzMzIw1QGZmZmZmRkdAMzMzMzPDU0CamZmZmdldQDMzMzMz62RAmpmZmZmxakBmZmZmZk5wQAAAAAAAIHJAAAAAAAC0dUAAAAAAAOx2QJqZmZmZYXZAZmZmZmZSekCoVIct7v57QDMzMzMzP3xAAAAAAABAeEAAAAAAAHx3QM3MzMzMQHdA\",\"dtype\":\"float64\",\"shape\":[96]}},\"selected\":{\"id\":\"1560\",\"type\":\"Selection\"},\"selection_policy\":{\"id\":\"1559\",\"type\":\"UnionRenderers\"}},\"id\":\"1498\",\"type\":\"ColumnDataSource\"},{\"attributes\":{},\"id\":\"1425\",\"type\":\"BasicTickFormatter\"},{\"attributes\":{\"axis_label\":\"Predictions\",\"formatter\":{\"id\":\"1425\",\"type\":\"BasicTickFormatter\"},\"ticker\":{\"id\":\"1399\",\"type\":\"BasicTicker\"}},\"id\":\"1398\",\"type\":\"LinearAxis\"},{\"attributes\":{\"num_minor_ticks\":5,\"tickers\":[{\"id\":\"1427\",\"type\":\"AdaptiveTicker\"},{\"id\":\"1428\",\"type\":\"AdaptiveTicker\"},{\"id\":\"1429\",\"type\":\"AdaptiveTicker\"},{\"id\":\"1430\",\"type\":\"DaysTicker\"},{\"id\":\"1431\",\"type\":\"DaysTicker\"},{\"id\":\"1432\",\"type\":\"DaysTicker\"},{\"id\":\"1433\",\"type\":\"DaysTicker\"},{\"id\":\"1434\",\"type\":\"MonthsTicker\"},{\"id\":\"1435\",\"type\":\"MonthsTicker\"},{\"id\":\"1436\",\"type\":\"MonthsTicker\"},{\"id\":\"1437\",\"type\":\"MonthsTicker\"},{\"id\":\"1438\",\"type\":\"YearsTicker\"}]},\"id\":\"1394\",\"type\":\"DatetimeTicker\"},{\"attributes\":{\"months\":[0,2,4,6,8,10]},\"id\":\"1435\",\"type\":\"MonthsTicker\"},{\"attributes\":{},\"id\":\"1408\",\"type\":\"HelpTool\"},{\"attributes\":{\"line_alpha\":0.1,\"line_color\":\"#1f77b4\",\"line_width\":2,\"x\":{\"field\":\"x\"},\"y\":{\"field\":\"y\"}},\"id\":\"1444\",\"type\":\"Line\"},{\"attributes\":{\"days\":[1,8,15,22]},\"id\":\"1432\",\"type\":\"DaysTicker\"},{\"attributes\":{\"dimension\":1,\"ticker\":{\"id\":\"1399\",\"type\":\"BasicTicker\"}},\"id\":\"1402\",\"type\":\"Grid\"},{\"attributes\":{\"line_color\":\"#e6f598\",\"line_width\":2,\"x\":{\"field\":\"x\"},\"y\":{\"field\":\"y\"}},\"id\":\"1470\",\"type\":\"Line\"},{\"attributes\":{\"base\":60,\"mantissas\":[1,2,5,10,15,20,30],\"max_interval\":1800000.0,\"min_interval\":1000.0,\"num_minor_ticks\":0},\"id\":\"1428\",\"type\":\"AdaptiveTicker\"},{\"attributes\":{},\"id\":\"1526\",\"type\":\"UnionRenderers\"},{\"attributes\":{\"data_source\":{\"id\":\"1469\",\"type\":\"ColumnDataSource\"},\"glyph\":{\"id\":\"1470\",\"type\":\"Line\"},\"hover_glyph\":null,\"muted_glyph\":null,\"nonselection_glyph\":{\"id\":\"1471\",\"type\":\"Line\"},\"selection_glyph\":null,\"view\":{\"id\":\"1473\",\"type\":\"CDSView\"}},\"id\":\"1472\",\"type\":\"GlyphRenderer\"},{\"attributes\":{\"callback\":null,\"data\":{\"x\":{\"__ndarray__\":\"AACgBQaqc0IAAIh0CapzQgAAcOMMqnNCAABYUhCqc0IAAEDBE6pzQgAAKDAXqnNCAAAQnxqqc0IAAPgNHqpzQgAA4HwhqnNCAADI6ySqc0IAALBaKKpzQgAAmMkrqnNCAACAOC+qc0IAAGinMqpzQgAAUBY2qnNCAAA4hTmqc0IAACD0PKpzQgAACGNAqnNCAADw0UOqc0IAANhAR6pzQgAAwK9KqnNCAACoHk6qc0IAAJCNUapzQgAAePxUqnNCAABga1iqc0IAAEjaW6pzQgAAMElfqnNCAAAYuGKqc0IAAAAnZqpzQgAA6JVpqnNCAADQBG2qc0IAALhzcKpzQgAAoOJzqnNCAACIUXeqc0IAAHDAeqpzQgAAWC9+qnNCAABAnoGqc0IAACgNhapzQgAAEHyIqnNCAAD46ouqc0IAAOBZj6pzQgAAyMiSqnNCAACwN5aqc0IAAJimmapzQgAAgBWdqnNCAABohKCqc0IAAFDzo6pzQgAAOGKnqnNCAAAg0aqqc0IAAAhArqpzQgAA8K6xqnNCAADYHbWqc0IAAMCMuKpzQgAAqPu7qnNCAACQar+qc0IAAHjZwqpzQgAAYEjGqnNCAABIt8mqc0IAADAmzapzQgAAGJXQqnNCAAAABNSqc0IAAOhy16pzQgAA0OHaqnNCAAC4UN6qc0IAAKC/4apzQgAAiC7lqnNCAABwneiqc0IAAFgM7KpzQgAAQHvvqnNCAAAo6vKqc0IAABBZ9qpzQgAA+Mf5qnNCAADgNv2qc0IAAMilAKtzQgAAsBQEq3NCAACYgwerc0IAAIDyCqtzQgAAaGEOq3NCAABQ0BGrc0IAADg/FatzQgAAIK4Yq3NCAAAIHRyrc0IAAPCLH6tzQgAA2Poiq3NCAADAaSarc0IAAKjYKatzQgAAkEctq3NCAAB4tjCrc0IAAGAlNKtzQgAASJQ3q3NCAAAwAzurc0IAABhyPqtzQgAAAOFBq3NCAADoT0Wrc0IAANC+SKtzQgAAuC1Mq3NC\",\"dtype\":\"float64\",\"shape\":[96]},\"y\":{\"__ndarray__\":\"9o5PoXXoh0CSf6PidcODQLZ3tw8qiIBAM/cIdfcXekD9CWeYsApyQBvnHCLf+mNAjzItHQRjYEDT+YxsHwRoQHKD1UIgJHNAi6iTiSWGfEDNjdOiJwqCQHbr/oRcdIRAaHQqeutfhkDP+n+bor+GQCKHQjiW+4VAIi2b7bp1hUAUFuA8b+CCQNIafk13wYNAfmINDWZzh0C7rbL5R/yJQKZltumhkIhAMVmb3294iUAihAd6+qKLQFMOlvxjCotAyPP4CVejiEC6nAjTFm+GQIKqFVMr14RALf9GTXVNgUA+nceXSNh2QEb6bzV+smlAj2Ddhd/CYUB9S9RTNxdmQDrTtMXuM3FAdb0igmHweUAWunsLAI+BQIxukRotmIRAulE7AIq7hkDfF6hfpiiHQEFytW8XS4ZAegm9uMADhUCnaMXpo1iDQGpTdWDPHYRAY1PUg+RmhUC1ySlnIq+BQBO958RMfXtAF+Odeui9dkAaGNQJNlZwQF5TXHmjsmdAFqnlcLz1Y0DDj9ZhAxxZQFsYYMH5YktAjJ5reO6MRUD+SAzVqRlMQOgl1pgYuVdA8jcnZpjwaUCOn7Qh1n90QMK3va1dnnZA33X8FNNbdUBGf5GNv8xxQOM9lYPfunJAaFFXeBZQeUA57ce4ddh4QKWXwnehxnVA4YehEGg5ckC2loylIY9vQLo75gIuKWxAUEWZcE7MbEBiEhxhybZqQG56HmvyxmVAkyDoO94EYEAr7b8veNVYQGE8kqNM/lJA2fhT0oGhQ0Do647tq5Y6QH75W4CP5DNAfXpf7jKBN0A2iaznae9BQEZHQeR26kxAIC2/S5/7WkCY6ciqPRVhQKZN8zKoFGBA3nBO4qRyYUBe+i3HALZkQLZNEg+UgGpABAODVLmscECOCCiHtB9zQGGR/lZmXHNAC209duxrdUA+jTDPcrN1QIzcWT0ca3dA8tcEQvX5e0CoVIct7v57QJN9EUSeRnhADvA65XwKdUDdupliAkRzQMq7v0HG9HBA\",\"dtype\":\"float64\",\"shape\":[96]}},\"selected\":{\"id\":\"1496\",\"type\":\"Selection\"},\"selection_policy\":{\"id\":\"1495\",\"type\":\"UnionRenderers\"}},\"id\":\"1442\",\"type\":\"ColumnDataSource\"},{\"attributes\":{\"line_color\":\"#66c2a5\",\"line_width\":2,\"x\":{\"field\":\"x\"},\"y\":{\"field\":\"y\"}},\"id\":\"1443\",\"type\":\"Line\"},{\"attributes\":{\"line_alpha\":0.1,\"line_color\":\"#1f77b4\",\"line_width\":2,\"x\":{\"field\":\"x\"},\"y\":{\"field\":\"y\"}},\"id\":\"1500\",\"type\":\"Line\"},{\"attributes\":{\"label\":{\"value\":\"EIA weather and holidays\"},\"renderers\":[{\"id\":\"1501\",\"type\":\"GlyphRenderer\"}]},\"id\":\"1528\",\"type\":\"LegendItem\"},{\"attributes\":{},\"id\":\"1403\",\"type\":\"PanTool\"},{\"attributes\":{\"line_alpha\":0.1,\"line_color\":\"#1f77b4\",\"line_width\":2,\"x\":{\"field\":\"x\"},\"y\":{\"field\":\"y\"}},\"id\":\"1531\",\"type\":\"Line\"},{\"attributes\":{\"months\":[0,6]},\"id\":\"1437\",\"type\":\"MonthsTicker\"},{\"attributes\":{\"line_color\":\"#fdae61\",\"line_width\":2,\"x\":{\"field\":\"x\"},\"y\":{\"field\":\"y\"}},\"id\":\"1499\",\"type\":\"Line\"},{\"attributes\":{},\"id\":\"1620\",\"type\":\"Selection\"},{\"attributes\":{\"callback\":null,\"data\":{\"x\":{\"__ndarray__\":\"AACgBQaqc0IAAIh0CapzQgAAcOMMqnNCAABYUhCqc0IAAEDBE6pzQgAAKDAXqnNCAAAQnxqqc0IAAPgNHqpzQgAA4HwhqnNCAADI6ySqc0IAALBaKKpzQgAAmMkrqnNCAACAOC+qc0IAAGinMqpzQgAAUBY2qnNCAAA4hTmqc0IAACD0PKpzQgAACGNAqnNCAADw0UOqc0IAANhAR6pzQgAAwK9KqnNCAACoHk6qc0IAAJCNUapzQgAAePxUqnNCAABga1iqc0IAAEjaW6pzQgAAMElfqnNCAAAYuGKqc0IAAAAnZqpzQgAA6JVpqnNCAADQBG2qc0IAALhzcKpzQgAAoOJzqnNCAACIUXeqc0IAAHDAeqpzQgAAWC9+qnNCAABAnoGqc0IAACgNhapzQgAAEHyIqnNCAAD46ouqc0IAAOBZj6pzQgAAyMiSqnNCAACwN5aqc0IAAJimmapzQgAAgBWdqnNCAABohKCqc0IAAFDzo6pzQgAAOGKnqnNCAAAg0aqqc0IAAAhArqpzQgAA8K6xqnNCAADYHbWqc0IAAMCMuKpzQgAAqPu7qnNCAACQar+qc0IAAHjZwqpzQgAAYEjGqnNCAABIt8mqc0IAADAmzapzQgAAGJXQqnNCAAAABNSqc0IAAOhy16pzQgAA0OHaqnNCAAC4UN6qc0IAAKC/4apzQgAAiC7lqnNCAABwneiqc0IAAFgM7KpzQgAAQHvvqnNCAAAo6vKqc0IAABBZ9qpzQgAA+Mf5qnNCAADgNv2qc0IAAMilAKtzQgAAsBQEq3NCAACYgwerc0IAAIDyCqtzQgAAaGEOq3NCAABQ0BGrc0IAADg/FatzQgAAIK4Yq3NCAAAIHRyrc0IAAPCLH6tzQgAA2Poiq3NCAADAaSarc0IAAKjYKatzQgAAkEctq3NCAAB4tjCrc0IAAGAlNKtzQgAASJQ3q3NCAAAwAzurc0IAABhyPqtzQgAAAOFBq3NCAADoT0Wrc0IAANC+SKtzQgAAuC1Mq3NC\",\"dtype\":\"float64\",\"shape\":[96]},\"y\":{\"__ndarray__\":\"uq2YOR6+h0DJjKR9lZKDQA2j2paPn4BAgKefLP6lekB5JMuF8x5yQIjpYrPLy2JAYlGRBQWuYEBB5DwaxqBoQF+DJGYqpnJAEunHljMqfEBSCL6faiCCQIy7kM69rYRAft+X8nZOhkCAYXw8RsOGQMO8DU3f/4VAyeF1uREAhUAxYnr7uoeCQAhqXrcpPoNAmrVZ19TOhkAcpFpDZmOJQNIxvK6QX4hAIBtZpcoviUCg8TREWnqLQIqknwAYqYpAiHE0iExciEA1GWRHWmyGQNTfBvJfx4RAsubd3llbgUDuJzWV+Ql3QPOTKL4g82hAPiqftLDQYEA2LdUsnedlQGrsa533E3FA0+cGvRXweEClF5Irx4OBQLHdn04mvIRAi/qVgd2ZhkBKXHFDkRiHQIZzIbFQGYZAGd/FzIcehUAJ93Tn8BeDQDWS//eD8oNA/qa8rIGvhECamZmZmW18QGZmZmZmBndAmpmZmZndc0DNzMzMzPRwQDMzMzMzc25AMzMzMzP7Z0BmZmZmZoZhQE44VvuWG0pAhl35J2iKQ0Da3GeRUQxLQJqZmZmZmTtAMzMzMzMzQ0AzMzMzM0NaQL9xVdUwEnRAzczMzMy0bEDNzMzMzNRpQGZmZmZmXmtAmpmZmZlRc0BmZmZmZtZzQGZmZmZmNnFAMzMzMzOrbUAzMzMzM+NoQAAAAAAAaGBAMzMzMzPzWkDNzMzMzFxUQGZmZmZmxk5AmpmZmZl5RkAAAAAAAKBEQM3MzMzMjEBAAAAAAACAPkAzMzMzM7M3QM3MzMzMTC9AzczMzMzMJEBmZmZmZmYeQJqZmZmZmR5AMzMzMzMzI0DNzMzMzIw1QGZmZmZmRkdAMzMzMzPDU0CamZmZmdldQDMzMzMz62RAOtel+C1BbkACF0PmsB9xQBc2GMFtP3JAjiZ58vW0dEAAAAAAAOx2QJqZmZmZYXZAM100hdjDfEBaSsB9Tnl8QDMzMzMzP3xAgUuE3JJbdUAAAAAAAHx3QM3MzMzMQHdA\",\"dtype\":\"float64\",\"shape\":[96]}},\"selected\":{\"id\":\"1527\",\"type\":\"Selection\"},\"selection_policy\":{\"id\":\"1526\",\"type\":\"UnionRenderers\"}},\"id\":\"1469\",\"type\":\"ColumnDataSource\"},{\"attributes\":{},\"id\":\"1438\",\"type\":\"YearsTicker\"},{\"attributes\":{\"source\":{\"id\":\"1498\",\"type\":\"ColumnDataSource\"}},\"id\":\"1502\",\"type\":\"CDSView\"},{\"attributes\":{\"days\":[1,2,3,4,5,6,7,8,9,10,11,12,13,14,15,16,17,18,19,20,21,22,23,24,25,26,27,28,29,30,31]},\"id\":\"1430\",\"type\":\"DaysTicker\"},{\"attributes\":{\"click_policy\":\"hide\",\"items\":[{\"id\":\"1441\",\"type\":\"LegendItem\"},{\"id\":\"1468\",\"type\":\"LegendItem\"},{\"id\":\"1497\",\"type\":\"LegendItem\"},{\"id\":\"1528\",\"type\":\"LegendItem\"},{\"id\":\"1561\",\"type\":\"LegendItem\"}],\"location\":\"bottom_left\"},\"id\":\"1440\",\"type\":\"Legend\"},{\"attributes\":{\"line_color\":\"#3288bd\",\"line_width\":2,\"x\":{\"field\":\"x\"},\"y\":{\"field\":\"y\"}},\"id\":\"1417\",\"type\":\"Line\"},{\"attributes\":{\"bottom_units\":\"screen\",\"fill_alpha\":{\"value\":0.5},\"fill_color\":{\"value\":\"lightgrey\"},\"left_units\":\"screen\",\"level\":\"overlay\",\"line_alpha\":{\"value\":1.0},\"line_color\":{\"value\":\"black\"},\"line_dash\":[4,4],\"line_width\":{\"value\":2},\"render_mode\":\"css\",\"right_units\":\"screen\",\"top_units\":\"screen\"},\"id\":\"1439\",\"type\":\"BoxAnnotation\"},{\"attributes\":{},\"id\":\"1559\",\"type\":\"UnionRenderers\"},{\"attributes\":{},\"id\":\"1527\",\"type\":\"Selection\"},{\"attributes\":{\"line_color\":\"#d53e4f\",\"line_width\":2,\"x\":{\"field\":\"x\"},\"y\":{\"field\":\"y\"}},\"id\":\"1530\",\"type\":\"Line\"},{\"attributes\":{},\"id\":\"1495\",\"type\":\"UnionRenderers\"},{\"attributes\":{},\"id\":\"1496\",\"type\":\"Selection\"},{\"attributes\":{\"data_source\":{\"id\":\"1529\",\"type\":\"ColumnDataSource\"},\"glyph\":{\"id\":\"1530\",\"type\":\"Line\"},\"hover_glyph\":null,\"muted_glyph\":null,\"nonselection_glyph\":{\"id\":\"1531\",\"type\":\"Line\"},\"selection_glyph\":null,\"view\":{\"id\":\"1533\",\"type\":\"CDSView\"}},\"id\":\"1532\",\"type\":\"GlyphRenderer\"},{\"attributes\":{\"overlay\":{\"id\":\"1439\",\"type\":\"BoxAnnotation\"}},\"id\":\"1405\",\"type\":\"BoxZoomTool\"},{\"attributes\":{\"line_alpha\":0.1,\"line_color\":\"#1f77b4\",\"line_width\":2,\"x\":{\"field\":\"x\"},\"y\":{\"field\":\"y\"}},\"id\":\"1471\",\"type\":\"Line\"},{\"attributes\":{\"callback\":null},\"id\":\"1385\",\"type\":\"DataRange1d\"},{\"attributes\":{\"label\":{\"value\":\"EIA no external variables\"},\"renderers\":[{\"id\":\"1472\",\"type\":\"GlyphRenderer\"}]},\"id\":\"1497\",\"type\":\"LegendItem\"},{\"attributes\":{\"data_source\":{\"id\":\"1498\",\"type\":\"ColumnDataSource\"},\"glyph\":{\"id\":\"1499\",\"type\":\"Line\"},\"hover_glyph\":null,\"muted_glyph\":null,\"nonselection_glyph\":{\"id\":\"1500\",\"type\":\"Line\"},\"selection_glyph\":null,\"view\":{\"id\":\"1502\",\"type\":\"CDSView\"}},\"id\":\"1501\",\"type\":\"GlyphRenderer\"},{\"attributes\":{},\"id\":\"1406\",\"type\":\"SaveTool\"},{\"attributes\":{\"source\":{\"id\":\"1416\",\"type\":\"ColumnDataSource\"}},\"id\":\"1420\",\"type\":\"CDSView\"},{\"attributes\":{\"callback\":null,\"data\":{\"x\":{\"__ndarray__\":\"AACgBQaqc0IAAIh0CapzQgAAcOMMqnNCAABYUhCqc0IAAEDBE6pzQgAAKDAXqnNCAAAQnxqqc0IAAPgNHqpzQgAA4HwhqnNCAADI6ySqc0IAALBaKKpzQgAAmMkrqnNCAACAOC+qc0IAAGinMqpzQgAAUBY2qnNCAAA4hTmqc0IAACD0PKpzQgAACGNAqnNCAADw0UOqc0IAANhAR6pzQgAAwK9KqnNCAACoHk6qc0IAAJCNUapzQgAAePxUqnNCAABga1iqc0IAAEjaW6pzQgAAMElfqnNCAAAYuGKqc0IAAAAnZqpzQgAA6JVpqnNCAADQBG2qc0IAALhzcKpzQgAAoOJzqnNCAACIUXeqc0IAAHDAeqpzQgAAWC9+qnNCAABAnoGqc0IAACgNhapzQgAAEHyIqnNCAAD46ouqc0IAAOBZj6pzQgAAyMiSqnNCAACwN5aqc0IAAJimmapzQgAAgBWdqnNCAABohKCqc0IAAFDzo6pzQgAAOGKnqnNCAAAg0aqqc0IAAAhArqpzQgAA8K6xqnNCAADYHbWqc0IAAMCMuKpzQgAAqPu7qnNCAACQar+qc0IAAHjZwqpzQgAAYEjGqnNCAABIt8mqc0IAADAmzapzQgAAGJXQqnNCAAAABNSqc0IAAOhy16pzQgAA0OHaqnNCAAC4UN6qc0IAAKC/4apzQgAAiC7lqnNCAABwneiqc0IAAFgM7KpzQgAAQHvvqnNCAAAo6vKqc0IAABBZ9qpzQgAA+Mf5qnNCAADgNv2qc0IAAMilAKtzQgAAsBQEq3NCAACYgwerc0IAAIDyCqtzQgAAaGEOq3NCAABQ0BGrc0IAADg/FatzQgAAIK4Yq3NCAAAIHRyrc0IAAPCLH6tzQgAA2Poiq3NCAADAaSarc0IAAKjYKatzQgAAkEctq3NCAAB4tjCrc0IAAGAlNKtzQgAASJQ3q3NCAAAwAzurc0IAABhyPqtzQgAAAOFBq3NCAADoT0Wrc0IAANC+SKtzQgAAuC1Mq3NC\",\"dtype\":\"float64\",\"shape\":[96]},\"y\":{\"__ndarray__\":\"ZmZmZmY+hkAzMzMzMwGEQM3MzMzMmIFAZmZmZmYKfECamZmZmX1yQJqZmZmZCWFAzczMzMwkYUAAAAAAAEhoQAAAAAAATHNAzczMzMyofECamZmZmemBQGZmZmZmmoRAZmZmZmaqhkDNzMzMzGSGQDMzMzMzi4ZAZmZmZmaqhUBmZmZmZqyBQM3MzMzMyINAAAAAAACciEDNzMzMzKyKQGZmZmZmVopAmpmZmZk9i0BmZmZmZtiLQAAAAAAAiopAmpmZmZmtiEBmZmZmZvKHQM3MzMzMAoZAmpmZmZlrgUCamZmZmTl5QM3MzMzM5GlAzczMzMxUY0AzMzMzM8NnQGZmZmZmznBAAAAAAAAweUDNzMzMzPSAQAAAAAAAnIRAmpmZmZn9hkAAAAAAAGKGQJqZmZmZeYZAzczMzMwihUCamZmZmYmCQAAAAAAAzIFAmpmZmZltfEBmZmZmZgZ3QJqZmZmZ3XNAzczMzMz0cEAzMzMzM3NuQDMzMzMz+2dAZmZmZmaGYUAzMzMzM9NUQAAAAAAAoElAAAAAAAAgQECamZmZmZk7QDMzMzMzM0NAMzMzMzNDWkBmZmZmZl5nQM3MzMzMtGxAzczMzMzUaUBmZmZmZl5rQJqZmZmZUXNAZmZmZmbWc0BmZmZmZjZxQDMzMzMzq21AMzMzMzPjaEAAAAAAAGhgQDMzMzMz81pAzczMzMxcVEBmZmZmZsZOQJqZmZmZeUZAAAAAAACgREDNzMzMzIxAQAAAAAAAgD5AMzMzMzOzN0DNzMzMzEwvQM3MzMzMzCRAZmZmZmZmHkCamZmZmZkeQDMzMzMzMyNAzczMzMyMNUBmZmZmZkZHQDMzMzMzw1NAmpmZmZnZXUAzMzMzM+tkQJqZmZmZsWpAZmZmZmZOcEAAAAAAACByQAAAAAAAtHVAAAAAAADsdkCamZmZmWF2QGZmZmZmUnpAZmZmZmbufEAzMzMzMz98QAAAAAAAQHhAAAAAAAB8d0DNzMzMzEB3QAAAAAAAzHNA\",\"dtype\":\"float64\",\"shape\":[96]}},\"selected\":{\"id\":\"1620\",\"type\":\"Selection\"},\"selection_policy\":{\"id\":\"1619\",\"type\":\"UnionRenderers\"}},\"id\":\"1529\",\"type\":\"ColumnDataSource\"},{\"attributes\":{\"mantissas\":[1,2,5],\"max_interval\":500.0,\"num_minor_ticks\":0},\"id\":\"1427\",\"type\":\"AdaptiveTicker\"},{\"attributes\":{\"label\":{\"value\":\"Weather and holidays\"},\"renderers\":[{\"id\":\"1445\",\"type\":\"GlyphRenderer\"}]},\"id\":\"1468\",\"type\":\"LegendItem\"},{\"attributes\":{},\"id\":\"1407\",\"type\":\"ResetTool\"},{\"attributes\":{\"source\":{\"id\":\"1469\",\"type\":\"ColumnDataSource\"}},\"id\":\"1473\",\"type\":\"CDSView\"},{\"attributes\":{\"ticker\":{\"id\":\"1394\",\"type\":\"DatetimeTicker\"}},\"id\":\"1397\",\"type\":\"Grid\"},{\"attributes\":{\"source\":{\"id\":\"1442\",\"type\":\"ColumnDataSource\"}},\"id\":\"1446\",\"type\":\"CDSView\"},{\"attributes\":{\"callback\":null},\"id\":\"1387\",\"type\":\"DataRange1d\"},{\"attributes\":{},\"id\":\"1399\",\"type\":\"BasicTicker\"},{\"attributes\":{},\"id\":\"1389\",\"type\":\"LinearScale\"},{\"attributes\":{\"data_source\":{\"id\":\"1442\",\"type\":\"ColumnDataSource\"},\"glyph\":{\"id\":\"1443\",\"type\":\"Line\"},\"hover_glyph\":null,\"muted_glyph\":null,\"nonselection_glyph\":{\"id\":\"1444\",\"type\":\"Line\"},\"selection_glyph\":null,\"view\":{\"id\":\"1446\",\"type\":\"CDSView\"}},\"id\":\"1445\",\"type\":\"GlyphRenderer\"}],\"root_ids\":[\"1384\"]},\"title\":\"Bokeh Application\",\"version\":\"1.4.0\"}};\n",
       "  var render_items = [{\"docid\":\"a1f02463-4a07-4daf-b1b2-5dd5b5889e93\",\"roots\":{\"1384\":\"2dbb104e-c9d7-499a-b53d-e9e057ccb37d\"}}];\n",
       "  root.Bokeh.embed.embed_items_notebook(docs_json, render_items);\n",
       "\n",
       "  }\n",
       "  if (root.Bokeh !== undefined) {\n",
       "    embed_document(root);\n",
       "  } else {\n",
       "    var attempts = 0;\n",
       "    var timer = setInterval(function(root) {\n",
       "      if (root.Bokeh !== undefined) {\n",
       "        clearInterval(timer);\n",
       "        embed_document(root);\n",
       "      } else {\n",
       "        attempts++;\n",
       "        if (attempts > 100) {\n",
       "          clearInterval(timer);\n",
       "          console.log(\"Bokeh: ERROR: Unable to run BokehJS code because BokehJS library is missing\");\n",
       "        }\n",
       "      }\n",
       "    }, 10, root)\n",
       "  }\n",
       "})(window);"
      ],
      "application/vnd.bokehjs_exec.v0+json": ""
     },
     "metadata": {
      "application/vnd.bokehjs_exec.v0+json": {
       "id": "1384"
      }
     },
     "output_type": "display_data"
    }
   ],
   "source": [
    "s = slice('2012-10-27', '2012-10-30')\n",
    "\n",
    "p = figure(plot_width=800, plot_height=400, x_axis_type='datetime')\n",
    "p.line(x = pred_ne[s].index, y=pred_ne[s], line_width=2, legend_label='No external variables', color = Spectral8[0])\n",
    "p.line(x = pred_w_h[s].index, y=pred_w_h[s], line_width=2, legend_label='Weather and holidays', color = Spectral8[1])\n",
    "p.line(x = eia_ne[s].index, y=eia_ne[s], line_width=2, legend_label='EIA no external variables', color = Spectral8[3])\n",
    "p.line(x = eia_w_h[s].index, y=eia_w_h[s], line_width=2, legend_label='EIA weather and holidays', color = Spectral8[5])\n",
    "p.line(x = real[s].index, y=real[s], line_width=2, legend_label='Real demand', color = Spectral8[7])\n",
    "\n",
    "p.yaxis.axis_label = 'Predictions'\n",
    "p.title.text = 'Blizzard'\n",
    "p.legend.location = 'bottom_left'\n",
    "p.legend.click_policy=\"hide\"\n",
    "\n",
    "show(p)"
   ]
  },
  {
   "cell_type": "markdown",
   "metadata": {},
   "source": [
    "**Snow Storm**"
   ]
  },
  {
   "cell_type": "code",
   "execution_count": 23,
   "metadata": {
    "ExecuteTime": {
     "end_time": "2020-02-21T10:01:34.705411Z",
     "start_time": "2020-02-21T10:01:34.571410Z"
    }
   },
   "outputs": [
    {
     "data": {
      "text/html": [
       "\n",
       "\n",
       "\n",
       "\n",
       "\n",
       "\n",
       "  <div class=\"bk-root\" id=\"4e14781d-647b-481b-ba48-b5eafd11483b\" data-root-id=\"1795\"></div>\n"
      ]
     },
     "metadata": {},
     "output_type": "display_data"
    },
    {
     "data": {
      "application/javascript": [
       "(function(root) {\n",
       "  function embed_document(root) {\n",
       "    \n",
       "  var docs_json = {\"774a0420-436a-4d3f-b900-08e10a489613\":{\"roots\":{\"references\":[{\"attributes\":{\"below\":[{\"id\":\"1804\",\"type\":\"DatetimeAxis\"}],\"center\":[{\"id\":\"1808\",\"type\":\"Grid\"},{\"id\":\"1813\",\"type\":\"Grid\"},{\"id\":\"1851\",\"type\":\"Legend\"}],\"left\":[{\"id\":\"1809\",\"type\":\"LinearAxis\"}],\"plot_height\":400,\"plot_width\":800,\"renderers\":[{\"id\":\"1830\",\"type\":\"GlyphRenderer\"},{\"id\":\"1856\",\"type\":\"GlyphRenderer\"},{\"id\":\"1883\",\"type\":\"GlyphRenderer\"},{\"id\":\"1912\",\"type\":\"GlyphRenderer\"},{\"id\":\"1943\",\"type\":\"GlyphRenderer\"}],\"title\":{\"id\":\"1832\",\"type\":\"Title\"},\"toolbar\":{\"id\":\"1820\",\"type\":\"Toolbar\"},\"x_range\":{\"id\":\"1796\",\"type\":\"DataRange1d\"},\"x_scale\":{\"id\":\"1800\",\"type\":\"LinearScale\"},\"y_range\":{\"id\":\"1798\",\"type\":\"DataRange1d\"},\"y_scale\":{\"id\":\"1802\",\"type\":\"LinearScale\"}},\"id\":\"1795\",\"subtype\":\"Figure\",\"type\":\"Plot\"},{\"attributes\":{\"source\":{\"id\":\"1880\",\"type\":\"ColumnDataSource\"}},\"id\":\"1884\",\"type\":\"CDSView\"},{\"attributes\":{\"months\":[0,1,2,3,4,5,6,7,8,9,10,11]},\"id\":\"1845\",\"type\":\"MonthsTicker\"},{\"attributes\":{\"callback\":null},\"id\":\"1796\",\"type\":\"DataRange1d\"},{\"attributes\":{\"data_source\":{\"id\":\"1853\",\"type\":\"ColumnDataSource\"},\"glyph\":{\"id\":\"1854\",\"type\":\"Line\"},\"hover_glyph\":null,\"muted_glyph\":null,\"nonselection_glyph\":{\"id\":\"1855\",\"type\":\"Line\"},\"selection_glyph\":null,\"view\":{\"id\":\"1857\",\"type\":\"CDSView\"}},\"id\":\"1856\",\"type\":\"GlyphRenderer\"},{\"attributes\":{\"days\":[1,2,3,4,5,6,7,8,9,10,11,12,13,14,15,16,17,18,19,20,21,22,23,24,25,26,27,28,29,30,31]},\"id\":\"1841\",\"type\":\"DaysTicker\"},{\"attributes\":{\"base\":24,\"mantissas\":[1,2,4,6,8,12],\"max_interval\":43200000.0,\"min_interval\":3600000.0,\"num_minor_ticks\":0},\"id\":\"1840\",\"type\":\"AdaptiveTicker\"},{\"attributes\":{\"source\":{\"id\":\"1853\",\"type\":\"ColumnDataSource\"}},\"id\":\"1857\",\"type\":\"CDSView\"},{\"attributes\":{\"line_color\":\"#d53e4f\",\"line_width\":2,\"x\":{\"field\":\"x\"},\"y\":{\"field\":\"y\"}},\"id\":\"1941\",\"type\":\"Line\"},{\"attributes\":{\"days\":[1,8,15,22]},\"id\":\"1843\",\"type\":\"DaysTicker\"},{\"attributes\":{},\"id\":\"1907\",\"type\":\"Selection\"},{\"attributes\":{\"dimension\":1,\"ticker\":{\"id\":\"1810\",\"type\":\"BasicTicker\"}},\"id\":\"1813\",\"type\":\"Grid\"},{\"attributes\":{\"line_color\":\"#66c2a5\",\"line_width\":2,\"x\":{\"field\":\"x\"},\"y\":{\"field\":\"y\"}},\"id\":\"1854\",\"type\":\"Line\"},{\"attributes\":{\"data_source\":{\"id\":\"1940\",\"type\":\"ColumnDataSource\"},\"glyph\":{\"id\":\"1941\",\"type\":\"Line\"},\"hover_glyph\":null,\"muted_glyph\":null,\"nonselection_glyph\":{\"id\":\"1942\",\"type\":\"Line\"},\"selection_glyph\":null,\"view\":{\"id\":\"1944\",\"type\":\"CDSView\"}},\"id\":\"1943\",\"type\":\"GlyphRenderer\"},{\"attributes\":{\"num_minor_ticks\":5,\"tickers\":[{\"id\":\"1838\",\"type\":\"AdaptiveTicker\"},{\"id\":\"1839\",\"type\":\"AdaptiveTicker\"},{\"id\":\"1840\",\"type\":\"AdaptiveTicker\"},{\"id\":\"1841\",\"type\":\"DaysTicker\"},{\"id\":\"1842\",\"type\":\"DaysTicker\"},{\"id\":\"1843\",\"type\":\"DaysTicker\"},{\"id\":\"1844\",\"type\":\"DaysTicker\"},{\"id\":\"1845\",\"type\":\"MonthsTicker\"},{\"id\":\"1846\",\"type\":\"MonthsTicker\"},{\"id\":\"1847\",\"type\":\"MonthsTicker\"},{\"id\":\"1848\",\"type\":\"MonthsTicker\"},{\"id\":\"1849\",\"type\":\"YearsTicker\"}]},\"id\":\"1805\",\"type\":\"DatetimeTicker\"},{\"attributes\":{\"text\":\"Blizzard\"},\"id\":\"1832\",\"type\":\"Title\"},{\"attributes\":{\"ticker\":{\"id\":\"1805\",\"type\":\"DatetimeTicker\"}},\"id\":\"1808\",\"type\":\"Grid\"},{\"attributes\":{},\"id\":\"1877\",\"type\":\"UnionRenderers\"},{\"attributes\":{},\"id\":\"1834\",\"type\":\"DatetimeTickFormatter\"},{\"attributes\":{\"line_color\":\"#3288bd\",\"line_width\":2,\"x\":{\"field\":\"x\"},\"y\":{\"field\":\"y\"}},\"id\":\"1828\",\"type\":\"Line\"},{\"attributes\":{\"line_color\":\"#e6f598\",\"line_width\":2,\"x\":{\"field\":\"x\"},\"y\":{\"field\":\"y\"}},\"id\":\"1881\",\"type\":\"Line\"},{\"attributes\":{},\"id\":\"1810\",\"type\":\"BasicTicker\"},{\"attributes\":{\"label\":{\"value\":\"Weather and holidays\"},\"renderers\":[{\"id\":\"1856\",\"type\":\"GlyphRenderer\"}]},\"id\":\"1879\",\"type\":\"LegendItem\"},{\"attributes\":{\"months\":[0,2,4,6,8,10]},\"id\":\"1846\",\"type\":\"MonthsTicker\"},{\"attributes\":{\"axis_label\":\"Predictions\",\"formatter\":{\"id\":\"1836\",\"type\":\"BasicTickFormatter\"},\"ticker\":{\"id\":\"1810\",\"type\":\"BasicTicker\"}},\"id\":\"1809\",\"type\":\"LinearAxis\"},{\"attributes\":{\"click_policy\":\"hide\",\"items\":[{\"id\":\"1852\",\"type\":\"LegendItem\"},{\"id\":\"1879\",\"type\":\"LegendItem\"},{\"id\":\"1908\",\"type\":\"LegendItem\"},{\"id\":\"1939\",\"type\":\"LegendItem\"},{\"id\":\"1972\",\"type\":\"LegendItem\"}],\"location\":\"bottom_left\"},\"id\":\"1851\",\"type\":\"Legend\"},{\"attributes\":{\"line_alpha\":0.1,\"line_color\":\"#1f77b4\",\"line_width\":2,\"x\":{\"field\":\"x\"},\"y\":{\"field\":\"y\"}},\"id\":\"1829\",\"type\":\"Line\"},{\"attributes\":{},\"id\":\"1878\",\"type\":\"Selection\"},{\"attributes\":{\"source\":{\"id\":\"1940\",\"type\":\"ColumnDataSource\"}},\"id\":\"1944\",\"type\":\"CDSView\"},{\"attributes\":{\"callback\":null,\"data\":{\"x\":{\"__ndarray__\":\"AABI6o06dEIAADBZkTp0QgAAGMiUOnRCAAAAN5g6dEIAAOilmzp0QgAA0BSfOnRCAAC4g6I6dEIAAKDypTp0QgAAiGGpOnRCAABw0Kw6dEIAAFg/sDp0QgAAQK6zOnRCAAAoHbc6dEIAABCMujp0QgAA+Pq9OnRCAADgacE6dEIAAMjYxDp0QgAAsEfIOnRCAACYtss6dEIAAIAlzzp0QgAAaJTSOnRCAABQA9Y6dEIAADhy2Tp0QgAAIOHcOnRCAAAIUOA6dEIAAPC+4zp0QgAA2C3nOnRCAADAnOo6dEIAAKgL7jp0QgAAkHrxOnRCAAB46fQ6dEIAAGBY+Dp0QgAASMf7OnRCAAAwNv86dEIAABilAjt0QgAAABQGO3RCAADoggk7dEIAANDxDDt0QgAAuGAQO3RCAACgzxM7dEIAAIg+Fzt0QgAAcK0aO3RCAABYHB47dEIAAECLITt0QgAAKPokO3RCAAAQaSg7dEIAAPjXKzt0QgAA4EYvO3RCAADItTI7dEIAALAkNjt0QgAAmJM5O3RCAACAAj07dEIAAGhxQDt0QgAAUOBDO3RCAAA4T0c7dEIAACC+Sjt0QgAACC1OO3RCAADwm1E7dEIAANgKVTt0QgAAwHlYO3RCAACo6Fs7dEIAAJBXXzt0QgAAeMZiO3RCAABgNWY7dEIAAEikaTt0QgAAMBNtO3RCAAAYgnA7dEIAAADxczt0QgAA6F93O3RCAADQzno7dEIAALg9fjt0QgAAoKyBO3RCAACIG4U7dEIAAHCKiDt0QgAAWPmLO3RCAABAaI87dEIAACjXkjt0QgAAEEaWO3RCAAD4tJk7dEIAAOAjnTt0QgAAyJKgO3RCAACwAaQ7dEIAAJhwpzt0QgAAgN+qO3RCAABoTq47dEIAAFC9sTt0QgAAOCy1O3RCAAAgm7g7dEIAAAgKvDt0QgAA8Hi/O3RCAADY58I7dEIAAMBWxjt0QgAAqMXJO3RCAACQNM07dEIAAHij0Dt0QgAAYBLUO3RC\",\"dtype\":\"float64\",\"shape\":[96]},\"y\":{\"__ndarray__\":\"MzMzMzNniUAzMzMzM82FQGZmZmZmloJAMzMzMzPrekDNzMzMzCBxQJqZmZmZ2VxAAAAAAACAV0BmZmZmZtZdQJqZmZmZMWdAAAAAAADcc0AAAAAAAMB9QAAAAAAAYoJAZmZmZmZEhUBmZmZmZoaFQJqZmZmZn4dAzczMzMyGhUAzMzMzMweFQM3MzMzMwoVAAAAAAAAWiUAAAAAAAEqEQJqZmZmZ4YJAMzMzMzMDgkBmZmZmZsyEQM3MzMzMtH5AZmZmZmbCd0DNzMzMzJRvQM3MzMzM9GVAAAAAAAAwXkAzMzMzM9NYQDMzMzMz81JAZmZmZmZOYUCamZmZmVlpQM3MzMzMvHZAZmZmZmZifUBmZmZmZgSAQM3MzMzMpIFAzczMzMzOg0DNzMzMzCKFQAAAAAAAMoVAZmZmZmZyhUCamZmZmTeEQM3MzMzMZIZAzczMzMx+iEAAAAAAAOKFQDMzMzMz7YJAAAAAAABEgkBmZmZmZnSAQJqZmZmZdXZAAAAAAACIa0BmZmZmZlZgQDMzMzMz01VAzczMzMxMTEBmZmZmZmZOQAAAAAAAEFtAAAAAAABwdEDNzMzMzPSDQM3MzMzMcIhAMzMzMzO7hEBmZmZmZjyBQJqZmZmZeXxAMzMzMzPrekDNzMzMzBh5QJqZmZmZ5XZAzczMzMwAcEBmZmZmZvZkQDMzMzMzW2RAMzMzMzPLaUCamZmZmfltQDMzMzMzI3BAzczMzMz8cEDNzMzMzChwQM3MzMzMvGlAZmZmZmbuYkAAAAAAABBYQAAAAAAAgE5AmpmZmZm5RUBmZmZmZmZDQDMzMzMzk05AmpmZmZlhZEDNzMzMzFxzQGZmZmZm/npAAAAAAAD0fkDNzMzMzIaAQM3MzMzMDoFAmpmZmZmlgUAzMzMzM52BQJqZmZmZV4JAmpmZmZlxgkCamZmZmf+AQGZmZmZm6IRAAAAAAAAqi0AzMzMzM9eLQGZmZmZmcIpAmpmZmZl5ikDNzMzMzGyIQDMzMzMzOYFA\",\"dtype\":\"float64\",\"shape\":[96]}},\"selected\":{\"id\":\"2060\",\"type\":\"Selection\"},\"selection_policy\":{\"id\":\"2059\",\"type\":\"UnionRenderers\"}},\"id\":\"1940\",\"type\":\"ColumnDataSource\"},{\"attributes\":{},\"id\":\"1836\",\"type\":\"BasicTickFormatter\"},{\"attributes\":{\"line_color\":\"#fdae61\",\"line_width\":2,\"x\":{\"field\":\"x\"},\"y\":{\"field\":\"y\"}},\"id\":\"1910\",\"type\":\"Line\"},{\"attributes\":{},\"id\":\"1970\",\"type\":\"UnionRenderers\"},{\"attributes\":{\"days\":[1,15]},\"id\":\"1844\",\"type\":\"DaysTicker\"},{\"attributes\":{\"months\":[0,4,8]},\"id\":\"1847\",\"type\":\"MonthsTicker\"},{\"attributes\":{\"label\":{\"value\":\"No external variables\"},\"renderers\":[{\"id\":\"1830\",\"type\":\"GlyphRenderer\"}]},\"id\":\"1852\",\"type\":\"LegendItem\"},{\"attributes\":{\"label\":{\"value\":\"Real demand\"},\"renderers\":[{\"id\":\"1943\",\"type\":\"GlyphRenderer\"}]},\"id\":\"1972\",\"type\":\"LegendItem\"},{\"attributes\":{\"callback\":null,\"data\":{\"x\":{\"__ndarray__\":\"AABI6o06dEIAADBZkTp0QgAAGMiUOnRCAAAAN5g6dEIAAOilmzp0QgAA0BSfOnRCAAC4g6I6dEIAAKDypTp0QgAAiGGpOnRCAABw0Kw6dEIAAFg/sDp0QgAAQK6zOnRCAAAoHbc6dEIAABCMujp0QgAA+Pq9OnRCAADgacE6dEIAAMjYxDp0QgAAsEfIOnRCAACYtss6dEIAAIAlzzp0QgAAaJTSOnRCAABQA9Y6dEIAADhy2Tp0QgAAIOHcOnRCAAAIUOA6dEIAAPC+4zp0QgAA2C3nOnRCAADAnOo6dEIAAKgL7jp0QgAAkHrxOnRCAAB46fQ6dEIAAGBY+Dp0QgAASMf7OnRCAAAwNv86dEIAABilAjt0QgAAABQGO3RCAADoggk7dEIAANDxDDt0QgAAuGAQO3RCAACgzxM7dEIAAIg+Fzt0QgAAcK0aO3RCAABYHB47dEIAAECLITt0QgAAKPokO3RCAAAQaSg7dEIAAPjXKzt0QgAA4EYvO3RCAADItTI7dEIAALAkNjt0QgAAmJM5O3RCAACAAj07dEIAAGhxQDt0QgAAUOBDO3RCAAA4T0c7dEIAACC+Sjt0QgAACC1OO3RCAADwm1E7dEIAANgKVTt0QgAAwHlYO3RCAACo6Fs7dEIAAJBXXzt0QgAAeMZiO3RCAABgNWY7dEIAAEikaTt0QgAAMBNtO3RCAAAYgnA7dEIAAADxczt0QgAA6F93O3RCAADQzno7dEIAALg9fjt0QgAAoKyBO3RCAACIG4U7dEIAAHCKiDt0QgAAWPmLO3RCAABAaI87dEIAACjXkjt0QgAAEEaWO3RCAAD4tJk7dEIAAOAjnTt0QgAAyJKgO3RCAACwAaQ7dEIAAJhwpzt0QgAAgN+qO3RCAABoTq47dEIAAFC9sTt0QgAAOCy1O3RCAAAgm7g7dEIAAAgKvDt0QgAA8Hi/O3RCAADY58I7dEIAAMBWxjt0QgAAqMXJO3RCAACQNM07dEIAAHij0Dt0QgAAYBLUO3RC\",\"dtype\":\"float64\",\"shape\":[96]},\"y\":{\"__ndarray__\":\"OjH0ebY3iUDqMYQYrMmFQCPbAtfZ/4FALlX+dmV0e0D+jLfhKTFxQEBI+cjcRWBAs+k3cOFEWUDOyeSsaCJgQBszia0tGGpAvy7tB7AldEBiZvc4k3B+QJiPKIlbR4NAp+LYxUYWhUD9C6m+jeyFQAOdJsGBpYVAQS0BzrfxhUAPbyR5qkGEQMIFw8rjJIZAtcF8omwmh0AGJBN6JIiGQOa0ZnuUoIJAoLhj8Z/ngUAIcSwJW5qAQGlqjuUploBAgw5Vv6ELdUDeIZR/AjluQJPm+36OdmVAnfL17L+JX0Dg6/3gVa5YQOLEKti+Q1tApg6LYMzzZ0CeUiqsE/hyQGWJabct8nVA3qzCEyFJgEBMOhYrfCqBQI3CMQykfoFA8o79HPN0gkAa3/oYCSiEQOA5bKBOd4VAcSjuBt2/hEDlvaJYxFKEQLDfBN6RE4ZARcOiSzlhiUAKO0UtBNGIQNRX8UDBdYRAKJ3CyZN4gUCmTJcEsjKAQCZbW9oiO3lAGHFmY3DYbUDoTsyMmFNhQKvzaopDbFdAE3Cn1Yl+UUAAblZGTJhPQCjtwkHr+FlAWleHtc05ckAU2EPZeJmBQC4H7ECSK4hA2oHqouvMh0Ay5kgKMRaEQAfoL+7RX4NAdJzb8f5YgUCjKW4M7pt+QM3MzMzMGHlAmpmZmZnldkDNzMzMzABwQGZmZmZm9mRAMzMzMzNbZEAzMzMzM8tpQJqZmZmZ+W1AMzMzMzMjcEDNzMzMzPxwQM3MzMzMKHBAzczMzMy8aUBmZmZmZu5iQF7KuatdQFJAsu2iOsf9SUCdsxiRjRRNQGZmZmZmZkNAMzMzMzOTTkAOFK1T73J2QFhYZeolPn9ALCNdUkz9gEAtVrrFDDOAQPEi9ctD2YBAdf8ArakLgkAj1B/z7zeCQEAOVM3xboJAjWncd+oTgkB+9axj+JeAQCgKrp9yWIJA2YRVECq2hkB9syCR0a6JQFdA9cTW4YdASNi0rorHhkCamZmZmXmKQM3eb4UasYBA\",\"dtype\":\"float64\",\"shape\":[96]}},\"selected\":{\"id\":\"1938\",\"type\":\"Selection\"},\"selection_policy\":{\"id\":\"1937\",\"type\":\"UnionRenderers\"}},\"id\":\"1880\",\"type\":\"ColumnDataSource\"},{\"attributes\":{\"days\":[1,4,7,10,13,16,19,22,25,28]},\"id\":\"1842\",\"type\":\"DaysTicker\"},{\"attributes\":{\"months\":[0,6]},\"id\":\"1848\",\"type\":\"MonthsTicker\"},{\"attributes\":{\"active_drag\":\"auto\",\"active_inspect\":\"auto\",\"active_multi\":null,\"active_scroll\":\"auto\",\"active_tap\":\"auto\",\"tools\":[{\"id\":\"1814\",\"type\":\"PanTool\"},{\"id\":\"1815\",\"type\":\"WheelZoomTool\"},{\"id\":\"1816\",\"type\":\"BoxZoomTool\"},{\"id\":\"1817\",\"type\":\"SaveTool\"},{\"id\":\"1818\",\"type\":\"ResetTool\"},{\"id\":\"1819\",\"type\":\"HelpTool\"}]},\"id\":\"1820\",\"type\":\"Toolbar\"},{\"attributes\":{},\"id\":\"1802\",\"type\":\"LinearScale\"},{\"attributes\":{},\"id\":\"1971\",\"type\":\"Selection\"},{\"attributes\":{\"source\":{\"id\":\"1827\",\"type\":\"ColumnDataSource\"}},\"id\":\"1831\",\"type\":\"CDSView\"},{\"attributes\":{\"callback\":null,\"data\":{\"x\":{\"__ndarray__\":\"AABI6o06dEIAADBZkTp0QgAAGMiUOnRCAAAAN5g6dEIAAOilmzp0QgAA0BSfOnRCAAC4g6I6dEIAAKDypTp0QgAAiGGpOnRCAABw0Kw6dEIAAFg/sDp0QgAAQK6zOnRCAAAoHbc6dEIAABCMujp0QgAA+Pq9OnRCAADgacE6dEIAAMjYxDp0QgAAsEfIOnRCAACYtss6dEIAAIAlzzp0QgAAaJTSOnRCAABQA9Y6dEIAADhy2Tp0QgAAIOHcOnRCAAAIUOA6dEIAAPC+4zp0QgAA2C3nOnRCAADAnOo6dEIAAKgL7jp0QgAAkHrxOnRCAAB46fQ6dEIAAGBY+Dp0QgAASMf7OnRCAAAwNv86dEIAABilAjt0QgAAABQGO3RCAADoggk7dEIAANDxDDt0QgAAuGAQO3RCAACgzxM7dEIAAIg+Fzt0QgAAcK0aO3RCAABYHB47dEIAAECLITt0QgAAKPokO3RCAAAQaSg7dEIAAPjXKzt0QgAA4EYvO3RCAADItTI7dEIAALAkNjt0QgAAmJM5O3RCAACAAj07dEIAAGhxQDt0QgAAUOBDO3RCAAA4T0c7dEIAACC+Sjt0QgAACC1OO3RCAADwm1E7dEIAANgKVTt0QgAAwHlYO3RCAACo6Fs7dEIAAJBXXzt0QgAAeMZiO3RCAABgNWY7dEIAAEikaTt0QgAAMBNtO3RCAAAYgnA7dEIAAADxczt0QgAA6F93O3RCAADQzno7dEIAALg9fjt0QgAAoKyBO3RCAACIG4U7dEIAAHCKiDt0QgAAWPmLO3RCAABAaI87dEIAACjXkjt0QgAAEEaWO3RCAAD4tJk7dEIAAOAjnTt0QgAAyJKgO3RCAACwAaQ7dEIAAJhwpzt0QgAAgN+qO3RCAABoTq47dEIAAFC9sTt0QgAAOCy1O3RCAAAgm7g7dEIAAAgKvDt0QgAA8Hi/O3RCAADY58I7dEIAAMBWxjt0QgAAqMXJO3RCAACQNM07dEIAAHij0Dt0QgAAYBLUO3RC\",\"dtype\":\"float64\",\"shape\":[96]},\"y\":{\"__ndarray__\":\"OjH0ebY3iUDqMYQYrMmFQCPbAtfZ/4FALlX+dmV0e0D+jLfhKTFxQEBI+cjcRWBAs+k3cOFEWUDOyeSsaCJgQBszia0tGGpAvy7tB7AldEBiZvc4k3B+QJiPKIlbR4NAp+LYxUYWhUD9C6m+jeyFQAOdJsGBpYVAQS0BzrfxhUAPbyR5qkGEQMIFw8rjJIZAtcF8omwmh0AGJBN6JIiGQOa0ZnuUoIJAoLhj8Z/ngUAIcSwJW5qAQGlqjuUploBAgw5Vv6ELdUDeIZR/AjluQJPm+36OdmVAnfL17L+JX0Dg6/3gVa5YQOLEKti+Q1tApg6LYMzzZ0CeUiqsE/hyQGWJabct8nVA3qzCEyFJgEBMOhYrfCqBQI3CMQykfoFA8o79HPN0gkAa3/oYCSiEQOA5bKBOd4VAcSjuBt2/hEDlvaJYxFKEQLDfBN6RE4ZARcOiSzlhiUAKO0UtBNGIQNRX8UDBdYRAKJ3CyZN4gUCmTJcEsjKAQCZbW9oiO3lAGHFmY3DYbUDoTsyMmFNhQKvzaopDbFdAE3Cn1Yl+UUAAblZGTJhPQCjtwkHr+FlAWleHtc05ckAU2EPZeJmBQC4H7ECSK4hA2oHqouvMh0Ay5kgKMRaEQAfoL+7RX4NAdJzb8f5YgUCjKW4M7pt+QFOPoxPdl31A40Q7PH17eEDDVWMrXjtvQEW9XKq+4W5AARXVAsItcUCmoIuJrOBxQEH9vhrCnXFAUtjiBclEckC242G+cghyQEMfJGO1N21AJrwqQi9uZEBj3PUEdG5aQF7KuatdQFJAsu2iOsf9SUCdsxiRjRRNQELz569j01dA0FR2eFUxZ0AOFK1T73J2QFhYZeolPn9ALCNdUkz9gEAtVrrFDDOAQPEi9ctD2YBAdf8ArakLgkAj1B/z7zeCQEAOVM3xboJAjWncd+oTgkB+9axj+JeAQCgKrp9yWIJA2YRVECq2hkB9syCR0a6JQFdA9cTW4YdASNi0rorHhkAk1c6i9BaFQM3eb4UasYBA\",\"dtype\":\"float64\",\"shape\":[96]}},\"selected\":{\"id\":\"1878\",\"type\":\"Selection\"},\"selection_policy\":{\"id\":\"1877\",\"type\":\"UnionRenderers\"}},\"id\":\"1827\",\"type\":\"ColumnDataSource\"},{\"attributes\":{},\"id\":\"1849\",\"type\":\"YearsTicker\"},{\"attributes\":{},\"id\":\"1937\",\"type\":\"UnionRenderers\"},{\"attributes\":{\"formatter\":{\"id\":\"1834\",\"type\":\"DatetimeTickFormatter\"},\"ticker\":{\"id\":\"1805\",\"type\":\"DatetimeTicker\"}},\"id\":\"1804\",\"type\":\"DatetimeAxis\"},{\"attributes\":{\"line_alpha\":0.1,\"line_color\":\"#1f77b4\",\"line_width\":2,\"x\":{\"field\":\"x\"},\"y\":{\"field\":\"y\"}},\"id\":\"1911\",\"type\":\"Line\"},{\"attributes\":{\"label\":{\"value\":\"EIA weather and holidays\"},\"renderers\":[{\"id\":\"1912\",\"type\":\"GlyphRenderer\"}]},\"id\":\"1939\",\"type\":\"LegendItem\"},{\"attributes\":{},\"id\":\"1814\",\"type\":\"PanTool\"},{\"attributes\":{\"bottom_units\":\"screen\",\"fill_alpha\":{\"value\":0.5},\"fill_color\":{\"value\":\"lightgrey\"},\"left_units\":\"screen\",\"level\":\"overlay\",\"line_alpha\":{\"value\":1.0},\"line_color\":{\"value\":\"black\"},\"line_dash\":[4,4],\"line_width\":{\"value\":2},\"render_mode\":\"css\",\"right_units\":\"screen\",\"top_units\":\"screen\"},\"id\":\"1850\",\"type\":\"BoxAnnotation\"},{\"attributes\":{\"data_source\":{\"id\":\"1827\",\"type\":\"ColumnDataSource\"},\"glyph\":{\"id\":\"1828\",\"type\":\"Line\"},\"hover_glyph\":null,\"muted_glyph\":null,\"nonselection_glyph\":{\"id\":\"1829\",\"type\":\"Line\"},\"selection_glyph\":null,\"view\":{\"id\":\"1831\",\"type\":\"CDSView\"}},\"id\":\"1830\",\"type\":\"GlyphRenderer\"},{\"attributes\":{\"callback\":null,\"data\":{\"x\":{\"__ndarray__\":\"AABI6o06dEIAADBZkTp0QgAAGMiUOnRCAAAAN5g6dEIAAOilmzp0QgAA0BSfOnRCAAC4g6I6dEIAAKDypTp0QgAAiGGpOnRCAABw0Kw6dEIAAFg/sDp0QgAAQK6zOnRCAAAoHbc6dEIAABCMujp0QgAA+Pq9OnRCAADgacE6dEIAAMjYxDp0QgAAsEfIOnRCAACYtss6dEIAAIAlzzp0QgAAaJTSOnRCAABQA9Y6dEIAADhy2Tp0QgAAIOHcOnRCAAAIUOA6dEIAAPC+4zp0QgAA2C3nOnRCAADAnOo6dEIAAKgL7jp0QgAAkHrxOnRCAAB46fQ6dEIAAGBY+Dp0QgAASMf7OnRCAAAwNv86dEIAABilAjt0QgAAABQGO3RCAADoggk7dEIAANDxDDt0QgAAuGAQO3RCAACgzxM7dEIAAIg+Fzt0QgAAcK0aO3RCAABYHB47dEIAAECLITt0QgAAKPokO3RCAAAQaSg7dEIAAPjXKzt0QgAA4EYvO3RCAADItTI7dEIAALAkNjt0QgAAmJM5O3RCAACAAj07dEIAAGhxQDt0QgAAUOBDO3RCAAA4T0c7dEIAACC+Sjt0QgAACC1OO3RCAADwm1E7dEIAANgKVTt0QgAAwHlYO3RCAACo6Fs7dEIAAJBXXzt0QgAAeMZiO3RCAABgNWY7dEIAAEikaTt0QgAAMBNtO3RCAAAYgnA7dEIAAADxczt0QgAA6F93O3RCAADQzno7dEIAALg9fjt0QgAAoKyBO3RCAACIG4U7dEIAAHCKiDt0QgAAWPmLO3RCAABAaI87dEIAACjXkjt0QgAAEEaWO3RCAAD4tJk7dEIAAOAjnTt0QgAAyJKgO3RCAACwAaQ7dEIAAJhwpzt0QgAAgN+qO3RCAABoTq47dEIAAFC9sTt0QgAAOCy1O3RCAAAgm7g7dEIAAAgKvDt0QgAA8Hi/O3RCAADY58I7dEIAAMBWxjt0QgAAqMXJO3RCAACQNM07dEIAAHij0Dt0QgAAYBLUO3RC\",\"dtype\":\"float64\",\"shape\":[96]},\"y\":{\"__ndarray__\":\"uW/OsB0TiUBKvhVyea+FQFgILRTot4FA+1ECEvpXe0DoPNNplWtwQPPEVMUagl5ACaEstPqLV0AaYnLKp69gQIsh85QarGlAm8XwtEELdEC6CY7cZyt+QNvsCeqdMoNAw4r7uq4thUCvud08EqeFQHqAAt6jSoVAdFRb7qGnhUCKB4vIBSGEQOTzIotj3YVAYXN+Fqxyh0BSlB0Scm6GQGEvNo9wMoJAbEzS7SGDgUAY7skHyW6AQKFD6KUpoIBAnEes6V5MdkAEoIoq1NFwQAA3TEZln2dAuPgBQlb2XkCmlJB2skJWQJ+Rb7ZcCFRAYGA2XyrNY0DHz1181x1wQJf+beDZsnVAa0sZxVUUfUAedLYPs+SAQF1cKGXmRoJAtCEkjHKLg0AIsdN6rnGEQAafMSAqm4VAU73ncQbihEDa8DXI4fmDQL44KlWalIVAyiMQjTOth0AAgO2KokCGQOZAsHUNCYNAJY7e46sIgUAiNKITayh/QNkPRT5LTXdAsAlBa/wJbUAOF4hbdF5iQHagAsGtg1hAp31LHnIGVEBgPkLBBwRVQGYZAO8cqmBAmDpTfmKZcECuspkGqJaAQFC7F0sSiIdAXArQxTcFh0AzHgP6uRmEQD7ZIijRtYNAkkWLKB45gUD+UOAvGqV/QM3MzMzMGHlAmpmZmZnldkDNzMzMzABwQGZmZmZm9mRAMzMzMzNbZEAzMzMzM8tpQJqZmZmZ+W1AMzMzMzMjcEDNzMzMzPxwQM3MzMzMKHBAzczMzMy8aUBmZmZmZu5iQJXrbMMC/kRAxzPG1qinQkDg2/QMk05IQGZmZmZmZkNAMzMzMzOTTkBRDjuTn311QIITm2pjUYBAHxFEqOO4gUAiv927KjuBQN4vQr3+E4JAsKXtXeergkBfdFAXW8OCQMYXXhtkvYJAJhJL7vP4gUCamZmZmXGCQM6sIIy0qYJAW9L5clyIh0CWSF6imT2KQOAa3hXt6ohAYdQ88qWyh0BobSgMO3yFQErkedx5sIBA\",\"dtype\":\"float64\",\"shape\":[96]}},\"selected\":{\"id\":\"1971\",\"type\":\"Selection\"},\"selection_policy\":{\"id\":\"1970\",\"type\":\"UnionRenderers\"}},\"id\":\"1909\",\"type\":\"ColumnDataSource\"},{\"attributes\":{\"line_alpha\":0.1,\"line_color\":\"#1f77b4\",\"line_width\":2,\"x\":{\"field\":\"x\"},\"y\":{\"field\":\"y\"}},\"id\":\"1942\",\"type\":\"Line\"},{\"attributes\":{},\"id\":\"2059\",\"type\":\"UnionRenderers\"},{\"attributes\":{\"data_source\":{\"id\":\"1880\",\"type\":\"ColumnDataSource\"},\"glyph\":{\"id\":\"1881\",\"type\":\"Line\"},\"hover_glyph\":null,\"muted_glyph\":null,\"nonselection_glyph\":{\"id\":\"1882\",\"type\":\"Line\"},\"selection_glyph\":null,\"view\":{\"id\":\"1884\",\"type\":\"CDSView\"}},\"id\":\"1883\",\"type\":\"GlyphRenderer\"},{\"attributes\":{},\"id\":\"1800\",\"type\":\"LinearScale\"},{\"attributes\":{},\"id\":\"1815\",\"type\":\"WheelZoomTool\"},{\"attributes\":{\"line_alpha\":0.1,\"line_color\":\"#1f77b4\",\"line_width\":2,\"x\":{\"field\":\"x\"},\"y\":{\"field\":\"y\"}},\"id\":\"1855\",\"type\":\"Line\"},{\"attributes\":{\"source\":{\"id\":\"1909\",\"type\":\"ColumnDataSource\"}},\"id\":\"1913\",\"type\":\"CDSView\"},{\"attributes\":{\"overlay\":{\"id\":\"1850\",\"type\":\"BoxAnnotation\"}},\"id\":\"1816\",\"type\":\"BoxZoomTool\"},{\"attributes\":{\"base\":60,\"mantissas\":[1,2,5,10,15,20,30],\"max_interval\":1800000.0,\"min_interval\":1000.0,\"num_minor_ticks\":0},\"id\":\"1839\",\"type\":\"AdaptiveTicker\"},{\"attributes\":{},\"id\":\"2060\",\"type\":\"Selection\"},{\"attributes\":{},\"id\":\"1817\",\"type\":\"SaveTool\"},{\"attributes\":{},\"id\":\"1938\",\"type\":\"Selection\"},{\"attributes\":{\"callback\":null,\"data\":{\"x\":{\"__ndarray__\":\"AABI6o06dEIAADBZkTp0QgAAGMiUOnRCAAAAN5g6dEIAAOilmzp0QgAA0BSfOnRCAAC4g6I6dEIAAKDypTp0QgAAiGGpOnRCAABw0Kw6dEIAAFg/sDp0QgAAQK6zOnRCAAAoHbc6dEIAABCMujp0QgAA+Pq9OnRCAADgacE6dEIAAMjYxDp0QgAAsEfIOnRCAACYtss6dEIAAIAlzzp0QgAAaJTSOnRCAABQA9Y6dEIAADhy2Tp0QgAAIOHcOnRCAAAIUOA6dEIAAPC+4zp0QgAA2C3nOnRCAADAnOo6dEIAAKgL7jp0QgAAkHrxOnRCAAB46fQ6dEIAAGBY+Dp0QgAASMf7OnRCAAAwNv86dEIAABilAjt0QgAAABQGO3RCAADoggk7dEIAANDxDDt0QgAAuGAQO3RCAACgzxM7dEIAAIg+Fzt0QgAAcK0aO3RCAABYHB47dEIAAECLITt0QgAAKPokO3RCAAAQaSg7dEIAAPjXKzt0QgAA4EYvO3RCAADItTI7dEIAALAkNjt0QgAAmJM5O3RCAACAAj07dEIAAGhxQDt0QgAAUOBDO3RCAAA4T0c7dEIAACC+Sjt0QgAACC1OO3RCAADwm1E7dEIAANgKVTt0QgAAwHlYO3RCAACo6Fs7dEIAAJBXXzt0QgAAeMZiO3RCAABgNWY7dEIAAEikaTt0QgAAMBNtO3RCAAAYgnA7dEIAAADxczt0QgAA6F93O3RCAADQzno7dEIAALg9fjt0QgAAoKyBO3RCAACIG4U7dEIAAHCKiDt0QgAAWPmLO3RCAABAaI87dEIAACjXkjt0QgAAEEaWO3RCAAD4tJk7dEIAAOAjnTt0QgAAyJKgO3RCAACwAaQ7dEIAAJhwpzt0QgAAgN+qO3RCAABoTq47dEIAAFC9sTt0QgAAOCy1O3RCAAAgm7g7dEIAAAgKvDt0QgAA8Hi/O3RCAADY58I7dEIAAMBWxjt0QgAAqMXJO3RCAACQNM07dEIAAHij0Dt0QgAAYBLUO3RC\",\"dtype\":\"float64\",\"shape\":[96]},\"y\":{\"__ndarray__\":\"uW/OsB0TiUBKvhVyea+FQFgILRTot4FA+1ECEvpXe0DoPNNplWtwQPPEVMUagl5ACaEstPqLV0AaYnLKp69gQIsh85QarGlAm8XwtEELdEC6CY7cZyt+QNvsCeqdMoNAw4r7uq4thUCvud08EqeFQHqAAt6jSoVAdFRb7qGnhUCKB4vIBSGEQOTzIotj3YVAYXN+Fqxyh0BSlB0Scm6GQGEvNo9wMoJAbEzS7SGDgUAY7skHyW6AQKFD6KUpoIBAnEes6V5MdkAEoIoq1NFwQAA3TEZln2dAuPgBQlb2XkCmlJB2skJWQJ+Rb7ZcCFRAYGA2XyrNY0DHz1181x1wQJf+beDZsnVAa0sZxVUUfUAedLYPs+SAQF1cKGXmRoJAtCEkjHKLg0AIsdN6rnGEQAafMSAqm4VAU73ncQbihEDa8DXI4fmDQL44KlWalIVAyiMQjTOth0AAgO2KokCGQOZAsHUNCYNAJY7e46sIgUAiNKITayh/QNkPRT5LTXdAsAlBa/wJbUAOF4hbdF5iQHagAsGtg1hAp31LHnIGVEBgPkLBBwRVQGYZAO8cqmBAmDpTfmKZcECuspkGqJaAQFC7F0sSiIdAXArQxTcFh0AzHgP6uRmEQD7ZIijRtYNAkkWLKB45gUD+UOAvGqV/QE2a/Cpta35AULDaddKEekBBhzirDPNyQLjNHcoFeXFAeCNdxBlccECtaA37061xQMITlu705HJA3uA9i+7EcUCNaVLW42pvQEvLUW/B3GhAxQKJ8JcWZECdlklOhSlUQJXrbMMC/kRAxzPG1qinQkDg2/QMk05IQGHXsbT5YlVAikV2XpWQZkBRDjuTn311QIITm2pjUYBAHxFEqOO4gUAiv927KjuBQN4vQr3+E4JAsKXtXeergkBfdFAXW8OCQMYXXhtkvYJAJhJL7vP4gUBCegCzd/iAQM6sIIy0qYJAW9L5clyIh0CWSF6imT2KQOAa3hXt6ohAYdQ88qWyh0BobSgMO3yFQErkedx5sIBA\",\"dtype\":\"float64\",\"shape\":[96]}},\"selected\":{\"id\":\"1907\",\"type\":\"Selection\"},\"selection_policy\":{\"id\":\"1906\",\"type\":\"UnionRenderers\"}},\"id\":\"1853\",\"type\":\"ColumnDataSource\"},{\"attributes\":{},\"id\":\"1906\",\"type\":\"UnionRenderers\"},{\"attributes\":{},\"id\":\"1818\",\"type\":\"ResetTool\"},{\"attributes\":{\"line_alpha\":0.1,\"line_color\":\"#1f77b4\",\"line_width\":2,\"x\":{\"field\":\"x\"},\"y\":{\"field\":\"y\"}},\"id\":\"1882\",\"type\":\"Line\"},{\"attributes\":{\"mantissas\":[1,2,5],\"max_interval\":500.0,\"num_minor_ticks\":0},\"id\":\"1838\",\"type\":\"AdaptiveTicker\"},{\"attributes\":{\"callback\":null},\"id\":\"1798\",\"type\":\"DataRange1d\"},{\"attributes\":{\"label\":{\"value\":\"EIA no external variables\"},\"renderers\":[{\"id\":\"1883\",\"type\":\"GlyphRenderer\"}]},\"id\":\"1908\",\"type\":\"LegendItem\"},{\"attributes\":{\"data_source\":{\"id\":\"1909\",\"type\":\"ColumnDataSource\"},\"glyph\":{\"id\":\"1910\",\"type\":\"Line\"},\"hover_glyph\":null,\"muted_glyph\":null,\"nonselection_glyph\":{\"id\":\"1911\",\"type\":\"Line\"},\"selection_glyph\":null,\"view\":{\"id\":\"1913\",\"type\":\"CDSView\"}},\"id\":\"1912\",\"type\":\"GlyphRenderer\"},{\"attributes\":{},\"id\":\"1819\",\"type\":\"HelpTool\"}],\"root_ids\":[\"1795\"]},\"title\":\"Bokeh Application\",\"version\":\"1.4.0\"}};\n",
       "  var render_items = [{\"docid\":\"774a0420-436a-4d3f-b900-08e10a489613\",\"roots\":{\"1795\":\"4e14781d-647b-481b-ba48-b5eafd11483b\"}}];\n",
       "  root.Bokeh.embed.embed_items_notebook(docs_json, render_items);\n",
       "\n",
       "  }\n",
       "  if (root.Bokeh !== undefined) {\n",
       "    embed_document(root);\n",
       "  } else {\n",
       "    var attempts = 0;\n",
       "    var timer = setInterval(function(root) {\n",
       "      if (root.Bokeh !== undefined) {\n",
       "        clearInterval(timer);\n",
       "        embed_document(root);\n",
       "      } else {\n",
       "        attempts++;\n",
       "        if (attempts > 100) {\n",
       "          clearInterval(timer);\n",
       "          console.log(\"Bokeh: ERROR: Unable to run BokehJS code because BokehJS library is missing\");\n",
       "        }\n",
       "      }\n",
       "    }, 10, root)\n",
       "  }\n",
       "})(window);"
      ],
      "application/vnd.bokehjs_exec.v0+json": ""
     },
     "metadata": {
      "application/vnd.bokehjs_exec.v0+json": {
       "id": "1795"
      }
     },
     "output_type": "display_data"
    }
   ],
   "source": [
    "s = slice('2014-1-19', '2014-1-22')\n",
    "\n",
    "p = figure(plot_width=800, plot_height=400, x_axis_type='datetime')\n",
    "p.line(x = pred_ne[s].index, y=pred_ne[s], line_width=2, legend_label='No external variables', color = Spectral8[0])\n",
    "p.line(x = pred_w_h[s].index, y=pred_w_h[s], line_width=2, legend_label='Weather and holidays', color = Spectral8[1])\n",
    "p.line(x = eia_ne[s].index, y=eia_ne[s], line_width=2, legend_label='EIA no external variables', color = Spectral8[3])\n",
    "p.line(x = eia_w_h[s].index, y=eia_w_h[s], line_width=2, legend_label='EIA weather and holidays', color = Spectral8[5])\n",
    "p.line(x = real[s].index, y=real[s], line_width=2, legend_label='Real demand', color = Spectral8[7])\n",
    "\n",
    "p.yaxis.axis_label = 'Predictions'\n",
    "p.title.text = 'Blizzard'\n",
    "p.legend.location = 'bottom_left'\n",
    "p.legend.click_policy=\"hide\"\n",
    "\n",
    "show(p)"
   ]
  },
  {
   "cell_type": "markdown",
   "metadata": {},
   "source": [
    "### Holidays"
   ]
  },
  {
   "cell_type": "markdown",
   "metadata": {},
   "source": [
    "**New Year's Eve**"
   ]
  },
  {
   "cell_type": "code",
   "execution_count": 24,
   "metadata": {
    "ExecuteTime": {
     "end_time": "2020-02-21T10:05:14.991247Z",
     "start_time": "2020-02-21T10:05:14.842374Z"
    }
   },
   "outputs": [
    {
     "data": {
      "text/html": [
       "\n",
       "\n",
       "\n",
       "\n",
       "\n",
       "\n",
       "  <div class=\"bk-root\" id=\"bc7eb0a9-66fa-4fea-89dd-77a5aa951802\" data-root-id=\"2235\"></div>\n"
      ]
     },
     "metadata": {},
     "output_type": "display_data"
    },
    {
     "data": {
      "application/javascript": [
       "(function(root) {\n",
       "  function embed_document(root) {\n",
       "    \n",
       "  var docs_json = {\"02e8ff9a-6478-465c-b3f6-df163c378f24\":{\"roots\":{\"references\":[{\"attributes\":{\"below\":[{\"id\":\"2244\",\"type\":\"DatetimeAxis\"}],\"center\":[{\"id\":\"2248\",\"type\":\"Grid\"},{\"id\":\"2253\",\"type\":\"Grid\"},{\"id\":\"2291\",\"type\":\"Legend\"}],\"left\":[{\"id\":\"2249\",\"type\":\"LinearAxis\"}],\"plot_height\":400,\"plot_width\":800,\"renderers\":[{\"id\":\"2270\",\"type\":\"GlyphRenderer\"},{\"id\":\"2296\",\"type\":\"GlyphRenderer\"},{\"id\":\"2323\",\"type\":\"GlyphRenderer\"},{\"id\":\"2352\",\"type\":\"GlyphRenderer\"},{\"id\":\"2383\",\"type\":\"GlyphRenderer\"}],\"title\":{\"id\":\"2272\",\"type\":\"Title\"},\"toolbar\":{\"id\":\"2260\",\"type\":\"Toolbar\"},\"x_range\":{\"id\":\"2236\",\"type\":\"DataRange1d\"},\"x_scale\":{\"id\":\"2240\",\"type\":\"LinearScale\"},\"y_range\":{\"id\":\"2238\",\"type\":\"DataRange1d\"},\"y_scale\":{\"id\":\"2242\",\"type\":\"LinearScale\"}},\"id\":\"2235\",\"subtype\":\"Figure\",\"type\":\"Plot\"},{\"attributes\":{},\"id\":\"2254\",\"type\":\"PanTool\"},{\"attributes\":{\"callback\":null,\"data\":{\"x\":{\"__ndarray__\":\"AABISvW+c0IAADC5+L5zQgAAGCj8vnNCAAAAl/++c0IAAOgFA79zQgAA0HQGv3NCAAC44wm/c0IAAKBSDb9zQgAAiMEQv3NCAABwMBS/c0IAAFifF79zQgAAQA4bv3NCAAAofR6/c0IAABDsIb9zQgAA+Folv3NCAADgySi/c0IAAMg4LL9zQgAAsKcvv3NCAACYFjO/c0IAAICFNr9zQgAAaPQ5v3NCAABQYz2/c0IAADjSQL9zQgAAIEFEv3NCAAAIsEe/c0IAAAiwR79zQgAA8B5Lv3NCAADYjU6/c0IAAMD8Ub9zQgAAqGtVv3NCAACQ2li/c0IAAHhJXL9zQgAAYLhfv3NCAABIJ2O/c0IAADCWZr9zQgAAGAVqv3NCAAAAdG2/c0IAAOjicL9zQgAA0FF0v3NCAAC4wHe/c0IAAKAve79zQgAAiJ5+v3NCAABwDYK/c0IAAFh8hb9zQgAAQOuIv3NCAAAoWoy/c0IAABDJj79zQgAA+DeTv3NCAADgppa/c0I=\",\"dtype\":\"float64\",\"shape\":[49]},\"y\":{\"__ndarray__\":\"MpDq6VYNeUDIUDkBm7BxQHJfEj4qKWhAlX7ZiGeIYEDatF5wt+xaQG5Taxxqgl5AHXxnO1Z6bEBjw24y2Kp5QKsXcslVDH5Alt8/4JeIfkCQYMXYh5h9QLt00c3psH5Ajf8OK/XbgUDFmj1c8kmDQIRs+l9MeYRAn+zD6BEPhUDUsXS2b5mDQAz2i/nf3YRAeEBCevzXiEB7mnJBrseJQHc6i0zzfYhAdWUK4w6PiED5LlEdkReHQK7rx2kAQoNAWyCtizSSekCNAEIQ4iaGQFj6oDbTjYpAqINlBTd4h0DIJBql+QCFQDJIJhjENIJAU7Yc4jlIfEAZOwnn4514QP7KVxUkDHhAEnNVbVkHeEBZSjknU0F4QOKZpoEk3HpAVoUCXLa0gUCmsaqN+tOEQOhH3kOjHoZA7E3x3CvjhUDK/vqiBTGFQGZ0Wi42FIVAtj5OrqYNhEDYYb393Q+FQG4wn+989YVAQKIYZnRRg0BuIUiv0kWCQBui+7AwjoJAG74SX9nQgUA=\",\"dtype\":\"float64\",\"shape\":[49]}},\"selected\":{\"id\":\"2347\",\"type\":\"Selection\"},\"selection_policy\":{\"id\":\"2346\",\"type\":\"UnionRenderers\"}},\"id\":\"2293\",\"type\":\"ColumnDataSource\"},{\"attributes\":{},\"id\":\"2377\",\"type\":\"UnionRenderers\"},{\"attributes\":{},\"id\":\"2255\",\"type\":\"WheelZoomTool\"},{\"attributes\":{\"callback\":null},\"id\":\"2236\",\"type\":\"DataRange1d\"},{\"attributes\":{},\"id\":\"2378\",\"type\":\"Selection\"},{\"attributes\":{},\"id\":\"2529\",\"type\":\"Selection\"},{\"attributes\":{\"overlay\":{\"id\":\"2290\",\"type\":\"BoxAnnotation\"}},\"id\":\"2256\",\"type\":\"BoxZoomTool\"},{\"attributes\":{\"callback\":null,\"data\":{\"x\":{\"__ndarray__\":\"AABISvW+c0IAADC5+L5zQgAAGCj8vnNCAAAAl/++c0IAAOgFA79zQgAA0HQGv3NCAAC44wm/c0IAAKBSDb9zQgAAiMEQv3NCAABwMBS/c0IAAFifF79zQgAAQA4bv3NCAAAofR6/c0IAABDsIb9zQgAA+Folv3NCAADgySi/c0IAAMg4LL9zQgAAsKcvv3NCAACYFjO/c0IAAICFNr9zQgAAaPQ5v3NCAABQYz2/c0IAADjSQL9zQgAAIEFEv3NCAAAIsEe/c0IAAAiwR79zQgAA8B5Lv3NCAADYjU6/c0IAAMD8Ub9zQgAAqGtVv3NCAACQ2li/c0IAAHhJXL9zQgAAYLhfv3NCAABIJ2O/c0IAADCWZr9zQgAAGAVqv3NCAAAAdG2/c0IAAOjicL9zQgAA0FF0v3NCAAC4wHe/c0IAAKAve79zQgAAiJ5+v3NCAABwDYK/c0IAAFh8hb9zQgAAQOuIv3NCAAAoWoy/c0IAABDJj79zQgAA+DeTv3NCAADgppa/c0I=\",\"dtype\":\"float64\",\"shape\":[49]},\"y\":{\"__ndarray__\":\"pbrlxkl5eUCUucLXY3BzQNXjydNRb2xAbVdWvLyUY0BtjOEkymlcQBhvgBb2lFlAPuJ7tQHIZECK3xqNRbJzQFmMe7SaUnlA86OM1OQfe0DV6xW2mZh8QHo6u+How39A/hSZ9eHagkA2Y5nuxzaEQEqIHjslxIRAw1a7haQKhUD+vxa/sCaDQPAA4GbzMoRAFwcJWJkIiECq8uabGC+IQH/BypfsModAmN5IdvZ4h0A79aYRQQaHQBJWGMbyNINAnbRTrtyHekCqd2FDEvN7QBjt/CNtx31ANceobKMZe0DLt7SGj4R4QL59cjTXUHVAEhKez3Cpb0Bu/R1xKD9nQFbBNE6FUGNA0M3gRFEIakC1ji6P3sxuQEk1uSw79XJANzLBoAcZeEDe0bf+aYp+QEAGJGVL3IFA2k14vt39gkCnO/WVQmiCQDR4bZh0eIFACj/YYsH5gED7fqqO5EGEQI8pMQd634VAlv/xUk4BgUAzuAkBFg59QMCBBQZbzXtAeok6tnx9eEA=\",\"dtype\":\"float64\",\"shape\":[49]}},\"selected\":{\"id\":\"2318\",\"type\":\"Selection\"},\"selection_policy\":{\"id\":\"2317\",\"type\":\"UnionRenderers\"}},\"id\":\"2267\",\"type\":\"ColumnDataSource\"},{\"attributes\":{\"callback\":null,\"data\":{\"x\":{\"__ndarray__\":\"AABISvW+c0IAADC5+L5zQgAAGCj8vnNCAAAAl/++c0IAAOgFA79zQgAA0HQGv3NCAAC44wm/c0IAAKBSDb9zQgAAiMEQv3NCAABwMBS/c0IAAFifF79zQgAAQA4bv3NCAAAofR6/c0IAABDsIb9zQgAA+Folv3NCAADgySi/c0IAAMg4LL9zQgAAsKcvv3NCAACYFjO/c0IAAICFNr9zQgAAaPQ5v3NCAABQYz2/c0IAADjSQL9zQgAAIEFEv3NCAAAIsEe/c0IAAAiwR79zQgAA8B5Lv3NCAADYjU6/c0IAAMD8Ub9zQgAAqGtVv3NCAACQ2li/c0IAAHhJXL9zQgAAYLhfv3NCAABIJ2O/c0IAADCWZr9zQgAAGAVqv3NCAAAAdG2/c0IAAOjicL9zQgAA0FF0v3NCAAC4wHe/c0IAAKAve79zQgAAiJ5+v3NCAABwDYK/c0IAAFh8hb9zQgAAQOuIv3NCAAAoWoy/c0IAABDJj79zQgAA+DeTv3NCAADgppa/c0I=\",\"dtype\":\"float64\",\"shape\":[49]},\"y\":{\"__ndarray__\":\"AAAAAAAYf0AzMzMzM6d2QAAAAAAAwG5AAAAAAACIZEBmZmZmZtZfQAAAAAAAsFNAAAAAAADgYUAAAAAAALhsQDMzMzMzL3NAmpmZmZkdeECamZmZmb18QDMzMzMzd4FAMzMzMzOFg0DNzMzMzAqEQDMzMzMzIYZAZmZmZmachUCamZmZmbWDQGZmZmZmwIVAZmZmZmZ6iEAzMzMzM++KQAAAAAAALoxAZmZmZmYGjEAAAAAAAHSIQDMzMzMzUYFAzczMzMwch0DNzMzMzByHQAAAAAAAtoVAzczMzMwOhEBmZmZmZhCCQDMzMzMz13lAmpmZmZnZbUDNzMzMzLRmQDMzMzMz62NAMzMzMzMjYkCamZmZmelnQM3MzMzMMHJAMzMzMzMPekAzMzMzM3uAQAAAAAAARoFAMzMzMzN9gUDNzMzMzIiBQM3MzMzM5H9AMzMzMzPtgUAAAAAAAByEQM3MzMzMAoFAmpmZmZmlfUDNzMzMzCh+QDMzMzMz13xAAAAAAACAc0A=\",\"dtype\":\"float64\",\"shape\":[49]}},\"selected\":{\"id\":\"2529\",\"type\":\"Selection\"},\"selection_policy\":{\"id\":\"2528\",\"type\":\"UnionRenderers\"}},\"id\":\"2380\",\"type\":\"ColumnDataSource\"},{\"attributes\":{\"days\":[1,8,15,22]},\"id\":\"2283\",\"type\":\"DaysTicker\"},{\"attributes\":{},\"id\":\"2346\",\"type\":\"UnionRenderers\"},{\"attributes\":{\"data_source\":{\"id\":\"2293\",\"type\":\"ColumnDataSource\"},\"glyph\":{\"id\":\"2294\",\"type\":\"Line\"},\"hover_glyph\":null,\"muted_glyph\":null,\"nonselection_glyph\":{\"id\":\"2295\",\"type\":\"Line\"},\"selection_glyph\":null,\"view\":{\"id\":\"2297\",\"type\":\"CDSView\"}},\"id\":\"2296\",\"type\":\"GlyphRenderer\"},{\"attributes\":{},\"id\":\"2257\",\"type\":\"SaveTool\"},{\"attributes\":{\"line_alpha\":0.1,\"line_color\":\"#1f77b4\",\"line_width\":2,\"x\":{\"field\":\"x\"},\"y\":{\"field\":\"y\"}},\"id\":\"2322\",\"type\":\"Line\"},{\"attributes\":{\"callback\":null},\"id\":\"2238\",\"type\":\"DataRange1d\"},{\"attributes\":{\"label\":{\"value\":\"EIA no external variables\"},\"renderers\":[{\"id\":\"2323\",\"type\":\"GlyphRenderer\"}]},\"id\":\"2348\",\"type\":\"LegendItem\"},{\"attributes\":{\"line_color\":\"#3288bd\",\"line_width\":2,\"x\":{\"field\":\"x\"},\"y\":{\"field\":\"y\"}},\"id\":\"2268\",\"type\":\"Line\"},{\"attributes\":{\"months\":[0,2,4,6,8,10]},\"id\":\"2286\",\"type\":\"MonthsTicker\"},{\"attributes\":{\"data_source\":{\"id\":\"2349\",\"type\":\"ColumnDataSource\"},\"glyph\":{\"id\":\"2350\",\"type\":\"Line\"},\"hover_glyph\":null,\"muted_glyph\":null,\"nonselection_glyph\":{\"id\":\"2351\",\"type\":\"Line\"},\"selection_glyph\":null,\"view\":{\"id\":\"2353\",\"type\":\"CDSView\"}},\"id\":\"2352\",\"type\":\"GlyphRenderer\"},{\"attributes\":{},\"id\":\"2258\",\"type\":\"ResetTool\"},{\"attributes\":{},\"id\":\"2240\",\"type\":\"LinearScale\"},{\"attributes\":{\"label\":{\"value\":\"EIA weather and holidays\"},\"renderers\":[{\"id\":\"2352\",\"type\":\"GlyphRenderer\"}]},\"id\":\"2379\",\"type\":\"LegendItem\"},{\"attributes\":{\"data_source\":{\"id\":\"2380\",\"type\":\"ColumnDataSource\"},\"glyph\":{\"id\":\"2381\",\"type\":\"Line\"},\"hover_glyph\":null,\"muted_glyph\":null,\"nonselection_glyph\":{\"id\":\"2382\",\"type\":\"Line\"},\"selection_glyph\":null,\"view\":{\"id\":\"2384\",\"type\":\"CDSView\"}},\"id\":\"2383\",\"type\":\"GlyphRenderer\"},{\"attributes\":{\"line_alpha\":0.1,\"line_color\":\"#1f77b4\",\"line_width\":2,\"x\":{\"field\":\"x\"},\"y\":{\"field\":\"y\"}},\"id\":\"2269\",\"type\":\"Line\"},{\"attributes\":{\"source\":{\"id\":\"2320\",\"type\":\"ColumnDataSource\"}},\"id\":\"2324\",\"type\":\"CDSView\"},{\"attributes\":{\"line_color\":\"#d53e4f\",\"line_width\":2,\"x\":{\"field\":\"x\"},\"y\":{\"field\":\"y\"}},\"id\":\"2381\",\"type\":\"Line\"},{\"attributes\":{},\"id\":\"2259\",\"type\":\"HelpTool\"},{\"attributes\":{\"days\":[1,2,3,4,5,6,7,8,9,10,11,12,13,14,15,16,17,18,19,20,21,22,23,24,25,26,27,28,29,30,31]},\"id\":\"2281\",\"type\":\"DaysTicker\"},{\"attributes\":{\"days\":[1,15]},\"id\":\"2284\",\"type\":\"DaysTicker\"},{\"attributes\":{\"months\":[0,4,8]},\"id\":\"2287\",\"type\":\"MonthsTicker\"},{\"attributes\":{},\"id\":\"2289\",\"type\":\"YearsTicker\"},{\"attributes\":{},\"id\":\"2347\",\"type\":\"Selection\"},{\"attributes\":{\"data_source\":{\"id\":\"2320\",\"type\":\"ColumnDataSource\"},\"glyph\":{\"id\":\"2321\",\"type\":\"Line\"},\"hover_glyph\":null,\"muted_glyph\":null,\"nonselection_glyph\":{\"id\":\"2322\",\"type\":\"Line\"},\"selection_glyph\":null,\"view\":{\"id\":\"2324\",\"type\":\"CDSView\"}},\"id\":\"2323\",\"type\":\"GlyphRenderer\"},{\"attributes\":{},\"id\":\"2242\",\"type\":\"LinearScale\"},{\"attributes\":{\"line_alpha\":0.1,\"line_color\":\"#1f77b4\",\"line_width\":2,\"x\":{\"field\":\"x\"},\"y\":{\"field\":\"y\"}},\"id\":\"2295\",\"type\":\"Line\"},{\"attributes\":{\"base\":24,\"mantissas\":[1,2,4,6,8,12],\"max_interval\":43200000.0,\"min_interval\":3600000.0,\"num_minor_ticks\":0},\"id\":\"2280\",\"type\":\"AdaptiveTicker\"},{\"attributes\":{\"formatter\":{\"id\":\"2274\",\"type\":\"DatetimeTickFormatter\"},\"ticker\":{\"id\":\"2245\",\"type\":\"DatetimeTicker\"}},\"id\":\"2244\",\"type\":\"DatetimeAxis\"},{\"attributes\":{\"text\":\"Blizzard\"},\"id\":\"2272\",\"type\":\"Title\"},{\"attributes\":{\"source\":{\"id\":\"2293\",\"type\":\"ColumnDataSource\"}},\"id\":\"2297\",\"type\":\"CDSView\"},{\"attributes\":{\"base\":60,\"mantissas\":[1,2,5,10,15,20,30],\"max_interval\":1800000.0,\"min_interval\":1000.0,\"num_minor_ticks\":0},\"id\":\"2279\",\"type\":\"AdaptiveTicker\"},{\"attributes\":{\"line_alpha\":0.1,\"line_color\":\"#1f77b4\",\"line_width\":2,\"x\":{\"field\":\"x\"},\"y\":{\"field\":\"y\"}},\"id\":\"2382\",\"type\":\"Line\"},{\"attributes\":{\"days\":[1,4,7,10,13,16,19,22,25,28]},\"id\":\"2282\",\"type\":\"DaysTicker\"},{\"attributes\":{},\"id\":\"2317\",\"type\":\"UnionRenderers\"},{\"attributes\":{\"bottom_units\":\"screen\",\"fill_alpha\":{\"value\":0.5},\"fill_color\":{\"value\":\"lightgrey\"},\"left_units\":\"screen\",\"level\":\"overlay\",\"line_alpha\":{\"value\":1.0},\"line_color\":{\"value\":\"black\"},\"line_dash\":[4,4],\"line_width\":{\"value\":2},\"render_mode\":\"css\",\"right_units\":\"screen\",\"top_units\":\"screen\"},\"id\":\"2290\",\"type\":\"BoxAnnotation\"},{\"attributes\":{\"num_minor_ticks\":5,\"tickers\":[{\"id\":\"2278\",\"type\":\"AdaptiveTicker\"},{\"id\":\"2279\",\"type\":\"AdaptiveTicker\"},{\"id\":\"2280\",\"type\":\"AdaptiveTicker\"},{\"id\":\"2281\",\"type\":\"DaysTicker\"},{\"id\":\"2282\",\"type\":\"DaysTicker\"},{\"id\":\"2283\",\"type\":\"DaysTicker\"},{\"id\":\"2284\",\"type\":\"DaysTicker\"},{\"id\":\"2285\",\"type\":\"MonthsTicker\"},{\"id\":\"2286\",\"type\":\"MonthsTicker\"},{\"id\":\"2287\",\"type\":\"MonthsTicker\"},{\"id\":\"2288\",\"type\":\"MonthsTicker\"},{\"id\":\"2289\",\"type\":\"YearsTicker\"}]},\"id\":\"2245\",\"type\":\"DatetimeTicker\"},{\"attributes\":{\"label\":{\"value\":\"No external variables\"},\"renderers\":[{\"id\":\"2270\",\"type\":\"GlyphRenderer\"}]},\"id\":\"2292\",\"type\":\"LegendItem\"},{\"attributes\":{\"source\":{\"id\":\"2267\",\"type\":\"ColumnDataSource\"}},\"id\":\"2271\",\"type\":\"CDSView\"},{\"attributes\":{\"line_color\":\"#66c2a5\",\"line_width\":2,\"x\":{\"field\":\"x\"},\"y\":{\"field\":\"y\"}},\"id\":\"2294\",\"type\":\"Line\"},{\"attributes\":{\"dimension\":1,\"ticker\":{\"id\":\"2250\",\"type\":\"BasicTicker\"}},\"id\":\"2253\",\"type\":\"Grid\"},{\"attributes\":{\"data_source\":{\"id\":\"2267\",\"type\":\"ColumnDataSource\"},\"glyph\":{\"id\":\"2268\",\"type\":\"Line\"},\"hover_glyph\":null,\"muted_glyph\":null,\"nonselection_glyph\":{\"id\":\"2269\",\"type\":\"Line\"},\"selection_glyph\":null,\"view\":{\"id\":\"2271\",\"type\":\"CDSView\"}},\"id\":\"2270\",\"type\":\"GlyphRenderer\"},{\"attributes\":{\"label\":{\"value\":\"Weather and holidays\"},\"renderers\":[{\"id\":\"2296\",\"type\":\"GlyphRenderer\"}]},\"id\":\"2319\",\"type\":\"LegendItem\"},{\"attributes\":{\"ticker\":{\"id\":\"2245\",\"type\":\"DatetimeTicker\"}},\"id\":\"2248\",\"type\":\"Grid\"},{\"attributes\":{},\"id\":\"2276\",\"type\":\"BasicTickFormatter\"},{\"attributes\":{\"months\":[0,1,2,3,4,5,6,7,8,9,10,11]},\"id\":\"2285\",\"type\":\"MonthsTicker\"},{\"attributes\":{},\"id\":\"2250\",\"type\":\"BasicTicker\"},{\"attributes\":{\"source\":{\"id\":\"2380\",\"type\":\"ColumnDataSource\"}},\"id\":\"2384\",\"type\":\"CDSView\"},{\"attributes\":{},\"id\":\"2318\",\"type\":\"Selection\"},{\"attributes\":{\"axis_label\":\"Predictions\",\"formatter\":{\"id\":\"2276\",\"type\":\"BasicTickFormatter\"},\"ticker\":{\"id\":\"2250\",\"type\":\"BasicTicker\"}},\"id\":\"2249\",\"type\":\"LinearAxis\"},{\"attributes\":{\"click_policy\":\"hide\",\"items\":[{\"id\":\"2292\",\"type\":\"LegendItem\"},{\"id\":\"2319\",\"type\":\"LegendItem\"},{\"id\":\"2348\",\"type\":\"LegendItem\"},{\"id\":\"2379\",\"type\":\"LegendItem\"},{\"id\":\"2412\",\"type\":\"LegendItem\"}],\"location\":\"bottom_left\"},\"id\":\"2291\",\"type\":\"Legend\"},{\"attributes\":{\"mantissas\":[1,2,5],\"max_interval\":500.0,\"num_minor_ticks\":0},\"id\":\"2278\",\"type\":\"AdaptiveTicker\"},{\"attributes\":{},\"id\":\"2410\",\"type\":\"UnionRenderers\"},{\"attributes\":{},\"id\":\"2274\",\"type\":\"DatetimeTickFormatter\"},{\"attributes\":{\"line_color\":\"#fdae61\",\"line_width\":2,\"x\":{\"field\":\"x\"},\"y\":{\"field\":\"y\"}},\"id\":\"2350\",\"type\":\"Line\"},{\"attributes\":{\"line_color\":\"#e6f598\",\"line_width\":2,\"x\":{\"field\":\"x\"},\"y\":{\"field\":\"y\"}},\"id\":\"2321\",\"type\":\"Line\"},{\"attributes\":{\"callback\":null,\"data\":{\"x\":{\"__ndarray__\":\"AABISvW+c0IAADC5+L5zQgAAGCj8vnNCAAAAl/++c0IAAOgFA79zQgAA0HQGv3NCAAC44wm/c0IAAKBSDb9zQgAAiMEQv3NCAABwMBS/c0IAAFifF79zQgAAQA4bv3NCAAAofR6/c0IAABDsIb9zQgAA+Folv3NCAADgySi/c0IAAMg4LL9zQgAAsKcvv3NCAACYFjO/c0IAAICFNr9zQgAAaPQ5v3NCAABQYz2/c0IAADjSQL9zQgAAIEFEv3NCAAAIsEe/c0IAAAiwR79zQgAA8B5Lv3NCAADYjU6/c0IAAMD8Ub9zQgAAqGtVv3NCAACQ2li/c0IAAHhJXL9zQgAAYLhfv3NCAABIJ2O/c0IAADCWZr9zQgAAGAVqv3NCAAAAdG2/c0IAAOjicL9zQgAA0FF0v3NCAAC4wHe/c0IAAKAve79zQgAAiJ5+v3NCAABwDYK/c0IAAFh8hb9zQgAAQOuIv3NCAAAoWoy/c0IAABDJj79zQgAA+DeTv3NCAADgppa/c0I=\",\"dtype\":\"float64\",\"shape\":[49]},\"y\":{\"__ndarray__\":\"MpDq6VYNeUDIUDkBm7BxQHJfEj4qKWhAlX7ZiGeIYEDatF5wt+xaQG5Taxxqgl5AHXxnO1Z6bEBjw24y2Kp5QAAAAAAAuGxAMzMzMzMvc0CamZmZmR14QJqZmZmZvXxAMzMzMzN3gUAzMzMzM4WDQM3MzMzMCoRAMzMzMzMhhkBmZmZmZpyFQJqZmZmZtYNAZmZmZmbAhUBmZmZmZnqIQDMzMzMz74pAAAAAAAAujEBmZmZmZgaMQAAAAAAAdIhAWyCtizSSekAzMzMzM1GBQFj6oDbTjYpAqINlBTd4h0DNzMzMzA6EQGZmZmZmEIJAMzMzMzPXeUCamZmZmdltQM3MzMzMtGZAMzMzMzPrY0AzMzMzMyNiQJqZmZmZ6WdAzczMzMwwckAzMzMzMw96QDMzMzMze4BAAAAAAABGgUAzMzMzM32BQM3MzMzMiIFAzczMzMzkf0AzMzMzM+2BQAAAAAAAHIRAzczMzMwCgUCamZmZmaV9QM3MzMzMKH5AMzMzMzPXfEA=\",\"dtype\":\"float64\",\"shape\":[49]}},\"selected\":{\"id\":\"2411\",\"type\":\"Selection\"},\"selection_policy\":{\"id\":\"2410\",\"type\":\"UnionRenderers\"}},\"id\":\"2349\",\"type\":\"ColumnDataSource\"},{\"attributes\":{\"months\":[0,6]},\"id\":\"2288\",\"type\":\"MonthsTicker\"},{\"attributes\":{},\"id\":\"2411\",\"type\":\"Selection\"},{\"attributes\":{},\"id\":\"2528\",\"type\":\"UnionRenderers\"},{\"attributes\":{\"active_drag\":\"auto\",\"active_inspect\":\"auto\",\"active_multi\":null,\"active_scroll\":\"auto\",\"active_tap\":\"auto\",\"tools\":[{\"id\":\"2254\",\"type\":\"PanTool\"},{\"id\":\"2255\",\"type\":\"WheelZoomTool\"},{\"id\":\"2256\",\"type\":\"BoxZoomTool\"},{\"id\":\"2257\",\"type\":\"SaveTool\"},{\"id\":\"2258\",\"type\":\"ResetTool\"},{\"id\":\"2259\",\"type\":\"HelpTool\"}]},\"id\":\"2260\",\"type\":\"Toolbar\"},{\"attributes\":{\"callback\":null,\"data\":{\"x\":{\"__ndarray__\":\"AABISvW+c0IAADC5+L5zQgAAGCj8vnNCAAAAl/++c0IAAOgFA79zQgAA0HQGv3NCAAC44wm/c0IAAKBSDb9zQgAAiMEQv3NCAABwMBS/c0IAAFifF79zQgAAQA4bv3NCAAAofR6/c0IAABDsIb9zQgAA+Folv3NCAADgySi/c0IAAMg4LL9zQgAAsKcvv3NCAACYFjO/c0IAAICFNr9zQgAAaPQ5v3NCAABQYz2/c0IAADjSQL9zQgAAIEFEv3NCAAAIsEe/c0IAAAiwR79zQgAA8B5Lv3NCAADYjU6/c0IAAMD8Ub9zQgAAqGtVv3NCAACQ2li/c0IAAHhJXL9zQgAAYLhfv3NCAABIJ2O/c0IAADCWZr9zQgAAGAVqv3NCAAAAdG2/c0IAAOjicL9zQgAA0FF0v3NCAAC4wHe/c0IAAKAve79zQgAAiJ5+v3NCAABwDYK/c0IAAFh8hb9zQgAAQOuIv3NCAAAoWoy/c0IAABDJj79zQgAA+DeTv3NCAADgppa/c0I=\",\"dtype\":\"float64\",\"shape\":[49]},\"y\":{\"__ndarray__\":\"pbrlxkl5eUCUucLXY3BzQNXjydNRb2xAbVdWvLyUY0BtjOEkymlcQBhvgBb2lFlAPuJ7tQHIZECK3xqNRbJzQFmMe7SaUnlA86OM1OQfe0DV6xW2mZh8QHo6u+How39A/hSZ9eHagkA2Y5nuxzaEQEqIHjslxIRAw1a7haQKhUD+vxa/sCaDQPAA4GbzMoRAFwcJWJkIiECq8uabGC+IQH/BypfsModAAAAAAAAujEBmZmZmZgaMQAAAAAAAdIhAnbRTrtyHekAzMzMzM1GBQM3MzMzMHIdAAAAAAAC2hUDNzMzMzA6EQGZmZmZmEIJAMzMzMzPXeUBu/R1xKD9nQFbBNE6FUGNA0M3gRFEIakAzMzMzMyNiQJqZmZmZ6WdANzLBoAcZeEDe0bf+aYp+QEAGJGVL3IFA2k14vt39gkCnO/WVQmiCQM3MzMzMiIFAzczMzMzkf0AzMzMzM+2BQI8pMQd634VAzczMzMwCgUCamZmZmaV9QM3MzMzMKH5AMzMzMzPXfEA=\",\"dtype\":\"float64\",\"shape\":[49]}},\"selected\":{\"id\":\"2378\",\"type\":\"Selection\"},\"selection_policy\":{\"id\":\"2377\",\"type\":\"UnionRenderers\"}},\"id\":\"2320\",\"type\":\"ColumnDataSource\"},{\"attributes\":{\"line_alpha\":0.1,\"line_color\":\"#1f77b4\",\"line_width\":2,\"x\":{\"field\":\"x\"},\"y\":{\"field\":\"y\"}},\"id\":\"2351\",\"type\":\"Line\"},{\"attributes\":{\"source\":{\"id\":\"2349\",\"type\":\"ColumnDataSource\"}},\"id\":\"2353\",\"type\":\"CDSView\"},{\"attributes\":{\"label\":{\"value\":\"Real demand\"},\"renderers\":[{\"id\":\"2383\",\"type\":\"GlyphRenderer\"}]},\"id\":\"2412\",\"type\":\"LegendItem\"}],\"root_ids\":[\"2235\"]},\"title\":\"Bokeh Application\",\"version\":\"1.4.0\"}};\n",
       "  var render_items = [{\"docid\":\"02e8ff9a-6478-465c-b3f6-df163c378f24\",\"roots\":{\"2235\":\"bc7eb0a9-66fa-4fea-89dd-77a5aa951802\"}}];\n",
       "  root.Bokeh.embed.embed_items_notebook(docs_json, render_items);\n",
       "\n",
       "  }\n",
       "  if (root.Bokeh !== undefined) {\n",
       "    embed_document(root);\n",
       "  } else {\n",
       "    var attempts = 0;\n",
       "    var timer = setInterval(function(root) {\n",
       "      if (root.Bokeh !== undefined) {\n",
       "        clearInterval(timer);\n",
       "        embed_document(root);\n",
       "      } else {\n",
       "        attempts++;\n",
       "        if (attempts > 100) {\n",
       "          clearInterval(timer);\n",
       "          console.log(\"Bokeh: ERROR: Unable to run BokehJS code because BokehJS library is missing\");\n",
       "        }\n",
       "      }\n",
       "    }, 10, root)\n",
       "  }\n",
       "})(window);"
      ],
      "application/vnd.bokehjs_exec.v0+json": ""
     },
     "metadata": {
      "application/vnd.bokehjs_exec.v0+json": {
       "id": "2235"
      }
     },
     "output_type": "display_data"
    }
   ],
   "source": [
    "s = slice('2012-12-31', '2013-1-1')\n",
    "\n",
    "p = figure(plot_width=800, plot_height=400, x_axis_type='datetime')\n",
    "p.line(x = pred_ne[s].index, y=pred_ne[s], line_width=2, legend_label='No external variables', color = Spectral8[0])\n",
    "p.line(x = pred_w_h[s].index, y=pred_w_h[s], line_width=2, legend_label='Weather and holidays', color = Spectral8[1])\n",
    "p.line(x = eia_ne[s].index, y=eia_ne[s], line_width=2, legend_label='EIA no external variables', color = Spectral8[3])\n",
    "p.line(x = eia_w_h[s].index, y=eia_w_h[s], line_width=2, legend_label='EIA weather and holidays', color = Spectral8[5])\n",
    "p.line(x = real[s].index, y=real[s], line_width=2, legend_label='Real demand', color = Spectral8[7])\n",
    "\n",
    "p.yaxis.axis_label = 'Predictions'\n",
    "p.title.text = 'Blizzard'\n",
    "p.legend.location = 'bottom_left'\n",
    "p.legend.click_policy=\"hide\"\n",
    "\n",
    "show(p)"
   ]
  },
  {
   "cell_type": "code",
   "execution_count": 25,
   "metadata": {
    "ExecuteTime": {
     "end_time": "2020-02-21T10:05:44.181743Z",
     "start_time": "2020-02-21T10:05:44.027976Z"
    }
   },
   "outputs": [
    {
     "data": {
      "text/html": [
       "\n",
       "\n",
       "\n",
       "\n",
       "\n",
       "\n",
       "  <div class=\"bk-root\" id=\"ee4b039f-b261-40e2-a1dd-57b1c0fdc06d\" data-root-id=\"2704\"></div>\n"
      ]
     },
     "metadata": {},
     "output_type": "display_data"
    },
    {
     "data": {
      "application/javascript": [
       "(function(root) {\n",
       "  function embed_document(root) {\n",
       "    \n",
       "  var docs_json = {\"56aefb48-16bf-4395-9ff2-f5b71a8bb9c8\":{\"roots\":{\"references\":[{\"attributes\":{\"below\":[{\"id\":\"2713\",\"type\":\"DatetimeAxis\"}],\"center\":[{\"id\":\"2717\",\"type\":\"Grid\"},{\"id\":\"2722\",\"type\":\"Grid\"},{\"id\":\"2760\",\"type\":\"Legend\"}],\"left\":[{\"id\":\"2718\",\"type\":\"LinearAxis\"}],\"plot_height\":400,\"plot_width\":800,\"renderers\":[{\"id\":\"2739\",\"type\":\"GlyphRenderer\"},{\"id\":\"2765\",\"type\":\"GlyphRenderer\"},{\"id\":\"2792\",\"type\":\"GlyphRenderer\"},{\"id\":\"2821\",\"type\":\"GlyphRenderer\"},{\"id\":\"2852\",\"type\":\"GlyphRenderer\"}],\"title\":{\"id\":\"2741\",\"type\":\"Title\"},\"toolbar\":{\"id\":\"2729\",\"type\":\"Toolbar\"},\"x_range\":{\"id\":\"2705\",\"type\":\"DataRange1d\"},\"x_scale\":{\"id\":\"2709\",\"type\":\"LinearScale\"},\"y_range\":{\"id\":\"2707\",\"type\":\"DataRange1d\"},\"y_scale\":{\"id\":\"2711\",\"type\":\"LinearScale\"}},\"id\":\"2704\",\"subtype\":\"Figure\",\"type\":\"Plot\"},{\"attributes\":{\"callback\":null,\"data\":{\"x\":{\"__ndarray__\":\"AAAIXXA0dEIAAPDLczR0QgAA2Dp3NHRCAADAqXo0dEIAAKgYfjR0QgAAkIeBNHRCAAB49oQ0dEIAAGBliDR0QgAASNSLNHRCAAAwQ480dEIAABiykjR0QgAAACGWNHRCAADoj5k0dEIAAND+nDR0QgAAuG2gNHRCAACg3KM0dEIAAIhLpzR0QgAAcLqqNHRCAABYKa40dEIAAECYsTR0QgAAKAe1NHRCAAAQdrg0dEIAAPjkuzR0QgAA4FO/NHRCAADIwsI0dEIAAMjCwjR0QgAAsDHGNHRCAACYoMk0dEIAAIAPzTR0QgAAaH7QNHRCAABQ7dM0dEIAADhc1zR0QgAAIMvaNHRCAAAIOt40dEIAAPCo4TR0QgAA2BflNHRCAADAhug0dEIAAKj16zR0QgAAkGTvNHRCAAB40/I0dEIAAGBC9jR0QgAASLH5NHRCAAAwIP00dEIAABiPADV0QgAAAP4DNXRCAADobAc1dEIAANDbCjV0QgAAuEoONXRCAACguRE1dEI=\",\"dtype\":\"float64\",\"shape\":[49]},\"y\":{\"__ndarray__\":\"m7XHPK28ekDZuwNKYb1yQEiIYkRFUmpAq2lY3xVJYUCgMl+NP2BZQAZA48EQlFlA6qcmT2jgZ0DFk21BdGN1QPtyVlx8vHpAThMuMHqZf0Dmlcn0XpGAQIAak3GPd4FAujtPcFTJg0Cgyg/2HVCFQECedIxAaYZAorAyBRpChkAE+m3Tlk6DQBoFvNEr0YRAZm37IxzmiUABHYEGll+JQLMhWothn4hAq4Y2zGfyiEB6bGV2LY6IQP5u7hsO+YRAWGlAMyVIfEDarvPrEvp8QI9r3KBpi4BAnnbcg9kQfUDaMh8nQMR3QERAYftdvXNA8FF5Y8PUbUBl+xjpxSxoQJp90QtWf2NAfJh7Da5LZUDyz20J98FoQIDobGViXXJA3R5V3odkeEAbJXwCScF+QCDYHmOzkIFAqu0blPo1g0C0qMEKK9SDQPnnUnE8q4JAqLWXmmiygUBGr+usqOiCQA6COJk4r4JASsbbtAGbgEDtYj7R4Fl6QPYgDaSXGHlAGB2Ub46RdkA=\",\"dtype\":\"float64\",\"shape\":[49]}},\"selected\":{\"id\":\"2787\",\"type\":\"Selection\"},\"selection_policy\":{\"id\":\"2786\",\"type\":\"UnionRenderers\"}},\"id\":\"2736\",\"type\":\"ColumnDataSource\"},{\"attributes\":{},\"id\":\"2880\",\"type\":\"Selection\"},{\"attributes\":{\"line_alpha\":0.1,\"line_color\":\"#1f77b4\",\"line_width\":2,\"x\":{\"field\":\"x\"},\"y\":{\"field\":\"y\"}},\"id\":\"2820\",\"type\":\"Line\"},{\"attributes\":{\"callback\":null,\"data\":{\"x\":{\"__ndarray__\":\"AAAIXXA0dEIAAPDLczR0QgAA2Dp3NHRCAADAqXo0dEIAAKgYfjR0QgAAkIeBNHRCAAB49oQ0dEIAAGBliDR0QgAASNSLNHRCAAAwQ480dEIAABiykjR0QgAAACGWNHRCAADoj5k0dEIAAND+nDR0QgAAuG2gNHRCAACg3KM0dEIAAIhLpzR0QgAAcLqqNHRCAABYKa40dEIAAECYsTR0QgAAKAe1NHRCAAAQdrg0dEIAAPjkuzR0QgAA4FO/NHRCAADIwsI0dEIAAMjCwjR0QgAAsDHGNHRCAACYoMk0dEIAAIAPzTR0QgAAaH7QNHRCAABQ7dM0dEIAADhc1zR0QgAAIMvaNHRCAAAIOt40dEIAAPCo4TR0QgAA2BflNHRCAADAhug0dEIAAKj16zR0QgAAkGTvNHRCAAB40/I0dEIAAGBC9jR0QgAASLH5NHRCAAAwIP00dEIAABiPADV0QgAAAP4DNXRCAADobAc1dEIAANDbCjV0QgAAuEoONXRCAACguRE1dEI=\",\"dtype\":\"float64\",\"shape\":[49]},\"y\":{\"__ndarray__\":\"6pogUlE0eUCtmvk9Dq1xQPebUm9cjGlAnDPgLyJiYECH0Qh3KBdZQPagclStZlhAAt/cB8KUa0Dx4/Xt9jd4QNXZFEG4b31ABsbJjfqhgEB/U4deGquAQEuXQykzM4FAwEs+Pr5mg0BHXUBe7u6EQJDf/olfF4ZAFDOOOFQphkDCN/kUw+KDQF5L409s4oRAsI6RjNv9iUCTjbKSQV6JQPgnbfDslohAh4io4Q4viUDdKvmtp1KIQM4Xu9a98oNA1SuAnS5ggkARqBAgoeiEQKStHsl8/IVAhtHQnuSPg0C1RAi7N7V/QNZjJCmr2HdAmfZC1GgzcUAl9HqxishnQL1IQks28mJAGXCRNGICZ0CiVzNKUMBqQAvt4vjtzHFAdv4wj873eECHNS/tJUmAQGI5RXnn7oFA066x/xpWgkC26JEJEUSDQI02/Y8E3IJAfrQD/TScgUDXBR+DVJGCQF6TugrN7IFAYsc+Mv9IgUCwSAUulSF+QEofp062anxAw7+fa2b8eUA=\",\"dtype\":\"float64\",\"shape\":[49]}},\"selected\":{\"id\":\"2816\",\"type\":\"Selection\"},\"selection_policy\":{\"id\":\"2815\",\"type\":\"UnionRenderers\"}},\"id\":\"2762\",\"type\":\"ColumnDataSource\"},{\"attributes\":{\"callback\":null,\"data\":{\"x\":{\"__ndarray__\":\"AAAIXXA0dEIAAPDLczR0QgAA2Dp3NHRCAADAqXo0dEIAAKgYfjR0QgAAkIeBNHRCAAB49oQ0dEIAAGBliDR0QgAASNSLNHRCAAAwQ480dEIAABiykjR0QgAAACGWNHRCAADoj5k0dEIAAND+nDR0QgAAuG2gNHRCAACg3KM0dEIAAIhLpzR0QgAAcLqqNHRCAABYKa40dEIAAECYsTR0QgAAKAe1NHRCAAAQdrg0dEIAAPjkuzR0QgAA4FO/NHRCAADIwsI0dEIAAMjCwjR0QgAAsDHGNHRCAACYoMk0dEIAAIAPzTR0QgAAaH7QNHRCAABQ7dM0dEIAADhc1zR0QgAAIMvaNHRCAAAIOt40dEIAAPCo4TR0QgAA2BflNHRCAADAhug0dEIAAKj16zR0QgAAkGTvNHRCAAB40/I0dEIAAGBC9jR0QgAASLH5NHRCAAAwIP00dEIAABiPADV0QgAAAP4DNXRCAADobAc1dEIAANDbCjV0QgAAuEoONXRCAACguRE1dEI=\",\"dtype\":\"float64\",\"shape\":[49]},\"y\":{\"__ndarray__\":\"m7XHPK28ekDZuwNKYb1yQEiIYkRFUmpAq2lY3xVJYUCgMl+NP2BZQAZA48EQlFlA6qcmT2jgZ0DFk21BdGN1QPtyVlx8vHpAThMuMHqZf0Dmlcn0XpGAQIAak3GPd4FAujtPcFTJg0Cgyg/2HVCFQECedIxAaYZAorAyBRpChkAE+m3Tlk6DQBoFvNEr0YRAZm37IxzmiUABHYEGll+JQLMhWothn4hAmpmZmZmni0CamZmZmfuLQM3MzMzMmohAWGlAMyVIfEAAAAAAALaBQGZmZmZmVohAAAAAAACAhkBmZmZmZiaDQAAAAAAAsIBAAAAAAADoeEBl+xjpxSxoQJp90QtWf2NAfJh7Da5LZUDyz20J98FoQIDobGViXXJA3R5V3odkeEAbJXwCScF+QCDYHmOzkIFAqu0blPo1g0C0qMEKK9SDQPnnUnE8q4JAZmZmZmYWgEBmZmZmZpaBQAAAAAAAZIJAmpmZmZmngUDtYj7R4Fl6QPYgDaSXGHlAGB2Ub46RdkA=\",\"dtype\":\"float64\",\"shape\":[49]}},\"selected\":{\"id\":\"2847\",\"type\":\"Selection\"},\"selection_policy\":{\"id\":\"2846\",\"type\":\"UnionRenderers\"}},\"id\":\"2789\",\"type\":\"ColumnDataSource\"},{\"attributes\":{\"days\":[1,15]},\"id\":\"2753\",\"type\":\"DaysTicker\"},{\"attributes\":{\"active_drag\":\"auto\",\"active_inspect\":\"auto\",\"active_multi\":null,\"active_scroll\":\"auto\",\"active_tap\":\"auto\",\"tools\":[{\"id\":\"2723\",\"type\":\"PanTool\"},{\"id\":\"2724\",\"type\":\"WheelZoomTool\"},{\"id\":\"2725\",\"type\":\"BoxZoomTool\"},{\"id\":\"2726\",\"type\":\"SaveTool\"},{\"id\":\"2727\",\"type\":\"ResetTool\"},{\"id\":\"2728\",\"type\":\"HelpTool\"}]},\"id\":\"2729\",\"type\":\"Toolbar\"},{\"attributes\":{\"line_alpha\":0.1,\"line_color\":\"#1f77b4\",\"line_width\":2,\"x\":{\"field\":\"x\"},\"y\":{\"field\":\"y\"}},\"id\":\"2791\",\"type\":\"Line\"},{\"attributes\":{},\"id\":\"2846\",\"type\":\"UnionRenderers\"},{\"attributes\":{\"line_color\":\"#e6f598\",\"line_width\":2,\"x\":{\"field\":\"x\"},\"y\":{\"field\":\"y\"}},\"id\":\"2790\",\"type\":\"Line\"},{\"attributes\":{\"data_source\":{\"id\":\"2818\",\"type\":\"ColumnDataSource\"},\"glyph\":{\"id\":\"2819\",\"type\":\"Line\"},\"hover_glyph\":null,\"muted_glyph\":null,\"nonselection_glyph\":{\"id\":\"2820\",\"type\":\"Line\"},\"selection_glyph\":null,\"view\":{\"id\":\"2822\",\"type\":\"CDSView\"}},\"id\":\"2821\",\"type\":\"GlyphRenderer\"},{\"attributes\":{\"label\":{\"value\":\"EIA weather and holidays\"},\"renderers\":[{\"id\":\"2821\",\"type\":\"GlyphRenderer\"}]},\"id\":\"2848\",\"type\":\"LegendItem\"},{\"attributes\":{},\"id\":\"2723\",\"type\":\"PanTool\"},{\"attributes\":{\"source\":{\"id\":\"2736\",\"type\":\"ColumnDataSource\"}},\"id\":\"2740\",\"type\":\"CDSView\"},{\"attributes\":{\"click_policy\":\"hide\",\"items\":[{\"id\":\"2761\",\"type\":\"LegendItem\"},{\"id\":\"2788\",\"type\":\"LegendItem\"},{\"id\":\"2817\",\"type\":\"LegendItem\"},{\"id\":\"2848\",\"type\":\"LegendItem\"},{\"id\":\"2881\",\"type\":\"LegendItem\"}],\"location\":\"bottom_left\"},\"id\":\"2760\",\"type\":\"Legend\"},{\"attributes\":{},\"id\":\"2724\",\"type\":\"WheelZoomTool\"},{\"attributes\":{\"source\":{\"id\":\"2789\",\"type\":\"ColumnDataSource\"}},\"id\":\"2793\",\"type\":\"CDSView\"},{\"attributes\":{\"days\":[1,8,15,22]},\"id\":\"2752\",\"type\":\"DaysTicker\"},{\"attributes\":{},\"id\":\"2847\",\"type\":\"Selection\"},{\"attributes\":{\"data_source\":{\"id\":\"2762\",\"type\":\"ColumnDataSource\"},\"glyph\":{\"id\":\"2763\",\"type\":\"Line\"},\"hover_glyph\":null,\"muted_glyph\":null,\"nonselection_glyph\":{\"id\":\"2764\",\"type\":\"Line\"},\"selection_glyph\":null,\"view\":{\"id\":\"2766\",\"type\":\"CDSView\"}},\"id\":\"2765\",\"type\":\"GlyphRenderer\"},{\"attributes\":{\"overlay\":{\"id\":\"2759\",\"type\":\"BoxAnnotation\"}},\"id\":\"2725\",\"type\":\"BoxZoomTool\"},{\"attributes\":{},\"id\":\"3026\",\"type\":\"UnionRenderers\"},{\"attributes\":{\"callback\":null},\"id\":\"2707\",\"type\":\"DataRange1d\"},{\"attributes\":{},\"id\":\"2726\",\"type\":\"SaveTool\"},{\"attributes\":{},\"id\":\"2709\",\"type\":\"LinearScale\"},{\"attributes\":{},\"id\":\"2727\",\"type\":\"ResetTool\"},{\"attributes\":{\"line_color\":\"#66c2a5\",\"line_width\":2,\"x\":{\"field\":\"x\"},\"y\":{\"field\":\"y\"}},\"id\":\"2763\",\"type\":\"Line\"},{\"attributes\":{\"days\":[1,2,3,4,5,6,7,8,9,10,11,12,13,14,15,16,17,18,19,20,21,22,23,24,25,26,27,28,29,30,31]},\"id\":\"2750\",\"type\":\"DaysTicker\"},{\"attributes\":{\"line_alpha\":0.1,\"line_color\":\"#1f77b4\",\"line_width\":2,\"x\":{\"field\":\"x\"},\"y\":{\"field\":\"y\"}},\"id\":\"2738\",\"type\":\"Line\"},{\"attributes\":{},\"id\":\"2815\",\"type\":\"UnionRenderers\"},{\"attributes\":{\"line_alpha\":0.1,\"line_color\":\"#1f77b4\",\"line_width\":2,\"x\":{\"field\":\"x\"},\"y\":{\"field\":\"y\"}},\"id\":\"2764\",\"type\":\"Line\"},{\"attributes\":{\"source\":{\"id\":\"2818\",\"type\":\"ColumnDataSource\"}},\"id\":\"2822\",\"type\":\"CDSView\"},{\"attributes\":{\"callback\":null,\"data\":{\"x\":{\"__ndarray__\":\"AAAIXXA0dEIAAPDLczR0QgAA2Dp3NHRCAADAqXo0dEIAAKgYfjR0QgAAkIeBNHRCAAB49oQ0dEIAAGBliDR0QgAASNSLNHRCAAAwQ480dEIAABiykjR0QgAAACGWNHRCAADoj5k0dEIAAND+nDR0QgAAuG2gNHRCAACg3KM0dEIAAIhLpzR0QgAAcLqqNHRCAABYKa40dEIAAECYsTR0QgAAKAe1NHRCAAAQdrg0dEIAAPjkuzR0QgAA4FO/NHRCAADIwsI0dEIAAMjCwjR0QgAAsDHGNHRCAACYoMk0dEIAAIAPzTR0QgAAaH7QNHRCAABQ7dM0dEIAADhc1zR0QgAAIMvaNHRCAAAIOt40dEIAAPCo4TR0QgAA2BflNHRCAADAhug0dEIAAKj16zR0QgAAkGTvNHRCAAB40/I0dEIAAGBC9jR0QgAASLH5NHRCAAAwIP00dEIAABiPADV0QgAAAP4DNXRCAADobAc1dEIAANDbCjV0QgAAuEoONXRCAACguRE1dEI=\",\"dtype\":\"float64\",\"shape\":[49]},\"y\":{\"__ndarray__\":\"ZmZmZmYUgEBmZmZmZgp4QM3MzMzMZG5AAAAAAADIY0AAAAAAAABdQJqZmZmZGVRAZmZmZmZmY0AAAAAAAMhuQDMzMzMzz3ZAMzMzMzPre0DNzMzMzJB/QM3MzMzMnoJAmpmZmZknhUAAAAAAAIKGQGZmZmZmnodAmpmZmZm5hkBmZmZmZg6DQDMzMzMzC4ZAmpmZmZnXh0CamZmZmZOKQJqZmZmZp4tAmpmZmZn7i0DNzMzMzJqIQAAAAAAAtoFAZmZmZmZWiEBmZmZmZlaIQAAAAAAAgIZAZmZmZmYmg0AAAAAAALCAQAAAAAAA6HhAmpmZmZlZbkAAAAAAAKhlQAAAAAAA2GNAmpmZmZkhYkAzMzMzM7tpQM3MzMzMOHNAMzMzMzPbekDNzMzMzEiAQGZmZmZmaoFAMzMzMzNvgkDNzMzMzAyCQGZmZmZmFoBAZmZmZmaWgUAAAAAAAGSCQJqZmZmZp4FAAAAAAADcfEAAAAAAAEx7QAAAAAAA1HpAMzMzMzMXc0A=\",\"dtype\":\"float64\",\"shape\":[49]}},\"selected\":{\"id\":\"3027\",\"type\":\"Selection\"},\"selection_policy\":{\"id\":\"3026\",\"type\":\"UnionRenderers\"}},\"id\":\"2849\",\"type\":\"ColumnDataSource\"},{\"attributes\":{\"base\":60,\"mantissas\":[1,2,5,10,15,20,30],\"max_interval\":1800000.0,\"min_interval\":1000.0,\"num_minor_ticks\":0},\"id\":\"2748\",\"type\":\"AdaptiveTicker\"},{\"attributes\":{\"label\":{\"value\":\"EIA no external variables\"},\"renderers\":[{\"id\":\"2792\",\"type\":\"GlyphRenderer\"}]},\"id\":\"2817\",\"type\":\"LegendItem\"},{\"attributes\":{},\"id\":\"2728\",\"type\":\"HelpTool\"},{\"attributes\":{\"months\":[0,1,2,3,4,5,6,7,8,9,10,11]},\"id\":\"2754\",\"type\":\"MonthsTicker\"},{\"attributes\":{\"data_source\":{\"id\":\"2789\",\"type\":\"ColumnDataSource\"},\"glyph\":{\"id\":\"2790\",\"type\":\"Line\"},\"hover_glyph\":null,\"muted_glyph\":null,\"nonselection_glyph\":{\"id\":\"2791\",\"type\":\"Line\"},\"selection_glyph\":null,\"view\":{\"id\":\"2793\",\"type\":\"CDSView\"}},\"id\":\"2792\",\"type\":\"GlyphRenderer\"},{\"attributes\":{\"data_source\":{\"id\":\"2849\",\"type\":\"ColumnDataSource\"},\"glyph\":{\"id\":\"2850\",\"type\":\"Line\"},\"hover_glyph\":null,\"muted_glyph\":null,\"nonselection_glyph\":{\"id\":\"2851\",\"type\":\"Line\"},\"selection_glyph\":null,\"view\":{\"id\":\"2853\",\"type\":\"CDSView\"}},\"id\":\"2852\",\"type\":\"GlyphRenderer\"},{\"attributes\":{},\"id\":\"2711\",\"type\":\"LinearScale\"},{\"attributes\":{\"line_color\":\"#3288bd\",\"line_width\":2,\"x\":{\"field\":\"x\"},\"y\":{\"field\":\"y\"}},\"id\":\"2737\",\"type\":\"Line\"},{\"attributes\":{\"months\":[0,6]},\"id\":\"2757\",\"type\":\"MonthsTicker\"},{\"attributes\":{\"source\":{\"id\":\"2762\",\"type\":\"ColumnDataSource\"}},\"id\":\"2766\",\"type\":\"CDSView\"},{\"attributes\":{},\"id\":\"2816\",\"type\":\"Selection\"},{\"attributes\":{\"formatter\":{\"id\":\"2743\",\"type\":\"DatetimeTickFormatter\"},\"ticker\":{\"id\":\"2714\",\"type\":\"DatetimeTicker\"}},\"id\":\"2713\",\"type\":\"DatetimeAxis\"},{\"attributes\":{\"text\":\"Blizzard\"},\"id\":\"2741\",\"type\":\"Title\"},{\"attributes\":{},\"id\":\"2786\",\"type\":\"UnionRenderers\"},{\"attributes\":{\"dimension\":1,\"ticker\":{\"id\":\"2719\",\"type\":\"BasicTicker\"}},\"id\":\"2722\",\"type\":\"Grid\"},{\"attributes\":{},\"id\":\"2743\",\"type\":\"DatetimeTickFormatter\"},{\"attributes\":{\"num_minor_ticks\":5,\"tickers\":[{\"id\":\"2747\",\"type\":\"AdaptiveTicker\"},{\"id\":\"2748\",\"type\":\"AdaptiveTicker\"},{\"id\":\"2749\",\"type\":\"AdaptiveTicker\"},{\"id\":\"2750\",\"type\":\"DaysTicker\"},{\"id\":\"2751\",\"type\":\"DaysTicker\"},{\"id\":\"2752\",\"type\":\"DaysTicker\"},{\"id\":\"2753\",\"type\":\"DaysTicker\"},{\"id\":\"2754\",\"type\":\"MonthsTicker\"},{\"id\":\"2755\",\"type\":\"MonthsTicker\"},{\"id\":\"2756\",\"type\":\"MonthsTicker\"},{\"id\":\"2757\",\"type\":\"MonthsTicker\"},{\"id\":\"2758\",\"type\":\"YearsTicker\"}]},\"id\":\"2714\",\"type\":\"DatetimeTicker\"},{\"attributes\":{\"label\":{\"value\":\"Weather and holidays\"},\"renderers\":[{\"id\":\"2765\",\"type\":\"GlyphRenderer\"}]},\"id\":\"2788\",\"type\":\"LegendItem\"},{\"attributes\":{\"mantissas\":[1,2,5],\"max_interval\":500.0,\"num_minor_ticks\":0},\"id\":\"2747\",\"type\":\"AdaptiveTicker\"},{\"attributes\":{\"days\":[1,4,7,10,13,16,19,22,25,28]},\"id\":\"2751\",\"type\":\"DaysTicker\"},{\"attributes\":{\"label\":{\"value\":\"No external variables\"},\"renderers\":[{\"id\":\"2739\",\"type\":\"GlyphRenderer\"}]},\"id\":\"2761\",\"type\":\"LegendItem\"},{\"attributes\":{},\"id\":\"2879\",\"type\":\"UnionRenderers\"},{\"attributes\":{\"ticker\":{\"id\":\"2714\",\"type\":\"DatetimeTicker\"}},\"id\":\"2717\",\"type\":\"Grid\"},{\"attributes\":{\"data_source\":{\"id\":\"2736\",\"type\":\"ColumnDataSource\"},\"glyph\":{\"id\":\"2737\",\"type\":\"Line\"},\"hover_glyph\":null,\"muted_glyph\":null,\"nonselection_glyph\":{\"id\":\"2738\",\"type\":\"Line\"},\"selection_glyph\":null,\"view\":{\"id\":\"2740\",\"type\":\"CDSView\"}},\"id\":\"2739\",\"type\":\"GlyphRenderer\"},{\"attributes\":{\"line_alpha\":0.1,\"line_color\":\"#1f77b4\",\"line_width\":2,\"x\":{\"field\":\"x\"},\"y\":{\"field\":\"y\"}},\"id\":\"2851\",\"type\":\"Line\"},{\"attributes\":{},\"id\":\"2745\",\"type\":\"BasicTickFormatter\"},{\"attributes\":{\"label\":{\"value\":\"Real demand\"},\"renderers\":[{\"id\":\"2852\",\"type\":\"GlyphRenderer\"}]},\"id\":\"2881\",\"type\":\"LegendItem\"},{\"attributes\":{\"base\":24,\"mantissas\":[1,2,4,6,8,12],\"max_interval\":43200000.0,\"min_interval\":3600000.0,\"num_minor_ticks\":0},\"id\":\"2749\",\"type\":\"AdaptiveTicker\"},{\"attributes\":{\"months\":[0,2,4,6,8,10]},\"id\":\"2755\",\"type\":\"MonthsTicker\"},{\"attributes\":{\"months\":[0,4,8]},\"id\":\"2756\",\"type\":\"MonthsTicker\"},{\"attributes\":{},\"id\":\"2719\",\"type\":\"BasicTicker\"},{\"attributes\":{\"line_color\":\"#fdae61\",\"line_width\":2,\"x\":{\"field\":\"x\"},\"y\":{\"field\":\"y\"}},\"id\":\"2819\",\"type\":\"Line\"},{\"attributes\":{},\"id\":\"2787\",\"type\":\"Selection\"},{\"attributes\":{\"axis_label\":\"Predictions\",\"formatter\":{\"id\":\"2745\",\"type\":\"BasicTickFormatter\"},\"ticker\":{\"id\":\"2719\",\"type\":\"BasicTicker\"}},\"id\":\"2718\",\"type\":\"LinearAxis\"},{\"attributes\":{\"line_color\":\"#d53e4f\",\"line_width\":2,\"x\":{\"field\":\"x\"},\"y\":{\"field\":\"y\"}},\"id\":\"2850\",\"type\":\"Line\"},{\"attributes\":{},\"id\":\"3027\",\"type\":\"Selection\"},{\"attributes\":{\"callback\":null,\"data\":{\"x\":{\"__ndarray__\":\"AAAIXXA0dEIAAPDLczR0QgAA2Dp3NHRCAADAqXo0dEIAAKgYfjR0QgAAkIeBNHRCAAB49oQ0dEIAAGBliDR0QgAASNSLNHRCAAAwQ480dEIAABiykjR0QgAAACGWNHRCAADoj5k0dEIAAND+nDR0QgAAuG2gNHRCAACg3KM0dEIAAIhLpzR0QgAAcLqqNHRCAABYKa40dEIAAECYsTR0QgAAKAe1NHRCAAAQdrg0dEIAAPjkuzR0QgAA4FO/NHRCAADIwsI0dEIAAMjCwjR0QgAAsDHGNHRCAACYoMk0dEIAAIAPzTR0QgAAaH7QNHRCAABQ7dM0dEIAADhc1zR0QgAAIMvaNHRCAAAIOt40dEIAAPCo4TR0QgAA2BflNHRCAADAhug0dEIAAKj16zR0QgAAkGTvNHRCAAB40/I0dEIAAGBC9jR0QgAASLH5NHRCAAAwIP00dEIAABiPADV0QgAAAP4DNXRCAADobAc1dEIAANDbCjV0QgAAuEoONXRCAACguRE1dEI=\",\"dtype\":\"float64\",\"shape\":[49]},\"y\":{\"__ndarray__\":\"6pogUlE0eUCtmvk9Dq1xQPebUm9cjGlAnDPgLyJiYECH0Qh3KBdZQPagclStZlhAAt/cB8KUa0Dx4/Xt9jd4QNXZFEG4b31ABsbJjfqhgEB/U4deGquAQEuXQykzM4FAwEs+Pr5mg0BHXUBe7u6EQJDf/olfF4ZAFDOOOFQphkDCN/kUw+KDQF5L409s4oRAsI6RjNv9iUCTjbKSQV6JQPgnbfDslohAmpmZmZmni0CamZmZmfuLQM3MzMzMmohA1SuAnS5ggkARqBAgoeiEQKStHsl8/IVAhtHQnuSPg0C1RAi7N7V/QNZjJCmr2HdAmfZC1GgzcUAl9HqxishnQL1IQks28mJAGXCRNGICZ0CiVzNKUMBqQAvt4vjtzHFAdv4wj873eECHNS/tJUmAQGI5RXnn7oFA066x/xpWgkC26JEJEUSDQI02/Y8E3IJAfrQD/TScgUDXBR+DVJGCQF6TugrN7IFAYsc+Mv9IgUCwSAUulSF+QEofp062anxAw7+fa2b8eUA=\",\"dtype\":\"float64\",\"shape\":[49]}},\"selected\":{\"id\":\"2880\",\"type\":\"Selection\"},\"selection_policy\":{\"id\":\"2879\",\"type\":\"UnionRenderers\"}},\"id\":\"2818\",\"type\":\"ColumnDataSource\"},{\"attributes\":{\"source\":{\"id\":\"2849\",\"type\":\"ColumnDataSource\"}},\"id\":\"2853\",\"type\":\"CDSView\"},{\"attributes\":{\"bottom_units\":\"screen\",\"fill_alpha\":{\"value\":0.5},\"fill_color\":{\"value\":\"lightgrey\"},\"left_units\":\"screen\",\"level\":\"overlay\",\"line_alpha\":{\"value\":1.0},\"line_color\":{\"value\":\"black\"},\"line_dash\":[4,4],\"line_width\":{\"value\":2},\"render_mode\":\"css\",\"right_units\":\"screen\",\"top_units\":\"screen\"},\"id\":\"2759\",\"type\":\"BoxAnnotation\"},{\"attributes\":{\"callback\":null},\"id\":\"2705\",\"type\":\"DataRange1d\"},{\"attributes\":{},\"id\":\"2758\",\"type\":\"YearsTicker\"}],\"root_ids\":[\"2704\"]},\"title\":\"Bokeh Application\",\"version\":\"1.4.0\"}};\n",
       "  var render_items = [{\"docid\":\"56aefb48-16bf-4395-9ff2-f5b71a8bb9c8\",\"roots\":{\"2704\":\"ee4b039f-b261-40e2-a1dd-57b1c0fdc06d\"}}];\n",
       "  root.Bokeh.embed.embed_items_notebook(docs_json, render_items);\n",
       "\n",
       "  }\n",
       "  if (root.Bokeh !== undefined) {\n",
       "    embed_document(root);\n",
       "  } else {\n",
       "    var attempts = 0;\n",
       "    var timer = setInterval(function(root) {\n",
       "      if (root.Bokeh !== undefined) {\n",
       "        clearInterval(timer);\n",
       "        embed_document(root);\n",
       "      } else {\n",
       "        attempts++;\n",
       "        if (attempts > 100) {\n",
       "          clearInterval(timer);\n",
       "          console.log(\"Bokeh: ERROR: Unable to run BokehJS code because BokehJS library is missing\");\n",
       "        }\n",
       "      }\n",
       "    }, 10, root)\n",
       "  }\n",
       "})(window);"
      ],
      "application/vnd.bokehjs_exec.v0+json": ""
     },
     "metadata": {
      "application/vnd.bokehjs_exec.v0+json": {
       "id": "2704"
      }
     },
     "output_type": "display_data"
    }
   ],
   "source": [
    "s = slice('2013-12-31', '2014-1-1')\n",
    "\n",
    "p = figure(plot_width=800, plot_height=400, x_axis_type='datetime')\n",
    "p.line(x = pred_ne[s].index, y=pred_ne[s], line_width=2, legend_label='No external variables', color = Spectral8[0])\n",
    "p.line(x = pred_w_h[s].index, y=pred_w_h[s], line_width=2, legend_label='Weather and holidays', color = Spectral8[1])\n",
    "p.line(x = eia_ne[s].index, y=eia_ne[s], line_width=2, legend_label='EIA no external variables', color = Spectral8[3])\n",
    "p.line(x = eia_w_h[s].index, y=eia_w_h[s], line_width=2, legend_label='EIA weather and holidays', color = Spectral8[5])\n",
    "p.line(x = real[s].index, y=real[s], line_width=2, legend_label='Real demand', color = Spectral8[7])\n",
    "\n",
    "p.yaxis.axis_label = 'Predictions'\n",
    "p.title.text = 'Blizzard'\n",
    "p.legend.location = 'bottom_left'\n",
    "p.legend.click_policy=\"hide\"\n",
    "\n",
    "show(p)"
   ]
  },
  {
   "cell_type": "code",
   "execution_count": 26,
   "metadata": {
    "ExecuteTime": {
     "end_time": "2020-02-21T10:06:41.337032Z",
     "start_time": "2020-02-21T10:06:41.173314Z"
    }
   },
   "outputs": [
    {
     "data": {
      "text/html": [
       "\n",
       "\n",
       "\n",
       "\n",
       "\n",
       "\n",
       "  <div class=\"bk-root\" id=\"228432f4-df28-46bc-b617-8292c72b47f0\" data-root-id=\"3202\"></div>\n"
      ]
     },
     "metadata": {},
     "output_type": "display_data"
    },
    {
     "data": {
      "application/javascript": [
       "(function(root) {\n",
       "  function embed_document(root) {\n",
       "    \n",
       "  var docs_json = {\"61963b36-e6bd-45fe-81c6-63cd3b9a7fd3\":{\"roots\":{\"references\":[{\"attributes\":{\"below\":[{\"id\":\"3211\",\"type\":\"DatetimeAxis\"}],\"center\":[{\"id\":\"3215\",\"type\":\"Grid\"},{\"id\":\"3220\",\"type\":\"Grid\"},{\"id\":\"3258\",\"type\":\"Legend\"}],\"left\":[{\"id\":\"3216\",\"type\":\"LinearAxis\"}],\"plot_height\":400,\"plot_width\":800,\"renderers\":[{\"id\":\"3237\",\"type\":\"GlyphRenderer\"},{\"id\":\"3263\",\"type\":\"GlyphRenderer\"},{\"id\":\"3290\",\"type\":\"GlyphRenderer\"},{\"id\":\"3319\",\"type\":\"GlyphRenderer\"},{\"id\":\"3350\",\"type\":\"GlyphRenderer\"}],\"title\":{\"id\":\"3239\",\"type\":\"Title\"},\"toolbar\":{\"id\":\"3227\",\"type\":\"Toolbar\"},\"x_range\":{\"id\":\"3203\",\"type\":\"DataRange1d\"},\"x_scale\":{\"id\":\"3207\",\"type\":\"LinearScale\"},\"y_range\":{\"id\":\"3205\",\"type\":\"DataRange1d\"},\"y_scale\":{\"id\":\"3209\",\"type\":\"LinearScale\"}},\"id\":\"3202\",\"subtype\":\"Figure\",\"type\":\"Plot\"},{\"attributes\":{\"callback\":null,\"data\":{\"x\":{\"__ndarray__\":\"AADIb+updEIAALDe7ql0QgAAmE3yqXRCAACAvPWpdEIAAGgr+al0QgAAUJr8qXRCAAA4CQCqdEIAACB4A6p0QgAACOcGqnRCAADwVQqqdEIAANjEDap0QgAAwDMRqnRCAACoohSqdEIAAJARGKp0QgAAeIAbqnRCAABg7x6qdEIAAEheIqp0QgAAMM0lqnRCAAAYPCmqdEIAAACrLKp0QgAA6BkwqnRCAADQiDOqdEIAALj3Nqp0QgAAoGY6qnRCAACI1T2qdEIAAIjVPap0QgAAcERBqnRCAABYs0SqdEIAAEAiSKp0QgAAKJFLqnRCAAAQAE+qdEIAAPhuUqp0QgAA4N1VqnRCAADITFmqdEIAALC7XKp0QgAAmCpgqnRCAACAmWOqdEIAAGgIZ6p0QgAAUHdqqnRCAAA45m2qdEIAACBVcap0QgAACMR0qnRCAADwMniqdEIAANihe6p0QgAAwBB/qnRCAACof4KqdEIAAJDuhap0QgAAeF2JqnRCAABgzIyqdEI=\",\"dtype\":\"float64\",\"shape\":[49]},\"y\":{\"__ndarray__\":\"zczMzMxEekAAAAAAAMRxQGZmZmZmDmdAzczMzMxMXEBmZmZmZlZXQDMzMzMzU1JAmpmZmZnJYkCamZmZmdFsQDMzMzMzJ3VAmpmZmZmBeUAAAAAAAOB8QGZmZmZm7IBAMzMzMzN9gkCamZmZmXGDQGZmZmZmMIRAAAAAAAAchECamZmZmfuBQJqZmZmZWYNAMzMzMzMnhEAzMzMzM4OFQJqZmZmZO4dAMzMzMzOdh0BmZmZmZpaEQJqZmZmZqX1AAAAAAAAwhkAAAAAAADCGQM3MzMzMWIVAZmZmZmb8gUCamZmZmTGAQAAAAAAA7HZAzczMzMycaEBmZmZmZoZhQAAAAAAAEF9AAAAAAAAgYEAzMzMzM1NmQM3MzMzMGHFAAAAAAADod0CamZmZmdl8QM3MzMzMQH5AmpmZmZkRf0BmZmZmZiiAQJqZmZmZdX1AAAAAAABsf0AzMzMzM52AQGZmZmZm1n1AMzMzMzM/e0BmZmZmZlp7QDMzMzMzj3lAMzMzMzNPdEA=\",\"dtype\":\"float64\",\"shape\":[49]}},\"selected\":{\"id\":\"3554\",\"type\":\"Selection\"},\"selection_policy\":{\"id\":\"3553\",\"type\":\"UnionRenderers\"}},\"id\":\"3347\",\"type\":\"ColumnDataSource\"},{\"attributes\":{},\"id\":\"3553\",\"type\":\"UnionRenderers\"},{\"attributes\":{\"ticker\":{\"id\":\"3212\",\"type\":\"DatetimeTicker\"}},\"id\":\"3215\",\"type\":\"Grid\"},{\"attributes\":{\"data_source\":{\"id\":\"3287\",\"type\":\"ColumnDataSource\"},\"glyph\":{\"id\":\"3288\",\"type\":\"Line\"},\"hover_glyph\":null,\"muted_glyph\":null,\"nonselection_glyph\":{\"id\":\"3289\",\"type\":\"Line\"},\"selection_glyph\":null,\"view\":{\"id\":\"3291\",\"type\":\"CDSView\"}},\"id\":\"3290\",\"type\":\"GlyphRenderer\"},{\"attributes\":{\"callback\":null,\"data\":{\"x\":{\"__ndarray__\":\"AADIb+updEIAALDe7ql0QgAAmE3yqXRCAACAvPWpdEIAAGgr+al0QgAAUJr8qXRCAAA4CQCqdEIAACB4A6p0QgAACOcGqnRCAADwVQqqdEIAANjEDap0QgAAwDMRqnRCAACoohSqdEIAAJARGKp0QgAAeIAbqnRCAABg7x6qdEIAAEheIqp0QgAAMM0lqnRCAAAYPCmqdEIAAACrLKp0QgAA6BkwqnRCAADQiDOqdEIAALj3Nqp0QgAAoGY6qnRCAACI1T2qdEIAAIjVPap0QgAAcERBqnRCAABYs0SqdEIAAEAiSKp0QgAAKJFLqnRCAAAQAE+qdEIAAPhuUqp0QgAA4N1VqnRCAADITFmqdEIAALC7XKp0QgAAmCpgqnRCAACAmWOqdEIAAGgIZ6p0QgAAUHdqqnRCAAA45m2qdEIAACBVcap0QgAACMR0qnRCAADwMniqdEIAANihe6p0QgAAwBB/qnRCAACof4KqdEIAAJDuhap0QgAAeF2JqnRCAABgzIyqdEI=\",\"dtype\":\"float64\",\"shape\":[49]},\"y\":{\"__ndarray__\":\"xB0lvHiUeEDWSxshjk9wQIo31hv/F2ZAy1J8ROBDXEBDtxPahVpVQKAB3rPgJ1hA4IqZI0XFZ0DGjdF4UxhzQNLe3ogAe3hA6OSfOthTfECY2rwTeoB+QMeOVTGNKYBAgbyGMu5igkDHLF/o7qCDQE8rw/VOHYRAbFnrijB+g0Aaf63fCIiBQBbY0cHuQYNAwygeiWaehkAxMJZjUPKFQJVdHZtrv4RAmpmZmZk7h0AzMzMzM52HQBKEuXeUV4FAkSvfOULidkCamZmZmal9QAAAAAAAMIZAzczMzMxYhUBmZmZmZvyBQJqZmZmZMYBAqFP7id8obUAKDJrgvoViQMbh42H6vVhAY4ctG07/XkA5sH2HkcRiQOsoEHoWKGxAOa++EGEidUBG99+rX/J6QKK8hfGDgX5A98ewka0NgED7yuLinL5/QLC78A9hIH5AUxmz3RV+fUBNHERebU2AQLYFNIDvVYBAFhEELfr0ekDq6qM+P0p4QAcN9WdnO3lAwDTQfvcxdkA=\",\"dtype\":\"float64\",\"shape\":[49]}},\"selected\":{\"id\":\"3345\",\"type\":\"Selection\"},\"selection_policy\":{\"id\":\"3344\",\"type\":\"UnionRenderers\"}},\"id\":\"3287\",\"type\":\"ColumnDataSource\"},{\"attributes\":{\"click_policy\":\"hide\",\"items\":[{\"id\":\"3259\",\"type\":\"LegendItem\"},{\"id\":\"3286\",\"type\":\"LegendItem\"},{\"id\":\"3315\",\"type\":\"LegendItem\"},{\"id\":\"3346\",\"type\":\"LegendItem\"},{\"id\":\"3379\",\"type\":\"LegendItem\"}],\"location\":\"bottom_left\"},\"id\":\"3258\",\"type\":\"Legend\"},{\"attributes\":{},\"id\":\"3217\",\"type\":\"BasicTicker\"},{\"attributes\":{\"label\":{\"value\":\"No external variables\"},\"renderers\":[{\"id\":\"3237\",\"type\":\"GlyphRenderer\"}]},\"id\":\"3259\",\"type\":\"LegendItem\"},{\"attributes\":{\"source\":{\"id\":\"3260\",\"type\":\"ColumnDataSource\"}},\"id\":\"3264\",\"type\":\"CDSView\"},{\"attributes\":{\"axis_label\":\"Predictions\",\"formatter\":{\"id\":\"3243\",\"type\":\"BasicTickFormatter\"},\"ticker\":{\"id\":\"3217\",\"type\":\"BasicTicker\"}},\"id\":\"3216\",\"type\":\"LinearAxis\"},{\"attributes\":{\"mantissas\":[1,2,5],\"max_interval\":500.0,\"num_minor_ticks\":0},\"id\":\"3245\",\"type\":\"AdaptiveTicker\"},{\"attributes\":{\"days\":[1,8,15,22]},\"id\":\"3250\",\"type\":\"DaysTicker\"},{\"attributes\":{\"months\":[0,1,2,3,4,5,6,7,8,9,10,11]},\"id\":\"3252\",\"type\":\"MonthsTicker\"},{\"attributes\":{\"source\":{\"id\":\"3234\",\"type\":\"ColumnDataSource\"}},\"id\":\"3238\",\"type\":\"CDSView\"},{\"attributes\":{\"callback\":null,\"data\":{\"x\":{\"__ndarray__\":\"AADIb+updEIAALDe7ql0QgAAmE3yqXRCAACAvPWpdEIAAGgr+al0QgAAUJr8qXRCAAA4CQCqdEIAACB4A6p0QgAACOcGqnRCAADwVQqqdEIAANjEDap0QgAAwDMRqnRCAACoohSqdEIAAJARGKp0QgAAeIAbqnRCAABg7x6qdEIAAEheIqp0QgAAMM0lqnRCAAAYPCmqdEIAAACrLKp0QgAA6BkwqnRCAADQiDOqdEIAALj3Nqp0QgAAoGY6qnRCAACI1T2qdEIAAIjVPap0QgAAcERBqnRCAABYs0SqdEIAAEAiSKp0QgAAKJFLqnRCAAAQAE+qdEIAAPhuUqp0QgAA4N1VqnRCAADITFmqdEIAALC7XKp0QgAAmCpgqnRCAACAmWOqdEIAAGgIZ6p0QgAAUHdqqnRCAAA45m2qdEIAACBVcap0QgAACMR0qnRCAADwMniqdEIAANihe6p0QgAAwBB/qnRCAACof4KqdEIAAJDuhap0QgAAeF2JqnRCAABgzIyqdEI=\",\"dtype\":\"float64\",\"shape\":[49]},\"y\":{\"__ndarray__\":\"TSf3Q7JNd0Al06SYwa9tQB0FZjUm22NAO8GpuhBYWkBy1x0iufpUQEIIXxahFVlAQskOQ7V/akCTMdCUI2x1QMqJI6319npArgtY3xT2fkCwi/uSByaAQOGu5NyDtoBArv89iBnQgkAOXKSN0sWDQOkoezbPQYRAopNuFc+7g0DCzjYlleaBQLZGIwyZS4NARi/cclGthkB5792P0mmGQFQALtJuJYVAmpmZmZk7h0AzMzMzM52HQGZmZmZmloRAM8YyrhgqgUCN+32OJxKDQO42O0BwJIVAHP3WyIeNgkDzXJRCUHB9QMsuQ3C4V3hAwHdOrrMEbkBDHuunYY9hQA7DYXf4VmBA5azZpcCIYUCXqfXVphpnQDL8D6z6fXBAwBp6dbMbdkCFonN2uFd7QJ1RA6Xw5H1AiCKsLjXzfUCbx2EEFj9+QG4m34EcIn9AcAPIP3/YfkCmrWklPJl/QLILaB7dyn9A6iH1n0m9fEA6L3mw6TF6QCTC/REZHHlA+K1MI1otdkA=\",\"dtype\":\"float64\",\"shape\":[49]}},\"selected\":{\"id\":\"3378\",\"type\":\"Selection\"},\"selection_policy\":{\"id\":\"3377\",\"type\":\"UnionRenderers\"}},\"id\":\"3316\",\"type\":\"ColumnDataSource\"},{\"attributes\":{},\"id\":\"3284\",\"type\":\"UnionRenderers\"},{\"attributes\":{\"text\":\"Blizzard\"},\"id\":\"3239\",\"type\":\"Title\"},{\"attributes\":{\"label\":{\"value\":\"Weather and holidays\"},\"renderers\":[{\"id\":\"3263\",\"type\":\"GlyphRenderer\"}]},\"id\":\"3286\",\"type\":\"LegendItem\"},{\"attributes\":{\"data_source\":{\"id\":\"3316\",\"type\":\"ColumnDataSource\"},\"glyph\":{\"id\":\"3317\",\"type\":\"Line\"},\"hover_glyph\":null,\"muted_glyph\":null,\"nonselection_glyph\":{\"id\":\"3318\",\"type\":\"Line\"},\"selection_glyph\":null,\"view\":{\"id\":\"3320\",\"type\":\"CDSView\"}},\"id\":\"3319\",\"type\":\"GlyphRenderer\"},{\"attributes\":{\"days\":[1,4,7,10,13,16,19,22,25,28]},\"id\":\"3249\",\"type\":\"DaysTicker\"},{\"attributes\":{},\"id\":\"3285\",\"type\":\"Selection\"},{\"attributes\":{},\"id\":\"3241\",\"type\":\"DatetimeTickFormatter\"},{\"attributes\":{\"line_color\":\"#66c2a5\",\"line_width\":2,\"x\":{\"field\":\"x\"},\"y\":{\"field\":\"y\"}},\"id\":\"3261\",\"type\":\"Line\"},{\"attributes\":{\"line_alpha\":0.1,\"line_color\":\"#1f77b4\",\"line_width\":2,\"x\":{\"field\":\"x\"},\"y\":{\"field\":\"y\"}},\"id\":\"3349\",\"type\":\"Line\"},{\"attributes\":{\"label\":{\"value\":\"Real demand\"},\"renderers\":[{\"id\":\"3350\",\"type\":\"GlyphRenderer\"}]},\"id\":\"3379\",\"type\":\"LegendItem\"},{\"attributes\":{\"active_drag\":\"auto\",\"active_inspect\":\"auto\",\"active_multi\":null,\"active_scroll\":\"auto\",\"active_tap\":\"auto\",\"tools\":[{\"id\":\"3221\",\"type\":\"PanTool\"},{\"id\":\"3222\",\"type\":\"WheelZoomTool\"},{\"id\":\"3223\",\"type\":\"BoxZoomTool\"},{\"id\":\"3224\",\"type\":\"SaveTool\"},{\"id\":\"3225\",\"type\":\"ResetTool\"},{\"id\":\"3226\",\"type\":\"HelpTool\"}]},\"id\":\"3227\",\"type\":\"Toolbar\"},{\"attributes\":{\"callback\":null,\"data\":{\"x\":{\"__ndarray__\":\"AADIb+updEIAALDe7ql0QgAAmE3yqXRCAACAvPWpdEIAAGgr+al0QgAAUJr8qXRCAAA4CQCqdEIAACB4A6p0QgAACOcGqnRCAADwVQqqdEIAANjEDap0QgAAwDMRqnRCAACoohSqdEIAAJARGKp0QgAAeIAbqnRCAABg7x6qdEIAAEheIqp0QgAAMM0lqnRCAAAYPCmqdEIAAACrLKp0QgAA6BkwqnRCAADQiDOqdEIAALj3Nqp0QgAAoGY6qnRCAACI1T2qdEIAAIjVPap0QgAAcERBqnRCAABYs0SqdEIAAEAiSKp0QgAAKJFLqnRCAAAQAE+qdEIAAPhuUqp0QgAA4N1VqnRCAADITFmqdEIAALC7XKp0QgAAmCpgqnRCAACAmWOqdEIAAGgIZ6p0QgAAUHdqqnRCAAA45m2qdEIAACBVcap0QgAACMR0qnRCAADwMniqdEIAANihe6p0QgAAwBB/qnRCAACof4KqdEIAAJDuhap0QgAAeF2JqnRCAABgzIyqdEI=\",\"dtype\":\"float64\",\"shape\":[49]},\"y\":{\"__ndarray__\":\"TSf3Q7JNd0Al06SYwa9tQB0FZjUm22NAO8GpuhBYWkBy1x0iufpUQEIIXxahFVlAQskOQ7V/akCTMdCUI2x1QMqJI6319npArgtY3xT2fkCwi/uSByaAQOGu5NyDtoBArv89iBnQgkAOXKSN0sWDQOkoezbPQYRAopNuFc+7g0DCzjYlleaBQLZGIwyZS4NARi/cclGthkB5792P0mmGQFQALtJuJYVA1xiyN9xZhUBtFlGGzZmEQKkzk10m+YBAM8YyrhgqgUCN+32OJxKDQO42O0BwJIVAHP3WyIeNgkDzXJRCUHB9QMsuQ3C4V3hAwHdOrrMEbkBDHuunYY9hQA7DYXf4VmBA5azZpcCIYUCXqfXVphpnQDL8D6z6fXBAwBp6dbMbdkCFonN2uFd7QJ1RA6Xw5H1AiCKsLjXzfUCbx2EEFj9+QG4m34EcIn9AcAPIP3/YfkCmrWklPJl/QLILaB7dyn9A6iH1n0m9fEA6L3mw6TF6QCTC/REZHHlA+K1MI1otdkA=\",\"dtype\":\"float64\",\"shape\":[49]}},\"selected\":{\"id\":\"3314\",\"type\":\"Selection\"},\"selection_policy\":{\"id\":\"3313\",\"type\":\"UnionRenderers\"}},\"id\":\"3260\",\"type\":\"ColumnDataSource\"},{\"attributes\":{\"line_color\":\"#3288bd\",\"line_width\":2,\"x\":{\"field\":\"x\"},\"y\":{\"field\":\"y\"}},\"id\":\"3235\",\"type\":\"Line\"},{\"attributes\":{\"callback\":null},\"id\":\"3203\",\"type\":\"DataRange1d\"},{\"attributes\":{\"line_alpha\":0.1,\"line_color\":\"#1f77b4\",\"line_width\":2,\"x\":{\"field\":\"x\"},\"y\":{\"field\":\"y\"}},\"id\":\"3236\",\"type\":\"Line\"},{\"attributes\":{\"source\":{\"id\":\"3347\",\"type\":\"ColumnDataSource\"}},\"id\":\"3351\",\"type\":\"CDSView\"},{\"attributes\":{},\"id\":\"3221\",\"type\":\"PanTool\"},{\"attributes\":{\"line_alpha\":0.1,\"line_color\":\"#1f77b4\",\"line_width\":2,\"x\":{\"field\":\"x\"},\"y\":{\"field\":\"y\"}},\"id\":\"3318\",\"type\":\"Line\"},{\"attributes\":{},\"id\":\"3378\",\"type\":\"Selection\"},{\"attributes\":{\"months\":[0,6]},\"id\":\"3255\",\"type\":\"MonthsTicker\"},{\"attributes\":{},\"id\":\"3377\",\"type\":\"UnionRenderers\"},{\"attributes\":{\"data_source\":{\"id\":\"3347\",\"type\":\"ColumnDataSource\"},\"glyph\":{\"id\":\"3348\",\"type\":\"Line\"},\"hover_glyph\":null,\"muted_glyph\":null,\"nonselection_glyph\":{\"id\":\"3349\",\"type\":\"Line\"},\"selection_glyph\":null,\"view\":{\"id\":\"3351\",\"type\":\"CDSView\"}},\"id\":\"3350\",\"type\":\"GlyphRenderer\"},{\"attributes\":{},\"id\":\"3222\",\"type\":\"WheelZoomTool\"},{\"attributes\":{},\"id\":\"3256\",\"type\":\"YearsTicker\"},{\"attributes\":{\"overlay\":{\"id\":\"3257\",\"type\":\"BoxAnnotation\"}},\"id\":\"3223\",\"type\":\"BoxZoomTool\"},{\"attributes\":{\"source\":{\"id\":\"3316\",\"type\":\"ColumnDataSource\"}},\"id\":\"3320\",\"type\":\"CDSView\"},{\"attributes\":{\"line_color\":\"#d53e4f\",\"line_width\":2,\"x\":{\"field\":\"x\"},\"y\":{\"field\":\"y\"}},\"id\":\"3348\",\"type\":\"Line\"},{\"attributes\":{\"line_color\":\"#e6f598\",\"line_width\":2,\"x\":{\"field\":\"x\"},\"y\":{\"field\":\"y\"}},\"id\":\"3288\",\"type\":\"Line\"},{\"attributes\":{\"bottom_units\":\"screen\",\"fill_alpha\":{\"value\":0.5},\"fill_color\":{\"value\":\"lightgrey\"},\"left_units\":\"screen\",\"level\":\"overlay\",\"line_alpha\":{\"value\":1.0},\"line_color\":{\"value\":\"black\"},\"line_dash\":[4,4],\"line_width\":{\"value\":2},\"render_mode\":\"css\",\"right_units\":\"screen\",\"top_units\":\"screen\"},\"id\":\"3257\",\"type\":\"BoxAnnotation\"},{\"attributes\":{},\"id\":\"3207\",\"type\":\"LinearScale\"},{\"attributes\":{\"data_source\":{\"id\":\"3234\",\"type\":\"ColumnDataSource\"},\"glyph\":{\"id\":\"3235\",\"type\":\"Line\"},\"hover_glyph\":null,\"muted_glyph\":null,\"nonselection_glyph\":{\"id\":\"3236\",\"type\":\"Line\"},\"selection_glyph\":null,\"view\":{\"id\":\"3238\",\"type\":\"CDSView\"}},\"id\":\"3237\",\"type\":\"GlyphRenderer\"},{\"attributes\":{},\"id\":\"3224\",\"type\":\"SaveTool\"},{\"attributes\":{},\"id\":\"3344\",\"type\":\"UnionRenderers\"},{\"attributes\":{\"callback\":null},\"id\":\"3205\",\"type\":\"DataRange1d\"},{\"attributes\":{\"label\":{\"value\":\"EIA weather and holidays\"},\"renderers\":[{\"id\":\"3319\",\"type\":\"GlyphRenderer\"}]},\"id\":\"3346\",\"type\":\"LegendItem\"},{\"attributes\":{\"line_alpha\":0.1,\"line_color\":\"#1f77b4\",\"line_width\":2,\"x\":{\"field\":\"x\"},\"y\":{\"field\":\"y\"}},\"id\":\"3262\",\"type\":\"Line\"},{\"attributes\":{\"base\":60,\"mantissas\":[1,2,5,10,15,20,30],\"max_interval\":1800000.0,\"min_interval\":1000.0,\"num_minor_ticks\":0},\"id\":\"3246\",\"type\":\"AdaptiveTicker\"},{\"attributes\":{},\"id\":\"3225\",\"type\":\"ResetTool\"},{\"attributes\":{\"base\":24,\"mantissas\":[1,2,4,6,8,12],\"max_interval\":43200000.0,\"min_interval\":3600000.0,\"num_minor_ticks\":0},\"id\":\"3247\",\"type\":\"AdaptiveTicker\"},{\"attributes\":{\"months\":[0,2,4,6,8,10]},\"id\":\"3253\",\"type\":\"MonthsTicker\"},{\"attributes\":{},\"id\":\"3554\",\"type\":\"Selection\"},{\"attributes\":{\"callback\":null,\"data\":{\"x\":{\"__ndarray__\":\"AADIb+updEIAALDe7ql0QgAAmE3yqXRCAACAvPWpdEIAAGgr+al0QgAAUJr8qXRCAAA4CQCqdEIAACB4A6p0QgAACOcGqnRCAADwVQqqdEIAANjEDap0QgAAwDMRqnRCAACoohSqdEIAAJARGKp0QgAAeIAbqnRCAABg7x6qdEIAAEheIqp0QgAAMM0lqnRCAAAYPCmqdEIAAACrLKp0QgAA6BkwqnRCAADQiDOqdEIAALj3Nqp0QgAAoGY6qnRCAACI1T2qdEIAAIjVPap0QgAAcERBqnRCAABYs0SqdEIAAEAiSKp0QgAAKJFLqnRCAAAQAE+qdEIAAPhuUqp0QgAA4N1VqnRCAADITFmqdEIAALC7XKp0QgAAmCpgqnRCAACAmWOqdEIAAGgIZ6p0QgAAUHdqqnRCAAA45m2qdEIAACBVcap0QgAACMR0qnRCAADwMniqdEIAANihe6p0QgAAwBB/qnRCAACof4KqdEIAAJDuhap0QgAAeF2JqnRCAABgzIyqdEI=\",\"dtype\":\"float64\",\"shape\":[49]},\"y\":{\"__ndarray__\":\"xB0lvHiUeEDWSxshjk9wQIo31hv/F2ZAy1J8ROBDXEBDtxPahVpVQKAB3rPgJ1hA4IqZI0XFZ0DGjdF4UxhzQNLe3ogAe3hA6OSfOthTfECY2rwTeoB+QMeOVTGNKYBAgbyGMu5igkDHLF/o7qCDQE8rw/VOHYRAbFnrijB+g0Aaf63fCIiBQBbY0cHuQYNAwygeiWaehkAxMJZjUPKFQJVdHZtrv4RAgd1cI6d0hUDZl+x7NROFQBKEuXeUV4FAkSvfOULidkBBd4mlQFJ4QIa42p25VH9AwnpoFTUmfUBifFIcqox3QH6w0ZDDCXVAqFP7id8obUAKDJrgvoViQMbh42H6vVhAY4ctG07/XkA5sH2HkcRiQOsoEHoWKGxAOa++EGEidUBG99+rX/J6QKK8hfGDgX5A98ewka0NgED7yuLinL5/QLC78A9hIH5AUxmz3RV+fUBNHERebU2AQLYFNIDvVYBAFhEELfr0ekDq6qM+P0p4QAcN9WdnO3lAwDTQfvcxdkA=\",\"dtype\":\"float64\",\"shape\":[49]}},\"selected\":{\"id\":\"3285\",\"type\":\"Selection\"},\"selection_policy\":{\"id\":\"3284\",\"type\":\"UnionRenderers\"}},\"id\":\"3234\",\"type\":\"ColumnDataSource\"},{\"attributes\":{\"days\":[1,2,3,4,5,6,7,8,9,10,11,12,13,14,15,16,17,18,19,20,21,22,23,24,25,26,27,28,29,30,31]},\"id\":\"3248\",\"type\":\"DaysTicker\"},{\"attributes\":{},\"id\":\"3313\",\"type\":\"UnionRenderers\"},{\"attributes\":{},\"id\":\"3345\",\"type\":\"Selection\"},{\"attributes\":{\"data_source\":{\"id\":\"3260\",\"type\":\"ColumnDataSource\"},\"glyph\":{\"id\":\"3261\",\"type\":\"Line\"},\"hover_glyph\":null,\"muted_glyph\":null,\"nonselection_glyph\":{\"id\":\"3262\",\"type\":\"Line\"},\"selection_glyph\":null,\"view\":{\"id\":\"3264\",\"type\":\"CDSView\"}},\"id\":\"3263\",\"type\":\"GlyphRenderer\"},{\"attributes\":{},\"id\":\"3226\",\"type\":\"HelpTool\"},{\"attributes\":{\"line_alpha\":0.1,\"line_color\":\"#1f77b4\",\"line_width\":2,\"x\":{\"field\":\"x\"},\"y\":{\"field\":\"y\"}},\"id\":\"3289\",\"type\":\"Line\"},{\"attributes\":{\"label\":{\"value\":\"EIA no external variables\"},\"renderers\":[{\"id\":\"3290\",\"type\":\"GlyphRenderer\"}]},\"id\":\"3315\",\"type\":\"LegendItem\"},{\"attributes\":{\"months\":[0,4,8]},\"id\":\"3254\",\"type\":\"MonthsTicker\"},{\"attributes\":{},\"id\":\"3209\",\"type\":\"LinearScale\"},{\"attributes\":{\"line_color\":\"#fdae61\",\"line_width\":2,\"x\":{\"field\":\"x\"},\"y\":{\"field\":\"y\"}},\"id\":\"3317\",\"type\":\"Line\"},{\"attributes\":{},\"id\":\"3243\",\"type\":\"BasicTickFormatter\"},{\"attributes\":{\"days\":[1,15]},\"id\":\"3251\",\"type\":\"DaysTicker\"},{\"attributes\":{},\"id\":\"3314\",\"type\":\"Selection\"},{\"attributes\":{\"formatter\":{\"id\":\"3241\",\"type\":\"DatetimeTickFormatter\"},\"ticker\":{\"id\":\"3212\",\"type\":\"DatetimeTicker\"}},\"id\":\"3211\",\"type\":\"DatetimeAxis\"},{\"attributes\":{\"source\":{\"id\":\"3287\",\"type\":\"ColumnDataSource\"}},\"id\":\"3291\",\"type\":\"CDSView\"},{\"attributes\":{\"dimension\":1,\"ticker\":{\"id\":\"3217\",\"type\":\"BasicTicker\"}},\"id\":\"3220\",\"type\":\"Grid\"},{\"attributes\":{\"num_minor_ticks\":5,\"tickers\":[{\"id\":\"3245\",\"type\":\"AdaptiveTicker\"},{\"id\":\"3246\",\"type\":\"AdaptiveTicker\"},{\"id\":\"3247\",\"type\":\"AdaptiveTicker\"},{\"id\":\"3248\",\"type\":\"DaysTicker\"},{\"id\":\"3249\",\"type\":\"DaysTicker\"},{\"id\":\"3250\",\"type\":\"DaysTicker\"},{\"id\":\"3251\",\"type\":\"DaysTicker\"},{\"id\":\"3252\",\"type\":\"MonthsTicker\"},{\"id\":\"3253\",\"type\":\"MonthsTicker\"},{\"id\":\"3254\",\"type\":\"MonthsTicker\"},{\"id\":\"3255\",\"type\":\"MonthsTicker\"},{\"id\":\"3256\",\"type\":\"YearsTicker\"}]},\"id\":\"3212\",\"type\":\"DatetimeTicker\"}],\"root_ids\":[\"3202\"]},\"title\":\"Bokeh Application\",\"version\":\"1.4.0\"}};\n",
       "  var render_items = [{\"docid\":\"61963b36-e6bd-45fe-81c6-63cd3b9a7fd3\",\"roots\":{\"3202\":\"228432f4-df28-46bc-b617-8292c72b47f0\"}}];\n",
       "  root.Bokeh.embed.embed_items_notebook(docs_json, render_items);\n",
       "\n",
       "  }\n",
       "  if (root.Bokeh !== undefined) {\n",
       "    embed_document(root);\n",
       "  } else {\n",
       "    var attempts = 0;\n",
       "    var timer = setInterval(function(root) {\n",
       "      if (root.Bokeh !== undefined) {\n",
       "        clearInterval(timer);\n",
       "        embed_document(root);\n",
       "      } else {\n",
       "        attempts++;\n",
       "        if (attempts > 100) {\n",
       "          clearInterval(timer);\n",
       "          console.log(\"Bokeh: ERROR: Unable to run BokehJS code because BokehJS library is missing\");\n",
       "        }\n",
       "      }\n",
       "    }, 10, root)\n",
       "  }\n",
       "})(window);"
      ],
      "application/vnd.bokehjs_exec.v0+json": ""
     },
     "metadata": {
      "application/vnd.bokehjs_exec.v0+json": {
       "id": "3202"
      }
     },
     "output_type": "display_data"
    }
   ],
   "source": [
    "s = slice('2014-12-31', '2015-1-1')\n",
    "\n",
    "p = figure(plot_width=800, plot_height=400, x_axis_type='datetime')\n",
    "p.line(x = pred_ne[s].index, y=pred_ne[s], line_width=2, legend_label='No external variables', color = Spectral8[0])\n",
    "p.line(x = pred_w_h[s].index, y=pred_w_h[s], line_width=2, legend_label='Weather and holidays', color = Spectral8[1])\n",
    "p.line(x = eia_ne[s].index, y=eia_ne[s], line_width=2, legend_label='EIA no external variables', color = Spectral8[3])\n",
    "p.line(x = eia_w_h[s].index, y=eia_w_h[s], line_width=2, legend_label='EIA weather and holidays', color = Spectral8[5])\n",
    "p.line(x = real[s].index, y=real[s], line_width=2, legend_label='Real demand', color = Spectral8[7])\n",
    "\n",
    "p.yaxis.axis_label = 'Predictions'\n",
    "p.title.text = 'Blizzard'\n",
    "p.legend.location = 'bottom_left'\n",
    "p.legend.click_policy=\"hide\"\n",
    "\n",
    "show(p)"
   ]
  },
  {
   "cell_type": "code",
   "execution_count": 27,
   "metadata": {
    "ExecuteTime": {
     "end_time": "2020-02-21T10:07:37.825605Z",
     "start_time": "2020-02-21T10:07:37.653080Z"
    }
   },
   "outputs": [
    {
     "data": {
      "text/html": [
       "\n",
       "\n",
       "\n",
       "\n",
       "\n",
       "\n",
       "  <div class=\"bk-root\" id=\"af53c8fe-5b5d-4b06-8a4b-bf5b9137aea6\" data-root-id=\"3729\"></div>\n"
      ]
     },
     "metadata": {},
     "output_type": "display_data"
    },
    {
     "data": {
      "application/javascript": [
       "(function(root) {\n",
       "  function embed_document(root) {\n",
       "    \n",
       "  var docs_json = {\"a87251a7-67eb-42d5-96f6-47a45b5cd7bf\":{\"roots\":{\"references\":[{\"attributes\":{\"below\":[{\"id\":\"3738\",\"type\":\"DatetimeAxis\"}],\"center\":[{\"id\":\"3742\",\"type\":\"Grid\"},{\"id\":\"3747\",\"type\":\"Grid\"},{\"id\":\"3785\",\"type\":\"Legend\"}],\"left\":[{\"id\":\"3743\",\"type\":\"LinearAxis\"}],\"plot_height\":400,\"plot_width\":800,\"renderers\":[{\"id\":\"3764\",\"type\":\"GlyphRenderer\"},{\"id\":\"3790\",\"type\":\"GlyphRenderer\"},{\"id\":\"3817\",\"type\":\"GlyphRenderer\"},{\"id\":\"3846\",\"type\":\"GlyphRenderer\"},{\"id\":\"3877\",\"type\":\"GlyphRenderer\"}],\"title\":{\"id\":\"3766\",\"type\":\"Title\"},\"toolbar\":{\"id\":\"3754\",\"type\":\"Toolbar\"},\"x_range\":{\"id\":\"3730\",\"type\":\"DataRange1d\"},\"x_scale\":{\"id\":\"3734\",\"type\":\"LinearScale\"},\"y_range\":{\"id\":\"3732\",\"type\":\"DataRange1d\"},\"y_scale\":{\"id\":\"3736\",\"type\":\"LinearScale\"}},\"id\":\"3729\",\"subtype\":\"Figure\",\"type\":\"Plot\"},{\"attributes\":{},\"id\":\"3744\",\"type\":\"BasicTicker\"},{\"attributes\":{},\"id\":\"3752\",\"type\":\"ResetTool\"},{\"attributes\":{\"line_alpha\":0.1,\"line_color\":\"#1f77b4\",\"line_width\":2,\"x\":{\"field\":\"x\"},\"y\":{\"field\":\"y\"}},\"id\":\"3789\",\"type\":\"Line\"},{\"attributes\":{\"data_source\":{\"id\":\"3787\",\"type\":\"ColumnDataSource\"},\"glyph\":{\"id\":\"3788\",\"type\":\"Line\"},\"hover_glyph\":null,\"muted_glyph\":null,\"nonselection_glyph\":{\"id\":\"3789\",\"type\":\"Line\"},\"selection_glyph\":null,\"view\":{\"id\":\"3791\",\"type\":\"CDSView\"}},\"id\":\"3790\",\"type\":\"GlyphRenderer\"},{\"attributes\":{},\"id\":\"3841\",\"type\":\"Selection\"},{\"attributes\":{\"data_source\":{\"id\":\"3814\",\"type\":\"ColumnDataSource\"},\"glyph\":{\"id\":\"3815\",\"type\":\"Line\"},\"hover_glyph\":null,\"muted_glyph\":null,\"nonselection_glyph\":{\"id\":\"3816\",\"type\":\"Line\"},\"selection_glyph\":null,\"view\":{\"id\":\"3818\",\"type\":\"CDSView\"}},\"id\":\"3817\",\"type\":\"GlyphRenderer\"},{\"attributes\":{},\"id\":\"3753\",\"type\":\"HelpTool\"},{\"attributes\":{\"callback\":null,\"data\":{\"x\":{\"__ndarray__\":\"AACIgmYfdUIAAHDxaR91QgAAWGBtH3VCAABAz3AfdUIAACg+dB91QgAAEK13H3VCAAD4G3sfdUIAAOCKfh91QgAAyPmBH3VCAACwaIUfdUIAAJjXiB91QgAAgEaMH3VCAABotY8fdUIAAFAkkx91QgAAOJOWH3VCAAAgApofdUIAAAhxnR91QgAA8N+gH3VCAADYTqQfdUIAAMC9px91QgAAqCyrH3VCAACQm64fdUIAAHgKsh91QgAAYHm1H3VCAABI6LgfdUIAAEjouB91QgAAMFe8H3VCAAAYxr8fdUIAAAA1wx91QgAA6KPGH3VCAADQEsofdUIAALiBzR91QgAAoPDQH3VCAACIX9QfdUIAAHDO1x91QgAAWD3bH3VCAABArN4fdUIAACgb4h91QgAAEIrlH3VCAAD4+OgfdUIAAOBn7B91QgAAyNbvH3VCAACwRfMfdUIAAJi09h91QgAAgCP6H3VCAABokv0fdUIAAFABASB1QgAAOHAEIHVCAAAg3wcgdUI=\",\"dtype\":\"float64\",\"shape\":[49]},\"y\":{\"__ndarray__\":\"AAAAAACIekBmZmZmZm5wQM3MzMzMvGdAzczMzMxUYECamZmZmflXQGZmZmZmZlBAmpmZmZkJXUAzMzMzMxtnQAAAAAAAKHBAZmZmZma6c0CamZmZmSl3QAAAAAAACHxAmpmZmZmtfkDNzMzMzAyAQDMzMzMzy4BAMzMzMzMDgUCamZmZmZl/QAAAAAAAuH9AmpmZmZnTgEAzMzMzM42BQDMzMzMzx4JAZmZmZmZMg0CamZmZmY+AQAAAAAAAHHpAZmZmZmYShEBmZmZmZhKEQJqZmZmZC4RAAAAAAADQgEAzMzMzM+99QJqZmZmZiXVAAAAAAACIZkDNzMzMzJRgQAAAAAAA0FxAAAAAAAAwXEDNzMzMzMxiQGZmZmZmvmxAmpmZmZlJdEDNzMzMzFR4QGZmZmZmQntAzczMzMxsfEAzMzMzM0d8QAAAAAAApHpAAAAAAACQfEAAAAAAAJh+QJqZmZmZ4XxAMzMzMzPfd0AzMzMzMz94QDMzMzMz43lAzczMzMxMeEA=\",\"dtype\":\"float64\",\"shape\":[49]}},\"selected\":{\"id\":\"4110\",\"type\":\"Selection\"},\"selection_policy\":{\"id\":\"4109\",\"type\":\"UnionRenderers\"}},\"id\":\"3874\",\"type\":\"ColumnDataSource\"},{\"attributes\":{\"days\":[1,4,7,10,13,16,19,22,25,28]},\"id\":\"3776\",\"type\":\"DaysTicker\"},{\"attributes\":{\"callback\":null,\"data\":{\"x\":{\"__ndarray__\":\"AACIgmYfdUIAAHDxaR91QgAAWGBtH3VCAABAz3AfdUIAACg+dB91QgAAEK13H3VCAAD4G3sfdUIAAOCKfh91QgAAyPmBH3VCAACwaIUfdUIAAJjXiB91QgAAgEaMH3VCAABotY8fdUIAAFAkkx91QgAAOJOWH3VCAAAgApofdUIAAAhxnR91QgAA8N+gH3VCAADYTqQfdUIAAMC9px91QgAAqCyrH3VCAACQm64fdUIAAHgKsh91QgAAYHm1H3VCAABI6LgfdUIAAEjouB91QgAAMFe8H3VCAAAYxr8fdUIAAAA1wx91QgAA6KPGH3VCAADQEsofdUIAALiBzR91QgAAoPDQH3VCAACIX9QfdUIAAHDO1x91QgAAWD3bH3VCAABArN4fdUIAACgb4h91QgAAEIrlH3VCAAD4+OgfdUIAAOBn7B91QgAAyNbvH3VCAACwRfMfdUIAAJi09h91QgAAgCP6H3VCAABokv0fdUIAAFABASB1QgAAOHAEIHVCAAAg3wcgdUI=\",\"dtype\":\"float64\",\"shape\":[49]},\"y\":{\"__ndarray__\":\"Gtaj2Ff1ekDGF+i/o4VwQKLqCCd162RAkiNuu8JuXkCwufoAGu1WQATiXr1ExVZAwqLpTzlQYkBUsRUbIn1oQGbpeVWmXHBAm1i4yodxdUCCyoKrFU14QOB1Y4HQ+3lARe+gZu7afUDoTa2vVtN/QNrVyjxwh4BALXoKXEvjf0DjbKiOie99QCSzShxNkoBAaGUOr892gkBI6dQ6mM+BQHeAQB7DxoBAl1z+rG9MgUBeHci+ud+BQAUwI1Hw931AKOP0ROINdkB5uBOQKX14QMmreM+NAIBAotT6ElV+fkDkz7PGxzl4QCYSvfIa8XNA4zerlVH0bEA0iD6m4VxiQEbAK4auRGBAorIJOZGhYUAyKcp4jT9lQH5mqrZDdWlAheJnd+FwcUDONIpn+KF3QDiYuWnIGntABsXrAfA4fEBqlhhZG9x8QNXRmPsVDXxA3trEKCGxfEDWuvoEM7J+QPqtrOjQyn1ApvIuqphbeUC7qvJiAGp2QEOUsxDdhXZAb97YHYXRdkA=\",\"dtype\":\"float64\",\"shape\":[49]}},\"selected\":{\"id\":\"3812\",\"type\":\"Selection\"},\"selection_policy\":{\"id\":\"3811\",\"type\":\"UnionRenderers\"}},\"id\":\"3761\",\"type\":\"ColumnDataSource\"},{\"attributes\":{\"active_drag\":\"auto\",\"active_inspect\":\"auto\",\"active_multi\":null,\"active_scroll\":\"auto\",\"active_tap\":\"auto\",\"tools\":[{\"id\":\"3748\",\"type\":\"PanTool\"},{\"id\":\"3749\",\"type\":\"WheelZoomTool\"},{\"id\":\"3750\",\"type\":\"BoxZoomTool\"},{\"id\":\"3751\",\"type\":\"SaveTool\"},{\"id\":\"3752\",\"type\":\"ResetTool\"},{\"id\":\"3753\",\"type\":\"HelpTool\"}]},\"id\":\"3754\",\"type\":\"Toolbar\"},{\"attributes\":{\"source\":{\"id\":\"3787\",\"type\":\"ColumnDataSource\"}},\"id\":\"3791\",\"type\":\"CDSView\"},{\"attributes\":{\"base\":60,\"mantissas\":[1,2,5,10,15,20,30],\"max_interval\":1800000.0,\"min_interval\":1000.0,\"num_minor_ticks\":0},\"id\":\"3773\",\"type\":\"AdaptiveTicker\"},{\"attributes\":{},\"id\":\"3811\",\"type\":\"UnionRenderers\"},{\"attributes\":{\"label\":{\"value\":\"No external variables\"},\"renderers\":[{\"id\":\"3764\",\"type\":\"GlyphRenderer\"}]},\"id\":\"3786\",\"type\":\"LegendItem\"},{\"attributes\":{},\"id\":\"3768\",\"type\":\"DatetimeTickFormatter\"},{\"attributes\":{},\"id\":\"3748\",\"type\":\"PanTool\"},{\"attributes\":{\"callback\":null,\"data\":{\"x\":{\"__ndarray__\":\"AACIgmYfdUIAAHDxaR91QgAAWGBtH3VCAABAz3AfdUIAACg+dB91QgAAEK13H3VCAAD4G3sfdUIAAOCKfh91QgAAyPmBH3VCAACwaIUfdUIAAJjXiB91QgAAgEaMH3VCAABotY8fdUIAAFAkkx91QgAAOJOWH3VCAAAgApofdUIAAAhxnR91QgAA8N+gH3VCAADYTqQfdUIAAMC9px91QgAAqCyrH3VCAACQm64fdUIAAHgKsh91QgAAYHm1H3VCAABI6LgfdUIAAEjouB91QgAAMFe8H3VCAAAYxr8fdUIAAAA1wx91QgAA6KPGH3VCAADQEsofdUIAALiBzR91QgAAoPDQH3VCAACIX9QfdUIAAHDO1x91QgAAWD3bH3VCAABArN4fdUIAACgb4h91QgAAEIrlH3VCAAD4+OgfdUIAAOBn7B91QgAAyNbvH3VCAACwRfMfdUIAAJi09h91QgAAgCP6H3VCAABokv0fdUIAAFABASB1QgAAOHAEIHVCAAAg3wcgdUI=\",\"dtype\":\"float64\",\"shape\":[49]},\"y\":{\"__ndarray__\":\"MzMzMzOVg0Bitvo++iBuQOY9J3xB62JAo3dkpTxpW0AAKuP6KIxUQL752zZIpVRAdKjpRN8oZEDeJATgjgVwQALXglNlkXRA0UaGDXlOeEC91FD711l6QAWSkccU2npAlmthymqRfUB+V8sL5up/QK49vzrLp4BAXsLqw5hWgECY+Qtb5Md+QGvQrdYEfIBA18Tb6YYXg0CamZmZmdOAQBuFLkA9joBAMzMzMzPHgkBmZmZmZkyDQJqZmZmZj4BAYuAk0oqigUB4rTnaZkuDQErI+vhyWIVAuFc0WDcUhEAUoKG8lkmBQG5P5jHbq3xAQp0YMtXLdUDiUlYrg2FvQM3MzMzMlGBAAAAAAADQXEAAAAAAADBcQM3MzMzMzGJAZmZmZma+bECamZmZmUl0QM3MzMzMVHhAZmZmZmZCe0DNzMzMzGx8QDMzMzMzR3xAAAAAAACkekAAAAAAAJB8QAAAAAAAmH5AmpmZmZnhfEAzMzMzM993QDMzMzMzP3hAMzMzMzPjeUA=\",\"dtype\":\"float64\",\"shape\":[49]}},\"selected\":{\"id\":\"3905\",\"type\":\"Selection\"},\"selection_policy\":{\"id\":\"3904\",\"type\":\"UnionRenderers\"}},\"id\":\"3843\",\"type\":\"ColumnDataSource\"},{\"attributes\":{\"label\":{\"value\":\"Weather and holidays\"},\"renderers\":[{\"id\":\"3790\",\"type\":\"GlyphRenderer\"}]},\"id\":\"3813\",\"type\":\"LegendItem\"},{\"attributes\":{},\"id\":\"3749\",\"type\":\"WheelZoomTool\"},{\"attributes\":{\"months\":[0,4,8]},\"id\":\"3781\",\"type\":\"MonthsTicker\"},{\"attributes\":{},\"id\":\"3812\",\"type\":\"Selection\"},{\"attributes\":{\"data_source\":{\"id\":\"3843\",\"type\":\"ColumnDataSource\"},\"glyph\":{\"id\":\"3844\",\"type\":\"Line\"},\"hover_glyph\":null,\"muted_glyph\":null,\"nonselection_glyph\":{\"id\":\"3845\",\"type\":\"Line\"},\"selection_glyph\":null,\"view\":{\"id\":\"3847\",\"type\":\"CDSView\"}},\"id\":\"3846\",\"type\":\"GlyphRenderer\"},{\"attributes\":{\"overlay\":{\"id\":\"3784\",\"type\":\"BoxAnnotation\"}},\"id\":\"3750\",\"type\":\"BoxZoomTool\"},{\"attributes\":{\"mantissas\":[1,2,5],\"max_interval\":500.0,\"num_minor_ticks\":0},\"id\":\"3772\",\"type\":\"AdaptiveTicker\"},{\"attributes\":{},\"id\":\"3904\",\"type\":\"UnionRenderers\"},{\"attributes\":{\"data_source\":{\"id\":\"3761\",\"type\":\"ColumnDataSource\"},\"glyph\":{\"id\":\"3762\",\"type\":\"Line\"},\"hover_glyph\":null,\"muted_glyph\":null,\"nonselection_glyph\":{\"id\":\"3763\",\"type\":\"Line\"},\"selection_glyph\":null,\"view\":{\"id\":\"3765\",\"type\":\"CDSView\"}},\"id\":\"3764\",\"type\":\"GlyphRenderer\"},{\"attributes\":{\"line_alpha\":0.1,\"line_color\":\"#1f77b4\",\"line_width\":2,\"x\":{\"field\":\"x\"},\"y\":{\"field\":\"y\"}},\"id\":\"3876\",\"type\":\"Line\"},{\"attributes\":{\"click_policy\":\"hide\",\"items\":[{\"id\":\"3786\",\"type\":\"LegendItem\"},{\"id\":\"3813\",\"type\":\"LegendItem\"},{\"id\":\"3842\",\"type\":\"LegendItem\"},{\"id\":\"3873\",\"type\":\"LegendItem\"},{\"id\":\"3906\",\"type\":\"LegendItem\"}],\"location\":\"bottom_left\"},\"id\":\"3785\",\"type\":\"Legend\"},{\"attributes\":{\"label\":{\"value\":\"Real demand\"},\"renderers\":[{\"id\":\"3877\",\"type\":\"GlyphRenderer\"}]},\"id\":\"3906\",\"type\":\"LegendItem\"},{\"attributes\":{\"data_source\":{\"id\":\"3874\",\"type\":\"ColumnDataSource\"},\"glyph\":{\"id\":\"3875\",\"type\":\"Line\"},\"hover_glyph\":null,\"muted_glyph\":null,\"nonselection_glyph\":{\"id\":\"3876\",\"type\":\"Line\"},\"selection_glyph\":null,\"view\":{\"id\":\"3878\",\"type\":\"CDSView\"}},\"id\":\"3877\",\"type\":\"GlyphRenderer\"},{\"attributes\":{},\"id\":\"3751\",\"type\":\"SaveTool\"},{\"attributes\":{\"line_color\":\"#fdae61\",\"line_width\":2,\"x\":{\"field\":\"x\"},\"y\":{\"field\":\"y\"}},\"id\":\"3844\",\"type\":\"Line\"},{\"attributes\":{\"text\":\"Blizzard\"},\"id\":\"3766\",\"type\":\"Title\"},{\"attributes\":{\"axis_label\":\"Predictions\",\"formatter\":{\"id\":\"3770\",\"type\":\"BasicTickFormatter\"},\"ticker\":{\"id\":\"3744\",\"type\":\"BasicTicker\"}},\"id\":\"3743\",\"type\":\"LinearAxis\"},{\"attributes\":{\"line_color\":\"#66c2a5\",\"line_width\":2,\"x\":{\"field\":\"x\"},\"y\":{\"field\":\"y\"}},\"id\":\"3788\",\"type\":\"Line\"},{\"attributes\":{\"months\":[0,6]},\"id\":\"3782\",\"type\":\"MonthsTicker\"},{\"attributes\":{\"ticker\":{\"id\":\"3739\",\"type\":\"DatetimeTicker\"}},\"id\":\"3742\",\"type\":\"Grid\"},{\"attributes\":{\"callback\":null},\"id\":\"3730\",\"type\":\"DataRange1d\"},{\"attributes\":{\"callback\":null,\"data\":{\"x\":{\"__ndarray__\":\"AACIgmYfdUIAAHDxaR91QgAAWGBtH3VCAABAz3AfdUIAACg+dB91QgAAEK13H3VCAAD4G3sfdUIAAOCKfh91QgAAyPmBH3VCAACwaIUfdUIAAJjXiB91QgAAgEaMH3VCAABotY8fdUIAAFAkkx91QgAAOJOWH3VCAAAgApofdUIAAAhxnR91QgAA8N+gH3VCAADYTqQfdUIAAMC9px91QgAAqCyrH3VCAACQm64fdUIAAHgKsh91QgAAYHm1H3VCAABI6LgfdUIAAEjouB91QgAAMFe8H3VCAAAYxr8fdUIAAAA1wx91QgAA6KPGH3VCAADQEsofdUIAALiBzR91QgAAoPDQH3VCAACIX9QfdUIAAHDO1x91QgAAWD3bH3VCAABArN4fdUIAACgb4h91QgAAEIrlH3VCAAD4+OgfdUIAAOBn7B91QgAAyNbvH3VCAACwRfMfdUIAAJi09h91QgAAgCP6H3VCAABokv0fdUIAAFABASB1QgAAOHAEIHVCAAAg3wcgdUI=\",\"dtype\":\"float64\",\"shape\":[49]},\"y\":{\"__ndarray__\":\"MzMzMzOVg0DGF+i/o4VwQKLqCCd162RAkiNuu8JuXkCwufoAGu1WQATiXr1ExVZAwqLpTzlQYkBUsRUbIn1oQGbpeVWmXHBAm1i4yodxdUCCyoKrFU14QOB1Y4HQ+3lARe+gZu7afUDoTa2vVtN/QNrVyjxwh4BALXoKXEvjf0DjbKiOie99QCSzShxNkoBAaGUOr892gkCamZmZmdOAQHeAQB7DxoBAMzMzMzPHgkBmZmZmZkyDQAUwI1Hw931AKOP0ROINdkAAAAAAABx6QGZmZmZmEoRAmpmZmZkLhEAAAAAAANCAQDMzMzMz731A4zerlVH0bEA0iD6m4VxiQEbAK4auRGBAorIJOZGhYUAyKcp4jT9lQH5mqrZDdWlAheJnd+FwcUDONIpn+KF3QDiYuWnIGntABsXrAfA4fEBqlhhZG9x8QNXRmPsVDXxA3trEKCGxfEDWuvoEM7J+QPqtrOjQyn1ApvIuqphbeUC7qvJiAGp2QEOUsxDdhXZAb97YHYXRdkA=\",\"dtype\":\"float64\",\"shape\":[49]}},\"selected\":{\"id\":\"3872\",\"type\":\"Selection\"},\"selection_policy\":{\"id\":\"3871\",\"type\":\"UnionRenderers\"}},\"id\":\"3814\",\"type\":\"ColumnDataSource\"},{\"attributes\":{\"source\":{\"id\":\"3874\",\"type\":\"ColumnDataSource\"}},\"id\":\"3878\",\"type\":\"CDSView\"},{\"attributes\":{\"line_alpha\":0.1,\"line_color\":\"#1f77b4\",\"line_width\":2,\"x\":{\"field\":\"x\"},\"y\":{\"field\":\"y\"}},\"id\":\"3763\",\"type\":\"Line\"},{\"attributes\":{\"days\":[1,8,15,22]},\"id\":\"3777\",\"type\":\"DaysTicker\"},{\"attributes\":{\"months\":[0,1,2,3,4,5,6,7,8,9,10,11]},\"id\":\"3779\",\"type\":\"MonthsTicker\"},{\"attributes\":{},\"id\":\"3783\",\"type\":\"YearsTicker\"},{\"attributes\":{\"line_color\":\"#3288bd\",\"line_width\":2,\"x\":{\"field\":\"x\"},\"y\":{\"field\":\"y\"}},\"id\":\"3762\",\"type\":\"Line\"},{\"attributes\":{\"line_alpha\":0.1,\"line_color\":\"#1f77b4\",\"line_width\":2,\"x\":{\"field\":\"x\"},\"y\":{\"field\":\"y\"}},\"id\":\"3845\",\"type\":\"Line\"},{\"attributes\":{\"source\":{\"id\":\"3814\",\"type\":\"ColumnDataSource\"}},\"id\":\"3818\",\"type\":\"CDSView\"},{\"attributes\":{\"bottom_units\":\"screen\",\"fill_alpha\":{\"value\":0.5},\"fill_color\":{\"value\":\"lightgrey\"},\"left_units\":\"screen\",\"level\":\"overlay\",\"line_alpha\":{\"value\":1.0},\"line_color\":{\"value\":\"black\"},\"line_dash\":[4,4],\"line_width\":{\"value\":2},\"render_mode\":\"css\",\"right_units\":\"screen\",\"top_units\":\"screen\"},\"id\":\"3784\",\"type\":\"BoxAnnotation\"},{\"attributes\":{},\"id\":\"3905\",\"type\":\"Selection\"},{\"attributes\":{\"source\":{\"id\":\"3843\",\"type\":\"ColumnDataSource\"}},\"id\":\"3847\",\"type\":\"CDSView\"},{\"attributes\":{\"line_color\":\"#d53e4f\",\"line_width\":2,\"x\":{\"field\":\"x\"},\"y\":{\"field\":\"y\"}},\"id\":\"3875\",\"type\":\"Line\"},{\"attributes\":{\"dimension\":1,\"ticker\":{\"id\":\"3744\",\"type\":\"BasicTicker\"}},\"id\":\"3747\",\"type\":\"Grid\"},{\"attributes\":{\"line_color\":\"#e6f598\",\"line_width\":2,\"x\":{\"field\":\"x\"},\"y\":{\"field\":\"y\"}},\"id\":\"3815\",\"type\":\"Line\"},{\"attributes\":{},\"id\":\"3871\",\"type\":\"UnionRenderers\"},{\"attributes\":{\"label\":{\"value\":\"EIA no external variables\"},\"renderers\":[{\"id\":\"3817\",\"type\":\"GlyphRenderer\"}]},\"id\":\"3842\",\"type\":\"LegendItem\"},{\"attributes\":{},\"id\":\"4109\",\"type\":\"UnionRenderers\"},{\"attributes\":{\"callback\":null,\"data\":{\"x\":{\"__ndarray__\":\"AACIgmYfdUIAAHDxaR91QgAAWGBtH3VCAABAz3AfdUIAACg+dB91QgAAEK13H3VCAAD4G3sfdUIAAOCKfh91QgAAyPmBH3VCAACwaIUfdUIAAJjXiB91QgAAgEaMH3VCAABotY8fdUIAAFAkkx91QgAAOJOWH3VCAAAgApofdUIAAAhxnR91QgAA8N+gH3VCAADYTqQfdUIAAMC9px91QgAAqCyrH3VCAACQm64fdUIAAHgKsh91QgAAYHm1H3VCAABI6LgfdUIAAEjouB91QgAAMFe8H3VCAAAYxr8fdUIAAAA1wx91QgAA6KPGH3VCAADQEsofdUIAALiBzR91QgAAoPDQH3VCAACIX9QfdUIAAHDO1x91QgAAWD3bH3VCAABArN4fdUIAACgb4h91QgAAEIrlH3VCAAD4+OgfdUIAAOBn7B91QgAAyNbvH3VCAACwRfMfdUIAAJi09h91QgAAgCP6H3VCAABokv0fdUIAAFABASB1QgAAOHAEIHVCAAAg3wcgdUI=\",\"dtype\":\"float64\",\"shape\":[49]},\"y\":{\"__ndarray__\":\"eYR+YA9XeUBitvo++iBuQOY9J3xB62JAo3dkpTxpW0AAKuP6KIxUQL752zZIpVRAdKjpRN8oZEDeJATgjgVwQALXglNlkXRA0UaGDXlOeEC91FD711l6QAWSkccU2npAlmthymqRfUB+V8sL5up/QK49vzrLp4BAXsLqw5hWgECY+Qtb5Md+QGvQrdYEfIBA18Tb6YYXg0AQomBIxFeCQBuFLkA9joBAz0oWHKuggEBHH5UFABWBQPshhI5sxHxAYuAk0oqigUB4rTnaZkuDQErI+vhyWIVAuFc0WDcUhEAUoKG8lkmBQG5P5jHbq3xAQp0YMtXLdUDiUlYrg2FvQGpQ6FXkg21AYuKdVHrbbUDjVEmOWYBxQDnrFAc1s3VAeiGnWjWsekBIvDUxfEB/QBBP+uGgAYBAApql6fGmgEDtcorjzzCBQMKx0G3XWIFAJBoTOXmjgUA7mbNn0RyCQGmaHTCNCYFAS+2klcDffkC7hZKN4PF7QALmRDedhXtA8j2UJPQ7eUA=\",\"dtype\":\"float64\",\"shape\":[49]}},\"selected\":{\"id\":\"3841\",\"type\":\"Selection\"},\"selection_policy\":{\"id\":\"3840\",\"type\":\"UnionRenderers\"}},\"id\":\"3787\",\"type\":\"ColumnDataSource\"},{\"attributes\":{},\"id\":\"3770\",\"type\":\"BasicTickFormatter\"},{\"attributes\":{\"formatter\":{\"id\":\"3768\",\"type\":\"DatetimeTickFormatter\"},\"ticker\":{\"id\":\"3739\",\"type\":\"DatetimeTicker\"}},\"id\":\"3738\",\"type\":\"DatetimeAxis\"},{\"attributes\":{\"label\":{\"value\":\"EIA weather and holidays\"},\"renderers\":[{\"id\":\"3846\",\"type\":\"GlyphRenderer\"}]},\"id\":\"3873\",\"type\":\"LegendItem\"},{\"attributes\":{\"callback\":null},\"id\":\"3732\",\"type\":\"DataRange1d\"},{\"attributes\":{},\"id\":\"3736\",\"type\":\"LinearScale\"},{\"attributes\":{\"base\":24,\"mantissas\":[1,2,4,6,8,12],\"max_interval\":43200000.0,\"min_interval\":3600000.0,\"num_minor_ticks\":0},\"id\":\"3774\",\"type\":\"AdaptiveTicker\"},{\"attributes\":{},\"id\":\"3840\",\"type\":\"UnionRenderers\"},{\"attributes\":{},\"id\":\"4110\",\"type\":\"Selection\"},{\"attributes\":{},\"id\":\"3734\",\"type\":\"LinearScale\"},{\"attributes\":{\"line_alpha\":0.1,\"line_color\":\"#1f77b4\",\"line_width\":2,\"x\":{\"field\":\"x\"},\"y\":{\"field\":\"y\"}},\"id\":\"3816\",\"type\":\"Line\"},{\"attributes\":{\"days\":[1,15]},\"id\":\"3778\",\"type\":\"DaysTicker\"},{\"attributes\":{},\"id\":\"3872\",\"type\":\"Selection\"},{\"attributes\":{\"days\":[1,2,3,4,5,6,7,8,9,10,11,12,13,14,15,16,17,18,19,20,21,22,23,24,25,26,27,28,29,30,31]},\"id\":\"3775\",\"type\":\"DaysTicker\"},{\"attributes\":{\"months\":[0,2,4,6,8,10]},\"id\":\"3780\",\"type\":\"MonthsTicker\"},{\"attributes\":{\"num_minor_ticks\":5,\"tickers\":[{\"id\":\"3772\",\"type\":\"AdaptiveTicker\"},{\"id\":\"3773\",\"type\":\"AdaptiveTicker\"},{\"id\":\"3774\",\"type\":\"AdaptiveTicker\"},{\"id\":\"3775\",\"type\":\"DaysTicker\"},{\"id\":\"3776\",\"type\":\"DaysTicker\"},{\"id\":\"3777\",\"type\":\"DaysTicker\"},{\"id\":\"3778\",\"type\":\"DaysTicker\"},{\"id\":\"3779\",\"type\":\"MonthsTicker\"},{\"id\":\"3780\",\"type\":\"MonthsTicker\"},{\"id\":\"3781\",\"type\":\"MonthsTicker\"},{\"id\":\"3782\",\"type\":\"MonthsTicker\"},{\"id\":\"3783\",\"type\":\"YearsTicker\"}]},\"id\":\"3739\",\"type\":\"DatetimeTicker\"},{\"attributes\":{\"source\":{\"id\":\"3761\",\"type\":\"ColumnDataSource\"}},\"id\":\"3765\",\"type\":\"CDSView\"}],\"root_ids\":[\"3729\"]},\"title\":\"Bokeh Application\",\"version\":\"1.4.0\"}};\n",
       "  var render_items = [{\"docid\":\"a87251a7-67eb-42d5-96f6-47a45b5cd7bf\",\"roots\":{\"3729\":\"af53c8fe-5b5d-4b06-8a4b-bf5b9137aea6\"}}];\n",
       "  root.Bokeh.embed.embed_items_notebook(docs_json, render_items);\n",
       "\n",
       "  }\n",
       "  if (root.Bokeh !== undefined) {\n",
       "    embed_document(root);\n",
       "  } else {\n",
       "    var attempts = 0;\n",
       "    var timer = setInterval(function(root) {\n",
       "      if (root.Bokeh !== undefined) {\n",
       "        clearInterval(timer);\n",
       "        embed_document(root);\n",
       "      } else {\n",
       "        attempts++;\n",
       "        if (attempts > 100) {\n",
       "          clearInterval(timer);\n",
       "          console.log(\"Bokeh: ERROR: Unable to run BokehJS code because BokehJS library is missing\");\n",
       "        }\n",
       "      }\n",
       "    }, 10, root)\n",
       "  }\n",
       "})(window);"
      ],
      "application/vnd.bokehjs_exec.v0+json": ""
     },
     "metadata": {
      "application/vnd.bokehjs_exec.v0+json": {
       "id": "3729"
      }
     },
     "output_type": "display_data"
    }
   ],
   "source": [
    "s = slice('2015-12-31', '2016-1-1')\n",
    "\n",
    "p = figure(plot_width=800, plot_height=400, x_axis_type='datetime')\n",
    "p.line(x = pred_ne[s].index, y=pred_ne[s], line_width=2, legend_label='No external variables', color = Spectral8[0])\n",
    "p.line(x = pred_w_h[s].index, y=pred_w_h[s], line_width=2, legend_label='Weather and holidays', color = Spectral8[1])\n",
    "p.line(x = eia_ne[s].index, y=eia_ne[s], line_width=2, legend_label='EIA no external variables', color = Spectral8[3])\n",
    "p.line(x = eia_w_h[s].index, y=eia_w_h[s], line_width=2, legend_label='EIA weather and holidays', color = Spectral8[5])\n",
    "p.line(x = real[s].index, y=real[s], line_width=2, legend_label='Real demand', color = Spectral8[7])\n",
    "\n",
    "p.yaxis.axis_label = 'Predictions'\n",
    "p.title.text = 'Blizzard'\n",
    "p.legend.location = 'bottom_left'\n",
    "p.legend.click_policy=\"hide\"\n",
    "\n",
    "show(p)"
   ]
  },
  {
   "cell_type": "code",
   "execution_count": 28,
   "metadata": {
    "ExecuteTime": {
     "end_time": "2020-02-21T10:08:22.882648Z",
     "start_time": "2020-02-21T10:08:22.675728Z"
    }
   },
   "outputs": [
    {
     "data": {
      "text/html": [
       "\n",
       "\n",
       "\n",
       "\n",
       "\n",
       "\n",
       "  <div class=\"bk-root\" id=\"f8bc8fd8-9457-4a75-8a91-6a1fce41b87a\" data-root-id=\"4285\"></div>\n"
      ]
     },
     "metadata": {},
     "output_type": "display_data"
    },
    {
     "data": {
      "application/javascript": [
       "(function(root) {\n",
       "  function embed_document(root) {\n",
       "    \n",
       "  var docs_json = {\"a1451f09-2b03-4d17-89fb-29a677820fac\":{\"roots\":{\"references\":[{\"attributes\":{\"below\":[{\"id\":\"4294\",\"type\":\"DatetimeAxis\"}],\"center\":[{\"id\":\"4298\",\"type\":\"Grid\"},{\"id\":\"4303\",\"type\":\"Grid\"},{\"id\":\"4341\",\"type\":\"Legend\"}],\"left\":[{\"id\":\"4299\",\"type\":\"LinearAxis\"}],\"plot_height\":400,\"plot_width\":800,\"renderers\":[{\"id\":\"4320\",\"type\":\"GlyphRenderer\"},{\"id\":\"4346\",\"type\":\"GlyphRenderer\"},{\"id\":\"4373\",\"type\":\"GlyphRenderer\"},{\"id\":\"4402\",\"type\":\"GlyphRenderer\"},{\"id\":\"4433\",\"type\":\"GlyphRenderer\"}],\"title\":{\"id\":\"4322\",\"type\":\"Title\"},\"toolbar\":{\"id\":\"4310\",\"type\":\"Toolbar\"},\"x_range\":{\"id\":\"4286\",\"type\":\"DataRange1d\"},\"x_scale\":{\"id\":\"4290\",\"type\":\"LinearScale\"},\"y_range\":{\"id\":\"4288\",\"type\":\"DataRange1d\"},\"y_scale\":{\"id\":\"4292\",\"type\":\"LinearScale\"}},\"id\":\"4285\",\"subtype\":\"Figure\",\"type\":\"Plot\"},{\"attributes\":{\"months\":[0,6]},\"id\":\"4338\",\"type\":\"MonthsTicker\"},{\"attributes\":{\"callback\":null},\"id\":\"4286\",\"type\":\"DataRange1d\"},{\"attributes\":{},\"id\":\"4305\",\"type\":\"WheelZoomTool\"},{\"attributes\":{\"source\":{\"id\":\"4430\",\"type\":\"ColumnDataSource\"}},\"id\":\"4434\",\"type\":\"CDSView\"},{\"attributes\":{},\"id\":\"4461\",\"type\":\"Selection\"},{\"attributes\":{},\"id\":\"4292\",\"type\":\"LinearScale\"},{\"attributes\":{},\"id\":\"4339\",\"type\":\"YearsTicker\"},{\"attributes\":{},\"id\":\"4427\",\"type\":\"UnionRenderers\"},{\"attributes\":{\"overlay\":{\"id\":\"4340\",\"type\":\"BoxAnnotation\"}},\"id\":\"4306\",\"type\":\"BoxZoomTool\"},{\"attributes\":{\"line_alpha\":0.1,\"line_color\":\"#1f77b4\",\"line_width\":2,\"x\":{\"field\":\"x\"},\"y\":{\"field\":\"y\"}},\"id\":\"4401\",\"type\":\"Line\"},{\"attributes\":{\"label\":{\"value\":\"EIA weather and holidays\"},\"renderers\":[{\"id\":\"4402\",\"type\":\"GlyphRenderer\"}]},\"id\":\"4429\",\"type\":\"LegendItem\"},{\"attributes\":{\"months\":[0,1,2,3,4,5,6,7,8,9,10,11]},\"id\":\"4335\",\"type\":\"MonthsTicker\"},{\"attributes\":{\"bottom_units\":\"screen\",\"fill_alpha\":{\"value\":0.5},\"fill_color\":{\"value\":\"lightgrey\"},\"left_units\":\"screen\",\"level\":\"overlay\",\"line_alpha\":{\"value\":1.0},\"line_color\":{\"value\":\"black\"},\"line_dash\":[4,4],\"line_width\":{\"value\":2},\"render_mode\":\"css\",\"right_units\":\"screen\",\"top_units\":\"screen\"},\"id\":\"4340\",\"type\":\"BoxAnnotation\"},{\"attributes\":{\"data_source\":{\"id\":\"4430\",\"type\":\"ColumnDataSource\"},\"glyph\":{\"id\":\"4431\",\"type\":\"Line\"},\"hover_glyph\":null,\"muted_glyph\":null,\"nonselection_glyph\":{\"id\":\"4432\",\"type\":\"Line\"},\"selection_glyph\":null,\"view\":{\"id\":\"4434\",\"type\":\"CDSView\"}},\"id\":\"4433\",\"type\":\"GlyphRenderer\"},{\"attributes\":{},\"id\":\"4307\",\"type\":\"SaveTool\"},{\"attributes\":{\"data_source\":{\"id\":\"4370\",\"type\":\"ColumnDataSource\"},\"glyph\":{\"id\":\"4371\",\"type\":\"Line\"},\"hover_glyph\":null,\"muted_glyph\":null,\"nonselection_glyph\":{\"id\":\"4372\",\"type\":\"Line\"},\"selection_glyph\":null,\"view\":{\"id\":\"4374\",\"type\":\"CDSView\"}},\"id\":\"4373\",\"type\":\"GlyphRenderer\"},{\"attributes\":{\"days\":[1,4,7,10,13,16,19,22,25,28]},\"id\":\"4332\",\"type\":\"DaysTicker\"},{\"attributes\":{},\"id\":\"4460\",\"type\":\"UnionRenderers\"},{\"attributes\":{},\"id\":\"4308\",\"type\":\"ResetTool\"},{\"attributes\":{\"source\":{\"id\":\"4399\",\"type\":\"ColumnDataSource\"}},\"id\":\"4403\",\"type\":\"CDSView\"},{\"attributes\":{},\"id\":\"4300\",\"type\":\"BasicTicker\"},{\"attributes\":{\"callback\":null,\"data\":{\"x\":{\"__ndarray__\":\"AAAI+zOVdUIAAPBpN5V1QgAA2Ng6lXVCAADARz6VdUIAAKi2QZV1QgAAkCVFlXVCAAB4lEiVdUIAAGADTJV1QgAASHJPlXVCAAAw4VKVdUIAABhQVpV1QgAAAL9ZlXVCAADoLV2VdUIAANCcYJV1QgAAuAtklXVCAACgemeVdUIAAIjpapV1QgAAcFhulXVCAABYx3GVdUIAAEA2dZV1QgAAKKV4lXVCAAAQFHyVdUIAAPiCf5V1QgAA4PGClXVCAADIYIaVdUIAAMhghpV1QgAAsM+JlXVCAACYPo2VdUIAAICtkJV1QgAAaByUlXVCAABQi5eVdUIAADj6mpV1QgAAIGmelXVCAAAI2KGVdUIAAPBGpZV1QgAA2LWolXVCAADAJKyVdUIAAKiTr5V1QgAAkAKzlXVCAAB4cbaVdUIAAGDguZV1QgAASE+9lXVCAAAwvsCVdUIAABgtxJV1QgAAAJzHlXVCAADoCsuVdUIAANB5zpV1QgAAuOjRlXVCAACgV9WVdUI=\",\"dtype\":\"float64\",\"shape\":[49]},\"y\":{\"__ndarray__\":\"ZRRLB5nBekD6tzhXl252QMf/dOUfL3FAfPe85kQ0aUA5UEF+dL1hQKJQ6Dw4wVNAqkL+y1FeU0BIfEAByzRaQJBs0aCaXGRA8ndXHUf2bED2VjcrgHpzQLJk+i7slnZA1xdBTOY+eECwf6TB7Kt5QGBvykpSt3lAarGGsBqBeUAmA6vJaRB6QK1DhBVjwXxAjet/37pqfkAratox1Up9QGqqDVVZHntA1Yx3+n3SekBtc6OHPy98QH3JLC/qU3tAcuop1th6f0A2o9ex0VSBQPxb3H9+LYRAPgdWzuTCgkBwxjjbm6+AQIIez0oMSXtA2X4TUdqFckD/2dgSuFtmQGed5HnPYGFAHldQdDUxYEB5h9MREDJkQMUp8XkA12lAbZO7hLdGcUCt2Oznd2R1QBk51jO/jXdA2I2ucL0BeUCTDjkDVAR7QHASo06LTn1AwuZPupINf0A9woco/sd/QJahxh0c5X5Arh/mdFFEfEDKIfLLfGV6QKjrqKSBTnpAmL1IBYQJeUA=\",\"dtype\":\"float64\",\"shape\":[49]}},\"selected\":{\"id\":\"4397\",\"type\":\"Selection\"},\"selection_policy\":{\"id\":\"4396\",\"type\":\"UnionRenderers\"}},\"id\":\"4343\",\"type\":\"ColumnDataSource\"},{\"attributes\":{\"line_color\":\"#fdae61\",\"line_width\":2,\"x\":{\"field\":\"x\"},\"y\":{\"field\":\"y\"}},\"id\":\"4400\",\"type\":\"Line\"},{\"attributes\":{\"base\":60,\"mantissas\":[1,2,5,10,15,20,30],\"max_interval\":1800000.0,\"min_interval\":1000.0,\"num_minor_ticks\":0},\"id\":\"4329\",\"type\":\"AdaptiveTicker\"},{\"attributes\":{},\"id\":\"4309\",\"type\":\"HelpTool\"},{\"attributes\":{},\"id\":\"4428\",\"type\":\"Selection\"},{\"attributes\":{\"data_source\":{\"id\":\"4399\",\"type\":\"ColumnDataSource\"},\"glyph\":{\"id\":\"4400\",\"type\":\"Line\"},\"hover_glyph\":null,\"muted_glyph\":null,\"nonselection_glyph\":{\"id\":\"4401\",\"type\":\"Line\"},\"selection_glyph\":null,\"view\":{\"id\":\"4403\",\"type\":\"CDSView\"}},\"id\":\"4402\",\"type\":\"GlyphRenderer\"},{\"attributes\":{},\"id\":\"4304\",\"type\":\"PanTool\"},{\"attributes\":{},\"id\":\"4694\",\"type\":\"UnionRenderers\"},{\"attributes\":{},\"id\":\"4695\",\"type\":\"Selection\"},{\"attributes\":{\"active_drag\":\"auto\",\"active_inspect\":\"auto\",\"active_multi\":null,\"active_scroll\":\"auto\",\"active_tap\":\"auto\",\"tools\":[{\"id\":\"4304\",\"type\":\"PanTool\"},{\"id\":\"4305\",\"type\":\"WheelZoomTool\"},{\"id\":\"4306\",\"type\":\"BoxZoomTool\"},{\"id\":\"4307\",\"type\":\"SaveTool\"},{\"id\":\"4308\",\"type\":\"ResetTool\"},{\"id\":\"4309\",\"type\":\"HelpTool\"}]},\"id\":\"4310\",\"type\":\"Toolbar\"},{\"attributes\":{\"line_alpha\":0.1,\"line_color\":\"#1f77b4\",\"line_width\":2,\"x\":{\"field\":\"x\"},\"y\":{\"field\":\"y\"}},\"id\":\"4345\",\"type\":\"Line\"},{\"attributes\":{\"source\":{\"id\":\"4370\",\"type\":\"ColumnDataSource\"}},\"id\":\"4374\",\"type\":\"CDSView\"},{\"attributes\":{\"formatter\":{\"id\":\"4324\",\"type\":\"DatetimeTickFormatter\"},\"ticker\":{\"id\":\"4295\",\"type\":\"DatetimeTicker\"}},\"id\":\"4294\",\"type\":\"DatetimeAxis\"},{\"attributes\":{},\"id\":\"4396\",\"type\":\"UnionRenderers\"},{\"attributes\":{\"num_minor_ticks\":5,\"tickers\":[{\"id\":\"4328\",\"type\":\"AdaptiveTicker\"},{\"id\":\"4329\",\"type\":\"AdaptiveTicker\"},{\"id\":\"4330\",\"type\":\"AdaptiveTicker\"},{\"id\":\"4331\",\"type\":\"DaysTicker\"},{\"id\":\"4332\",\"type\":\"DaysTicker\"},{\"id\":\"4333\",\"type\":\"DaysTicker\"},{\"id\":\"4334\",\"type\":\"DaysTicker\"},{\"id\":\"4335\",\"type\":\"MonthsTicker\"},{\"id\":\"4336\",\"type\":\"MonthsTicker\"},{\"id\":\"4337\",\"type\":\"MonthsTicker\"},{\"id\":\"4338\",\"type\":\"MonthsTicker\"},{\"id\":\"4339\",\"type\":\"YearsTicker\"}]},\"id\":\"4295\",\"type\":\"DatetimeTicker\"},{\"attributes\":{\"line_alpha\":0.1,\"line_color\":\"#1f77b4\",\"line_width\":2,\"x\":{\"field\":\"x\"},\"y\":{\"field\":\"y\"}},\"id\":\"4372\",\"type\":\"Line\"},{\"attributes\":{\"label\":{\"value\":\"EIA no external variables\"},\"renderers\":[{\"id\":\"4373\",\"type\":\"GlyphRenderer\"}]},\"id\":\"4398\",\"type\":\"LegendItem\"},{\"attributes\":{\"line_color\":\"#e6f598\",\"line_width\":2,\"x\":{\"field\":\"x\"},\"y\":{\"field\":\"y\"}},\"id\":\"4371\",\"type\":\"Line\"},{\"attributes\":{\"ticker\":{\"id\":\"4295\",\"type\":\"DatetimeTicker\"}},\"id\":\"4298\",\"type\":\"Grid\"},{\"attributes\":{\"data_source\":{\"id\":\"4343\",\"type\":\"ColumnDataSource\"},\"glyph\":{\"id\":\"4344\",\"type\":\"Line\"},\"hover_glyph\":null,\"muted_glyph\":null,\"nonselection_glyph\":{\"id\":\"4345\",\"type\":\"Line\"},\"selection_glyph\":null,\"view\":{\"id\":\"4347\",\"type\":\"CDSView\"}},\"id\":\"4346\",\"type\":\"GlyphRenderer\"},{\"attributes\":{\"data_source\":{\"id\":\"4317\",\"type\":\"ColumnDataSource\"},\"glyph\":{\"id\":\"4318\",\"type\":\"Line\"},\"hover_glyph\":null,\"muted_glyph\":null,\"nonselection_glyph\":{\"id\":\"4319\",\"type\":\"Line\"},\"selection_glyph\":null,\"view\":{\"id\":\"4321\",\"type\":\"CDSView\"}},\"id\":\"4320\",\"type\":\"GlyphRenderer\"},{\"attributes\":{},\"id\":\"4397\",\"type\":\"Selection\"},{\"attributes\":{\"callback\":null,\"data\":{\"x\":{\"__ndarray__\":\"AAAI+zOVdUIAAPBpN5V1QgAA2Ng6lXVCAADARz6VdUIAAKi2QZV1QgAAkCVFlXVCAAB4lEiVdUIAAGADTJV1QgAASHJPlXVCAAAw4VKVdUIAABhQVpV1QgAAAL9ZlXVCAADoLV2VdUIAANCcYJV1QgAAuAtklXVCAACgemeVdUIAAIjpapV1QgAAcFhulXVCAABYx3GVdUIAAEA2dZV1QgAAKKV4lXVCAAAQFHyVdUIAAPiCf5V1QgAA4PGClXVCAADIYIaVdUIAAMhghpV1QgAAsM+JlXVCAACYPo2VdUIAAICtkJV1QgAAaByUlXVCAABQi5eVdUIAADj6mpV1QgAAIGmelXVCAAAI2KGVdUIAAPBGpZV1QgAA2LWolXVCAADAJKyVdUIAAKiTr5V1QgAAkAKzlXVCAAB4cbaVdUIAAGDguZV1QgAASE+9lXVCAAAwvsCVdUIAABgtxJV1QgAAAJzHlXVCAADoCsuVdUIAANB5zpV1QgAAuOjRlXVCAACgV9WVdUI=\",\"dtype\":\"float64\",\"shape\":[49]},\"y\":{\"__ndarray__\":\"NWpCdg0qekD9QENF3YF2QDbrU1fzHnFAQ/wMZyPlaUAO80VGixFjQIKBovVAvVNASjwQtjkST0A3GHfgLlxXQJ05IBzpnGJAKBmfFheaakBhfwripuNyQKStpaUVOHZATiJbRb7beEAFvjfuj6Z5QHeAAYIXjnlAGaTUpDnheEAB29VirGN5QLMnpy3KD3xASuAEAYfufECFCS7p/ol7QPbiTqMurHlAzczMzMzUfECamZmZmdl8QNIezGNv4HpAfiu7DArxcUCamZmZmfl0QJqZmZmZ54BAmpmZmZlhgUAzMzMzM0t/QDMzMzMz43pABBAnWYC1Y0A5GNLWyAtXQLXPUgcBkldAS86MpM+uYEAl+8wtCx1mQOgtenUv02xAN/Tdoq1Nc0BdP6ZDyuB2QMgYC5L+i3hA6nFP43N/eEBUZUvkq7x3QB1tfkAyIndAKTNPLapwd0DnDZI1K7B3QBKHv/0ui3dASXkFlIXcdEBTX06VNDpzQEUM50i5vnFAmxAWnfPyakA=\",\"dtype\":\"float64\",\"shape\":[49]}},\"selected\":{\"id\":\"4428\",\"type\":\"Selection\"},\"selection_policy\":{\"id\":\"4427\",\"type\":\"UnionRenderers\"}},\"id\":\"4370\",\"type\":\"ColumnDataSource\"},{\"attributes\":{\"base\":24,\"mantissas\":[1,2,4,6,8,12],\"max_interval\":43200000.0,\"min_interval\":3600000.0,\"num_minor_ticks\":0},\"id\":\"4330\",\"type\":\"AdaptiveTicker\"},{\"attributes\":{\"line_color\":\"#d53e4f\",\"line_width\":2,\"x\":{\"field\":\"x\"},\"y\":{\"field\":\"y\"}},\"id\":\"4431\",\"type\":\"Line\"},{\"attributes\":{\"mantissas\":[1,2,5],\"max_interval\":500.0,\"num_minor_ticks\":0},\"id\":\"4328\",\"type\":\"AdaptiveTicker\"},{\"attributes\":{\"axis_label\":\"Predictions\",\"formatter\":{\"id\":\"4326\",\"type\":\"BasicTickFormatter\"},\"ticker\":{\"id\":\"4300\",\"type\":\"BasicTicker\"}},\"id\":\"4299\",\"type\":\"LinearAxis\"},{\"attributes\":{\"source\":{\"id\":\"4317\",\"type\":\"ColumnDataSource\"}},\"id\":\"4321\",\"type\":\"CDSView\"},{\"attributes\":{\"source\":{\"id\":\"4343\",\"type\":\"ColumnDataSource\"}},\"id\":\"4347\",\"type\":\"CDSView\"},{\"attributes\":{\"text\":\"Blizzard\"},\"id\":\"4322\",\"type\":\"Title\"},{\"attributes\":{},\"id\":\"4290\",\"type\":\"LinearScale\"},{\"attributes\":{\"callback\":null,\"data\":{\"x\":{\"__ndarray__\":\"AAAI+zOVdUIAAPBpN5V1QgAA2Ng6lXVCAADARz6VdUIAAKi2QZV1QgAAkCVFlXVCAAB4lEiVdUIAAGADTJV1QgAASHJPlXVCAAAw4VKVdUIAABhQVpV1QgAAAL9ZlXVCAADoLV2VdUIAANCcYJV1QgAAuAtklXVCAACgemeVdUIAAIjpapV1QgAAcFhulXVCAABYx3GVdUIAAEA2dZV1QgAAKKV4lXVCAAAQFHyVdUIAAPiCf5V1QgAA4PGClXVCAADIYIaVdUIAAMhghpV1QgAAsM+JlXVCAACYPo2VdUIAAICtkJV1QgAAaByUlXVCAABQi5eVdUIAADj6mpV1QgAAIGmelXVCAAAI2KGVdUIAAPBGpZV1QgAA2LWolXVCAADAJKyVdUIAAKiTr5V1QgAAkAKzlXVCAAB4cbaVdUIAAGDguZV1QgAASE+9lXVCAAAwvsCVdUIAABgtxJV1QgAAAJzHlXVCAADoCsuVdUIAANB5zpV1QgAAuOjRlXVCAACgV9WVdUI=\",\"dtype\":\"float64\",\"shape\":[49]},\"y\":{\"__ndarray__\":\"mpmZmZmBfEBmZmZmZmJ1QGZmZmZm9nBAzczMzMz8aUAzMzMzMzthQDMzMzMz801AMzMzMzMzUEAzMzMzM+NUQJqZmZmZCWBAAAAAAABIakAAAAAAAFhxQM3MzMzMMHVAZmZmZmZyd0CamZmZmYF4QJqZmZmZmXhAmpmZmZn1eUAAAAAAALh6QM3MzMzMuHtAmpmZmZn5e0AAAAAAAPx8QM3MzMzM1HxAmpmZmZnZfEDNzMzMzCR7QJqZmZmZ+XRAmpmZmZnngECamZmZmeeAQJqZmZmZYYFAMzMzMzNLf0AzMzMzM+N6QDMzMzMzV3NAMzMzMzODYkDNzMzMzGxaQM3MzMzM7FdAAAAAAAAAWEDNzMzMzExhQJqZmZmZIWtAMzMzMzMLckAAAAAAAAh1QGZmZmZmonVAMzMzMzMrdkDNzMzMzBR3QDMzMzMzM3dAmpmZmZn9dkDNzMzMzNB2QAAAAAAA7HVAZmZmZmZic0AzMzMzM+9yQM3MzMzMoHFAzczMzMwcbUA=\",\"dtype\":\"float64\",\"shape\":[49]}},\"selected\":{\"id\":\"4695\",\"type\":\"Selection\"},\"selection_policy\":{\"id\":\"4694\",\"type\":\"UnionRenderers\"}},\"id\":\"4430\",\"type\":\"ColumnDataSource\"},{\"attributes\":{\"days\":[1,2,3,4,5,6,7,8,9,10,11,12,13,14,15,16,17,18,19,20,21,22,23,24,25,26,27,28,29,30,31]},\"id\":\"4331\",\"type\":\"DaysTicker\"},{\"attributes\":{\"callback\":null},\"id\":\"4288\",\"type\":\"DataRange1d\"},{\"attributes\":{},\"id\":\"4367\",\"type\":\"UnionRenderers\"},{\"attributes\":{\"click_policy\":\"hide\",\"items\":[{\"id\":\"4342\",\"type\":\"LegendItem\"},{\"id\":\"4369\",\"type\":\"LegendItem\"},{\"id\":\"4398\",\"type\":\"LegendItem\"},{\"id\":\"4429\",\"type\":\"LegendItem\"},{\"id\":\"4462\",\"type\":\"LegendItem\"}],\"location\":\"bottom_left\"},\"id\":\"4341\",\"type\":\"Legend\"},{\"attributes\":{\"label\":{\"value\":\"Weather and holidays\"},\"renderers\":[{\"id\":\"4346\",\"type\":\"GlyphRenderer\"}]},\"id\":\"4369\",\"type\":\"LegendItem\"},{\"attributes\":{\"days\":[1,15]},\"id\":\"4334\",\"type\":\"DaysTicker\"},{\"attributes\":{},\"id\":\"4324\",\"type\":\"DatetimeTickFormatter\"},{\"attributes\":{\"callback\":null,\"data\":{\"x\":{\"__ndarray__\":\"AAAI+zOVdUIAAPBpN5V1QgAA2Ng6lXVCAADARz6VdUIAAKi2QZV1QgAAkCVFlXVCAAB4lEiVdUIAAGADTJV1QgAASHJPlXVCAAAw4VKVdUIAABhQVpV1QgAAAL9ZlXVCAADoLV2VdUIAANCcYJV1QgAAuAtklXVCAACgemeVdUIAAIjpapV1QgAAcFhulXVCAABYx3GVdUIAAEA2dZV1QgAAKKV4lXVCAAAQFHyVdUIAAPiCf5V1QgAA4PGClXVCAADIYIaVdUIAAMhghpV1QgAAsM+JlXVCAACYPo2VdUIAAICtkJV1QgAAaByUlXVCAABQi5eVdUIAADj6mpV1QgAAIGmelXVCAAAI2KGVdUIAAPBGpZV1QgAA2LWolXVCAADAJKyVdUIAAKiTr5V1QgAAkAKzlXVCAAB4cbaVdUIAAGDguZV1QgAASE+9lXVCAAAwvsCVdUIAABgtxJV1QgAAAJzHlXVCAADoCsuVdUIAANB5zpV1QgAAuOjRlXVCAACgV9WVdUI=\",\"dtype\":\"float64\",\"shape\":[49]},\"y\":{\"__ndarray__\":\"NWpCdg0qekD9QENF3YF2QDbrU1fzHnFAQ/wMZyPlaUAO80VGixFjQIKBovVAvVNASjwQtjkST0A3GHfgLlxXQJ05IBzpnGJAKBmfFheaakBhfwripuNyQKStpaUVOHZATiJbRb7beEAFvjfuj6Z5QHeAAYIXjnlAGaTUpDnheEAB29VirGN5QLMnpy3KD3xASuAEAYfufECFCS7p/ol7QPbiTqMurHlAYgAG9qwIekDmbXAPM5B7QNIezGNv4HpAfiu7DArxcUBb0f0iCJJ0QH2N8Ldq1HpAq4OXnAb0eUATwKE/krZ0QLo/4IrfaHBABBAnWYC1Y0A5GNLWyAtXQLXPUgcBkldAS86MpM+uYEAl+8wtCx1mQOgtenUv02xAN/Tdoq1Nc0BdP6ZDyuB2QMgYC5L+i3hA6nFP43N/eEBUZUvkq7x3QB1tfkAyIndAKTNPLapwd0DnDZI1K7B3QBKHv/0ui3dASXkFlIXcdEBTX06VNDpzQEUM50i5vnFAmxAWnfPyakA=\",\"dtype\":\"float64\",\"shape\":[49]}},\"selected\":{\"id\":\"4368\",\"type\":\"Selection\"},\"selection_policy\":{\"id\":\"4367\",\"type\":\"UnionRenderers\"}},\"id\":\"4317\",\"type\":\"ColumnDataSource\"},{\"attributes\":{\"line_alpha\":0.1,\"line_color\":\"#1f77b4\",\"line_width\":2,\"x\":{\"field\":\"x\"},\"y\":{\"field\":\"y\"}},\"id\":\"4319\",\"type\":\"Line\"},{\"attributes\":{\"callback\":null,\"data\":{\"x\":{\"__ndarray__\":\"AAAI+zOVdUIAAPBpN5V1QgAA2Ng6lXVCAADARz6VdUIAAKi2QZV1QgAAkCVFlXVCAAB4lEiVdUIAAGADTJV1QgAASHJPlXVCAAAw4VKVdUIAABhQVpV1QgAAAL9ZlXVCAADoLV2VdUIAANCcYJV1QgAAuAtklXVCAACgemeVdUIAAIjpapV1QgAAcFhulXVCAABYx3GVdUIAAEA2dZV1QgAAKKV4lXVCAAAQFHyVdUIAAPiCf5V1QgAA4PGClXVCAADIYIaVdUIAAMhghpV1QgAAsM+JlXVCAACYPo2VdUIAAICtkJV1QgAAaByUlXVCAABQi5eVdUIAADj6mpV1QgAAIGmelXVCAAAI2KGVdUIAAPBGpZV1QgAA2LWolXVCAADAJKyVdUIAAKiTr5V1QgAAkAKzlXVCAAB4cbaVdUIAAGDguZV1QgAASE+9lXVCAAAwvsCVdUIAABgtxJV1QgAAAJzHlXVCAADoCsuVdUIAANB5zpV1QgAAuOjRlXVCAACgV9WVdUI=\",\"dtype\":\"float64\",\"shape\":[49]},\"y\":{\"__ndarray__\":\"ZRRLB5nBekD6tzhXl252QMf/dOUfL3FAfPe85kQ0aUA5UEF+dL1hQKJQ6Dw4wVNAqkL+y1FeU0BIfEAByzRaQJBs0aCaXGRA8ndXHUf2bED2VjcrgHpzQLJk+i7slnZA1xdBTOY+eECwf6TB7Kt5QGBvykpSt3lAarGGsBqBeUAmA6vJaRB6QK1DhBVjwXxAjet/37pqfkAratox1Up9QGqqDVVZHntAzczMzMzUfECamZmZmdl8QH3JLC/qU3tAcuop1th6f0A2o9ex0VSBQPxb3H9+LYRAPgdWzuTCgkBwxjjbm6+AQIIez0oMSXtA2X4TUdqFckD/2dgSuFtmQGed5HnPYGFAzczMzMzsV0AAAAAAAABYQM3MzMzMTGFAbZO7hLdGcUCt2Oznd2R1QBk51jO/jXdA2I2ucL0BeUCTDjkDVAR7QM3MzMzMFHdAMzMzMzMzd0CamZmZmf12QM3MzMzM0HZAAAAAAADsdUBmZmZmZmJzQDMzMzMz73JAzczMzMygcUA=\",\"dtype\":\"float64\",\"shape\":[49]}},\"selected\":{\"id\":\"4461\",\"type\":\"Selection\"},\"selection_policy\":{\"id\":\"4460\",\"type\":\"UnionRenderers\"}},\"id\":\"4399\",\"type\":\"ColumnDataSource\"},{\"attributes\":{\"line_alpha\":0.1,\"line_color\":\"#1f77b4\",\"line_width\":2,\"x\":{\"field\":\"x\"},\"y\":{\"field\":\"y\"}},\"id\":\"4432\",\"type\":\"Line\"},{\"attributes\":{\"label\":{\"value\":\"Real demand\"},\"renderers\":[{\"id\":\"4433\",\"type\":\"GlyphRenderer\"}]},\"id\":\"4462\",\"type\":\"LegendItem\"},{\"attributes\":{\"months\":[0,2,4,6,8,10]},\"id\":\"4336\",\"type\":\"MonthsTicker\"},{\"attributes\":{\"months\":[0,4,8]},\"id\":\"4337\",\"type\":\"MonthsTicker\"},{\"attributes\":{},\"id\":\"4368\",\"type\":\"Selection\"},{\"attributes\":{\"line_color\":\"#3288bd\",\"line_width\":2,\"x\":{\"field\":\"x\"},\"y\":{\"field\":\"y\"}},\"id\":\"4318\",\"type\":\"Line\"},{\"attributes\":{},\"id\":\"4326\",\"type\":\"BasicTickFormatter\"},{\"attributes\":{\"days\":[1,8,15,22]},\"id\":\"4333\",\"type\":\"DaysTicker\"},{\"attributes\":{\"line_color\":\"#66c2a5\",\"line_width\":2,\"x\":{\"field\":\"x\"},\"y\":{\"field\":\"y\"}},\"id\":\"4344\",\"type\":\"Line\"},{\"attributes\":{\"dimension\":1,\"ticker\":{\"id\":\"4300\",\"type\":\"BasicTicker\"}},\"id\":\"4303\",\"type\":\"Grid\"},{\"attributes\":{\"label\":{\"value\":\"No external variables\"},\"renderers\":[{\"id\":\"4320\",\"type\":\"GlyphRenderer\"}]},\"id\":\"4342\",\"type\":\"LegendItem\"}],\"root_ids\":[\"4285\"]},\"title\":\"Bokeh Application\",\"version\":\"1.4.0\"}};\n",
       "  var render_items = [{\"docid\":\"a1451f09-2b03-4d17-89fb-29a677820fac\",\"roots\":{\"4285\":\"f8bc8fd8-9457-4a75-8a91-6a1fce41b87a\"}}];\n",
       "  root.Bokeh.embed.embed_items_notebook(docs_json, render_items);\n",
       "\n",
       "  }\n",
       "  if (root.Bokeh !== undefined) {\n",
       "    embed_document(root);\n",
       "  } else {\n",
       "    var attempts = 0;\n",
       "    var timer = setInterval(function(root) {\n",
       "      if (root.Bokeh !== undefined) {\n",
       "        clearInterval(timer);\n",
       "        embed_document(root);\n",
       "      } else {\n",
       "        attempts++;\n",
       "        if (attempts > 100) {\n",
       "          clearInterval(timer);\n",
       "          console.log(\"Bokeh: ERROR: Unable to run BokehJS code because BokehJS library is missing\");\n",
       "        }\n",
       "      }\n",
       "    }, 10, root)\n",
       "  }\n",
       "})(window);"
      ],
      "application/vnd.bokehjs_exec.v0+json": ""
     },
     "metadata": {
      "application/vnd.bokehjs_exec.v0+json": {
       "id": "4285"
      }
     },
     "output_type": "display_data"
    }
   ],
   "source": [
    "s = slice('2016-12-31', '2017-1-1')\n",
    "\n",
    "p = figure(plot_width=800, plot_height=400, x_axis_type='datetime')\n",
    "p.line(x = pred_ne[s].index, y=pred_ne[s], line_width=2, legend_label='No external variables', color = Spectral8[0])\n",
    "p.line(x = pred_w_h[s].index, y=pred_w_h[s], line_width=2, legend_label='Weather and holidays', color = Spectral8[1])\n",
    "p.line(x = eia_ne[s].index, y=eia_ne[s], line_width=2, legend_label='EIA no external variables', color = Spectral8[3])\n",
    "p.line(x = eia_w_h[s].index, y=eia_w_h[s], line_width=2, legend_label='EIA weather and holidays', color = Spectral8[5])\n",
    "p.line(x = real[s].index, y=real[s], line_width=2, legend_label='Real demand', color = Spectral8[7])\n",
    "\n",
    "p.yaxis.axis_label = 'Predictions'\n",
    "p.title.text = 'Blizzard'\n",
    "p.legend.location = 'bottom_left'\n",
    "p.legend.click_policy=\"hide\"\n",
    "\n",
    "show(p)"
   ]
  },
  {
   "cell_type": "markdown",
   "metadata": {},
   "source": [
    "**4th of July**"
   ]
  },
  {
   "cell_type": "code",
   "execution_count": 10,
   "metadata": {
    "ExecuteTime": {
     "end_time": "2020-02-21T10:12:46.825297Z",
     "start_time": "2020-02-21T10:12:46.641446Z"
    }
   },
   "outputs": [
    {
     "data": {
      "text/html": [
       "\n",
       "\n",
       "\n",
       "\n",
       "\n",
       "\n",
       "  <div class=\"bk-root\" id=\"19b1d62b-fdec-4730-8a7b-323f95505028\" data-root-id=\"1384\"></div>\n"
      ]
     },
     "metadata": {},
     "output_type": "display_data"
    },
    {
     "data": {
      "application/javascript": [
       "(function(root) {\n",
       "  function embed_document(root) {\n",
       "    \n",
       "  var docs_json = {\"afa76e49-84dc-4068-a477-f45fb4818faa\":{\"roots\":{\"references\":[{\"attributes\":{\"below\":[{\"id\":\"1393\",\"type\":\"DatetimeAxis\"}],\"center\":[{\"id\":\"1397\",\"type\":\"Grid\"},{\"id\":\"1402\",\"type\":\"Grid\"},{\"id\":\"1440\",\"type\":\"Legend\"}],\"left\":[{\"id\":\"1398\",\"type\":\"LinearAxis\"}],\"plot_height\":400,\"plot_width\":800,\"renderers\":[{\"id\":\"1419\",\"type\":\"GlyphRenderer\"},{\"id\":\"1445\",\"type\":\"GlyphRenderer\"},{\"id\":\"1472\",\"type\":\"GlyphRenderer\"},{\"id\":\"1501\",\"type\":\"GlyphRenderer\"},{\"id\":\"1532\",\"type\":\"GlyphRenderer\"}],\"title\":{\"id\":\"1421\",\"type\":\"Title\"},\"toolbar\":{\"id\":\"1409\",\"type\":\"Toolbar\"},\"x_range\":{\"id\":\"1385\",\"type\":\"DataRange1d\"},\"x_scale\":{\"id\":\"1389\",\"type\":\"LinearScale\"},\"y_range\":{\"id\":\"1387\",\"type\":\"DataRange1d\"},\"y_scale\":{\"id\":\"1391\",\"type\":\"LinearScale\"}},\"id\":\"1384\",\"subtype\":\"Figure\",\"type\":\"Plot\"},{\"attributes\":{\"click_policy\":\"hide\",\"items\":[{\"id\":\"1441\",\"type\":\"LegendItem\"},{\"id\":\"1468\",\"type\":\"LegendItem\"},{\"id\":\"1497\",\"type\":\"LegendItem\"},{\"id\":\"1528\",\"type\":\"LegendItem\"},{\"id\":\"1561\",\"type\":\"LegendItem\"}],\"location\":\"bottom_left\"},\"id\":\"1440\",\"type\":\"Legend\"},{\"attributes\":{},\"id\":\"1424\",\"type\":\"DatetimeTickFormatter\"},{\"attributes\":{},\"id\":\"1404\",\"type\":\"WheelZoomTool\"},{\"attributes\":{\"base\":24,\"mantissas\":[1,2,4,6,8,12],\"max_interval\":43200000.0,\"min_interval\":3600000.0,\"num_minor_ticks\":0},\"id\":\"1429\",\"type\":\"AdaptiveTicker\"},{\"attributes\":{},\"id\":\"1619\",\"type\":\"Selection\"},{\"attributes\":{\"bottom_units\":\"screen\",\"fill_alpha\":{\"value\":0.5},\"fill_color\":{\"value\":\"lightgrey\"},\"left_units\":\"screen\",\"level\":\"overlay\",\"line_alpha\":{\"value\":1.0},\"line_color\":{\"value\":\"black\"},\"line_dash\":[4,4],\"line_width\":{\"value\":2},\"render_mode\":\"css\",\"right_units\":\"screen\",\"top_units\":\"screen\"},\"id\":\"1439\",\"type\":\"BoxAnnotation\"},{\"attributes\":{\"data_source\":{\"id\":\"1529\",\"type\":\"ColumnDataSource\"},\"glyph\":{\"id\":\"1530\",\"type\":\"Line\"},\"hover_glyph\":null,\"muted_glyph\":null,\"nonselection_glyph\":{\"id\":\"1531\",\"type\":\"Line\"},\"selection_glyph\":null,\"view\":{\"id\":\"1533\",\"type\":\"CDSView\"}},\"id\":\"1532\",\"type\":\"GlyphRenderer\"},{\"attributes\":{\"mantissas\":[1,2,5],\"max_interval\":500.0,\"num_minor_ticks\":0},\"id\":\"1427\",\"type\":\"AdaptiveTicker\"},{\"attributes\":{},\"id\":\"1494\",\"type\":\"UnionRenderers\"},{\"attributes\":{\"line_alpha\":0.1,\"line_color\":\"#1f77b4\",\"line_width\":2,\"x\":{\"field\":\"x\"},\"y\":{\"field\":\"y\"}},\"id\":\"1471\",\"type\":\"Line\"},{\"attributes\":{\"label\":{\"value\":\"EIA no external variables\"},\"renderers\":[{\"id\":\"1472\",\"type\":\"GlyphRenderer\"}]},\"id\":\"1497\",\"type\":\"LegendItem\"},{\"attributes\":{},\"id\":\"1526\",\"type\":\"Selection\"},{\"attributes\":{\"data_source\":{\"id\":\"1498\",\"type\":\"ColumnDataSource\"},\"glyph\":{\"id\":\"1499\",\"type\":\"Line\"},\"hover_glyph\":null,\"muted_glyph\":null,\"nonselection_glyph\":{\"id\":\"1500\",\"type\":\"Line\"},\"selection_glyph\":null,\"view\":{\"id\":\"1502\",\"type\":\"CDSView\"}},\"id\":\"1501\",\"type\":\"GlyphRenderer\"},{\"attributes\":{\"base\":60,\"mantissas\":[1,2,5,10,15,20,30],\"max_interval\":1800000.0,\"min_interval\":1000.0,\"num_minor_ticks\":0},\"id\":\"1428\",\"type\":\"AdaptiveTicker\"},{\"attributes\":{\"data_source\":{\"id\":\"1416\",\"type\":\"ColumnDataSource\"},\"glyph\":{\"id\":\"1417\",\"type\":\"Line\"},\"hover_glyph\":null,\"muted_glyph\":null,\"nonselection_glyph\":{\"id\":\"1418\",\"type\":\"Line\"},\"selection_glyph\":null,\"view\":{\"id\":\"1420\",\"type\":\"CDSView\"}},\"id\":\"1419\",\"type\":\"GlyphRenderer\"},{\"attributes\":{\"data_source\":{\"id\":\"1442\",\"type\":\"ColumnDataSource\"},\"glyph\":{\"id\":\"1443\",\"type\":\"Line\"},\"hover_glyph\":null,\"muted_glyph\":null,\"nonselection_glyph\":{\"id\":\"1444\",\"type\":\"Line\"},\"selection_glyph\":null,\"view\":{\"id\":\"1446\",\"type\":\"CDSView\"}},\"id\":\"1445\",\"type\":\"GlyphRenderer\"},{\"attributes\":{},\"id\":\"1426\",\"type\":\"BasicTickFormatter\"},{\"attributes\":{\"source\":{\"id\":\"1469\",\"type\":\"ColumnDataSource\"}},\"id\":\"1473\",\"type\":\"CDSView\"},{\"attributes\":{\"ticker\":{\"id\":\"1394\",\"type\":\"DatetimeTicker\"}},\"id\":\"1397\",\"type\":\"Grid\"},{\"attributes\":{},\"id\":\"1403\",\"type\":\"PanTool\"},{\"attributes\":{\"dimension\":1,\"ticker\":{\"id\":\"1399\",\"type\":\"BasicTicker\"}},\"id\":\"1402\",\"type\":\"Grid\"},{\"attributes\":{\"active_drag\":\"auto\",\"active_inspect\":\"auto\",\"active_multi\":null,\"active_scroll\":\"auto\",\"active_tap\":\"auto\",\"tools\":[{\"id\":\"1403\",\"type\":\"PanTool\"},{\"id\":\"1404\",\"type\":\"WheelZoomTool\"},{\"id\":\"1405\",\"type\":\"BoxZoomTool\"},{\"id\":\"1406\",\"type\":\"SaveTool\"},{\"id\":\"1407\",\"type\":\"ResetTool\"},{\"id\":\"1408\",\"type\":\"HelpTool\"}]},\"id\":\"1409\",\"type\":\"Toolbar\"},{\"attributes\":{},\"id\":\"1495\",\"type\":\"Selection\"},{\"attributes\":{\"data_source\":{\"id\":\"1469\",\"type\":\"ColumnDataSource\"},\"glyph\":{\"id\":\"1470\",\"type\":\"Line\"},\"hover_glyph\":null,\"muted_glyph\":null,\"nonselection_glyph\":{\"id\":\"1471\",\"type\":\"Line\"},\"selection_glyph\":null,\"view\":{\"id\":\"1473\",\"type\":\"CDSView\"}},\"id\":\"1472\",\"type\":\"GlyphRenderer\"},{\"attributes\":{\"num_minor_ticks\":5,\"tickers\":[{\"id\":\"1427\",\"type\":\"AdaptiveTicker\"},{\"id\":\"1428\",\"type\":\"AdaptiveTicker\"},{\"id\":\"1429\",\"type\":\"AdaptiveTicker\"},{\"id\":\"1430\",\"type\":\"DaysTicker\"},{\"id\":\"1431\",\"type\":\"DaysTicker\"},{\"id\":\"1432\",\"type\":\"DaysTicker\"},{\"id\":\"1433\",\"type\":\"DaysTicker\"},{\"id\":\"1434\",\"type\":\"MonthsTicker\"},{\"id\":\"1435\",\"type\":\"MonthsTicker\"},{\"id\":\"1436\",\"type\":\"MonthsTicker\"},{\"id\":\"1437\",\"type\":\"MonthsTicker\"},{\"id\":\"1438\",\"type\":\"YearsTicker\"}]},\"id\":\"1394\",\"type\":\"DatetimeTicker\"},{\"attributes\":{\"callback\":null,\"data\":{\"x\":{\"__ndarray__\":\"AABgUAKFc0IAAEi/BYVzQgAAMC4JhXNCAAAYnQyFc0IAAAAMEIVzQgAA6HoThXNCAADQ6RaFc0IAALhYGoVzQgAAoMcdhXNCAACINiGFc0IAAHClJIVzQgAAWBQohXNCAABAgyuFc0IAACjyLoVzQgAAEGEyhXNCAAD4zzWFc0IAAOA+OYVzQgAAyK08hXNCAACwHECFc0IAAJiLQ4VzQgAAgPpGhXNCAABoaUqFc0IAAFDYTYVzQgAAOEdRhXNCAAAgtlSFc0IAAAglWIVzQgAA8JNbhXNCAADYAl+Fc0IAAMBxYoVzQgAAqOBlhXNCAACQT2mFc0IAAHi+bIVzQgAAYC1whXNCAABInHOFc0IAADALd4VzQgAAGHp6hXNCAAAA6X2Fc0IAAOhXgYVzQgAA0MaEhXNCAAC4NYiFc0IAAKCki4VzQgAAiBOPhXNCAABwgpKFc0IAAFjxlYVzQgAAQGCZhXNCAAAoz5yFc0IAABA+oIVzQgAA+KyjhXNC\",\"dtype\":\"float64\",\"shape\":[48]},\"y\":{\"__ndarray__\":\"ZmZmZmYGhEAzMzMzM1WBQM3MzMzMMHtAzczMzMxQckBmZmZmZp5mQGZmZmZm9ldAzczMzMy8WUAzMzMzM1tgQJqZmZmZwWNAzczMzMy8bUDNzMzMzJx0QAAAAAAAWHhAzczMzMwkfEAAAAAAAA6AQGZmZmZmRn9AzczMzMx6gEBmZmZmZkCAQJqZmZmZxYFAmpmZmZmjg0CamZmZmSmDQAAAAAAAiIJAMzMzMzNdgEBmZmZmZraCQDMzMzMzK4JAzczMzMwUfUAAAAAAADRxQAAAAAAAwGRAzczMzMxsWUBmZmZmZlZVQDMzMzMzM1ZAAAAAAAAobEBmZmZmZk54QAAAAAAAKoFAmpmZmZm7gkAAAAAAACqBQAAAAAAApoFAAAAAAACQg0CamZmZmdeDQGZmZmZmBoRAMzMzMzNXg0DNzMzMzFaBQJqZmZmZMYVAmpmZmZmbiEBmZmZmZkyIQDMzMzMzD4RAzczMzMyahEBmZmZmZn6EQM3MzMzM5oBA\",\"dtype\":\"float64\",\"shape\":[48]}},\"selected\":{\"id\":\"1619\",\"type\":\"Selection\"},\"selection_policy\":{\"id\":\"1618\",\"type\":\"UnionRenderers\"}},\"id\":\"1529\",\"type\":\"ColumnDataSource\"},{\"attributes\":{},\"id\":\"1391\",\"type\":\"LinearScale\"},{\"attributes\":{\"source\":{\"id\":\"1416\",\"type\":\"ColumnDataSource\"}},\"id\":\"1420\",\"type\":\"CDSView\"},{\"attributes\":{\"source\":{\"id\":\"1442\",\"type\":\"ColumnDataSource\"}},\"id\":\"1446\",\"type\":\"CDSView\"},{\"attributes\":{\"source\":{\"id\":\"1529\",\"type\":\"ColumnDataSource\"}},\"id\":\"1533\",\"type\":\"CDSView\"},{\"attributes\":{},\"id\":\"1399\",\"type\":\"BasicTicker\"},{\"attributes\":{\"line_alpha\":0.1,\"line_color\":\"#1f77b4\",\"line_width\":2,\"x\":{\"field\":\"x\"},\"y\":{\"field\":\"y\"}},\"id\":\"1531\",\"type\":\"Line\"},{\"attributes\":{\"days\":[1,2,3,4,5,6,7,8,9,10,11,12,13,14,15,16,17,18,19,20,21,22,23,24,25,26,27,28,29,30,31]},\"id\":\"1430\",\"type\":\"DaysTicker\"},{\"attributes\":{},\"id\":\"1465\",\"type\":\"UnionRenderers\"},{\"attributes\":{\"axis_label\":\"Predictions\",\"formatter\":{\"id\":\"1426\",\"type\":\"BasicTickFormatter\"},\"ticker\":{\"id\":\"1399\",\"type\":\"BasicTicker\"}},\"id\":\"1398\",\"type\":\"LinearAxis\"},{\"attributes\":{\"label\":{\"value\":\"Weather and holidays\"},\"renderers\":[{\"id\":\"1445\",\"type\":\"GlyphRenderer\"}]},\"id\":\"1468\",\"type\":\"LegendItem\"},{\"attributes\":{\"line_color\":\"#3288bd\",\"line_width\":2,\"x\":{\"field\":\"x\"},\"y\":{\"field\":\"y\"}},\"id\":\"1417\",\"type\":\"Line\"},{\"attributes\":{\"callback\":null,\"data\":{\"x\":{\"__ndarray__\":\"AABgUAKFc0IAAEi/BYVzQgAAMC4JhXNCAAAYnQyFc0IAAAAMEIVzQgAA6HoThXNCAADQ6RaFc0IAALhYGoVzQgAAoMcdhXNCAACINiGFc0IAAHClJIVzQgAAWBQohXNCAABAgyuFc0IAACjyLoVzQgAAEGEyhXNCAAD4zzWFc0IAAOA+OYVzQgAAyK08hXNCAACwHECFc0IAAJiLQ4VzQgAAgPpGhXNCAABoaUqFc0IAAFDYTYVzQgAAOEdRhXNCAAAgtlSFc0IAAAglWIVzQgAA8JNbhXNCAADYAl+Fc0IAAMBxYoVzQgAAqOBlhXNCAACQT2mFc0IAAHi+bIVzQgAAYC1whXNCAABInHOFc0IAADALd4VzQgAAGHp6hXNCAAAA6X2Fc0IAAOhXgYVzQgAA0MaEhXNCAAC4NYiFc0IAAKCki4VzQgAAiBOPhXNCAABwgpKFc0IAAFjxlYVzQgAAQGCZhXNCAAAoz5yFc0IAABA+oIVzQgAA+KyjhXNC\",\"dtype\":\"float64\",\"shape\":[48]},\"y\":{\"__ndarray__\":\"DtWEH1BAgEDEIw2TdRZ5QDMzMzMzVYFAzczMzMwwe0CxmoV93SRlQEEFBoXQGWJA3rfPniA3Z0ByWRBgMU1wQDMzMzMzW2BAmpmZmZnBY0DNzMzMzLxtQM3MzMzMnHRAAAAAAABYeEDNzMzMzCR8QM5/0C/0l4BAZmZmZmZGf0DNzMzMzHqAQGZmZmZmQIBAmpmZmZnFgUCamZmZmaODQJqZmZmZKYNAAAAAAACIgkAzMzMzM12AQGZmZmZmtoJAMzMzMzMrgkDUK/F0SBR2QCUfepIIbmpA+lIGpHZGYEAutX1NOahYQOUpL5BQiVlAGJfIUVgHbEBux28nuK14QPgHwS8xwn9A4vQn2ovmgUDI+yrUmrSAQN9Mye7hpIBAGav8rvhzgkAWqt6/iXqDQKKMD2yzIIRAvk/7LOtig0D/1NBKXGaBQMvdzYH52YNATYR49aP/iEBl9U1PVK2JQBrsFgQTQYdAs0ej5eyPhEAomoRu7S+FQBJtUUV4VYNA\",\"dtype\":\"float64\",\"shape\":[48]}},\"selected\":{\"id\":\"1559\",\"type\":\"Selection\"},\"selection_policy\":{\"id\":\"1558\",\"type\":\"UnionRenderers\"}},\"id\":\"1498\",\"type\":\"ColumnDataSource\"},{\"attributes\":{\"days\":[1,4,7,10,13,16,19,22,25,28]},\"id\":\"1431\",\"type\":\"DaysTicker\"},{\"attributes\":{\"callback\":null,\"data\":{\"x\":{\"__ndarray__\":\"AABgUAKFc0IAAEi/BYVzQgAAMC4JhXNCAAAYnQyFc0IAAAAMEIVzQgAA6HoThXNCAADQ6RaFc0IAALhYGoVzQgAAoMcdhXNCAACINiGFc0IAAHClJIVzQgAAWBQohXNCAABAgyuFc0IAACjyLoVzQgAAEGEyhXNCAAD4zzWFc0IAAOA+OYVzQgAAyK08hXNCAACwHECFc0IAAJiLQ4VzQgAAgPpGhXNCAABoaUqFc0IAAFDYTYVzQgAAOEdRhXNCAAAgtlSFc0IAAAglWIVzQgAA8JNbhXNCAADYAl+Fc0IAAMBxYoVzQgAAqOBlhXNCAACQT2mFc0IAAHi+bIVzQgAAYC1whXNCAABInHOFc0IAADALd4VzQgAAGHp6hXNCAAAA6X2Fc0IAAOhXgYVzQgAA0MaEhXNCAAC4NYiFc0IAAKCki4VzQgAAiBOPhXNCAABwgpKFc0IAAFjxlYVzQgAAQGCZhXNCAAAoz5yFc0IAABA+oIVzQgAA+KyjhXNC\",\"dtype\":\"float64\",\"shape\":[48]},\"y\":{\"__ndarray__\":\"Ix5mabaTfUBlw+WzMud3QAjk3Xz5CnRACk2KhDj3bUA/DfX7/MJkQPn/EsqeTWBApMFASvTqaEDgMLPrSTRvQFB6t6cGXW5ANOCVPHEAcUDOM9WxHdl1QK2HTWkYy3lAQNJWgWxyfECqpjlXC6J/QBabs8+ZJIFAK+yNa4wGgEAWoMTVakh/QEfyGpQBe4FADjKgSvjbhECu269XPkOFQKD8XSjZ9oJA+LrNR25WgkCva8Q4q3WAQP2cCYZXMIFAVnHlEIQdfUC7PL1yysd2QBj0e/FLDWpA+wWeNxrXXkBbL5iUsHpWQF1OpFjbBFlANv26echSaUDzDdUqQ7p3QGT/EWz+HYBAMzLC3DOUgkCukCu9u6mBQE77OjwsoIFAVoPmjzhLg0D+zhXgmwKEQOjXTvZcIYRAbMIgvnM2g0BmWHwOD0SBQPRvTcFSnINA8mR+Jq6wiECdgLDd8EuJQJY/RW03FIdAjYbkFFtohECzQTSkYV2EQA7DJJ973YJA\",\"dtype\":\"float64\",\"shape\":[48]}},\"selected\":{\"id\":\"1466\",\"type\":\"Selection\"},\"selection_policy\":{\"id\":\"1465\",\"type\":\"UnionRenderers\"}},\"id\":\"1416\",\"type\":\"ColumnDataSource\"},{\"attributes\":{\"line_alpha\":0.1,\"line_color\":\"#1f77b4\",\"line_width\":2,\"x\":{\"field\":\"x\"},\"y\":{\"field\":\"y\"}},\"id\":\"1444\",\"type\":\"Line\"},{\"attributes\":{\"days\":[1,8,15,22]},\"id\":\"1432\",\"type\":\"DaysTicker\"},{\"attributes\":{\"line_alpha\":0.1,\"line_color\":\"#1f77b4\",\"line_width\":2,\"x\":{\"field\":\"x\"},\"y\":{\"field\":\"y\"}},\"id\":\"1418\",\"type\":\"Line\"},{\"attributes\":{\"callback\":null,\"data\":{\"x\":{\"__ndarray__\":\"AABgUAKFc0IAAEi/BYVzQgAAMC4JhXNCAAAYnQyFc0IAAAAMEIVzQgAA6HoThXNCAADQ6RaFc0IAALhYGoVzQgAAoMcdhXNCAACINiGFc0IAAHClJIVzQgAAWBQohXNCAABAgyuFc0IAACjyLoVzQgAAEGEyhXNCAAD4zzWFc0IAAOA+OYVzQgAAyK08hXNCAACwHECFc0IAAJiLQ4VzQgAAgPpGhXNCAABoaUqFc0IAAFDYTYVzQgAAOEdRhXNCAAAgtlSFc0IAAAglWIVzQgAA8JNbhXNCAADYAl+Fc0IAAMBxYoVzQgAAqOBlhXNCAACQT2mFc0IAAHi+bIVzQgAAYC1whXNCAABInHOFc0IAADALd4VzQgAAGHp6hXNCAAAA6X2Fc0IAAOhXgYVzQgAA0MaEhXNCAAC4NYiFc0IAAKCki4VzQgAAiBOPhXNCAABwgpKFc0IAAFjxlYVzQgAAQGCZhXNCAAAoz5yFc0IAABA+oIVzQgAA+KyjhXNC\",\"dtype\":\"float64\",\"shape\":[48]},\"y\":{\"__ndarray__\":\"DtWEH1BAgEDEIw2TdRZ5QKqjuGWsCnRA0zhiM5p9bkCxmoV93SRlQEEFBoXQGWJA3rfPniA3Z0ByWRBgMU1wQG5kbq6Ng3NAMWAFLNFPdECiYduGLcl1QFANs4M1MHlAcFTIsmPEfEDWsRFjHDN/QM5/0C/0l4BAzkdOsnUSgEC3JYU0CYSAQDAc8IaUgIJA7VhAQ0Q8hUA7KKnGOwSGQJHbiHnOKoVAkjoKPImKhEDmM7nNRLqCQFLCg52l9oJA/bw+sAR6fUDUK/F0SBR2QCUfepIIbmpA+lIGpHZGYEAutX1NOahYQOUpL5BQiVlAGJfIUVgHbEBux28nuK14QPgHwS8xwn9A4vQn2ovmgUDI+yrUmrSAQN9Mye7hpIBAGav8rvhzgkAWqt6/iXqDQKKMD2yzIIRAvk/7LOtig0D/1NBKXGaBQMvdzYH52YNATYR49aP/iEBl9U1PVK2JQBrsFgQTQYdAs0ej5eyPhEAomoRu7S+FQBJtUUV4VYNA\",\"dtype\":\"float64\",\"shape\":[48]}},\"selected\":{\"id\":\"1495\",\"type\":\"Selection\"},\"selection_policy\":{\"id\":\"1494\",\"type\":\"UnionRenderers\"}},\"id\":\"1442\",\"type\":\"ColumnDataSource\"},{\"attributes\":{\"months\":[0,2,4,6,8,10]},\"id\":\"1435\",\"type\":\"MonthsTicker\"},{\"attributes\":{},\"id\":\"1466\",\"type\":\"Selection\"},{\"attributes\":{\"days\":[1,15]},\"id\":\"1433\",\"type\":\"DaysTicker\"},{\"attributes\":{\"months\":[0,6]},\"id\":\"1437\",\"type\":\"MonthsTicker\"},{\"attributes\":{\"formatter\":{\"id\":\"1424\",\"type\":\"DatetimeTickFormatter\"},\"ticker\":{\"id\":\"1394\",\"type\":\"DatetimeTicker\"}},\"id\":\"1393\",\"type\":\"DatetimeAxis\"},{\"attributes\":{\"line_color\":\"#66c2a5\",\"line_width\":2,\"x\":{\"field\":\"x\"},\"y\":{\"field\":\"y\"}},\"id\":\"1443\",\"type\":\"Line\"},{\"attributes\":{},\"id\":\"1558\",\"type\":\"UnionRenderers\"},{\"attributes\":{\"callback\":null},\"id\":\"1387\",\"type\":\"DataRange1d\"},{\"attributes\":{\"label\":{\"value\":\"EIA weather and holidays\"},\"renderers\":[{\"id\":\"1501\",\"type\":\"GlyphRenderer\"}]},\"id\":\"1528\",\"type\":\"LegendItem\"},{\"attributes\":{\"callback\":null,\"data\":{\"x\":{\"__ndarray__\":\"AABgUAKFc0IAAEi/BYVzQgAAMC4JhXNCAAAYnQyFc0IAAAAMEIVzQgAA6HoThXNCAADQ6RaFc0IAALhYGoVzQgAAoMcdhXNCAACINiGFc0IAAHClJIVzQgAAWBQohXNCAABAgyuFc0IAACjyLoVzQgAAEGEyhXNCAAD4zzWFc0IAAOA+OYVzQgAAyK08hXNCAACwHECFc0IAAJiLQ4VzQgAAgPpGhXNCAABoaUqFc0IAAFDYTYVzQgAAOEdRhXNCAAAgtlSFc0IAAAglWIVzQgAA8JNbhXNCAADYAl+Fc0IAAMBxYoVzQgAAqOBlhXNCAACQT2mFc0IAAHi+bIVzQgAAYC1whXNCAABInHOFc0IAADALd4VzQgAAGHp6hXNCAAAA6X2Fc0IAAOhXgYVzQgAA0MaEhXNCAAC4NYiFc0IAAKCki4VzQgAAiBOPhXNCAABwgpKFc0IAAFjxlYVzQgAAQGCZhXNCAAAoz5yFc0IAABA+oIVzQgAA+KyjhXNC\",\"dtype\":\"float64\",\"shape\":[48]},\"y\":{\"__ndarray__\":\"Ix5mabaTfUBmZmZmZgaEQDMzMzMzVYFAzczMzMwwe0A/DfX7/MJkQPn/EsqeTWBApMFASvTqaEDgMLPrSTRvQDMzMzMzW2BAmpmZmZnBY0DNzMzMzLxtQK2HTWkYy3lAQNJWgWxyfECqpjlXC6J/QBabs8+ZJIFAK+yNa4wGgEAWoMTVakh/QEfyGpQBe4FADjKgSvjbhECu269XPkOFQKD8XSjZ9oJA+LrNR25WgkCva8Q4q3WAQP2cCYZXMIFAVnHlEIQdfUC7PL1yysd2QBj0e/FLDWpA+wWeNxrXXkBbL5iUsHpWQF1OpFjbBFlANv26echSaUDzDdUqQ7p3QGT/EWz+HYBAMzLC3DOUgkCukCu9u6mBQE77OjwsoIFAVoPmjzhLg0D+zhXgmwKEQOjXTvZcIYRAbMIgvnM2g0BmWHwOD0SBQPRvTcFSnINA8mR+Jq6wiECdgLDd8EuJQJY/RW03FIdAjYbkFFtohECzQTSkYV2EQA7DJJ973YJA\",\"dtype\":\"float64\",\"shape\":[48]}},\"selected\":{\"id\":\"1526\",\"type\":\"Selection\"},\"selection_policy\":{\"id\":\"1525\",\"type\":\"UnionRenderers\"}},\"id\":\"1469\",\"type\":\"ColumnDataSource\"},{\"attributes\":{\"months\":[0,1,2,3,4,5,6,7,8,9,10,11]},\"id\":\"1434\",\"type\":\"MonthsTicker\"},{\"attributes\":{\"label\":{\"value\":\"Real demand\"},\"renderers\":[{\"id\":\"1532\",\"type\":\"GlyphRenderer\"}]},\"id\":\"1561\",\"type\":\"LegendItem\"},{\"attributes\":{\"line_color\":\"#fdae61\",\"line_width\":2,\"x\":{\"field\":\"x\"},\"y\":{\"field\":\"y\"}},\"id\":\"1499\",\"type\":\"Line\"},{\"attributes\":{},\"id\":\"1389\",\"type\":\"LinearScale\"},{\"attributes\":{\"line_color\":\"#e6f598\",\"line_width\":2,\"x\":{\"field\":\"x\"},\"y\":{\"field\":\"y\"}},\"id\":\"1470\",\"type\":\"Line\"},{\"attributes\":{\"overlay\":{\"id\":\"1439\",\"type\":\"BoxAnnotation\"}},\"id\":\"1405\",\"type\":\"BoxZoomTool\"},{\"attributes\":{},\"id\":\"1618\",\"type\":\"UnionRenderers\"},{\"attributes\":{},\"id\":\"1559\",\"type\":\"Selection\"},{\"attributes\":{},\"id\":\"1406\",\"type\":\"SaveTool\"},{\"attributes\":{},\"id\":\"1408\",\"type\":\"HelpTool\"},{\"attributes\":{\"months\":[0,4,8]},\"id\":\"1436\",\"type\":\"MonthsTicker\"},{\"attributes\":{},\"id\":\"1525\",\"type\":\"UnionRenderers\"},{\"attributes\":{\"callback\":null},\"id\":\"1385\",\"type\":\"DataRange1d\"},{\"attributes\":{\"line_alpha\":0.1,\"line_color\":\"#1f77b4\",\"line_width\":2,\"x\":{\"field\":\"x\"},\"y\":{\"field\":\"y\"}},\"id\":\"1500\",\"type\":\"Line\"},{\"attributes\":{},\"id\":\"1438\",\"type\":\"YearsTicker\"},{\"attributes\":{\"text\":\"4th of July\"},\"id\":\"1421\",\"type\":\"Title\"},{\"attributes\":{\"label\":{\"value\":\"No external variables\"},\"renderers\":[{\"id\":\"1419\",\"type\":\"GlyphRenderer\"}]},\"id\":\"1441\",\"type\":\"LegendItem\"},{\"attributes\":{},\"id\":\"1407\",\"type\":\"ResetTool\"},{\"attributes\":{\"line_color\":\"#d53e4f\",\"line_width\":2,\"x\":{\"field\":\"x\"},\"y\":{\"field\":\"y\"}},\"id\":\"1530\",\"type\":\"Line\"},{\"attributes\":{\"source\":{\"id\":\"1498\",\"type\":\"ColumnDataSource\"}},\"id\":\"1502\",\"type\":\"CDSView\"}],\"root_ids\":[\"1384\"]},\"title\":\"Bokeh Application\",\"version\":\"1.4.0\"}};\n",
       "  var render_items = [{\"docid\":\"afa76e49-84dc-4068-a477-f45fb4818faa\",\"roots\":{\"1384\":\"19b1d62b-fdec-4730-8a7b-323f95505028\"}}];\n",
       "  root.Bokeh.embed.embed_items_notebook(docs_json, render_items);\n",
       "\n",
       "  }\n",
       "  if (root.Bokeh !== undefined) {\n",
       "    embed_document(root);\n",
       "  } else {\n",
       "    var attempts = 0;\n",
       "    var timer = setInterval(function(root) {\n",
       "      if (root.Bokeh !== undefined) {\n",
       "        clearInterval(timer);\n",
       "        embed_document(root);\n",
       "      } else {\n",
       "        attempts++;\n",
       "        if (attempts > 100) {\n",
       "          clearInterval(timer);\n",
       "          console.log(\"Bokeh: ERROR: Unable to run BokehJS code because BokehJS library is missing\");\n",
       "        }\n",
       "      }\n",
       "    }, 10, root)\n",
       "  }\n",
       "})(window);"
      ],
      "application/vnd.bokehjs_exec.v0+json": ""
     },
     "metadata": {
      "application/vnd.bokehjs_exec.v0+json": {
       "id": "1384"
      }
     },
     "output_type": "display_data"
    }
   ],
   "source": [
    "s = slice('2012-07-04', '2012-07-05')\n",
    "\n",
    "p = figure(plot_width=800, plot_height=400, x_axis_type='datetime')\n",
    "p.line(x = pred_ne[s].index, y=pred_ne[s], line_width=2, legend_label='No external variables', color = Spectral8[0])\n",
    "p.line(x = pred_w_h[s].index, y=pred_w_h[s], line_width=2, legend_label='Weather and holidays', color = Spectral8[1])\n",
    "p.line(x = eia_ne[s].index, y=eia_ne[s], line_width=2, legend_label='EIA no external variables', color = Spectral8[3])\n",
    "p.line(x = eia_w_h[s].index, y=eia_w_h[s], line_width=2, legend_label='EIA weather and holidays', color = Spectral8[5])\n",
    "p.line(x = real[s].index, y=real[s], line_width=2, legend_label='Real demand', color = Spectral8[7])\n",
    "\n",
    "p.yaxis.axis_label = 'Predictions'\n",
    "p.title.text = '4th of July'\n",
    "p.legend.location = 'bottom_left'\n",
    "p.legend.click_policy=\"hide\"\n",
    "\n",
    "show(p)"
   ]
  },
  {
   "cell_type": "code",
   "execution_count": 30,
   "metadata": {
    "ExecuteTime": {
     "end_time": "2020-02-21T10:13:05.417551Z",
     "start_time": "2020-02-21T10:13:05.216966Z"
    }
   },
   "outputs": [
    {
     "data": {
      "text/html": [
       "\n",
       "\n",
       "\n",
       "\n",
       "\n",
       "\n",
       "  <div class=\"bk-root\" id=\"378005f6-ebb2-4d25-a82d-27271020ffcf\" data-root-id=\"5484\"></div>\n"
      ]
     },
     "metadata": {},
     "output_type": "display_data"
    },
    {
     "data": {
      "application/javascript": [
       "(function(root) {\n",
       "  function embed_document(root) {\n",
       "    \n",
       "  var docs_json = {\"573ecdd3-6213-49d5-8bf2-83ad2609a570\":{\"roots\":{\"references\":[{\"attributes\":{\"below\":[{\"id\":\"5493\",\"type\":\"DatetimeAxis\"}],\"center\":[{\"id\":\"5497\",\"type\":\"Grid\"},{\"id\":\"5502\",\"type\":\"Grid\"},{\"id\":\"5540\",\"type\":\"Legend\"}],\"left\":[{\"id\":\"5498\",\"type\":\"LinearAxis\"}],\"plot_height\":400,\"plot_width\":800,\"renderers\":[{\"id\":\"5519\",\"type\":\"GlyphRenderer\"},{\"id\":\"5545\",\"type\":\"GlyphRenderer\"},{\"id\":\"5572\",\"type\":\"GlyphRenderer\"},{\"id\":\"5601\",\"type\":\"GlyphRenderer\"},{\"id\":\"5632\",\"type\":\"GlyphRenderer\"}],\"title\":{\"id\":\"5521\",\"type\":\"Title\"},\"toolbar\":{\"id\":\"5509\",\"type\":\"Toolbar\"},\"x_range\":{\"id\":\"5485\",\"type\":\"DataRange1d\"},\"x_scale\":{\"id\":\"5489\",\"type\":\"LinearScale\"},\"y_range\":{\"id\":\"5487\",\"type\":\"DataRange1d\"},\"y_scale\":{\"id\":\"5491\",\"type\":\"LinearScale\"}},\"id\":\"5484\",\"subtype\":\"Figure\",\"type\":\"Plot\"},{\"attributes\":{\"num_minor_ticks\":5,\"tickers\":[{\"id\":\"5527\",\"type\":\"AdaptiveTicker\"},{\"id\":\"5528\",\"type\":\"AdaptiveTicker\"},{\"id\":\"5529\",\"type\":\"AdaptiveTicker\"},{\"id\":\"5530\",\"type\":\"DaysTicker\"},{\"id\":\"5531\",\"type\":\"DaysTicker\"},{\"id\":\"5532\",\"type\":\"DaysTicker\"},{\"id\":\"5533\",\"type\":\"DaysTicker\"},{\"id\":\"5534\",\"type\":\"MonthsTicker\"},{\"id\":\"5535\",\"type\":\"MonthsTicker\"},{\"id\":\"5536\",\"type\":\"MonthsTicker\"},{\"id\":\"5537\",\"type\":\"MonthsTicker\"},{\"id\":\"5538\",\"type\":\"YearsTicker\"}]},\"id\":\"5494\",\"type\":\"DatetimeTicker\"},{\"attributes\":{\"days\":[1,8,15,22]},\"id\":\"5532\",\"type\":\"DaysTicker\"},{\"attributes\":{\"source\":{\"id\":\"5629\",\"type\":\"ColumnDataSource\"}},\"id\":\"5633\",\"type\":\"CDSView\"},{\"attributes\":{\"dimension\":1,\"ticker\":{\"id\":\"5499\",\"type\":\"BasicTicker\"}},\"id\":\"5502\",\"type\":\"Grid\"},{\"attributes\":{\"line_color\":\"#3288bd\",\"line_width\":2,\"x\":{\"field\":\"x\"},\"y\":{\"field\":\"y\"}},\"id\":\"5517\",\"type\":\"Line\"},{\"attributes\":{\"base\":60,\"mantissas\":[1,2,5,10,15,20,30],\"max_interval\":1800000.0,\"min_interval\":1000.0,\"num_minor_ticks\":0},\"id\":\"5528\",\"type\":\"AdaptiveTicker\"},{\"attributes\":{\"days\":[1,15]},\"id\":\"5533\",\"type\":\"DaysTicker\"},{\"attributes\":{\"line_alpha\":0.1,\"line_color\":\"#1f77b4\",\"line_width\":2,\"x\":{\"field\":\"x\"},\"y\":{\"field\":\"y\"}},\"id\":\"5544\",\"type\":\"Line\"},{\"attributes\":{\"line_color\":\"#d53e4f\",\"line_width\":2,\"x\":{\"field\":\"x\"},\"y\":{\"field\":\"y\"}},\"id\":\"5630\",\"type\":\"Line\"},{\"attributes\":{\"months\":[0,1,2,3,4,5,6,7,8,9,10,11]},\"id\":\"5534\",\"type\":\"MonthsTicker\"},{\"attributes\":{},\"id\":\"5659\",\"type\":\"UnionRenderers\"},{\"attributes\":{},\"id\":\"5499\",\"type\":\"BasicTicker\"},{\"attributes\":{\"callback\":null,\"data\":{\"x\":{\"__ndarray__\":\"AAAgY336c0IAAAjSgPpzQgAA8ECE+nNCAADYr4f6c0IAAMAei/pzQgAAqI2O+nNCAACQ/JH6c0IAAHhrlfpzQgAAYNqY+nNCAABISZz6c0IAADC4n/pzQgAAGCej+nNCAAAAlqb6c0IAAOgEqvpzQgAA0HOt+nNCAAC44rD6c0IAAKBRtPpzQgAAiMC3+nNCAABwL7v6c0IAAFievvpzQgAAQA3C+nNCAAAofMX6c0IAABDryPpzQgAA+FnM+nNCAADgyM/6c0IAAMg30/pzQgAAsKbW+nNCAACYFdr6c0IAAICE3fpzQgAAaPPg+nNCAABQYuT6c0IAADjR5/pzQgAAIEDr+nNCAAAIr+76c0IAAPAd8vpzQgAA2Iz1+nNCAADA+/j6c0IAAKhq/PpzQgAAkNn/+nNCAAB4SAP7c0IAAGC3BvtzQgAASCYK+3NCAAAwlQ37c0IAABgEEftzQgAAAHMU+3NCAADo4Rf7c0IAANBQG/tzQgAAuL8e+3NC\",\"dtype\":\"float64\",\"shape\":[48]},\"y\":{\"__ndarray__\":\"krSpkRMggUCiZVKel1d5QAC1CZNneHFAgyrTULcyaUBdLNUvZkReQLtwui5PZVJAZSKH0/1sV0BAw7YrjXhhQKIrKD5nUGZA4Ltlxni8bUCOaVT7hVNzQEb5fj+MeHdAMqThPNlMekDIAlqnUNx6QK5hUCsIknpAFspknqFlekAaoRe8Ebt5QJqZmZmZyXtAzczMzMzwfUDNzMzMzKR+QAAAAAAAmH1AmpmZmZmVfUDNzMzMzMx5QI+BawoV/YBAAAAAAAAGgUCtzjSvU1p2QKrg9gDn9GtAqkGRv9K9YkBAGGNHEPNbQJHIAnb9HVlAcuVHySqVYkAw5DNePqpwQKEOh54Yg3RAgtY9IpJPdkADlUzzwMR3QPQW2MELgXlACg7yZNiKfEDCiTWsjTx/QPxOGB7KB4BAoAOJsikzgECQZFEHghd/QAvBR6B5qYFAVRnWWBr9hEBmZmZmZnSCQJqZmZmZyYJAMzMzMzPvfkDhbtxM//6AQB1gDxN/F4FA\",\"dtype\":\"float64\",\"shape\":[48]}},\"selected\":{\"id\":\"5660\",\"type\":\"Selection\"},\"selection_policy\":{\"id\":\"5659\",\"type\":\"UnionRenderers\"}},\"id\":\"5598\",\"type\":\"ColumnDataSource\"},{\"attributes\":{\"axis_label\":\"Predictions\",\"formatter\":{\"id\":\"5525\",\"type\":\"BasicTickFormatter\"},\"ticker\":{\"id\":\"5499\",\"type\":\"BasicTicker\"}},\"id\":\"5498\",\"type\":\"LinearAxis\"},{\"attributes\":{\"source\":{\"id\":\"5516\",\"type\":\"ColumnDataSource\"}},\"id\":\"5520\",\"type\":\"CDSView\"},{\"attributes\":{\"months\":[0,2,4,6,8,10]},\"id\":\"5535\",\"type\":\"MonthsTicker\"},{\"attributes\":{\"label\":{\"value\":\"Real demand\"},\"renderers\":[{\"id\":\"5632\",\"type\":\"GlyphRenderer\"}]},\"id\":\"5661\",\"type\":\"LegendItem\"},{\"attributes\":{},\"id\":\"5567\",\"type\":\"Selection\"},{\"attributes\":{\"click_policy\":\"hide\",\"items\":[{\"id\":\"5541\",\"type\":\"LegendItem\"},{\"id\":\"5568\",\"type\":\"LegendItem\"},{\"id\":\"5597\",\"type\":\"LegendItem\"},{\"id\":\"5628\",\"type\":\"LegendItem\"},{\"id\":\"5661\",\"type\":\"LegendItem\"}],\"location\":\"bottom_left\"},\"id\":\"5540\",\"type\":\"Legend\"},{\"attributes\":{\"months\":[0,4,8]},\"id\":\"5536\",\"type\":\"MonthsTicker\"},{\"attributes\":{},\"id\":\"5660\",\"type\":\"Selection\"},{\"attributes\":{\"months\":[0,6]},\"id\":\"5537\",\"type\":\"MonthsTicker\"},{\"attributes\":{},\"id\":\"5626\",\"type\":\"UnionRenderers\"},{\"attributes\":{\"data_source\":{\"id\":\"5569\",\"type\":\"ColumnDataSource\"},\"glyph\":{\"id\":\"5570\",\"type\":\"Line\"},\"hover_glyph\":null,\"muted_glyph\":null,\"nonselection_glyph\":{\"id\":\"5571\",\"type\":\"Line\"},\"selection_glyph\":null,\"view\":{\"id\":\"5573\",\"type\":\"CDSView\"}},\"id\":\"5572\",\"type\":\"GlyphRenderer\"},{\"attributes\":{\"callback\":null,\"data\":{\"x\":{\"__ndarray__\":\"AAAgY336c0IAAAjSgPpzQgAA8ECE+nNCAADYr4f6c0IAAMAei/pzQgAAqI2O+nNCAACQ/JH6c0IAAHhrlfpzQgAAYNqY+nNCAABISZz6c0IAADC4n/pzQgAAGCej+nNCAAAAlqb6c0IAAOgEqvpzQgAA0HOt+nNCAAC44rD6c0IAAKBRtPpzQgAAiMC3+nNCAABwL7v6c0IAAFievvpzQgAAQA3C+nNCAAAofMX6c0IAABDryPpzQgAA+FnM+nNCAADgyM/6c0IAAMg30/pzQgAAsKbW+nNCAACYFdr6c0IAAICE3fpzQgAAaPPg+nNCAABQYuT6c0IAADjR5/pzQgAAIEDr+nNCAAAIr+76c0IAAPAd8vpzQgAA2Iz1+nNCAADA+/j6c0IAAKhq/PpzQgAAkNn/+nNCAAB4SAP7c0IAAGC3BvtzQgAASCYK+3NCAAAwlQ37c0IAABgEEftzQgAAAHMU+3NCAADo4Rf7c0IAANBQG/tzQgAAuL8e+3NC\",\"dtype\":\"float64\",\"shape\":[48]},\"y\":{\"__ndarray__\":\"clnroSune0AFUuXdladzQCYP77oBCXBAcpGUjurRZ0AGDdI0IythQICnV+BYyV5A3fjNqOnia0BihLgiWvJtQGIUuV3sImxANQtUF5kmcECafFQKtVt1QHCtVxcd+HZAO72JMioCeUDyyjp++WJ6QMBE7/2FAXtAM7V0fhvIeUAVr1IJK854QAPWpeBzAX1A0LFpl825gUBSlXXAqy2BQEWIM4vObX9AIJuSZ2Waf0CTKb8d/I96QEKxlx9xzn5AalGcMFRBfUBYDICweYJ3QMhmpl63hG5Au8/uIJU7Y0DjEtZo+mNaQNarNVXAF1lAiDOcn02HYUBKbClroRNuQFyRGP8DKXRAW9bwXtmedkAHtAPrjpB4QMKNEE/7HXpA21rLRQm5fEBFvsAxvc1+QID/TaZ40H9AvQ8uSYu8f0Al7DSg3s1+QJDAYnFEloFA4UbkFs47hEBmy229fv+DQP26DTISXoJA0Hg6+Gb+f0AuBmizp6yAQGZE7MEb2oBA\",\"dtype\":\"float64\",\"shape\":[48]}},\"selected\":{\"id\":\"5567\",\"type\":\"Selection\"},\"selection_policy\":{\"id\":\"5566\",\"type\":\"UnionRenderers\"}},\"id\":\"5516\",\"type\":\"ColumnDataSource\"},{\"attributes\":{\"line_alpha\":0.1,\"line_color\":\"#1f77b4\",\"line_width\":2,\"x\":{\"field\":\"x\"},\"y\":{\"field\":\"y\"}},\"id\":\"5600\",\"type\":\"Line\"},{\"attributes\":{\"base\":24,\"mantissas\":[1,2,4,6,8,12],\"max_interval\":43200000.0,\"min_interval\":3600000.0,\"num_minor_ticks\":0},\"id\":\"5529\",\"type\":\"AdaptiveTicker\"},{\"attributes\":{\"formatter\":{\"id\":\"5523\",\"type\":\"DatetimeTickFormatter\"},\"ticker\":{\"id\":\"5494\",\"type\":\"DatetimeTicker\"}},\"id\":\"5493\",\"type\":\"DatetimeAxis\"},{\"attributes\":{\"label\":{\"value\":\"EIA weather and holidays\"},\"renderers\":[{\"id\":\"5601\",\"type\":\"GlyphRenderer\"}]},\"id\":\"5628\",\"type\":\"LegendItem\"},{\"attributes\":{},\"id\":\"5525\",\"type\":\"BasicTickFormatter\"},{\"attributes\":{},\"id\":\"5538\",\"type\":\"YearsTicker\"},{\"attributes\":{},\"id\":\"5489\",\"type\":\"LinearScale\"},{\"attributes\":{\"active_drag\":\"auto\",\"active_inspect\":\"auto\",\"active_multi\":null,\"active_scroll\":\"auto\",\"active_tap\":\"auto\",\"tools\":[{\"id\":\"5503\",\"type\":\"PanTool\"},{\"id\":\"5504\",\"type\":\"WheelZoomTool\"},{\"id\":\"5505\",\"type\":\"BoxZoomTool\"},{\"id\":\"5506\",\"type\":\"SaveTool\"},{\"id\":\"5507\",\"type\":\"ResetTool\"},{\"id\":\"5508\",\"type\":\"HelpTool\"}]},\"id\":\"5509\",\"type\":\"Toolbar\"},{\"attributes\":{\"source\":{\"id\":\"5542\",\"type\":\"ColumnDataSource\"}},\"id\":\"5546\",\"type\":\"CDSView\"},{\"attributes\":{},\"id\":\"5951\",\"type\":\"UnionRenderers\"},{\"attributes\":{},\"id\":\"5491\",\"type\":\"LinearScale\"},{\"attributes\":{\"callback\":null,\"data\":{\"x\":{\"__ndarray__\":\"AAAgY336c0IAAAjSgPpzQgAA8ECE+nNCAADYr4f6c0IAAMAei/pzQgAAqI2O+nNCAACQ/JH6c0IAAHhrlfpzQgAAYNqY+nNCAABISZz6c0IAADC4n/pzQgAAGCej+nNCAAAAlqb6c0IAAOgEqvpzQgAA0HOt+nNCAAC44rD6c0IAAKBRtPpzQgAAiMC3+nNCAABwL7v6c0IAAFievvpzQgAAQA3C+nNCAAAofMX6c0IAABDryPpzQgAA+FnM+nNCAADgyM/6c0IAAMg30/pzQgAAsKbW+nNCAACYFdr6c0IAAICE3fpzQgAAaPPg+nNCAABQYuT6c0IAADjR5/pzQgAAIEDr+nNCAAAIr+76c0IAAPAd8vpzQgAA2Iz1+nNCAADA+/j6c0IAAKhq/PpzQgAAkNn/+nNCAAB4SAP7c0IAAGC3BvtzQgAASCYK+3NCAAAwlQ37c0IAABgEEftzQgAAAHMU+3NCAADo4Rf7c0IAANBQG/tzQgAAuL8e+3NC\",\"dtype\":\"float64\",\"shape\":[48]},\"y\":{\"__ndarray__\":\"clnroSune0AFUuXdladzQCYP77oBCXBAcpGUjurRZ0AGDdI0IythQICnV+BYyV5A3fjNqOnia0BihLgiWvJtQDMzMzMzG2JAZmZmZmbOZUAzMzMzMxtwQJqZmZmZUXNAO72JMioCeUDyyjp++WJ6QMBE7/2FAXtAM7V0fhvIeUAAAAAAACB7QJqZmZmZyXtAzczMzMzwfUDNzMzMzKR+QAAAAAAAmH1AmpmZmZmVfUDNzMzMzMx5QJqZmZmZLYFAAAAAAAAGgUBYDICweYJ3QMhmpl63hG5Au8/uIJU7Y0DjEtZo+mNaQNarNVXAF1lAiDOcn02HYUBKbClroRNuQFyRGP8DKXRAW9bwXtmedkAHtAPrjpB4QMKNEE/7HXpA21rLRQm5fEBFvsAxvc1+QID/TaZ40H9AvQ8uSYu8f0Al7DSg3s1+QGZmZmZmmIBA4UbkFs47hEBmZmZmZnSCQJqZmZmZyYJA0Hg6+Gb+f0AuBmizp6yAQGZE7MEb2oBA\",\"dtype\":\"float64\",\"shape\":[48]}},\"selected\":{\"id\":\"5627\",\"type\":\"Selection\"},\"selection_policy\":{\"id\":\"5626\",\"type\":\"UnionRenderers\"}},\"id\":\"5569\",\"type\":\"ColumnDataSource\"},{\"attributes\":{\"line_alpha\":0.1,\"line_color\":\"#1f77b4\",\"line_width\":2,\"x\":{\"field\":\"x\"},\"y\":{\"field\":\"y\"}},\"id\":\"5631\",\"type\":\"Line\"},{\"attributes\":{\"bottom_units\":\"screen\",\"fill_alpha\":{\"value\":0.5},\"fill_color\":{\"value\":\"lightgrey\"},\"left_units\":\"screen\",\"level\":\"overlay\",\"line_alpha\":{\"value\":1.0},\"line_color\":{\"value\":\"black\"},\"line_dash\":[4,4],\"line_width\":{\"value\":2},\"render_mode\":\"css\",\"right_units\":\"screen\",\"top_units\":\"screen\"},\"id\":\"5539\",\"type\":\"BoxAnnotation\"},{\"attributes\":{\"days\":[1,4,7,10,13,16,19,22,25,28]},\"id\":\"5531\",\"type\":\"DaysTicker\"},{\"attributes\":{},\"id\":\"5566\",\"type\":\"UnionRenderers\"},{\"attributes\":{},\"id\":\"5503\",\"type\":\"PanTool\"},{\"attributes\":{\"data_source\":{\"id\":\"5629\",\"type\":\"ColumnDataSource\"},\"glyph\":{\"id\":\"5630\",\"type\":\"Line\"},\"hover_glyph\":null,\"muted_glyph\":null,\"nonselection_glyph\":{\"id\":\"5631\",\"type\":\"Line\"},\"selection_glyph\":null,\"view\":{\"id\":\"5633\",\"type\":\"CDSView\"}},\"id\":\"5632\",\"type\":\"GlyphRenderer\"},{\"attributes\":{},\"id\":\"5504\",\"type\":\"WheelZoomTool\"},{\"attributes\":{\"callback\":null,\"data\":{\"x\":{\"__ndarray__\":\"AAAgY336c0IAAAjSgPpzQgAA8ECE+nNCAADYr4f6c0IAAMAei/pzQgAAqI2O+nNCAACQ/JH6c0IAAHhrlfpzQgAAYNqY+nNCAABISZz6c0IAADC4n/pzQgAAGCej+nNCAAAAlqb6c0IAAOgEqvpzQgAA0HOt+nNCAAC44rD6c0IAAKBRtPpzQgAAiMC3+nNCAABwL7v6c0IAAFievvpzQgAAQA3C+nNCAAAofMX6c0IAABDryPpzQgAA+FnM+nNCAADgyM/6c0IAAMg30/pzQgAAsKbW+nNCAACYFdr6c0IAAICE3fpzQgAAaPPg+nNCAABQYuT6c0IAADjR5/pzQgAAIEDr+nNCAAAIr+76c0IAAPAd8vpzQgAA2Iz1+nNCAADA+/j6c0IAAKhq/PpzQgAAkNn/+nNCAAB4SAP7c0IAAGC3BvtzQgAASCYK+3NCAAAwlQ37c0IAABgEEftzQgAAAHMU+3NCAADo4Rf7c0IAANBQG/tzQgAAuL8e+3NC\",\"dtype\":\"float64\",\"shape\":[48]},\"y\":{\"__ndarray__\":\"krSpkRMggUCiZVKel1d5QAC1CZNneHFAgyrTULcyaUBdLNUvZkReQLtwui5PZVJAZSKH0/1sV0BAw7YrjXhhQKIrKD5nUGZA4Ltlxni8bUCOaVT7hVNzQEb5fj+MeHdAMqThPNlMekDIAlqnUNx6QK5hUCsIknpAFspknqFlekAaoRe8Ebt5QKKxX37ii3tAM8EzZMZYgED4QqzZgfx/QB0czfLWq31AVUsD8l5NfkA+qPXS//Z8QI+BawoV/YBAWiOtHr3kfECtzjSvU1p2QKrg9gDn9GtAqkGRv9K9YkBAGGNHEPNbQJHIAnb9HVlAcuVHySqVYkAw5DNePqpwQKEOh54Yg3RAgtY9IpJPdkADlUzzwMR3QPQW2MELgXlACg7yZNiKfEDCiTWsjTx/QPxOGB7KB4BAoAOJsikzgECQZFEHghd/QAvBR6B5qYFAVRnWWBr9hEAriS+DL5CEQIgQpNY+aoJAj7uSc/I1gEDhbtxM//6AQB1gDxN/F4FA\",\"dtype\":\"float64\",\"shape\":[48]}},\"selected\":{\"id\":\"5596\",\"type\":\"Selection\"},\"selection_policy\":{\"id\":\"5595\",\"type\":\"UnionRenderers\"}},\"id\":\"5542\",\"type\":\"ColumnDataSource\"},{\"attributes\":{\"source\":{\"id\":\"5598\",\"type\":\"ColumnDataSource\"}},\"id\":\"5602\",\"type\":\"CDSView\"},{\"attributes\":{\"mantissas\":[1,2,5],\"max_interval\":500.0,\"num_minor_ticks\":0},\"id\":\"5527\",\"type\":\"AdaptiveTicker\"},{\"attributes\":{\"ticker\":{\"id\":\"5494\",\"type\":\"DatetimeTicker\"}},\"id\":\"5497\",\"type\":\"Grid\"},{\"attributes\":{},\"id\":\"5595\",\"type\":\"UnionRenderers\"},{\"attributes\":{\"data_source\":{\"id\":\"5516\",\"type\":\"ColumnDataSource\"},\"glyph\":{\"id\":\"5517\",\"type\":\"Line\"},\"hover_glyph\":null,\"muted_glyph\":null,\"nonselection_glyph\":{\"id\":\"5518\",\"type\":\"Line\"},\"selection_glyph\":null,\"view\":{\"id\":\"5520\",\"type\":\"CDSView\"}},\"id\":\"5519\",\"type\":\"GlyphRenderer\"},{\"attributes\":{\"overlay\":{\"id\":\"5539\",\"type\":\"BoxAnnotation\"}},\"id\":\"5505\",\"type\":\"BoxZoomTool\"},{\"attributes\":{\"line_alpha\":0.1,\"line_color\":\"#1f77b4\",\"line_width\":2,\"x\":{\"field\":\"x\"},\"y\":{\"field\":\"y\"}},\"id\":\"5571\",\"type\":\"Line\"},{\"attributes\":{\"callback\":null,\"data\":{\"x\":{\"__ndarray__\":\"AAAgY336c0IAAAjSgPpzQgAA8ECE+nNCAADYr4f6c0IAAMAei/pzQgAAqI2O+nNCAACQ/JH6c0IAAHhrlfpzQgAAYNqY+nNCAABISZz6c0IAADC4n/pzQgAAGCej+nNCAAAAlqb6c0IAAOgEqvpzQgAA0HOt+nNCAAC44rD6c0IAAKBRtPpzQgAAiMC3+nNCAABwL7v6c0IAAFievvpzQgAAQA3C+nNCAAAofMX6c0IAABDryPpzQgAA+FnM+nNCAADgyM/6c0IAAMg30/pzQgAAsKbW+nNCAACYFdr6c0IAAICE3fpzQgAAaPPg+nNCAABQYuT6c0IAADjR5/pzQgAAIEDr+nNCAAAIr+76c0IAAPAd8vpzQgAA2Iz1+nNCAADA+/j6c0IAAKhq/PpzQgAAkNn/+nNCAAB4SAP7c0IAAGC3BvtzQgAASCYK+3NCAAAwlQ37c0IAABgEEftzQgAAAHMU+3NCAADo4Rf7c0IAANBQG/tzQgAAuL8e+3NC\",\"dtype\":\"float64\",\"shape\":[48]},\"y\":{\"__ndarray__\":\"ZmZmZmZggEAAAAAAAKR5QAAAAAAAbHNAAAAAAADQaUDNzMzMzDRiQAAAAAAAMFVAMzMzMzPDWkAzMzMzMxtiQGZmZmZmzmVAMzMzMzMbcECamZmZmVFzQDMzMzMzf3ZAmpmZmZmpeEBmZmZmZhp6QGZmZmZmBntAAAAAAAAge0CamZmZmcl7QM3MzMzM8H1AzczMzMykfkAAAAAAAJh9QJqZmZmZlX1AzczMzMzMeUCamZmZmS2BQAAAAAAABoFAAAAAAACUfUAzMzMzM8tzQM3MzMzMRGpAzczMzMwsYUBmZmZmZlZbQJqZmZmZSVRAMzMzMzMbY0DNzMzMzNxsQM3MzMzMnHJAZmZmZmaOdkCamZmZmcV4QDMzMzMzC3xAAAAAAADQfkAzMzMzMwuAQM3MzMzMBIFAzczMzMwSgUBmZmZmZpiAQJqZmZmZ24FAZmZmZmZ0gkCamZmZmcmCQDMzMzMz735AmpmZmZllf0CamZmZmWmBQM3MzMzMmIBA\",\"dtype\":\"float64\",\"shape\":[48]}},\"selected\":{\"id\":\"5952\",\"type\":\"Selection\"},\"selection_policy\":{\"id\":\"5951\",\"type\":\"UnionRenderers\"}},\"id\":\"5629\",\"type\":\"ColumnDataSource\"},{\"attributes\":{\"label\":{\"value\":\"No external variables\"},\"renderers\":[{\"id\":\"5519\",\"type\":\"GlyphRenderer\"}]},\"id\":\"5541\",\"type\":\"LegendItem\"},{\"attributes\":{\"label\":{\"value\":\"EIA no external variables\"},\"renderers\":[{\"id\":\"5572\",\"type\":\"GlyphRenderer\"}]},\"id\":\"5597\",\"type\":\"LegendItem\"},{\"attributes\":{},\"id\":\"5627\",\"type\":\"Selection\"},{\"attributes\":{},\"id\":\"5952\",\"type\":\"Selection\"},{\"attributes\":{\"data_source\":{\"id\":\"5598\",\"type\":\"ColumnDataSource\"},\"glyph\":{\"id\":\"5599\",\"type\":\"Line\"},\"hover_glyph\":null,\"muted_glyph\":null,\"nonselection_glyph\":{\"id\":\"5600\",\"type\":\"Line\"},\"selection_glyph\":null,\"view\":{\"id\":\"5602\",\"type\":\"CDSView\"}},\"id\":\"5601\",\"type\":\"GlyphRenderer\"},{\"attributes\":{},\"id\":\"5523\",\"type\":\"DatetimeTickFormatter\"},{\"attributes\":{},\"id\":\"5506\",\"type\":\"SaveTool\"},{\"attributes\":{\"data_source\":{\"id\":\"5542\",\"type\":\"ColumnDataSource\"},\"glyph\":{\"id\":\"5543\",\"type\":\"Line\"},\"hover_glyph\":null,\"muted_glyph\":null,\"nonselection_glyph\":{\"id\":\"5544\",\"type\":\"Line\"},\"selection_glyph\":null,\"view\":{\"id\":\"5546\",\"type\":\"CDSView\"}},\"id\":\"5545\",\"type\":\"GlyphRenderer\"},{\"attributes\":{},\"id\":\"5507\",\"type\":\"ResetTool\"},{\"attributes\":{\"line_color\":\"#66c2a5\",\"line_width\":2,\"x\":{\"field\":\"x\"},\"y\":{\"field\":\"y\"}},\"id\":\"5543\",\"type\":\"Line\"},{\"attributes\":{\"source\":{\"id\":\"5569\",\"type\":\"ColumnDataSource\"}},\"id\":\"5573\",\"type\":\"CDSView\"},{\"attributes\":{\"callback\":null},\"id\":\"5487\",\"type\":\"DataRange1d\"},{\"attributes\":{\"callback\":null},\"id\":\"5485\",\"type\":\"DataRange1d\"},{\"attributes\":{\"line_color\":\"#fdae61\",\"line_width\":2,\"x\":{\"field\":\"x\"},\"y\":{\"field\":\"y\"}},\"id\":\"5599\",\"type\":\"Line\"},{\"attributes\":{\"label\":{\"value\":\"Weather and holidays\"},\"renderers\":[{\"id\":\"5545\",\"type\":\"GlyphRenderer\"}]},\"id\":\"5568\",\"type\":\"LegendItem\"},{\"attributes\":{\"days\":[1,2,3,4,5,6,7,8,9,10,11,12,13,14,15,16,17,18,19,20,21,22,23,24,25,26,27,28,29,30,31]},\"id\":\"5530\",\"type\":\"DaysTicker\"},{\"attributes\":{},\"id\":\"5508\",\"type\":\"HelpTool\"},{\"attributes\":{},\"id\":\"5596\",\"type\":\"Selection\"},{\"attributes\":{\"line_color\":\"#e6f598\",\"line_width\":2,\"x\":{\"field\":\"x\"},\"y\":{\"field\":\"y\"}},\"id\":\"5570\",\"type\":\"Line\"},{\"attributes\":{\"line_alpha\":0.1,\"line_color\":\"#1f77b4\",\"line_width\":2,\"x\":{\"field\":\"x\"},\"y\":{\"field\":\"y\"}},\"id\":\"5518\",\"type\":\"Line\"},{\"attributes\":{\"text\":\"4th of July\"},\"id\":\"5521\",\"type\":\"Title\"}],\"root_ids\":[\"5484\"]},\"title\":\"Bokeh Application\",\"version\":\"1.4.0\"}};\n",
       "  var render_items = [{\"docid\":\"573ecdd3-6213-49d5-8bf2-83ad2609a570\",\"roots\":{\"5484\":\"378005f6-ebb2-4d25-a82d-27271020ffcf\"}}];\n",
       "  root.Bokeh.embed.embed_items_notebook(docs_json, render_items);\n",
       "\n",
       "  }\n",
       "  if (root.Bokeh !== undefined) {\n",
       "    embed_document(root);\n",
       "  } else {\n",
       "    var attempts = 0;\n",
       "    var timer = setInterval(function(root) {\n",
       "      if (root.Bokeh !== undefined) {\n",
       "        clearInterval(timer);\n",
       "        embed_document(root);\n",
       "      } else {\n",
       "        attempts++;\n",
       "        if (attempts > 100) {\n",
       "          clearInterval(timer);\n",
       "          console.log(\"Bokeh: ERROR: Unable to run BokehJS code because BokehJS library is missing\");\n",
       "        }\n",
       "      }\n",
       "    }, 10, root)\n",
       "  }\n",
       "})(window);"
      ],
      "application/vnd.bokehjs_exec.v0+json": ""
     },
     "metadata": {
      "application/vnd.bokehjs_exec.v0+json": {
       "id": "5484"
      }
     },
     "output_type": "display_data"
    }
   ],
   "source": [
    "s = slice('2013-07-04', '2013-07-05')\n",
    "\n",
    "p = figure(plot_width=800, plot_height=400, x_axis_type='datetime')\n",
    "p.line(x = pred_ne[s].index, y=pred_ne[s], line_width=2, legend_label='No external variables', color = Spectral8[0])\n",
    "p.line(x = pred_w_h[s].index, y=pred_w_h[s], line_width=2, legend_label='Weather and holidays', color = Spectral8[1])\n",
    "p.line(x = eia_ne[s].index, y=eia_ne[s], line_width=2, legend_label='EIA no external variables', color = Spectral8[3])\n",
    "p.line(x = eia_w_h[s].index, y=eia_w_h[s], line_width=2, legend_label='EIA weather and holidays', color = Spectral8[5])\n",
    "p.line(x = real[s].index, y=real[s], line_width=2, legend_label='Real demand', color = Spectral8[7])\n",
    "\n",
    "p.yaxis.axis_label = 'Predictions'\n",
    "p.title.text = '4th of July'\n",
    "p.legend.location = 'bottom_left'\n",
    "p.legend.click_policy=\"hide\"\n",
    "\n",
    "show(p)"
   ]
  },
  {
   "cell_type": "code",
   "execution_count": 31,
   "metadata": {
    "ExecuteTime": {
     "end_time": "2020-02-21T10:14:38.523968Z",
     "start_time": "2020-02-21T10:14:38.324581Z"
    }
   },
   "outputs": [
    {
     "data": {
      "text/html": [
       "\n",
       "\n",
       "\n",
       "\n",
       "\n",
       "\n",
       "  <div class=\"bk-root\" id=\"ac552cbc-74f8-41b9-a4cf-1f062c0afbe8\" data-root-id=\"6127\"></div>\n"
      ]
     },
     "metadata": {},
     "output_type": "display_data"
    },
    {
     "data": {
      "application/javascript": [
       "(function(root) {\n",
       "  function embed_document(root) {\n",
       "    \n",
       "  var docs_json = {\"20bc1ac4-cbf7-425b-ad53-79e58d00f2d3\":{\"roots\":{\"references\":[{\"attributes\":{\"below\":[{\"id\":\"6136\",\"type\":\"DatetimeAxis\"}],\"center\":[{\"id\":\"6140\",\"type\":\"Grid\"},{\"id\":\"6145\",\"type\":\"Grid\"},{\"id\":\"6183\",\"type\":\"Legend\"}],\"left\":[{\"id\":\"6141\",\"type\":\"LinearAxis\"}],\"plot_height\":400,\"plot_width\":800,\"renderers\":[{\"id\":\"6162\",\"type\":\"GlyphRenderer\"},{\"id\":\"6188\",\"type\":\"GlyphRenderer\"},{\"id\":\"6215\",\"type\":\"GlyphRenderer\"},{\"id\":\"6244\",\"type\":\"GlyphRenderer\"},{\"id\":\"6275\",\"type\":\"GlyphRenderer\"}],\"title\":{\"id\":\"6164\",\"type\":\"Title\"},\"toolbar\":{\"id\":\"6152\",\"type\":\"Toolbar\"},\"x_range\":{\"id\":\"6128\",\"type\":\"DataRange1d\"},\"x_scale\":{\"id\":\"6132\",\"type\":\"LinearScale\"},\"y_range\":{\"id\":\"6130\",\"type\":\"DataRange1d\"},\"y_scale\":{\"id\":\"6134\",\"type\":\"LinearScale\"}},\"id\":\"6127\",\"subtype\":\"Figure\",\"type\":\"Plot\"},{\"attributes\":{},\"id\":\"6166\",\"type\":\"DatetimeTickFormatter\"},{\"attributes\":{},\"id\":\"6149\",\"type\":\"SaveTool\"},{\"attributes\":{},\"id\":\"6132\",\"type\":\"LinearScale\"},{\"attributes\":{\"source\":{\"id\":\"6212\",\"type\":\"ColumnDataSource\"}},\"id\":\"6216\",\"type\":\"CDSView\"},{\"attributes\":{\"callback\":null,\"data\":{\"x\":{\"__ndarray__\":\"AADgdfhvdEIAAMjk+290QgAAsFP/b3RCAACYwgJwdEIAAIAxBnB0QgAAaKAJcHRCAABQDw1wdEIAADh+EHB0QgAAIO0TcHRCAAAIXBdwdEIAAPDKGnB0QgAA2DkecHRCAADAqCFwdEIAAKgXJXB0QgAAkIYocHRCAAB49StwdEIAAGBkL3B0QgAASNMycHRCAAAwQjZwdEIAABixOXB0QgAAACA9cHRCAADojkBwdEIAAND9Q3B0QgAAuGxHcHRCAACg20pwdEIAAIhKTnB0QgAAcLlRcHRCAABYKFVwdEIAAECXWHB0QgAAKAZccHRCAAAQdV9wdEIAAPjjYnB0QgAA4FJmcHRCAADIwWlwdEIAALAwbXB0QgAAmJ9wcHRCAACADnRwdEIAAGh9d3B0QgAAUOx6cHRCAAA4W35wdEIAACDKgXB0QgAACDmFcHRCAADwp4hwdEIAANgWjHB0QgAAwIWPcHRCAACo9JJwdEIAAJBjlnB0QgAAeNKZcHRC\",\"dtype\":\"float64\",\"shape\":[48]},\"y\":{\"__ndarray__\":\"zczMzMz0ekAzMzMzM790QJqZmZmZsW9AmpmZmZlJaUBmZmZmZt5hQAAAAAAAEFdAzczMzMyMW0BmZmZmZt5hQAAAAAAASGRAAAAAAACobUAAAAAAAFRyQGZmZmZmendAmpmZmZmlekAzMzMzM/N9QDMzMzMzK4JAzczMzMxQf0CamZmZmYV7QGZmZmZmznZAmpmZmZlpfEDNzMzMzCB6QGZmZmZm5ndAmpmZmZn1dkAAAAAAALB4QAAAAAAASHxAMzMzMzOPeEBmZmZmZrZzQDMzMzMzu21AzczMzMz8Z0DNzMzMzNxgQAAAAAAA0FFAAAAAAAAgVEAzMzMzM3NcQGZmZmZmNmNAzczMzMxcb0DNzMzMzKh0QJqZmZmZPXdAMzMzMzODeECamZmZmdl4QJqZmZmZ7XlAZmZmZmbWeUCamZmZmZF5QGZmZmZmOntAZmZmZmb2fECamZmZmdl/QJqZmZmZUXpAMzMzMzNTfECamZmZmdV/QGZmZmZmtn9A\",\"dtype\":\"float64\",\"shape\":[48]}},\"selected\":{\"id\":\"6624\",\"type\":\"Selection\"},\"selection_policy\":{\"id\":\"6623\",\"type\":\"UnionRenderers\"}},\"id\":\"6272\",\"type\":\"ColumnDataSource\"},{\"attributes\":{\"mantissas\":[1,2,5],\"max_interval\":500.0,\"num_minor_ticks\":0},\"id\":\"6170\",\"type\":\"AdaptiveTicker\"},{\"attributes\":{\"source\":{\"id\":\"6185\",\"type\":\"ColumnDataSource\"}},\"id\":\"6189\",\"type\":\"CDSView\"},{\"attributes\":{\"callback\":null,\"data\":{\"x\":{\"__ndarray__\":\"AADgdfhvdEIAAMjk+290QgAAsFP/b3RCAACYwgJwdEIAAIAxBnB0QgAAaKAJcHRCAABQDw1wdEIAADh+EHB0QgAAIO0TcHRCAAAIXBdwdEIAAPDKGnB0QgAA2DkecHRCAADAqCFwdEIAAKgXJXB0QgAAkIYocHRCAAB49StwdEIAAGBkL3B0QgAASNMycHRCAAAwQjZwdEIAABixOXB0QgAAACA9cHRCAADojkBwdEIAAND9Q3B0QgAAuGxHcHRCAACg20pwdEIAAIhKTnB0QgAAcLlRcHRCAABYKFVwdEIAAECXWHB0QgAAKAZccHRCAAAQdV9wdEIAAPjjYnB0QgAA4FJmcHRCAADIwWlwdEIAALAwbXB0QgAAmJ9wcHRCAACADnRwdEIAAGh9d3B0QgAAUOx6cHRCAAA4W35wdEIAACDKgXB0QgAACDmFcHRCAADwp4hwdEIAANgWjHB0QgAAwIWPcHRCAACo9JJwdEIAAJBjlnB0QgAAeNKZcHRC\",\"dtype\":\"float64\",\"shape\":[48]},\"y\":{\"__ndarray__\":\"HRKz+O2PekB2m9gao01yQEieaJomW2tAa7kce27kZECY3o7mYntiQK0vERkirWBA6wWRGqbiaUDNzMzMzIxbQGZmZmZm3mFAAAAAAABIZEAAAAAAAKhtQHOuqY3EEnVA+BsB5hsceEDVMo3LE655QFq/bRq+jHxAMzMzMzMrgkD+3hZ7EhB9QLBho75kVH5AZmZmZmbOdkD1thfn4ziAQM3MzMzMIHpAZmZmZmbmd0CamZmZmfV2QAAAAAAAsHhAAAAAAABIfEAi05pqZgB1QETuw8SSeHBA2+3nlKUraED2cA8Tv2xiQGam3EJgEVhA/TzljmRgUkCKtoyw5f1ZQJTQRzCEcmNAJbPePSyPakCeIsfCnQR0QGS9N3YwR3dAMjhVEMqleEAX1PxZGQ55QPoyjGSDy3hAw2v5LDoIeUC4FnGX9Yh5QANucWnFT3tAg2J6Q9XbfUC+A1v3TTV+QKsaGNKcZX1AalsIfweHe0BK1/eYGtt9QKvpWF14vH9A\",\"dtype\":\"float64\",\"shape\":[48]}},\"selected\":{\"id\":\"6270\",\"type\":\"Selection\"},\"selection_policy\":{\"id\":\"6269\",\"type\":\"UnionRenderers\"}},\"id\":\"6212\",\"type\":\"ColumnDataSource\"},{\"attributes\":{\"line_color\":\"#fdae61\",\"line_width\":2,\"x\":{\"field\":\"x\"},\"y\":{\"field\":\"y\"}},\"id\":\"6242\",\"type\":\"Line\"},{\"attributes\":{},\"id\":\"6168\",\"type\":\"BasicTickFormatter\"},{\"attributes\":{\"bottom_units\":\"screen\",\"fill_alpha\":{\"value\":0.5},\"fill_color\":{\"value\":\"lightgrey\"},\"left_units\":\"screen\",\"level\":\"overlay\",\"line_alpha\":{\"value\":1.0},\"line_color\":{\"value\":\"black\"},\"line_dash\":[4,4],\"line_width\":{\"value\":2},\"render_mode\":\"css\",\"right_units\":\"screen\",\"top_units\":\"screen\"},\"id\":\"6182\",\"type\":\"BoxAnnotation\"},{\"attributes\":{},\"id\":\"6134\",\"type\":\"LinearScale\"},{\"attributes\":{\"callback\":null,\"data\":{\"x\":{\"__ndarray__\":\"AADgdfhvdEIAAMjk+290QgAAsFP/b3RCAACYwgJwdEIAAIAxBnB0QgAAaKAJcHRCAABQDw1wdEIAADh+EHB0QgAAIO0TcHRCAAAIXBdwdEIAAPDKGnB0QgAA2DkecHRCAADAqCFwdEIAAKgXJXB0QgAAkIYocHRCAAB49StwdEIAAGBkL3B0QgAASNMycHRCAAAwQjZwdEIAABixOXB0QgAAACA9cHRCAADojkBwdEIAAND9Q3B0QgAAuGxHcHRCAACg20pwdEIAAIhKTnB0QgAAcLlRcHRCAABYKFVwdEIAAECXWHB0QgAAKAZccHRCAAAQdV9wdEIAAPjjYnB0QgAA4FJmcHRCAADIwWlwdEIAALAwbXB0QgAAmJ9wcHRCAACADnRwdEIAAGh9d3B0QgAAUOx6cHRCAAA4W35wdEIAACDKgXB0QgAACDmFcHRCAADwp4hwdEIAANgWjHB0QgAAwIWPcHRCAACo9JJwdEIAAJBjlnB0QgAAeNKZcHRC\",\"dtype\":\"float64\",\"shape\":[48]},\"y\":{\"__ndarray__\":\"HRKz+O2PekB2m9gao01yQEieaJomW2tAa7kce27kZECY3o7mYntiQK0vERkirWBA6wWRGqbiaUAApcakMF9qQKoO4Cht42lA6yVG880Ca0AOhTYDf9JyQHOuqY3EEnVA+BsB5hsceEDVMo3LE655QFq/bRq+jHxApZToownDgED+3hZ7EhB9QLBho75kVH5Ajp+iv3rYfUD1thfn4ziAQCYNnHVdrHtAC21L37YaeUBYx/8Os2l4QEYN7cA1DXlAC6gNxlFwekAi05pqZgB1QETuw8SSeHBA2+3nlKUraED2cA8Tv2xiQGam3EJgEVhA/TzljmRgUkCKtoyw5f1ZQJTQRzCEcmNAJbPePSyPakCeIsfCnQR0QGS9N3YwR3dAMjhVEMqleEAX1PxZGQ55QPoyjGSDy3hAw2v5LDoIeUC4FnGX9Yh5QANucWnFT3tAg2J6Q9XbfUC+A1v3TTV+QKsaGNKcZX1AalsIfweHe0BK1/eYGtt9QKvpWF14vH9A\",\"dtype\":\"float64\",\"shape\":[48]}},\"selected\":{\"id\":\"6210\",\"type\":\"Selection\"},\"selection_policy\":{\"id\":\"6209\",\"type\":\"UnionRenderers\"}},\"id\":\"6159\",\"type\":\"ColumnDataSource\"},{\"attributes\":{\"overlay\":{\"id\":\"6182\",\"type\":\"BoxAnnotation\"}},\"id\":\"6148\",\"type\":\"BoxZoomTool\"},{\"attributes\":{},\"id\":\"6238\",\"type\":\"UnionRenderers\"},{\"attributes\":{\"formatter\":{\"id\":\"6166\",\"type\":\"DatetimeTickFormatter\"},\"ticker\":{\"id\":\"6137\",\"type\":\"DatetimeTicker\"}},\"id\":\"6136\",\"type\":\"DatetimeAxis\"},{\"attributes\":{\"data_source\":{\"id\":\"6212\",\"type\":\"ColumnDataSource\"},\"glyph\":{\"id\":\"6213\",\"type\":\"Line\"},\"hover_glyph\":null,\"muted_glyph\":null,\"nonselection_glyph\":{\"id\":\"6214\",\"type\":\"Line\"},\"selection_glyph\":null,\"view\":{\"id\":\"6216\",\"type\":\"CDSView\"}},\"id\":\"6215\",\"type\":\"GlyphRenderer\"},{\"attributes\":{\"data_source\":{\"id\":\"6272\",\"type\":\"ColumnDataSource\"},\"glyph\":{\"id\":\"6273\",\"type\":\"Line\"},\"hover_glyph\":null,\"muted_glyph\":null,\"nonselection_glyph\":{\"id\":\"6274\",\"type\":\"Line\"},\"selection_glyph\":null,\"view\":{\"id\":\"6276\",\"type\":\"CDSView\"}},\"id\":\"6275\",\"type\":\"GlyphRenderer\"},{\"attributes\":{\"dimension\":1,\"ticker\":{\"id\":\"6142\",\"type\":\"BasicTicker\"}},\"id\":\"6145\",\"type\":\"Grid\"},{\"attributes\":{\"callback\":null},\"id\":\"6130\",\"type\":\"DataRange1d\"},{\"attributes\":{\"label\":{\"value\":\"Weather and holidays\"},\"renderers\":[{\"id\":\"6188\",\"type\":\"GlyphRenderer\"}]},\"id\":\"6211\",\"type\":\"LegendItem\"},{\"attributes\":{\"label\":{\"value\":\"EIA no external variables\"},\"renderers\":[{\"id\":\"6215\",\"type\":\"GlyphRenderer\"}]},\"id\":\"6240\",\"type\":\"LegendItem\"},{\"attributes\":{\"num_minor_ticks\":5,\"tickers\":[{\"id\":\"6170\",\"type\":\"AdaptiveTicker\"},{\"id\":\"6171\",\"type\":\"AdaptiveTicker\"},{\"id\":\"6172\",\"type\":\"AdaptiveTicker\"},{\"id\":\"6173\",\"type\":\"DaysTicker\"},{\"id\":\"6174\",\"type\":\"DaysTicker\"},{\"id\":\"6175\",\"type\":\"DaysTicker\"},{\"id\":\"6176\",\"type\":\"DaysTicker\"},{\"id\":\"6177\",\"type\":\"MonthsTicker\"},{\"id\":\"6178\",\"type\":\"MonthsTicker\"},{\"id\":\"6179\",\"type\":\"MonthsTicker\"},{\"id\":\"6180\",\"type\":\"MonthsTicker\"},{\"id\":\"6181\",\"type\":\"YearsTicker\"}]},\"id\":\"6137\",\"type\":\"DatetimeTicker\"},{\"attributes\":{\"line_color\":\"#e6f598\",\"line_width\":2,\"x\":{\"field\":\"x\"},\"y\":{\"field\":\"y\"}},\"id\":\"6213\",\"type\":\"Line\"},{\"attributes\":{\"base\":60,\"mantissas\":[1,2,5,10,15,20,30],\"max_interval\":1800000.0,\"min_interval\":1000.0,\"num_minor_ticks\":0},\"id\":\"6171\",\"type\":\"AdaptiveTicker\"},{\"attributes\":{\"ticker\":{\"id\":\"6137\",\"type\":\"DatetimeTicker\"}},\"id\":\"6140\",\"type\":\"Grid\"},{\"attributes\":{},\"id\":\"6209\",\"type\":\"UnionRenderers\"},{\"attributes\":{\"days\":[1,2,3,4,5,6,7,8,9,10,11,12,13,14,15,16,17,18,19,20,21,22,23,24,25,26,27,28,29,30,31]},\"id\":\"6173\",\"type\":\"DaysTicker\"},{\"attributes\":{},\"id\":\"6142\",\"type\":\"BasicTicker\"},{\"attributes\":{\"data_source\":{\"id\":\"6185\",\"type\":\"ColumnDataSource\"},\"glyph\":{\"id\":\"6186\",\"type\":\"Line\"},\"hover_glyph\":null,\"muted_glyph\":null,\"nonselection_glyph\":{\"id\":\"6187\",\"type\":\"Line\"},\"selection_glyph\":null,\"view\":{\"id\":\"6189\",\"type\":\"CDSView\"}},\"id\":\"6188\",\"type\":\"GlyphRenderer\"},{\"attributes\":{\"axis_label\":\"Predictions\",\"formatter\":{\"id\":\"6168\",\"type\":\"BasicTickFormatter\"},\"ticker\":{\"id\":\"6142\",\"type\":\"BasicTicker\"}},\"id\":\"6141\",\"type\":\"LinearAxis\"},{\"attributes\":{\"source\":{\"id\":\"6272\",\"type\":\"ColumnDataSource\"}},\"id\":\"6276\",\"type\":\"CDSView\"},{\"attributes\":{\"days\":[1,4,7,10,13,16,19,22,25,28]},\"id\":\"6174\",\"type\":\"DaysTicker\"},{\"attributes\":{\"line_color\":\"#3288bd\",\"line_width\":2,\"x\":{\"field\":\"x\"},\"y\":{\"field\":\"y\"}},\"id\":\"6160\",\"type\":\"Line\"},{\"attributes\":{},\"id\":\"6210\",\"type\":\"Selection\"},{\"attributes\":{},\"id\":\"6302\",\"type\":\"UnionRenderers\"},{\"attributes\":{},\"id\":\"6151\",\"type\":\"HelpTool\"},{\"attributes\":{\"callback\":null,\"data\":{\"x\":{\"__ndarray__\":\"AADgdfhvdEIAAMjk+290QgAAsFP/b3RCAACYwgJwdEIAAIAxBnB0QgAAaKAJcHRCAABQDw1wdEIAADh+EHB0QgAAIO0TcHRCAAAIXBdwdEIAAPDKGnB0QgAA2DkecHRCAADAqCFwdEIAAKgXJXB0QgAAkIYocHRCAAB49StwdEIAAGBkL3B0QgAASNMycHRCAAAwQjZwdEIAABixOXB0QgAAACA9cHRCAADojkBwdEIAAND9Q3B0QgAAuGxHcHRCAACg20pwdEIAAIhKTnB0QgAAcLlRcHRCAABYKFVwdEIAAECXWHB0QgAAKAZccHRCAAAQdV9wdEIAAPjjYnB0QgAA4FJmcHRCAADIwWlwdEIAALAwbXB0QgAAmJ9wcHRCAACADnRwdEIAAGh9d3B0QgAAUOx6cHRCAAA4W35wdEIAACDKgXB0QgAACDmFcHRCAADwp4hwdEIAANgWjHB0QgAAwIWPcHRCAACo9JJwdEIAAJBjlnB0QgAAeNKZcHRC\",\"dtype\":\"float64\",\"shape\":[48]},\"y\":{\"__ndarray__\":\"rWPOWw44f0AZj3P/TgJ5QNgfk5LMHHFA4uO01s9oZkCWbGOKeSFgQA6bnIrxXlxAJjsvCUxUXkB4S66RDGZhQNnSkiaDG2RAr2DltKalaEAMu7naNp5wQEyRCJVzgnRAk0wr3/7FeUBj9i33x259QHrcb/rNA4BAY2YjtHdLgkC6PqLykICAQOUudwYmhX9AQuH+cSXzfUBEBeiTVKyAQIcC/HNJQIBAqhjGAA70f0B+bAYPKgB/QK2LuZn32X1AK6yMc3tlekC5lmzsE811QBfTAqfQA3FAv3eLWZTcZ0BmaArkVUthQKqnBrYV2FNAkF3Fl2QJUUBjR2Cx8u1cQKqXM52zDmVApvtOJ3lubECiZ/rwH8ZzQHQWZV6rXXdAlpO0P7JEeUBmpJVJsUh5QOhZmzx/nnhACBVZYporeEA23yS91yt5QEZe6M/Xx3pAwN7K32JrfUCYF5yZxMR9QFaLdHzHMH1AqgtB0vD+ekB+NPqT9/19QIqGbjWquX9A\",\"dtype\":\"float64\",\"shape\":[48]}},\"selected\":{\"id\":\"6239\",\"type\":\"Selection\"},\"selection_policy\":{\"id\":\"6238\",\"type\":\"UnionRenderers\"}},\"id\":\"6185\",\"type\":\"ColumnDataSource\"},{\"attributes\":{\"line_alpha\":0.1,\"line_color\":\"#1f77b4\",\"line_width\":2,\"x\":{\"field\":\"x\"},\"y\":{\"field\":\"y\"}},\"id\":\"6187\",\"type\":\"Line\"},{\"attributes\":{\"callback\":null,\"data\":{\"x\":{\"__ndarray__\":\"AADgdfhvdEIAAMjk+290QgAAsFP/b3RCAACYwgJwdEIAAIAxBnB0QgAAaKAJcHRCAABQDw1wdEIAADh+EHB0QgAAIO0TcHRCAAAIXBdwdEIAAPDKGnB0QgAA2DkecHRCAADAqCFwdEIAAKgXJXB0QgAAkIYocHRCAAB49StwdEIAAGBkL3B0QgAASNMycHRCAAAwQjZwdEIAABixOXB0QgAAACA9cHRCAADojkBwdEIAAND9Q3B0QgAAuGxHcHRCAACg20pwdEIAAIhKTnB0QgAAcLlRcHRCAABYKFVwdEIAAECXWHB0QgAAKAZccHRCAAAQdV9wdEIAAPjjYnB0QgAA4FJmcHRCAADIwWlwdEIAALAwbXB0QgAAmJ9wcHRCAACADnRwdEIAAGh9d3B0QgAAUOx6cHRCAAA4W35wdEIAACDKgXB0QgAACDmFcHRCAADwp4hwdEIAANgWjHB0QgAAwIWPcHRCAACo9JJwdEIAAJBjlnB0QgAAeNKZcHRC\",\"dtype\":\"float64\",\"shape\":[48]},\"y\":{\"__ndarray__\":\"rWPOWw44f0AZj3P/TgJ5QNgfk5LMHHFA4uO01s9oZkCWbGOKeSFgQA6bnIrxXlxAJjsvCUxUXkB4S66RDGZhQNnSkiaDG2RAr2DltKalaEAMu7naNp5wQEyRCJVzgnRAk0wr3/7FeUBj9i33x259QHrcb/rNA4BAY2YjtHdLgkC6PqLykICAQOUudwYmhX9AZmZmZmbOdkBEBeiTVKyAQM3MzMzMIHpAZmZmZmbmd0CamZmZmfV2QAAAAAAAsHhAAAAAAABIfEAzMzMzM494QGZmZmZmtnNAv3eLWZTcZ0BmaArkVUthQKqnBrYV2FNAkF3Fl2QJUUBjR2Cx8u1cQKqXM52zDmVApvtOJ3lubECiZ/rwH8ZzQHQWZV6rXXdAlpO0P7JEeUBmpJVJsUh5QOhZmzx/nnhACBVZYporeEA23yS91yt5QEZe6M/Xx3pAwN7K32JrfUCYF5yZxMR9QFaLdHzHMH1AqgtB0vD+ekB+NPqT9/19QIqGbjWquX9A\",\"dtype\":\"float64\",\"shape\":[48]}},\"selected\":{\"id\":\"6303\",\"type\":\"Selection\"},\"selection_policy\":{\"id\":\"6302\",\"type\":\"UnionRenderers\"}},\"id\":\"6241\",\"type\":\"ColumnDataSource\"},{\"attributes\":{\"label\":{\"value\":\"Real demand\"},\"renderers\":[{\"id\":\"6275\",\"type\":\"GlyphRenderer\"}]},\"id\":\"6304\",\"type\":\"LegendItem\"},{\"attributes\":{\"line_color\":\"#d53e4f\",\"line_width\":2,\"x\":{\"field\":\"x\"},\"y\":{\"field\":\"y\"}},\"id\":\"6273\",\"type\":\"Line\"},{\"attributes\":{\"days\":[1,8,15,22]},\"id\":\"6175\",\"type\":\"DaysTicker\"},{\"attributes\":{\"days\":[1,15]},\"id\":\"6176\",\"type\":\"DaysTicker\"},{\"attributes\":{},\"id\":\"6239\",\"type\":\"Selection\"},{\"attributes\":{},\"id\":\"6150\",\"type\":\"ResetTool\"},{\"attributes\":{},\"id\":\"6270\",\"type\":\"Selection\"},{\"attributes\":{},\"id\":\"6303\",\"type\":\"Selection\"},{\"attributes\":{\"data_source\":{\"id\":\"6159\",\"type\":\"ColumnDataSource\"},\"glyph\":{\"id\":\"6160\",\"type\":\"Line\"},\"hover_glyph\":null,\"muted_glyph\":null,\"nonselection_glyph\":{\"id\":\"6161\",\"type\":\"Line\"},\"selection_glyph\":null,\"view\":{\"id\":\"6163\",\"type\":\"CDSView\"}},\"id\":\"6162\",\"type\":\"GlyphRenderer\"},{\"attributes\":{\"callback\":null},\"id\":\"6128\",\"type\":\"DataRange1d\"},{\"attributes\":{\"months\":[0,1,2,3,4,5,6,7,8,9,10,11]},\"id\":\"6177\",\"type\":\"MonthsTicker\"},{\"attributes\":{\"source\":{\"id\":\"6159\",\"type\":\"ColumnDataSource\"}},\"id\":\"6163\",\"type\":\"CDSView\"},{\"attributes\":{},\"id\":\"6269\",\"type\":\"UnionRenderers\"},{\"attributes\":{\"base\":24,\"mantissas\":[1,2,4,6,8,12],\"max_interval\":43200000.0,\"min_interval\":3600000.0,\"num_minor_ticks\":0},\"id\":\"6172\",\"type\":\"AdaptiveTicker\"},{\"attributes\":{\"line_alpha\":0.1,\"line_color\":\"#1f77b4\",\"line_width\":2,\"x\":{\"field\":\"x\"},\"y\":{\"field\":\"y\"}},\"id\":\"6243\",\"type\":\"Line\"},{\"attributes\":{\"months\":[0,2,4,6,8,10]},\"id\":\"6178\",\"type\":\"MonthsTicker\"},{\"attributes\":{\"line_color\":\"#66c2a5\",\"line_width\":2,\"x\":{\"field\":\"x\"},\"y\":{\"field\":\"y\"}},\"id\":\"6186\",\"type\":\"Line\"},{\"attributes\":{\"source\":{\"id\":\"6241\",\"type\":\"ColumnDataSource\"}},\"id\":\"6245\",\"type\":\"CDSView\"},{\"attributes\":{},\"id\":\"6623\",\"type\":\"UnionRenderers\"},{\"attributes\":{\"label\":{\"value\":\"EIA weather and holidays\"},\"renderers\":[{\"id\":\"6244\",\"type\":\"GlyphRenderer\"}]},\"id\":\"6271\",\"type\":\"LegendItem\"},{\"attributes\":{},\"id\":\"6146\",\"type\":\"PanTool\"},{\"attributes\":{\"line_alpha\":0.1,\"line_color\":\"#1f77b4\",\"line_width\":2,\"x\":{\"field\":\"x\"},\"y\":{\"field\":\"y\"}},\"id\":\"6161\",\"type\":\"Line\"},{\"attributes\":{\"line_alpha\":0.1,\"line_color\":\"#1f77b4\",\"line_width\":2,\"x\":{\"field\":\"x\"},\"y\":{\"field\":\"y\"}},\"id\":\"6214\",\"type\":\"Line\"},{\"attributes\":{\"label\":{\"value\":\"No external variables\"},\"renderers\":[{\"id\":\"6162\",\"type\":\"GlyphRenderer\"}]},\"id\":\"6184\",\"type\":\"LegendItem\"},{\"attributes\":{\"line_alpha\":0.1,\"line_color\":\"#1f77b4\",\"line_width\":2,\"x\":{\"field\":\"x\"},\"y\":{\"field\":\"y\"}},\"id\":\"6274\",\"type\":\"Line\"},{\"attributes\":{\"months\":[0,4,8]},\"id\":\"6179\",\"type\":\"MonthsTicker\"},{\"attributes\":{},\"id\":\"6147\",\"type\":\"WheelZoomTool\"},{\"attributes\":{\"months\":[0,6]},\"id\":\"6180\",\"type\":\"MonthsTicker\"},{\"attributes\":{\"click_policy\":\"hide\",\"items\":[{\"id\":\"6184\",\"type\":\"LegendItem\"},{\"id\":\"6211\",\"type\":\"LegendItem\"},{\"id\":\"6240\",\"type\":\"LegendItem\"},{\"id\":\"6271\",\"type\":\"LegendItem\"},{\"id\":\"6304\",\"type\":\"LegendItem\"}],\"location\":\"bottom_left\"},\"id\":\"6183\",\"type\":\"Legend\"},{\"attributes\":{\"active_drag\":\"auto\",\"active_inspect\":\"auto\",\"active_multi\":null,\"active_scroll\":\"auto\",\"active_tap\":\"auto\",\"tools\":[{\"id\":\"6146\",\"type\":\"PanTool\"},{\"id\":\"6147\",\"type\":\"WheelZoomTool\"},{\"id\":\"6148\",\"type\":\"BoxZoomTool\"},{\"id\":\"6149\",\"type\":\"SaveTool\"},{\"id\":\"6150\",\"type\":\"ResetTool\"},{\"id\":\"6151\",\"type\":\"HelpTool\"}]},\"id\":\"6152\",\"type\":\"Toolbar\"},{\"attributes\":{\"data_source\":{\"id\":\"6241\",\"type\":\"ColumnDataSource\"},\"glyph\":{\"id\":\"6242\",\"type\":\"Line\"},\"hover_glyph\":null,\"muted_glyph\":null,\"nonselection_glyph\":{\"id\":\"6243\",\"type\":\"Line\"},\"selection_glyph\":null,\"view\":{\"id\":\"6245\",\"type\":\"CDSView\"}},\"id\":\"6244\",\"type\":\"GlyphRenderer\"},{\"attributes\":{},\"id\":\"6624\",\"type\":\"Selection\"},{\"attributes\":{},\"id\":\"6181\",\"type\":\"YearsTicker\"},{\"attributes\":{\"text\":\"4th of July\"},\"id\":\"6164\",\"type\":\"Title\"}],\"root_ids\":[\"6127\"]},\"title\":\"Bokeh Application\",\"version\":\"1.4.0\"}};\n",
       "  var render_items = [{\"docid\":\"20bc1ac4-cbf7-425b-ad53-79e58d00f2d3\",\"roots\":{\"6127\":\"ac552cbc-74f8-41b9-a4cf-1f062c0afbe8\"}}];\n",
       "  root.Bokeh.embed.embed_items_notebook(docs_json, render_items);\n",
       "\n",
       "  }\n",
       "  if (root.Bokeh !== undefined) {\n",
       "    embed_document(root);\n",
       "  } else {\n",
       "    var attempts = 0;\n",
       "    var timer = setInterval(function(root) {\n",
       "      if (root.Bokeh !== undefined) {\n",
       "        clearInterval(timer);\n",
       "        embed_document(root);\n",
       "      } else {\n",
       "        attempts++;\n",
       "        if (attempts > 100) {\n",
       "          clearInterval(timer);\n",
       "          console.log(\"Bokeh: ERROR: Unable to run BokehJS code because BokehJS library is missing\");\n",
       "        }\n",
       "      }\n",
       "    }, 10, root)\n",
       "  }\n",
       "})(window);"
      ],
      "application/vnd.bokehjs_exec.v0+json": ""
     },
     "metadata": {
      "application/vnd.bokehjs_exec.v0+json": {
       "id": "6127"
      }
     },
     "output_type": "display_data"
    }
   ],
   "source": [
    "s = slice('2014-07-04', '2014-07-05')\n",
    "\n",
    "p = figure(plot_width=800, plot_height=400, x_axis_type='datetime')\n",
    "p.line(x = pred_ne[s].index, y=pred_ne[s], line_width=2, legend_label='No external variables', color = Spectral8[0])\n",
    "p.line(x = pred_w_h[s].index, y=pred_w_h[s], line_width=2, legend_label='Weather and holidays', color = Spectral8[1])\n",
    "p.line(x = eia_ne[s].index, y=eia_ne[s], line_width=2, legend_label='EIA no external variables', color = Spectral8[3])\n",
    "p.line(x = eia_w_h[s].index, y=eia_w_h[s], line_width=2, legend_label='EIA weather and holidays', color = Spectral8[5])\n",
    "p.line(x = real[s].index, y=real[s], line_width=2, legend_label='Real demand', color = Spectral8[7])\n",
    "\n",
    "p.yaxis.axis_label = 'Predictions'\n",
    "p.title.text = '4th of July'\n",
    "p.legend.location = 'bottom_left'\n",
    "p.legend.click_policy=\"hide\"\n",
    "\n",
    "show(p)"
   ]
  },
  {
   "cell_type": "code",
   "execution_count": 32,
   "metadata": {
    "ExecuteTime": {
     "end_time": "2020-02-21T10:15:20.132604Z",
     "start_time": "2020-02-21T10:15:19.921854Z"
    }
   },
   "outputs": [
    {
     "data": {
      "text/html": [
       "\n",
       "\n",
       "\n",
       "\n",
       "\n",
       "\n",
       "  <div class=\"bk-root\" id=\"edf392c5-084f-4127-b58e-3e20d6fc1509\" data-root-id=\"6799\"></div>\n"
      ]
     },
     "metadata": {},
     "output_type": "display_data"
    },
    {
     "data": {
      "application/javascript": [
       "(function(root) {\n",
       "  function embed_document(root) {\n",
       "    \n",
       "  var docs_json = {\"4d943a33-aacb-4cbd-8956-43f00b775fc1\":{\"roots\":{\"references\":[{\"attributes\":{\"below\":[{\"id\":\"6808\",\"type\":\"DatetimeAxis\"}],\"center\":[{\"id\":\"6812\",\"type\":\"Grid\"},{\"id\":\"6817\",\"type\":\"Grid\"},{\"id\":\"6855\",\"type\":\"Legend\"}],\"left\":[{\"id\":\"6813\",\"type\":\"LinearAxis\"}],\"plot_height\":400,\"plot_width\":800,\"renderers\":[{\"id\":\"6834\",\"type\":\"GlyphRenderer\"},{\"id\":\"6860\",\"type\":\"GlyphRenderer\"},{\"id\":\"6887\",\"type\":\"GlyphRenderer\"},{\"id\":\"6916\",\"type\":\"GlyphRenderer\"},{\"id\":\"6947\",\"type\":\"GlyphRenderer\"}],\"title\":{\"id\":\"6836\",\"type\":\"Title\"},\"toolbar\":{\"id\":\"6824\",\"type\":\"Toolbar\"},\"x_range\":{\"id\":\"6800\",\"type\":\"DataRange1d\"},\"x_scale\":{\"id\":\"6804\",\"type\":\"LinearScale\"},\"y_range\":{\"id\":\"6802\",\"type\":\"DataRange1d\"},\"y_scale\":{\"id\":\"6806\",\"type\":\"LinearScale\"}},\"id\":\"6799\",\"subtype\":\"Figure\",\"type\":\"Plot\"},{\"attributes\":{},\"id\":\"6882\",\"type\":\"Selection\"},{\"attributes\":{\"label\":{\"value\":\"Weather and holidays\"},\"renderers\":[{\"id\":\"6860\",\"type\":\"GlyphRenderer\"}]},\"id\":\"6883\",\"type\":\"LegendItem\"},{\"attributes\":{\"source\":{\"id\":\"6831\",\"type\":\"ColumnDataSource\"}},\"id\":\"6835\",\"type\":\"CDSView\"},{\"attributes\":{\"line_color\":\"#e6f598\",\"line_width\":2,\"x\":{\"field\":\"x\"},\"y\":{\"field\":\"y\"}},\"id\":\"6885\",\"type\":\"Line\"},{\"attributes\":{},\"id\":\"6941\",\"type\":\"UnionRenderers\"},{\"attributes\":{\"callback\":null,\"data\":{\"x\":{\"__ndarray__\":\"AACgiHPldEIAAIj3duV0QgAAcGZ65XRCAABY1X3ldEIAAEBEgeV0QgAAKLOE5XRCAAAQIojldEIAAPiQi+V0QgAA4P+O5XRCAADIbpLldEIAALDdleV0QgAAmEyZ5XRCAACAu5zldEIAAGgqoOV0QgAAUJmj5XRCAAA4CKfldEIAACB3quV0QgAACOat5XRCAADwVLHldEIAANjDtOV0QgAAwDK45XRCAACoobvldEIAAJAQv+V0QgAAeH/C5XRCAABg7sXldEIAAEhdyeV0QgAAMMzM5XRCAAAYO9DldEIAAACq0+V0QgAA6BjX5XRCAADQh9rldEIAALj23eV0QgAAoGXh5XRCAACI1OTldEIAAHBD6OV0QgAAWLLr5XRCAABAIe/ldEIAACiQ8uV0QgAAEP/15XRCAAD4bfnldEIAAODc/OV0QgAAyEsA5nRCAACwugPmdEIAAJgpB+Z0QgAAgJgK5nRCAABoBw7mdEIAAFB2EeZ0QgAAOOUU5nRC\",\"dtype\":\"float64\",\"shape\":[48]},\"y\":{\"__ndarray__\":\"mpmZmZlJfEAzMzMzMzt5QM3MzMzMPHRAAAAAAACAcEAzMzMzM6NqQJqZmZmZuWJAzczMzMxMUUDNzMzMzPxQQM3MzMzM7FNAmpmZmZnZWkBmZmZmZkZmQBc1WXYLv3RAMzMzMzPXcECYpL0pQhl8QFpyoePLAH9AMzMzMzOXdEBmZmZmZp5zQGZmZmZmjnVAmpmZmZmhdkAzMzMzM5d4QM3MzMzMYHdAAAAAAABEdUAzMzMzM/NzQJqZmZmZ4XlAmpmZmZnBeUAAAAAAAJR2QAAAAAAA9HJA3lEC9Sf+ZEAItb+2ex9fQCbMrIuGrlJAFhaM6GwTTUCaY0TjYclUQPMeUn+ar2BAuyUj/EDZZ0Dgm0eMsKdvQE4fWivl0nRAmaNINSf4dkByYg15HfV3QKZ4f6bmWnhAl+AAbWZgeUAoEIj417t5QL0WzwFoZ3xASMxyf84jfkBaEpiA8Fp+QONb2qdoWHxACuVSk0ONeUAelWrSxJp7QDW21PKAIHdA\",\"dtype\":\"float64\",\"shape\":[48]}},\"selected\":{\"id\":\"6975\",\"type\":\"Selection\"},\"selection_policy\":{\"id\":\"6974\",\"type\":\"UnionRenderers\"}},\"id\":\"6913\",\"type\":\"ColumnDataSource\"},{\"attributes\":{},\"id\":\"6974\",\"type\":\"UnionRenderers\"},{\"attributes\":{\"data_source\":{\"id\":\"6913\",\"type\":\"ColumnDataSource\"},\"glyph\":{\"id\":\"6914\",\"type\":\"Line\"},\"hover_glyph\":null,\"muted_glyph\":null,\"nonselection_glyph\":{\"id\":\"6915\",\"type\":\"Line\"},\"selection_glyph\":null,\"view\":{\"id\":\"6917\",\"type\":\"CDSView\"}},\"id\":\"6916\",\"type\":\"GlyphRenderer\"},{\"attributes\":{\"label\":{\"value\":\"EIA no external variables\"},\"renderers\":[{\"id\":\"6887\",\"type\":\"GlyphRenderer\"}]},\"id\":\"6912\",\"type\":\"LegendItem\"},{\"attributes\":{},\"id\":\"6881\",\"type\":\"UnionRenderers\"},{\"attributes\":{\"label\":{\"value\":\"Real demand\"},\"renderers\":[{\"id\":\"6947\",\"type\":\"GlyphRenderer\"}]},\"id\":\"6976\",\"type\":\"LegendItem\"},{\"attributes\":{},\"id\":\"6818\",\"type\":\"PanTool\"},{\"attributes\":{\"overlay\":{\"id\":\"6854\",\"type\":\"BoxAnnotation\"}},\"id\":\"6820\",\"type\":\"BoxZoomTool\"},{\"attributes\":{\"months\":[0,2,4,6,8,10]},\"id\":\"6850\",\"type\":\"MonthsTicker\"},{\"attributes\":{},\"id\":\"6819\",\"type\":\"WheelZoomTool\"},{\"attributes\":{\"months\":[0,4,8]},\"id\":\"6851\",\"type\":\"MonthsTicker\"},{\"attributes\":{},\"id\":\"6975\",\"type\":\"Selection\"},{\"attributes\":{\"text\":\"4th of July\"},\"id\":\"6836\",\"type\":\"Title\"},{\"attributes\":{\"data_source\":{\"id\":\"6944\",\"type\":\"ColumnDataSource\"},\"glyph\":{\"id\":\"6945\",\"type\":\"Line\"},\"hover_glyph\":null,\"muted_glyph\":null,\"nonselection_glyph\":{\"id\":\"6946\",\"type\":\"Line\"},\"selection_glyph\":null,\"view\":{\"id\":\"6948\",\"type\":\"CDSView\"}},\"id\":\"6947\",\"type\":\"GlyphRenderer\"},{\"attributes\":{\"line_color\":\"#66c2a5\",\"line_width\":2,\"x\":{\"field\":\"x\"},\"y\":{\"field\":\"y\"}},\"id\":\"6858\",\"type\":\"Line\"},{\"attributes\":{\"line_alpha\":0.1,\"line_color\":\"#1f77b4\",\"line_width\":2,\"x\":{\"field\":\"x\"},\"y\":{\"field\":\"y\"}},\"id\":\"6886\",\"type\":\"Line\"},{\"attributes\":{\"callback\":null},\"id\":\"6802\",\"type\":\"DataRange1d\"},{\"attributes\":{\"callback\":null,\"data\":{\"x\":{\"__ndarray__\":\"AACgiHPldEIAAIj3duV0QgAAcGZ65XRCAABY1X3ldEIAAEBEgeV0QgAAKLOE5XRCAAAQIojldEIAAPiQi+V0QgAA4P+O5XRCAADIbpLldEIAALDdleV0QgAAmEyZ5XRCAACAu5zldEIAAGgqoOV0QgAAUJmj5XRCAAA4CKfldEIAACB3quV0QgAACOat5XRCAADwVLHldEIAANjDtOV0QgAAwDK45XRCAACoobvldEIAAJAQv+V0QgAAeH/C5XRCAABg7sXldEIAAEhdyeV0QgAAMMzM5XRCAAAYO9DldEIAAACq0+V0QgAA6BjX5XRCAADQh9rldEIAALj23eV0QgAAoGXh5XRCAACI1OTldEIAAHBD6OV0QgAAWLLr5XRCAABAIe/ldEIAACiQ8uV0QgAAEP/15XRCAAD4bfnldEIAAODc/OV0QgAAyEsA5nRCAACwugPmdEIAAJgpB+Z0QgAAgJgK5nRCAABoBw7mdEIAAFB2EeZ0QgAAOOUU5nRC\",\"dtype\":\"float64\",\"shape\":[48]},\"y\":{\"__ndarray__\":\"07fWQSr6eUAJ5MdYGzB1QETknhcn5HBAYqeA/NvAaUCIFoqkdo1iQDYuQeMzh1VAEgcFsNTVUUC6kkpgjORWQJ5FITjAc15A0kKdj6PFZECmDP1YXh1uQOnMvcYuAnJAPjeOwjkCc0D+b1Or5Gh2QJQqGbwSsnhALi9ETKK7dUCOTbmC9T90QEcrfN0FDHdA7kbiR/95eEASzGGbe455QBVauMhqZnZApzs+98wodkAuPltQEJ52QJqZmZmZ4XlAiJQRPDsYd0C5hJmB0HxzQHJeN5UnM29AvG12onFvZkCzrMqBDsRcQPMYrE+k0ExAwkUhwQvTSkBzfRk6JnhUQJggW4R5fWBAcnRofCcBaUDgcFfIoZtwQGLS36LTOHVAs34YMsTFd0Cyf2kCZOV4QPjkOkn1bXlAp/poyPNleUDV3ymDXMV4QOKxD2J8gXpAsG2PmHy1fEBeQWpi1d98QBLPtJiSj3tAO0/k4GCyeUA+zF1uwrx8QJ8zGTgOQ3hA\",\"dtype\":\"float64\",\"shape\":[48]}},\"selected\":{\"id\":\"6942\",\"type\":\"Selection\"},\"selection_policy\":{\"id\":\"6941\",\"type\":\"UnionRenderers\"}},\"id\":\"6884\",\"type\":\"ColumnDataSource\"},{\"attributes\":{\"months\":[0,6]},\"id\":\"6852\",\"type\":\"MonthsTicker\"},{\"attributes\":{\"click_policy\":\"hide\",\"items\":[{\"id\":\"6856\",\"type\":\"LegendItem\"},{\"id\":\"6883\",\"type\":\"LegendItem\"},{\"id\":\"6912\",\"type\":\"LegendItem\"},{\"id\":\"6943\",\"type\":\"LegendItem\"},{\"id\":\"6976\",\"type\":\"LegendItem\"}],\"location\":\"bottom_left\"},\"id\":\"6855\",\"type\":\"Legend\"},{\"attributes\":{\"line_color\":\"#3288bd\",\"line_width\":2,\"x\":{\"field\":\"x\"},\"y\":{\"field\":\"y\"}},\"id\":\"6832\",\"type\":\"Line\"},{\"attributes\":{\"source\":{\"id\":\"6913\",\"type\":\"ColumnDataSource\"}},\"id\":\"6917\",\"type\":\"CDSView\"},{\"attributes\":{},\"id\":\"6853\",\"type\":\"YearsTicker\"},{\"attributes\":{},\"id\":\"6838\",\"type\":\"DatetimeTickFormatter\"},{\"attributes\":{},\"id\":\"6804\",\"type\":\"LinearScale\"},{\"attributes\":{\"mantissas\":[1,2,5],\"max_interval\":500.0,\"num_minor_ticks\":0},\"id\":\"6842\",\"type\":\"AdaptiveTicker\"},{\"attributes\":{\"bottom_units\":\"screen\",\"fill_alpha\":{\"value\":0.5},\"fill_color\":{\"value\":\"lightgrey\"},\"left_units\":\"screen\",\"level\":\"overlay\",\"line_alpha\":{\"value\":1.0},\"line_color\":{\"value\":\"black\"},\"line_dash\":[4,4],\"line_width\":{\"value\":2},\"render_mode\":\"css\",\"right_units\":\"screen\",\"top_units\":\"screen\"},\"id\":\"6854\",\"type\":\"BoxAnnotation\"},{\"attributes\":{\"label\":{\"value\":\"EIA weather and holidays\"},\"renderers\":[{\"id\":\"6916\",\"type\":\"GlyphRenderer\"}]},\"id\":\"6943\",\"type\":\"LegendItem\"},{\"attributes\":{},\"id\":\"7325\",\"type\":\"Selection\"},{\"attributes\":{\"line_alpha\":0.1,\"line_color\":\"#1f77b4\",\"line_width\":2,\"x\":{\"field\":\"x\"},\"y\":{\"field\":\"y\"}},\"id\":\"6833\",\"type\":\"Line\"},{\"attributes\":{\"line_alpha\":0.1,\"line_color\":\"#1f77b4\",\"line_width\":2,\"x\":{\"field\":\"x\"},\"y\":{\"field\":\"y\"}},\"id\":\"6915\",\"type\":\"Line\"},{\"attributes\":{\"months\":[0,1,2,3,4,5,6,7,8,9,10,11]},\"id\":\"6849\",\"type\":\"MonthsTicker\"},{\"attributes\":{},\"id\":\"6823\",\"type\":\"HelpTool\"},{\"attributes\":{\"source\":{\"id\":\"6884\",\"type\":\"ColumnDataSource\"}},\"id\":\"6888\",\"type\":\"CDSView\"},{\"attributes\":{},\"id\":\"6840\",\"type\":\"BasicTickFormatter\"},{\"attributes\":{\"data_source\":{\"id\":\"6857\",\"type\":\"ColumnDataSource\"},\"glyph\":{\"id\":\"6858\",\"type\":\"Line\"},\"hover_glyph\":null,\"muted_glyph\":null,\"nonselection_glyph\":{\"id\":\"6859\",\"type\":\"Line\"},\"selection_glyph\":null,\"view\":{\"id\":\"6861\",\"type\":\"CDSView\"}},\"id\":\"6860\",\"type\":\"GlyphRenderer\"},{\"attributes\":{},\"id\":\"6806\",\"type\":\"LinearScale\"},{\"attributes\":{\"line_color\":\"#d53e4f\",\"line_width\":2,\"x\":{\"field\":\"x\"},\"y\":{\"field\":\"y\"}},\"id\":\"6945\",\"type\":\"Line\"},{\"attributes\":{\"line_alpha\":0.1,\"line_color\":\"#1f77b4\",\"line_width\":2,\"x\":{\"field\":\"x\"},\"y\":{\"field\":\"y\"}},\"id\":\"6946\",\"type\":\"Line\"},{\"attributes\":{\"formatter\":{\"id\":\"6838\",\"type\":\"DatetimeTickFormatter\"},\"ticker\":{\"id\":\"6809\",\"type\":\"DatetimeTicker\"}},\"id\":\"6808\",\"type\":\"DatetimeAxis\"},{\"attributes\":{},\"id\":\"6821\",\"type\":\"SaveTool\"},{\"attributes\":{\"line_color\":\"#fdae61\",\"line_width\":2,\"x\":{\"field\":\"x\"},\"y\":{\"field\":\"y\"}},\"id\":\"6914\",\"type\":\"Line\"},{\"attributes\":{\"dimension\":1,\"ticker\":{\"id\":\"6814\",\"type\":\"BasicTicker\"}},\"id\":\"6817\",\"type\":\"Grid\"},{\"attributes\":{\"callback\":null,\"data\":{\"x\":{\"__ndarray__\":\"AACgiHPldEIAAIj3duV0QgAAcGZ65XRCAABY1X3ldEIAAEBEgeV0QgAAKLOE5XRCAAAQIojldEIAAPiQi+V0QgAA4P+O5XRCAADIbpLldEIAALDdleV0QgAAmEyZ5XRCAACAu5zldEIAAGgqoOV0QgAAUJmj5XRCAAA4CKfldEIAACB3quV0QgAACOat5XRCAADwVLHldEIAANjDtOV0QgAAwDK45XRCAACoobvldEIAAJAQv+V0QgAAeH/C5XRCAABg7sXldEIAAEhdyeV0QgAAMMzM5XRCAAAYO9DldEIAAACq0+V0QgAA6BjX5XRCAADQh9rldEIAALj23eV0QgAAoGXh5XRCAACI1OTldEIAAHBD6OV0QgAAWLLr5XRCAABAIe/ldEIAACiQ8uV0QgAAEP/15XRCAAD4bfnldEIAAODc/OV0QgAAyEsA5nRCAACwugPmdEIAAJgpB+Z0QgAAgJgK5nRCAABoBw7mdEIAAFB2EeZ0QgAAOOUU5nRC\",\"dtype\":\"float64\",\"shape\":[48]},\"y\":{\"__ndarray__\":\"q40MBW/Jf0CDwHY6DLh6QPYYvIrJ5HRAVlefXn/Zb0CtgwysvrlnQKxTQCeE42BAmFf9bi1SV0AeRKA+9SddQFre5Wt0IGRAqjaeDoJRakBtiYva/JtxQBc1WXYLv3RA2ymlgHPudkCYpL0pQhl8QFpyoePLAH9A89nW0deXe0CrA11x9hF6QBLh0lfJZntA5fSrKy8IfEA4IzKdihh9QKIAaZSOa3xAlj8G5ABBfECQYhoQmjR8QMY6rqxXcH9AslZrwvxidkCf4eEaf85yQA6luC5kh21A3lEC9Sf+ZEAItb+2ex9fQCbMrIuGrlJAFhaM6GwTTUCaY0TjYclUQPMeUn+ar2BAuyUj/EDZZ0Dgm0eMsKdvQE4fWivl0nRAmaNINSf4dkByYg15HfV3QKZ4f6bmWnhAl+AAbWZgeUAoEIj417t5QL0WzwFoZ3xASMxyf84jfkBaEpiA8Fp+QONb2qdoWHxACuVSk0ONeUAelWrSxJp7QDW21PKAIHdA\",\"dtype\":\"float64\",\"shape\":[48]}},\"selected\":{\"id\":\"6911\",\"type\":\"Selection\"},\"selection_policy\":{\"id\":\"6910\",\"type\":\"UnionRenderers\"}},\"id\":\"6857\",\"type\":\"ColumnDataSource\"},{\"attributes\":{\"base\":24,\"mantissas\":[1,2,4,6,8,12],\"max_interval\":43200000.0,\"min_interval\":3600000.0,\"num_minor_ticks\":0},\"id\":\"6844\",\"type\":\"AdaptiveTicker\"},{\"attributes\":{\"days\":[1,15]},\"id\":\"6848\",\"type\":\"DaysTicker\"},{\"attributes\":{\"callback\":null},\"id\":\"6800\",\"type\":\"DataRange1d\"},{\"attributes\":{\"num_minor_ticks\":5,\"tickers\":[{\"id\":\"6842\",\"type\":\"AdaptiveTicker\"},{\"id\":\"6843\",\"type\":\"AdaptiveTicker\"},{\"id\":\"6844\",\"type\":\"AdaptiveTicker\"},{\"id\":\"6845\",\"type\":\"DaysTicker\"},{\"id\":\"6846\",\"type\":\"DaysTicker\"},{\"id\":\"6847\",\"type\":\"DaysTicker\"},{\"id\":\"6848\",\"type\":\"DaysTicker\"},{\"id\":\"6849\",\"type\":\"MonthsTicker\"},{\"id\":\"6850\",\"type\":\"MonthsTicker\"},{\"id\":\"6851\",\"type\":\"MonthsTicker\"},{\"id\":\"6852\",\"type\":\"MonthsTicker\"},{\"id\":\"6853\",\"type\":\"YearsTicker\"}]},\"id\":\"6809\",\"type\":\"DatetimeTicker\"},{\"attributes\":{\"base\":60,\"mantissas\":[1,2,5,10,15,20,30],\"max_interval\":1800000.0,\"min_interval\":1000.0,\"num_minor_ticks\":0},\"id\":\"6843\",\"type\":\"AdaptiveTicker\"},{\"attributes\":{\"active_drag\":\"auto\",\"active_inspect\":\"auto\",\"active_multi\":null,\"active_scroll\":\"auto\",\"active_tap\":\"auto\",\"tools\":[{\"id\":\"6818\",\"type\":\"PanTool\"},{\"id\":\"6819\",\"type\":\"WheelZoomTool\"},{\"id\":\"6820\",\"type\":\"BoxZoomTool\"},{\"id\":\"6821\",\"type\":\"SaveTool\"},{\"id\":\"6822\",\"type\":\"ResetTool\"},{\"id\":\"6823\",\"type\":\"HelpTool\"}]},\"id\":\"6824\",\"type\":\"Toolbar\"},{\"attributes\":{\"ticker\":{\"id\":\"6809\",\"type\":\"DatetimeTicker\"}},\"id\":\"6812\",\"type\":\"Grid\"},{\"attributes\":{\"callback\":null,\"data\":{\"x\":{\"__ndarray__\":\"AACgiHPldEIAAIj3duV0QgAAcGZ65XRCAABY1X3ldEIAAEBEgeV0QgAAKLOE5XRCAAAQIojldEIAAPiQi+V0QgAA4P+O5XRCAADIbpLldEIAALDdleV0QgAAmEyZ5XRCAACAu5zldEIAAGgqoOV0QgAAUJmj5XRCAAA4CKfldEIAACB3quV0QgAACOat5XRCAADwVLHldEIAANjDtOV0QgAAwDK45XRCAACoobvldEIAAJAQv+V0QgAAeH/C5XRCAABg7sXldEIAAEhdyeV0QgAAMMzM5XRCAAAYO9DldEIAAACq0+V0QgAA6BjX5XRCAADQh9rldEIAALj23eV0QgAAoGXh5XRCAACI1OTldEIAAHBD6OV0QgAAWLLr5XRCAABAIe/ldEIAACiQ8uV0QgAAEP/15XRCAAD4bfnldEIAAODc/OV0QgAAyEsA5nRCAACwugPmdEIAAJgpB+Z0QgAAgJgK5nRCAABoBw7mdEIAAFB2EeZ0QgAAOOUU5nRC\",\"dtype\":\"float64\",\"shape\":[48]},\"y\":{\"__ndarray__\":\"07fWQSr6eUAJ5MdYGzB1QETknhcn5HBAYqeA/NvAaUCIFoqkdo1iQDYuQeMzh1VAEgcFsNTVUUC6kkpgjORWQJ5FITjAc15A0kKdj6PFZECmDP1YXh1uQOnMvcYuAnJAPjeOwjkCc0D+b1Or5Gh2QJQqGbwSsnhALi9ETKK7dUCOTbmC9T90QEcrfN0FDHdA7kbiR/95eEASzGGbe455QBVauMhqZnZApzs+98wodkAuPltQEJ52QGEyS738GnlAiJQRPDsYd0C5hJmB0HxzQHJeN5UnM29AvG12onFvZkCzrMqBDsRcQPMYrE+k0ExAwkUhwQvTSkBzfRk6JnhUQJggW4R5fWBAcnRofCcBaUDgcFfIoZtwQGLS36LTOHVAs34YMsTFd0Cyf2kCZOV4QPjkOkn1bXlAp/poyPNleUDV3ymDXMV4QOKxD2J8gXpAsG2PmHy1fEBeQWpi1d98QBLPtJiSj3tAO0/k4GCyeUA+zF1uwrx8QJ8zGTgOQ3hA\",\"dtype\":\"float64\",\"shape\":[48]}},\"selected\":{\"id\":\"6882\",\"type\":\"Selection\"},\"selection_policy\":{\"id\":\"6881\",\"type\":\"UnionRenderers\"}},\"id\":\"6831\",\"type\":\"ColumnDataSource\"},{\"attributes\":{\"callback\":null,\"data\":{\"x\":{\"__ndarray__\":\"AACgiHPldEIAAIj3duV0QgAAcGZ65XRCAABY1X3ldEIAAEBEgeV0QgAAKLOE5XRCAAAQIojldEIAAPiQi+V0QgAA4P+O5XRCAADIbpLldEIAALDdleV0QgAAmEyZ5XRCAACAu5zldEIAAGgqoOV0QgAAUJmj5XRCAAA4CKfldEIAACB3quV0QgAACOat5XRCAADwVLHldEIAANjDtOV0QgAAwDK45XRCAACoobvldEIAAJAQv+V0QgAAeH/C5XRCAABg7sXldEIAAEhdyeV0QgAAMMzM5XRCAAAYO9DldEIAAACq0+V0QgAA6BjX5XRCAADQh9rldEIAALj23eV0QgAAoGXh5XRCAACI1OTldEIAAHBD6OV0QgAAWLLr5XRCAABAIe/ldEIAACiQ8uV0QgAAEP/15XRCAAD4bfnldEIAAODc/OV0QgAAyEsA5nRCAACwugPmdEIAAJgpB+Z0QgAAgJgK5nRCAABoBw7mdEIAAFB2EeZ0QgAAOOUU5nRC\",\"dtype\":\"float64\",\"shape\":[48]},\"y\":{\"__ndarray__\":\"MzMzMzM7eUDNzMzMzDx0QAAAAAAAgHBAMzMzMzOjakCamZmZmbliQM3MzMzMTFFAzczMzMz8UEDNzMzMzOxTQJqZmZmZ2VpAZmZmZmZGZkBmZmZmZpZtQDMzMzMz13BAmpmZmZlldkCamZmZmWV5QDMzMzMzl3RAZmZmZmaec0BmZmZmZo51QJqZmZmZoXZAMzMzMzOXeEDNzMzMzGB3QAAAAAAARHVAMzMzMzPzc0CamZmZmeF5QJqZmZmZwXlAAAAAAACUdkAAAAAAAPRyQM3MzMzM/GxAmpmZmZlZZkAAAAAAALhgQDMzMzMzo1FAzczMzMwcUUAAAAAAADBXQJqZmZmZsWBAAAAAAABAaEAzMzMzMxdyQJqZmZmZPXVAAAAAAADQd0CamZmZmeV4QAAAAAAAzHpAzczMzMwkekAAAAAAAAR7QDMzMzMzj31AAAAAAACcf0AAAAAAAGR+QAAAAAAA9HhAAAAAAADcfkCamZmZmaF7QJqZmZmZYXZA\",\"dtype\":\"float64\",\"shape\":[48]}},\"selected\":{\"id\":\"7325\",\"type\":\"Selection\"},\"selection_policy\":{\"id\":\"7324\",\"type\":\"UnionRenderers\"}},\"id\":\"6944\",\"type\":\"ColumnDataSource\"},{\"attributes\":{},\"id\":\"6910\",\"type\":\"UnionRenderers\"},{\"attributes\":{},\"id\":\"6942\",\"type\":\"Selection\"},{\"attributes\":{},\"id\":\"6814\",\"type\":\"BasicTicker\"},{\"attributes\":{\"days\":[1,2,3,4,5,6,7,8,9,10,11,12,13,14,15,16,17,18,19,20,21,22,23,24,25,26,27,28,29,30,31]},\"id\":\"6845\",\"type\":\"DaysTicker\"},{\"attributes\":{\"axis_label\":\"Predictions\",\"formatter\":{\"id\":\"6840\",\"type\":\"BasicTickFormatter\"},\"ticker\":{\"id\":\"6814\",\"type\":\"BasicTicker\"}},\"id\":\"6813\",\"type\":\"LinearAxis\"},{\"attributes\":{\"line_alpha\":0.1,\"line_color\":\"#1f77b4\",\"line_width\":2,\"x\":{\"field\":\"x\"},\"y\":{\"field\":\"y\"}},\"id\":\"6859\",\"type\":\"Line\"},{\"attributes\":{\"source\":{\"id\":\"6944\",\"type\":\"ColumnDataSource\"}},\"id\":\"6948\",\"type\":\"CDSView\"},{\"attributes\":{\"days\":[1,4,7,10,13,16,19,22,25,28]},\"id\":\"6846\",\"type\":\"DaysTicker\"},{\"attributes\":{},\"id\":\"6911\",\"type\":\"Selection\"},{\"attributes\":{\"data_source\":{\"id\":\"6884\",\"type\":\"ColumnDataSource\"},\"glyph\":{\"id\":\"6885\",\"type\":\"Line\"},\"hover_glyph\":null,\"muted_glyph\":null,\"nonselection_glyph\":{\"id\":\"6886\",\"type\":\"Line\"},\"selection_glyph\":null,\"view\":{\"id\":\"6888\",\"type\":\"CDSView\"}},\"id\":\"6887\",\"type\":\"GlyphRenderer\"},{\"attributes\":{\"label\":{\"value\":\"No external variables\"},\"renderers\":[{\"id\":\"6834\",\"type\":\"GlyphRenderer\"}]},\"id\":\"6856\",\"type\":\"LegendItem\"},{\"attributes\":{},\"id\":\"6822\",\"type\":\"ResetTool\"},{\"attributes\":{\"days\":[1,8,15,22]},\"id\":\"6847\",\"type\":\"DaysTicker\"},{\"attributes\":{},\"id\":\"7324\",\"type\":\"UnionRenderers\"},{\"attributes\":{\"source\":{\"id\":\"6857\",\"type\":\"ColumnDataSource\"}},\"id\":\"6861\",\"type\":\"CDSView\"},{\"attributes\":{\"data_source\":{\"id\":\"6831\",\"type\":\"ColumnDataSource\"},\"glyph\":{\"id\":\"6832\",\"type\":\"Line\"},\"hover_glyph\":null,\"muted_glyph\":null,\"nonselection_glyph\":{\"id\":\"6833\",\"type\":\"Line\"},\"selection_glyph\":null,\"view\":{\"id\":\"6835\",\"type\":\"CDSView\"}},\"id\":\"6834\",\"type\":\"GlyphRenderer\"}],\"root_ids\":[\"6799\"]},\"title\":\"Bokeh Application\",\"version\":\"1.4.0\"}};\n",
       "  var render_items = [{\"docid\":\"4d943a33-aacb-4cbd-8956-43f00b775fc1\",\"roots\":{\"6799\":\"edf392c5-084f-4127-b58e-3e20d6fc1509\"}}];\n",
       "  root.Bokeh.embed.embed_items_notebook(docs_json, render_items);\n",
       "\n",
       "  }\n",
       "  if (root.Bokeh !== undefined) {\n",
       "    embed_document(root);\n",
       "  } else {\n",
       "    var attempts = 0;\n",
       "    var timer = setInterval(function(root) {\n",
       "      if (root.Bokeh !== undefined) {\n",
       "        clearInterval(timer);\n",
       "        embed_document(root);\n",
       "      } else {\n",
       "        attempts++;\n",
       "        if (attempts > 100) {\n",
       "          clearInterval(timer);\n",
       "          console.log(\"Bokeh: ERROR: Unable to run BokehJS code because BokehJS library is missing\");\n",
       "        }\n",
       "      }\n",
       "    }, 10, root)\n",
       "  }\n",
       "})(window);"
      ],
      "application/vnd.bokehjs_exec.v0+json": ""
     },
     "metadata": {
      "application/vnd.bokehjs_exec.v0+json": {
       "id": "6799"
      }
     },
     "output_type": "display_data"
    }
   ],
   "source": [
    "s = slice('2015-07-04', '2015-07-05')\n",
    "\n",
    "p = figure(plot_width=800, plot_height=400, x_axis_type='datetime')\n",
    "p.line(x = pred_ne[s].index, y=pred_ne[s], line_width=2, legend_label='No external variables', color = Spectral8[0])\n",
    "p.line(x = pred_w_h[s].index, y=pred_w_h[s], line_width=2, legend_label='Weather and holidays', color = Spectral8[1])\n",
    "p.line(x = eia_ne[s].index, y=eia_ne[s], line_width=2, legend_label='EIA no external variables', color = Spectral8[3])\n",
    "p.line(x = eia_w_h[s].index, y=eia_w_h[s], line_width=2, legend_label='EIA weather and holidays', color = Spectral8[5])\n",
    "p.line(x = real[s].index, y=real[s], line_width=2, legend_label='Real demand', color = Spectral8[7])\n",
    "\n",
    "p.yaxis.axis_label = 'Predictions'\n",
    "p.title.text = '4th of July'\n",
    "p.legend.location = 'bottom_left'\n",
    "p.legend.click_policy=\"hide\"\n",
    "\n",
    "show(p)"
   ]
  },
  {
   "cell_type": "code",
   "execution_count": 33,
   "metadata": {
    "ExecuteTime": {
     "end_time": "2020-02-21T10:15:43.023704Z",
     "start_time": "2020-02-21T10:15:42.806660Z"
    }
   },
   "outputs": [
    {
     "data": {
      "text/html": [
       "\n",
       "\n",
       "\n",
       "\n",
       "\n",
       "\n",
       "  <div class=\"bk-root\" id=\"c511e74d-a18a-445e-8121-d59db9d397cc\" data-root-id=\"7500\"></div>\n"
      ]
     },
     "metadata": {},
     "output_type": "display_data"
    },
    {
     "data": {
      "application/javascript": [
       "(function(root) {\n",
       "  function embed_document(root) {\n",
       "    \n",
       "  var docs_json = {\"89bb1ede-dab2-458d-ae48-5ec06cebbc65\":{\"roots\":{\"references\":[{\"attributes\":{\"below\":[{\"id\":\"7509\",\"type\":\"DatetimeAxis\"}],\"center\":[{\"id\":\"7513\",\"type\":\"Grid\"},{\"id\":\"7518\",\"type\":\"Grid\"},{\"id\":\"7556\",\"type\":\"Legend\"}],\"left\":[{\"id\":\"7514\",\"type\":\"LinearAxis\"}],\"plot_height\":400,\"plot_width\":800,\"renderers\":[{\"id\":\"7535\",\"type\":\"GlyphRenderer\"},{\"id\":\"7561\",\"type\":\"GlyphRenderer\"},{\"id\":\"7588\",\"type\":\"GlyphRenderer\"},{\"id\":\"7617\",\"type\":\"GlyphRenderer\"},{\"id\":\"7648\",\"type\":\"GlyphRenderer\"}],\"title\":{\"id\":\"7537\",\"type\":\"Title\"},\"toolbar\":{\"id\":\"7525\",\"type\":\"Toolbar\"},\"x_range\":{\"id\":\"7501\",\"type\":\"DataRange1d\"},\"x_scale\":{\"id\":\"7505\",\"type\":\"LinearScale\"},\"y_range\":{\"id\":\"7503\",\"type\":\"DataRange1d\"},\"y_scale\":{\"id\":\"7507\",\"type\":\"LinearScale\"}},\"id\":\"7500\",\"subtype\":\"Figure\",\"type\":\"Plot\"},{\"attributes\":{\"ticker\":{\"id\":\"7510\",\"type\":\"DatetimeTicker\"}},\"id\":\"7513\",\"type\":\"Grid\"},{\"attributes\":{},\"id\":\"7515\",\"type\":\"BasicTicker\"},{\"attributes\":{\"axis_label\":\"Predictions\",\"formatter\":{\"id\":\"7541\",\"type\":\"BasicTickFormatter\"},\"ticker\":{\"id\":\"7515\",\"type\":\"BasicTicker\"}},\"id\":\"7514\",\"type\":\"LinearAxis\"},{\"attributes\":{},\"id\":\"7582\",\"type\":\"UnionRenderers\"},{\"attributes\":{},\"id\":\"7675\",\"type\":\"UnionRenderers\"},{\"attributes\":{},\"id\":\"7524\",\"type\":\"HelpTool\"},{\"attributes\":{\"line_alpha\":0.1,\"line_color\":\"#1f77b4\",\"line_width\":2,\"x\":{\"field\":\"x\"},\"y\":{\"field\":\"y\"}},\"id\":\"7647\",\"type\":\"Line\"},{\"attributes\":{\"days\":[1,2,3,4,5,6,7,8,9,10,11,12,13,14,15,16,17,18,19,20,21,22,23,24,25,26,27,28,29,30,31]},\"id\":\"7546\",\"type\":\"DaysTicker\"},{\"attributes\":{},\"id\":\"7583\",\"type\":\"Selection\"},{\"attributes\":{\"label\":{\"value\":\"Real demand\"},\"renderers\":[{\"id\":\"7648\",\"type\":\"GlyphRenderer\"}]},\"id\":\"7677\",\"type\":\"LegendItem\"},{\"attributes\":{\"days\":[1,4,7,10,13,16,19,22,25,28]},\"id\":\"7547\",\"type\":\"DaysTicker\"},{\"attributes\":{\"data_source\":{\"id\":\"7614\",\"type\":\"ColumnDataSource\"},\"glyph\":{\"id\":\"7615\",\"type\":\"Line\"},\"hover_glyph\":null,\"muted_glyph\":null,\"nonselection_glyph\":{\"id\":\"7616\",\"type\":\"Line\"},\"selection_glyph\":null,\"view\":{\"id\":\"7618\",\"type\":\"CDSView\"}},\"id\":\"7617\",\"type\":\"GlyphRenderer\"},{\"attributes\":{\"line_alpha\":0.1,\"line_color\":\"#1f77b4\",\"line_width\":2,\"x\":{\"field\":\"x\"},\"y\":{\"field\":\"y\"}},\"id\":\"7560\",\"type\":\"Line\"},{\"attributes\":{\"callback\":null,\"data\":{\"x\":{\"__ndarray__\":\"AAAgAUFbdUIAAAhwRFt1QgAA8N5HW3VCAADYTUtbdUIAAMC8Tlt1QgAAqCtSW3VCAACQmlVbdUIAAHgJWVt1QgAAYHhcW3VCAABI519bdUIAADBWY1t1QgAAGMVmW3VCAAAANGpbdUIAAOiibVt1QgAA0BFxW3VCAAC4gHRbdUIAAKDvd1t1QgAAiF57W3VCAABwzX5bdUIAAFg8glt1QgAAQKuFW3VCAAAoGolbdUIAABCJjFt1QgAA+PePW3VCAADgZpNbdUIAAMjVllt1QgAAsESaW3VCAACYs51bdUIAAIAioVt1QgAAaJGkW3VCAABQAKhbdUIAADhvq1t1QgAAIN6uW3VCAAAITbJbdUIAAPC7tVt1QgAA2Cq5W3VCAADAmbxbdUIAAKgIwFt1QgAAkHfDW3VCAAB45sZbdUIAAGBVylt1QgAASMTNW3VCAAAwM9FbdUIAABii1Ft1QgAAABHYW3VCAADof9tbdUIAANDu3lt1QgAAuF3iW3VC\",\"dtype\":\"float64\",\"shape\":[48]},\"y\":{\"__ndarray__\":\"ChKd2WDpaEDHJ935BjBiQFiJPODGdlhAE7uDQx0/UEAAAAAAANBbQM3MzMzMvFVAMzMzMzMTSEAzMzMzM5NLQAAAAAAAoFFAmpmZmZnJWEB26sMe/29pQBOhN0/C/nBAHjts8wphdEBS7YEoSkx2QKGmIx6FGnZAMzMzMzPDdEAzMzMzM7t1QGZmZmZmtnZAAAAAAACAeUAAAAAAAOh7QAAAAAAAvHpAzczMzMzseEAzMzMzMw96QM3MzMzMGHpAmpmZmZmZeEAAAAAAANBuQC4s5GxkllFAHtc71isDSUBVuGdP111LQHr8ELKFSVhAhnDEJ64rbEB7kM0CplF5QKUMs77djH1A/7PIwWEIgEB1CasqRFp9QC0hSQQEbnxAgl+dkFTrfEAYHvsbwrF8QMASe8jJIX1AVfLKv1I6fED7Dgiwojx6QBh8i1KYy39APgyV9qxCg0DEke4kjpGDQLjFEBxFYoFA6UW+0718gEBrEDsaEJl+QHVHKbUrUHdA\",\"dtype\":\"float64\",\"shape\":[48]}},\"selected\":{\"id\":\"7676\",\"type\":\"Selection\"},\"selection_policy\":{\"id\":\"7675\",\"type\":\"UnionRenderers\"}},\"id\":\"7614\",\"type\":\"ColumnDataSource\"},{\"attributes\":{\"source\":{\"id\":\"7645\",\"type\":\"ColumnDataSource\"}},\"id\":\"7649\",\"type\":\"CDSView\"},{\"attributes\":{\"days\":[1,8,15,22]},\"id\":\"7548\",\"type\":\"DaysTicker\"},{\"attributes\":{\"months\":[0,1,2,3,4,5,6,7,8,9,10,11]},\"id\":\"7550\",\"type\":\"MonthsTicker\"},{\"attributes\":{\"months\":[0,2,4,6,8,10]},\"id\":\"7551\",\"type\":\"MonthsTicker\"},{\"attributes\":{\"days\":[1,15]},\"id\":\"7549\",\"type\":\"DaysTicker\"},{\"attributes\":{},\"id\":\"7643\",\"type\":\"Selection\"},{\"attributes\":{\"callback\":null,\"data\":{\"x\":{\"__ndarray__\":\"AAAgAUFbdUIAAAhwRFt1QgAA8N5HW3VCAADYTUtbdUIAAMC8Tlt1QgAAqCtSW3VCAACQmlVbdUIAAHgJWVt1QgAAYHhcW3VCAABI519bdUIAADBWY1t1QgAAGMVmW3VCAAAANGpbdUIAAOiibVt1QgAA0BFxW3VCAAC4gHRbdUIAAKDvd1t1QgAAiF57W3VCAABwzX5bdUIAAFg8glt1QgAAQKuFW3VCAAAoGolbdUIAABCJjFt1QgAA+PePW3VCAADgZpNbdUIAAMjVllt1QgAAsESaW3VCAACYs51bdUIAAIAioVt1QgAAaJGkW3VCAABQAKhbdUIAADhvq1t1QgAAIN6uW3VCAAAITbJbdUIAAPC7tVt1QgAA2Cq5W3VCAADAmbxbdUIAAKgIwFt1QgAAkHfDW3VCAAB45sZbdUIAAGBVylt1QgAASMTNW3VCAAAwM9FbdUIAABii1Ft1QgAAABHYW3VCAADof9tbdUIAANDu3lt1QgAAuF3iW3VC\",\"dtype\":\"float64\",\"shape\":[48]},\"y\":{\"__ndarray__\":\"NkUXKdTVaUCjx4Jd7eBhQIVai0YitVxAa4vVESrgWED6nM1qGoVWQIa5TI77pFhAsLWgljRMXUCDLaEFBZZfQM1tUJlyJWBAXVzyi62lZEDNrPOQs3lpQE296pPTfG9AiFiqvQS2ckDg2y0DZsJ0QAxgyIGGbnVAe/xVlc2GdUA6PsHg2W11QJ+J/z316nhA44gkxpv1fEB6YxUMB+B7QPbV+EernXlAaiFkfVp7d0CWE+tSXQB3QAiovNB26XNAWVCkdSV4cECeg0fZMRZiQDbE+Y6BJlBABsSi+XneRUBMzSmzfPxGQFPGUwXX51dAij5lKExLbECKqZUpzBV5QErN2hN8DH1AONMcBnOsfkCCMTDaUwd8QDj4SXCj3ntA2uftoKqTfEAoHlVe2Ih8QHiUvepzGH1AzWrG1z1FfECCq7PCkid6QCp/qRDho35A/IclwtVvgkDOoC1G1CSDQJb4lC/7u4BAjcVixpw9f0Al1NVB2Nt8QPOLC1ymwXVA\",\"dtype\":\"float64\",\"shape\":[48]}},\"selected\":{\"id\":\"7583\",\"type\":\"Selection\"},\"selection_policy\":{\"id\":\"7582\",\"type\":\"UnionRenderers\"}},\"id\":\"7532\",\"type\":\"ColumnDataSource\"},{\"attributes\":{},\"id\":\"7676\",\"type\":\"Selection\"},{\"attributes\":{\"active_drag\":\"auto\",\"active_inspect\":\"auto\",\"active_multi\":null,\"active_scroll\":\"auto\",\"active_tap\":\"auto\",\"tools\":[{\"id\":\"7519\",\"type\":\"PanTool\"},{\"id\":\"7520\",\"type\":\"WheelZoomTool\"},{\"id\":\"7521\",\"type\":\"BoxZoomTool\"},{\"id\":\"7522\",\"type\":\"SaveTool\"},{\"id\":\"7523\",\"type\":\"ResetTool\"},{\"id\":\"7524\",\"type\":\"HelpTool\"}]},\"id\":\"7525\",\"type\":\"Toolbar\"},{\"attributes\":{\"data_source\":{\"id\":\"7645\",\"type\":\"ColumnDataSource\"},\"glyph\":{\"id\":\"7646\",\"type\":\"Line\"},\"hover_glyph\":null,\"muted_glyph\":null,\"nonselection_glyph\":{\"id\":\"7647\",\"type\":\"Line\"},\"selection_glyph\":null,\"view\":{\"id\":\"7649\",\"type\":\"CDSView\"}},\"id\":\"7648\",\"type\":\"GlyphRenderer\"},{\"attributes\":{},\"id\":\"7519\",\"type\":\"PanTool\"},{\"attributes\":{\"months\":[0,4,8]},\"id\":\"7552\",\"type\":\"MonthsTicker\"},{\"attributes\":{\"source\":{\"id\":\"7614\",\"type\":\"ColumnDataSource\"}},\"id\":\"7618\",\"type\":\"CDSView\"},{\"attributes\":{},\"id\":\"8054\",\"type\":\"UnionRenderers\"},{\"attributes\":{},\"id\":\"7520\",\"type\":\"WheelZoomTool\"},{\"attributes\":{\"line_alpha\":0.1,\"line_color\":\"#1f77b4\",\"line_width\":2,\"x\":{\"field\":\"x\"},\"y\":{\"field\":\"y\"}},\"id\":\"7534\",\"type\":\"Line\"},{\"attributes\":{\"months\":[0,6]},\"id\":\"7553\",\"type\":\"MonthsTicker\"},{\"attributes\":{},\"id\":\"7642\",\"type\":\"UnionRenderers\"},{\"attributes\":{\"label\":{\"value\":\"No external variables\"},\"renderers\":[{\"id\":\"7535\",\"type\":\"GlyphRenderer\"}]},\"id\":\"7557\",\"type\":\"LegendItem\"},{\"attributes\":{\"source\":{\"id\":\"7532\",\"type\":\"ColumnDataSource\"}},\"id\":\"7536\",\"type\":\"CDSView\"},{\"attributes\":{\"callback\":null,\"data\":{\"x\":{\"__ndarray__\":\"AAAgAUFbdUIAAAhwRFt1QgAA8N5HW3VCAADYTUtbdUIAAMC8Tlt1QgAAqCtSW3VCAACQmlVbdUIAAHgJWVt1QgAAYHhcW3VCAABI519bdUIAADBWY1t1QgAAGMVmW3VCAAAANGpbdUIAAOiibVt1QgAA0BFxW3VCAAC4gHRbdUIAAKDvd1t1QgAAiF57W3VCAABwzX5bdUIAAFg8glt1QgAAQKuFW3VCAAAoGolbdUIAABCJjFt1QgAA+PePW3VCAADgZpNbdUIAAMjVllt1QgAAsESaW3VCAACYs51bdUIAAIAioVt1QgAAaJGkW3VCAABQAKhbdUIAADhvq1t1QgAAIN6uW3VCAAAITbJbdUIAAPC7tVt1QgAA2Cq5W3VCAADAmbxbdUIAAKgIwFt1QgAAkHfDW3VCAAB45sZbdUIAAGBVylt1QgAASMTNW3VCAAAwM9FbdUIAABii1Ft1QgAAABHYW3VCAADof9tbdUIAANDu3lt1QgAAuF3iW3VC\",\"dtype\":\"float64\",\"shape\":[48]},\"y\":{\"__ndarray__\":\"NkUXKdTVaUCjx4Jd7eBhQIVai0YitVxAa4vVESrgWED6nM1qGoVWQIa5TI77pFhAsLWgljRMXUAzMzMzM5NLQAAAAAAAoFFAmpmZmZnJWECamZmZmRliQE296pPTfG9AiFiqvQS2ckDg2y0DZsJ0QAxgyIGGbnVAe/xVlc2GdUA6PsHg2W11QJ+J/z316nhA44gkxpv1fEB6YxUMB+B7QPbV+EernXlAzczMzMzseEAzMzMzMw96QM3MzMzMGHpAmpmZmZmZeECeg0fZMRZiQDbE+Y6BJlBABsSi+XneRUBMzSmzfPxGQFPGUwXX51dAij5lKExLbECKqZUpzBV5QErN2hN8DH1AONMcBnOsfkCCMTDaUwd8QDj4SXCj3ntA2uftoKqTfEAoHlVe2Ih8QHiUvepzGH1AzWrG1z1FfECCq7PCkid6QCp/qRDho35A/IclwtVvgkDOoC1G1CSDQJb4lC/7u4BAjcVixpw9f0Al1NVB2Nt8QPOLC1ymwXVA\",\"dtype\":\"float64\",\"shape\":[48]}},\"selected\":{\"id\":\"7643\",\"type\":\"Selection\"},\"selection_policy\":{\"id\":\"7642\",\"type\":\"UnionRenderers\"}},\"id\":\"7585\",\"type\":\"ColumnDataSource\"},{\"attributes\":{\"line_color\":\"#e6f598\",\"line_width\":2,\"x\":{\"field\":\"x\"},\"y\":{\"field\":\"y\"}},\"id\":\"7586\",\"type\":\"Line\"},{\"attributes\":{\"label\":{\"value\":\"EIA weather and holidays\"},\"renderers\":[{\"id\":\"7617\",\"type\":\"GlyphRenderer\"}]},\"id\":\"7644\",\"type\":\"LegendItem\"},{\"attributes\":{\"line_color\":\"#66c2a5\",\"line_width\":2,\"x\":{\"field\":\"x\"},\"y\":{\"field\":\"y\"}},\"id\":\"7559\",\"type\":\"Line\"},{\"attributes\":{\"line_color\":\"#fdae61\",\"line_width\":2,\"x\":{\"field\":\"x\"},\"y\":{\"field\":\"y\"}},\"id\":\"7615\",\"type\":\"Line\"},{\"attributes\":{},\"id\":\"7554\",\"type\":\"YearsTicker\"},{\"attributes\":{\"data_source\":{\"id\":\"7532\",\"type\":\"ColumnDataSource\"},\"glyph\":{\"id\":\"7533\",\"type\":\"Line\"},\"hover_glyph\":null,\"muted_glyph\":null,\"nonselection_glyph\":{\"id\":\"7534\",\"type\":\"Line\"},\"selection_glyph\":null,\"view\":{\"id\":\"7536\",\"type\":\"CDSView\"}},\"id\":\"7535\",\"type\":\"GlyphRenderer\"},{\"attributes\":{},\"id\":\"7522\",\"type\":\"SaveTool\"},{\"attributes\":{},\"id\":\"8055\",\"type\":\"Selection\"},{\"attributes\":{\"text\":\"4th of July\"},\"id\":\"7537\",\"type\":\"Title\"},{\"attributes\":{},\"id\":\"7505\",\"type\":\"LinearScale\"},{\"attributes\":{\"overlay\":{\"id\":\"7555\",\"type\":\"BoxAnnotation\"}},\"id\":\"7521\",\"type\":\"BoxZoomTool\"},{\"attributes\":{\"bottom_units\":\"screen\",\"fill_alpha\":{\"value\":0.5},\"fill_color\":{\"value\":\"lightgrey\"},\"left_units\":\"screen\",\"level\":\"overlay\",\"line_alpha\":{\"value\":1.0},\"line_color\":{\"value\":\"black\"},\"line_dash\":[4,4],\"line_width\":{\"value\":2},\"render_mode\":\"css\",\"right_units\":\"screen\",\"top_units\":\"screen\"},\"id\":\"7555\",\"type\":\"BoxAnnotation\"},{\"attributes\":{\"callback\":null},\"id\":\"7503\",\"type\":\"DataRange1d\"},{\"attributes\":{\"data_source\":{\"id\":\"7558\",\"type\":\"ColumnDataSource\"},\"glyph\":{\"id\":\"7559\",\"type\":\"Line\"},\"hover_glyph\":null,\"muted_glyph\":null,\"nonselection_glyph\":{\"id\":\"7560\",\"type\":\"Line\"},\"selection_glyph\":null,\"view\":{\"id\":\"7562\",\"type\":\"CDSView\"}},\"id\":\"7561\",\"type\":\"GlyphRenderer\"},{\"attributes\":{\"num_minor_ticks\":5,\"tickers\":[{\"id\":\"7543\",\"type\":\"AdaptiveTicker\"},{\"id\":\"7544\",\"type\":\"AdaptiveTicker\"},{\"id\":\"7545\",\"type\":\"AdaptiveTicker\"},{\"id\":\"7546\",\"type\":\"DaysTicker\"},{\"id\":\"7547\",\"type\":\"DaysTicker\"},{\"id\":\"7548\",\"type\":\"DaysTicker\"},{\"id\":\"7549\",\"type\":\"DaysTicker\"},{\"id\":\"7550\",\"type\":\"MonthsTicker\"},{\"id\":\"7551\",\"type\":\"MonthsTicker\"},{\"id\":\"7552\",\"type\":\"MonthsTicker\"},{\"id\":\"7553\",\"type\":\"MonthsTicker\"},{\"id\":\"7554\",\"type\":\"YearsTicker\"}]},\"id\":\"7510\",\"type\":\"DatetimeTicker\"},{\"attributes\":{},\"id\":\"7611\",\"type\":\"UnionRenderers\"},{\"attributes\":{\"click_policy\":\"hide\",\"items\":[{\"id\":\"7557\",\"type\":\"LegendItem\"},{\"id\":\"7584\",\"type\":\"LegendItem\"},{\"id\":\"7613\",\"type\":\"LegendItem\"},{\"id\":\"7644\",\"type\":\"LegendItem\"},{\"id\":\"7677\",\"type\":\"LegendItem\"}],\"location\":\"bottom_left\"},\"id\":\"7556\",\"type\":\"Legend\"},{\"attributes\":{\"callback\":null},\"id\":\"7501\",\"type\":\"DataRange1d\"},{\"attributes\":{\"line_alpha\":0.1,\"line_color\":\"#1f77b4\",\"line_width\":2,\"x\":{\"field\":\"x\"},\"y\":{\"field\":\"y\"}},\"id\":\"7587\",\"type\":\"Line\"},{\"attributes\":{\"label\":{\"value\":\"EIA no external variables\"},\"renderers\":[{\"id\":\"7588\",\"type\":\"GlyphRenderer\"}]},\"id\":\"7613\",\"type\":\"LegendItem\"},{\"attributes\":{},\"id\":\"7539\",\"type\":\"DatetimeTickFormatter\"},{\"attributes\":{\"source\":{\"id\":\"7558\",\"type\":\"ColumnDataSource\"}},\"id\":\"7562\",\"type\":\"CDSView\"},{\"attributes\":{\"line_alpha\":0.1,\"line_color\":\"#1f77b4\",\"line_width\":2,\"x\":{\"field\":\"x\"},\"y\":{\"field\":\"y\"}},\"id\":\"7616\",\"type\":\"Line\"},{\"attributes\":{\"mantissas\":[1,2,5],\"max_interval\":500.0,\"num_minor_ticks\":0},\"id\":\"7543\",\"type\":\"AdaptiveTicker\"},{\"attributes\":{\"line_color\":\"#3288bd\",\"line_width\":2,\"x\":{\"field\":\"x\"},\"y\":{\"field\":\"y\"}},\"id\":\"7533\",\"type\":\"Line\"},{\"attributes\":{\"source\":{\"id\":\"7585\",\"type\":\"ColumnDataSource\"}},\"id\":\"7589\",\"type\":\"CDSView\"},{\"attributes\":{},\"id\":\"7507\",\"type\":\"LinearScale\"},{\"attributes\":{},\"id\":\"7523\",\"type\":\"ResetTool\"},{\"attributes\":{\"line_color\":\"#d53e4f\",\"line_width\":2,\"x\":{\"field\":\"x\"},\"y\":{\"field\":\"y\"}},\"id\":\"7646\",\"type\":\"Line\"},{\"attributes\":{\"callback\":null,\"data\":{\"x\":{\"__ndarray__\":\"AAAgAUFbdUIAAAhwRFt1QgAA8N5HW3VCAADYTUtbdUIAAMC8Tlt1QgAAqCtSW3VCAACQmlVbdUIAAHgJWVt1QgAAYHhcW3VCAABI519bdUIAADBWY1t1QgAAGMVmW3VCAAAANGpbdUIAAOiibVt1QgAA0BFxW3VCAAC4gHRbdUIAAKDvd1t1QgAAiF57W3VCAABwzX5bdUIAAFg8glt1QgAAQKuFW3VCAAAoGolbdUIAABCJjFt1QgAA+PePW3VCAADgZpNbdUIAAMjVllt1QgAAsESaW3VCAACYs51bdUIAAIAioVt1QgAAaJGkW3VCAABQAKhbdUIAADhvq1t1QgAAIN6uW3VCAAAITbJbdUIAAPC7tVt1QgAA2Cq5W3VCAADAmbxbdUIAAKgIwFt1QgAAkHfDW3VCAAB45sZbdUIAAGBVylt1QgAASMTNW3VCAAAwM9FbdUIAABii1Ft1QgAAABHYW3VCAADof9tbdUIAANDu3lt1QgAAuF3iW3VC\",\"dtype\":\"float64\",\"shape\":[48]},\"y\":{\"__ndarray__\":\"ChKd2WDpaEDHJ935BjBiQFiJPODGdlhAE7uDQx0/UEC2sMTot2hGQGciRyElakNAzVunvz1RRUDe5PXyOZxPQHrSQ1UqbVdAnmf4SmmbYUB26sMe/29pQBOhN0/C/nBAHjts8wphdEBS7YEoSkx2QKGmIx6FGnZAxqVHJh5xdkB0JoL5DSh2QMyREU7jbnVAhZnv1NmVdUD/qtNpFtR1QMn82pM9bXRAf9hzaZ0/c0Dpa8Yqu+xyQKMKpbKoVHFAgQ9jCT5ycEA5XmQ/JvJhQC4s5GxkllFAHtc71isDSUBVuGdP111LQHr8ELKFSVhAhnDEJ64rbEB7kM0CplF5QKUMs77djH1A/7PIwWEIgEB1CasqRFp9QC0hSQQEbnxAgl+dkFTrfEAYHvsbwrF8QMASe8jJIX1AVfLKv1I6fED7Dgiwojx6QBh8i1KYy39APgyV9qxCg0DEke4kjpGDQLjFEBxFYoFA6UW+0718gEBrEDsaEJl+QHVHKbUrUHdA\",\"dtype\":\"float64\",\"shape\":[48]}},\"selected\":{\"id\":\"7612\",\"type\":\"Selection\"},\"selection_policy\":{\"id\":\"7611\",\"type\":\"UnionRenderers\"}},\"id\":\"7558\",\"type\":\"ColumnDataSource\"},{\"attributes\":{\"callback\":null,\"data\":{\"x\":{\"__ndarray__\":\"AAAgAUFbdUIAAAhwRFt1QgAA8N5HW3VCAADYTUtbdUIAAMC8Tlt1QgAAqCtSW3VCAACQmlVbdUIAAHgJWVt1QgAAYHhcW3VCAABI519bdUIAADBWY1t1QgAAGMVmW3VCAAAANGpbdUIAAOiibVt1QgAA0BFxW3VCAAC4gHRbdUIAAKDvd1t1QgAAiF57W3VCAABwzX5bdUIAAFg8glt1QgAAQKuFW3VCAAAoGolbdUIAABCJjFt1QgAA+PePW3VCAADgZpNbdUIAAMjVllt1QgAAsESaW3VCAACYs51bdUIAAIAioVt1QgAAaJGkW3VCAABQAKhbdUIAADhvq1t1QgAAIN6uW3VCAAAITbJbdUIAAPC7tVt1QgAA2Cq5W3VCAADAmbxbdUIAAKgIwFt1QgAAkHfDW3VCAAB45sZbdUIAAGBVylt1QgAASMTNW3VCAAAwM9FbdUIAABii1Ft1QgAAABHYW3VCAADof9tbdUIAANDu3lt1QgAAuF3iW3VC\",\"dtype\":\"float64\",\"shape\":[48]},\"y\":{\"__ndarray__\":\"MzMzMzNzbUAAAAAAAEBnQJqZmZmZAWJAAAAAAADQW0DNzMzMzLxVQDMzMzMzE0hAMzMzMzOTS0AAAAAAAKBRQJqZmZmZyVhAmpmZmZkZYkAAAAAAAGBqQM3MzMzMrHBAmpmZmZnlckBmZmZmZmpzQDMzMzMzw3RAMzMzMzO7dUBmZmZmZrZ2QAAAAAAAgHlAAAAAAADoe0AAAAAAALx6QM3MzMzM7HhAMzMzMzMPekDNzMzMzBh6QJqZmZmZmXhAAAAAAADQbkAAAAAAACBZQDMzMzMzA1FAZmZmZmZGSEAAAAAAACBNQDMzMzMz81VAmpmZmZnpbEDNzMzMzLh1QDMzMzMzK31AmpmZmZkxfUBmZmZmZs55QJqZmZmZLXpAmpmZmZkZe0DNzMzMzNh7QAAAAAAA0HxAZmZmZmZyfECamZmZmcl6QGZmZmZmNn9AMzMzMzMLg0CamZmZmS+BQAAAAAAAAH5AAAAAAADYf0BmZmZmZk58QDMzMzMzq3NA\",\"dtype\":\"float64\",\"shape\":[48]}},\"selected\":{\"id\":\"8055\",\"type\":\"Selection\"},\"selection_policy\":{\"id\":\"8054\",\"type\":\"UnionRenderers\"}},\"id\":\"7645\",\"type\":\"ColumnDataSource\"},{\"attributes\":{},\"id\":\"7541\",\"type\":\"BasicTickFormatter\"},{\"attributes\":{\"formatter\":{\"id\":\"7539\",\"type\":\"DatetimeTickFormatter\"},\"ticker\":{\"id\":\"7510\",\"type\":\"DatetimeTicker\"}},\"id\":\"7509\",\"type\":\"DatetimeAxis\"},{\"attributes\":{\"base\":60,\"mantissas\":[1,2,5,10,15,20,30],\"max_interval\":1800000.0,\"min_interval\":1000.0,\"num_minor_ticks\":0},\"id\":\"7544\",\"type\":\"AdaptiveTicker\"},{\"attributes\":{},\"id\":\"7612\",\"type\":\"Selection\"},{\"attributes\":{\"dimension\":1,\"ticker\":{\"id\":\"7515\",\"type\":\"BasicTicker\"}},\"id\":\"7518\",\"type\":\"Grid\"},{\"attributes\":{\"base\":24,\"mantissas\":[1,2,4,6,8,12],\"max_interval\":43200000.0,\"min_interval\":3600000.0,\"num_minor_ticks\":0},\"id\":\"7545\",\"type\":\"AdaptiveTicker\"},{\"attributes\":{\"data_source\":{\"id\":\"7585\",\"type\":\"ColumnDataSource\"},\"glyph\":{\"id\":\"7586\",\"type\":\"Line\"},\"hover_glyph\":null,\"muted_glyph\":null,\"nonselection_glyph\":{\"id\":\"7587\",\"type\":\"Line\"},\"selection_glyph\":null,\"view\":{\"id\":\"7589\",\"type\":\"CDSView\"}},\"id\":\"7588\",\"type\":\"GlyphRenderer\"},{\"attributes\":{\"label\":{\"value\":\"Weather and holidays\"},\"renderers\":[{\"id\":\"7561\",\"type\":\"GlyphRenderer\"}]},\"id\":\"7584\",\"type\":\"LegendItem\"}],\"root_ids\":[\"7500\"]},\"title\":\"Bokeh Application\",\"version\":\"1.4.0\"}};\n",
       "  var render_items = [{\"docid\":\"89bb1ede-dab2-458d-ae48-5ec06cebbc65\",\"roots\":{\"7500\":\"c511e74d-a18a-445e-8121-d59db9d397cc\"}}];\n",
       "  root.Bokeh.embed.embed_items_notebook(docs_json, render_items);\n",
       "\n",
       "  }\n",
       "  if (root.Bokeh !== undefined) {\n",
       "    embed_document(root);\n",
       "  } else {\n",
       "    var attempts = 0;\n",
       "    var timer = setInterval(function(root) {\n",
       "      if (root.Bokeh !== undefined) {\n",
       "        clearInterval(timer);\n",
       "        embed_document(root);\n",
       "      } else {\n",
       "        attempts++;\n",
       "        if (attempts > 100) {\n",
       "          clearInterval(timer);\n",
       "          console.log(\"Bokeh: ERROR: Unable to run BokehJS code because BokehJS library is missing\");\n",
       "        }\n",
       "      }\n",
       "    }, 10, root)\n",
       "  }\n",
       "})(window);"
      ],
      "application/vnd.bokehjs_exec.v0+json": ""
     },
     "metadata": {
      "application/vnd.bokehjs_exec.v0+json": {
       "id": "7500"
      }
     },
     "output_type": "display_data"
    }
   ],
   "source": [
    "s = slice('2016-07-04', '2016-07-05')\n",
    "\n",
    "p = figure(plot_width=800, plot_height=400, x_axis_type='datetime')\n",
    "p.line(x = pred_ne[s].index, y=pred_ne[s], line_width=2, legend_label='No external variables', color = Spectral8[0])\n",
    "p.line(x = pred_w_h[s].index, y=pred_w_h[s], line_width=2, legend_label='Weather and holidays', color = Spectral8[1])\n",
    "p.line(x = eia_ne[s].index, y=eia_ne[s], line_width=2, legend_label='EIA no external variables', color = Spectral8[3])\n",
    "p.line(x = eia_w_h[s].index, y=eia_w_h[s], line_width=2, legend_label='EIA weather and holidays', color = Spectral8[5])\n",
    "p.line(x = real[s].index, y=real[s], line_width=2, legend_label='Real demand', color = Spectral8[7])\n",
    "\n",
    "p.yaxis.axis_label = 'Predictions'\n",
    "p.title.text = '4th of July'\n",
    "p.legend.location = 'bottom_left'\n",
    "p.legend.click_policy=\"hide\"\n",
    "\n",
    "show(p)"
   ]
  },
  {
   "cell_type": "code",
   "execution_count": 34,
   "metadata": {
    "ExecuteTime": {
     "end_time": "2020-02-21T10:16:25.686379Z",
     "start_time": "2020-02-21T10:16:25.461188Z"
    }
   },
   "outputs": [
    {
     "data": {
      "text/html": [
       "\n",
       "\n",
       "\n",
       "\n",
       "\n",
       "\n",
       "  <div class=\"bk-root\" id=\"31011d16-dc3e-4b12-ba93-5a8208a52159\" data-root-id=\"8230\"></div>\n"
      ]
     },
     "metadata": {},
     "output_type": "display_data"
    },
    {
     "data": {
      "application/javascript": [
       "(function(root) {\n",
       "  function embed_document(root) {\n",
       "    \n",
       "  var docs_json = {\"f74c8942-bb48-4d63-bd5d-be7fe690e710\":{\"roots\":{\"references\":[{\"attributes\":{\"below\":[{\"id\":\"8239\",\"type\":\"DatetimeAxis\"}],\"center\":[{\"id\":\"8243\",\"type\":\"Grid\"},{\"id\":\"8248\",\"type\":\"Grid\"},{\"id\":\"8286\",\"type\":\"Legend\"}],\"left\":[{\"id\":\"8244\",\"type\":\"LinearAxis\"}],\"plot_height\":400,\"plot_width\":800,\"renderers\":[{\"id\":\"8265\",\"type\":\"GlyphRenderer\"},{\"id\":\"8291\",\"type\":\"GlyphRenderer\"},{\"id\":\"8318\",\"type\":\"GlyphRenderer\"},{\"id\":\"8347\",\"type\":\"GlyphRenderer\"},{\"id\":\"8378\",\"type\":\"GlyphRenderer\"}],\"title\":{\"id\":\"8267\",\"type\":\"Title\"},\"toolbar\":{\"id\":\"8255\",\"type\":\"Toolbar\"},\"x_range\":{\"id\":\"8231\",\"type\":\"DataRange1d\"},\"x_scale\":{\"id\":\"8235\",\"type\":\"LinearScale\"},\"y_range\":{\"id\":\"8233\",\"type\":\"DataRange1d\"},\"y_scale\":{\"id\":\"8237\",\"type\":\"LinearScale\"}},\"id\":\"8230\",\"subtype\":\"Figure\",\"type\":\"Plot\"},{\"attributes\":{\"data_source\":{\"id\":\"8315\",\"type\":\"ColumnDataSource\"},\"glyph\":{\"id\":\"8316\",\"type\":\"Line\"},\"hover_glyph\":null,\"muted_glyph\":null,\"nonselection_glyph\":{\"id\":\"8317\",\"type\":\"Line\"},\"selection_glyph\":null,\"view\":{\"id\":\"8319\",\"type\":\"CDSView\"}},\"id\":\"8318\",\"type\":\"GlyphRenderer\"},{\"attributes\":{\"callback\":null,\"data\":{\"x\":{\"__ndarray__\":\"AADgE7zQdUIAAMiCv9B1QgAAsPHC0HVCAACYYMbQdUIAAIDPydB1QgAAaD7N0HVCAABQrdDQdUIAADgc1NB1QgAAIIvX0HVCAAAI+trQdUIAAPBo3tB1QgAA2Nfh0HVCAADARuXQdUIAAKi16NB1QgAAkCTs0HVCAAB4k+/QdUIAAGAC89B1QgAASHH20HVCAAAw4PnQdUIAABhP/dB1QgAAAL4A0XVCAADoLATRdUIAANCbB9F1QgAAuAoL0XVCAACgeQ7RdUIAAIjoEdF1QgAAcFcV0XVCAABYxhjRdUIAAEA1HNF1QgAAKKQf0XVCAAAQEyPRdUIAAPiBJtF1QgAA4PAp0XVCAADIXy3RdUIAALDOMNF1QgAAmD000XVCAACArDfRdUIAAGgbO9F1QgAAUIo+0XVCAAA4+UHRdUIAACBoRdF1QgAACNdI0XVCAADwRUzRdUIAANi0T9F1QgAAwCNT0XVCAACoklbRdUIAAJABWtF1QgAAeHBd0XVC\",\"dtype\":\"float64\",\"shape\":[48]},\"y\":{\"__ndarray__\":\"zczMzMwsaEAzMzMzMwNjQJqZmZmZiV1AmpmZmZl5UkBmZmZmZiZMQAAAAAAAoEJAzczMzMwsRkCamZmZmdlOQGZmZmZm9lZAmpmZmZkxYEAzMzMzMztnQAAAAAAAaGxAMzMzMzMTb0DNzMzMzKBwQDMzMzMzb3FAAAAAAADcckAzMzMzM9tzQAAAAAAA6HRAmpmZmZlhdUAAAAAAADx1QDMzMzMzx3NAmpmZmZldc0AzMzMzM4N2QDMzMzMzG3NAmpmZmZkxZUAzMzMzM3NWQDMzMzMzU09AzczMzMwMREBmZmZmZsZFQAAAAAAAwFFAzczMzMzEZkBmZmZmZipyQGZmZmZmanhAMzMzMzODeECamZmZmRV3QAAAAAAAQHdAmpmZmZkJeEAAAAAAAKh5QGZmZmZm3nhAAAAAAACseECamZmZmdV3QJqZmZmZ+XtAZmZmZmbKf0AAAAAAAPh9QJqZmZmZxXlAzczMzMx4ekDNzMzMzOB3QGZmZmZmJnJA\",\"dtype\":\"float64\",\"shape\":[48]}},\"selected\":{\"id\":\"8814\",\"type\":\"Selection\"},\"selection_policy\":{\"id\":\"8813\",\"type\":\"UnionRenderers\"}},\"id\":\"8375\",\"type\":\"ColumnDataSource\"},{\"attributes\":{\"click_policy\":\"hide\",\"items\":[{\"id\":\"8287\",\"type\":\"LegendItem\"},{\"id\":\"8314\",\"type\":\"LegendItem\"},{\"id\":\"8343\",\"type\":\"LegendItem\"},{\"id\":\"8374\",\"type\":\"LegendItem\"},{\"id\":\"8407\",\"type\":\"LegendItem\"}],\"location\":\"bottom_left\"},\"id\":\"8286\",\"type\":\"Legend\"},{\"attributes\":{\"formatter\":{\"id\":\"8269\",\"type\":\"DatetimeTickFormatter\"},\"ticker\":{\"id\":\"8240\",\"type\":\"DatetimeTicker\"}},\"id\":\"8239\",\"type\":\"DatetimeAxis\"},{\"attributes\":{\"line_alpha\":0.1,\"line_color\":\"#1f77b4\",\"line_width\":2,\"x\":{\"field\":\"x\"},\"y\":{\"field\":\"y\"}},\"id\":\"8264\",\"type\":\"Line\"},{\"attributes\":{\"source\":{\"id\":\"8288\",\"type\":\"ColumnDataSource\"}},\"id\":\"8292\",\"type\":\"CDSView\"},{\"attributes\":{\"data_source\":{\"id\":\"8344\",\"type\":\"ColumnDataSource\"},\"glyph\":{\"id\":\"8345\",\"type\":\"Line\"},\"hover_glyph\":null,\"muted_glyph\":null,\"nonselection_glyph\":{\"id\":\"8346\",\"type\":\"Line\"},\"selection_glyph\":null,\"view\":{\"id\":\"8348\",\"type\":\"CDSView\"}},\"id\":\"8347\",\"type\":\"GlyphRenderer\"},{\"attributes\":{\"days\":[1,15]},\"id\":\"8279\",\"type\":\"DaysTicker\"},{\"attributes\":{},\"id\":\"8312\",\"type\":\"UnionRenderers\"},{\"attributes\":{\"axis_label\":\"Predictions\",\"formatter\":{\"id\":\"8271\",\"type\":\"BasicTickFormatter\"},\"ticker\":{\"id\":\"8245\",\"type\":\"BasicTicker\"}},\"id\":\"8244\",\"type\":\"LinearAxis\"},{\"attributes\":{\"label\":{\"value\":\"Weather and holidays\"},\"renderers\":[{\"id\":\"8291\",\"type\":\"GlyphRenderer\"}]},\"id\":\"8314\",\"type\":\"LegendItem\"},{\"attributes\":{\"line_color\":\"#3288bd\",\"line_width\":2,\"x\":{\"field\":\"x\"},\"y\":{\"field\":\"y\"}},\"id\":\"8263\",\"type\":\"Line\"},{\"attributes\":{},\"id\":\"8245\",\"type\":\"BasicTicker\"},{\"attributes\":{\"callback\":null,\"data\":{\"x\":{\"__ndarray__\":\"AADgE7zQdUIAAMiCv9B1QgAAsPHC0HVCAACYYMbQdUIAAIDPydB1QgAAaD7N0HVCAABQrdDQdUIAADgc1NB1QgAAIIvX0HVCAAAI+trQdUIAAPBo3tB1QgAA2Nfh0HVCAADARuXQdUIAAKi16NB1QgAAkCTs0HVCAAB4k+/QdUIAAGAC89B1QgAASHH20HVCAAAw4PnQdUIAABhP/dB1QgAAAL4A0XVCAADoLATRdUIAANCbB9F1QgAAuAoL0XVCAACgeQ7RdUIAAIjoEdF1QgAAcFcV0XVCAABYxhjRdUIAAEA1HNF1QgAAKKQf0XVCAAAQEyPRdUIAAPiBJtF1QgAA4PAp0XVCAADIXy3RdUIAALDOMNF1QgAAmD000XVCAACArDfRdUIAAGgbO9F1QgAAUIo+0XVCAAA4+UHRdUIAACBoRdF1QgAACNdI0XVCAADwRUzRdUIAANi0T9F1QgAAwCNT0XVCAACoklbRdUIAAJABWtF1QgAAeHBd0XVC\",\"dtype\":\"float64\",\"shape\":[48]},\"y\":{\"__ndarray__\":\"ZmZmZmYeb0D30oTY+LdiQBKJgvj6M1pAL7ovDA1RVEAeseISnWlSQCIRFLxvMFVAAAAAAACgQkDNzMzMzCxGQJqZmZmZ2U5AZmZmZmb2VkCamZmZmTFgQDMzMzMzO2dAAAAAAABobEAzMzMzMxNvQM3MzMzMoHBAMzMzMzNvcUAAAAAAANxyQDMzMzMz23NAAAAAAADodECamZmZmWF1QAAAAAAAPHVAMzMzMzPHc0CamZmZmV1zQDMzMzMzg3ZAMzMzMzMbc0Cz+i9o0SdgQAsSNiT5Y1FAts/x7RzTRkDQXnt4kHhIQPy4h+30zVVALOZcFVdEZkCqBqMyH7NyQNAKcpnelHdAOsNm8QwweUCOG6aXNjN4QJc3n1dEpXhAqsKIfXHweEAIl0XJnDN5QKYDM35bDnpASi1um6wweUAXhytj2+Z3QH1U94QeYXtAhh8S36qRf0DDt3sS5QCAQO34jBAth31Ai5WybwtZe0AwDEcUXv95QH53NvSuL3RA\",\"dtype\":\"float64\",\"shape\":[48]}},\"selected\":{\"id\":\"8406\",\"type\":\"Selection\"},\"selection_policy\":{\"id\":\"8405\",\"type\":\"UnionRenderers\"}},\"id\":\"8344\",\"type\":\"ColumnDataSource\"},{\"attributes\":{},\"id\":\"8271\",\"type\":\"BasicTickFormatter\"},{\"attributes\":{\"months\":[0,1,2,3,4,5,6,7,8,9,10,11]},\"id\":\"8280\",\"type\":\"MonthsTicker\"},{\"attributes\":{\"line_alpha\":0.1,\"line_color\":\"#1f77b4\",\"line_width\":2,\"x\":{\"field\":\"x\"},\"y\":{\"field\":\"y\"}},\"id\":\"8377\",\"type\":\"Line\"},{\"attributes\":{},\"id\":\"8313\",\"type\":\"Selection\"},{\"attributes\":{},\"id\":\"8405\",\"type\":\"UnionRenderers\"},{\"attributes\":{\"ticker\":{\"id\":\"8240\",\"type\":\"DatetimeTicker\"}},\"id\":\"8243\",\"type\":\"Grid\"},{\"attributes\":{\"label\":{\"value\":\"Real demand\"},\"renderers\":[{\"id\":\"8378\",\"type\":\"GlyphRenderer\"}]},\"id\":\"8407\",\"type\":\"LegendItem\"},{\"attributes\":{\"mantissas\":[1,2,5],\"max_interval\":500.0,\"num_minor_ticks\":0},\"id\":\"8273\",\"type\":\"AdaptiveTicker\"},{\"attributes\":{\"months\":[0,2,4,6,8,10]},\"id\":\"8281\",\"type\":\"MonthsTicker\"},{\"attributes\":{\"days\":[1,2,3,4,5,6,7,8,9,10,11,12,13,14,15,16,17,18,19,20,21,22,23,24,25,26,27,28,29,30,31]},\"id\":\"8276\",\"type\":\"DaysTicker\"},{\"attributes\":{\"months\":[0,4,8]},\"id\":\"8282\",\"type\":\"MonthsTicker\"},{\"attributes\":{\"source\":{\"id\":\"8375\",\"type\":\"ColumnDataSource\"}},\"id\":\"8379\",\"type\":\"CDSView\"},{\"attributes\":{\"line_color\":\"#66c2a5\",\"line_width\":2,\"x\":{\"field\":\"x\"},\"y\":{\"field\":\"y\"}},\"id\":\"8289\",\"type\":\"Line\"},{\"attributes\":{\"line_alpha\":0.1,\"line_color\":\"#1f77b4\",\"line_width\":2,\"x\":{\"field\":\"x\"},\"y\":{\"field\":\"y\"}},\"id\":\"8290\",\"type\":\"Line\"},{\"attributes\":{\"months\":[0,6]},\"id\":\"8283\",\"type\":\"MonthsTicker\"},{\"attributes\":{\"text\":\"4th of July\"},\"id\":\"8267\",\"type\":\"Title\"},{\"attributes\":{\"callback\":null,\"data\":{\"x\":{\"__ndarray__\":\"AADgE7zQdUIAAMiCv9B1QgAAsPHC0HVCAACYYMbQdUIAAIDPydB1QgAAaD7N0HVCAABQrdDQdUIAADgc1NB1QgAAIIvX0HVCAAAI+trQdUIAAPBo3tB1QgAA2Nfh0HVCAADARuXQdUIAAKi16NB1QgAAkCTs0HVCAAB4k+/QdUIAAGAC89B1QgAASHH20HVCAAAw4PnQdUIAABhP/dB1QgAAAL4A0XVCAADoLATRdUIAANCbB9F1QgAAuAoL0XVCAACgeQ7RdUIAAIjoEdF1QgAAcFcV0XVCAABYxhjRdUIAAEA1HNF1QgAAKKQf0XVCAAAQEyPRdUIAAPiBJtF1QgAA4PAp0XVCAADIXy3RdUIAALDOMNF1QgAAmD000XVCAACArDfRdUIAAGgbO9F1QgAAUIo+0XVCAAA4+UHRdUIAACBoRdF1QgAACNdI0XVCAADwRUzRdUIAANi0T9F1QgAAwCNT0XVCAACoklbRdUIAAJABWtF1QgAAeHBd0XVC\",\"dtype\":\"float64\",\"shape\":[48]},\"y\":{\"__ndarray__\":\"+n09ejjcYkDNzMzMzCxoQDMzMzMzA2NAmpmZmZmJXUAmceabva5JQM7du2/PQVJAAAAAAACgQkDNzMzMzCxGQJqZmZmZ2U5AZmZmZmb2VkCamZmZmTFgQDMzMzMzO2dAAAAAAABobEAzMzMzMxNvQM3MzMzMoHBAMzMzMzNvcUAAAAAAANxyQDMzMzMz23NAAAAAAADodECamZmZmWF1QAAAAAAAPHVAgDgoAezYc0CamZmZmV1zQDMzMzMzg3ZAMzMzMzMbc0AOmOaY1s5ZQA1yGo4l51BAvl4T/t+uR0DC8l20FAlHQJi5HqUDbFFAaiUAh/HnZECYgrWkEjdzQEBC0ERYwXdAht1mPJqaeUD/xIfSet13QMjDLwnZInhAurQA/IJgeEBxAcKo/DB5QM4QzYVM3HlAWx+uU982eUAbC4BzsOp3QNtgCXrjhnpAFVuYrbq+f0AQGDDzxbJ/QL5QCxPh+XxAiIMYwVIne0BDf3bw/7J5QEleU9G5AnNA\",\"dtype\":\"float64\",\"shape\":[48]}},\"selected\":{\"id\":\"8373\",\"type\":\"Selection\"},\"selection_policy\":{\"id\":\"8372\",\"type\":\"UnionRenderers\"}},\"id\":\"8315\",\"type\":\"ColumnDataSource\"},{\"attributes\":{\"line_alpha\":0.1,\"line_color\":\"#1f77b4\",\"line_width\":2,\"x\":{\"field\":\"x\"},\"y\":{\"field\":\"y\"}},\"id\":\"8346\",\"type\":\"Line\"},{\"attributes\":{\"callback\":null},\"id\":\"8233\",\"type\":\"DataRange1d\"},{\"attributes\":{},\"id\":\"8284\",\"type\":\"YearsTicker\"},{\"attributes\":{},\"id\":\"8406\",\"type\":\"Selection\"},{\"attributes\":{\"data_source\":{\"id\":\"8375\",\"type\":\"ColumnDataSource\"},\"glyph\":{\"id\":\"8376\",\"type\":\"Line\"},\"hover_glyph\":null,\"muted_glyph\":null,\"nonselection_glyph\":{\"id\":\"8377\",\"type\":\"Line\"},\"selection_glyph\":null,\"view\":{\"id\":\"8379\",\"type\":\"CDSView\"}},\"id\":\"8378\",\"type\":\"GlyphRenderer\"},{\"attributes\":{},\"id\":\"8269\",\"type\":\"DatetimeTickFormatter\"},{\"attributes\":{\"overlay\":{\"id\":\"8285\",\"type\":\"BoxAnnotation\"}},\"id\":\"8251\",\"type\":\"BoxZoomTool\"},{\"attributes\":{\"days\":[1,8,15,22]},\"id\":\"8278\",\"type\":\"DaysTicker\"},{\"attributes\":{\"bottom_units\":\"screen\",\"fill_alpha\":{\"value\":0.5},\"fill_color\":{\"value\":\"lightgrey\"},\"left_units\":\"screen\",\"level\":\"overlay\",\"line_alpha\":{\"value\":1.0},\"line_color\":{\"value\":\"black\"},\"line_dash\":[4,4],\"line_width\":{\"value\":2},\"render_mode\":\"css\",\"right_units\":\"screen\",\"top_units\":\"screen\"},\"id\":\"8285\",\"type\":\"BoxAnnotation\"},{\"attributes\":{},\"id\":\"8237\",\"type\":\"LinearScale\"},{\"attributes\":{\"source\":{\"id\":\"8344\",\"type\":\"ColumnDataSource\"}},\"id\":\"8348\",\"type\":\"CDSView\"},{\"attributes\":{\"line_color\":\"#d53e4f\",\"line_width\":2,\"x\":{\"field\":\"x\"},\"y\":{\"field\":\"y\"}},\"id\":\"8376\",\"type\":\"Line\"},{\"attributes\":{},\"id\":\"8813\",\"type\":\"UnionRenderers\"},{\"attributes\":{\"dimension\":1,\"ticker\":{\"id\":\"8245\",\"type\":\"BasicTicker\"}},\"id\":\"8248\",\"type\":\"Grid\"},{\"attributes\":{},\"id\":\"8372\",\"type\":\"UnionRenderers\"},{\"attributes\":{\"days\":[1,4,7,10,13,16,19,22,25,28]},\"id\":\"8277\",\"type\":\"DaysTicker\"},{\"attributes\":{\"label\":{\"value\":\"EIA weather and holidays\"},\"renderers\":[{\"id\":\"8347\",\"type\":\"GlyphRenderer\"}]},\"id\":\"8374\",\"type\":\"LegendItem\"},{\"attributes\":{\"data_source\":{\"id\":\"8288\",\"type\":\"ColumnDataSource\"},\"glyph\":{\"id\":\"8289\",\"type\":\"Line\"},\"hover_glyph\":null,\"muted_glyph\":null,\"nonselection_glyph\":{\"id\":\"8290\",\"type\":\"Line\"},\"selection_glyph\":null,\"view\":{\"id\":\"8292\",\"type\":\"CDSView\"}},\"id\":\"8291\",\"type\":\"GlyphRenderer\"},{\"attributes\":{},\"id\":\"8252\",\"type\":\"SaveTool\"},{\"attributes\":{\"active_drag\":\"auto\",\"active_inspect\":\"auto\",\"active_multi\":null,\"active_scroll\":\"auto\",\"active_tap\":\"auto\",\"tools\":[{\"id\":\"8249\",\"type\":\"PanTool\"},{\"id\":\"8250\",\"type\":\"WheelZoomTool\"},{\"id\":\"8251\",\"type\":\"BoxZoomTool\"},{\"id\":\"8252\",\"type\":\"SaveTool\"},{\"id\":\"8253\",\"type\":\"ResetTool\"},{\"id\":\"8254\",\"type\":\"HelpTool\"}]},\"id\":\"8255\",\"type\":\"Toolbar\"},{\"attributes\":{\"base\":60,\"mantissas\":[1,2,5,10,15,20,30],\"max_interval\":1800000.0,\"min_interval\":1000.0,\"num_minor_ticks\":0},\"id\":\"8274\",\"type\":\"AdaptiveTicker\"},{\"attributes\":{},\"id\":\"8373\",\"type\":\"Selection\"},{\"attributes\":{\"callback\":null},\"id\":\"8231\",\"type\":\"DataRange1d\"},{\"attributes\":{},\"id\":\"8341\",\"type\":\"UnionRenderers\"},{\"attributes\":{},\"id\":\"8249\",\"type\":\"PanTool\"},{\"attributes\":{},\"id\":\"8254\",\"type\":\"HelpTool\"},{\"attributes\":{\"callback\":null,\"data\":{\"x\":{\"__ndarray__\":\"AADgE7zQdUIAAMiCv9B1QgAAsPHC0HVCAACYYMbQdUIAAIDPydB1QgAAaD7N0HVCAABQrdDQdUIAADgc1NB1QgAAIIvX0HVCAAAI+trQdUIAAPBo3tB1QgAA2Nfh0HVCAADARuXQdUIAAKi16NB1QgAAkCTs0HVCAAB4k+/QdUIAAGAC89B1QgAASHH20HVCAAAw4PnQdUIAABhP/dB1QgAAAL4A0XVCAADoLATRdUIAANCbB9F1QgAAuAoL0XVCAACgeQ7RdUIAAIjoEdF1QgAAcFcV0XVCAABYxhjRdUIAAEA1HNF1QgAAKKQf0XVCAAAQEyPRdUIAAPiBJtF1QgAA4PAp0XVCAADIXy3RdUIAALDOMNF1QgAAmD000XVCAACArDfRdUIAAGgbO9F1QgAAUIo+0XVCAAA4+UHRdUIAACBoRdF1QgAACNdI0XVCAADwRUzRdUIAANi0T9F1QgAAwCNT0XVCAACoklbRdUIAAJABWtF1QgAAeHBd0XVC\",\"dtype\":\"float64\",\"shape\":[48]},\"y\":{\"__ndarray__\":\"+n09ejjcYkAW0dQ1hLpaQPYVB5MYQFNACAE5ZcADTkAmceabva5JQM7du2/PQVJAZk/hpfiuXUC3V+mtZU9iQOzl4eKuMmJAddT5xWylZEC9dMXUY/tmQD2HF47kgGpAezmjF1oMb0BP/gAVwT1xQBap8LPAWnJAInKZ8/C2ckAiBc66MbZzQPwiJ1bNM3VAOtcNNV4nd0DC1f1nn7x2QF+DZ9cXr3RAgDgoAezYc0B3Kxl7p8xxQFL91eQE5XBAjgffwU/xaEAOmOaY1s5ZQA1yGo4l51BAvl4T/t+uR0DC8l20FAlHQJi5HqUDbFFAaiUAh/HnZECYgrWkEjdzQEBC0ERYwXdAht1mPJqaeUD/xIfSet13QMjDLwnZInhAurQA/IJgeEBxAcKo/DB5QM4QzYVM3HlAWx+uU982eUAbC4BzsOp3QNtgCXrjhnpAFVuYrbq+f0AQGDDzxbJ/QL5QCxPh+XxAiIMYwVIne0BDf3bw/7J5QEleU9G5AnNA\",\"dtype\":\"float64\",\"shape\":[48]}},\"selected\":{\"id\":\"8313\",\"type\":\"Selection\"},\"selection_policy\":{\"id\":\"8312\",\"type\":\"UnionRenderers\"}},\"id\":\"8262\",\"type\":\"ColumnDataSource\"},{\"attributes\":{\"callback\":null,\"data\":{\"x\":{\"__ndarray__\":\"AADgE7zQdUIAAMiCv9B1QgAAsPHC0HVCAACYYMbQdUIAAIDPydB1QgAAaD7N0HVCAABQrdDQdUIAADgc1NB1QgAAIIvX0HVCAAAI+trQdUIAAPBo3tB1QgAA2Nfh0HVCAADARuXQdUIAAKi16NB1QgAAkCTs0HVCAAB4k+/QdUIAAGAC89B1QgAASHH20HVCAAAw4PnQdUIAABhP/dB1QgAAAL4A0XVCAADoLATRdUIAANCbB9F1QgAAuAoL0XVCAACgeQ7RdUIAAIjoEdF1QgAAcFcV0XVCAABYxhjRdUIAAEA1HNF1QgAAKKQf0XVCAAAQEyPRdUIAAPiBJtF1QgAA4PAp0XVCAADIXy3RdUIAALDOMNF1QgAAmD000XVCAACArDfRdUIAAGgbO9F1QgAAUIo+0XVCAAA4+UHRdUIAACBoRdF1QgAACNdI0XVCAADwRUzRdUIAANi0T9F1QgAAwCNT0XVCAACoklbRdUIAAJABWtF1QgAAeHBd0XVC\",\"dtype\":\"float64\",\"shape\":[48]},\"y\":{\"__ndarray__\":\"znGmtwyaaUD30oTY+LdiQBKJgvj6M1pAL7ovDA1RVEAeseISnWlSQCIRFLxvMFVAmInHlW0RXEATlHST2lljQMh7F+MckmhAi2tEEHDSbEBxUS1cWu1wQC7OESaDkXNA6UsN9o5ldUC+bmnGGa12QGq9bIRBendAWIUw2ztTd0Ag/uWTi1t3QOrO1JhQbXdAphLnh7r3d0D6dZhXwl13QKLviUi7ZnZAHFC5XkDxdUBMNLH4cPx0QJir1uiaN3RAatAZcFpibECz+i9o0SdgQAsSNiT5Y1FAts/x7RzTRkDQXnt4kHhIQPy4h+30zVVALOZcFVdEZkCqBqMyH7NyQNAKcpnelHdAOsNm8QwweUCOG6aXNjN4QJc3n1dEpXhAqsKIfXHweEAIl0XJnDN5QKYDM35bDnpASi1um6wweUAXhytj2+Z3QH1U94QeYXtAhh8S36qRf0DDt3sS5QCAQO34jBAth31Ai5WybwtZe0AwDEcUXv95QH53NvSuL3RA\",\"dtype\":\"float64\",\"shape\":[48]}},\"selected\":{\"id\":\"8342\",\"type\":\"Selection\"},\"selection_policy\":{\"id\":\"8341\",\"type\":\"UnionRenderers\"}},\"id\":\"8288\",\"type\":\"ColumnDataSource\"},{\"attributes\":{\"label\":{\"value\":\"EIA no external variables\"},\"renderers\":[{\"id\":\"8318\",\"type\":\"GlyphRenderer\"}]},\"id\":\"8343\",\"type\":\"LegendItem\"},{\"attributes\":{},\"id\":\"8250\",\"type\":\"WheelZoomTool\"},{\"attributes\":{\"line_alpha\":0.1,\"line_color\":\"#1f77b4\",\"line_width\":2,\"x\":{\"field\":\"x\"},\"y\":{\"field\":\"y\"}},\"id\":\"8317\",\"type\":\"Line\"},{\"attributes\":{},\"id\":\"8814\",\"type\":\"Selection\"},{\"attributes\":{\"data_source\":{\"id\":\"8262\",\"type\":\"ColumnDataSource\"},\"glyph\":{\"id\":\"8263\",\"type\":\"Line\"},\"hover_glyph\":null,\"muted_glyph\":null,\"nonselection_glyph\":{\"id\":\"8264\",\"type\":\"Line\"},\"selection_glyph\":null,\"view\":{\"id\":\"8266\",\"type\":\"CDSView\"}},\"id\":\"8265\",\"type\":\"GlyphRenderer\"},{\"attributes\":{\"label\":{\"value\":\"No external variables\"},\"renderers\":[{\"id\":\"8265\",\"type\":\"GlyphRenderer\"}]},\"id\":\"8287\",\"type\":\"LegendItem\"},{\"attributes\":{\"source\":{\"id\":\"8262\",\"type\":\"ColumnDataSource\"}},\"id\":\"8266\",\"type\":\"CDSView\"},{\"attributes\":{\"line_color\":\"#fdae61\",\"line_width\":2,\"x\":{\"field\":\"x\"},\"y\":{\"field\":\"y\"}},\"id\":\"8345\",\"type\":\"Line\"},{\"attributes\":{},\"id\":\"8235\",\"type\":\"LinearScale\"},{\"attributes\":{\"source\":{\"id\":\"8315\",\"type\":\"ColumnDataSource\"}},\"id\":\"8319\",\"type\":\"CDSView\"},{\"attributes\":{\"line_color\":\"#e6f598\",\"line_width\":2,\"x\":{\"field\":\"x\"},\"y\":{\"field\":\"y\"}},\"id\":\"8316\",\"type\":\"Line\"},{\"attributes\":{\"base\":24,\"mantissas\":[1,2,4,6,8,12],\"max_interval\":43200000.0,\"min_interval\":3600000.0,\"num_minor_ticks\":0},\"id\":\"8275\",\"type\":\"AdaptiveTicker\"},{\"attributes\":{},\"id\":\"8342\",\"type\":\"Selection\"},{\"attributes\":{},\"id\":\"8253\",\"type\":\"ResetTool\"},{\"attributes\":{\"num_minor_ticks\":5,\"tickers\":[{\"id\":\"8273\",\"type\":\"AdaptiveTicker\"},{\"id\":\"8274\",\"type\":\"AdaptiveTicker\"},{\"id\":\"8275\",\"type\":\"AdaptiveTicker\"},{\"id\":\"8276\",\"type\":\"DaysTicker\"},{\"id\":\"8277\",\"type\":\"DaysTicker\"},{\"id\":\"8278\",\"type\":\"DaysTicker\"},{\"id\":\"8279\",\"type\":\"DaysTicker\"},{\"id\":\"8280\",\"type\":\"MonthsTicker\"},{\"id\":\"8281\",\"type\":\"MonthsTicker\"},{\"id\":\"8282\",\"type\":\"MonthsTicker\"},{\"id\":\"8283\",\"type\":\"MonthsTicker\"},{\"id\":\"8284\",\"type\":\"YearsTicker\"}]},\"id\":\"8240\",\"type\":\"DatetimeTicker\"}],\"root_ids\":[\"8230\"]},\"title\":\"Bokeh Application\",\"version\":\"1.4.0\"}};\n",
       "  var render_items = [{\"docid\":\"f74c8942-bb48-4d63-bd5d-be7fe690e710\",\"roots\":{\"8230\":\"31011d16-dc3e-4b12-ba93-5a8208a52159\"}}];\n",
       "  root.Bokeh.embed.embed_items_notebook(docs_json, render_items);\n",
       "\n",
       "  }\n",
       "  if (root.Bokeh !== undefined) {\n",
       "    embed_document(root);\n",
       "  } else {\n",
       "    var attempts = 0;\n",
       "    var timer = setInterval(function(root) {\n",
       "      if (root.Bokeh !== undefined) {\n",
       "        clearInterval(timer);\n",
       "        embed_document(root);\n",
       "      } else {\n",
       "        attempts++;\n",
       "        if (attempts > 100) {\n",
       "          clearInterval(timer);\n",
       "          console.log(\"Bokeh: ERROR: Unable to run BokehJS code because BokehJS library is missing\");\n",
       "        }\n",
       "      }\n",
       "    }, 10, root)\n",
       "  }\n",
       "})(window);"
      ],
      "application/vnd.bokehjs_exec.v0+json": ""
     },
     "metadata": {
      "application/vnd.bokehjs_exec.v0+json": {
       "id": "8230"
      }
     },
     "output_type": "display_data"
    }
   ],
   "source": [
    "s = slice('2017-07-04', '2017-07-05')\n",
    "\n",
    "p = figure(plot_width=800, plot_height=400, x_axis_type='datetime')\n",
    "p.line(x = pred_ne[s].index, y=pred_ne[s], line_width=2, legend_label='No external variables', color = Spectral8[0])\n",
    "p.line(x = pred_w_h[s].index, y=pred_w_h[s], line_width=2, legend_label='Weather and holidays', color = Spectral8[1])\n",
    "p.line(x = eia_ne[s].index, y=eia_ne[s], line_width=2, legend_label='EIA no external variables', color = Spectral8[3])\n",
    "p.line(x = eia_w_h[s].index, y=eia_w_h[s], line_width=2, legend_label='EIA weather and holidays', color = Spectral8[5])\n",
    "p.line(x = real[s].index, y=real[s], line_width=2, legend_label='Real demand', color = Spectral8[7])\n",
    "\n",
    "p.yaxis.axis_label = 'Predictions'\n",
    "p.title.text = '4th of July'\n",
    "p.legend.location = 'bottom_left'\n",
    "p.legend.click_policy=\"hide\"\n",
    "\n",
    "show(p)"
   ]
  },
  {
   "cell_type": "code",
   "execution_count": 13,
   "metadata": {
    "ExecuteTime": {
     "end_time": "2020-02-21T12:52:18.929774Z",
     "start_time": "2020-02-21T12:52:18.652328Z"
    }
   },
   "outputs": [
    {
     "data": {
      "text/html": [
       "\n",
       "\n",
       "\n",
       "\n",
       "\n",
       "\n",
       "  <div class=\"bk-root\" id=\"c3f465bd-e7b7-4f2b-9cc3-55f38aaed58f\" data-root-id=\"2688\"></div>\n"
      ]
     },
     "metadata": {},
     "output_type": "display_data"
    },
    {
     "data": {
      "application/javascript": [
       "(function(root) {\n",
       "  function embed_document(root) {\n",
       "    \n",
       "  var docs_json = {\"6f43143d-ae1b-4354-a33d-3ef1e3ae9069\":{\"roots\":{\"references\":[{\"attributes\":{\"below\":[{\"id\":\"2697\",\"type\":\"DatetimeAxis\"}],\"center\":[{\"id\":\"2701\",\"type\":\"Grid\"},{\"id\":\"2706\",\"type\":\"Grid\"},{\"id\":\"2744\",\"type\":\"Legend\"}],\"left\":[{\"id\":\"2702\",\"type\":\"LinearAxis\"}],\"plot_height\":400,\"plot_width\":800,\"renderers\":[{\"id\":\"2723\",\"type\":\"GlyphRenderer\"},{\"id\":\"2749\",\"type\":\"GlyphRenderer\"},{\"id\":\"2776\",\"type\":\"GlyphRenderer\"},{\"id\":\"2805\",\"type\":\"GlyphRenderer\"},{\"id\":\"2836\",\"type\":\"GlyphRenderer\"},{\"id\":\"2869\",\"type\":\"GlyphRenderer\"}],\"title\":{\"id\":\"2725\",\"type\":\"Title\"},\"toolbar\":{\"id\":\"2713\",\"type\":\"Toolbar\"},\"x_range\":{\"id\":\"2689\",\"type\":\"DataRange1d\"},\"x_scale\":{\"id\":\"2693\",\"type\":\"LinearScale\"},\"y_range\":{\"id\":\"2691\",\"type\":\"DataRange1d\"},\"y_scale\":{\"id\":\"2695\",\"type\":\"LinearScale\"}},\"id\":\"2688\",\"subtype\":\"Figure\",\"type\":\"Plot\"},{\"attributes\":{\"callback\":null,\"data\":{\"x\":{\"__ndarray__\":\"AABgUAKFc0IAAEi/BYVzQgAAMC4JhXNCAAAYnQyFc0IAAAAMEIVzQgAA6HoThXNCAADQ6RaFc0IAALhYGoVzQgAAoMcdhXNCAACINiGFc0IAAHClJIVzQgAAWBQohXNCAABAgyuFc0IAACjyLoVzQgAAEGEyhXNCAAD4zzWFc0IAAOA+OYVzQgAAyK08hXNCAACwHECFc0IAAJiLQ4VzQgAAgPpGhXNCAABoaUqFc0IAAFDYTYVzQgAAOEdRhXNCAAAgtlSFc0IAAAglWIVzQgAA8JNbhXNCAADYAl+Fc0IAAMBxYoVzQgAAqOBlhXNCAACQT2mFc0IAAHi+bIVzQgAAYC1whXNCAABInHOFc0IAADALd4VzQgAAGHp6hXNCAAAA6X2Fc0IAAOhXgYVzQgAA0MaEhXNCAAC4NYiFc0IAAKCki4VzQgAAiBOPhXNCAABwgpKFc0IAAFjxlYVzQgAAQGCZhXNCAAAoz5yFc0IAABA+oIVzQgAA+KyjhXNC\",\"dtype\":\"float64\",\"shape\":[48]},\"y\":{\"__ndarray__\":\"MzMzMzNzbUAAAAAAAEBnQJqZmZmZAWJAAAAAAADQW0DNzMzMzLxVQDMzMzMzE0hAMzMzMzOTS0AAAAAAAKBRQJqZmZmZyVhAmpmZmZkZYkAAAAAAAGBqQM3MzMzMrHBAmpmZmZnlckBmZmZmZmpzQDMzMzMzw3RAMzMzMzO7dUBmZmZmZrZ2QAAAAAAAgHlAAAAAAADoe0AAAAAAALx6QM3MzMzM7HhAMzMzMzMPekDNzMzMzBh6QJqZmZmZmXhAAAAAAADQbkAAAAAAACBZQDMzMzMzA1FAZmZmZmZGSEAAAAAAACBNQDMzMzMz81VAmpmZmZnpbEDNzMzMzLh1QDMzMzMzK31AmpmZmZkxfUBmZmZmZs55QJqZmZmZLXpAmpmZmZkZe0DNzMzMzNh7QAAAAAAA0HxAZmZmZmZyfECamZmZmcl6QGZmZmZmNn9AMzMzMzMLg0CamZmZmS+BQAAAAAAAAH5AAAAAAADYf0BmZmZmZk58QDMzMzMzq3NA\",\"dtype\":\"float64\",\"shape\":[48]}},\"selected\":{\"id\":\"2898\",\"type\":\"Selection\"},\"selection_policy\":{\"id\":\"2897\",\"type\":\"UnionRenderers\"}},\"id\":\"2833\",\"type\":\"ColumnDataSource\"},{\"attributes\":{\"data_source\":{\"id\":\"2833\",\"type\":\"ColumnDataSource\"},\"glyph\":{\"id\":\"2834\",\"type\":\"Line\"},\"hover_glyph\":null,\"muted_glyph\":null,\"nonselection_glyph\":{\"id\":\"2835\",\"type\":\"Line\"},\"selection_glyph\":null,\"view\":{\"id\":\"2837\",\"type\":\"CDSView\"}},\"id\":\"2836\",\"type\":\"GlyphRenderer\"},{\"attributes\":{\"data_source\":{\"id\":\"2866\",\"type\":\"ColumnDataSource\"},\"glyph\":{\"id\":\"2867\",\"type\":\"Line\"},\"hover_glyph\":null,\"muted_glyph\":null,\"nonselection_glyph\":{\"id\":\"2868\",\"type\":\"Line\"},\"selection_glyph\":null,\"view\":{\"id\":\"2870\",\"type\":\"CDSView\"}},\"id\":\"2869\",\"type\":\"GlyphRenderer\"},{\"attributes\":{\"source\":{\"id\":\"2833\",\"type\":\"ColumnDataSource\"}},\"id\":\"2837\",\"type\":\"CDSView\"},{\"attributes\":{},\"id\":\"2862\",\"type\":\"UnionRenderers\"},{\"attributes\":{\"days\":[1,4,7,10,13,16,19,22,25,28]},\"id\":\"2735\",\"type\":\"DaysTicker\"},{\"attributes\":{\"label\":{\"value\":\"2016 demand\"},\"renderers\":[{\"id\":\"2836\",\"type\":\"GlyphRenderer\"}]},\"id\":\"2865\",\"type\":\"LegendItem\"},{\"attributes\":{},\"id\":\"2863\",\"type\":\"Selection\"},{\"attributes\":{\"line_alpha\":0.1,\"line_color\":\"#1f77b4\",\"line_width\":2,\"x\":{\"field\":\"x\"},\"y\":{\"field\":\"y\"}},\"id\":\"2868\",\"type\":\"Line\"},{\"attributes\":{\"callback\":null,\"data\":{\"x\":{\"__ndarray__\":\"AABgUAKFc0IAAEi/BYVzQgAAMC4JhXNCAAAYnQyFc0IAAAAMEIVzQgAA6HoThXNCAADQ6RaFc0IAALhYGoVzQgAAoMcdhXNCAACINiGFc0IAAHClJIVzQgAAWBQohXNCAABAgyuFc0IAACjyLoVzQgAAEGEyhXNCAAD4zzWFc0IAAOA+OYVzQgAAyK08hXNCAACwHECFc0IAAJiLQ4VzQgAAgPpGhXNCAABoaUqFc0IAAFDYTYVzQgAAOEdRhXNCAAAgtlSFc0IAAAglWIVzQgAA8JNbhXNCAADYAl+Fc0IAAMBxYoVzQgAAqOBlhXNCAACQT2mFc0IAAHi+bIVzQgAAYC1whXNCAABInHOFc0IAADALd4VzQgAAGHp6hXNCAAAA6X2Fc0IAAOhXgYVzQgAA0MaEhXNCAAC4NYiFc0IAAKCki4VzQgAAiBOPhXNCAABwgpKFc0IAAFjxlYVzQgAAQGCZhXNCAAAoz5yFc0IAABA+oIVzQgAA+KyjhXNC\",\"dtype\":\"float64\",\"shape\":[48]},\"y\":{\"__ndarray__\":\"zczMzMwsaEAzMzMzMwNjQJqZmZmZiV1AmpmZmZl5UkBmZmZmZiZMQAAAAAAAoEJAzczMzMwsRkCamZmZmdlOQGZmZmZm9lZAmpmZmZkxYEAzMzMzMztnQAAAAAAAaGxAMzMzMzMTb0DNzMzMzKBwQDMzMzMzb3FAAAAAAADcckAzMzMzM9tzQAAAAAAA6HRAmpmZmZlhdUAAAAAAADx1QDMzMzMzx3NAmpmZmZldc0AzMzMzM4N2QDMzMzMzG3NAmpmZmZkxZUAzMzMzM3NWQDMzMzMzU09AzczMzMwMREBmZmZmZsZFQAAAAAAAwFFAzczMzMzEZkBmZmZmZipyQGZmZmZmanhAMzMzMzODeECamZmZmRV3QAAAAAAAQHdAmpmZmZkJeEAAAAAAAKh5QGZmZmZm3nhAAAAAAACseECamZmZmdV3QJqZmZmZ+XtAZmZmZmbKf0AAAAAAAPh9QJqZmZmZxXlAzczMzMx4ekDNzMzMzOB3QGZmZmZmJnJA\",\"dtype\":\"float64\",\"shape\":[48]}},\"selected\":{\"id\":\"3020\",\"type\":\"Selection\"},\"selection_policy\":{\"id\":\"3019\",\"type\":\"UnionRenderers\"}},\"id\":\"2866\",\"type\":\"ColumnDataSource\"},{\"attributes\":{\"source\":{\"id\":\"2866\",\"type\":\"ColumnDataSource\"}},\"id\":\"2870\",\"type\":\"CDSView\"},{\"attributes\":{\"num_minor_ticks\":5,\"tickers\":[{\"id\":\"2731\",\"type\":\"AdaptiveTicker\"},{\"id\":\"2732\",\"type\":\"AdaptiveTicker\"},{\"id\":\"2733\",\"type\":\"AdaptiveTicker\"},{\"id\":\"2734\",\"type\":\"DaysTicker\"},{\"id\":\"2735\",\"type\":\"DaysTicker\"},{\"id\":\"2736\",\"type\":\"DaysTicker\"},{\"id\":\"2737\",\"type\":\"DaysTicker\"},{\"id\":\"2738\",\"type\":\"MonthsTicker\"},{\"id\":\"2739\",\"type\":\"MonthsTicker\"},{\"id\":\"2740\",\"type\":\"MonthsTicker\"},{\"id\":\"2741\",\"type\":\"MonthsTicker\"},{\"id\":\"2742\",\"type\":\"YearsTicker\"}]},\"id\":\"2698\",\"type\":\"DatetimeTicker\"},{\"attributes\":{\"line_color\":\"#abdda4\",\"line_width\":2,\"x\":{\"field\":\"x\"},\"y\":{\"field\":\"y\"}},\"id\":\"2774\",\"type\":\"Line\"},{\"attributes\":{\"label\":{\"value\":\"2017 demand\"},\"renderers\":[{\"id\":\"2869\",\"type\":\"GlyphRenderer\"}]},\"id\":\"2900\",\"type\":\"LegendItem\"},{\"attributes\":{},\"id\":\"2897\",\"type\":\"UnionRenderers\"},{\"attributes\":{},\"id\":\"2898\",\"type\":\"Selection\"},{\"attributes\":{},\"id\":\"3019\",\"type\":\"UnionRenderers\"},{\"attributes\":{\"callback\":null},\"id\":\"2689\",\"type\":\"DataRange1d\"},{\"attributes\":{\"line_color\":\"#66c2a5\",\"line_width\":2,\"x\":{\"field\":\"x\"},\"y\":{\"field\":\"y\"}},\"id\":\"2747\",\"type\":\"Line\"},{\"attributes\":{},\"id\":\"3020\",\"type\":\"Selection\"},{\"attributes\":{},\"id\":\"2693\",\"type\":\"LinearScale\"},{\"attributes\":{\"callback\":null},\"id\":\"2691\",\"type\":\"DataRange1d\"},{\"attributes\":{\"formatter\":{\"id\":\"2728\",\"type\":\"DatetimeTickFormatter\"},\"ticker\":{\"id\":\"2698\",\"type\":\"DatetimeTicker\"}},\"id\":\"2697\",\"type\":\"DatetimeAxis\"},{\"attributes\":{},\"id\":\"2695\",\"type\":\"LinearScale\"},{\"attributes\":{\"dimension\":1,\"ticker\":{\"id\":\"2703\",\"type\":\"BasicTicker\"}},\"id\":\"2706\",\"type\":\"Grid\"},{\"attributes\":{\"data_source\":{\"id\":\"2746\",\"type\":\"ColumnDataSource\"},\"glyph\":{\"id\":\"2747\",\"type\":\"Line\"},\"hover_glyph\":null,\"muted_glyph\":null,\"nonselection_glyph\":{\"id\":\"2748\",\"type\":\"Line\"},\"selection_glyph\":null,\"view\":{\"id\":\"2750\",\"type\":\"CDSView\"}},\"id\":\"2749\",\"type\":\"GlyphRenderer\"},{\"attributes\":{\"days\":[1,15]},\"id\":\"2737\",\"type\":\"DaysTicker\"},{\"attributes\":{\"line_alpha\":0.1,\"line_color\":\"#1f77b4\",\"line_width\":2,\"x\":{\"field\":\"x\"},\"y\":{\"field\":\"y\"}},\"id\":\"2748\",\"type\":\"Line\"},{\"attributes\":{\"ticker\":{\"id\":\"2698\",\"type\":\"DatetimeTicker\"}},\"id\":\"2701\",\"type\":\"Grid\"},{\"attributes\":{},\"id\":\"2703\",\"type\":\"BasicTicker\"},{\"attributes\":{\"source\":{\"id\":\"2746\",\"type\":\"ColumnDataSource\"}},\"id\":\"2750\",\"type\":\"CDSView\"},{\"attributes\":{\"axis_label\":\"Mean demand\",\"formatter\":{\"id\":\"2730\",\"type\":\"BasicTickFormatter\"},\"ticker\":{\"id\":\"2703\",\"type\":\"BasicTicker\"}},\"id\":\"2702\",\"type\":\"LinearAxis\"},{\"attributes\":{\"mantissas\":[1,2,5],\"max_interval\":500.0,\"num_minor_ticks\":0},\"id\":\"2731\",\"type\":\"AdaptiveTicker\"},{\"attributes\":{},\"id\":\"2769\",\"type\":\"UnionRenderers\"},{\"attributes\":{\"label\":{\"value\":\"2013 demand\"},\"renderers\":[{\"id\":\"2749\",\"type\":\"GlyphRenderer\"}]},\"id\":\"2772\",\"type\":\"LegendItem\"},{\"attributes\":{},\"id\":\"2770\",\"type\":\"Selection\"},{\"attributes\":{\"active_drag\":\"auto\",\"active_inspect\":\"auto\",\"active_multi\":null,\"active_scroll\":\"auto\",\"active_tap\":\"auto\",\"tools\":[{\"id\":\"2707\",\"type\":\"PanTool\"},{\"id\":\"2708\",\"type\":\"WheelZoomTool\"},{\"id\":\"2709\",\"type\":\"BoxZoomTool\"},{\"id\":\"2710\",\"type\":\"SaveTool\"},{\"id\":\"2711\",\"type\":\"ResetTool\"},{\"id\":\"2712\",\"type\":\"HelpTool\"}]},\"id\":\"2713\",\"type\":\"Toolbar\"},{\"attributes\":{\"data_source\":{\"id\":\"2720\",\"type\":\"ColumnDataSource\"},\"glyph\":{\"id\":\"2721\",\"type\":\"Line\"},\"hover_glyph\":null,\"muted_glyph\":null,\"nonselection_glyph\":{\"id\":\"2722\",\"type\":\"Line\"},\"selection_glyph\":null,\"view\":{\"id\":\"2724\",\"type\":\"CDSView\"}},\"id\":\"2723\",\"type\":\"GlyphRenderer\"},{\"attributes\":{\"line_color\":\"#e6f598\",\"line_width\":2,\"x\":{\"field\":\"x\"},\"y\":{\"field\":\"y\"}},\"id\":\"2803\",\"type\":\"Line\"},{\"attributes\":{\"base\":60,\"mantissas\":[1,2,5,10,15,20,30],\"max_interval\":1800000.0,\"min_interval\":1000.0,\"num_minor_ticks\":0},\"id\":\"2732\",\"type\":\"AdaptiveTicker\"},{\"attributes\":{\"text\":\"4th of July\"},\"id\":\"2725\",\"type\":\"Title\"},{\"attributes\":{\"data_source\":{\"id\":\"2773\",\"type\":\"ColumnDataSource\"},\"glyph\":{\"id\":\"2774\",\"type\":\"Line\"},\"hover_glyph\":null,\"muted_glyph\":null,\"nonselection_glyph\":{\"id\":\"2775\",\"type\":\"Line\"},\"selection_glyph\":null,\"view\":{\"id\":\"2777\",\"type\":\"CDSView\"}},\"id\":\"2776\",\"type\":\"GlyphRenderer\"},{\"attributes\":{},\"id\":\"2707\",\"type\":\"PanTool\"},{\"attributes\":{},\"id\":\"2708\",\"type\":\"WheelZoomTool\"},{\"attributes\":{\"overlay\":{\"id\":\"2743\",\"type\":\"BoxAnnotation\"}},\"id\":\"2709\",\"type\":\"BoxZoomTool\"},{\"attributes\":{\"line_alpha\":0.1,\"line_color\":\"#1f77b4\",\"line_width\":2,\"x\":{\"field\":\"x\"},\"y\":{\"field\":\"y\"}},\"id\":\"2775\",\"type\":\"Line\"},{\"attributes\":{},\"id\":\"2710\",\"type\":\"SaveTool\"},{\"attributes\":{\"callback\":null,\"data\":{\"x\":{\"__ndarray__\":\"AABgUAKFc0IAAEi/BYVzQgAAMC4JhXNCAAAYnQyFc0IAAAAMEIVzQgAA6HoThXNCAADQ6RaFc0IAALhYGoVzQgAAoMcdhXNCAACINiGFc0IAAHClJIVzQgAAWBQohXNCAABAgyuFc0IAACjyLoVzQgAAEGEyhXNCAAD4zzWFc0IAAOA+OYVzQgAAyK08hXNCAACwHECFc0IAAJiLQ4VzQgAAgPpGhXNCAABoaUqFc0IAAFDYTYVzQgAAOEdRhXNCAAAgtlSFc0IAAAglWIVzQgAA8JNbhXNCAADYAl+Fc0IAAMBxYoVzQgAAqOBlhXNCAACQT2mFc0IAAHi+bIVzQgAAYC1whXNCAABInHOFc0IAADALd4VzQgAAGHp6hXNCAAAA6X2Fc0IAAOhXgYVzQgAA0MaEhXNCAAC4NYiFc0IAAKCki4VzQgAAiBOPhXNCAABwgpKFc0IAAFjxlYVzQgAAQGCZhXNCAAAoz5yFc0IAABA+oIVzQgAA+KyjhXNC\",\"dtype\":\"float64\",\"shape\":[48]},\"y\":{\"__ndarray__\":\"zczMzMz0ekAzMzMzM790QJqZmZmZsW9AmpmZmZlJaUBmZmZmZt5hQAAAAAAAEFdAzczMzMyMW0BmZmZmZt5hQAAAAAAASGRAAAAAAACobUAAAAAAAFRyQGZmZmZmendAmpmZmZmlekAzMzMzM/N9QDMzMzMzK4JAzczMzMxQf0CamZmZmYV7QGZmZmZmznZAmpmZmZlpfEDNzMzMzCB6QGZmZmZm5ndAmpmZmZn1dkAAAAAAALB4QAAAAAAASHxAMzMzMzOPeEBmZmZmZrZzQDMzMzMzu21AzczMzMz8Z0DNzMzMzNxgQAAAAAAA0FFAAAAAAAAgVEAzMzMzM3NcQGZmZmZmNmNAzczMzMxcb0DNzMzMzKh0QJqZmZmZPXdAMzMzMzODeECamZmZmdl4QJqZmZmZ7XlAZmZmZmbWeUCamZmZmZF5QGZmZmZmOntAZmZmZmb2fECamZmZmdl/QJqZmZmZUXpAMzMzMzNTfECamZmZmdV/QGZmZmZmtn9A\",\"dtype\":\"float64\",\"shape\":[48]}},\"selected\":{\"id\":\"2830\",\"type\":\"Selection\"},\"selection_policy\":{\"id\":\"2829\",\"type\":\"UnionRenderers\"}},\"id\":\"2773\",\"type\":\"ColumnDataSource\"},{\"attributes\":{\"data_source\":{\"id\":\"2802\",\"type\":\"ColumnDataSource\"},\"glyph\":{\"id\":\"2803\",\"type\":\"Line\"},\"hover_glyph\":null,\"muted_glyph\":null,\"nonselection_glyph\":{\"id\":\"2804\",\"type\":\"Line\"},\"selection_glyph\":null,\"view\":{\"id\":\"2806\",\"type\":\"CDSView\"}},\"id\":\"2805\",\"type\":\"GlyphRenderer\"},{\"attributes\":{},\"id\":\"2711\",\"type\":\"ResetTool\"},{\"attributes\":{\"source\":{\"id\":\"2773\",\"type\":\"ColumnDataSource\"}},\"id\":\"2777\",\"type\":\"CDSView\"},{\"attributes\":{},\"id\":\"2712\",\"type\":\"HelpTool\"},{\"attributes\":{\"source\":{\"id\":\"2720\",\"type\":\"ColumnDataSource\"}},\"id\":\"2724\",\"type\":\"CDSView\"},{\"attributes\":{},\"id\":\"2728\",\"type\":\"DatetimeTickFormatter\"},{\"attributes\":{},\"id\":\"2799\",\"type\":\"Selection\"},{\"attributes\":{},\"id\":\"2798\",\"type\":\"UnionRenderers\"},{\"attributes\":{\"label\":{\"value\":\"2014 demand\"},\"renderers\":[{\"id\":\"2776\",\"type\":\"GlyphRenderer\"}]},\"id\":\"2801\",\"type\":\"LegendItem\"},{\"attributes\":{},\"id\":\"2730\",\"type\":\"BasicTickFormatter\"},{\"attributes\":{\"months\":[0,2,4,6,8,10]},\"id\":\"2739\",\"type\":\"MonthsTicker\"},{\"attributes\":{\"line_color\":\"#3288bd\",\"line_width\":2,\"x\":{\"field\":\"x\"},\"y\":{\"field\":\"y\"}},\"id\":\"2721\",\"type\":\"Line\"},{\"attributes\":{\"months\":[0,4,8]},\"id\":\"2740\",\"type\":\"MonthsTicker\"},{\"attributes\":{\"line_alpha\":0.1,\"line_color\":\"#1f77b4\",\"line_width\":2,\"x\":{\"field\":\"x\"},\"y\":{\"field\":\"y\"}},\"id\":\"2804\",\"type\":\"Line\"},{\"attributes\":{\"months\":[0,6]},\"id\":\"2741\",\"type\":\"MonthsTicker\"},{\"attributes\":{\"callback\":null,\"data\":{\"x\":{\"__ndarray__\":\"AABgUAKFc0IAAEi/BYVzQgAAMC4JhXNCAAAYnQyFc0IAAAAMEIVzQgAA6HoThXNCAADQ6RaFc0IAALhYGoVzQgAAoMcdhXNCAACINiGFc0IAAHClJIVzQgAAWBQohXNCAABAgyuFc0IAACjyLoVzQgAAEGEyhXNCAAD4zzWFc0IAAOA+OYVzQgAAyK08hXNCAACwHECFc0IAAJiLQ4VzQgAAgPpGhXNCAABoaUqFc0IAAFDYTYVzQgAAOEdRhXNCAAAgtlSFc0IAAAglWIVzQgAA8JNbhXNCAADYAl+Fc0IAAMBxYoVzQgAAqOBlhXNCAACQT2mFc0IAAHi+bIVzQgAAYC1whXNCAABInHOFc0IAADALd4VzQgAAGHp6hXNCAAAA6X2Fc0IAAOhXgYVzQgAA0MaEhXNCAAC4NYiFc0IAAKCki4VzQgAAiBOPhXNCAABwgpKFc0IAAFjxlYVzQgAAQGCZhXNCAAAoz5yFc0IAABA+oIVzQgAA+KyjhXNC\",\"dtype\":\"float64\",\"shape\":[48]},\"y\":{\"__ndarray__\":\"MzMzMzM7eUDNzMzMzDx0QAAAAAAAgHBAMzMzMzOjakCamZmZmbliQM3MzMzMTFFAzczMzMz8UEDNzMzMzOxTQJqZmZmZ2VpAZmZmZmZGZkBmZmZmZpZtQDMzMzMz13BAmpmZmZlldkCamZmZmWV5QDMzMzMzl3RAZmZmZmaec0BmZmZmZo51QJqZmZmZoXZAMzMzMzOXeEDNzMzMzGB3QAAAAAAARHVAMzMzMzPzc0CamZmZmeF5QJqZmZmZwXlAAAAAAACUdkAAAAAAAPRyQM3MzMzM/GxAmpmZmZlZZkAAAAAAALhgQDMzMzMzo1FAzczMzMwcUUAAAAAAADBXQJqZmZmZsWBAAAAAAABAaEAzMzMzMxdyQJqZmZmZPXVAAAAAAADQd0CamZmZmeV4QAAAAAAAzHpAzczMzMwkekAAAAAAAAR7QDMzMzMzj31AAAAAAACcf0AAAAAAAGR+QAAAAAAA9HhAAAAAAADcfkCamZmZmaF7QJqZmZmZYXZA\",\"dtype\":\"float64\",\"shape\":[48]}},\"selected\":{\"id\":\"2863\",\"type\":\"Selection\"},\"selection_policy\":{\"id\":\"2862\",\"type\":\"UnionRenderers\"}},\"id\":\"2802\",\"type\":\"ColumnDataSource\"},{\"attributes\":{\"line_alpha\":0.1,\"line_color\":\"#1f77b4\",\"line_width\":2,\"x\":{\"field\":\"x\"},\"y\":{\"field\":\"y\"}},\"id\":\"2835\",\"type\":\"Line\"},{\"attributes\":{\"months\":[0,1,2,3,4,5,6,7,8,9,10,11]},\"id\":\"2738\",\"type\":\"MonthsTicker\"},{\"attributes\":{},\"id\":\"2742\",\"type\":\"YearsTicker\"},{\"attributes\":{\"days\":[1,2,3,4,5,6,7,8,9,10,11,12,13,14,15,16,17,18,19,20,21,22,23,24,25,26,27,28,29,30,31]},\"id\":\"2734\",\"type\":\"DaysTicker\"},{\"attributes\":{\"source\":{\"id\":\"2802\",\"type\":\"ColumnDataSource\"}},\"id\":\"2806\",\"type\":\"CDSView\"},{\"attributes\":{\"base\":24,\"mantissas\":[1,2,4,6,8,12],\"max_interval\":43200000.0,\"min_interval\":3600000.0,\"num_minor_ticks\":0},\"id\":\"2733\",\"type\":\"AdaptiveTicker\"},{\"attributes\":{\"bottom_units\":\"screen\",\"fill_alpha\":{\"value\":0.5},\"fill_color\":{\"value\":\"lightgrey\"},\"left_units\":\"screen\",\"level\":\"overlay\",\"line_alpha\":{\"value\":1.0},\"line_color\":{\"value\":\"black\"},\"line_dash\":[4,4],\"line_width\":{\"value\":2},\"render_mode\":\"css\",\"right_units\":\"screen\",\"top_units\":\"screen\"},\"id\":\"2743\",\"type\":\"BoxAnnotation\"},{\"attributes\":{\"label\":{\"value\":\"2012 demand\"},\"renderers\":[{\"id\":\"2723\",\"type\":\"GlyphRenderer\"}]},\"id\":\"2745\",\"type\":\"LegendItem\"},{\"attributes\":{\"line_alpha\":0.1,\"line_color\":\"#1f77b4\",\"line_width\":2,\"x\":{\"field\":\"x\"},\"y\":{\"field\":\"y\"}},\"id\":\"2722\",\"type\":\"Line\"},{\"attributes\":{\"days\":[1,8,15,22]},\"id\":\"2736\",\"type\":\"DaysTicker\"},{\"attributes\":{},\"id\":\"2830\",\"type\":\"Selection\"},{\"attributes\":{},\"id\":\"2829\",\"type\":\"UnionRenderers\"},{\"attributes\":{\"click_policy\":\"hide\",\"items\":[{\"id\":\"2745\",\"type\":\"LegendItem\"},{\"id\":\"2772\",\"type\":\"LegendItem\"},{\"id\":\"2801\",\"type\":\"LegendItem\"},{\"id\":\"2832\",\"type\":\"LegendItem\"},{\"id\":\"2865\",\"type\":\"LegendItem\"},{\"id\":\"2900\",\"type\":\"LegendItem\"}],\"location\":\"bottom_left\"},\"id\":\"2744\",\"type\":\"Legend\"},{\"attributes\":{\"label\":{\"value\":\"2015 demand\"},\"renderers\":[{\"id\":\"2805\",\"type\":\"GlyphRenderer\"}]},\"id\":\"2832\",\"type\":\"LegendItem\"},{\"attributes\":{\"callback\":null,\"data\":{\"x\":{\"__ndarray__\":\"AABgUAKFc0IAAEi/BYVzQgAAMC4JhXNCAAAYnQyFc0IAAAAMEIVzQgAA6HoThXNCAADQ6RaFc0IAALhYGoVzQgAAoMcdhXNCAACINiGFc0IAAHClJIVzQgAAWBQohXNCAABAgyuFc0IAACjyLoVzQgAAEGEyhXNCAAD4zzWFc0IAAOA+OYVzQgAAyK08hXNCAACwHECFc0IAAJiLQ4VzQgAAgPpGhXNCAABoaUqFc0IAAFDYTYVzQgAAOEdRhXNCAAAgtlSFc0IAAAglWIVzQgAA8JNbhXNCAADYAl+Fc0IAAMBxYoVzQgAAqOBlhXNCAACQT2mFc0IAAHi+bIVzQgAAYC1whXNCAABInHOFc0IAADALd4VzQgAAGHp6hXNCAAAA6X2Fc0IAAOhXgYVzQgAA0MaEhXNCAAC4NYiFc0IAAKCki4VzQgAAiBOPhXNCAABwgpKFc0IAAFjxlYVzQgAAQGCZhXNCAAAoz5yFc0IAABA+oIVzQgAA+KyjhXNC\",\"dtype\":\"float64\",\"shape\":[48]},\"y\":{\"__ndarray__\":\"ZmZmZmYGhEAzMzMzM1WBQM3MzMzMMHtAzczMzMxQckBmZmZmZp5mQGZmZmZm9ldAzczMzMy8WUAzMzMzM1tgQJqZmZmZwWNAzczMzMy8bUDNzMzMzJx0QAAAAAAAWHhAzczMzMwkfEAAAAAAAA6AQGZmZmZmRn9AzczMzMx6gEBmZmZmZkCAQJqZmZmZxYFAmpmZmZmjg0CamZmZmSmDQAAAAAAAiIJAMzMzMzNdgEBmZmZmZraCQDMzMzMzK4JAzczMzMwUfUAAAAAAADRxQAAAAAAAwGRAzczMzMxsWUBmZmZmZlZVQDMzMzMzM1ZAAAAAAAAobEBmZmZmZk54QAAAAAAAKoFAmpmZmZm7gkAAAAAAACqBQAAAAAAApoFAAAAAAACQg0CamZmZmdeDQGZmZmZmBoRAMzMzMzNXg0DNzMzMzFaBQJqZmZmZMYVAmpmZmZmbiEBmZmZmZkyIQDMzMzMzD4RAzczMzMyahEBmZmZmZn6EQM3MzMzM5oBA\",\"dtype\":\"float64\",\"shape\":[48]}},\"selected\":{\"id\":\"2770\",\"type\":\"Selection\"},\"selection_policy\":{\"id\":\"2769\",\"type\":\"UnionRenderers\"}},\"id\":\"2720\",\"type\":\"ColumnDataSource\"},{\"attributes\":{\"callback\":null,\"data\":{\"x\":{\"__ndarray__\":\"AABgUAKFc0IAAEi/BYVzQgAAMC4JhXNCAAAYnQyFc0IAAAAMEIVzQgAA6HoThXNCAADQ6RaFc0IAALhYGoVzQgAAoMcdhXNCAACINiGFc0IAAHClJIVzQgAAWBQohXNCAABAgyuFc0IAACjyLoVzQgAAEGEyhXNCAAD4zzWFc0IAAOA+OYVzQgAAyK08hXNCAACwHECFc0IAAJiLQ4VzQgAAgPpGhXNCAABoaUqFc0IAAFDYTYVzQgAAOEdRhXNCAAAgtlSFc0IAAAglWIVzQgAA8JNbhXNCAADYAl+Fc0IAAMBxYoVzQgAAqOBlhXNCAACQT2mFc0IAAHi+bIVzQgAAYC1whXNCAABInHOFc0IAADALd4VzQgAAGHp6hXNCAAAA6X2Fc0IAAOhXgYVzQgAA0MaEhXNCAAC4NYiFc0IAAKCki4VzQgAAiBOPhXNCAABwgpKFc0IAAFjxlYVzQgAAQGCZhXNCAAAoz5yFc0IAABA+oIVzQgAA+KyjhXNC\",\"dtype\":\"float64\",\"shape\":[48]},\"y\":{\"__ndarray__\":\"ZmZmZmZggEAAAAAAAKR5QAAAAAAAbHNAAAAAAADQaUDNzMzMzDRiQAAAAAAAMFVAMzMzMzPDWkAzMzMzMxtiQGZmZmZmzmVAMzMzMzMbcECamZmZmVFzQDMzMzMzf3ZAmpmZmZmpeEBmZmZmZhp6QGZmZmZmBntAAAAAAAAge0CamZmZmcl7QM3MzMzM8H1AzczMzMykfkAAAAAAAJh9QJqZmZmZlX1AzczMzMzMeUCamZmZmS2BQAAAAAAABoFAAAAAAACUfUAzMzMzM8tzQM3MzMzMRGpAzczMzMwsYUBmZmZmZlZbQJqZmZmZSVRAMzMzMzMbY0DNzMzMzNxsQM3MzMzMnHJAZmZmZmaOdkCamZmZmcV4QDMzMzMzC3xAAAAAAADQfkAzMzMzMwuAQM3MzMzMBIFAzczMzMwSgUBmZmZmZpiAQJqZmZmZ24FAZmZmZmZ0gkCamZmZmcmCQDMzMzMz735AmpmZmZllf0CamZmZmWmBQM3MzMzMmIBA\",\"dtype\":\"float64\",\"shape\":[48]}},\"selected\":{\"id\":\"2799\",\"type\":\"Selection\"},\"selection_policy\":{\"id\":\"2798\",\"type\":\"UnionRenderers\"}},\"id\":\"2746\",\"type\":\"ColumnDataSource\"},{\"attributes\":{\"line_color\":\"#fee08b\",\"line_width\":2,\"x\":{\"field\":\"x\"},\"y\":{\"field\":\"y\"}},\"id\":\"2834\",\"type\":\"Line\"},{\"attributes\":{\"line_color\":\"#fdae61\",\"line_width\":2,\"x\":{\"field\":\"x\"},\"y\":{\"field\":\"y\"}},\"id\":\"2867\",\"type\":\"Line\"}],\"root_ids\":[\"2688\"]},\"title\":\"Bokeh Application\",\"version\":\"1.4.0\"}};\n",
       "  var render_items = [{\"docid\":\"6f43143d-ae1b-4354-a33d-3ef1e3ae9069\",\"roots\":{\"2688\":\"c3f465bd-e7b7-4f2b-9cc3-55f38aaed58f\"}}];\n",
       "  root.Bokeh.embed.embed_items_notebook(docs_json, render_items);\n",
       "\n",
       "  }\n",
       "  if (root.Bokeh !== undefined) {\n",
       "    embed_document(root);\n",
       "  } else {\n",
       "    var attempts = 0;\n",
       "    var timer = setInterval(function(root) {\n",
       "      if (root.Bokeh !== undefined) {\n",
       "        clearInterval(timer);\n",
       "        embed_document(root);\n",
       "      } else {\n",
       "        attempts++;\n",
       "        if (attempts > 100) {\n",
       "          clearInterval(timer);\n",
       "          console.log(\"Bokeh: ERROR: Unable to run BokehJS code because BokehJS library is missing\");\n",
       "        }\n",
       "      }\n",
       "    }, 10, root)\n",
       "  }\n",
       "})(window);"
      ],
      "application/vnd.bokehjs_exec.v0+json": ""
     },
     "metadata": {
      "application/vnd.bokehjs_exec.v0+json": {
       "id": "2688"
      }
     },
     "output_type": "display_data"
    }
   ],
   "source": [
    "p = figure(plot_width=800, plot_height=400, x_axis_type='datetime')\n",
    "\n",
    "for n, i in enumerate(range(2012,2018)):\n",
    "    s = slice('{}-07-04'.format(i), '{}-07-05'.format(i))\n",
    "    t = slice('2012-07-04'.format(i), '2012-07-05'.format(i))\n",
    "    p.line(x = real[t].index, y=real[s], line_width=2, legend_label='{} demand'.format(i), color = Spectral8[n])\n",
    "\n",
    "p.yaxis.axis_label = 'Mean demand'\n",
    "p.title.text = '4th of July'\n",
    "p.legend.location = 'bottom_left'\n",
    "p.legend.click_policy=\"hide\"\n",
    "\n",
    "show(p)"
   ]
  },
  {
   "cell_type": "code",
   "execution_count": 12,
   "metadata": {},
   "outputs": [
    {
     "ename": "RuntimeError",
     "evalue": "PhantomJS is not present in PATH or BOKEH_PHANTOMJS_PATH. Try \"conda install phantomjs\" or             \"npm install -g phantomjs-prebuilt\"",
     "output_type": "error",
     "traceback": [
      "\u001b[0;31m---------------------------------------------------------------------------\u001b[0m",
      "\u001b[0;31mFileNotFoundError\u001b[0m                         Traceback (most recent call last)",
      "\u001b[0;32m~/anaconda3/envs/taxiData/lib/python3.7/site-packages/bokeh/util/dependencies.py\u001b[0m in \u001b[0;36mdetect_phantomjs\u001b[0;34m(version)\u001b[0m\n\u001b[1;32m    111\u001b[0m     \u001b[0;32mtry\u001b[0m\u001b[0;34m:\u001b[0m\u001b[0;34m\u001b[0m\u001b[0;34m\u001b[0m\u001b[0m\n\u001b[0;32m--> 112\u001b[0;31m         \u001b[0mproc\u001b[0m \u001b[0;34m=\u001b[0m \u001b[0mPopen\u001b[0m\u001b[0;34m(\u001b[0m\u001b[0;34m[\u001b[0m\u001b[0mphantomjs_path\u001b[0m\u001b[0;34m,\u001b[0m \u001b[0;34m\"--version\"\u001b[0m\u001b[0;34m]\u001b[0m\u001b[0;34m,\u001b[0m \u001b[0mstdout\u001b[0m\u001b[0;34m=\u001b[0m\u001b[0mPIPE\u001b[0m\u001b[0;34m,\u001b[0m \u001b[0mstderr\u001b[0m\u001b[0;34m=\u001b[0m\u001b[0mPIPE\u001b[0m\u001b[0;34m)\u001b[0m\u001b[0;34m\u001b[0m\u001b[0;34m\u001b[0m\u001b[0m\n\u001b[0m\u001b[1;32m    113\u001b[0m         \u001b[0mproc\u001b[0m\u001b[0;34m.\u001b[0m\u001b[0mwait\u001b[0m\u001b[0;34m(\u001b[0m\u001b[0;34m)\u001b[0m\u001b[0;34m\u001b[0m\u001b[0;34m\u001b[0m\u001b[0m\n",
      "\u001b[0;32m~/anaconda3/envs/taxiData/lib/python3.7/subprocess.py\u001b[0m in \u001b[0;36m__init__\u001b[0;34m(self, args, bufsize, executable, stdin, stdout, stderr, preexec_fn, close_fds, shell, cwd, env, universal_newlines, startupinfo, creationflags, restore_signals, start_new_session, pass_fds, encoding, errors, text)\u001b[0m\n\u001b[1;32m    774\u001b[0m                                 \u001b[0merrread\u001b[0m\u001b[0;34m,\u001b[0m \u001b[0merrwrite\u001b[0m\u001b[0;34m,\u001b[0m\u001b[0;34m\u001b[0m\u001b[0;34m\u001b[0m\u001b[0m\n\u001b[0;32m--> 775\u001b[0;31m                                 restore_signals, start_new_session)\n\u001b[0m\u001b[1;32m    776\u001b[0m         \u001b[0;32mexcept\u001b[0m\u001b[0;34m:\u001b[0m\u001b[0;34m\u001b[0m\u001b[0;34m\u001b[0m\u001b[0m\n",
      "\u001b[0;32m~/anaconda3/envs/taxiData/lib/python3.7/subprocess.py\u001b[0m in \u001b[0;36m_execute_child\u001b[0;34m(self, args, executable, preexec_fn, close_fds, pass_fds, cwd, env, startupinfo, creationflags, shell, p2cread, p2cwrite, c2pread, c2pwrite, errread, errwrite, restore_signals, start_new_session)\u001b[0m\n\u001b[1;32m   1521\u001b[0m                             \u001b[0merr_msg\u001b[0m \u001b[0;34m+=\u001b[0m \u001b[0;34m': '\u001b[0m \u001b[0;34m+\u001b[0m \u001b[0mrepr\u001b[0m\u001b[0;34m(\u001b[0m\u001b[0merr_filename\u001b[0m\u001b[0;34m)\u001b[0m\u001b[0;34m\u001b[0m\u001b[0;34m\u001b[0m\u001b[0m\n\u001b[0;32m-> 1522\u001b[0;31m                     \u001b[0;32mraise\u001b[0m \u001b[0mchild_exception_type\u001b[0m\u001b[0;34m(\u001b[0m\u001b[0merrno_num\u001b[0m\u001b[0;34m,\u001b[0m \u001b[0merr_msg\u001b[0m\u001b[0;34m,\u001b[0m \u001b[0merr_filename\u001b[0m\u001b[0;34m)\u001b[0m\u001b[0;34m\u001b[0m\u001b[0;34m\u001b[0m\u001b[0m\n\u001b[0m\u001b[1;32m   1523\u001b[0m                 \u001b[0;32mraise\u001b[0m \u001b[0mchild_exception_type\u001b[0m\u001b[0;34m(\u001b[0m\u001b[0merr_msg\u001b[0m\u001b[0;34m)\u001b[0m\u001b[0;34m\u001b[0m\u001b[0;34m\u001b[0m\u001b[0m\n",
      "\u001b[0;31mFileNotFoundError\u001b[0m: [Errno 2] No such file or directory: 'phantomjs': 'phantomjs'",
      "\nDuring handling of the above exception, another exception occurred:\n",
      "\u001b[0;31mRuntimeError\u001b[0m                              Traceback (most recent call last)",
      "\u001b[0;32m<ipython-input-12-951a69bf8dbf>\u001b[0m in \u001b[0;36m<module>\u001b[0;34m\u001b[0m\n\u001b[1;32m      1\u001b[0m \u001b[0;32mfrom\u001b[0m \u001b[0mbokeh\u001b[0m\u001b[0;34m.\u001b[0m\u001b[0mio\u001b[0m \u001b[0;32mimport\u001b[0m \u001b[0mexport_png\u001b[0m\u001b[0;34m\u001b[0m\u001b[0;34m\u001b[0m\u001b[0m\n\u001b[1;32m      2\u001b[0m \u001b[0;34m\u001b[0m\u001b[0m\n\u001b[0;32m----> 3\u001b[0;31m \u001b[0mexport_png\u001b[0m\u001b[0;34m(\u001b[0m\u001b[0mp\u001b[0m\u001b[0;34m,\u001b[0m \u001b[0mfilename\u001b[0m\u001b[0;34m=\u001b[0m\u001b[0;34m\"4July.png\"\u001b[0m\u001b[0;34m)\u001b[0m\u001b[0;34m\u001b[0m\u001b[0;34m\u001b[0m\u001b[0m\n\u001b[0m",
      "\u001b[0;32m~/anaconda3/envs/taxiData/lib/python3.7/site-packages/bokeh/io/export.py\u001b[0m in \u001b[0;36mexport_png\u001b[0;34m(obj, filename, height, width, webdriver, timeout)\u001b[0m\n\u001b[1;32m     95\u001b[0m     '''\n\u001b[1;32m     96\u001b[0m \u001b[0;34m\u001b[0m\u001b[0m\n\u001b[0;32m---> 97\u001b[0;31m     \u001b[0mimage\u001b[0m \u001b[0;34m=\u001b[0m \u001b[0mget_screenshot_as_png\u001b[0m\u001b[0;34m(\u001b[0m\u001b[0mobj\u001b[0m\u001b[0;34m,\u001b[0m \u001b[0mheight\u001b[0m\u001b[0;34m=\u001b[0m\u001b[0mheight\u001b[0m\u001b[0;34m,\u001b[0m \u001b[0mwidth\u001b[0m\u001b[0;34m=\u001b[0m\u001b[0mwidth\u001b[0m\u001b[0;34m,\u001b[0m \u001b[0mdriver\u001b[0m\u001b[0;34m=\u001b[0m\u001b[0mwebdriver\u001b[0m\u001b[0;34m,\u001b[0m \u001b[0mtimeout\u001b[0m\u001b[0;34m=\u001b[0m\u001b[0mtimeout\u001b[0m\u001b[0;34m)\u001b[0m\u001b[0;34m\u001b[0m\u001b[0;34m\u001b[0m\u001b[0m\n\u001b[0m\u001b[1;32m     98\u001b[0m \u001b[0;34m\u001b[0m\u001b[0m\n\u001b[1;32m     99\u001b[0m     \u001b[0;32mif\u001b[0m \u001b[0mfilename\u001b[0m \u001b[0;32mis\u001b[0m \u001b[0;32mNone\u001b[0m\u001b[0;34m:\u001b[0m\u001b[0;34m\u001b[0m\u001b[0;34m\u001b[0m\u001b[0m\n",
      "\u001b[0;32m~/anaconda3/envs/taxiData/lib/python3.7/site-packages/bokeh/io/export.py\u001b[0m in \u001b[0;36mget_screenshot_as_png\u001b[0;34m(obj, driver, timeout, **kwargs)\u001b[0m\n\u001b[1;32m    215\u001b[0m             \u001b[0mfile\u001b[0m\u001b[0;34m.\u001b[0m\u001b[0mwrite\u001b[0m\u001b[0;34m(\u001b[0m\u001b[0mdecode_utf8\u001b[0m\u001b[0;34m(\u001b[0m\u001b[0mhtml\u001b[0m\u001b[0;34m)\u001b[0m\u001b[0;34m)\u001b[0m\u001b[0;34m\u001b[0m\u001b[0;34m\u001b[0m\u001b[0m\n\u001b[1;32m    216\u001b[0m \u001b[0;34m\u001b[0m\u001b[0m\n\u001b[0;32m--> 217\u001b[0;31m         \u001b[0mweb_driver\u001b[0m \u001b[0;34m=\u001b[0m \u001b[0mdriver\u001b[0m \u001b[0;32mif\u001b[0m \u001b[0mdriver\u001b[0m \u001b[0;32mis\u001b[0m \u001b[0;32mnot\u001b[0m \u001b[0;32mNone\u001b[0m \u001b[0;32melse\u001b[0m \u001b[0mwebdriver_control\u001b[0m\u001b[0;34m.\u001b[0m\u001b[0mget\u001b[0m\u001b[0;34m(\u001b[0m\u001b[0;34m)\u001b[0m\u001b[0;34m\u001b[0m\u001b[0;34m\u001b[0m\u001b[0m\n\u001b[0m\u001b[1;32m    218\u001b[0m \u001b[0;34m\u001b[0m\u001b[0m\n\u001b[1;32m    219\u001b[0m         \u001b[0mweb_driver\u001b[0m\u001b[0;34m.\u001b[0m\u001b[0mget\u001b[0m\u001b[0;34m(\u001b[0m\u001b[0;34m\"file:///\"\u001b[0m \u001b[0;34m+\u001b[0m \u001b[0mtmp\u001b[0m\u001b[0;34m.\u001b[0m\u001b[0mpath\u001b[0m\u001b[0;34m)\u001b[0m\u001b[0;34m\u001b[0m\u001b[0;34m\u001b[0m\u001b[0m\n",
      "\u001b[0;32m~/anaconda3/envs/taxiData/lib/python3.7/site-packages/bokeh/io/webdriver.py\u001b[0m in \u001b[0;36mget\u001b[0;34m(self)\u001b[0m\n\u001b[1;32m    114\u001b[0m             \u001b[0;32mif\u001b[0m \u001b[0mself\u001b[0m\u001b[0;34m.\u001b[0m\u001b[0mcurrent\u001b[0m \u001b[0;32mis\u001b[0m \u001b[0;32mnot\u001b[0m \u001b[0;32mNone\u001b[0m\u001b[0;34m:\u001b[0m\u001b[0;34m\u001b[0m\u001b[0;34m\u001b[0m\u001b[0m\n\u001b[1;32m    115\u001b[0m                 \u001b[0mterminate_webdriver\u001b[0m\u001b[0;34m(\u001b[0m\u001b[0mself\u001b[0m\u001b[0;34m.\u001b[0m\u001b[0mcurrent\u001b[0m\u001b[0;34m)\u001b[0m\u001b[0;34m\u001b[0m\u001b[0;34m\u001b[0m\u001b[0m\n\u001b[0;32m--> 116\u001b[0;31m             \u001b[0mself\u001b[0m\u001b[0;34m.\u001b[0m\u001b[0mcurrent\u001b[0m \u001b[0;34m=\u001b[0m \u001b[0mself\u001b[0m\u001b[0;34m.\u001b[0m\u001b[0mcreate\u001b[0m\u001b[0;34m(\u001b[0m\u001b[0;34m)\u001b[0m\u001b[0;34m\u001b[0m\u001b[0;34m\u001b[0m\u001b[0m\n\u001b[0m\u001b[1;32m    117\u001b[0m         \u001b[0;32mreturn\u001b[0m \u001b[0mself\u001b[0m\u001b[0;34m.\u001b[0m\u001b[0mcurrent\u001b[0m\u001b[0;34m\u001b[0m\u001b[0;34m\u001b[0m\u001b[0m\n\u001b[1;32m    118\u001b[0m \u001b[0;34m\u001b[0m\u001b[0m\n",
      "\u001b[0;32m~/anaconda3/envs/taxiData/lib/python3.7/site-packages/bokeh/io/webdriver.py\u001b[0m in \u001b[0;36mcreate\u001b[0;34m(self)\u001b[0m\n\u001b[1;32m    119\u001b[0m     \u001b[0;32mdef\u001b[0m \u001b[0mcreate\u001b[0m\u001b[0;34m(\u001b[0m\u001b[0mself\u001b[0m\u001b[0;34m)\u001b[0m\u001b[0;34m:\u001b[0m\u001b[0;34m\u001b[0m\u001b[0;34m\u001b[0m\u001b[0m\n\u001b[1;32m    120\u001b[0m         \u001b[0;32mif\u001b[0m \u001b[0mself\u001b[0m\u001b[0;34m.\u001b[0m\u001b[0mkind\u001b[0m \u001b[0;34m==\u001b[0m \u001b[0;34m\"phantomjs\"\u001b[0m\u001b[0;34m:\u001b[0m\u001b[0;34m\u001b[0m\u001b[0;34m\u001b[0m\u001b[0m\n\u001b[0;32m--> 121\u001b[0;31m             \u001b[0;32mreturn\u001b[0m \u001b[0mcreate_phantomjs_webdriver\u001b[0m\u001b[0;34m(\u001b[0m\u001b[0;34m)\u001b[0m\u001b[0;34m\u001b[0m\u001b[0;34m\u001b[0m\u001b[0m\n\u001b[0m\u001b[1;32m    122\u001b[0m         \u001b[0;32mraise\u001b[0m \u001b[0mValueError\u001b[0m\u001b[0;34m(\u001b[0m\u001b[0;34m\"Unknown webdriver kind %r\"\u001b[0m \u001b[0;34m%\u001b[0m \u001b[0mself\u001b[0m\u001b[0;34m.\u001b[0m\u001b[0mkind\u001b[0m\u001b[0;34m)\u001b[0m\u001b[0;34m\u001b[0m\u001b[0;34m\u001b[0m\u001b[0m\n\u001b[1;32m    123\u001b[0m \u001b[0;34m\u001b[0m\u001b[0m\n",
      "\u001b[0;32m~/anaconda3/envs/taxiData/lib/python3.7/site-packages/bokeh/io/webdriver.py\u001b[0m in \u001b[0;36mcreate_phantomjs_webdriver\u001b[0;34m()\u001b[0m\n\u001b[1;32m     73\u001b[0m                                     '(\"conda install -c bokeh selenium\" or \"pip install selenium\")')\n\u001b[1;32m     74\u001b[0m \u001b[0;34m\u001b[0m\u001b[0m\n\u001b[0;32m---> 75\u001b[0;31m         \u001b[0mphantomjs_path\u001b[0m \u001b[0;34m=\u001b[0m \u001b[0mdetect_phantomjs\u001b[0m\u001b[0;34m(\u001b[0m\u001b[0;34m)\u001b[0m\u001b[0;34m\u001b[0m\u001b[0;34m\u001b[0m\u001b[0m\n\u001b[0m\u001b[1;32m     76\u001b[0m         \u001b[0;32mreturn\u001b[0m \u001b[0mwebdriver\u001b[0m\u001b[0;34m.\u001b[0m\u001b[0mPhantomJS\u001b[0m\u001b[0;34m(\u001b[0m\u001b[0mexecutable_path\u001b[0m\u001b[0;34m=\u001b[0m\u001b[0mphantomjs_path\u001b[0m\u001b[0;34m,\u001b[0m \u001b[0mservice_log_path\u001b[0m\u001b[0;34m=\u001b[0m\u001b[0mdevnull\u001b[0m\u001b[0;34m)\u001b[0m\u001b[0;34m\u001b[0m\u001b[0;34m\u001b[0m\u001b[0m\n\u001b[1;32m     77\u001b[0m \u001b[0;34m\u001b[0m\u001b[0m\n",
      "\u001b[0;32m~/anaconda3/envs/taxiData/lib/python3.7/site-packages/bokeh/util/dependencies.py\u001b[0m in \u001b[0;36mdetect_phantomjs\u001b[0;34m(version)\u001b[0m\n\u001b[1;32m    124\u001b[0m     \u001b[0;32mexcept\u001b[0m \u001b[0mOSError\u001b[0m\u001b[0;34m:\u001b[0m\u001b[0;34m\u001b[0m\u001b[0;34m\u001b[0m\u001b[0m\n\u001b[1;32m    125\u001b[0m         raise RuntimeError('PhantomJS is not present in PATH or BOKEH_PHANTOMJS_PATH. Try \"conda install phantomjs\" or \\\n\u001b[0;32m--> 126\u001b[0;31m             \"npm install -g phantomjs-prebuilt\"')\n\u001b[0m\u001b[1;32m    127\u001b[0m \u001b[0;34m\u001b[0m\u001b[0m\n\u001b[1;32m    128\u001b[0m     \u001b[0;32mreturn\u001b[0m \u001b[0mphantomjs_path\u001b[0m\u001b[0;34m\u001b[0m\u001b[0;34m\u001b[0m\u001b[0m\n",
      "\u001b[0;31mRuntimeError\u001b[0m: PhantomJS is not present in PATH or BOKEH_PHANTOMJS_PATH. Try \"conda install phantomjs\" or             \"npm install -g phantomjs-prebuilt\""
     ]
    }
   ],
   "source": [
    "from bokeh.io import export_png\n",
    "\n",
    "export_png(p, filename=\"4July.png\")"
   ]
  },
  {
   "cell_type": "markdown",
   "metadata": {},
   "source": [
    "**Christmas Day**"
   ]
  },
  {
   "cell_type": "code",
   "execution_count": 36,
   "metadata": {
    "ExecuteTime": {
     "end_time": "2020-02-21T12:57:22.510064Z",
     "start_time": "2020-02-21T12:57:22.252810Z"
    }
   },
   "outputs": [
    {
     "data": {
      "text/html": [
       "\n",
       "\n",
       "\n",
       "\n",
       "\n",
       "\n",
       "  <div class=\"bk-root\" id=\"1878e4c7-3225-493a-955e-7f0cd2392d07\" data-root-id=\"9826\"></div>\n"
      ]
     },
     "metadata": {},
     "output_type": "display_data"
    },
    {
     "data": {
      "application/javascript": [
       "(function(root) {\n",
       "  function embed_document(root) {\n",
       "    \n",
       "  var docs_json = {\"e2382bfc-7efd-4db8-9ba1-174bf07aba44\":{\"roots\":{\"references\":[{\"attributes\":{\"below\":[{\"id\":\"9835\",\"type\":\"DatetimeAxis\"}],\"center\":[{\"id\":\"9839\",\"type\":\"Grid\"},{\"id\":\"9844\",\"type\":\"Grid\"},{\"id\":\"9882\",\"type\":\"Legend\"}],\"left\":[{\"id\":\"9840\",\"type\":\"LinearAxis\"}],\"plot_height\":400,\"plot_width\":800,\"renderers\":[{\"id\":\"9861\",\"type\":\"GlyphRenderer\"},{\"id\":\"9887\",\"type\":\"GlyphRenderer\"},{\"id\":\"9914\",\"type\":\"GlyphRenderer\"},{\"id\":\"9943\",\"type\":\"GlyphRenderer\"},{\"id\":\"9974\",\"type\":\"GlyphRenderer\"}],\"title\":{\"id\":\"9863\",\"type\":\"Title\"},\"toolbar\":{\"id\":\"9851\",\"type\":\"Toolbar\"},\"x_range\":{\"id\":\"9827\",\"type\":\"DataRange1d\"},\"x_scale\":{\"id\":\"9831\",\"type\":\"LinearScale\"},\"y_range\":{\"id\":\"9829\",\"type\":\"DataRange1d\"},\"y_scale\":{\"id\":\"9833\",\"type\":\"LinearScale\"}},\"id\":\"9826\",\"subtype\":\"Figure\",\"type\":\"Plot\"},{\"attributes\":{\"label\":{\"value\":\"Real demand\"},\"renderers\":[{\"id\":\"9974\",\"type\":\"GlyphRenderer\"}]},\"id\":\"10003\",\"type\":\"LegendItem\"},{\"attributes\":{},\"id\":\"9850\",\"type\":\"HelpTool\"},{\"attributes\":{\"source\":{\"id\":\"9884\",\"type\":\"ColumnDataSource\"}},\"id\":\"9888\",\"type\":\"CDSView\"},{\"attributes\":{\"data_source\":{\"id\":\"9940\",\"type\":\"ColumnDataSource\"},\"glyph\":{\"id\":\"9941\",\"type\":\"Line\"},\"hover_glyph\":null,\"muted_glyph\":null,\"nonselection_glyph\":{\"id\":\"9942\",\"type\":\"Line\"},\"selection_glyph\":null,\"view\":{\"id\":\"9944\",\"type\":\"CDSView\"}},\"id\":\"9943\",\"type\":\"GlyphRenderer\"},{\"attributes\":{},\"id\":\"9909\",\"type\":\"Selection\"},{\"attributes\":{\"callback\":null,\"data\":{\"x\":{\"__ndarray__\":\"AAAIgrS8c0IAAPDwt7xzQgAA2F+7vHNCAADAzr68c0IAAKg9wrxzQgAAkKzFvHNCAAB4G8m8c0IAAGCKzLxzQgAASPnPvHNCAAAwaNO8c0IAABjX1rxzQgAAAEbavHNCAADotN28c0IAANAj4bxzQgAAuJLkvHNCAACgAei8c0IAAIhw67xzQgAAcN/uvHNCAABYTvK8c0IAAEC99bxzQgAAKCz5vHNCAAAQm/y8c0IAAPgJAL1zQgAA4HgDvXNCAADI5wa9c0IAALBWCr1zQgAAmMUNvXNCAACANBG9c0IAAGijFL1zQgAAUBIYvXNCAAA4gRu9c0IAACDwHr1zQgAACF8ivXNCAADwzSW9c0IAANg8Kb1zQgAAwKssvXNCAACoGjC9c0IAAJCJM71zQgAAePg2vXNCAABgZzq9c0IAAEjWPb1zQgAAMEVBvXNCAAAYtES9c0IAAAAjSL1zQgAA6JFLvXNCAADQAE+9c0IAALhvUr1zQgAAoN5VvXNCAACITVm9c0IAAHC8XL1zQgAAWCtgvXNCAABAmmO9c0IAACgJZ71zQgAAEHhqvXNCAAD45m29c0IAAOBVcb1zQgAAyMR0vXNCAACwM3i9c0IAAJiie71zQgAAgBF/vXNCAABogIK9c0IAAFDvhb1zQgAAOF6JvXNCAAAgzYy9c0IAAAg8kL1zQgAA8KqTvXNCAADYGZe9c0IAAMCImr1zQgAAqPedvXNCAACQZqG9c0IAAHjVpL1zQgAAYESovXNC\",\"dtype\":\"float64\",\"shape\":[72]},\"y\":{\"__ndarray__\":\"JGlYrnZNcED9ND2MmTljQF4DYqDYy1hA4X37aGRAU0DTfgwhrktSQKaGfSziylxA02S3g5d7bkCamZmZmTlgQGZmZmZm9mlAzczMzMw8cUAzMzMzM8t2QLdCKCgcSIBAj5OSu3+bgUBhu/pCb0iDQJzhoZPxhIRAZ6pFP4l9hEDpvSO2Xx2DQCJO5QkkAYVAMzMzMzPVgkBmZmZmZtSCQDMzMzMz4YRAAAAAAAC2gkAAAAAAAJaAQAAAAAAAYHxADdHwjQSkdEAdFLzGeVBvQFKCzbVylWZAdgpxojJAYkBTuRHHAndfQFbK/w2SYl5AmpmZmZmZRUCamZmZmXlNQAAAAAAAIFJAMzMzMzOzVkCamZmZmQFiQGZmZmZmTmtAzczMzMx4cUAAAAAAAAx0QM3MzMzM5HRAzczMzMzQd0AzMzMzM2N3QM3MzMzMoHVAZmZmZmZyd0BmZmZmZsp5QAAAAAAAmHhAmpmZmZmNeEBmZmZmZl56QJqZmZmZDXhAzczMzMwAckDNzMzMzARoQNrqQoqWalZA8igEQuqoS0BZZ42A7mJHQMI1RbmV4E9A/xxAC3UVYEC7v9Z/0HxrQGsCPdj9y3JALow5KZord0DjNzRfgUR6QBJfRbjnTn5AnkPm7E+AgUB4UwxVVmqCQLqXViD4d4NAOeTtpE3Ng0B+3DxqHfuBQPreAKi3b4JARqKzLmlBhkBmPfzIN0qHQPp3lIkO54RAR0GufFinhEAi2j1aeeCBQHaVGCjMd3xA\",\"dtype\":\"float64\",\"shape\":[72]}},\"selected\":{\"id\":\"10002\",\"type\":\"Selection\"},\"selection_policy\":{\"id\":\"10001\",\"type\":\"UnionRenderers\"}},\"id\":\"9940\",\"type\":\"ColumnDataSource\"},{\"attributes\":{\"source\":{\"id\":\"9971\",\"type\":\"ColumnDataSource\"}},\"id\":\"9975\",\"type\":\"CDSView\"},{\"attributes\":{\"callback\":null},\"id\":\"9829\",\"type\":\"DataRange1d\"},{\"attributes\":{\"days\":[1,15]},\"id\":\"9875\",\"type\":\"DaysTicker\"},{\"attributes\":{},\"id\":\"10002\",\"type\":\"Selection\"},{\"attributes\":{\"data_source\":{\"id\":\"9971\",\"type\":\"ColumnDataSource\"},\"glyph\":{\"id\":\"9972\",\"type\":\"Line\"},\"hover_glyph\":null,\"muted_glyph\":null,\"nonselection_glyph\":{\"id\":\"9973\",\"type\":\"Line\"},\"selection_glyph\":null,\"view\":{\"id\":\"9975\",\"type\":\"CDSView\"}},\"id\":\"9974\",\"type\":\"GlyphRenderer\"},{\"attributes\":{},\"id\":\"9841\",\"type\":\"BasicTicker\"},{\"attributes\":{\"data_source\":{\"id\":\"9858\",\"type\":\"ColumnDataSource\"},\"glyph\":{\"id\":\"9859\",\"type\":\"Line\"},\"hover_glyph\":null,\"muted_glyph\":null,\"nonselection_glyph\":{\"id\":\"9860\",\"type\":\"Line\"},\"selection_glyph\":null,\"view\":{\"id\":\"9862\",\"type\":\"CDSView\"}},\"id\":\"9861\",\"type\":\"GlyphRenderer\"},{\"attributes\":{\"ticker\":{\"id\":\"9836\",\"type\":\"DatetimeTicker\"}},\"id\":\"9839\",\"type\":\"Grid\"},{\"attributes\":{\"months\":[0,1,2,3,4,5,6,7,8,9,10,11]},\"id\":\"9876\",\"type\":\"MonthsTicker\"},{\"attributes\":{\"line_alpha\":0.1,\"line_color\":\"#1f77b4\",\"line_width\":2,\"x\":{\"field\":\"x\"},\"y\":{\"field\":\"y\"}},\"id\":\"9860\",\"type\":\"Line\"},{\"attributes\":{\"source\":{\"id\":\"9940\",\"type\":\"ColumnDataSource\"}},\"id\":\"9944\",\"type\":\"CDSView\"},{\"attributes\":{\"months\":[0,2,4,6,8,10]},\"id\":\"9877\",\"type\":\"MonthsTicker\"},{\"attributes\":{},\"id\":\"10469\",\"type\":\"UnionRenderers\"},{\"attributes\":{\"line_alpha\":0.1,\"line_color\":\"#1f77b4\",\"line_width\":2,\"x\":{\"field\":\"x\"},\"y\":{\"field\":\"y\"}},\"id\":\"9913\",\"type\":\"Line\"},{\"attributes\":{},\"id\":\"9968\",\"type\":\"UnionRenderers\"},{\"attributes\":{\"dimension\":1,\"ticker\":{\"id\":\"9841\",\"type\":\"BasicTicker\"}},\"id\":\"9844\",\"type\":\"Grid\"},{\"attributes\":{\"callback\":null},\"id\":\"9827\",\"type\":\"DataRange1d\"},{\"attributes\":{\"label\":{\"value\":\"No external variables\"},\"renderers\":[{\"id\":\"9861\",\"type\":\"GlyphRenderer\"}]},\"id\":\"9883\",\"type\":\"LegendItem\"},{\"attributes\":{\"months\":[0,4,8]},\"id\":\"9878\",\"type\":\"MonthsTicker\"},{\"attributes\":{\"label\":{\"value\":\"EIA weather and holidays\"},\"renderers\":[{\"id\":\"9943\",\"type\":\"GlyphRenderer\"}]},\"id\":\"9970\",\"type\":\"LegendItem\"},{\"attributes\":{\"line_alpha\":0.1,\"line_color\":\"#1f77b4\",\"line_width\":2,\"x\":{\"field\":\"x\"},\"y\":{\"field\":\"y\"}},\"id\":\"9942\",\"type\":\"Line\"},{\"attributes\":{\"days\":[1,4,7,10,13,16,19,22,25,28]},\"id\":\"9873\",\"type\":\"DaysTicker\"},{\"attributes\":{},\"id\":\"10001\",\"type\":\"UnionRenderers\"},{\"attributes\":{\"formatter\":{\"id\":\"9865\",\"type\":\"DatetimeTickFormatter\"},\"ticker\":{\"id\":\"9836\",\"type\":\"DatetimeTicker\"}},\"id\":\"9835\",\"type\":\"DatetimeAxis\"},{\"attributes\":{\"source\":{\"id\":\"9858\",\"type\":\"ColumnDataSource\"}},\"id\":\"9862\",\"type\":\"CDSView\"},{\"attributes\":{\"months\":[0,6]},\"id\":\"9879\",\"type\":\"MonthsTicker\"},{\"attributes\":{\"text\":\"Christmas Day\"},\"id\":\"9863\",\"type\":\"Title\"},{\"attributes\":{\"source\":{\"id\":\"9911\",\"type\":\"ColumnDataSource\"}},\"id\":\"9915\",\"type\":\"CDSView\"},{\"attributes\":{\"callback\":null,\"data\":{\"x\":{\"__ndarray__\":\"AAAIgrS8c0IAAPDwt7xzQgAA2F+7vHNCAADAzr68c0IAAKg9wrxzQgAAkKzFvHNCAAB4G8m8c0IAAGCKzLxzQgAASPnPvHNCAAAwaNO8c0IAABjX1rxzQgAAAEbavHNCAADotN28c0IAANAj4bxzQgAAuJLkvHNCAACgAei8c0IAAIhw67xzQgAAcN/uvHNCAABYTvK8c0IAAEC99bxzQgAAKCz5vHNCAAAQm/y8c0IAAPgJAL1zQgAA4HgDvXNCAADI5wa9c0IAALBWCr1zQgAAmMUNvXNCAACANBG9c0IAAGijFL1zQgAAUBIYvXNCAAA4gRu9c0IAACDwHr1zQgAACF8ivXNCAADwzSW9c0IAANg8Kb1zQgAAwKssvXNCAACoGjC9c0IAAJCJM71zQgAAePg2vXNCAABgZzq9c0IAAEjWPb1zQgAAMEVBvXNCAAAYtES9c0IAAAAjSL1zQgAA6JFLvXNCAADQAE+9c0IAALhvUr1zQgAAoN5VvXNCAACITVm9c0IAAHC8XL1zQgAAWCtgvXNCAABAmmO9c0IAACgJZ71zQgAAEHhqvXNCAAD45m29c0IAAOBVcb1zQgAAyMR0vXNCAACwM3i9c0IAAJiie71zQgAAgBF/vXNCAABogIK9c0IAAFDvhb1zQgAAOF6JvXNCAAAgzYy9c0IAAAg8kL1zQgAA8KqTvXNCAADYGZe9c0IAAMCImr1zQgAAqPedvXNCAACQZqG9c0IAAHjVpL1zQgAAYESovXNC\",\"dtype\":\"float64\",\"shape\":[72]},\"y\":{\"__ndarray__\":\"WhaLeC2xb0CCDfcGSKdjQPVrqIe5OVlAYuUM6xunUkDwd7E8XrdQQDXXkcMQ61hACpVvyM0mZkA/lwNv75lwQAYWP7CryHRABCPcDGjidkDUVPlkdnh5QLJJGSEwyoBAbmSG7yZ7gkDn3iNapvCDQKORqufRNYRAylQ4Hl7mg0CNeyrYQLmCQP8zx+MZVoRAEHn1i4TGhUBmZmZmZtSCQAyfkCl8QoNAikJJ2mICgUA+lvoasIF+QAnwGQHMQHdA2KyEbMULckDKkNsdj69pQBuEPr0ayGFAr8ygc9kUWUCwXHLjiMBTQBv2WIHHmVRA2izC3nTLYECamZmZmXlNQAAAAAAAIFJAMzMzMzOzVkCamZmZmQFiQGZmZmZmTmtAzXyFwO3gdUCBaPC9pG93QM3MzMzM5HRA/Bujs9oieEAzMzMzM2N3QM3MzMzMoHVAZmZmZmZyd0BmZmZmZsp5QAAAAAAAmHhAmpmZmZmNeEBmZmZmZl56QJqZmZmZDXhAKrdL/l7Pa0C4yDSxkVVgQE02Ca/uMFVAKxjiX5hdS0CNxxy87h5HQI2jWxbuME5ALWOaKbGlXkCYLA9J0pNrQDKZEAASHXNAWjPscB3WdkAeRUqPMvJ5QPuYDatDwn1Alk5jT9EsgUDXYSrnLAyCQGmQJatUvIJAZmZmZmZqhkAzMzMzM1OFQHHDnuskX4JAIOwBbYEUhkDz4hVrEziHQP6U+pwt5IRA3DwN+Ca5hEA7dyfzvWeCQGqiUdiSUX1A\",\"dtype\":\"float64\",\"shape\":[72]}},\"selected\":{\"id\":\"9969\",\"type\":\"Selection\"},\"selection_policy\":{\"id\":\"9968\",\"type\":\"UnionRenderers\"}},\"id\":\"9911\",\"type\":\"ColumnDataSource\"},{\"attributes\":{},\"id\":\"9969\",\"type\":\"Selection\"},{\"attributes\":{\"line_color\":\"#fdae61\",\"line_width\":2,\"x\":{\"field\":\"x\"},\"y\":{\"field\":\"y\"}},\"id\":\"9941\",\"type\":\"Line\"},{\"attributes\":{},\"id\":\"9880\",\"type\":\"YearsTicker\"},{\"attributes\":{\"click_policy\":\"hide\",\"items\":[{\"id\":\"9883\",\"type\":\"LegendItem\"},{\"id\":\"9910\",\"type\":\"LegendItem\"},{\"id\":\"9939\",\"type\":\"LegendItem\"},{\"id\":\"9970\",\"type\":\"LegendItem\"},{\"id\":\"10003\",\"type\":\"LegendItem\"}],\"location\":\"bottom_left\"},\"id\":\"9882\",\"type\":\"Legend\"},{\"attributes\":{},\"id\":\"10470\",\"type\":\"Selection\"},{\"attributes\":{},\"id\":\"9865\",\"type\":\"DatetimeTickFormatter\"},{\"attributes\":{\"line_alpha\":0.1,\"line_color\":\"#1f77b4\",\"line_width\":2,\"x\":{\"field\":\"x\"},\"y\":{\"field\":\"y\"}},\"id\":\"9973\",\"type\":\"Line\"},{\"attributes\":{\"bottom_units\":\"screen\",\"fill_alpha\":{\"value\":0.5},\"fill_color\":{\"value\":\"lightgrey\"},\"left_units\":\"screen\",\"level\":\"overlay\",\"line_alpha\":{\"value\":1.0},\"line_color\":{\"value\":\"black\"},\"line_dash\":[4,4],\"line_width\":{\"value\":2},\"render_mode\":\"css\",\"right_units\":\"screen\",\"top_units\":\"screen\"},\"id\":\"9881\",\"type\":\"BoxAnnotation\"},{\"attributes\":{\"active_drag\":\"auto\",\"active_inspect\":\"auto\",\"active_multi\":null,\"active_scroll\":\"auto\",\"active_tap\":\"auto\",\"tools\":[{\"id\":\"9845\",\"type\":\"PanTool\"},{\"id\":\"9846\",\"type\":\"WheelZoomTool\"},{\"id\":\"9847\",\"type\":\"BoxZoomTool\"},{\"id\":\"9848\",\"type\":\"SaveTool\"},{\"id\":\"9849\",\"type\":\"ResetTool\"},{\"id\":\"9850\",\"type\":\"HelpTool\"}]},\"id\":\"9851\",\"type\":\"Toolbar\"},{\"attributes\":{\"mantissas\":[1,2,5],\"max_interval\":500.0,\"num_minor_ticks\":0},\"id\":\"9869\",\"type\":\"AdaptiveTicker\"},{\"attributes\":{\"num_minor_ticks\":5,\"tickers\":[{\"id\":\"9869\",\"type\":\"AdaptiveTicker\"},{\"id\":\"9870\",\"type\":\"AdaptiveTicker\"},{\"id\":\"9871\",\"type\":\"AdaptiveTicker\"},{\"id\":\"9872\",\"type\":\"DaysTicker\"},{\"id\":\"9873\",\"type\":\"DaysTicker\"},{\"id\":\"9874\",\"type\":\"DaysTicker\"},{\"id\":\"9875\",\"type\":\"DaysTicker\"},{\"id\":\"9876\",\"type\":\"MonthsTicker\"},{\"id\":\"9877\",\"type\":\"MonthsTicker\"},{\"id\":\"9878\",\"type\":\"MonthsTicker\"},{\"id\":\"9879\",\"type\":\"MonthsTicker\"},{\"id\":\"9880\",\"type\":\"YearsTicker\"}]},\"id\":\"9836\",\"type\":\"DatetimeTicker\"},{\"attributes\":{\"callback\":null,\"data\":{\"x\":{\"__ndarray__\":\"AAAIgrS8c0IAAPDwt7xzQgAA2F+7vHNCAADAzr68c0IAAKg9wrxzQgAAkKzFvHNCAAB4G8m8c0IAAGCKzLxzQgAASPnPvHNCAAAwaNO8c0IAABjX1rxzQgAAAEbavHNCAADotN28c0IAANAj4bxzQgAAuJLkvHNCAACgAei8c0IAAIhw67xzQgAAcN/uvHNCAABYTvK8c0IAAEC99bxzQgAAKCz5vHNCAAAQm/y8c0IAAPgJAL1zQgAA4HgDvXNCAADI5wa9c0IAALBWCr1zQgAAmMUNvXNCAACANBG9c0IAAGijFL1zQgAAUBIYvXNCAAA4gRu9c0IAACDwHr1zQgAACF8ivXNCAADwzSW9c0IAANg8Kb1zQgAAwKssvXNCAACoGjC9c0IAAJCJM71zQgAAePg2vXNCAABgZzq9c0IAAEjWPb1zQgAAMEVBvXNCAAAYtES9c0IAAAAjSL1zQgAA6JFLvXNCAADQAE+9c0IAALhvUr1zQgAAoN5VvXNCAACITVm9c0IAAHC8XL1zQgAAWCtgvXNCAABAmmO9c0IAACgJZ71zQgAAEHhqvXNCAAD45m29c0IAAOBVcb1zQgAAyMR0vXNCAACwM3i9c0IAAJiie71zQgAAgBF/vXNCAABogIK9c0IAAFDvhb1zQgAAOF6JvXNCAAAgzYy9c0IAAAg8kL1zQgAA8KqTvXNCAADYGZe9c0IAAMCImr1zQgAAqPedvXNCAACQZqG9c0IAAHjVpL1zQgAAYESovXNC\",\"dtype\":\"float64\",\"shape\":[72]},\"y\":{\"__ndarray__\":\"WhaLeC2xb0CCDfcGSKdjQPVrqIe5OVlAYuUM6xunUkDwd7E8XrdQQDXXkcMQ61hACpVvyM0mZkA/lwNv75lwQAYWP7CryHRABCPcDGjidkDUVPlkdnh5QLJJGSEwyoBAbmSG7yZ7gkDn3iNapvCDQKORqufRNYRAylQ4Hl7mg0CNeyrYQLmCQP8zx+MZVoRAEHn1i4TGhUBtYlQK+3uDQAyfkCl8QoNAikJJ2mICgUA+lvoasIF+QAnwGQHMQHdA2KyEbMULckDKkNsdj69pQBuEPr0ayGFAr8ygc9kUWUCwXHLjiMBTQBv2WIHHmVRA2izC3nTLYEBWUFFu39ZkQKLJ1/FYIWNAQngEgtJUY0DGDhrj7OZpQJvwy61nCXJAzXyFwO3gdUCBaPC9pG93QB0QquMXCXdA/Bujs9oieEB0NEF7AMN3QLMkqfYhV3hAWoPfb+kifEBeCkIAX6B7QIAR5tV5+3dAuL3XcmnFdkC8twPpyPJ2QLIjsMRIo3NAKrdL/l7Pa0C4yDSxkVVgQE02Ca/uMFVAKxjiX5hdS0CNxxy87h5HQI2jWxbuME5ALWOaKbGlXkCYLA9J0pNrQDKZEAASHXNAWjPscB3WdkAeRUqPMvJ5QPuYDatDwn1Alk5jT9EsgUDXYSrnLAyCQGmQJatUvIJAd0oEEVPrgkAqyccrGt6BQHHDnuskX4JAIOwBbYEUhkDz4hVrEziHQP6U+pwt5IRA3DwN+Ca5hEA7dyfzvWeCQGqiUdiSUX1A\",\"dtype\":\"float64\",\"shape\":[72]}},\"selected\":{\"id\":\"9909\",\"type\":\"Selection\"},\"selection_policy\":{\"id\":\"9908\",\"type\":\"UnionRenderers\"}},\"id\":\"9858\",\"type\":\"ColumnDataSource\"},{\"attributes\":{\"data_source\":{\"id\":\"9884\",\"type\":\"ColumnDataSource\"},\"glyph\":{\"id\":\"9885\",\"type\":\"Line\"},\"hover_glyph\":null,\"muted_glyph\":null,\"nonselection_glyph\":{\"id\":\"9886\",\"type\":\"Line\"},\"selection_glyph\":null,\"view\":{\"id\":\"9888\",\"type\":\"CDSView\"}},\"id\":\"9887\",\"type\":\"GlyphRenderer\"},{\"attributes\":{},\"id\":\"9845\",\"type\":\"PanTool\"},{\"attributes\":{},\"id\":\"9937\",\"type\":\"UnionRenderers\"},{\"attributes\":{\"axis_label\":\"Predictions\",\"formatter\":{\"id\":\"9867\",\"type\":\"BasicTickFormatter\"},\"ticker\":{\"id\":\"9841\",\"type\":\"BasicTicker\"}},\"id\":\"9840\",\"type\":\"LinearAxis\"},{\"attributes\":{},\"id\":\"9867\",\"type\":\"BasicTickFormatter\"},{\"attributes\":{\"label\":{\"value\":\"EIA no external variables\"},\"renderers\":[{\"id\":\"9914\",\"type\":\"GlyphRenderer\"}]},\"id\":\"9939\",\"type\":\"LegendItem\"},{\"attributes\":{},\"id\":\"9846\",\"type\":\"WheelZoomTool\"},{\"attributes\":{\"base\":60,\"mantissas\":[1,2,5,10,15,20,30],\"max_interval\":1800000.0,\"min_interval\":1000.0,\"num_minor_ticks\":0},\"id\":\"9870\",\"type\":\"AdaptiveTicker\"},{\"attributes\":{\"callback\":null,\"data\":{\"x\":{\"__ndarray__\":\"AAAIgrS8c0IAAPDwt7xzQgAA2F+7vHNCAADAzr68c0IAAKg9wrxzQgAAkKzFvHNCAAB4G8m8c0IAAGCKzLxzQgAASPnPvHNCAAAwaNO8c0IAABjX1rxzQgAAAEbavHNCAADotN28c0IAANAj4bxzQgAAuJLkvHNCAACgAei8c0IAAIhw67xzQgAAcN/uvHNCAABYTvK8c0IAAEC99bxzQgAAKCz5vHNCAAAQm/y8c0IAAPgJAL1zQgAA4HgDvXNCAADI5wa9c0IAALBWCr1zQgAAmMUNvXNCAACANBG9c0IAAGijFL1zQgAAUBIYvXNCAAA4gRu9c0IAACDwHr1zQgAACF8ivXNCAADwzSW9c0IAANg8Kb1zQgAAwKssvXNCAACoGjC9c0IAAJCJM71zQgAAePg2vXNCAABgZzq9c0IAAEjWPb1zQgAAMEVBvXNCAAAYtES9c0IAAAAjSL1zQgAA6JFLvXNCAADQAE+9c0IAALhvUr1zQgAAoN5VvXNCAACITVm9c0IAAHC8XL1zQgAAWCtgvXNCAABAmmO9c0IAACgJZ71zQgAAEHhqvXNCAAD45m29c0IAAOBVcb1zQgAAyMR0vXNCAACwM3i9c0IAAJiie71zQgAAgBF/vXNCAABogIK9c0IAAFDvhb1zQgAAOF6JvXNCAAAgzYy9c0IAAAg8kL1zQgAA8KqTvXNCAADYGZe9c0IAAMCImr1zQgAAqPedvXNCAACQZqG9c0IAAHjVpL1zQgAAYESovXNC\",\"dtype\":\"float64\",\"shape\":[72]},\"y\":{\"__ndarray__\":\"JGlYrnZNcED9ND2MmTljQF4DYqDYy1hA4X37aGRAU0DTfgwhrktSQKaGfSziylxA02S3g5d7bkACMoNgBlV3QHrdQBzHN3lA8nL9xUuSeEAIylWKz1l5QLdCKCgcSIBAj5OSu3+bgUBhu/pCb0iDQJzhoZPxhIRAZ6pFP4l9hEDpvSO2Xx2DQCJO5QkkAYVA1uJv7ZMsh0CjO9+4EG+FQJ9aH12f7YRAjAhyQOoggkBOJMU46Yl/QOroav2+2HhADdHwjQSkdEAdFLzGeVBvQFKCzbVylWZAdgpxojJAYkBTuRHHAndfQFbK/w2SYl5AdRWCtddUYkA/fYmrTYBlQJk6/SM3kGlAvhWmqGo+cEDVL7+umf90QCZFn43HXXhAw7bqvefDekCLDnJrlaR7QB7cvSRJRXxAvagsp31rfECAIv0lJTp6QGrevORTj3tAlmNRgXePfkAqalORQeR/QIi4SEe/f35ACEjc8A53fUBaUHD+io17QHKAwsjWcndAyONCaCW9akAWXmGodF5gQNrqQoqWalZA8igEQuqoS0BZZ42A7mJHQMI1RbmV4E9A/xxAC3UVYEC7v9Z/0HxrQGsCPdj9y3JALow5KZord0DjNzRfgUR6QBJfRbjnTn5AnkPm7E+AgUB4UwxVVmqCQLqXViD4d4NAOeTtpE3Ng0B+3DxqHfuBQPreAKi3b4JARqKzLmlBhkBmPfzIN0qHQPp3lIkO54RAR0GufFinhEAi2j1aeeCBQHaVGCjMd3xA\",\"dtype\":\"float64\",\"shape\":[72]}},\"selected\":{\"id\":\"9938\",\"type\":\"Selection\"},\"selection_policy\":{\"id\":\"9937\",\"type\":\"UnionRenderers\"}},\"id\":\"9884\",\"type\":\"ColumnDataSource\"},{\"attributes\":{\"line_color\":\"#66c2a5\",\"line_width\":2,\"x\":{\"field\":\"x\"},\"y\":{\"field\":\"y\"}},\"id\":\"9885\",\"type\":\"Line\"},{\"attributes\":{\"days\":[1,8,15,22]},\"id\":\"9874\",\"type\":\"DaysTicker\"},{\"attributes\":{\"overlay\":{\"id\":\"9881\",\"type\":\"BoxAnnotation\"}},\"id\":\"9847\",\"type\":\"BoxZoomTool\"},{\"attributes\":{\"callback\":null,\"data\":{\"x\":{\"__ndarray__\":\"AAAIgrS8c0IAAPDwt7xzQgAA2F+7vHNCAADAzr68c0IAAKg9wrxzQgAAkKzFvHNCAAB4G8m8c0IAAGCKzLxzQgAASPnPvHNCAAAwaNO8c0IAABjX1rxzQgAAAEbavHNCAADotN28c0IAANAj4bxzQgAAuJLkvHNCAACgAei8c0IAAIhw67xzQgAAcN/uvHNCAABYTvK8c0IAAEC99bxzQgAAKCz5vHNCAAAQm/y8c0IAAPgJAL1zQgAA4HgDvXNCAADI5wa9c0IAALBWCr1zQgAAmMUNvXNCAACANBG9c0IAAGijFL1zQgAAUBIYvXNCAAA4gRu9c0IAACDwHr1zQgAACF8ivXNCAADwzSW9c0IAANg8Kb1zQgAAwKssvXNCAACoGjC9c0IAAJCJM71zQgAAePg2vXNCAABgZzq9c0IAAEjWPb1zQgAAMEVBvXNCAAAYtES9c0IAAAAjSL1zQgAA6JFLvXNCAADQAE+9c0IAALhvUr1zQgAAoN5VvXNCAACITVm9c0IAAHC8XL1zQgAAWCtgvXNCAABAmmO9c0IAACgJZ71zQgAAEHhqvXNCAAD45m29c0IAAOBVcb1zQgAAyMR0vXNCAACwM3i9c0IAAJiie71zQgAAgBF/vXNCAABogIK9c0IAAFDvhb1zQgAAOF6JvXNCAAAgzYy9c0IAAAg8kL1zQgAA8KqTvXNCAADYGZe9c0IAAMCImr1zQgAAqPedvXNCAACQZqG9c0IAAHjVpL1zQgAAYESovXNC\",\"dtype\":\"float64\",\"shape\":[72]},\"y\":{\"__ndarray__\":\"ZmZmZmb2b0BmZmZmZk5lQDMzMzMz41xAmpmZmZlJVUAzMzMzM2NTQM3MzMzMrFBAmpmZmZk5YEBmZmZmZvZpQM3MzMzMPHFAMzMzMzPLdkAzMzMzM9WAQGZmZmZmdoFAZmZmZmbugkBmZmZmZryDQJqZmZmZjYRAMzMzMzMThEBmZmZmZnSCQDMzMzMz1YJAZmZmZmbUgkAzMzMzM+GEQAAAAAAAtoJAAAAAAACWgEAAAAAAAGB8QM3MzMzMXHlAMzMzMzN7dUAAAAAAANhtQJqZmZmZOWNAMzMzMzOjWUAzMzMzM6NRQJqZmZmZmUVAmpmZmZl5TUAAAAAAACBSQDMzMzMzs1ZAmpmZmZkBYkBmZmZmZk5rQM3MzMzMeHFAAAAAAAAMdEDNzMzMzOR0QM3MzMzM0HdAMzMzMzNjd0DNzMzMzKB1QGZmZmZmcndAZmZmZmbKeUAAAAAAAJh4QJqZmZmZjXhAZmZmZmZeekCamZmZmQ14QM3MzMzMAHJAzczMzMwEaEAAAAAAADBgQDMzMzMzI1NAmpmZmZnZR0CamZmZmflHQJqZmZmZWUpAzczMzMxcYUAzMzMzMzNuQGZmZmZmlnVAZmZmZmbee0AAAAAAADB/QAAAAAAA/oBAzczMzMy+gkCamZmZmSWEQGZmZmZmaoZAMzMzMzNThUAzMzMzMxeBQAAAAAAAaoNAzczMzMweiEAAAAAAAIKHQGZmZmZmKIdAmpmZmZmfhEBmZmZmZniCQDMzMzMzI3xA\",\"dtype\":\"float64\",\"shape\":[72]}},\"selected\":{\"id\":\"10470\",\"type\":\"Selection\"},\"selection_policy\":{\"id\":\"10469\",\"type\":\"UnionRenderers\"}},\"id\":\"9971\",\"type\":\"ColumnDataSource\"},{\"attributes\":{},\"id\":\"9938\",\"type\":\"Selection\"},{\"attributes\":{},\"id\":\"9831\",\"type\":\"LinearScale\"},{\"attributes\":{\"line_color\":\"#e6f598\",\"line_width\":2,\"x\":{\"field\":\"x\"},\"y\":{\"field\":\"y\"}},\"id\":\"9912\",\"type\":\"Line\"},{\"attributes\":{\"line_color\":\"#d53e4f\",\"line_width\":2,\"x\":{\"field\":\"x\"},\"y\":{\"field\":\"y\"}},\"id\":\"9972\",\"type\":\"Line\"},{\"attributes\":{},\"id\":\"9833\",\"type\":\"LinearScale\"},{\"attributes\":{},\"id\":\"9848\",\"type\":\"SaveTool\"},{\"attributes\":{\"line_alpha\":0.1,\"line_color\":\"#1f77b4\",\"line_width\":2,\"x\":{\"field\":\"x\"},\"y\":{\"field\":\"y\"}},\"id\":\"9886\",\"type\":\"Line\"},{\"attributes\":{\"base\":24,\"mantissas\":[1,2,4,6,8,12],\"max_interval\":43200000.0,\"min_interval\":3600000.0,\"num_minor_ticks\":0},\"id\":\"9871\",\"type\":\"AdaptiveTicker\"},{\"attributes\":{\"data_source\":{\"id\":\"9911\",\"type\":\"ColumnDataSource\"},\"glyph\":{\"id\":\"9912\",\"type\":\"Line\"},\"hover_glyph\":null,\"muted_glyph\":null,\"nonselection_glyph\":{\"id\":\"9913\",\"type\":\"Line\"},\"selection_glyph\":null,\"view\":{\"id\":\"9915\",\"type\":\"CDSView\"}},\"id\":\"9914\",\"type\":\"GlyphRenderer\"},{\"attributes\":{},\"id\":\"9849\",\"type\":\"ResetTool\"},{\"attributes\":{\"line_color\":\"#3288bd\",\"line_width\":2,\"x\":{\"field\":\"x\"},\"y\":{\"field\":\"y\"}},\"id\":\"9859\",\"type\":\"Line\"},{\"attributes\":{},\"id\":\"9908\",\"type\":\"UnionRenderers\"},{\"attributes\":{\"days\":[1,2,3,4,5,6,7,8,9,10,11,12,13,14,15,16,17,18,19,20,21,22,23,24,25,26,27,28,29,30,31]},\"id\":\"9872\",\"type\":\"DaysTicker\"},{\"attributes\":{\"label\":{\"value\":\"Weather and holidays\"},\"renderers\":[{\"id\":\"9887\",\"type\":\"GlyphRenderer\"}]},\"id\":\"9910\",\"type\":\"LegendItem\"}],\"root_ids\":[\"9826\"]},\"title\":\"Bokeh Application\",\"version\":\"1.4.0\"}};\n",
       "  var render_items = [{\"docid\":\"e2382bfc-7efd-4db8-9ba1-174bf07aba44\",\"roots\":{\"9826\":\"1878e4c7-3225-493a-955e-7f0cd2392d07\"}}];\n",
       "  root.Bokeh.embed.embed_items_notebook(docs_json, render_items);\n",
       "\n",
       "  }\n",
       "  if (root.Bokeh !== undefined) {\n",
       "    embed_document(root);\n",
       "  } else {\n",
       "    var attempts = 0;\n",
       "    var timer = setInterval(function(root) {\n",
       "      if (root.Bokeh !== undefined) {\n",
       "        clearInterval(timer);\n",
       "        embed_document(root);\n",
       "      } else {\n",
       "        attempts++;\n",
       "        if (attempts > 100) {\n",
       "          clearInterval(timer);\n",
       "          console.log(\"Bokeh: ERROR: Unable to run BokehJS code because BokehJS library is missing\");\n",
       "        }\n",
       "      }\n",
       "    }, 10, root)\n",
       "  }\n",
       "})(window);"
      ],
      "application/vnd.bokehjs_exec.v0+json": ""
     },
     "metadata": {
      "application/vnd.bokehjs_exec.v0+json": {
       "id": "9826"
      }
     },
     "output_type": "display_data"
    }
   ],
   "source": [
    "s = slice('2012-12-24', '2012-12-26')\n",
    "\n",
    "p = figure(plot_width=800, plot_height=400, x_axis_type='datetime')\n",
    "p.line(x = pred_ne[s].index, y=pred_ne[s], line_width=2, legend_label='No external variables', color = Spectral8[0])\n",
    "p.line(x = pred_w_h[s].index, y=pred_w_h[s], line_width=2, legend_label='Weather and holidays', color = Spectral8[1])\n",
    "p.line(x = eia_ne[s].index, y=eia_ne[s], line_width=2, legend_label='EIA no external variables', color = Spectral8[3])\n",
    "p.line(x = eia_w_h[s].index, y=eia_w_h[s], line_width=2, legend_label='EIA weather and holidays', color = Spectral8[5])\n",
    "p.line(x = real[s].index, y=real[s], line_width=2, legend_label='Real demand', color = Spectral8[7])\n",
    "\n",
    "p.yaxis.axis_label = 'Predictions'\n",
    "p.title.text = 'Christmas Day'\n",
    "p.legend.location = 'bottom_left'\n",
    "p.legend.click_policy=\"hide\"\n",
    "\n",
    "show(p)"
   ]
  },
  {
   "cell_type": "code",
   "execution_count": 37,
   "metadata": {
    "ExecuteTime": {
     "end_time": "2020-02-21T12:57:32.156561Z",
     "start_time": "2020-02-21T12:57:31.893991Z"
    }
   },
   "outputs": [
    {
     "data": {
      "text/html": [
       "\n",
       "\n",
       "\n",
       "\n",
       "\n",
       "\n",
       "  <div class=\"bk-root\" id=\"cb68fba6-addb-4a99-a12c-b935a2137df4\" data-root-id=\"10645\"></div>\n"
      ]
     },
     "metadata": {},
     "output_type": "display_data"
    },
    {
     "data": {
      "application/javascript": [
       "(function(root) {\n",
       "  function embed_document(root) {\n",
       "    \n",
       "  var docs_json = {\"39bbbaf0-a028-4969-a693-f61cbe3e424d\":{\"roots\":{\"references\":[{\"attributes\":{\"below\":[{\"id\":\"10654\",\"type\":\"DatetimeAxis\"}],\"center\":[{\"id\":\"10658\",\"type\":\"Grid\"},{\"id\":\"10663\",\"type\":\"Grid\"},{\"id\":\"10701\",\"type\":\"Legend\"}],\"left\":[{\"id\":\"10659\",\"type\":\"LinearAxis\"}],\"plot_height\":400,\"plot_width\":800,\"renderers\":[{\"id\":\"10680\",\"type\":\"GlyphRenderer\"},{\"id\":\"10706\",\"type\":\"GlyphRenderer\"},{\"id\":\"10733\",\"type\":\"GlyphRenderer\"},{\"id\":\"10762\",\"type\":\"GlyphRenderer\"},{\"id\":\"10793\",\"type\":\"GlyphRenderer\"}],\"title\":{\"id\":\"10682\",\"type\":\"Title\"},\"toolbar\":{\"id\":\"10670\",\"type\":\"Toolbar\"},\"x_range\":{\"id\":\"10646\",\"type\":\"DataRange1d\"},\"x_scale\":{\"id\":\"10650\",\"type\":\"LinearScale\"},\"y_range\":{\"id\":\"10648\",\"type\":\"DataRange1d\"},\"y_scale\":{\"id\":\"10652\",\"type\":\"LinearScale\"}},\"id\":\"10645\",\"subtype\":\"Figure\",\"type\":\"Plot\"},{\"attributes\":{\"formatter\":{\"id\":\"10684\",\"type\":\"DatetimeTickFormatter\"},\"ticker\":{\"id\":\"10655\",\"type\":\"DatetimeTicker\"}},\"id\":\"10654\",\"type\":\"DatetimeAxis\"},{\"attributes\":{},\"id\":\"10788\",\"type\":\"Selection\"},{\"attributes\":{\"dimension\":1,\"ticker\":{\"id\":\"10660\",\"type\":\"BasicTicker\"}},\"id\":\"10663\",\"type\":\"Grid\"},{\"attributes\":{\"line_alpha\":0.1,\"line_color\":\"#1f77b4\",\"line_width\":2,\"x\":{\"field\":\"x\"},\"y\":{\"field\":\"y\"}},\"id\":\"10732\",\"type\":\"Line\"},{\"attributes\":{\"num_minor_ticks\":5,\"tickers\":[{\"id\":\"10688\",\"type\":\"AdaptiveTicker\"},{\"id\":\"10689\",\"type\":\"AdaptiveTicker\"},{\"id\":\"10690\",\"type\":\"AdaptiveTicker\"},{\"id\":\"10691\",\"type\":\"DaysTicker\"},{\"id\":\"10692\",\"type\":\"DaysTicker\"},{\"id\":\"10693\",\"type\":\"DaysTicker\"},{\"id\":\"10694\",\"type\":\"DaysTicker\"},{\"id\":\"10695\",\"type\":\"MonthsTicker\"},{\"id\":\"10696\",\"type\":\"MonthsTicker\"},{\"id\":\"10697\",\"type\":\"MonthsTicker\"},{\"id\":\"10698\",\"type\":\"MonthsTicker\"},{\"id\":\"10699\",\"type\":\"YearsTicker\"}]},\"id\":\"10655\",\"type\":\"DatetimeTicker\"},{\"attributes\":{\"line_alpha\":0.1,\"line_color\":\"#1f77b4\",\"line_width\":2,\"x\":{\"field\":\"x\"},\"y\":{\"field\":\"y\"}},\"id\":\"10679\",\"type\":\"Line\"},{\"attributes\":{\"base\":24,\"mantissas\":[1,2,4,6,8,12],\"max_interval\":43200000.0,\"min_interval\":3600000.0,\"num_minor_ticks\":0},\"id\":\"10690\",\"type\":\"AdaptiveTicker\"},{\"attributes\":{},\"id\":\"10667\",\"type\":\"SaveTool\"},{\"attributes\":{\"ticker\":{\"id\":\"10655\",\"type\":\"DatetimeTicker\"}},\"id\":\"10658\",\"type\":\"Grid\"},{\"attributes\":{},\"id\":\"10756\",\"type\":\"UnionRenderers\"},{\"attributes\":{\"overlay\":{\"id\":\"10700\",\"type\":\"BoxAnnotation\"}},\"id\":\"10666\",\"type\":\"BoxZoomTool\"},{\"attributes\":{\"callback\":null,\"data\":{\"x\":{\"__ndarray__\":\"AADIlC8ydEIAALADMzJ0QgAAmHI2MnRCAACA4TkydEIAAGhQPTJ0QgAAUL9AMnRCAAA4LkQydEIAACCdRzJ0QgAACAxLMnRCAADwek4ydEIAANjpUTJ0QgAAwFhVMnRCAACox1gydEIAAJA2XDJ0QgAAeKVfMnRCAABgFGMydEIAAEiDZjJ0QgAAMPJpMnRCAAAYYW0ydEIAAADQcDJ0QgAA6D50MnRCAADQrXcydEIAALgcezJ0QgAAoIt+MnRCAACI+oEydEIAAHBphTJ0QgAAWNiIMnRCAABAR4wydEIAACi2jzJ0QgAAECWTMnRCAAD4k5YydEIAAOACmjJ0QgAAyHGdMnRCAACw4KAydEIAAJhPpDJ0QgAAgL6nMnRCAABoLasydEIAAFCcrjJ0QgAAOAuyMnRCAAAgerUydEIAAAjpuDJ0QgAA8Fe8MnRCAADYxr8ydEIAAMA1wzJ0QgAAqKTGMnRCAACQE8oydEIAAHiCzTJ0QgAAYPHQMnRCAABIYNQydEIAADDP1zJ0QgAAGD7bMnRCAAAArd4ydEIAAOgb4jJ0QgAA0IrlMnRCAAC4+egydEIAAKBo7DJ0QgAAiNfvMnRCAABwRvMydEIAAFi19jJ0QgAAQCT6MnRCAAAok/0ydEIAABACATN0QgAA+HAEM3RCAADg3wczdEIAAMhOCzN0QgAAsL0OM3RCAACYLBIzdEIAAICbFTN0QgAAaAoZM3RCAABQeRwzdEIAADjoHzN0QgAAIFcjM3RC\",\"dtype\":\"float64\",\"shape\":[72]},\"y\":{\"__ndarray__\":\"7z9JZYMHdEAiGbWNd/RnQC6MR4NTk15A7wd0zYGAVUCpuyHpXPlSQL64YFuFN1lAQkowzDGqbkDCsAPVC/R2QGXUrDAkrnlAG9vBBnlJfkA//IjI73CAQBdkXLwKqIFAG3iNGN5tg0A7ChkPW32EQODaU3YI94VAUl+QywrjhEDH9TbDc0GCQDRO/zSMk4RAYpIBs4JkiEDb0dJvtDuGQEnFysyAf4JA+m87cNUPgUB2P9Jx+ziAQNvNU7HjcX1AtlO3JYpCdkAaVOT7dXNvQB3Yz+VNJmVAc+53TED6WkDQ7L2soHdTQCVrM4zWNFRAQzOxjuR3X0Db0bO5PHdgQPYnVtQ4EGBAar9xGWScZEAVaAmRPDJtQHPaceVWlnJAsmbg6nMtdkCUX9B+WrF4QPW0DCMKoHdAMqNj4+FQdkCgjomerG92QEnrpJxXa3hASDVxAJ6BfUDQB8jdCp1+QAiMki5s5HpAJhqmY7TNeEDWHtJOlOt5QFbPw5PSiHZAxtYRZhAnb0AyFerg01ZgQD7NFgK8NFVAY6OfaJhUS0BcJ+pz3lpIQPG0K2fPeFFALv3dCBNFXkDV+0MnKb9pQL9fmWuzDnFAXbiOAfrbdUABg3+EutB4QK2FQ7yATX1Awdav/aRPgECe45xNrIeBQACh7Vn7l4FAAKtGisddgEBM0lN1z4OAQMI60er1BINAZpJlD0iahkAyzaEwZRqHQCH8uTFnooRAtfOqswz/gUD42H1bxCqBQIgZnZcV/H1A\",\"dtype\":\"float64\",\"shape\":[72]}},\"selected\":{\"id\":\"10728\",\"type\":\"Selection\"},\"selection_policy\":{\"id\":\"10727\",\"type\":\"UnionRenderers\"}},\"id\":\"10677\",\"type\":\"ColumnDataSource\"},{\"attributes\":{},\"id\":\"10660\",\"type\":\"BasicTicker\"},{\"attributes\":{\"label\":{\"value\":\"EIA no external variables\"},\"renderers\":[{\"id\":\"10733\",\"type\":\"GlyphRenderer\"}]},\"id\":\"10758\",\"type\":\"LegendItem\"},{\"attributes\":{\"line_color\":\"#e6f598\",\"line_width\":2,\"x\":{\"field\":\"x\"},\"y\":{\"field\":\"y\"}},\"id\":\"10731\",\"type\":\"Line\"},{\"attributes\":{\"axis_label\":\"Predictions\",\"formatter\":{\"id\":\"10686\",\"type\":\"BasicTickFormatter\"},\"ticker\":{\"id\":\"10660\",\"type\":\"BasicTicker\"}},\"id\":\"10659\",\"type\":\"LinearAxis\"},{\"attributes\":{\"line_color\":\"#66c2a5\",\"line_width\":2,\"x\":{\"field\":\"x\"},\"y\":{\"field\":\"y\"}},\"id\":\"10704\",\"type\":\"Line\"},{\"attributes\":{\"line_alpha\":0.1,\"line_color\":\"#1f77b4\",\"line_width\":2,\"x\":{\"field\":\"x\"},\"y\":{\"field\":\"y\"}},\"id\":\"10705\",\"type\":\"Line\"},{\"attributes\":{\"days\":[1,2,3,4,5,6,7,8,9,10,11,12,13,14,15,16,17,18,19,20,21,22,23,24,25,26,27,28,29,30,31]},\"id\":\"10691\",\"type\":\"DaysTicker\"},{\"attributes\":{\"data_source\":{\"id\":\"10703\",\"type\":\"ColumnDataSource\"},\"glyph\":{\"id\":\"10704\",\"type\":\"Line\"},\"hover_glyph\":null,\"muted_glyph\":null,\"nonselection_glyph\":{\"id\":\"10705\",\"type\":\"Line\"},\"selection_glyph\":null,\"view\":{\"id\":\"10707\",\"type\":\"CDSView\"}},\"id\":\"10706\",\"type\":\"GlyphRenderer\"},{\"attributes\":{},\"id\":\"10668\",\"type\":\"ResetTool\"},{\"attributes\":{},\"id\":\"10757\",\"type\":\"Selection\"},{\"attributes\":{\"data_source\":{\"id\":\"10730\",\"type\":\"ColumnDataSource\"},\"glyph\":{\"id\":\"10731\",\"type\":\"Line\"},\"hover_glyph\":null,\"muted_glyph\":null,\"nonselection_glyph\":{\"id\":\"10732\",\"type\":\"Line\"},\"selection_glyph\":null,\"view\":{\"id\":\"10734\",\"type\":\"CDSView\"}},\"id\":\"10733\",\"type\":\"GlyphRenderer\"},{\"attributes\":{\"days\":[1,4,7,10,13,16,19,22,25,28]},\"id\":\"10692\",\"type\":\"DaysTicker\"},{\"attributes\":{\"base\":60,\"mantissas\":[1,2,5,10,15,20,30],\"max_interval\":1800000.0,\"min_interval\":1000.0,\"num_minor_ticks\":0},\"id\":\"10689\",\"type\":\"AdaptiveTicker\"},{\"attributes\":{\"source\":{\"id\":\"10703\",\"type\":\"ColumnDataSource\"}},\"id\":\"10707\",\"type\":\"CDSView\"},{\"attributes\":{},\"id\":\"10686\",\"type\":\"BasicTickFormatter\"},{\"attributes\":{\"days\":[1,8,15,22]},\"id\":\"10693\",\"type\":\"DaysTicker\"},{\"attributes\":{\"active_drag\":\"auto\",\"active_inspect\":\"auto\",\"active_multi\":null,\"active_scroll\":\"auto\",\"active_tap\":\"auto\",\"tools\":[{\"id\":\"10664\",\"type\":\"PanTool\"},{\"id\":\"10665\",\"type\":\"WheelZoomTool\"},{\"id\":\"10666\",\"type\":\"BoxZoomTool\"},{\"id\":\"10667\",\"type\":\"SaveTool\"},{\"id\":\"10668\",\"type\":\"ResetTool\"},{\"id\":\"10669\",\"type\":\"HelpTool\"}]},\"id\":\"10670\",\"type\":\"Toolbar\"},{\"attributes\":{\"callback\":null,\"data\":{\"x\":{\"__ndarray__\":\"AADIlC8ydEIAALADMzJ0QgAAmHI2MnRCAACA4TkydEIAAGhQPTJ0QgAAUL9AMnRCAAA4LkQydEIAACCdRzJ0QgAACAxLMnRCAADwek4ydEIAANjpUTJ0QgAAwFhVMnRCAACox1gydEIAAJA2XDJ0QgAAeKVfMnRCAABgFGMydEIAAEiDZjJ0QgAAMPJpMnRCAAAYYW0ydEIAAADQcDJ0QgAA6D50MnRCAADQrXcydEIAALgcezJ0QgAAoIt+MnRCAACI+oEydEIAAHBphTJ0QgAAWNiIMnRCAABAR4wydEIAACi2jzJ0QgAAECWTMnRCAAD4k5YydEIAAOACmjJ0QgAAyHGdMnRCAACw4KAydEIAAJhPpDJ0QgAAgL6nMnRCAABoLasydEIAAFCcrjJ0QgAAOAuyMnRCAAAgerUydEIAAAjpuDJ0QgAA8Fe8MnRCAADYxr8ydEIAAMA1wzJ0QgAAqKTGMnRCAACQE8oydEIAAHiCzTJ0QgAAYPHQMnRCAABIYNQydEIAADDP1zJ0QgAAGD7bMnRCAAAArd4ydEIAAOgb4jJ0QgAA0IrlMnRCAAC4+egydEIAAKBo7DJ0QgAAiNfvMnRCAABwRvMydEIAAFi19jJ0QgAAQCT6MnRCAAAok/0ydEIAABACATN0QgAA+HAEM3RCAADg3wczdEIAAMhOCzN0QgAAsL0OM3RCAACYLBIzdEIAAICbFTN0QgAAaAoZM3RCAABQeRwzdEIAADjoHzN0QgAAIFcjM3RC\",\"dtype\":\"float64\",\"shape\":[72]},\"y\":{\"__ndarray__\":\"ZmZmZmbec0AAAAAAAPBoQAAAAAAAcGBAMzMzMzMzVkCamZmZmQlVQGZmZmZmZlVAzczMzMz0ZUBmZmZmZgpwQAAAAAAAZHdAzczMzMysfECamZmZmXGAQJqZmZmZk4JAMzMzMzOthEDNzMzMzPaFQM3MzMzMJIZAAAAAAAAIhkAzMzMzM52CQJqZmZmZEYRAzczMzMwuhEAAAAAAADCCQJqZmZmZN4BAZmZmZmZigECamZmZmauAQJqZmZmZDX1AzczMzMwoeEDNzMzMzKhwQAAAAAAA2GNAzczMzMx8WkBmZmZmZgZSQGZmZmZmRkZAzczMzMwMTkCamZmZmRlTQAAAAAAAQFtAAAAAAACgZEAAAAAAAOBuQJqZmZmZ0XNAMzMzMzOfd0AAAAAAACh4QM3MzMzMaHhAmpmZmZnheEAAAAAAAHh3QM3MzMzMVHpAmpmZmZmVe0AAAAAAAIh6QDMzMzMzz3hAMzMzMzNDe0CamZmZmbF5QAAAAAAAeHJAAAAAAAAQZ0AzMzMzMyNeQJqZmZmZ6VFAmpmZmZkZSEBmZmZmZsZEQAAAAAAAwEhAmpmZmZlJYECamZmZmVFpQDMzMzMzA3NAzczMzMy0eEAzMzMzM3d9QM3MzMzMWoBAmpmZmZkhgkAAAAAAAFiCQDMzMzMzxYFAMzMzMzP7gkCamZmZmVeBQJqZmZmZ/4NAMzMzMzOThkCamZmZmaGFQAAAAAAAQIJAzczMzMwcgkAzMzMzM42CQAAAAAAADH1A\",\"dtype\":\"float64\",\"shape\":[72]}},\"selected\":{\"id\":\"11318\",\"type\":\"Selection\"},\"selection_policy\":{\"id\":\"11317\",\"type\":\"UnionRenderers\"}},\"id\":\"10790\",\"type\":\"ColumnDataSource\"},{\"attributes\":{},\"id\":\"10727\",\"type\":\"UnionRenderers\"},{\"attributes\":{\"days\":[1,15]},\"id\":\"10694\",\"type\":\"DaysTicker\"},{\"attributes\":{\"label\":{\"value\":\"No external variables\"},\"renderers\":[{\"id\":\"10680\",\"type\":\"GlyphRenderer\"}]},\"id\":\"10702\",\"type\":\"LegendItem\"},{\"attributes\":{\"label\":{\"value\":\"Weather and holidays\"},\"renderers\":[{\"id\":\"10706\",\"type\":\"GlyphRenderer\"}]},\"id\":\"10729\",\"type\":\"LegendItem\"},{\"attributes\":{\"months\":[0,1,2,3,4,5,6,7,8,9,10,11]},\"id\":\"10695\",\"type\":\"MonthsTicker\"},{\"attributes\":{\"data_source\":{\"id\":\"10759\",\"type\":\"ColumnDataSource\"},\"glyph\":{\"id\":\"10760\",\"type\":\"Line\"},\"hover_glyph\":null,\"muted_glyph\":null,\"nonselection_glyph\":{\"id\":\"10761\",\"type\":\"Line\"},\"selection_glyph\":null,\"view\":{\"id\":\"10763\",\"type\":\"CDSView\"}},\"id\":\"10762\",\"type\":\"GlyphRenderer\"},{\"attributes\":{\"line_alpha\":0.1,\"line_color\":\"#1f77b4\",\"line_width\":2,\"x\":{\"field\":\"x\"},\"y\":{\"field\":\"y\"}},\"id\":\"10792\",\"type\":\"Line\"},{\"attributes\":{},\"id\":\"10728\",\"type\":\"Selection\"},{\"attributes\":{\"label\":{\"value\":\"Real demand\"},\"renderers\":[{\"id\":\"10793\",\"type\":\"GlyphRenderer\"}]},\"id\":\"10822\",\"type\":\"LegendItem\"},{\"attributes\":{},\"id\":\"10664\",\"type\":\"PanTool\"},{\"attributes\":{\"months\":[0,2,4,6,8,10]},\"id\":\"10696\",\"type\":\"MonthsTicker\"},{\"attributes\":{\"source\":{\"id\":\"10730\",\"type\":\"ColumnDataSource\"}},\"id\":\"10734\",\"type\":\"CDSView\"},{\"attributes\":{\"line_color\":\"#d53e4f\",\"line_width\":2,\"x\":{\"field\":\"x\"},\"y\":{\"field\":\"y\"}},\"id\":\"10791\",\"type\":\"Line\"},{\"attributes\":{},\"id\":\"10665\",\"type\":\"WheelZoomTool\"},{\"attributes\":{\"callback\":null,\"data\":{\"x\":{\"__ndarray__\":\"AADIlC8ydEIAALADMzJ0QgAAmHI2MnRCAACA4TkydEIAAGhQPTJ0QgAAUL9AMnRCAAA4LkQydEIAACCdRzJ0QgAACAxLMnRCAADwek4ydEIAANjpUTJ0QgAAwFhVMnRCAACox1gydEIAAJA2XDJ0QgAAeKVfMnRCAABgFGMydEIAAEiDZjJ0QgAAMPJpMnRCAAAYYW0ydEIAAADQcDJ0QgAA6D50MnRCAADQrXcydEIAALgcezJ0QgAAoIt+MnRCAACI+oEydEIAAHBphTJ0QgAAWNiIMnRCAABAR4wydEIAACi2jzJ0QgAAECWTMnRCAAD4k5YydEIAAOACmjJ0QgAAyHGdMnRCAACw4KAydEIAAJhPpDJ0QgAAgL6nMnRCAABoLasydEIAAFCcrjJ0QgAAOAuyMnRCAAAgerUydEIAAAjpuDJ0QgAA8Fe8MnRCAADYxr8ydEIAAMA1wzJ0QgAAqKTGMnRCAACQE8oydEIAAHiCzTJ0QgAAYPHQMnRCAABIYNQydEIAADDP1zJ0QgAAGD7bMnRCAAAArd4ydEIAAOgb4jJ0QgAA0IrlMnRCAAC4+egydEIAAKBo7DJ0QgAAiNfvMnRCAABwRvMydEIAAFi19jJ0QgAAQCT6MnRCAAAok/0ydEIAABACATN0QgAA+HAEM3RCAADg3wczdEIAAMhOCzN0QgAAsL0OM3RCAACYLBIzdEIAAICbFTN0QgAAaAoZM3RCAABQeRwzdEIAADjoHzN0QgAAIFcjM3RC\",\"dtype\":\"float64\",\"shape\":[72]},\"y\":{\"__ndarray__\":\"gQ8RQs6bc0CmTNW02txmQGg0ENGkGFxA/xKSGAPFU0Dme5OPRapRQPCH4TxaS1hAdfCqWmWhcECIBl1s+U97QGZmZmZmCnBAAAAAAABkd0DNzMzMzKx8QFWaBbRKjoFALMkgp09Eg0D6F4szWAOEQPZoA7GPrYVAE04dA0qrhEDO4ztYBE2CQC6BHGtZSYRAHNTW4oWmiEDNzMzMzC6EQAAAAAAAMIJAmpmZmZk3gEBmZmZmZmKAQJqZmZmZq4BAmpmZmZkNfUDNzMzMzCh4QPNZY6hvBVlAhuy1K4kHPkAGPOCNUabjv2ZmZmZmBlJAZmZmZmZGRkDNzMzMzAxOQJqZmZmZGVNAAAAAAABAW0AAAAAAAKBkQAAAAAAA4G5AmpmZmZnRc0AzMzMzM593QAAAAAAAKHhAzczMzMxoeECamZmZmeF4QAAAAAAAeHdAzczMzMxUekCamZmZmZV7QAAAAAAAiHpAMzMzMzPPeEAzMzMzM0N7QJqZmZmZsXlAAAAAAAB4ckDzeBcVZrFfQMLCap8v+FJAfsLQDQ3uSEBfJb+2SG5EQM2C745NJktAnS5E0dnSW0B9v0hcqdJrQNLX6M+wwHFAMuop3pd7dUADMPVkZrN4QE2PcRKvVnxAKbgCA0wagECnEpAQKt+BQBirfnjBx4FAlJd6JviNgEAzMzMzM/uCQODX9N6fZoJAdRiuAOgShkC1vL990m6GQG6d1rl8NIRAVxfokDXegUDiWz4GfNOAQNPmoCI4L3xA\",\"dtype\":\"float64\",\"shape\":[72]}},\"selected\":{\"id\":\"10821\",\"type\":\"Selection\"},\"selection_policy\":{\"id\":\"10820\",\"type\":\"UnionRenderers\"}},\"id\":\"10759\",\"type\":\"ColumnDataSource\"},{\"attributes\":{\"months\":[0,4,8]},\"id\":\"10697\",\"type\":\"MonthsTicker\"},{\"attributes\":{\"source\":{\"id\":\"10677\",\"type\":\"ColumnDataSource\"}},\"id\":\"10681\",\"type\":\"CDSView\"},{\"attributes\":{\"source\":{\"id\":\"10790\",\"type\":\"ColumnDataSource\"}},\"id\":\"10794\",\"type\":\"CDSView\"},{\"attributes\":{\"callback\":null},\"id\":\"10646\",\"type\":\"DataRange1d\"},{\"attributes\":{\"data_source\":{\"id\":\"10677\",\"type\":\"ColumnDataSource\"},\"glyph\":{\"id\":\"10678\",\"type\":\"Line\"},\"hover_glyph\":null,\"muted_glyph\":null,\"nonselection_glyph\":{\"id\":\"10679\",\"type\":\"Line\"},\"selection_glyph\":null,\"view\":{\"id\":\"10681\",\"type\":\"CDSView\"}},\"id\":\"10680\",\"type\":\"GlyphRenderer\"},{\"attributes\":{\"months\":[0,6]},\"id\":\"10698\",\"type\":\"MonthsTicker\"},{\"attributes\":{},\"id\":\"10821\",\"type\":\"Selection\"},{\"attributes\":{\"callback\":null,\"data\":{\"x\":{\"__ndarray__\":\"AADIlC8ydEIAALADMzJ0QgAAmHI2MnRCAACA4TkydEIAAGhQPTJ0QgAAUL9AMnRCAAA4LkQydEIAACCdRzJ0QgAACAxLMnRCAADwek4ydEIAANjpUTJ0QgAAwFhVMnRCAACox1gydEIAAJA2XDJ0QgAAeKVfMnRCAABgFGMydEIAAEiDZjJ0QgAAMPJpMnRCAAAYYW0ydEIAAADQcDJ0QgAA6D50MnRCAADQrXcydEIAALgcezJ0QgAAoIt+MnRCAACI+oEydEIAAHBphTJ0QgAAWNiIMnRCAABAR4wydEIAACi2jzJ0QgAAECWTMnRCAAD4k5YydEIAAOACmjJ0QgAAyHGdMnRCAACw4KAydEIAAJhPpDJ0QgAAgL6nMnRCAABoLasydEIAAFCcrjJ0QgAAOAuyMnRCAAAgerUydEIAAAjpuDJ0QgAA8Fe8MnRCAADYxr8ydEIAAMA1wzJ0QgAAqKTGMnRCAACQE8oydEIAAHiCzTJ0QgAAYPHQMnRCAABIYNQydEIAADDP1zJ0QgAAGD7bMnRCAAAArd4ydEIAAOgb4jJ0QgAA0IrlMnRCAAC4+egydEIAAKBo7DJ0QgAAiNfvMnRCAABwRvMydEIAAFi19jJ0QgAAQCT6MnRCAAAok/0ydEIAABACATN0QgAA+HAEM3RCAADg3wczdEIAAMhOCzN0QgAAsL0OM3RCAACYLBIzdEIAAICbFTN0QgAAaAoZM3RCAABQeRwzdEIAADjoHzN0QgAAIFcjM3RC\",\"dtype\":\"float64\",\"shape\":[72]},\"y\":{\"__ndarray__\":\"7z9JZYMHdEAiGbWNd/RnQC6MR4NTk15A7wd0zYGAVUCpuyHpXPlSQL64YFuFN1lAQkowzDGqbkDCsAPVC/R2QGXUrDAkrnlAG9vBBnlJfkA//IjI73CAQBdkXLwKqIFAG3iNGN5tg0A7ChkPW32EQODaU3YI94VAUl+QywrjhEDH9TbDc0GCQDRO/zSMk4RAYpIBs4JkiEDNzMzMzC6EQAAAAAAAMIJAmpmZmZk3gEBmZmZmZmKAQJqZmZmZq4BAmpmZmZkNfUAaVOT7dXNvQB3Yz+VNJmVAc+53TED6WkDQ7L2soHdTQCVrM4zWNFRAQzOxjuR3X0Db0bO5PHdgQJqZmZmZGVNAAAAAAABAW0AVaAmRPDJtQHPaceVWlnJAsmbg6nMtdkCUX9B+WrF4QPW0DCMKoHdAMqNj4+FQdkCamZmZmeF4QAAAAAAAeHdASDVxAJ6BfUCamZmZmZV7QAAAAAAAiHpAMzMzMzPPeEAzMzMzM0N7QFbPw5PSiHZAxtYRZhAnb0AyFerg01ZgQD7NFgK8NFVAY6OfaJhUS0BcJ+pz3lpIQPG0K2fPeFFALv3dCBNFXkDV+0MnKb9pQL9fmWuzDnFAXbiOAfrbdUABg3+EutB4QK2FQ7yATX1Awdav/aRPgECe45xNrIeBQACh7Vn7l4FAAKtGisddgEAzMzMzM/uCQMI60er1BINAZpJlD0iahkAyzaEwZRqHQCH8uTFnooRAtfOqswz/gUD42H1bxCqBQIgZnZcV/H1A\",\"dtype\":\"float64\",\"shape\":[72]}},\"selected\":{\"id\":\"10788\",\"type\":\"Selection\"},\"selection_policy\":{\"id\":\"10787\",\"type\":\"UnionRenderers\"}},\"id\":\"10730\",\"type\":\"ColumnDataSource\"},{\"attributes\":{},\"id\":\"10820\",\"type\":\"UnionRenderers\"},{\"attributes\":{},\"id\":\"10650\",\"type\":\"LinearScale\"},{\"attributes\":{\"text\":\"Christmas Day\"},\"id\":\"10682\",\"type\":\"Title\"},{\"attributes\":{},\"id\":\"10699\",\"type\":\"YearsTicker\"},{\"attributes\":{\"click_policy\":\"hide\",\"items\":[{\"id\":\"10702\",\"type\":\"LegendItem\"},{\"id\":\"10729\",\"type\":\"LegendItem\"},{\"id\":\"10758\",\"type\":\"LegendItem\"},{\"id\":\"10789\",\"type\":\"LegendItem\"},{\"id\":\"10822\",\"type\":\"LegendItem\"}],\"location\":\"bottom_left\"},\"id\":\"10701\",\"type\":\"Legend\"},{\"attributes\":{\"callback\":null},\"id\":\"10648\",\"type\":\"DataRange1d\"},{\"attributes\":{},\"id\":\"10787\",\"type\":\"UnionRenderers\"},{\"attributes\":{},\"id\":\"11317\",\"type\":\"UnionRenderers\"},{\"attributes\":{},\"id\":\"10684\",\"type\":\"DatetimeTickFormatter\"},{\"attributes\":{\"line_alpha\":0.1,\"line_color\":\"#1f77b4\",\"line_width\":2,\"x\":{\"field\":\"x\"},\"y\":{\"field\":\"y\"}},\"id\":\"10761\",\"type\":\"Line\"},{\"attributes\":{\"bottom_units\":\"screen\",\"fill_alpha\":{\"value\":0.5},\"fill_color\":{\"value\":\"lightgrey\"},\"left_units\":\"screen\",\"level\":\"overlay\",\"line_alpha\":{\"value\":1.0},\"line_color\":{\"value\":\"black\"},\"line_dash\":[4,4],\"line_width\":{\"value\":2},\"render_mode\":\"css\",\"right_units\":\"screen\",\"top_units\":\"screen\"},\"id\":\"10700\",\"type\":\"BoxAnnotation\"},{\"attributes\":{\"label\":{\"value\":\"EIA weather and holidays\"},\"renderers\":[{\"id\":\"10762\",\"type\":\"GlyphRenderer\"}]},\"id\":\"10789\",\"type\":\"LegendItem\"},{\"attributes\":{\"mantissas\":[1,2,5],\"max_interval\":500.0,\"num_minor_ticks\":0},\"id\":\"10688\",\"type\":\"AdaptiveTicker\"},{\"attributes\":{\"data_source\":{\"id\":\"10790\",\"type\":\"ColumnDataSource\"},\"glyph\":{\"id\":\"10791\",\"type\":\"Line\"},\"hover_glyph\":null,\"muted_glyph\":null,\"nonselection_glyph\":{\"id\":\"10792\",\"type\":\"Line\"},\"selection_glyph\":null,\"view\":{\"id\":\"10794\",\"type\":\"CDSView\"}},\"id\":\"10793\",\"type\":\"GlyphRenderer\"},{\"attributes\":{},\"id\":\"10669\",\"type\":\"HelpTool\"},{\"attributes\":{\"line_color\":\"#fdae61\",\"line_width\":2,\"x\":{\"field\":\"x\"},\"y\":{\"field\":\"y\"}},\"id\":\"10760\",\"type\":\"Line\"},{\"attributes\":{\"line_color\":\"#3288bd\",\"line_width\":2,\"x\":{\"field\":\"x\"},\"y\":{\"field\":\"y\"}},\"id\":\"10678\",\"type\":\"Line\"},{\"attributes\":{\"callback\":null,\"data\":{\"x\":{\"__ndarray__\":\"AADIlC8ydEIAALADMzJ0QgAAmHI2MnRCAACA4TkydEIAAGhQPTJ0QgAAUL9AMnRCAAA4LkQydEIAACCdRzJ0QgAACAxLMnRCAADwek4ydEIAANjpUTJ0QgAAwFhVMnRCAACox1gydEIAAJA2XDJ0QgAAeKVfMnRCAABgFGMydEIAAEiDZjJ0QgAAMPJpMnRCAAAYYW0ydEIAAADQcDJ0QgAA6D50MnRCAADQrXcydEIAALgcezJ0QgAAoIt+MnRCAACI+oEydEIAAHBphTJ0QgAAWNiIMnRCAABAR4wydEIAACi2jzJ0QgAAECWTMnRCAAD4k5YydEIAAOACmjJ0QgAAyHGdMnRCAACw4KAydEIAAJhPpDJ0QgAAgL6nMnRCAABoLasydEIAAFCcrjJ0QgAAOAuyMnRCAAAgerUydEIAAAjpuDJ0QgAA8Fe8MnRCAADYxr8ydEIAAMA1wzJ0QgAAqKTGMnRCAACQE8oydEIAAHiCzTJ0QgAAYPHQMnRCAABIYNQydEIAADDP1zJ0QgAAGD7bMnRCAAAArd4ydEIAAOgb4jJ0QgAA0IrlMnRCAAC4+egydEIAAKBo7DJ0QgAAiNfvMnRCAABwRvMydEIAAFi19jJ0QgAAQCT6MnRCAAAok/0ydEIAABACATN0QgAA+HAEM3RCAADg3wczdEIAAMhOCzN0QgAAsL0OM3RCAACYLBIzdEIAAICbFTN0QgAAaAoZM3RCAABQeRwzdEIAADjoHzN0QgAAIFcjM3RC\",\"dtype\":\"float64\",\"shape\":[72]},\"y\":{\"__ndarray__\":\"gQ8RQs6bc0CmTNW02txmQGg0ENGkGFxA/xKSGAPFU0Dme5OPRapRQPCH4TxaS1hAdfCqWmWhcECIBl1s+U97QEoKnq3uh35A1ukUASiwgEAR/k1uD6WAQFWaBbRKjoFALMkgp09Eg0D6F4szWAOEQPZoA7GPrYVAE04dA0qrhEDO4ztYBE2CQC6BHGtZSYRAHNTW4oWmiECIe6sjYuaGQAZ84g9fDoNAq88UvM1CgUA2IrJox4N/QG3wyA6RsXtA8qxO1ervckByo42EgYJoQPNZY6hvBVlAhuy1K4kHPkAGPOCNUabjvwZmMcfnhiLA9tcvjYvIEMB4+6xC708jQDsuxfZYBUpAvdaEXsRcXEDoe9KlmgtmQIKu2LgdQG5Asg3rW5lcckD4zufd7b10QBh3oZNa7nVAJq4mb4e5dUCSEXp82Vh1QPoeGOY4OXVAPAzaMcjjdUDHQBMl7OJ1QEyhG0KiwHRAPkil8nA8dEDImIQTz1t0QB6fIYEOGnJAOriU0Axna0DzeBcVZrFfQMLCap8v+FJAfsLQDQ3uSEBfJb+2SG5EQM2C745NJktAnS5E0dnSW0B9v0hcqdJrQNLX6M+wwHFAMuop3pd7dUADMPVkZrN4QE2PcRKvVnxAKbgCA0wagECnEpAQKt+BQBirfnjBx4FAlJd6JviNgEDj6TJLLqeAQODX9N6fZoJAdRiuAOgShkC1vL990m6GQG6d1rl8NIRAVxfokDXegUDiWz4GfNOAQNPmoCI4L3xA\",\"dtype\":\"float64\",\"shape\":[72]}},\"selected\":{\"id\":\"10757\",\"type\":\"Selection\"},\"selection_policy\":{\"id\":\"10756\",\"type\":\"UnionRenderers\"}},\"id\":\"10703\",\"type\":\"ColumnDataSource\"},{\"attributes\":{\"source\":{\"id\":\"10759\",\"type\":\"ColumnDataSource\"}},\"id\":\"10763\",\"type\":\"CDSView\"},{\"attributes\":{},\"id\":\"10652\",\"type\":\"LinearScale\"},{\"attributes\":{},\"id\":\"11318\",\"type\":\"Selection\"}],\"root_ids\":[\"10645\"]},\"title\":\"Bokeh Application\",\"version\":\"1.4.0\"}};\n",
       "  var render_items = [{\"docid\":\"39bbbaf0-a028-4969-a693-f61cbe3e424d\",\"roots\":{\"10645\":\"cb68fba6-addb-4a99-a12c-b935a2137df4\"}}];\n",
       "  root.Bokeh.embed.embed_items_notebook(docs_json, render_items);\n",
       "\n",
       "  }\n",
       "  if (root.Bokeh !== undefined) {\n",
       "    embed_document(root);\n",
       "  } else {\n",
       "    var attempts = 0;\n",
       "    var timer = setInterval(function(root) {\n",
       "      if (root.Bokeh !== undefined) {\n",
       "        clearInterval(timer);\n",
       "        embed_document(root);\n",
       "      } else {\n",
       "        attempts++;\n",
       "        if (attempts > 100) {\n",
       "          clearInterval(timer);\n",
       "          console.log(\"Bokeh: ERROR: Unable to run BokehJS code because BokehJS library is missing\");\n",
       "        }\n",
       "      }\n",
       "    }, 10, root)\n",
       "  }\n",
       "})(window);"
      ],
      "application/vnd.bokehjs_exec.v0+json": ""
     },
     "metadata": {
      "application/vnd.bokehjs_exec.v0+json": {
       "id": "10645"
      }
     },
     "output_type": "display_data"
    }
   ],
   "source": [
    "s = slice('2013-12-24', '2013-12-26')\n",
    "\n",
    "p = figure(plot_width=800, plot_height=400, x_axis_type='datetime')\n",
    "p.line(x = pred_ne[s].index, y=pred_ne[s], line_width=2, legend_label='No external variables', color = Spectral8[0])\n",
    "p.line(x = pred_w_h[s].index, y=pred_w_h[s], line_width=2, legend_label='Weather and holidays', color = Spectral8[1])\n",
    "p.line(x = eia_ne[s].index, y=eia_ne[s], line_width=2, legend_label='EIA no external variables', color = Spectral8[3])\n",
    "p.line(x = eia_w_h[s].index, y=eia_w_h[s], line_width=2, legend_label='EIA weather and holidays', color = Spectral8[5])\n",
    "p.line(x = real[s].index, y=real[s], line_width=2, legend_label='Real demand', color = Spectral8[7])\n",
    "\n",
    "p.yaxis.axis_label = 'Predictions'\n",
    "p.title.text = 'Christmas Day'\n",
    "p.legend.location = 'bottom_left'\n",
    "p.legend.click_policy=\"hide\"\n",
    "\n",
    "show(p)"
   ]
  },
  {
   "cell_type": "code",
   "execution_count": 38,
   "metadata": {
    "ExecuteTime": {
     "end_time": "2020-02-21T12:58:36.183351Z",
     "start_time": "2020-02-21T12:58:35.918796Z"
    }
   },
   "outputs": [
    {
     "data": {
      "text/html": [
       "\n",
       "\n",
       "\n",
       "\n",
       "\n",
       "\n",
       "  <div class=\"bk-root\" id=\"24b50e6a-99d0-4b86-8158-a6a2fc7521ef\" data-root-id=\"11493\"></div>\n"
      ]
     },
     "metadata": {},
     "output_type": "display_data"
    },
    {
     "data": {
      "application/javascript": [
       "(function(root) {\n",
       "  function embed_document(root) {\n",
       "    \n",
       "  var docs_json = {\"1296eea6-c923-419e-bca7-ef96eec6d637\":{\"roots\":{\"references\":[{\"attributes\":{\"below\":[{\"id\":\"11502\",\"type\":\"DatetimeAxis\"}],\"center\":[{\"id\":\"11506\",\"type\":\"Grid\"},{\"id\":\"11511\",\"type\":\"Grid\"},{\"id\":\"11549\",\"type\":\"Legend\"}],\"left\":[{\"id\":\"11507\",\"type\":\"LinearAxis\"}],\"plot_height\":400,\"plot_width\":800,\"renderers\":[{\"id\":\"11528\",\"type\":\"GlyphRenderer\"},{\"id\":\"11554\",\"type\":\"GlyphRenderer\"},{\"id\":\"11581\",\"type\":\"GlyphRenderer\"},{\"id\":\"11610\",\"type\":\"GlyphRenderer\"},{\"id\":\"11641\",\"type\":\"GlyphRenderer\"}],\"title\":{\"id\":\"11530\",\"type\":\"Title\"},\"toolbar\":{\"id\":\"11518\",\"type\":\"Toolbar\"},\"x_range\":{\"id\":\"11494\",\"type\":\"DataRange1d\"},\"x_scale\":{\"id\":\"11498\",\"type\":\"LinearScale\"},\"y_range\":{\"id\":\"11496\",\"type\":\"DataRange1d\"},\"y_scale\":{\"id\":\"11500\",\"type\":\"LinearScale\"}},\"id\":\"11493\",\"subtype\":\"Figure\",\"type\":\"Plot\"},{\"attributes\":{\"line_alpha\":0.1,\"line_color\":\"#1f77b4\",\"line_width\":2,\"x\":{\"field\":\"x\"},\"y\":{\"field\":\"y\"}},\"id\":\"11640\",\"type\":\"Line\"},{\"attributes\":{\"data_source\":{\"id\":\"11607\",\"type\":\"ColumnDataSource\"},\"glyph\":{\"id\":\"11608\",\"type\":\"Line\"},\"hover_glyph\":null,\"muted_glyph\":null,\"nonselection_glyph\":{\"id\":\"11609\",\"type\":\"Line\"},\"selection_glyph\":null,\"view\":{\"id\":\"11611\",\"type\":\"CDSView\"}},\"id\":\"11610\",\"type\":\"GlyphRenderer\"},{\"attributes\":{\"label\":{\"value\":\"Real demand\"},\"renderers\":[{\"id\":\"11641\",\"type\":\"GlyphRenderer\"}]},\"id\":\"11670\",\"type\":\"LegendItem\"},{\"attributes\":{\"base\":24,\"mantissas\":[1,2,4,6,8,12],\"max_interval\":43200000.0,\"min_interval\":3600000.0,\"num_minor_ticks\":0},\"id\":\"11538\",\"type\":\"AdaptiveTicker\"},{\"attributes\":{\"overlay\":{\"id\":\"11548\",\"type\":\"BoxAnnotation\"}},\"id\":\"11514\",\"type\":\"BoxZoomTool\"},{\"attributes\":{\"source\":{\"id\":\"11638\",\"type\":\"ColumnDataSource\"}},\"id\":\"11642\",\"type\":\"CDSView\"},{\"attributes\":{\"mantissas\":[1,2,5],\"max_interval\":500.0,\"num_minor_ticks\":0},\"id\":\"11536\",\"type\":\"AdaptiveTicker\"},{\"attributes\":{\"text\":\"Christmas Day\"},\"id\":\"11530\",\"type\":\"Title\"},{\"attributes\":{\"source\":{\"id\":\"11578\",\"type\":\"ColumnDataSource\"}},\"id\":\"11582\",\"type\":\"CDSView\"},{\"attributes\":{\"callback\":null},\"id\":\"11496\",\"type\":\"DataRange1d\"},{\"attributes\":{},\"id\":\"11498\",\"type\":\"LinearScale\"},{\"attributes\":{\"data_source\":{\"id\":\"11638\",\"type\":\"ColumnDataSource\"},\"glyph\":{\"id\":\"11639\",\"type\":\"Line\"},\"hover_glyph\":null,\"muted_glyph\":null,\"nonselection_glyph\":{\"id\":\"11640\",\"type\":\"Line\"},\"selection_glyph\":null,\"view\":{\"id\":\"11642\",\"type\":\"CDSView\"}},\"id\":\"11641\",\"type\":\"GlyphRenderer\"},{\"attributes\":{\"source\":{\"id\":\"11551\",\"type\":\"ColumnDataSource\"}},\"id\":\"11555\",\"type\":\"CDSView\"},{\"attributes\":{\"line_alpha\":0.1,\"line_color\":\"#1f77b4\",\"line_width\":2,\"x\":{\"field\":\"x\"},\"y\":{\"field\":\"y\"}},\"id\":\"11553\",\"type\":\"Line\"},{\"attributes\":{\"days\":[1,8,15,22]},\"id\":\"11541\",\"type\":\"DaysTicker\"},{\"attributes\":{},\"id\":\"11575\",\"type\":\"UnionRenderers\"},{\"attributes\":{},\"id\":\"11668\",\"type\":\"UnionRenderers\"},{\"attributes\":{},\"id\":\"11669\",\"type\":\"Selection\"},{\"attributes\":{\"label\":{\"value\":\"Weather and holidays\"},\"renderers\":[{\"id\":\"11554\",\"type\":\"GlyphRenderer\"}]},\"id\":\"11577\",\"type\":\"LegendItem\"},{\"attributes\":{\"source\":{\"id\":\"11607\",\"type\":\"ColumnDataSource\"}},\"id\":\"11611\",\"type\":\"CDSView\"},{\"attributes\":{\"days\":[1,15]},\"id\":\"11542\",\"type\":\"DaysTicker\"},{\"attributes\":{},\"id\":\"11604\",\"type\":\"UnionRenderers\"},{\"attributes\":{},\"id\":\"11500\",\"type\":\"LinearScale\"},{\"attributes\":{},\"id\":\"11517\",\"type\":\"HelpTool\"},{\"attributes\":{\"line_alpha\":0.1,\"line_color\":\"#1f77b4\",\"line_width\":2,\"x\":{\"field\":\"x\"},\"y\":{\"field\":\"y\"}},\"id\":\"11580\",\"type\":\"Line\"},{\"attributes\":{\"days\":[1,4,7,10,13,16,19,22,25,28]},\"id\":\"11540\",\"type\":\"DaysTicker\"},{\"attributes\":{\"click_policy\":\"hide\",\"items\":[{\"id\":\"11550\",\"type\":\"LegendItem\"},{\"id\":\"11577\",\"type\":\"LegendItem\"},{\"id\":\"11606\",\"type\":\"LegendItem\"},{\"id\":\"11637\",\"type\":\"LegendItem\"},{\"id\":\"11670\",\"type\":\"LegendItem\"}],\"location\":\"bottom_left\"},\"id\":\"11549\",\"type\":\"Legend\"},{\"attributes\":{\"data_source\":{\"id\":\"11578\",\"type\":\"ColumnDataSource\"},\"glyph\":{\"id\":\"11579\",\"type\":\"Line\"},\"hover_glyph\":null,\"muted_glyph\":null,\"nonselection_glyph\":{\"id\":\"11580\",\"type\":\"Line\"},\"selection_glyph\":null,\"view\":{\"id\":\"11582\",\"type\":\"CDSView\"}},\"id\":\"11581\",\"type\":\"GlyphRenderer\"},{\"attributes\":{\"label\":{\"value\":\"EIA weather and holidays\"},\"renderers\":[{\"id\":\"11610\",\"type\":\"GlyphRenderer\"}]},\"id\":\"11637\",\"type\":\"LegendItem\"},{\"attributes\":{\"months\":[0,1,2,3,4,5,6,7,8,9,10,11]},\"id\":\"11543\",\"type\":\"MonthsTicker\"},{\"attributes\":{\"formatter\":{\"id\":\"11532\",\"type\":\"DatetimeTickFormatter\"},\"ticker\":{\"id\":\"11503\",\"type\":\"DatetimeTicker\"}},\"id\":\"11502\",\"type\":\"DatetimeAxis\"},{\"attributes\":{\"days\":[1,2,3,4,5,6,7,8,9,10,11,12,13,14,15,16,17,18,19,20,21,22,23,24,25,26,27,28,29,30,31]},\"id\":\"11539\",\"type\":\"DaysTicker\"},{\"attributes\":{},\"id\":\"11576\",\"type\":\"Selection\"},{\"attributes\":{},\"id\":\"11635\",\"type\":\"UnionRenderers\"},{\"attributes\":{\"dimension\":1,\"ticker\":{\"id\":\"11508\",\"type\":\"BasicTicker\"}},\"id\":\"11511\",\"type\":\"Grid\"},{\"attributes\":{\"months\":[0,2,4,6,8,10]},\"id\":\"11544\",\"type\":\"MonthsTicker\"},{\"attributes\":{},\"id\":\"11605\",\"type\":\"Selection\"},{\"attributes\":{},\"id\":\"12194\",\"type\":\"UnionRenderers\"},{\"attributes\":{\"callback\":null},\"id\":\"11494\",\"type\":\"DataRange1d\"},{\"attributes\":{\"num_minor_ticks\":5,\"tickers\":[{\"id\":\"11536\",\"type\":\"AdaptiveTicker\"},{\"id\":\"11537\",\"type\":\"AdaptiveTicker\"},{\"id\":\"11538\",\"type\":\"AdaptiveTicker\"},{\"id\":\"11539\",\"type\":\"DaysTicker\"},{\"id\":\"11540\",\"type\":\"DaysTicker\"},{\"id\":\"11541\",\"type\":\"DaysTicker\"},{\"id\":\"11542\",\"type\":\"DaysTicker\"},{\"id\":\"11543\",\"type\":\"MonthsTicker\"},{\"id\":\"11544\",\"type\":\"MonthsTicker\"},{\"id\":\"11545\",\"type\":\"MonthsTicker\"},{\"id\":\"11546\",\"type\":\"MonthsTicker\"},{\"id\":\"11547\",\"type\":\"YearsTicker\"}]},\"id\":\"11503\",\"type\":\"DatetimeTicker\"},{\"attributes\":{},\"id\":\"11636\",\"type\":\"Selection\"},{\"attributes\":{\"active_drag\":\"auto\",\"active_inspect\":\"auto\",\"active_multi\":null,\"active_scroll\":\"auto\",\"active_tap\":\"auto\",\"tools\":[{\"id\":\"11512\",\"type\":\"PanTool\"},{\"id\":\"11513\",\"type\":\"WheelZoomTool\"},{\"id\":\"11514\",\"type\":\"BoxZoomTool\"},{\"id\":\"11515\",\"type\":\"SaveTool\"},{\"id\":\"11516\",\"type\":\"ResetTool\"},{\"id\":\"11517\",\"type\":\"HelpTool\"}]},\"id\":\"11518\",\"type\":\"Toolbar\"},{\"attributes\":{\"callback\":null,\"data\":{\"x\":{\"__ndarray__\":\"AACIp6qndEIAAHAWrqd0QgAAWIWxp3RCAABA9LSndEIAAChjuKd0QgAAENK7p3RCAAD4QL+ndEIAAOCvwqd0QgAAyB7Gp3RCAACwjcmndEIAAJj8zKd0QgAAgGvQp3RCAABo2tOndEIAAFBJ16d0QgAAOLjap3RCAAAgJ96ndEIAAAiW4ad0QgAA8ATlp3RCAADYc+indEIAAMDi66d0QgAAqFHvp3RCAACQwPKndEIAAHgv9qd0QgAAYJ75p3RCAABIDf2ndEIAADB8AKh0QgAAGOsDqHRCAAAAWgeodEIAAOjICqh0QgAA0DcOqHRCAAC4phGodEIAAKAVFah0QgAAiIQYqHRCAABw8xuodEIAAFhiH6h0QgAAQNEiqHRCAAAoQCaodEIAABCvKah0QgAA+B0tqHRCAADgjDCodEIAAMj7M6h0QgAAsGo3qHRCAACY2TqodEIAAIBIPqh0QgAAaLdBqHRCAABQJkWodEIAADiVSKh0QgAAIARMqHRCAAAIc0+odEIAAPDhUqh0QgAA2FBWqHRCAADAv1modEIAAKguXah0QgAAkJ1gqHRCAAB4DGSodEIAAGB7Z6h0QgAASOpqqHRCAAAwWW6odEIAABjIcah0QgAAADd1qHRCAADopXiodEIAANAUfKh0QgAAuIN/qHRCAACg8oKodEIAAIhhhqh0QgAAcNCJqHRCAABYP42odEIAAECukKh0QgAAKB2UqHRCAAAQjJeodEIAAPj6mqh0QgAA4GmeqHRC\",\"dtype\":\"float64\",\"shape\":[72]},\"y\":{\"__ndarray__\":\"BIprirBbdEAWjvSMJxdrQDOjNjO6rWBAkimCf10qVkBbLAL1FlNTQNHAhgjXZFlAS0kRuqFebUA56zZl+O12QGKJlvtxFHlAqGR0dQYXfEBh01bnuBeBQHUS/kPt2YJA0LHEJTTMhEAje2EsC4KFQC2CvNp2loZAbnGtn6oohED9ixT9vo+AQFyAUMCFPYNAJjQUDLFhhUAHJrEvyleDQHDSNmVm439AoKIGfQwAekDJLvTquQt3QLpEfDqbpHRAPjgcssvpcEAi7+89yHRqQFZ4iAB6mmNAypI3EJfBW0Cep2C+UNJVQFLT/9GomFVAy3OkW27OW0DemlncbtpcQDIi0e/jmVxAxQfunT7NYEDYmMUJSadrQCVXg1dYf3FA854sPEHLc0CqsVvOAxd1QNpWtFhrOXRAA8Y7V0CydEBxJuIVp7B0QJbBJH1djnRA7jN07OwRdUBk2PT0Qud1QNYZt+6i+nRANvGVZT6qckD8TMjq/epzQGcUBTGvV3JAPr7I7GSBZUC2t1RD3M5aQPV7NCTXzVBAOxj9iIUiR0CzoExNEh5GQDri/NCScFBA2MTbeqKZXEAy0U1QK8RlQCbyx1uAwWtAV+nlkPNCckBJMTna6dJ2QH76kYHa13lAQmTTCSrtfEA48gU58JB/QMbcN1CBTX9AOH0ZLwv4fkAqRcFJ9Yx/QKl+o/ik84BA3DD8oxFvgkAKW9v7X1+CQPSwlxUXVoFAoF5TCN9TfUC73j08kHZ8QCZbSu+tCH1A\",\"dtype\":\"float64\",\"shape\":[72]}},\"selected\":{\"id\":\"11576\",\"type\":\"Selection\"},\"selection_policy\":{\"id\":\"11575\",\"type\":\"UnionRenderers\"}},\"id\":\"11525\",\"type\":\"ColumnDataSource\"},{\"attributes\":{\"callback\":null,\"data\":{\"x\":{\"__ndarray__\":\"AACIp6qndEIAAHAWrqd0QgAAWIWxp3RCAABA9LSndEIAAChjuKd0QgAAENK7p3RCAAD4QL+ndEIAAOCvwqd0QgAAyB7Gp3RCAACwjcmndEIAAJj8zKd0QgAAgGvQp3RCAABo2tOndEIAAFBJ16d0QgAAOLjap3RCAAAgJ96ndEIAAAiW4ad0QgAA8ATlp3RCAADYc+indEIAAMDi66d0QgAAqFHvp3RCAACQwPKndEIAAHgv9qd0QgAAYJ75p3RCAABIDf2ndEIAADB8AKh0QgAAGOsDqHRCAAAAWgeodEIAAOjICqh0QgAA0DcOqHRCAAC4phGodEIAAKAVFah0QgAAiIQYqHRCAABw8xuodEIAAFhiH6h0QgAAQNEiqHRCAAAoQCaodEIAABCvKah0QgAA+B0tqHRCAADgjDCodEIAAMj7M6h0QgAAsGo3qHRCAACY2TqodEIAAIBIPqh0QgAAaLdBqHRCAABQJkWodEIAADiVSKh0QgAAIARMqHRCAAAIc0+odEIAAPDhUqh0QgAA2FBWqHRCAADAv1modEIAAKguXah0QgAAkJ1gqHRCAAB4DGSodEIAAGB7Z6h0QgAASOpqqHRCAAAwWW6odEIAABjIcah0QgAAADd1qHRCAADopXiodEIAANAUfKh0QgAAuIN/qHRCAACg8oKodEIAAIhhhqh0QgAAcNCJqHRCAABYP42odEIAAECukKh0QgAAKB2UqHRCAAAQjJeodEIAAPj6mqh0QgAA4GmeqHRC\",\"dtype\":\"float64\",\"shape\":[72]},\"y\":{\"__ndarray__\":\"vYOS/PYydEB06Zly32FpQLzq3vY1RGBAAJLzQq8nV0AHJHVPOmxUQIMB+LV9SVxAwxHgzLFmcEA1B0PXFDJ5QDUxCaQ20XtAmpmZmZlxdUBeIKlkw5WBQA5vigudr4NAhkEE+FkthUByneiQo4SFQDnILo/LcIZAs1GZtuzwg0BGFaVBRoWAQGgLmM99a4JAZY04ZgqfhUAzMzMzMy+BQM3MzMzMOH1AAAAAAACEeEAAAAAAADx4QJqZmZmZUXhAmpmZmZkRdkCamZmZmdFyQCBzSw/Fx19AGVuih8mHU0AeE3nt1cZKQMoH0rPAv0hAqodCLL7EREBu5Bmo1F9IQIaUxTbwzlNAMzMzMzOTV0A1HIo/UQZrQBPPw3tokHFA6sYRzx5gdEAFvIs0bW91QM69J3K/7nRAbr68VC8zdUDKTvDgHbt0QBphw2ouSXRAjLUhEyD8c0BCCHJt9dlzQLQTQ05BknNAWhlKKjpsckB2tX+d1GNyQM3MzMzMyHVAcHChQRQ+Z0DyGk7no6ZbQAyf+jdmx1BAU+KH4Y/5RkBPtM06cq1DQCKH7l9G0ExAw/Jt4ZOPW0BGzXaRipVnQBV8WPDJDWxAulv7/uE9ckCh+1wRTUR2QJ43hLrMKnpA7ux3PWe4fkCb7HaJa1mAQBbRSzX/8H9ArdfUJqhDf0BeVUPWK7t/QIM979WWxoBAZgKgRcy2gkAC++RUz2WCQC3UfT08SoFAoCAOvIFtfkCiSWS1DC1+QI2yEGLGM31A\",\"dtype\":\"float64\",\"shape\":[72]}},\"selected\":{\"id\":\"11669\",\"type\":\"Selection\"},\"selection_policy\":{\"id\":\"11668\",\"type\":\"UnionRenderers\"}},\"id\":\"11607\",\"type\":\"ColumnDataSource\"},{\"attributes\":{\"months\":[0,4,8]},\"id\":\"11545\",\"type\":\"MonthsTicker\"},{\"attributes\":{\"ticker\":{\"id\":\"11503\",\"type\":\"DatetimeTicker\"}},\"id\":\"11506\",\"type\":\"Grid\"},{\"attributes\":{\"label\":{\"value\":\"No external variables\"},\"renderers\":[{\"id\":\"11528\",\"type\":\"GlyphRenderer\"}]},\"id\":\"11550\",\"type\":\"LegendItem\"},{\"attributes\":{},\"id\":\"11515\",\"type\":\"SaveTool\"},{\"attributes\":{\"months\":[0,6]},\"id\":\"11546\",\"type\":\"MonthsTicker\"},{\"attributes\":{},\"id\":\"11508\",\"type\":\"BasicTicker\"},{\"attributes\":{\"line_color\":\"#3288bd\",\"line_width\":2,\"x\":{\"field\":\"x\"},\"y\":{\"field\":\"y\"}},\"id\":\"11526\",\"type\":\"Line\"},{\"attributes\":{\"callback\":null,\"data\":{\"x\":{\"__ndarray__\":\"AACIp6qndEIAAHAWrqd0QgAAWIWxp3RCAABA9LSndEIAAChjuKd0QgAAENK7p3RCAAD4QL+ndEIAAOCvwqd0QgAAyB7Gp3RCAACwjcmndEIAAJj8zKd0QgAAgGvQp3RCAABo2tOndEIAAFBJ16d0QgAAOLjap3RCAAAgJ96ndEIAAAiW4ad0QgAA8ATlp3RCAADYc+indEIAAMDi66d0QgAAqFHvp3RCAACQwPKndEIAAHgv9qd0QgAAYJ75p3RCAABIDf2ndEIAADB8AKh0QgAAGOsDqHRCAAAAWgeodEIAAOjICqh0QgAA0DcOqHRCAAC4phGodEIAAKAVFah0QgAAiIQYqHRCAABw8xuodEIAAFhiH6h0QgAAQNEiqHRCAAAoQCaodEIAABCvKah0QgAA+B0tqHRCAADgjDCodEIAAMj7M6h0QgAAsGo3qHRCAACY2TqodEIAAIBIPqh0QgAAaLdBqHRCAABQJkWodEIAADiVSKh0QgAAIARMqHRCAAAIc0+odEIAAPDhUqh0QgAA2FBWqHRCAADAv1modEIAAKguXah0QgAAkJ1gqHRCAAB4DGSodEIAAGB7Z6h0QgAASOpqqHRCAAAwWW6odEIAABjIcah0QgAAADd1qHRCAADopXiodEIAANAUfKh0QgAAuIN/qHRCAACg8oKodEIAAIhhhqh0QgAAcNCJqHRCAABYP42odEIAAECukKh0QgAAKB2UqHRCAAAQjJeodEIAAPj6mqh0QgAA4GmeqHRC\",\"dtype\":\"float64\",\"shape\":[72]},\"y\":{\"__ndarray__\":\"BIprirBbdEAWjvSMJxdrQDOjNjO6rWBAkimCf10qVkBbLAL1FlNTQNHAhgjXZFlAS0kRuqFebUA56zZl+O12QGKJlvtxFHlAqGR0dQYXfEBh01bnuBeBQHUS/kPt2YJA0LHEJTTMhEAje2EsC4KFQC2CvNp2loZAbnGtn6oohED9ixT9vo+AQFyAUMCFPYNAJjQUDLFhhUAzMzMzMy+BQM3MzMzMOH1AAAAAAACEeEAAAAAAADx4QJqZmZmZUXhAmpmZmZkRdkCamZmZmdFyQFZ4iAB6mmNAypI3EJfBW0Cep2C+UNJVQFLT/9GomFVAy3OkW27OW0CamZmZmblPQGZmZmZmdlNAMzMzMzOTV0DNzMzMzLRiQCVXg1dYf3FA854sPEHLc0CqsVvOAxd1QNpWtFhrOXRAA8Y7V0CydECamZmZmRl2QGZmZmZmAnRAmpmZmZm1c0AzMzMzM491QM3MzMzMxHVANvGVZT6qckAAAAAAALR1QM3MzMzMyHVAPr7I7GSBZUC2t1RD3M5aQPV7NCTXzVBAOxj9iIUiR0CzoExNEh5GQDri/NCScFBA2MTbeqKZXEAy0U1QK8RlQCbyx1uAwWtAV+nlkPNCckBJMTna6dJ2QH76kYHa13lAQmTTCSrtfEA48gU58JB/QMbcN1CBTX9AOH0ZLwv4fkAqRcFJ9Yx/QKl+o/ik84BA3DD8oxFvgkAKW9v7X1+CQPSwlxUXVoFAoF5TCN9TfUC73j08kHZ8QCZbSu+tCH1A\",\"dtype\":\"float64\",\"shape\":[72]}},\"selected\":{\"id\":\"11636\",\"type\":\"Selection\"},\"selection_policy\":{\"id\":\"11635\",\"type\":\"UnionRenderers\"}},\"id\":\"11578\",\"type\":\"ColumnDataSource\"},{\"attributes\":{\"axis_label\":\"Predictions\",\"formatter\":{\"id\":\"11534\",\"type\":\"BasicTickFormatter\"},\"ticker\":{\"id\":\"11508\",\"type\":\"BasicTicker\"}},\"id\":\"11507\",\"type\":\"LinearAxis\"},{\"attributes\":{\"label\":{\"value\":\"EIA no external variables\"},\"renderers\":[{\"id\":\"11581\",\"type\":\"GlyphRenderer\"}]},\"id\":\"11606\",\"type\":\"LegendItem\"},{\"attributes\":{},\"id\":\"11547\",\"type\":\"YearsTicker\"},{\"attributes\":{},\"id\":\"12195\",\"type\":\"Selection\"},{\"attributes\":{\"bottom_units\":\"screen\",\"fill_alpha\":{\"value\":0.5},\"fill_color\":{\"value\":\"lightgrey\"},\"left_units\":\"screen\",\"level\":\"overlay\",\"line_alpha\":{\"value\":1.0},\"line_color\":{\"value\":\"black\"},\"line_dash\":[4,4],\"line_width\":{\"value\":2},\"render_mode\":\"css\",\"right_units\":\"screen\",\"top_units\":\"screen\"},\"id\":\"11548\",\"type\":\"BoxAnnotation\"},{\"attributes\":{\"line_alpha\":0.1,\"line_color\":\"#1f77b4\",\"line_width\":2,\"x\":{\"field\":\"x\"},\"y\":{\"field\":\"y\"}},\"id\":\"11609\",\"type\":\"Line\"},{\"attributes\":{\"data_source\":{\"id\":\"11551\",\"type\":\"ColumnDataSource\"},\"glyph\":{\"id\":\"11552\",\"type\":\"Line\"},\"hover_glyph\":null,\"muted_glyph\":null,\"nonselection_glyph\":{\"id\":\"11553\",\"type\":\"Line\"},\"selection_glyph\":null,\"view\":{\"id\":\"11555\",\"type\":\"CDSView\"}},\"id\":\"11554\",\"type\":\"GlyphRenderer\"},{\"attributes\":{\"line_alpha\":0.1,\"line_color\":\"#1f77b4\",\"line_width\":2,\"x\":{\"field\":\"x\"},\"y\":{\"field\":\"y\"}},\"id\":\"11527\",\"type\":\"Line\"},{\"attributes\":{},\"id\":\"11516\",\"type\":\"ResetTool\"},{\"attributes\":{\"source\":{\"id\":\"11525\",\"type\":\"ColumnDataSource\"}},\"id\":\"11529\",\"type\":\"CDSView\"},{\"attributes\":{\"line_color\":\"#fdae61\",\"line_width\":2,\"x\":{\"field\":\"x\"},\"y\":{\"field\":\"y\"}},\"id\":\"11608\",\"type\":\"Line\"},{\"attributes\":{\"callback\":null,\"data\":{\"x\":{\"__ndarray__\":\"AACIp6qndEIAAHAWrqd0QgAAWIWxp3RCAABA9LSndEIAAChjuKd0QgAAENK7p3RCAAD4QL+ndEIAAOCvwqd0QgAAyB7Gp3RCAACwjcmndEIAAJj8zKd0QgAAgGvQp3RCAABo2tOndEIAAFBJ16d0QgAAOLjap3RCAAAgJ96ndEIAAAiW4ad0QgAA8ATlp3RCAADYc+indEIAAMDi66d0QgAAqFHvp3RCAACQwPKndEIAAHgv9qd0QgAAYJ75p3RCAABIDf2ndEIAADB8AKh0QgAAGOsDqHRCAAAAWgeodEIAAOjICqh0QgAA0DcOqHRCAAC4phGodEIAAKAVFah0QgAAiIQYqHRCAABw8xuodEIAAFhiH6h0QgAAQNEiqHRCAAAoQCaodEIAABCvKah0QgAA+B0tqHRCAADgjDCodEIAAMj7M6h0QgAAsGo3qHRCAACY2TqodEIAAIBIPqh0QgAAaLdBqHRCAABQJkWodEIAADiVSKh0QgAAIARMqHRCAAAIc0+odEIAAPDhUqh0QgAA2FBWqHRCAADAv1modEIAAKguXah0QgAAkJ1gqHRCAAB4DGSodEIAAGB7Z6h0QgAASOpqqHRCAAAwWW6odEIAABjIcah0QgAAADd1qHRCAADopXiodEIAANAUfKh0QgAAuIN/qHRCAACg8oKodEIAAIhhhqh0QgAAcNCJqHRCAABYP42odEIAAECukKh0QgAAKB2UqHRCAAAQjJeodEIAAPj6mqh0QgAA4GmeqHRC\",\"dtype\":\"float64\",\"shape\":[72]},\"y\":{\"__ndarray__\":\"AAAAAACYdUCamZmZmZlqQDMzMzMzQ2JAMzMzMzMTWUAAAAAAAJBWQJqZmZmZCVdAmpmZmZmhZ0BmZmZmZv5vQJqZmZmZcXVAMzMzMzM/f0DNzMzMzHCDQDMzMzMz54RAZmZmZmauhUBmZmZmZjyHQGZmZmZmuoRAZmZmZmbOgkBmZmZmZrKAQGZmZmZmlIFAMzMzMzMvgUDNzMzMzDh9QAAAAAAAhHhAAAAAAAA8eECamZmZmVF4QJqZmZmZEXZAmpmZmZnRckAzMzMzMyNrQM3MzMzMVGJAzczMzMxsV0AAAAAAAHBQQAAAAAAAoEZAmpmZmZm5T0BmZmZmZnZTQDMzMzMzk1dAzczMzMy0YkCamZmZmclrQJqZmZmZDXJAZmZmZmbic0DNzMzMzCB0QJqZmZmZHXZAmpmZmZkZdkBmZmZmZgJ0QJqZmZmZtXNAMzMzMzOPdUDNzMzMzMR1QDMzMzMz73NAAAAAAAC0dUDNzMzMzMh1QGZmZmZmFm9AZmZmZmbmZUAzMzMzM3NdQM3MzMzMrFJAAAAAAACgSUDNzMzMzExJQAAAAAAAwEdAzczMzMw8WkBmZmZmZi5jQM3MzMzMzGtAAAAAAADIckBmZmZmZp52QM3MzMzMlHpAzczMzMwQfkAzMzMzMwt+QAAAAAAACH9AzczMzMyGgECamZmZma1+QAAAAAAAdoBAZmZmZmaKgUBmZmZmZi6CQDMzMzMzs35AAAAAAADAfkCamZmZmd+AQAAAAAAASH1A\",\"dtype\":\"float64\",\"shape\":[72]}},\"selected\":{\"id\":\"12195\",\"type\":\"Selection\"},\"selection_policy\":{\"id\":\"12194\",\"type\":\"UnionRenderers\"}},\"id\":\"11638\",\"type\":\"ColumnDataSource\"},{\"attributes\":{\"data_source\":{\"id\":\"11525\",\"type\":\"ColumnDataSource\"},\"glyph\":{\"id\":\"11526\",\"type\":\"Line\"},\"hover_glyph\":null,\"muted_glyph\":null,\"nonselection_glyph\":{\"id\":\"11527\",\"type\":\"Line\"},\"selection_glyph\":null,\"view\":{\"id\":\"11529\",\"type\":\"CDSView\"}},\"id\":\"11528\",\"type\":\"GlyphRenderer\"},{\"attributes\":{},\"id\":\"11534\",\"type\":\"BasicTickFormatter\"},{\"attributes\":{\"line_color\":\"#66c2a5\",\"line_width\":2,\"x\":{\"field\":\"x\"},\"y\":{\"field\":\"y\"}},\"id\":\"11552\",\"type\":\"Line\"},{\"attributes\":{\"line_color\":\"#d53e4f\",\"line_width\":2,\"x\":{\"field\":\"x\"},\"y\":{\"field\":\"y\"}},\"id\":\"11639\",\"type\":\"Line\"},{\"attributes\":{\"base\":60,\"mantissas\":[1,2,5,10,15,20,30],\"max_interval\":1800000.0,\"min_interval\":1000.0,\"num_minor_ticks\":0},\"id\":\"11537\",\"type\":\"AdaptiveTicker\"},{\"attributes\":{\"callback\":null,\"data\":{\"x\":{\"__ndarray__\":\"AACIp6qndEIAAHAWrqd0QgAAWIWxp3RCAABA9LSndEIAAChjuKd0QgAAENK7p3RCAAD4QL+ndEIAAOCvwqd0QgAAyB7Gp3RCAACwjcmndEIAAJj8zKd0QgAAgGvQp3RCAABo2tOndEIAAFBJ16d0QgAAOLjap3RCAAAgJ96ndEIAAAiW4ad0QgAA8ATlp3RCAADYc+indEIAAMDi66d0QgAAqFHvp3RCAACQwPKndEIAAHgv9qd0QgAAYJ75p3RCAABIDf2ndEIAADB8AKh0QgAAGOsDqHRCAAAAWgeodEIAAOjICqh0QgAA0DcOqHRCAAC4phGodEIAAKAVFah0QgAAiIQYqHRCAABw8xuodEIAAFhiH6h0QgAAQNEiqHRCAAAoQCaodEIAABCvKah0QgAA+B0tqHRCAADgjDCodEIAAMj7M6h0QgAAsGo3qHRCAACY2TqodEIAAIBIPqh0QgAAaLdBqHRCAABQJkWodEIAADiVSKh0QgAAIARMqHRCAAAIc0+odEIAAPDhUqh0QgAA2FBWqHRCAADAv1modEIAAKguXah0QgAAkJ1gqHRCAAB4DGSodEIAAGB7Z6h0QgAASOpqqHRCAAAwWW6odEIAABjIcah0QgAAADd1qHRCAADopXiodEIAANAUfKh0QgAAuIN/qHRCAACg8oKodEIAAIhhhqh0QgAAcNCJqHRCAABYP42odEIAAECukKh0QgAAKB2UqHRCAAAQjJeodEIAAPj6mqh0QgAA4GmeqHRC\",\"dtype\":\"float64\",\"shape\":[72]},\"y\":{\"__ndarray__\":\"vYOS/PYydEB06Zly32FpQLzq3vY1RGBAAJLzQq8nV0AHJHVPOmxUQIMB+LV9SVxAwxHgzLFmcEA1B0PXFDJ5QDUxCaQ20XtA0KlqMWIwf0BeIKlkw5WBQA5vigudr4NAhkEE+FkthUByneiQo4SFQDnILo/LcIZAs1GZtuzwg0BGFaVBRoWAQGgLmM99a4JAZY04ZgqfhUBmiSaTl2+EQDukng3x8YBAyuBBYthwfEAQaS1XXKB5QFiGVm8mOXZAOvPjDt2dckAF7UL35ztqQCBzSw/Fx19AGVuih8mHU0AeE3nt1cZKQMoH0rPAv0hAqodCLL7EREBu5Bmo1F9IQIaUxTbwzlNAAgf/+54KYUA1HIo/UQZrQBPPw3tokHFA6sYRzx5gdEAFvIs0bW91QM69J3K/7nRAbr68VC8zdUDKTvDgHbt0QBphw2ouSXRAjLUhEyD8c0BCCHJt9dlzQLQTQ05BknNAWhlKKjpsckB2tX+d1GNyQI4KU1oZw3BAcHChQRQ+Z0DyGk7no6ZbQAyf+jdmx1BAU+KH4Y/5RkBPtM06cq1DQCKH7l9G0ExAw/Jt4ZOPW0BGzXaRipVnQBV8WPDJDWxAulv7/uE9ckCh+1wRTUR2QJ43hLrMKnpA7ux3PWe4fkCb7HaJa1mAQBbRSzX/8H9ArdfUJqhDf0BeVUPWK7t/QIM979WWxoBAZgKgRcy2gkAC++RUz2WCQC3UfT08SoFAoCAOvIFtfkCiSWS1DC1+QI2yEGLGM31A\",\"dtype\":\"float64\",\"shape\":[72]}},\"selected\":{\"id\":\"11605\",\"type\":\"Selection\"},\"selection_policy\":{\"id\":\"11604\",\"type\":\"UnionRenderers\"}},\"id\":\"11551\",\"type\":\"ColumnDataSource\"},{\"attributes\":{\"line_color\":\"#e6f598\",\"line_width\":2,\"x\":{\"field\":\"x\"},\"y\":{\"field\":\"y\"}},\"id\":\"11579\",\"type\":\"Line\"},{\"attributes\":{},\"id\":\"11532\",\"type\":\"DatetimeTickFormatter\"},{\"attributes\":{},\"id\":\"11512\",\"type\":\"PanTool\"},{\"attributes\":{},\"id\":\"11513\",\"type\":\"WheelZoomTool\"}],\"root_ids\":[\"11493\"]},\"title\":\"Bokeh Application\",\"version\":\"1.4.0\"}};\n",
       "  var render_items = [{\"docid\":\"1296eea6-c923-419e-bca7-ef96eec6d637\",\"roots\":{\"11493\":\"24b50e6a-99d0-4b86-8158-a6a2fc7521ef\"}}];\n",
       "  root.Bokeh.embed.embed_items_notebook(docs_json, render_items);\n",
       "\n",
       "  }\n",
       "  if (root.Bokeh !== undefined) {\n",
       "    embed_document(root);\n",
       "  } else {\n",
       "    var attempts = 0;\n",
       "    var timer = setInterval(function(root) {\n",
       "      if (root.Bokeh !== undefined) {\n",
       "        clearInterval(timer);\n",
       "        embed_document(root);\n",
       "      } else {\n",
       "        attempts++;\n",
       "        if (attempts > 100) {\n",
       "          clearInterval(timer);\n",
       "          console.log(\"Bokeh: ERROR: Unable to run BokehJS code because BokehJS library is missing\");\n",
       "        }\n",
       "      }\n",
       "    }, 10, root)\n",
       "  }\n",
       "})(window);"
      ],
      "application/vnd.bokehjs_exec.v0+json": ""
     },
     "metadata": {
      "application/vnd.bokehjs_exec.v0+json": {
       "id": "11493"
      }
     },
     "output_type": "display_data"
    }
   ],
   "source": [
    "s = slice('2014-12-24', '2014-12-26')\n",
    "\n",
    "p = figure(plot_width=800, plot_height=400, x_axis_type='datetime')\n",
    "p.line(x = pred_ne[s].index, y=pred_ne[s], line_width=2, legend_label='No external variables', color = Spectral8[0])\n",
    "p.line(x = pred_w_h[s].index, y=pred_w_h[s], line_width=2, legend_label='Weather and holidays', color = Spectral8[1])\n",
    "p.line(x = eia_ne[s].index, y=eia_ne[s], line_width=2, legend_label='EIA no external variables', color = Spectral8[3])\n",
    "p.line(x = eia_w_h[s].index, y=eia_w_h[s], line_width=2, legend_label='EIA weather and holidays', color = Spectral8[5])\n",
    "p.line(x = real[s].index, y=real[s], line_width=2, legend_label='Real demand', color = Spectral8[7])\n",
    "\n",
    "p.yaxis.axis_label = 'Predictions'\n",
    "p.title.text = 'Christmas Day'\n",
    "p.legend.location = 'bottom_left'\n",
    "p.legend.click_policy=\"hide\"\n",
    "\n",
    "show(p)"
   ]
  },
  {
   "cell_type": "code",
   "execution_count": 39,
   "metadata": {
    "ExecuteTime": {
     "end_time": "2020-02-21T12:59:36.131351Z",
     "start_time": "2020-02-21T12:59:35.844024Z"
    }
   },
   "outputs": [
    {
     "data": {
      "text/html": [
       "\n",
       "\n",
       "\n",
       "\n",
       "\n",
       "\n",
       "  <div class=\"bk-root\" id=\"52b09aad-e830-4fd5-99b2-4fced19cb46b\" data-root-id=\"12370\"></div>\n"
      ]
     },
     "metadata": {},
     "output_type": "display_data"
    },
    {
     "data": {
      "application/javascript": [
       "(function(root) {\n",
       "  function embed_document(root) {\n",
       "    \n",
       "  var docs_json = {\"98d0fe3d-42e4-4010-af1f-6159224d2e75\":{\"roots\":{\"references\":[{\"attributes\":{\"below\":[{\"id\":\"12379\",\"type\":\"DatetimeAxis\"}],\"center\":[{\"id\":\"12383\",\"type\":\"Grid\"},{\"id\":\"12388\",\"type\":\"Grid\"},{\"id\":\"12426\",\"type\":\"Legend\"}],\"left\":[{\"id\":\"12384\",\"type\":\"LinearAxis\"}],\"plot_height\":400,\"plot_width\":800,\"renderers\":[{\"id\":\"12405\",\"type\":\"GlyphRenderer\"},{\"id\":\"12431\",\"type\":\"GlyphRenderer\"},{\"id\":\"12458\",\"type\":\"GlyphRenderer\"},{\"id\":\"12487\",\"type\":\"GlyphRenderer\"},{\"id\":\"12518\",\"type\":\"GlyphRenderer\"},{\"id\":\"12551\",\"type\":\"GlyphRenderer\"}],\"title\":{\"id\":\"12407\",\"type\":\"Title\"},\"toolbar\":{\"id\":\"12395\",\"type\":\"Toolbar\"},\"x_range\":{\"id\":\"12371\",\"type\":\"DataRange1d\"},\"x_scale\":{\"id\":\"12375\",\"type\":\"LinearScale\"},\"y_range\":{\"id\":\"12373\",\"type\":\"DataRange1d\"},\"y_scale\":{\"id\":\"12377\",\"type\":\"LinearScale\"}},\"id\":\"12370\",\"subtype\":\"Figure\",\"type\":\"Plot\"},{\"attributes\":{\"months\":[0,1,2,3,4,5,6,7,8,9,10,11]},\"id\":\"12420\",\"type\":\"MonthsTicker\"},{\"attributes\":{\"days\":[1,15]},\"id\":\"12419\",\"type\":\"DaysTicker\"},{\"attributes\":{\"days\":[1,4,7,10,13,16,19,22,25,28]},\"id\":\"12417\",\"type\":\"DaysTicker\"},{\"attributes\":{\"line_alpha\":0.1,\"line_color\":\"#1f77b4\",\"line_width\":2,\"x\":{\"field\":\"x\"},\"y\":{\"field\":\"y\"}},\"id\":\"12404\",\"type\":\"Line\"},{\"attributes\":{\"line_alpha\":0.1,\"line_color\":\"#1f77b4\",\"line_width\":2,\"x\":{\"field\":\"x\"},\"y\":{\"field\":\"y\"}},\"id\":\"12457\",\"type\":\"Line\"},{\"attributes\":{\"bottom_units\":\"screen\",\"fill_alpha\":{\"value\":0.5},\"fill_color\":{\"value\":\"lightgrey\"},\"left_units\":\"screen\",\"level\":\"overlay\",\"line_alpha\":{\"value\":1.0},\"line_color\":{\"value\":\"black\"},\"line_dash\":[4,4],\"line_width\":{\"value\":2},\"render_mode\":\"css\",\"right_units\":\"screen\",\"top_units\":\"screen\"},\"id\":\"12425\",\"type\":\"BoxAnnotation\"},{\"attributes\":{\"callback\":null,\"data\":{\"x\":{\"__ndarray__\":\"AAAIgrS8c0IAAPDwt7xzQgAA2F+7vHNCAADAzr68c0IAAKg9wrxzQgAAkKzFvHNCAAB4G8m8c0IAAGCKzLxzQgAASPnPvHNCAAAwaNO8c0IAABjX1rxzQgAAAEbavHNCAADotN28c0IAANAj4bxzQgAAuJLkvHNCAACgAei8c0IAAIhw67xzQgAAcN/uvHNCAABYTvK8c0IAAEC99bxzQgAAKCz5vHNCAAAQm/y8c0IAAPgJAL1zQgAA4HgDvXNCAADI5wa9c0IAALBWCr1zQgAAmMUNvXNCAACANBG9c0IAAGijFL1zQgAAUBIYvXNCAAA4gRu9c0IAACDwHr1zQgAACF8ivXNCAADwzSW9c0IAANg8Kb1zQgAAwKssvXNCAACoGjC9c0IAAJCJM71zQgAAePg2vXNCAABgZzq9c0IAAEjWPb1zQgAAMEVBvXNCAAAYtES9c0IAAAAjSL1zQgAA6JFLvXNCAADQAE+9c0IAALhvUr1zQgAAoN5VvXNCAACITVm9c0IAAHC8XL1zQgAAWCtgvXNCAABAmmO9c0IAACgJZ71zQgAAEHhqvXNCAAD45m29c0IAAOBVcb1zQgAAyMR0vXNCAACwM3i9c0IAAJiie71zQgAAgBF/vXNCAABogIK9c0IAAFDvhb1zQgAAOF6JvXNCAAAgzYy9c0IAAAg8kL1zQgAA8KqTvXNCAADYGZe9c0IAAMCImr1zQgAAqPedvXNCAACQZqG9c0IAAHjVpL1zQgAAYESovXNC\",\"dtype\":\"float64\",\"shape\":[72]},\"y\":{\"__ndarray__\":\"AAAAAACYdUCamZmZmZlqQDMzMzMzQ2JAMzMzMzMTWUAAAAAAAJBWQJqZmZmZCVdAmpmZmZmhZ0BmZmZmZv5vQJqZmZmZcXVAMzMzMzM/f0DNzMzMzHCDQDMzMzMz54RAZmZmZmauhUBmZmZmZjyHQGZmZmZmuoRAZmZmZmbOgkBmZmZmZrKAQGZmZmZmlIFAMzMzMzMvgUDNzMzMzDh9QAAAAAAAhHhAAAAAAAA8eECamZmZmVF4QJqZmZmZEXZAmpmZmZnRckAzMzMzMyNrQM3MzMzMVGJAzczMzMxsV0AAAAAAAHBQQAAAAAAAoEZAmpmZmZm5T0BmZmZmZnZTQDMzMzMzk1dAzczMzMy0YkCamZmZmclrQJqZmZmZDXJAZmZmZmbic0DNzMzMzCB0QJqZmZmZHXZAmpmZmZkZdkBmZmZmZgJ0QJqZmZmZtXNAMzMzMzOPdUDNzMzMzMR1QDMzMzMz73NAAAAAAAC0dUDNzMzMzMh1QGZmZmZmFm9AZmZmZmbmZUAzMzMzM3NdQM3MzMzMrFJAAAAAAACgSUDNzMzMzExJQAAAAAAAwEdAzczMzMw8WkBmZmZmZi5jQM3MzMzMzGtAAAAAAADIckBmZmZmZp52QM3MzMzMlHpAzczMzMwQfkAzMzMzMwt+QAAAAAAACH9AzczMzMyGgECamZmZma1+QAAAAAAAdoBAZmZmZmaKgUBmZmZmZi6CQDMzMzMzs35AAAAAAADAfkCamZmZmd+AQAAAAAAASH1A\",\"dtype\":\"float64\",\"shape\":[72]}},\"selected\":{\"id\":\"12513\",\"type\":\"Selection\"},\"selection_policy\":{\"id\":\"12512\",\"type\":\"UnionRenderers\"}},\"id\":\"12455\",\"type\":\"ColumnDataSource\"},{\"attributes\":{},\"id\":\"12424\",\"type\":\"YearsTicker\"},{\"attributes\":{\"label\":{\"value\":\"2013 demand\"},\"renderers\":[{\"id\":\"12431\",\"type\":\"GlyphRenderer\"}]},\"id\":\"12454\",\"type\":\"LegendItem\"},{\"attributes\":{\"days\":[1,8,15,22]},\"id\":\"12418\",\"type\":\"DaysTicker\"},{\"attributes\":{\"base\":60,\"mantissas\":[1,2,5,10,15,20,30],\"max_interval\":1800000.0,\"min_interval\":1000.0,\"num_minor_ticks\":0},\"id\":\"12414\",\"type\":\"AdaptiveTicker\"},{\"attributes\":{\"base\":24,\"mantissas\":[1,2,4,6,8,12],\"max_interval\":43200000.0,\"min_interval\":3600000.0,\"num_minor_ticks\":0},\"id\":\"12415\",\"type\":\"AdaptiveTicker\"},{\"attributes\":{},\"id\":\"12392\",\"type\":\"SaveTool\"},{\"attributes\":{},\"id\":\"12394\",\"type\":\"HelpTool\"},{\"attributes\":{\"data_source\":{\"id\":\"12428\",\"type\":\"ColumnDataSource\"},\"glyph\":{\"id\":\"12429\",\"type\":\"Line\"},\"hover_glyph\":null,\"muted_glyph\":null,\"nonselection_glyph\":{\"id\":\"12430\",\"type\":\"Line\"},\"selection_glyph\":null,\"view\":{\"id\":\"12432\",\"type\":\"CDSView\"}},\"id\":\"12431\",\"type\":\"GlyphRenderer\"},{\"attributes\":{},\"id\":\"12393\",\"type\":\"ResetTool\"},{\"attributes\":{\"callback\":null,\"data\":{\"x\":{\"__ndarray__\":\"AAAIgrS8c0IAAPDwt7xzQgAA2F+7vHNCAADAzr68c0IAAKg9wrxzQgAAkKzFvHNCAAB4G8m8c0IAAGCKzLxzQgAASPnPvHNCAAAwaNO8c0IAABjX1rxzQgAAAEbavHNCAADotN28c0IAANAj4bxzQgAAuJLkvHNCAACgAei8c0IAAIhw67xzQgAAcN/uvHNCAABYTvK8c0IAAEC99bxzQgAAKCz5vHNCAAAQm/y8c0IAAPgJAL1zQgAA4HgDvXNCAADI5wa9c0IAALBWCr1zQgAAmMUNvXNCAACANBG9c0IAAGijFL1zQgAAUBIYvXNCAAA4gRu9c0IAACDwHr1zQgAACF8ivXNCAADwzSW9c0IAANg8Kb1zQgAAwKssvXNCAACoGjC9c0IAAJCJM71zQgAAePg2vXNCAABgZzq9c0IAAEjWPb1zQgAAMEVBvXNCAAAYtES9c0IAAAAjSL1zQgAA6JFLvXNCAADQAE+9c0IAALhvUr1zQgAAoN5VvXNCAACITVm9c0IAAHC8XL1zQgAAWCtgvXNCAABAmmO9c0IAACgJZ71zQgAAEHhqvXNCAAD45m29c0IAAOBVcb1zQgAAyMR0vXNCAACwM3i9c0IAAJiie71zQgAAgBF/vXNCAABogIK9c0IAAFDvhb1zQgAAOF6JvXNCAAAgzYy9c0IAAAg8kL1zQgAA8KqTvXNCAADYGZe9c0IAAMCImr1zQgAAqPedvXNCAACQZqG9c0IAAHjVpL1zQgAAYESovXNC\",\"dtype\":\"float64\",\"shape\":[72]},\"y\":{\"__ndarray__\":\"ZmZmZmbec0AAAAAAAPBoQAAAAAAAcGBAMzMzMzMzVkCamZmZmQlVQGZmZmZmZlVAzczMzMz0ZUBmZmZmZgpwQAAAAAAAZHdAzczMzMysfECamZmZmXGAQJqZmZmZk4JAMzMzMzOthEDNzMzMzPaFQM3MzMzMJIZAAAAAAAAIhkAzMzMzM52CQJqZmZmZEYRAzczMzMwuhEAAAAAAADCCQJqZmZmZN4BAZmZmZmZigECamZmZmauAQJqZmZmZDX1AzczMzMwoeEDNzMzMzKhwQAAAAAAA2GNAzczMzMx8WkBmZmZmZgZSQGZmZmZmRkZAzczMzMwMTkCamZmZmRlTQAAAAAAAQFtAAAAAAACgZEAAAAAAAOBuQJqZmZmZ0XNAMzMzMzOfd0AAAAAAACh4QM3MzMzMaHhAmpmZmZnheEAAAAAAAHh3QM3MzMzMVHpAmpmZmZmVe0AAAAAAAIh6QDMzMzMzz3hAMzMzMzNDe0CamZmZmbF5QAAAAAAAeHJAAAAAAAAQZ0AzMzMzMyNeQJqZmZmZ6VFAmpmZmZkZSEBmZmZmZsZEQAAAAAAAwEhAmpmZmZlJYECamZmZmVFpQDMzMzMzA3NAzczMzMy0eEAzMzMzM3d9QM3MzMzMWoBAmpmZmZkhgkAAAAAAAFiCQDMzMzMzxYFAMzMzMzP7gkCamZmZmVeBQJqZmZmZ/4NAMzMzMzOThkCamZmZmaGFQAAAAAAAQIJAzczMzMwcgkAzMzMzM42CQAAAAAAADH1A\",\"dtype\":\"float64\",\"shape\":[72]}},\"selected\":{\"id\":\"12482\",\"type\":\"Selection\"},\"selection_policy\":{\"id\":\"12481\",\"type\":\"UnionRenderers\"}},\"id\":\"12428\",\"type\":\"ColumnDataSource\"},{\"attributes\":{\"source\":{\"id\":\"12428\",\"type\":\"ColumnDataSource\"}},\"id\":\"12432\",\"type\":\"CDSView\"},{\"attributes\":{},\"id\":\"12452\",\"type\":\"UnionRenderers\"},{\"attributes\":{\"overlay\":{\"id\":\"12425\",\"type\":\"BoxAnnotation\"}},\"id\":\"12391\",\"type\":\"BoxZoomTool\"},{\"attributes\":{},\"id\":\"12390\",\"type\":\"WheelZoomTool\"},{\"attributes\":{\"source\":{\"id\":\"12402\",\"type\":\"ColumnDataSource\"}},\"id\":\"12406\",\"type\":\"CDSView\"},{\"attributes\":{\"active_drag\":\"auto\",\"active_inspect\":\"auto\",\"active_multi\":null,\"active_scroll\":\"auto\",\"active_tap\":\"auto\",\"tools\":[{\"id\":\"12389\",\"type\":\"PanTool\"},{\"id\":\"12390\",\"type\":\"WheelZoomTool\"},{\"id\":\"12391\",\"type\":\"BoxZoomTool\"},{\"id\":\"12392\",\"type\":\"SaveTool\"},{\"id\":\"12393\",\"type\":\"ResetTool\"},{\"id\":\"12394\",\"type\":\"HelpTool\"}]},\"id\":\"12395\",\"type\":\"Toolbar\"},{\"attributes\":{\"days\":[1,2,3,4,5,6,7,8,9,10,11,12,13,14,15,16,17,18,19,20,21,22,23,24,25,26,27,28,29,30,31]},\"id\":\"12416\",\"type\":\"DaysTicker\"},{\"attributes\":{},\"id\":\"12389\",\"type\":\"PanTool\"},{\"attributes\":{},\"id\":\"12411\",\"type\":\"BasicTickFormatter\"},{\"attributes\":{},\"id\":\"12409\",\"type\":\"DatetimeTickFormatter\"},{\"attributes\":{\"months\":[0,2,4,6,8,10]},\"id\":\"12421\",\"type\":\"MonthsTicker\"},{\"attributes\":{\"callback\":null,\"data\":{\"x\":{\"__ndarray__\":\"AAAIgrS8c0IAAPDwt7xzQgAA2F+7vHNCAADAzr68c0IAAKg9wrxzQgAAkKzFvHNCAAB4G8m8c0IAAGCKzLxzQgAASPnPvHNCAAAwaNO8c0IAABjX1rxzQgAAAEbavHNCAADotN28c0IAANAj4bxzQgAAuJLkvHNCAACgAei8c0IAAIhw67xzQgAAcN/uvHNCAABYTvK8c0IAAEC99bxzQgAAKCz5vHNCAAAQm/y8c0IAAPgJAL1zQgAA4HgDvXNCAADI5wa9c0IAALBWCr1zQgAAmMUNvXNCAACANBG9c0IAAGijFL1zQgAAUBIYvXNCAAA4gRu9c0IAACDwHr1zQgAACF8ivXNCAADwzSW9c0IAANg8Kb1zQgAAwKssvXNCAACoGjC9c0IAAJCJM71zQgAAePg2vXNCAABgZzq9c0IAAEjWPb1zQgAAMEVBvXNCAAAYtES9c0IAAAAjSL1zQgAA6JFLvXNCAADQAE+9c0IAALhvUr1zQgAAoN5VvXNCAACITVm9c0IAAHC8XL1zQgAAWCtgvXNCAABAmmO9c0IAACgJZ71zQgAAEHhqvXNCAAD45m29c0IAAOBVcb1zQgAAyMR0vXNCAACwM3i9c0IAAJiie71zQgAAgBF/vXNCAABogIK9c0IAAFDvhb1zQgAAOF6JvXNCAAAgzYy9c0IAAAg8kL1zQgAA8KqTvXNCAADYGZe9c0IAAMCImr1zQgAAqPedvXNCAACQZqG9c0IAAHjVpL1zQgAAYESovXNC\",\"dtype\":\"float64\",\"shape\":[72]},\"y\":{\"__ndarray__\":\"ZmZmZmb2b0BmZmZmZk5lQDMzMzMz41xAmpmZmZlJVUAzMzMzM2NTQM3MzMzMrFBAmpmZmZk5YEBmZmZmZvZpQM3MzMzMPHFAMzMzMzPLdkAzMzMzM9WAQGZmZmZmdoFAZmZmZmbugkBmZmZmZryDQJqZmZmZjYRAMzMzMzMThEBmZmZmZnSCQDMzMzMz1YJAZmZmZmbUgkAzMzMzM+GEQAAAAAAAtoJAAAAAAACWgEAAAAAAAGB8QM3MzMzMXHlAMzMzMzN7dUAAAAAAANhtQJqZmZmZOWNAMzMzMzOjWUAzMzMzM6NRQJqZmZmZmUVAmpmZmZl5TUAAAAAAACBSQDMzMzMzs1ZAmpmZmZkBYkBmZmZmZk5rQM3MzMzMeHFAAAAAAAAMdEDNzMzMzOR0QM3MzMzM0HdAMzMzMzNjd0DNzMzMzKB1QGZmZmZmcndAZmZmZmbKeUAAAAAAAJh4QJqZmZmZjXhAZmZmZmZeekCamZmZmQ14QM3MzMzMAHJAzczMzMwEaEAAAAAAADBgQDMzMzMzI1NAmpmZmZnZR0CamZmZmflHQJqZmZmZWUpAzczMzMxcYUAzMzMzMzNuQGZmZmZmlnVAZmZmZmbee0AAAAAAADB/QAAAAAAA/oBAzczMzMy+gkCamZmZmSWEQGZmZmZmaoZAMzMzMzNThUAzMzMzMxeBQAAAAAAAaoNAzczMzMweiEAAAAAAAIKHQGZmZmZmKIdAmpmZmZmfhEBmZmZmZniCQDMzMzMzI3xA\",\"dtype\":\"float64\",\"shape\":[72]}},\"selected\":{\"id\":\"12453\",\"type\":\"Selection\"},\"selection_policy\":{\"id\":\"12452\",\"type\":\"UnionRenderers\"}},\"id\":\"12402\",\"type\":\"ColumnDataSource\"},{\"attributes\":{\"mantissas\":[1,2,5],\"max_interval\":500.0,\"num_minor_ticks\":0},\"id\":\"12413\",\"type\":\"AdaptiveTicker\"},{\"attributes\":{\"line_color\":\"#66c2a5\",\"line_width\":2,\"x\":{\"field\":\"x\"},\"y\":{\"field\":\"y\"}},\"id\":\"12429\",\"type\":\"Line\"},{\"attributes\":{\"dimension\":1,\"ticker\":{\"id\":\"12385\",\"type\":\"BasicTicker\"}},\"id\":\"12388\",\"type\":\"Grid\"},{\"attributes\":{\"click_policy\":\"hide\",\"items\":[{\"id\":\"12427\",\"type\":\"LegendItem\"},{\"id\":\"12454\",\"type\":\"LegendItem\"},{\"id\":\"12483\",\"type\":\"LegendItem\"},{\"id\":\"12514\",\"type\":\"LegendItem\"},{\"id\":\"12547\",\"type\":\"LegendItem\"},{\"id\":\"12582\",\"type\":\"LegendItem\"}],\"location\":\"bottom_left\"},\"id\":\"12426\",\"type\":\"Legend\"},{\"attributes\":{\"data_source\":{\"id\":\"12402\",\"type\":\"ColumnDataSource\"},\"glyph\":{\"id\":\"12403\",\"type\":\"Line\"},\"hover_glyph\":null,\"muted_glyph\":null,\"nonselection_glyph\":{\"id\":\"12404\",\"type\":\"Line\"},\"selection_glyph\":null,\"view\":{\"id\":\"12406\",\"type\":\"CDSView\"}},\"id\":\"12405\",\"type\":\"GlyphRenderer\"},{\"attributes\":{\"axis_label\":\"Predictions\",\"formatter\":{\"id\":\"12411\",\"type\":\"BasicTickFormatter\"},\"ticker\":{\"id\":\"12385\",\"type\":\"BasicTicker\"}},\"id\":\"12384\",\"type\":\"LinearAxis\"},{\"attributes\":{},\"id\":\"12385\",\"type\":\"BasicTicker\"},{\"attributes\":{\"text\":\"Christmas Day\"},\"id\":\"12407\",\"type\":\"Title\"},{\"attributes\":{\"line_color\":\"#abdda4\",\"line_width\":2,\"x\":{\"field\":\"x\"},\"y\":{\"field\":\"y\"}},\"id\":\"12456\",\"type\":\"Line\"},{\"attributes\":{\"label\":{\"value\":\"2012 demand\"},\"renderers\":[{\"id\":\"12405\",\"type\":\"GlyphRenderer\"}]},\"id\":\"12427\",\"type\":\"LegendItem\"},{\"attributes\":{\"months\":[0,6]},\"id\":\"12423\",\"type\":\"MonthsTicker\"},{\"attributes\":{\"months\":[0,4,8]},\"id\":\"12422\",\"type\":\"MonthsTicker\"},{\"attributes\":{},\"id\":\"12453\",\"type\":\"Selection\"},{\"attributes\":{\"line_color\":\"#3288bd\",\"line_width\":2,\"x\":{\"field\":\"x\"},\"y\":{\"field\":\"y\"}},\"id\":\"12403\",\"type\":\"Line\"},{\"attributes\":{\"callback\":null},\"id\":\"12371\",\"type\":\"DataRange1d\"},{\"attributes\":{\"source\":{\"id\":\"12455\",\"type\":\"ColumnDataSource\"}},\"id\":\"12459\",\"type\":\"CDSView\"},{\"attributes\":{},\"id\":\"12481\",\"type\":\"UnionRenderers\"},{\"attributes\":{\"line_alpha\":0.1,\"line_color\":\"#1f77b4\",\"line_width\":2,\"x\":{\"field\":\"x\"},\"y\":{\"field\":\"y\"}},\"id\":\"12430\",\"type\":\"Line\"},{\"attributes\":{\"callback\":null,\"data\":{\"x\":{\"__ndarray__\":\"AAAIgrS8c0IAAPDwt7xzQgAA2F+7vHNCAADAzr68c0IAAKg9wrxzQgAAkKzFvHNCAAB4G8m8c0IAAGCKzLxzQgAASPnPvHNCAAAwaNO8c0IAABjX1rxzQgAAAEbavHNCAADotN28c0IAANAj4bxzQgAAuJLkvHNCAACgAei8c0IAAIhw67xzQgAAcN/uvHNCAABYTvK8c0IAAEC99bxzQgAAKCz5vHNCAAAQm/y8c0IAAPgJAL1zQgAA4HgDvXNCAADI5wa9c0IAALBWCr1zQgAAmMUNvXNCAACANBG9c0IAAGijFL1zQgAAUBIYvXNCAAA4gRu9c0IAACDwHr1zQgAACF8ivXNCAADwzSW9c0IAANg8Kb1zQgAAwKssvXNCAACoGjC9c0IAAJCJM71zQgAAePg2vXNCAABgZzq9c0IAAEjWPb1zQgAAMEVBvXNCAAAYtES9c0IAAAAjSL1zQgAA6JFLvXNCAADQAE+9c0IAALhvUr1zQgAAoN5VvXNCAACITVm9c0IAAHC8XL1zQgAAWCtgvXNCAABAmmO9c0IAACgJZ71zQgAAEHhqvXNCAAD45m29c0IAAOBVcb1zQgAAyMR0vXNCAACwM3i9c0IAAJiie71zQgAAgBF/vXNCAABogIK9c0IAAFDvhb1zQgAAOF6JvXNCAAAgzYy9c0IAAAg8kL1zQgAA8KqTvXNCAADYGZe9c0IAAMCImr1zQgAAqPedvXNCAACQZqG9c0IAAHjVpL1zQgAAYESovXNC\",\"dtype\":\"float64\",\"shape\":[72]},\"y\":{\"__ndarray__\":\"AAAAAACIa0CamZmZmRFkQM3MzMzMLF5AmpmZmZm5V0DNzMzMzNxSQM3MzMzM7ERAmpmZmZkZSkAzMzMzM6NSQDMzMzMzE15AZmZmZmZuaECamZmZmRFyQGZmZmZmtnRAzczMzMwYd0BmZmZmZl52QM3MzMzMbHdAzczMzMzgeUBmZmZmZt54QAAAAAAA4HhAZmZmZmZid0CamZmZmYF1QJqZmZmZfXNAAAAAAAD8c0AAAAAAALxxQAAAAAAAQG5AZmZmZmb2ZkCamZmZmTleQM3MzMzMHFBAmpmZmZn5R0AzMzMzM3NBQAAAAAAAADdAmpmZmZnZQkAAAAAAACBLQDMzMzMzg1FAzczMzMzMW0CamZmZmblkQAAAAAAACG1AmpmZmZm5bkAAAAAAADBvQAAAAAAAsHBAZmZmZmYWckBmZmZmZgZxQJqZmZmZPXFAAAAAAAA0ckAAAAAAAHxxQAAAAAAADHFAAAAAAAAsckAzMzMzM9tvQM3MzMzM9GdAAAAAAABAWEAzMzMzM/NJQAAAAAAAgEBAmpmZmZnZN0DNzMzMzMw1QM3MzMzMbERAAAAAAABwXkCamZmZmbljQJqZmZmZkWxAzczMzMzMcUDNzMzMzBh1QJqZmZmZkXhAzczMzMwwekBmZmZmZq56QAAAAAAAfHxAMzMzMzN/fUAzMzMzMyN8QAAAAAAAzHxAzczMzMzYfkCamZmZmfl6QGZmZmZmgndAmpmZmZmleUDNzMzMzOR1QM3MzMzMhG1A\",\"dtype\":\"float64\",\"shape\":[72]}},\"selected\":{\"id\":\"13138\",\"type\":\"Selection\"},\"selection_policy\":{\"id\":\"13137\",\"type\":\"UnionRenderers\"}},\"id\":\"12548\",\"type\":\"ColumnDataSource\"},{\"attributes\":{\"label\":{\"value\":\"2014 demand\"},\"renderers\":[{\"id\":\"12458\",\"type\":\"GlyphRenderer\"}]},\"id\":\"12483\",\"type\":\"LegendItem\"},{\"attributes\":{\"data_source\":{\"id\":\"12548\",\"type\":\"ColumnDataSource\"},\"glyph\":{\"id\":\"12549\",\"type\":\"Line\"},\"hover_glyph\":null,\"muted_glyph\":null,\"nonselection_glyph\":{\"id\":\"12550\",\"type\":\"Line\"},\"selection_glyph\":null,\"view\":{\"id\":\"12552\",\"type\":\"CDSView\"}},\"id\":\"12551\",\"type\":\"GlyphRenderer\"},{\"attributes\":{},\"id\":\"12377\",\"type\":\"LinearScale\"},{\"attributes\":{},\"id\":\"12482\",\"type\":\"Selection\"},{\"attributes\":{},\"id\":\"13137\",\"type\":\"UnionRenderers\"},{\"attributes\":{\"formatter\":{\"id\":\"12409\",\"type\":\"DatetimeTickFormatter\"},\"ticker\":{\"id\":\"12380\",\"type\":\"DatetimeTicker\"}},\"id\":\"12379\",\"type\":\"DatetimeAxis\"},{\"attributes\":{\"line_color\":\"#e6f598\",\"line_width\":2,\"x\":{\"field\":\"x\"},\"y\":{\"field\":\"y\"}},\"id\":\"12485\",\"type\":\"Line\"},{\"attributes\":{\"data_source\":{\"id\":\"12484\",\"type\":\"ColumnDataSource\"},\"glyph\":{\"id\":\"12485\",\"type\":\"Line\"},\"hover_glyph\":null,\"muted_glyph\":null,\"nonselection_glyph\":{\"id\":\"12486\",\"type\":\"Line\"},\"selection_glyph\":null,\"view\":{\"id\":\"12488\",\"type\":\"CDSView\"}},\"id\":\"12487\",\"type\":\"GlyphRenderer\"},{\"attributes\":{\"data_source\":{\"id\":\"12455\",\"type\":\"ColumnDataSource\"},\"glyph\":{\"id\":\"12456\",\"type\":\"Line\"},\"hover_glyph\":null,\"muted_glyph\":null,\"nonselection_glyph\":{\"id\":\"12457\",\"type\":\"Line\"},\"selection_glyph\":null,\"view\":{\"id\":\"12459\",\"type\":\"CDSView\"}},\"id\":\"12458\",\"type\":\"GlyphRenderer\"},{\"attributes\":{\"source\":{\"id\":\"12548\",\"type\":\"ColumnDataSource\"}},\"id\":\"12552\",\"type\":\"CDSView\"},{\"attributes\":{\"line_color\":\"#fee08b\",\"line_width\":2,\"x\":{\"field\":\"x\"},\"y\":{\"field\":\"y\"}},\"id\":\"12516\",\"type\":\"Line\"},{\"attributes\":{},\"id\":\"12580\",\"type\":\"UnionRenderers\"},{\"attributes\":{\"label\":{\"value\":\"2017 demand\"},\"renderers\":[{\"id\":\"12551\",\"type\":\"GlyphRenderer\"}]},\"id\":\"12582\",\"type\":\"LegendItem\"},{\"attributes\":{},\"id\":\"12581\",\"type\":\"Selection\"},{\"attributes\":{\"line_alpha\":0.1,\"line_color\":\"#1f77b4\",\"line_width\":2,\"x\":{\"field\":\"x\"},\"y\":{\"field\":\"y\"}},\"id\":\"12486\",\"type\":\"Line\"},{\"attributes\":{\"callback\":null,\"data\":{\"x\":{\"__ndarray__\":\"AAAIgrS8c0IAAPDwt7xzQgAA2F+7vHNCAADAzr68c0IAAKg9wrxzQgAAkKzFvHNCAAB4G8m8c0IAAGCKzLxzQgAASPnPvHNCAAAwaNO8c0IAABjX1rxzQgAAAEbavHNCAADotN28c0IAANAj4bxzQgAAuJLkvHNCAACgAei8c0IAAIhw67xzQgAAcN/uvHNCAABYTvK8c0IAAEC99bxzQgAAKCz5vHNCAAAQm/y8c0IAAPgJAL1zQgAA4HgDvXNCAADI5wa9c0IAALBWCr1zQgAAmMUNvXNCAACANBG9c0IAAGijFL1zQgAAUBIYvXNCAAA4gRu9c0IAACDwHr1zQgAACF8ivXNCAADwzSW9c0IAANg8Kb1zQgAAwKssvXNCAACoGjC9c0IAAJCJM71zQgAAePg2vXNCAABgZzq9c0IAAEjWPb1zQgAAMEVBvXNCAAAYtES9c0IAAAAjSL1zQgAA6JFLvXNCAADQAE+9c0IAALhvUr1zQgAAoN5VvXNCAACITVm9c0IAAHC8XL1zQgAAWCtgvXNCAABAmmO9c0IAACgJZ71zQgAAEHhqvXNCAAD45m29c0IAAOBVcb1zQgAAyMR0vXNCAACwM3i9c0IAAJiie71zQgAAgBF/vXNCAABogIK9c0IAAFDvhb1zQgAAOF6JvXNCAAAgzYy9c0IAAAg8kL1zQgAA8KqTvXNCAADYGZe9c0IAAMCImr1zQgAAqPedvXNCAACQZqG9c0IAAHjVpL1zQgAAYESovXNC\",\"dtype\":\"float64\",\"shape\":[72]},\"y\":{\"__ndarray__\":\"AAAAAADUcUAzMzMzM5tpQDMzMzMz62BAmpmZmZn5VUAzMzMzMzNTQAAAAAAAoFJAzczMzMykYUCamZmZmXFoQM3MzMzMNHJAAAAAAAD4dUAzMzMzM3d6QJqZmZmZyX5AMzMzMzOJgUBmZmZmZqCCQAAAAAAAjIFAAAAAAAAsgUBmZmZmZr5+QM3MzMzMrH9AMzMzMzMrgEBmZmZmZv56QDMzMzMzD3hAMzMzMzPfd0BmZmZmZlJ3QDMzMzMzm3RAmpmZmZmZcUAzMzMzM7NpQDMzMzMz22BAmpmZmZkpV0AzMzMzM9NRQM3MzMzMjEZAmpmZmZl5SkAAAAAAALBQQDMzMzMzs1dAZmZmZmaWYUCamZmZmYFoQDMzMzMze21AZmZmZmbWcUAzMzMzM1dyQDMzMzMzV3JAmpmZmZnpckCamZmZmcFzQGZmZmZm+nNAAAAAAABUdEAAAAAAAMRyQDMzMzMzE3FAZmZmZmbGcUAAAAAAALxxQAAAAAAAcG5AMzMzMzNDZUCamZmZmQldQAAAAAAAkFVAzczMzMxMT0AAAAAAAABKQJqZmZmZOUFAAAAAAACgSUAAAAAAAGBTQAAAAAAAgGBAzczMzMwca0AAAAAAADByQGZmZmZmBnZAzczMzMzweEDNzMzMzMR7QJqZmZmZwXlAZmZmZmZWfUBmZmZmZvJ6QAAAAAAAGHxAAAAAAACIfkAzMzMzM+t9QJqZmZmZnXlAAAAAAAD0ekBmZmZmZup+QAAAAAAANH9A\",\"dtype\":\"float64\",\"shape\":[72]}},\"selected\":{\"id\":\"12546\",\"type\":\"Selection\"},\"selection_policy\":{\"id\":\"12545\",\"type\":\"UnionRenderers\"}},\"id\":\"12484\",\"type\":\"ColumnDataSource\"},{\"attributes\":{\"data_source\":{\"id\":\"12515\",\"type\":\"ColumnDataSource\"},\"glyph\":{\"id\":\"12516\",\"type\":\"Line\"},\"hover_glyph\":null,\"muted_glyph\":null,\"nonselection_glyph\":{\"id\":\"12517\",\"type\":\"Line\"},\"selection_glyph\":null,\"view\":{\"id\":\"12519\",\"type\":\"CDSView\"}},\"id\":\"12518\",\"type\":\"GlyphRenderer\"},{\"attributes\":{\"source\":{\"id\":\"12484\",\"type\":\"ColumnDataSource\"}},\"id\":\"12488\",\"type\":\"CDSView\"},{\"attributes\":{},\"id\":\"13138\",\"type\":\"Selection\"},{\"attributes\":{},\"id\":\"12513\",\"type\":\"Selection\"},{\"attributes\":{},\"id\":\"12512\",\"type\":\"UnionRenderers\"},{\"attributes\":{\"label\":{\"value\":\"2015 demand\"},\"renderers\":[{\"id\":\"12487\",\"type\":\"GlyphRenderer\"}]},\"id\":\"12514\",\"type\":\"LegendItem\"},{\"attributes\":{\"num_minor_ticks\":5,\"tickers\":[{\"id\":\"12413\",\"type\":\"AdaptiveTicker\"},{\"id\":\"12414\",\"type\":\"AdaptiveTicker\"},{\"id\":\"12415\",\"type\":\"AdaptiveTicker\"},{\"id\":\"12416\",\"type\":\"DaysTicker\"},{\"id\":\"12417\",\"type\":\"DaysTicker\"},{\"id\":\"12418\",\"type\":\"DaysTicker\"},{\"id\":\"12419\",\"type\":\"DaysTicker\"},{\"id\":\"12420\",\"type\":\"MonthsTicker\"},{\"id\":\"12421\",\"type\":\"MonthsTicker\"},{\"id\":\"12422\",\"type\":\"MonthsTicker\"},{\"id\":\"12423\",\"type\":\"MonthsTicker\"},{\"id\":\"12424\",\"type\":\"YearsTicker\"}]},\"id\":\"12380\",\"type\":\"DatetimeTicker\"},{\"attributes\":{\"line_alpha\":0.1,\"line_color\":\"#1f77b4\",\"line_width\":2,\"x\":{\"field\":\"x\"},\"y\":{\"field\":\"y\"}},\"id\":\"12517\",\"type\":\"Line\"},{\"attributes\":{\"callback\":null,\"data\":{\"x\":{\"__ndarray__\":\"AAAIgrS8c0IAAPDwt7xzQgAA2F+7vHNCAADAzr68c0IAAKg9wrxzQgAAkKzFvHNCAAB4G8m8c0IAAGCKzLxzQgAASPnPvHNCAAAwaNO8c0IAABjX1rxzQgAAAEbavHNCAADotN28c0IAANAj4bxzQgAAuJLkvHNCAACgAei8c0IAAIhw67xzQgAAcN/uvHNCAABYTvK8c0IAAEC99bxzQgAAKCz5vHNCAAAQm/y8c0IAAPgJAL1zQgAA4HgDvXNCAADI5wa9c0IAALBWCr1zQgAAmMUNvXNCAACANBG9c0IAAGijFL1zQgAAUBIYvXNCAAA4gRu9c0IAACDwHr1zQgAACF8ivXNCAADwzSW9c0IAANg8Kb1zQgAAwKssvXNCAACoGjC9c0IAAJCJM71zQgAAePg2vXNCAABgZzq9c0IAAEjWPb1zQgAAMEVBvXNCAAAYtES9c0IAAAAjSL1zQgAA6JFLvXNCAADQAE+9c0IAALhvUr1zQgAAoN5VvXNCAACITVm9c0IAAHC8XL1zQgAAWCtgvXNCAABAmmO9c0IAACgJZ71zQgAAEHhqvXNCAAD45m29c0IAAOBVcb1zQgAAyMR0vXNCAACwM3i9c0IAAJiie71zQgAAgBF/vXNCAABogIK9c0IAAFDvhb1zQgAAOF6JvXNCAAAgzYy9c0IAAAg8kL1zQgAA8KqTvXNCAADYGZe9c0IAAMCImr1zQgAAqPedvXNCAACQZqG9c0IAAHjVpL1zQgAAYESovXNC\",\"dtype\":\"float64\",\"shape\":[72]},\"y\":{\"__ndarray__\":\"MzMzMzOvckAAAAAAAPBtQAAAAAAA+GdAZmZmZmZeYkBmZmZmZkZdQDMzMzMzM1FAMzMzMzMTVECamZmZmclaQAAAAAAA8GRAzczMzMygcUAzMzMzMwN6QAAAAAAAVHtAzczMzMwMe0BmZmZmZup5QM3MzMzMdHhAAAAAAAAQekBmZmZmZi56QJqZmZmZJXtAAAAAAABIeUAAAAAAAEB3QM3MzMzMfHVAMzMzMzP7c0DNzMzMzGB0QJqZmZmZ4XFAzczMzMx0bUCamZmZmQllQM3MzMzMzFpAAAAAAAAwUkCamZmZmVlLQDMzMzMzk0FAMzMzMzOzRkAzMzMzM3NMQJqZmZmZGVNAzczMzMx8X0DNzMzMzERoQAAAAAAAUG1AMzMzMzPLb0AzMzMzM7tuQJqZmZmZWXFAzczMzMywcUAzMzMzM7NwQDMzMzMzS3FAAAAAAABwcUAAAAAAAPBvQAAAAAAAKHBAZmZmZmbScUDNzMzMzNxwQDMzMzMzA2xAzczMzMwMYkDNzMzMzIxVQDMzMzMzs0tAzczMzMxsREDNzMzMzKxDQGZmZmZmhkFAZmZmZmaWUECamZmZmRlbQGZmZmZmfmJAzczMzMwcakBmZmZmZgJyQJqZmZmZSXRAZmZmZmbmdkAzMzMzM9t5QM3MzMzMhHxAMzMzMzOHekBmZmZmZpp4QJqZmZmZjXlAZmZmZmYye0CamZmZmZ14QAAAAAAAxHVAmpmZmZlVdkAzMzMzMzN2QM3MzMzMUHBA\",\"dtype\":\"float64\",\"shape\":[72]}},\"selected\":{\"id\":\"12581\",\"type\":\"Selection\"},\"selection_policy\":{\"id\":\"12580\",\"type\":\"UnionRenderers\"}},\"id\":\"12515\",\"type\":\"ColumnDataSource\"},{\"attributes\":{\"line_alpha\":0.1,\"line_color\":\"#1f77b4\",\"line_width\":2,\"x\":{\"field\":\"x\"},\"y\":{\"field\":\"y\"}},\"id\":\"12550\",\"type\":\"Line\"},{\"attributes\":{\"source\":{\"id\":\"12515\",\"type\":\"ColumnDataSource\"}},\"id\":\"12519\",\"type\":\"CDSView\"},{\"attributes\":{},\"id\":\"12546\",\"type\":\"Selection\"},{\"attributes\":{},\"id\":\"12545\",\"type\":\"UnionRenderers\"},{\"attributes\":{\"label\":{\"value\":\"2016 demand\"},\"renderers\":[{\"id\":\"12518\",\"type\":\"GlyphRenderer\"}]},\"id\":\"12547\",\"type\":\"LegendItem\"},{\"attributes\":{\"callback\":null},\"id\":\"12373\",\"type\":\"DataRange1d\"},{\"attributes\":{},\"id\":\"12375\",\"type\":\"LinearScale\"},{\"attributes\":{\"line_color\":\"#fdae61\",\"line_width\":2,\"x\":{\"field\":\"x\"},\"y\":{\"field\":\"y\"}},\"id\":\"12549\",\"type\":\"Line\"},{\"attributes\":{\"ticker\":{\"id\":\"12380\",\"type\":\"DatetimeTicker\"}},\"id\":\"12383\",\"type\":\"Grid\"}],\"root_ids\":[\"12370\"]},\"title\":\"Bokeh Application\",\"version\":\"1.4.0\"}};\n",
       "  var render_items = [{\"docid\":\"98d0fe3d-42e4-4010-af1f-6159224d2e75\",\"roots\":{\"12370\":\"52b09aad-e830-4fd5-99b2-4fced19cb46b\"}}];\n",
       "  root.Bokeh.embed.embed_items_notebook(docs_json, render_items);\n",
       "\n",
       "  }\n",
       "  if (root.Bokeh !== undefined) {\n",
       "    embed_document(root);\n",
       "  } else {\n",
       "    var attempts = 0;\n",
       "    var timer = setInterval(function(root) {\n",
       "      if (root.Bokeh !== undefined) {\n",
       "        clearInterval(timer);\n",
       "        embed_document(root);\n",
       "      } else {\n",
       "        attempts++;\n",
       "        if (attempts > 100) {\n",
       "          clearInterval(timer);\n",
       "          console.log(\"Bokeh: ERROR: Unable to run BokehJS code because BokehJS library is missing\");\n",
       "        }\n",
       "      }\n",
       "    }, 10, root)\n",
       "  }\n",
       "})(window);"
      ],
      "application/vnd.bokehjs_exec.v0+json": ""
     },
     "metadata": {
      "application/vnd.bokehjs_exec.v0+json": {
       "id": "12370"
      }
     },
     "output_type": "display_data"
    }
   ],
   "source": [
    "p = figure(plot_width=800, plot_height=400, x_axis_type='datetime')\n",
    "\n",
    "for n, i in enumerate(range(2012,2018)):\n",
    "    s = slice('{}-12-24'.format(i), '{}-12-26'.format(i))\n",
    "    t = slice('2012-12-24'.format(i), '2012-12-26'.format(i))\n",
    "    p.line(x = real[t].index, y=real[s], line_width=2, legend_label='{} demand'.format(i), color = Spectral8[n])\n",
    "\n",
    "p.yaxis.axis_label = 'Predictions'\n",
    "p.title.text = 'Christmas Day'\n",
    "p.legend.location = 'bottom_left'\n",
    "p.legend.click_policy=\"hide\"\n",
    "\n",
    "show(p)"
   ]
  },
  {
   "cell_type": "code",
   "execution_count": null,
   "metadata": {},
   "outputs": [],
   "source": []
  }
 ],
 "metadata": {
  "kernelspec": {
   "display_name": "taxiData",
   "language": "python",
   "name": "taxidata"
  },
  "language_info": {
   "codemirror_mode": {
    "name": "ipython",
    "version": 3
   },
   "file_extension": ".py",
   "mimetype": "text/x-python",
   "name": "python",
   "nbconvert_exporter": "python",
   "pygments_lexer": "ipython3",
   "version": "3.7.4"
  },
  "toc": {
   "base_numbering": 1,
   "nav_menu": {},
   "number_sections": true,
   "sideBar": false,
   "skip_h1_title": false,
   "title_cell": "Table of Contents",
   "title_sidebar": "Contents",
   "toc_cell": false,
   "toc_position": {},
   "toc_section_display": true,
   "toc_window_display": false
  }
 },
 "nbformat": 4,
 "nbformat_minor": 4
}
