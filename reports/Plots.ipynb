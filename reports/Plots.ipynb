{
 "cells": [
  {
   "cell_type": "code",
   "execution_count": 1,
   "metadata": {
    "ExecuteTime": {
     "end_time": "2020-02-13T10:02:45.462877Z",
     "start_time": "2020-02-13T10:02:42.428113Z"
    }
   },
   "outputs": [
    {
     "data": {
      "text/html": [
       "\n",
       "    <div class=\"bk-root\">\n",
       "        <a href=\"https://bokeh.org\" target=\"_blank\" class=\"bk-logo bk-logo-small bk-logo-notebook\"></a>\n",
       "        <span id=\"1001\">Loading BokehJS ...</span>\n",
       "    </div>"
      ]
     },
     "metadata": {},
     "output_type": "display_data"
    },
    {
     "data": {
      "application/javascript": [
       "\n",
       "(function(root) {\n",
       "  function now() {\n",
       "    return new Date();\n",
       "  }\n",
       "\n",
       "  var force = true;\n",
       "\n",
       "  if (typeof root._bokeh_onload_callbacks === \"undefined\" || force === true) {\n",
       "    root._bokeh_onload_callbacks = [];\n",
       "    root._bokeh_is_loading = undefined;\n",
       "  }\n",
       "\n",
       "  var JS_MIME_TYPE = 'application/javascript';\n",
       "  var HTML_MIME_TYPE = 'text/html';\n",
       "  var EXEC_MIME_TYPE = 'application/vnd.bokehjs_exec.v0+json';\n",
       "  var CLASS_NAME = 'output_bokeh rendered_html';\n",
       "\n",
       "  /**\n",
       "   * Render data to the DOM node\n",
       "   */\n",
       "  function render(props, node) {\n",
       "    var script = document.createElement(\"script\");\n",
       "    node.appendChild(script);\n",
       "  }\n",
       "\n",
       "  /**\n",
       "   * Handle when an output is cleared or removed\n",
       "   */\n",
       "  function handleClearOutput(event, handle) {\n",
       "    var cell = handle.cell;\n",
       "\n",
       "    var id = cell.output_area._bokeh_element_id;\n",
       "    var server_id = cell.output_area._bokeh_server_id;\n",
       "    // Clean up Bokeh references\n",
       "    if (id != null && id in Bokeh.index) {\n",
       "      Bokeh.index[id].model.document.clear();\n",
       "      delete Bokeh.index[id];\n",
       "    }\n",
       "\n",
       "    if (server_id !== undefined) {\n",
       "      // Clean up Bokeh references\n",
       "      var cmd = \"from bokeh.io.state import curstate; print(curstate().uuid_to_server['\" + server_id + \"'].get_sessions()[0].document.roots[0]._id)\";\n",
       "      cell.notebook.kernel.execute(cmd, {\n",
       "        iopub: {\n",
       "          output: function(msg) {\n",
       "            var id = msg.content.text.trim();\n",
       "            if (id in Bokeh.index) {\n",
       "              Bokeh.index[id].model.document.clear();\n",
       "              delete Bokeh.index[id];\n",
       "            }\n",
       "          }\n",
       "        }\n",
       "      });\n",
       "      // Destroy server and session\n",
       "      var cmd = \"import bokeh.io.notebook as ion; ion.destroy_server('\" + server_id + \"')\";\n",
       "      cell.notebook.kernel.execute(cmd);\n",
       "    }\n",
       "  }\n",
       "\n",
       "  /**\n",
       "   * Handle when a new output is added\n",
       "   */\n",
       "  function handleAddOutput(event, handle) {\n",
       "    var output_area = handle.output_area;\n",
       "    var output = handle.output;\n",
       "\n",
       "    // limit handleAddOutput to display_data with EXEC_MIME_TYPE content only\n",
       "    if ((output.output_type != \"display_data\") || (!output.data.hasOwnProperty(EXEC_MIME_TYPE))) {\n",
       "      return\n",
       "    }\n",
       "\n",
       "    var toinsert = output_area.element.find(\".\" + CLASS_NAME.split(' ')[0]);\n",
       "\n",
       "    if (output.metadata[EXEC_MIME_TYPE][\"id\"] !== undefined) {\n",
       "      toinsert[toinsert.length - 1].firstChild.textContent = output.data[JS_MIME_TYPE];\n",
       "      // store reference to embed id on output_area\n",
       "      output_area._bokeh_element_id = output.metadata[EXEC_MIME_TYPE][\"id\"];\n",
       "    }\n",
       "    if (output.metadata[EXEC_MIME_TYPE][\"server_id\"] !== undefined) {\n",
       "      var bk_div = document.createElement(\"div\");\n",
       "      bk_div.innerHTML = output.data[HTML_MIME_TYPE];\n",
       "      var script_attrs = bk_div.children[0].attributes;\n",
       "      for (var i = 0; i < script_attrs.length; i++) {\n",
       "        toinsert[toinsert.length - 1].firstChild.setAttribute(script_attrs[i].name, script_attrs[i].value);\n",
       "      }\n",
       "      // store reference to server id on output_area\n",
       "      output_area._bokeh_server_id = output.metadata[EXEC_MIME_TYPE][\"server_id\"];\n",
       "    }\n",
       "  }\n",
       "\n",
       "  function register_renderer(events, OutputArea) {\n",
       "\n",
       "    function append_mime(data, metadata, element) {\n",
       "      // create a DOM node to render to\n",
       "      var toinsert = this.create_output_subarea(\n",
       "        metadata,\n",
       "        CLASS_NAME,\n",
       "        EXEC_MIME_TYPE\n",
       "      );\n",
       "      this.keyboard_manager.register_events(toinsert);\n",
       "      // Render to node\n",
       "      var props = {data: data, metadata: metadata[EXEC_MIME_TYPE]};\n",
       "      render(props, toinsert[toinsert.length - 1]);\n",
       "      element.append(toinsert);\n",
       "      return toinsert\n",
       "    }\n",
       "\n",
       "    /* Handle when an output is cleared or removed */\n",
       "    events.on('clear_output.CodeCell', handleClearOutput);\n",
       "    events.on('delete.Cell', handleClearOutput);\n",
       "\n",
       "    /* Handle when a new output is added */\n",
       "    events.on('output_added.OutputArea', handleAddOutput);\n",
       "\n",
       "    /**\n",
       "     * Register the mime type and append_mime function with output_area\n",
       "     */\n",
       "    OutputArea.prototype.register_mime_type(EXEC_MIME_TYPE, append_mime, {\n",
       "      /* Is output safe? */\n",
       "      safe: true,\n",
       "      /* Index of renderer in `output_area.display_order` */\n",
       "      index: 0\n",
       "    });\n",
       "  }\n",
       "\n",
       "  // register the mime type if in Jupyter Notebook environment and previously unregistered\n",
       "  if (root.Jupyter !== undefined) {\n",
       "    var events = require('base/js/events');\n",
       "    var OutputArea = require('notebook/js/outputarea').OutputArea;\n",
       "\n",
       "    if (OutputArea.prototype.mime_types().indexOf(EXEC_MIME_TYPE) == -1) {\n",
       "      register_renderer(events, OutputArea);\n",
       "    }\n",
       "  }\n",
       "\n",
       "  \n",
       "  if (typeof (root._bokeh_timeout) === \"undefined\" || force === true) {\n",
       "    root._bokeh_timeout = Date.now() + 5000;\n",
       "    root._bokeh_failed_load = false;\n",
       "  }\n",
       "\n",
       "  var NB_LOAD_WARNING = {'data': {'text/html':\n",
       "     \"<div style='background-color: #fdd'>\\n\"+\n",
       "     \"<p>\\n\"+\n",
       "     \"BokehJS does not appear to have successfully loaded. If loading BokehJS from CDN, this \\n\"+\n",
       "     \"may be due to a slow or bad network connection. Possible fixes:\\n\"+\n",
       "     \"</p>\\n\"+\n",
       "     \"<ul>\\n\"+\n",
       "     \"<li>re-rerun `output_notebook()` to attempt to load from CDN again, or</li>\\n\"+\n",
       "     \"<li>use INLINE resources instead, as so:</li>\\n\"+\n",
       "     \"</ul>\\n\"+\n",
       "     \"<code>\\n\"+\n",
       "     \"from bokeh.resources import INLINE\\n\"+\n",
       "     \"output_notebook(resources=INLINE)\\n\"+\n",
       "     \"</code>\\n\"+\n",
       "     \"</div>\"}};\n",
       "\n",
       "  function display_loaded() {\n",
       "    var el = document.getElementById(\"1001\");\n",
       "    if (el != null) {\n",
       "      el.textContent = \"BokehJS is loading...\";\n",
       "    }\n",
       "    if (root.Bokeh !== undefined) {\n",
       "      if (el != null) {\n",
       "        el.textContent = \"BokehJS \" + root.Bokeh.version + \" successfully loaded.\";\n",
       "      }\n",
       "    } else if (Date.now() < root._bokeh_timeout) {\n",
       "      setTimeout(display_loaded, 100)\n",
       "    }\n",
       "  }\n",
       "\n",
       "\n",
       "  function run_callbacks() {\n",
       "    try {\n",
       "      root._bokeh_onload_callbacks.forEach(function(callback) {\n",
       "        if (callback != null)\n",
       "          callback();\n",
       "      });\n",
       "    } finally {\n",
       "      delete root._bokeh_onload_callbacks\n",
       "    }\n",
       "    console.debug(\"Bokeh: all callbacks have finished\");\n",
       "  }\n",
       "\n",
       "  function load_libs(css_urls, js_urls, callback) {\n",
       "    if (css_urls == null) css_urls = [];\n",
       "    if (js_urls == null) js_urls = [];\n",
       "\n",
       "    root._bokeh_onload_callbacks.push(callback);\n",
       "    if (root._bokeh_is_loading > 0) {\n",
       "      console.debug(\"Bokeh: BokehJS is being loaded, scheduling callback at\", now());\n",
       "      return null;\n",
       "    }\n",
       "    if (js_urls == null || js_urls.length === 0) {\n",
       "      run_callbacks();\n",
       "      return null;\n",
       "    }\n",
       "    console.debug(\"Bokeh: BokehJS not loaded, scheduling load and callback at\", now());\n",
       "    root._bokeh_is_loading = css_urls.length + js_urls.length;\n",
       "\n",
       "    function on_load() {\n",
       "      root._bokeh_is_loading--;\n",
       "      if (root._bokeh_is_loading === 0) {\n",
       "        console.debug(\"Bokeh: all BokehJS libraries/stylesheets loaded\");\n",
       "        run_callbacks()\n",
       "      }\n",
       "    }\n",
       "\n",
       "    function on_error() {\n",
       "      console.error(\"failed to load \" + url);\n",
       "    }\n",
       "\n",
       "    for (var i = 0; i < css_urls.length; i++) {\n",
       "      var url = css_urls[i];\n",
       "      const element = document.createElement(\"link\");\n",
       "      element.onload = on_load;\n",
       "      element.onerror = on_error;\n",
       "      element.rel = \"stylesheet\";\n",
       "      element.type = \"text/css\";\n",
       "      element.href = url;\n",
       "      console.debug(\"Bokeh: injecting link tag for BokehJS stylesheet: \", url);\n",
       "      document.body.appendChild(element);\n",
       "    }\n",
       "\n",
       "    for (var i = 0; i < js_urls.length; i++) {\n",
       "      var url = js_urls[i];\n",
       "      var element = document.createElement('script');\n",
       "      element.onload = on_load;\n",
       "      element.onerror = on_error;\n",
       "      element.async = false;\n",
       "      element.src = url;\n",
       "      console.debug(\"Bokeh: injecting script tag for BokehJS library: \", url);\n",
       "      document.head.appendChild(element);\n",
       "    }\n",
       "  };var element = document.getElementById(\"1001\");\n",
       "  if (element == null) {\n",
       "    console.error(\"Bokeh: ERROR: autoload.js configured with elementid '1001' but no matching script tag was found. \")\n",
       "    return false;\n",
       "  }\n",
       "\n",
       "  function inject_raw_css(css) {\n",
       "    const element = document.createElement(\"style\");\n",
       "    element.appendChild(document.createTextNode(css));\n",
       "    document.body.appendChild(element);\n",
       "  }\n",
       "\n",
       "  \n",
       "  var js_urls = [\"https://cdn.pydata.org/bokeh/release/bokeh-1.4.0.min.js\", \"https://cdn.pydata.org/bokeh/release/bokeh-widgets-1.4.0.min.js\", \"https://cdn.pydata.org/bokeh/release/bokeh-tables-1.4.0.min.js\", \"https://cdn.pydata.org/bokeh/release/bokeh-gl-1.4.0.min.js\"];\n",
       "  var css_urls = [];\n",
       "  \n",
       "\n",
       "  var inline_js = [\n",
       "    function(Bokeh) {\n",
       "      Bokeh.set_log_level(\"info\");\n",
       "    },\n",
       "    function(Bokeh) {\n",
       "    \n",
       "    \n",
       "    }\n",
       "  ];\n",
       "\n",
       "  function run_inline_js() {\n",
       "    \n",
       "    if (root.Bokeh !== undefined || force === true) {\n",
       "      \n",
       "    for (var i = 0; i < inline_js.length; i++) {\n",
       "      inline_js[i].call(root, root.Bokeh);\n",
       "    }\n",
       "    if (force === true) {\n",
       "        display_loaded();\n",
       "      }} else if (Date.now() < root._bokeh_timeout) {\n",
       "      setTimeout(run_inline_js, 100);\n",
       "    } else if (!root._bokeh_failed_load) {\n",
       "      console.log(\"Bokeh: BokehJS failed to load within specified timeout.\");\n",
       "      root._bokeh_failed_load = true;\n",
       "    } else if (force !== true) {\n",
       "      var cell = $(document.getElementById(\"1001\")).parents('.cell').data().cell;\n",
       "      cell.output_area.append_execute_result(NB_LOAD_WARNING)\n",
       "    }\n",
       "\n",
       "  }\n",
       "\n",
       "  if (root._bokeh_is_loading === 0) {\n",
       "    console.debug(\"Bokeh: BokehJS loaded, going straight to plotting\");\n",
       "    run_inline_js();\n",
       "  } else {\n",
       "    load_libs(css_urls, js_urls, function() {\n",
       "      console.debug(\"Bokeh: BokehJS plotting callback run at\", now());\n",
       "      run_inline_js();\n",
       "    });\n",
       "  }\n",
       "}(window));"
      ],
      "application/vnd.bokehjs_load.v0+json": "\n(function(root) {\n  function now() {\n    return new Date();\n  }\n\n  var force = true;\n\n  if (typeof root._bokeh_onload_callbacks === \"undefined\" || force === true) {\n    root._bokeh_onload_callbacks = [];\n    root._bokeh_is_loading = undefined;\n  }\n\n  \n\n  \n  if (typeof (root._bokeh_timeout) === \"undefined\" || force === true) {\n    root._bokeh_timeout = Date.now() + 5000;\n    root._bokeh_failed_load = false;\n  }\n\n  var NB_LOAD_WARNING = {'data': {'text/html':\n     \"<div style='background-color: #fdd'>\\n\"+\n     \"<p>\\n\"+\n     \"BokehJS does not appear to have successfully loaded. If loading BokehJS from CDN, this \\n\"+\n     \"may be due to a slow or bad network connection. Possible fixes:\\n\"+\n     \"</p>\\n\"+\n     \"<ul>\\n\"+\n     \"<li>re-rerun `output_notebook()` to attempt to load from CDN again, or</li>\\n\"+\n     \"<li>use INLINE resources instead, as so:</li>\\n\"+\n     \"</ul>\\n\"+\n     \"<code>\\n\"+\n     \"from bokeh.resources import INLINE\\n\"+\n     \"output_notebook(resources=INLINE)\\n\"+\n     \"</code>\\n\"+\n     \"</div>\"}};\n\n  function display_loaded() {\n    var el = document.getElementById(\"1001\");\n    if (el != null) {\n      el.textContent = \"BokehJS is loading...\";\n    }\n    if (root.Bokeh !== undefined) {\n      if (el != null) {\n        el.textContent = \"BokehJS \" + root.Bokeh.version + \" successfully loaded.\";\n      }\n    } else if (Date.now() < root._bokeh_timeout) {\n      setTimeout(display_loaded, 100)\n    }\n  }\n\n\n  function run_callbacks() {\n    try {\n      root._bokeh_onload_callbacks.forEach(function(callback) {\n        if (callback != null)\n          callback();\n      });\n    } finally {\n      delete root._bokeh_onload_callbacks\n    }\n    console.debug(\"Bokeh: all callbacks have finished\");\n  }\n\n  function load_libs(css_urls, js_urls, callback) {\n    if (css_urls == null) css_urls = [];\n    if (js_urls == null) js_urls = [];\n\n    root._bokeh_onload_callbacks.push(callback);\n    if (root._bokeh_is_loading > 0) {\n      console.debug(\"Bokeh: BokehJS is being loaded, scheduling callback at\", now());\n      return null;\n    }\n    if (js_urls == null || js_urls.length === 0) {\n      run_callbacks();\n      return null;\n    }\n    console.debug(\"Bokeh: BokehJS not loaded, scheduling load and callback at\", now());\n    root._bokeh_is_loading = css_urls.length + js_urls.length;\n\n    function on_load() {\n      root._bokeh_is_loading--;\n      if (root._bokeh_is_loading === 0) {\n        console.debug(\"Bokeh: all BokehJS libraries/stylesheets loaded\");\n        run_callbacks()\n      }\n    }\n\n    function on_error() {\n      console.error(\"failed to load \" + url);\n    }\n\n    for (var i = 0; i < css_urls.length; i++) {\n      var url = css_urls[i];\n      const element = document.createElement(\"link\");\n      element.onload = on_load;\n      element.onerror = on_error;\n      element.rel = \"stylesheet\";\n      element.type = \"text/css\";\n      element.href = url;\n      console.debug(\"Bokeh: injecting link tag for BokehJS stylesheet: \", url);\n      document.body.appendChild(element);\n    }\n\n    for (var i = 0; i < js_urls.length; i++) {\n      var url = js_urls[i];\n      var element = document.createElement('script');\n      element.onload = on_load;\n      element.onerror = on_error;\n      element.async = false;\n      element.src = url;\n      console.debug(\"Bokeh: injecting script tag for BokehJS library: \", url);\n      document.head.appendChild(element);\n    }\n  };var element = document.getElementById(\"1001\");\n  if (element == null) {\n    console.error(\"Bokeh: ERROR: autoload.js configured with elementid '1001' but no matching script tag was found. \")\n    return false;\n  }\n\n  function inject_raw_css(css) {\n    const element = document.createElement(\"style\");\n    element.appendChild(document.createTextNode(css));\n    document.body.appendChild(element);\n  }\n\n  \n  var js_urls = [\"https://cdn.pydata.org/bokeh/release/bokeh-1.4.0.min.js\", \"https://cdn.pydata.org/bokeh/release/bokeh-widgets-1.4.0.min.js\", \"https://cdn.pydata.org/bokeh/release/bokeh-tables-1.4.0.min.js\", \"https://cdn.pydata.org/bokeh/release/bokeh-gl-1.4.0.min.js\"];\n  var css_urls = [];\n  \n\n  var inline_js = [\n    function(Bokeh) {\n      Bokeh.set_log_level(\"info\");\n    },\n    function(Bokeh) {\n    \n    \n    }\n  ];\n\n  function run_inline_js() {\n    \n    if (root.Bokeh !== undefined || force === true) {\n      \n    for (var i = 0; i < inline_js.length; i++) {\n      inline_js[i].call(root, root.Bokeh);\n    }\n    if (force === true) {\n        display_loaded();\n      }} else if (Date.now() < root._bokeh_timeout) {\n      setTimeout(run_inline_js, 100);\n    } else if (!root._bokeh_failed_load) {\n      console.log(\"Bokeh: BokehJS failed to load within specified timeout.\");\n      root._bokeh_failed_load = true;\n    } else if (force !== true) {\n      var cell = $(document.getElementById(\"1001\")).parents('.cell').data().cell;\n      cell.output_area.append_execute_result(NB_LOAD_WARNING)\n    }\n\n  }\n\n  if (root._bokeh_is_loading === 0) {\n    console.debug(\"Bokeh: BokehJS loaded, going straight to plotting\");\n    run_inline_js();\n  } else {\n    load_libs(css_urls, js_urls, function() {\n      console.debug(\"Bokeh: BokehJS plotting callback run at\", now());\n      run_inline_js();\n    });\n  }\n}(window));"
     },
     "metadata": {},
     "output_type": "display_data"
    }
   ],
   "source": [
    "import numpy as np\n",
    "from six.moves import zip\n",
    "\n",
    "from bokeh.plotting import figure, show, output_notebook, ColumnDataSource\n",
    "\n",
    "output_notebook()"
   ]
  },
  {
   "cell_type": "code",
   "execution_count": 2,
   "metadata": {
    "ExecuteTime": {
     "end_time": "2020-02-13T10:02:51.065227Z",
     "start_time": "2020-02-13T10:02:45.468178Z"
    }
   },
   "outputs": [
    {
     "name": "stderr",
     "output_type": "stream",
     "text": [
      "Using TensorFlow backend.\n",
      "/Users/lucasbaier/anaconda3/envs/taxiData/lib/python3.7/site-packages/tensorflow/python/framework/dtypes.py:516: FutureWarning: Passing (type, 1) or '1type' as a synonym of type is deprecated; in a future version of numpy, it will be understood as (type, (1,)) / '(1,)type'.\n",
      "  _np_qint8 = np.dtype([(\"qint8\", np.int8, 1)])\n",
      "/Users/lucasbaier/anaconda3/envs/taxiData/lib/python3.7/site-packages/tensorflow/python/framework/dtypes.py:517: FutureWarning: Passing (type, 1) or '1type' as a synonym of type is deprecated; in a future version of numpy, it will be understood as (type, (1,)) / '(1,)type'.\n",
      "  _np_quint8 = np.dtype([(\"quint8\", np.uint8, 1)])\n",
      "/Users/lucasbaier/anaconda3/envs/taxiData/lib/python3.7/site-packages/tensorflow/python/framework/dtypes.py:518: FutureWarning: Passing (type, 1) or '1type' as a synonym of type is deprecated; in a future version of numpy, it will be understood as (type, (1,)) / '(1,)type'.\n",
      "  _np_qint16 = np.dtype([(\"qint16\", np.int16, 1)])\n",
      "/Users/lucasbaier/anaconda3/envs/taxiData/lib/python3.7/site-packages/tensorflow/python/framework/dtypes.py:519: FutureWarning: Passing (type, 1) or '1type' as a synonym of type is deprecated; in a future version of numpy, it will be understood as (type, (1,)) / '(1,)type'.\n",
      "  _np_quint16 = np.dtype([(\"quint16\", np.uint16, 1)])\n",
      "/Users/lucasbaier/anaconda3/envs/taxiData/lib/python3.7/site-packages/tensorflow/python/framework/dtypes.py:520: FutureWarning: Passing (type, 1) or '1type' as a synonym of type is deprecated; in a future version of numpy, it will be understood as (type, (1,)) / '(1,)type'.\n",
      "  _np_qint32 = np.dtype([(\"qint32\", np.int32, 1)])\n",
      "/Users/lucasbaier/anaconda3/envs/taxiData/lib/python3.7/site-packages/tensorflow/python/framework/dtypes.py:525: FutureWarning: Passing (type, 1) or '1type' as a synonym of type is deprecated; in a future version of numpy, it will be understood as (type, (1,)) / '(1,)type'.\n",
      "  np_resource = np.dtype([(\"resource\", np.ubyte, 1)])\n",
      "/Users/lucasbaier/anaconda3/envs/taxiData/lib/python3.7/site-packages/tensorboard/compat/tensorflow_stub/dtypes.py:541: FutureWarning: Passing (type, 1) or '1type' as a synonym of type is deprecated; in a future version of numpy, it will be understood as (type, (1,)) / '(1,)type'.\n",
      "  _np_qint8 = np.dtype([(\"qint8\", np.int8, 1)])\n",
      "/Users/lucasbaier/anaconda3/envs/taxiData/lib/python3.7/site-packages/tensorboard/compat/tensorflow_stub/dtypes.py:542: FutureWarning: Passing (type, 1) or '1type' as a synonym of type is deprecated; in a future version of numpy, it will be understood as (type, (1,)) / '(1,)type'.\n",
      "  _np_quint8 = np.dtype([(\"quint8\", np.uint8, 1)])\n",
      "/Users/lucasbaier/anaconda3/envs/taxiData/lib/python3.7/site-packages/tensorboard/compat/tensorflow_stub/dtypes.py:543: FutureWarning: Passing (type, 1) or '1type' as a synonym of type is deprecated; in a future version of numpy, it will be understood as (type, (1,)) / '(1,)type'.\n",
      "  _np_qint16 = np.dtype([(\"qint16\", np.int16, 1)])\n",
      "/Users/lucasbaier/anaconda3/envs/taxiData/lib/python3.7/site-packages/tensorboard/compat/tensorflow_stub/dtypes.py:544: FutureWarning: Passing (type, 1) or '1type' as a synonym of type is deprecated; in a future version of numpy, it will be understood as (type, (1,)) / '(1,)type'.\n",
      "  _np_quint16 = np.dtype([(\"quint16\", np.uint16, 1)])\n",
      "/Users/lucasbaier/anaconda3/envs/taxiData/lib/python3.7/site-packages/tensorboard/compat/tensorflow_stub/dtypes.py:545: FutureWarning: Passing (type, 1) or '1type' as a synonym of type is deprecated; in a future version of numpy, it will be understood as (type, (1,)) / '(1,)type'.\n",
      "  _np_qint32 = np.dtype([(\"qint32\", np.int32, 1)])\n",
      "/Users/lucasbaier/anaconda3/envs/taxiData/lib/python3.7/site-packages/tensorboard/compat/tensorflow_stub/dtypes.py:550: FutureWarning: Passing (type, 1) or '1type' as a synonym of type is deprecated; in a future version of numpy, it will be understood as (type, (1,)) / '(1,)type'.\n",
      "  np_resource = np.dtype([(\"resource\", np.ubyte, 1)])\n"
     ]
    }
   ],
   "source": [
    "import os\n",
    "import sys\n",
    "module_path = os.path.abspath((os.path.join(os.getcwd(), '..')))\n",
    "if module_path not in sys.path:\n",
    "    sys.path.append(module_path)\n",
    "    \n",
    "import pandas as pd\n",
    "import numpy as np\n",
    "\n",
    "from src.data import util\n",
    "from joblib import load, dump\n",
    "import pickle\n",
    "\n",
    "PATH = '/Users/lucasbaier/OneDrive - KIT/Lucas Baier/Code/TaxiData_Weather/'"
   ]
  },
  {
   "cell_type": "code",
   "execution_count": 3,
   "metadata": {
    "ExecuteTime": {
     "end_time": "2020-02-13T10:02:51.242724Z",
     "start_time": "2020-02-13T10:02:51.068640Z"
    }
   },
   "outputs": [],
   "source": [
    "with open(PATH + 'results/all_predictions.pickle', 'rb') as handle:\n",
    "    predictions = pickle.load(handle)"
   ]
  },
  {
   "cell_type": "code",
   "execution_count": 4,
   "metadata": {
    "ExecuteTime": {
     "end_time": "2020-02-13T10:02:54.298587Z",
     "start_time": "2020-02-13T10:02:51.246167Z"
    }
   },
   "outputs": [],
   "source": [
    "df = util.read_all(show=False)\n",
    "regions = util.largest(20)"
   ]
  },
  {
   "cell_type": "code",
   "execution_count": 5,
   "metadata": {
    "ExecuteTime": {
     "end_time": "2020-02-13T10:02:54.309257Z",
     "start_time": "2020-02-13T10:02:54.300704Z"
    }
   },
   "outputs": [],
   "source": [
    "def compute_errors(df, name, pred):\n",
    "    results = {}\n",
    "    _pred = pred\n",
    "    results['Rmse'] = util.rmse(df, _pred)\n",
    "    results['Smape'] = util.smape(df, _pred)\n",
    "    results['Name'] = name\n",
    "    return results"
   ]
  },
  {
   "cell_type": "code",
   "execution_count": 6,
   "metadata": {
    "ExecuteTime": {
     "end_time": "2020-02-13T10:02:55.115237Z",
     "start_time": "2020-02-13T10:02:54.311005Z"
    }
   },
   "outputs": [],
   "source": [
    "results = [compute_errors(df, index, item) for index, item in predictions.items()]"
   ]
  },
  {
   "cell_type": "code",
   "execution_count": 7,
   "metadata": {
    "ExecuteTime": {
     "end_time": "2020-02-13T10:02:55.123692Z",
     "start_time": "2020-02-13T10:02:55.117343Z"
    }
   },
   "outputs": [],
   "source": [
    "results_df = pd.DataFrame.from_dict(results).set_index('Name')"
   ]
  },
  {
   "cell_type": "code",
   "execution_count": 8,
   "metadata": {
    "ExecuteTime": {
     "end_time": "2020-02-13T10:02:55.166337Z",
     "start_time": "2020-02-13T10:02:55.129257Z"
    }
   },
   "outputs": [
    {
     "data": {
      "text/html": [
       "\n",
       "\n",
       "\n",
       "\n",
       "\n",
       "\n",
       "  <div class=\"bk-root\" id=\"a78c2e96-bd2e-4f55-bf56-9f40b149bb88\" data-root-id=\"1002\"></div>\n"
      ]
     },
     "metadata": {},
     "output_type": "display_data"
    },
    {
     "data": {
      "application/javascript": [
       "(function(root) {\n",
       "  function embed_document(root) {\n",
       "    \n",
       "  var docs_json = {\"d9a2e3a1-6a58-4920-a3ee-a8eb2e3db38d\":{\"roots\":{\"references\":[{\"attributes\":{\"below\":[{\"id\":\"1013\",\"type\":\"CategoricalAxis\"}],\"center\":[{\"id\":\"1016\",\"type\":\"Grid\"},{\"id\":\"1021\",\"type\":\"Grid\"}],\"left\":[{\"id\":\"1017\",\"type\":\"LinearAxis\"}],\"plot_height\":350,\"renderers\":[{\"id\":\"1026\",\"type\":\"GlyphRenderer\"}],\"title\":{\"id\":\"1003\",\"type\":\"Title\"},\"toolbar\":{\"id\":\"1022\",\"type\":\"Toolbar\"},\"toolbar_location\":null,\"x_range\":{\"id\":\"1005\",\"type\":\"FactorRange\"},\"x_scale\":{\"id\":\"1009\",\"type\":\"CategoricalScale\"},\"y_range\":{\"id\":\"1007\",\"type\":\"Range1d\"},\"y_scale\":{\"id\":\"1011\",\"type\":\"LinearScale\"}},\"id\":\"1002\",\"subtype\":\"Figure\",\"type\":\"Plot\"},{\"attributes\":{},\"id\":\"1018\",\"type\":\"BasicTicker\"},{\"attributes\":{\"dimension\":1,\"ticker\":{\"id\":\"1018\",\"type\":\"BasicTicker\"}},\"id\":\"1021\",\"type\":\"Grid\"},{\"attributes\":{},\"id\":\"1029\",\"type\":\"BasicTickFormatter\"},{\"attributes\":{\"grid_line_color\":null,\"ticker\":{\"id\":\"1014\",\"type\":\"CategoricalTicker\"}},\"id\":\"1016\",\"type\":\"Grid\"},{\"attributes\":{},\"id\":\"1033\",\"type\":\"UnionRenderers\"},{\"attributes\":{\"callback\":null,\"factors\":[\"static_no_weather_nh_2009-2011\",\"static_weather_nh_2009-2011\",\"static_no_weather_h_2009-2011\",\"static_weather_h_2009-2011\",\"yearly_training_no_weather_3y\",\"yearly_training_weather_3y\",\"yearly_training_no_weather_h_3y\",\"yearly_training_weather_h_3y\"]},\"id\":\"1005\",\"type\":\"FactorRange\"},{\"attributes\":{\"formatter\":{\"id\":\"1029\",\"type\":\"BasicTickFormatter\"},\"ticker\":{\"id\":\"1018\",\"type\":\"BasicTicker\"}},\"id\":\"1017\",\"type\":\"LinearAxis\"},{\"attributes\":{},\"id\":\"1034\",\"type\":\"Selection\"},{\"attributes\":{\"fill_color\":{\"value\":\"#1f77b4\"},\"line_color\":{\"value\":\"#1f77b4\"},\"top\":{\"field\":\"top\"},\"width\":{\"value\":0.9},\"x\":{\"field\":\"x\"}},\"id\":\"1024\",\"type\":\"VBar\"},{\"attributes\":{\"source\":{\"id\":\"1023\",\"type\":\"ColumnDataSource\"}},\"id\":\"1027\",\"type\":\"CDSView\"},{\"attributes\":{},\"id\":\"1014\",\"type\":\"CategoricalTicker\"},{\"attributes\":{},\"id\":\"1031\",\"type\":\"CategoricalTickFormatter\"},{\"attributes\":{\"active_drag\":\"auto\",\"active_inspect\":\"auto\",\"active_multi\":null,\"active_scroll\":\"auto\",\"active_tap\":\"auto\"},\"id\":\"1022\",\"type\":\"Toolbar\"},{\"attributes\":{\"fill_alpha\":{\"value\":0.1},\"fill_color\":{\"value\":\"#1f77b4\"},\"line_alpha\":{\"value\":0.1},\"line_color\":{\"value\":\"#1f77b4\"},\"top\":{\"field\":\"top\"},\"width\":{\"value\":0.9},\"x\":{\"field\":\"x\"}},\"id\":\"1025\",\"type\":\"VBar\"},{\"attributes\":{\"text\":\"Results\"},\"id\":\"1003\",\"type\":\"Title\"},{\"attributes\":{\"formatter\":{\"id\":\"1031\",\"type\":\"CategoricalTickFormatter\"},\"major_label_orientation\":7,\"ticker\":{\"id\":\"1014\",\"type\":\"CategoricalTicker\"}},\"id\":\"1013\",\"type\":\"CategoricalAxis\"},{\"attributes\":{\"callback\":null,\"data\":{\"top\":{\"__ndarray__\":\"OCm2ZXD5TUAgZNHhmNxNQPAc3vdCU05AW2PCx9J/TkCYBbOviYdMQAGuMhgIjUxA+ShhPMwLTUCmPp8LQvZMQA==\",\"dtype\":\"float64\",\"shape\":[8]},\"x\":[\"static_no_weather_nh_2009-2011\",\"static_weather_nh_2009-2011\",\"static_no_weather_h_2009-2011\",\"static_weather_h_2009-2011\",\"yearly_training_no_weather_3y\",\"yearly_training_weather_3y\",\"yearly_training_no_weather_h_3y\",\"yearly_training_weather_h_3y\"]},\"selected\":{\"id\":\"1034\",\"type\":\"Selection\"},\"selection_policy\":{\"id\":\"1033\",\"type\":\"UnionRenderers\"}},\"id\":\"1023\",\"type\":\"ColumnDataSource\"},{\"attributes\":{},\"id\":\"1011\",\"type\":\"LinearScale\"},{\"attributes\":{\"data_source\":{\"id\":\"1023\",\"type\":\"ColumnDataSource\"},\"glyph\":{\"id\":\"1024\",\"type\":\"VBar\"},\"hover_glyph\":null,\"muted_glyph\":null,\"nonselection_glyph\":{\"id\":\"1025\",\"type\":\"VBar\"},\"selection_glyph\":null,\"view\":{\"id\":\"1027\",\"type\":\"CDSView\"}},\"id\":\"1026\",\"type\":\"GlyphRenderer\"},{\"attributes\":{},\"id\":\"1009\",\"type\":\"CategoricalScale\"},{\"attributes\":{\"callback\":null,\"end\":62,\"start\":56},\"id\":\"1007\",\"type\":\"Range1d\"}],\"root_ids\":[\"1002\"]},\"title\":\"Bokeh Application\",\"version\":\"1.4.0\"}};\n",
       "  var render_items = [{\"docid\":\"d9a2e3a1-6a58-4920-a3ee-a8eb2e3db38d\",\"roots\":{\"1002\":\"a78c2e96-bd2e-4f55-bf56-9f40b149bb88\"}}];\n",
       "  root.Bokeh.embed.embed_items_notebook(docs_json, render_items);\n",
       "\n",
       "  }\n",
       "  if (root.Bokeh !== undefined) {\n",
       "    embed_document(root);\n",
       "  } else {\n",
       "    var attempts = 0;\n",
       "    var timer = setInterval(function(root) {\n",
       "      if (root.Bokeh !== undefined) {\n",
       "        clearInterval(timer);\n",
       "        embed_document(root);\n",
       "      } else {\n",
       "        attempts++;\n",
       "        if (attempts > 100) {\n",
       "          clearInterval(timer);\n",
       "          console.log(\"Bokeh: ERROR: Unable to run BokehJS code because BokehJS library is missing\");\n",
       "        }\n",
       "      }\n",
       "    }, 10, root)\n",
       "  }\n",
       "})(window);"
      ],
      "application/vnd.bokehjs_exec.v0+json": ""
     },
     "metadata": {
      "application/vnd.bokehjs_exec.v0+json": {
       "id": "1002"
      }
     },
     "output_type": "display_data"
    }
   ],
   "source": [
    "p = figure(x_range=results_df.index.values, plot_height=350, title=\"Results\", y_range = (56,62),\n",
    "           toolbar_location=None, tools=\"\")\n",
    "\n",
    "p.vbar(x=results_df.index.values, top=results_df.Rmse.values, width=0.9)\n",
    "#p.vbar(x=results_df.index.values, top=results_df.Smape.values, width=0.9)\n",
    "\n",
    "p.xgrid.grid_line_color = None\n",
    "p.xaxis.major_label_orientation = 7\n",
    "#p.y_range.start = 56\n",
    "#p.y_range.end = 62\n",
    "\n",
    "show(p)"
   ]
  },
  {
   "cell_type": "code",
   "execution_count": 9,
   "metadata": {
    "ExecuteTime": {
     "end_time": "2020-02-13T10:02:55.182473Z",
     "start_time": "2020-02-13T10:02:55.171254Z"
    }
   },
   "outputs": [
    {
     "data": {
      "text/plain": [
       "array(['static_no_weather_nh_2009-2011', 'static_weather_nh_2009-2011',\n",
       "       'static_no_weather_h_2009-2011', 'static_weather_h_2009-2011',\n",
       "       'yearly_training_no_weather_3y', 'yearly_training_weather_3y',\n",
       "       'yearly_training_no_weather_h_3y', 'yearly_training_weather_h_3y'],\n",
       "      dtype=object)"
      ]
     },
     "execution_count": 9,
     "metadata": {},
     "output_type": "execute_result"
    }
   ],
   "source": [
    "results_df.index.values"
   ]
  },
  {
   "cell_type": "code",
   "execution_count": 10,
   "metadata": {
    "ExecuteTime": {
     "end_time": "2020-02-13T10:02:55.195917Z",
     "start_time": "2020-02-13T10:02:55.188273Z"
    }
   },
   "outputs": [],
   "source": [
    "def compute_yearly_errors(df, name, pred):\n",
    "    _pred = pred\n",
    "    rmse = []\n",
    "    smape = []\n",
    "    year = []\n",
    "    results = {}\n",
    "    for i in range(2012, 2019):\n",
    "        pred_year = _pred.loc[_pred.index.year == i]\n",
    "        rmse.append(util.rmse(df, pred_year))\n",
    "        smape.append(util.smape(df, pred_year))\n",
    "        year.append(i)\n",
    "\n",
    "    results['Name'] = name\n",
    "    results['Rmse'] = rmse\n",
    "    results['Smape'] = smape\n",
    "    results['Year'] = year\n",
    "    return(results)"
   ]
  },
  {
   "cell_type": "code",
   "execution_count": 11,
   "metadata": {
    "ExecuteTime": {
     "end_time": "2020-02-13T10:02:57.703591Z",
     "start_time": "2020-02-13T10:02:55.201889Z"
    }
   },
   "outputs": [],
   "source": [
    "results = [compute_yearly_errors(df, index, item) for index, item in predictions.items()]"
   ]
  },
  {
   "cell_type": "code",
   "execution_count": 12,
   "metadata": {
    "ExecuteTime": {
     "end_time": "2020-02-13T10:02:57.716725Z",
     "start_time": "2020-02-13T10:02:57.705431Z"
    }
   },
   "outputs": [],
   "source": [
    "def create_df_yearly(errors, metric):\n",
    "    results_metric = [pd.Series(data = i[metric], index = i['Year'], name= i['Name']) for i in errors]\n",
    "    df = pd.concat(results_metric, axis = 1)\n",
    "    return df\n"
   ]
  },
  {
   "cell_type": "code",
   "execution_count": 13,
   "metadata": {
    "ExecuteTime": {
     "end_time": "2020-02-13T10:02:57.735790Z",
     "start_time": "2020-02-13T10:02:57.722816Z"
    }
   },
   "outputs": [],
   "source": [
    "results_df_yearly = create_df_yearly(results, 'Rmse')\n",
    "results_df_yearly['Year'] = results_df_yearly.index\n",
    "source = ColumnDataSource(results_df_yearly)"
   ]
  },
  {
   "cell_type": "code",
   "execution_count": 14,
   "metadata": {
    "ExecuteTime": {
     "end_time": "2020-02-13T10:02:57.815383Z",
     "start_time": "2020-02-13T10:02:57.737713Z"
    }
   },
   "outputs": [
    {
     "data": {
      "text/html": [
       "\n",
       "\n",
       "\n",
       "\n",
       "\n",
       "\n",
       "  <div class=\"bk-root\" id=\"6447e26e-d5d1-4da3-acc1-1753ae7bf03d\" data-root-id=\"1078\"></div>\n"
      ]
     },
     "metadata": {},
     "output_type": "display_data"
    },
    {
     "data": {
      "application/javascript": [
       "(function(root) {\n",
       "  function embed_document(root) {\n",
       "    \n",
       "  var docs_json = {\"950e3c8a-2f73-429d-ad22-9b63461ae460\":{\"roots\":{\"references\":[{\"attributes\":{\"below\":[{\"id\":\"1087\",\"type\":\"LinearAxis\"}],\"center\":[{\"id\":\"1091\",\"type\":\"Grid\"},{\"id\":\"1096\",\"type\":\"Grid\"},{\"id\":\"1122\",\"type\":\"Legend\"}],\"left\":[{\"id\":\"1092\",\"type\":\"LinearAxis\"}],\"plot_height\":400,\"renderers\":[{\"id\":\"1113\",\"type\":\"GlyphRenderer\"},{\"id\":\"1127\",\"type\":\"GlyphRenderer\"},{\"id\":\"1142\",\"type\":\"GlyphRenderer\"},{\"id\":\"1157\",\"type\":\"GlyphRenderer\"},{\"id\":\"1172\",\"type\":\"GlyphRenderer\"},{\"id\":\"1187\",\"type\":\"GlyphRenderer\"},{\"id\":\"1202\",\"type\":\"GlyphRenderer\"},{\"id\":\"1217\",\"type\":\"GlyphRenderer\"}],\"title\":{\"id\":\"1115\",\"type\":\"Title\"},\"toolbar\":{\"id\":\"1103\",\"type\":\"Toolbar\"},\"x_range\":{\"id\":\"1079\",\"type\":\"DataRange1d\"},\"x_scale\":{\"id\":\"1083\",\"type\":\"LinearScale\"},\"y_range\":{\"id\":\"1081\",\"type\":\"DataRange1d\"},\"y_scale\":{\"id\":\"1085\",\"type\":\"LinearScale\"}},\"id\":\"1078\",\"subtype\":\"Figure\",\"type\":\"Plot\"},{\"attributes\":{\"source\":{\"id\":\"1077\",\"type\":\"ColumnDataSource\"}},\"id\":\"1158\",\"type\":\"CDSView\"},{\"attributes\":{},\"id\":\"1136\",\"type\":\"Selection\"},{\"attributes\":{\"label\":{\"value\":\"static_weather_nh_2009-2011\"},\"renderers\":[{\"id\":\"1127\",\"type\":\"GlyphRenderer\"}]},\"id\":\"1138\",\"type\":\"LegendItem\"},{\"attributes\":{\"data_source\":{\"id\":\"1077\",\"type\":\"ColumnDataSource\"},\"glyph\":{\"id\":\"1125\",\"type\":\"Line\"},\"hover_glyph\":null,\"muted_glyph\":null,\"nonselection_glyph\":{\"id\":\"1126\",\"type\":\"Line\"},\"selection_glyph\":null,\"view\":{\"id\":\"1128\",\"type\":\"CDSView\"}},\"id\":\"1127\",\"type\":\"GlyphRenderer\"},{\"attributes\":{\"line_alpha\":0.1,\"line_color\":\"#1f77b4\",\"line_width\":2,\"x\":{\"field\":\"Year\"},\"y\":{\"field\":\"yearly_training_weather_h_3y\"}},\"id\":\"1216\",\"type\":\"Line\"},{\"attributes\":{},\"id\":\"1102\",\"type\":\"HelpTool\"},{\"attributes\":{\"data_source\":{\"id\":\"1077\",\"type\":\"ColumnDataSource\"},\"glyph\":{\"id\":\"1215\",\"type\":\"Line\"},\"hover_glyph\":null,\"muted_glyph\":null,\"nonselection_glyph\":{\"id\":\"1216\",\"type\":\"Line\"},\"selection_glyph\":null,\"view\":{\"id\":\"1218\",\"type\":\"CDSView\"}},\"id\":\"1217\",\"type\":\"GlyphRenderer\"},{\"attributes\":{\"line_alpha\":0.1,\"line_color\":\"#1f77b4\",\"line_width\":2,\"x\":{\"field\":\"Year\"},\"y\":{\"field\":\"static_weather_nh_2009-2011\"}},\"id\":\"1126\",\"type\":\"Line\"},{\"attributes\":{\"line_color\":\"#fee08b\",\"line_width\":2,\"x\":{\"field\":\"Year\"},\"y\":{\"field\":\"yearly_training_no_weather_3y\"}},\"id\":\"1170\",\"type\":\"Line\"},{\"attributes\":{\"data_source\":{\"id\":\"1077\",\"type\":\"ColumnDataSource\"},\"glyph\":{\"id\":\"1170\",\"type\":\"Line\"},\"hover_glyph\":null,\"muted_glyph\":null,\"nonselection_glyph\":{\"id\":\"1171\",\"type\":\"Line\"},\"selection_glyph\":null,\"view\":{\"id\":\"1173\",\"type\":\"CDSView\"}},\"id\":\"1172\",\"type\":\"GlyphRenderer\"},{\"attributes\":{},\"id\":\"1135\",\"type\":\"UnionRenderers\"},{\"attributes\":{},\"id\":\"1097\",\"type\":\"PanTool\"},{\"attributes\":{\"line_alpha\":0.1,\"line_color\":\"#1f77b4\",\"line_width\":2,\"x\":{\"field\":\"Year\"},\"y\":{\"field\":\"yearly_training_no_weather_3y\"}},\"id\":\"1171\",\"type\":\"Line\"},{\"attributes\":{},\"id\":\"1119\",\"type\":\"BasicTickFormatter\"},{\"attributes\":{\"click_policy\":\"hide\",\"items\":[{\"id\":\"1123\",\"type\":\"LegendItem\"},{\"id\":\"1138\",\"type\":\"LegendItem\"},{\"id\":\"1153\",\"type\":\"LegendItem\"},{\"id\":\"1168\",\"type\":\"LegendItem\"},{\"id\":\"1183\",\"type\":\"LegendItem\"},{\"id\":\"1198\",\"type\":\"LegendItem\"},{\"id\":\"1213\",\"type\":\"LegendItem\"},{\"id\":\"1228\",\"type\":\"LegendItem\"}],\"location\":\"bottom_left\"},\"id\":\"1122\",\"type\":\"Legend\"},{\"attributes\":{\"source\":{\"id\":\"1077\",\"type\":\"ColumnDataSource\"}},\"id\":\"1218\",\"type\":\"CDSView\"},{\"attributes\":{},\"id\":\"1098\",\"type\":\"WheelZoomTool\"},{\"attributes\":{\"callback\":null},\"id\":\"1079\",\"type\":\"DataRange1d\"},{\"attributes\":{\"active_drag\":\"auto\",\"active_inspect\":\"auto\",\"active_multi\":null,\"active_scroll\":\"auto\",\"active_tap\":\"auto\",\"tools\":[{\"id\":\"1097\",\"type\":\"PanTool\"},{\"id\":\"1098\",\"type\":\"WheelZoomTool\"},{\"id\":\"1099\",\"type\":\"BoxZoomTool\"},{\"id\":\"1100\",\"type\":\"SaveTool\"},{\"id\":\"1101\",\"type\":\"ResetTool\"},{\"id\":\"1102\",\"type\":\"HelpTool\"}]},\"id\":\"1103\",\"type\":\"Toolbar\"},{\"attributes\":{\"callback\":null,\"data\":{\"Year\":[2012,2013,2014,2015,2016,2017,2018],\"index\":[2012,2013,2014,2015,2016,2017,2018],\"static_no_weather_h_2009-2011\":{\"__ndarray__\":\"0qpwHIIwUEB7GBw/nfNPQAjhtqqX9E5AELSE+Dx1TUCRDuM1tVhMQGZs2oK2rE1A8z0qKIcyTEA=\",\"dtype\":\"float64\",\"shape\":[7]},\"static_no_weather_nh_2009-2011\":{\"__ndarray__\":\"ABttVXYsT0BwVkh2KRBQQLcR537PE09AuTRH2+q4TUDOOWNGApZMQIxFsoZf00tAXVDb9qcbTEA=\",\"dtype\":\"float64\",\"shape\":[7]},\"static_weather_h_2009-2011\":{\"__ndarray__\":\"17shcjkgUEByInghDxxQQE51OWI9PU9Av8Jmorm7TUAGR1lZcyFNQO5Xkp+yEk1Ay6TIo4vETEA=\",\"dtype\":\"float64\",\"shape\":[7]},\"static_weather_nh_2009-2011\":{\"__ndarray__\":\"Pb6+WqoIT0Bu9J8NmMJPQI8VlUcaz05Ax01UmleHTUDF3ReWFpBMQJXrvntH9UtAH5YPwrZ5TEA=\",\"dtype\":\"float64\",\"shape\":[7]},\"yearly_training_no_weather_3y\":{\"__ndarray__\":\"ABttVXYsT0DPhkqaXl5PQH7WngVcTk5Aap7v6sY8TECuUEM9nrtKQMQbMjNHx0hA008ji8UMSEA=\",\"dtype\":\"float64\",\"shape\":[7]},\"yearly_training_no_weather_h_3y\":{\"__ndarray__\":\"0qpwHIIwUECBjyvYGcdPQGJ/3Q9qCk5AvnCaKR61TECmUBzqOipLQFO/N4PQyUlACrBvKFtISEA=\",\"dtype\":\"float64\",\"shape\":[7]},\"yearly_training_weather_3y\":{\"__ndarray__\":\"Pb6+WqoIT0C0NmJ+2FpPQGqaRgBwQk5A4gQ3OEWNTEAdb+/y/w5LQA0QwbpwekhAHyYVDtwJSEA=\",\"dtype\":\"float64\",\"shape\":[7]},\"yearly_training_weather_h_3y\":{\"__ndarray__\":\"17shcjkgUECy5bebp6NPQAuvTyL17E1Az8+qoAxuTEAgnOwZKqtLQPMcPqpFaklAzE1l0r9CSEA=\",\"dtype\":\"float64\",\"shape\":[7]}},\"selected\":{\"id\":\"1136\",\"type\":\"Selection\"},\"selection_policy\":{\"id\":\"1135\",\"type\":\"UnionRenderers\"}},\"id\":\"1077\",\"type\":\"ColumnDataSource\"},{\"attributes\":{\"overlay\":{\"id\":\"1121\",\"type\":\"BoxAnnotation\"}},\"id\":\"1099\",\"type\":\"BoxZoomTool\"},{\"attributes\":{},\"id\":\"1100\",\"type\":\"SaveTool\"},{\"attributes\":{\"source\":{\"id\":\"1077\",\"type\":\"ColumnDataSource\"}},\"id\":\"1173\",\"type\":\"CDSView\"},{\"attributes\":{\"line_color\":\"#fdae61\",\"line_width\":2,\"x\":{\"field\":\"Year\"},\"y\":{\"field\":\"yearly_training_weather_3y\"}},\"id\":\"1185\",\"type\":\"Line\"},{\"attributes\":{\"label\":{\"value\":\"yearly_training_weather_h_3y\"},\"renderers\":[{\"id\":\"1217\",\"type\":\"GlyphRenderer\"}]},\"id\":\"1228\",\"type\":\"LegendItem\"},{\"attributes\":{\"line_color\":\"#3288bd\",\"line_width\":2,\"x\":{\"field\":\"Year\"},\"y\":{\"field\":\"static_no_weather_nh_2009-2011\"}},\"id\":\"1111\",\"type\":\"Line\"},{\"attributes\":{\"callback\":null},\"id\":\"1081\",\"type\":\"DataRange1d\"},{\"attributes\":{},\"id\":\"1083\",\"type\":\"LinearScale\"},{\"attributes\":{\"line_color\":\"#f46d43\",\"line_width\":2,\"x\":{\"field\":\"Year\"},\"y\":{\"field\":\"yearly_training_no_weather_h_3y\"}},\"id\":\"1200\",\"type\":\"Line\"},{\"attributes\":{\"label\":{\"value\":\"yearly_training_no_weather_3y\"},\"renderers\":[{\"id\":\"1172\",\"type\":\"GlyphRenderer\"}]},\"id\":\"1183\",\"type\":\"LegendItem\"},{\"attributes\":{\"line_alpha\":0.1,\"line_color\":\"#1f77b4\",\"line_width\":2,\"x\":{\"field\":\"Year\"},\"y\":{\"field\":\"static_no_weather_h_2009-2011\"}},\"id\":\"1141\",\"type\":\"Line\"},{\"attributes\":{\"data_source\":{\"id\":\"1077\",\"type\":\"ColumnDataSource\"},\"glyph\":{\"id\":\"1140\",\"type\":\"Line\"},\"hover_glyph\":null,\"muted_glyph\":null,\"nonselection_glyph\":{\"id\":\"1141\",\"type\":\"Line\"},\"selection_glyph\":null,\"view\":{\"id\":\"1143\",\"type\":\"CDSView\"}},\"id\":\"1142\",\"type\":\"GlyphRenderer\"},{\"attributes\":{\"data_source\":{\"id\":\"1077\",\"type\":\"ColumnDataSource\"},\"glyph\":{\"id\":\"1111\",\"type\":\"Line\"},\"hover_glyph\":null,\"muted_glyph\":null,\"nonselection_glyph\":{\"id\":\"1112\",\"type\":\"Line\"},\"selection_glyph\":null,\"view\":{\"id\":\"1114\",\"type\":\"CDSView\"}},\"id\":\"1113\",\"type\":\"GlyphRenderer\"},{\"attributes\":{\"data_source\":{\"id\":\"1077\",\"type\":\"ColumnDataSource\"},\"glyph\":{\"id\":\"1200\",\"type\":\"Line\"},\"hover_glyph\":null,\"muted_glyph\":null,\"nonselection_glyph\":{\"id\":\"1201\",\"type\":\"Line\"},\"selection_glyph\":null,\"view\":{\"id\":\"1203\",\"type\":\"CDSView\"}},\"id\":\"1202\",\"type\":\"GlyphRenderer\"},{\"attributes\":{},\"id\":\"1117\",\"type\":\"BasicTickFormatter\"},{\"attributes\":{\"line_alpha\":0.1,\"line_color\":\"#1f77b4\",\"line_width\":2,\"x\":{\"field\":\"Year\"},\"y\":{\"field\":\"static_no_weather_nh_2009-2011\"}},\"id\":\"1112\",\"type\":\"Line\"},{\"attributes\":{\"line_alpha\":0.1,\"line_color\":\"#1f77b4\",\"line_width\":2,\"x\":{\"field\":\"Year\"},\"y\":{\"field\":\"yearly_training_weather_3y\"}},\"id\":\"1186\",\"type\":\"Line\"},{\"attributes\":{\"label\":{\"value\":\"static_weather_h_2009-2011\"},\"renderers\":[{\"id\":\"1157\",\"type\":\"GlyphRenderer\"}]},\"id\":\"1168\",\"type\":\"LegendItem\"},{\"attributes\":{\"formatter\":{\"id\":\"1119\",\"type\":\"BasicTickFormatter\"},\"ticker\":{\"id\":\"1088\",\"type\":\"BasicTicker\"}},\"id\":\"1087\",\"type\":\"LinearAxis\"},{\"attributes\":{\"source\":{\"id\":\"1077\",\"type\":\"ColumnDataSource\"}},\"id\":\"1188\",\"type\":\"CDSView\"},{\"attributes\":{\"label\":{\"value\":\"yearly_training_weather_3y\"},\"renderers\":[{\"id\":\"1187\",\"type\":\"GlyphRenderer\"}]},\"id\":\"1198\",\"type\":\"LegendItem\"},{\"attributes\":{\"data_source\":{\"id\":\"1077\",\"type\":\"ColumnDataSource\"},\"glyph\":{\"id\":\"1185\",\"type\":\"Line\"},\"hover_glyph\":null,\"muted_glyph\":null,\"nonselection_glyph\":{\"id\":\"1186\",\"type\":\"Line\"},\"selection_glyph\":null,\"view\":{\"id\":\"1188\",\"type\":\"CDSView\"}},\"id\":\"1187\",\"type\":\"GlyphRenderer\"},{\"attributes\":{},\"id\":\"1085\",\"type\":\"LinearScale\"},{\"attributes\":{\"source\":{\"id\":\"1077\",\"type\":\"ColumnDataSource\"}},\"id\":\"1114\",\"type\":\"CDSView\"},{\"attributes\":{\"source\":{\"id\":\"1077\",\"type\":\"ColumnDataSource\"}},\"id\":\"1143\",\"type\":\"CDSView\"},{\"attributes\":{\"ticker\":{\"id\":\"1088\",\"type\":\"BasicTicker\"}},\"id\":\"1091\",\"type\":\"Grid\"},{\"attributes\":{\"line_color\":\"#e6f598\",\"line_width\":2,\"x\":{\"field\":\"Year\"},\"y\":{\"field\":\"static_weather_h_2009-2011\"}},\"id\":\"1155\",\"type\":\"Line\"},{\"attributes\":{\"text\":\"Development of RMSE over time\"},\"id\":\"1115\",\"type\":\"Title\"},{\"attributes\":{\"line_alpha\":0.1,\"line_color\":\"#1f77b4\",\"line_width\":2,\"x\":{\"field\":\"Year\"},\"y\":{\"field\":\"yearly_training_no_weather_h_3y\"}},\"id\":\"1201\",\"type\":\"Line\"},{\"attributes\":{},\"id\":\"1093\",\"type\":\"BasicTicker\"},{\"attributes\":{\"label\":{\"value\":\"yearly_training_no_weather_h_3y\"},\"renderers\":[{\"id\":\"1202\",\"type\":\"GlyphRenderer\"}]},\"id\":\"1213\",\"type\":\"LegendItem\"},{\"attributes\":{},\"id\":\"1088\",\"type\":\"BasicTicker\"},{\"attributes\":{\"label\":{\"value\":\"static_no_weather_h_2009-2011\"},\"renderers\":[{\"id\":\"1142\",\"type\":\"GlyphRenderer\"}]},\"id\":\"1153\",\"type\":\"LegendItem\"},{\"attributes\":{\"source\":{\"id\":\"1077\",\"type\":\"ColumnDataSource\"}},\"id\":\"1128\",\"type\":\"CDSView\"},{\"attributes\":{\"line_color\":\"#d53e4f\",\"line_width\":2,\"x\":{\"field\":\"Year\"},\"y\":{\"field\":\"yearly_training_weather_h_3y\"}},\"id\":\"1215\",\"type\":\"Line\"},{\"attributes\":{\"data_source\":{\"id\":\"1077\",\"type\":\"ColumnDataSource\"},\"glyph\":{\"id\":\"1155\",\"type\":\"Line\"},\"hover_glyph\":null,\"muted_glyph\":null,\"nonselection_glyph\":{\"id\":\"1156\",\"type\":\"Line\"},\"selection_glyph\":null,\"view\":{\"id\":\"1158\",\"type\":\"CDSView\"}},\"id\":\"1157\",\"type\":\"GlyphRenderer\"},{\"attributes\":{\"dimension\":1,\"ticker\":{\"id\":\"1093\",\"type\":\"BasicTicker\"}},\"id\":\"1096\",\"type\":\"Grid\"},{\"attributes\":{\"line_color\":\"#66c2a5\",\"line_width\":2,\"x\":{\"field\":\"Year\"},\"y\":{\"field\":\"static_weather_nh_2009-2011\"}},\"id\":\"1125\",\"type\":\"Line\"},{\"attributes\":{\"axis_label\":\"RMSE\",\"formatter\":{\"id\":\"1117\",\"type\":\"BasicTickFormatter\"},\"ticker\":{\"id\":\"1093\",\"type\":\"BasicTicker\"}},\"id\":\"1092\",\"type\":\"LinearAxis\"},{\"attributes\":{\"source\":{\"id\":\"1077\",\"type\":\"ColumnDataSource\"}},\"id\":\"1203\",\"type\":\"CDSView\"},{\"attributes\":{},\"id\":\"1101\",\"type\":\"ResetTool\"},{\"attributes\":{\"line_color\":\"#abdda4\",\"line_width\":2,\"x\":{\"field\":\"Year\"},\"y\":{\"field\":\"static_no_weather_h_2009-2011\"}},\"id\":\"1140\",\"type\":\"Line\"},{\"attributes\":{\"line_alpha\":0.1,\"line_color\":\"#1f77b4\",\"line_width\":2,\"x\":{\"field\":\"Year\"},\"y\":{\"field\":\"static_weather_h_2009-2011\"}},\"id\":\"1156\",\"type\":\"Line\"},{\"attributes\":{\"label\":{\"value\":\"static_no_weather_nh_2009-2011\"},\"renderers\":[{\"id\":\"1113\",\"type\":\"GlyphRenderer\"}]},\"id\":\"1123\",\"type\":\"LegendItem\"},{\"attributes\":{\"bottom_units\":\"screen\",\"fill_alpha\":{\"value\":0.5},\"fill_color\":{\"value\":\"lightgrey\"},\"left_units\":\"screen\",\"level\":\"overlay\",\"line_alpha\":{\"value\":1.0},\"line_color\":{\"value\":\"black\"},\"line_dash\":[4,4],\"line_width\":{\"value\":2},\"render_mode\":\"css\",\"right_units\":\"screen\",\"top_units\":\"screen\"},\"id\":\"1121\",\"type\":\"BoxAnnotation\"}],\"root_ids\":[\"1078\"]},\"title\":\"Bokeh Application\",\"version\":\"1.4.0\"}};\n",
       "  var render_items = [{\"docid\":\"950e3c8a-2f73-429d-ad22-9b63461ae460\",\"roots\":{\"1078\":\"6447e26e-d5d1-4da3-acc1-1753ae7bf03d\"}}];\n",
       "  root.Bokeh.embed.embed_items_notebook(docs_json, render_items);\n",
       "\n",
       "  }\n",
       "  if (root.Bokeh !== undefined) {\n",
       "    embed_document(root);\n",
       "  } else {\n",
       "    var attempts = 0;\n",
       "    var timer = setInterval(function(root) {\n",
       "      if (root.Bokeh !== undefined) {\n",
       "        clearInterval(timer);\n",
       "        embed_document(root);\n",
       "      } else {\n",
       "        attempts++;\n",
       "        if (attempts > 100) {\n",
       "          clearInterval(timer);\n",
       "          console.log(\"Bokeh: ERROR: Unable to run BokehJS code because BokehJS library is missing\");\n",
       "        }\n",
       "      }\n",
       "    }, 10, root)\n",
       "  }\n",
       "})(window);"
      ],
      "application/vnd.bokehjs_exec.v0+json": ""
     },
     "metadata": {
      "application/vnd.bokehjs_exec.v0+json": {
       "id": "1078"
      }
     },
     "output_type": "display_data"
    }
   ],
   "source": [
    "from bokeh.palettes import Spectral8\n",
    "\n",
    "p = figure(plot_width=600, plot_height=400)\n",
    "\n",
    "for i, name in enumerate(results_df_yearly.columns[:-1]):\n",
    "    p.line(x = 'Year', y=name, line_width=2, source=source, legend_label=name, color = Spectral8[i])\n",
    "\n",
    "p.yaxis.axis_label = 'RMSE'\n",
    "p.title.text = 'Development of RMSE over time'\n",
    "\n",
    "p.legend.location = 'bottom_left'\n",
    "p.legend.click_policy=\"hide\"\n",
    "\n",
    "show(p)"
   ]
  },
  {
   "cell_type": "code",
   "execution_count": 15,
   "metadata": {
    "ExecuteTime": {
     "end_time": "2020-02-13T10:02:57.833698Z",
     "start_time": "2020-02-13T10:02:57.818764Z"
    }
   },
   "outputs": [],
   "source": [
    "results_df_yearly_smape = create_df_yearly(results, 'Smape')\n",
    "results_df_yearly_smape['Year'] = results_df_yearly_smape.index\n",
    "source_smape = ColumnDataSource(results_df_yearly_smape)"
   ]
  },
  {
   "cell_type": "code",
   "execution_count": 16,
   "metadata": {
    "ExecuteTime": {
     "end_time": "2020-02-13T10:02:57.944327Z",
     "start_time": "2020-02-13T10:02:57.837877Z"
    }
   },
   "outputs": [
    {
     "data": {
      "text/html": [
       "\n",
       "\n",
       "\n",
       "\n",
       "\n",
       "\n",
       "  <div class=\"bk-root\" id=\"cd6e9775-d54a-428c-b89f-a6b99305fc18\" data-root-id=\"1301\"></div>\n"
      ]
     },
     "metadata": {},
     "output_type": "display_data"
    },
    {
     "data": {
      "application/javascript": [
       "(function(root) {\n",
       "  function embed_document(root) {\n",
       "    \n",
       "  var docs_json = {\"74a1ed3b-3a89-4a54-b344-2b03add5066e\":{\"roots\":{\"references\":[{\"attributes\":{\"below\":[{\"id\":\"1310\",\"type\":\"LinearAxis\"}],\"center\":[{\"id\":\"1314\",\"type\":\"Grid\"},{\"id\":\"1319\",\"type\":\"Grid\"},{\"id\":\"1345\",\"type\":\"Legend\"}],\"left\":[{\"id\":\"1315\",\"type\":\"LinearAxis\"}],\"plot_height\":400,\"renderers\":[{\"id\":\"1336\",\"type\":\"GlyphRenderer\"},{\"id\":\"1350\",\"type\":\"GlyphRenderer\"},{\"id\":\"1365\",\"type\":\"GlyphRenderer\"},{\"id\":\"1380\",\"type\":\"GlyphRenderer\"},{\"id\":\"1395\",\"type\":\"GlyphRenderer\"},{\"id\":\"1410\",\"type\":\"GlyphRenderer\"},{\"id\":\"1425\",\"type\":\"GlyphRenderer\"},{\"id\":\"1440\",\"type\":\"GlyphRenderer\"}],\"title\":{\"id\":\"1338\",\"type\":\"Title\"},\"toolbar\":{\"id\":\"1326\",\"type\":\"Toolbar\"},\"x_range\":{\"id\":\"1302\",\"type\":\"DataRange1d\"},\"x_scale\":{\"id\":\"1306\",\"type\":\"LinearScale\"},\"y_range\":{\"id\":\"1304\",\"type\":\"DataRange1d\"},\"y_scale\":{\"id\":\"1308\",\"type\":\"LinearScale\"}},\"id\":\"1301\",\"subtype\":\"Figure\",\"type\":\"Plot\"},{\"attributes\":{\"formatter\":{\"id\":\"1342\",\"type\":\"BasicTickFormatter\"},\"ticker\":{\"id\":\"1311\",\"type\":\"BasicTicker\"}},\"id\":\"1310\",\"type\":\"LinearAxis\"},{\"attributes\":{\"source\":{\"id\":\"1300\",\"type\":\"ColumnDataSource\"}},\"id\":\"1366\",\"type\":\"CDSView\"},{\"attributes\":{\"label\":{\"value\":\"yearly_training_no_weather_3y\"},\"renderers\":[{\"id\":\"1395\",\"type\":\"GlyphRenderer\"}]},\"id\":\"1406\",\"type\":\"LegendItem\"},{\"attributes\":{\"active_drag\":\"auto\",\"active_inspect\":\"auto\",\"active_multi\":null,\"active_scroll\":\"auto\",\"active_tap\":\"auto\",\"tools\":[{\"id\":\"1320\",\"type\":\"PanTool\"},{\"id\":\"1321\",\"type\":\"WheelZoomTool\"},{\"id\":\"1322\",\"type\":\"BoxZoomTool\"},{\"id\":\"1323\",\"type\":\"SaveTool\"},{\"id\":\"1324\",\"type\":\"ResetTool\"},{\"id\":\"1325\",\"type\":\"HelpTool\"}]},\"id\":\"1326\",\"type\":\"Toolbar\"},{\"attributes\":{\"source\":{\"id\":\"1300\",\"type\":\"ColumnDataSource\"}},\"id\":\"1351\",\"type\":\"CDSView\"},{\"attributes\":{\"line_color\":\"#abdda4\",\"line_width\":2,\"x\":{\"field\":\"Year\"},\"y\":{\"field\":\"static_no_weather_h_2009-2011\"}},\"id\":\"1363\",\"type\":\"Line\"},{\"attributes\":{\"line_color\":\"#fdae61\",\"line_width\":2,\"x\":{\"field\":\"Year\"},\"y\":{\"field\":\"yearly_training_weather_3y\"}},\"id\":\"1408\",\"type\":\"Line\"},{\"attributes\":{},\"id\":\"1316\",\"type\":\"BasicTicker\"},{\"attributes\":{},\"id\":\"1311\",\"type\":\"BasicTicker\"},{\"attributes\":{\"line_alpha\":0.1,\"line_color\":\"#1f77b4\",\"line_width\":2,\"x\":{\"field\":\"Year\"},\"y\":{\"field\":\"yearly_training_weather_3y\"}},\"id\":\"1409\",\"type\":\"Line\"},{\"attributes\":{\"label\":{\"value\":\"static_weather_nh_2009-2011\"},\"renderers\":[{\"id\":\"1350\",\"type\":\"GlyphRenderer\"}]},\"id\":\"1361\",\"type\":\"LegendItem\"},{\"attributes\":{\"label\":{\"value\":\"static_no_weather_h_2009-2011\"},\"renderers\":[{\"id\":\"1365\",\"type\":\"GlyphRenderer\"}]},\"id\":\"1376\",\"type\":\"LegendItem\"},{\"attributes\":{\"ticker\":{\"id\":\"1311\",\"type\":\"BasicTicker\"}},\"id\":\"1314\",\"type\":\"Grid\"},{\"attributes\":{\"source\":{\"id\":\"1300\",\"type\":\"ColumnDataSource\"}},\"id\":\"1337\",\"type\":\"CDSView\"},{\"attributes\":{},\"id\":\"1325\",\"type\":\"HelpTool\"},{\"attributes\":{\"dimension\":1,\"ticker\":{\"id\":\"1316\",\"type\":\"BasicTicker\"}},\"id\":\"1319\",\"type\":\"Grid\"},{\"attributes\":{},\"id\":\"1342\",\"type\":\"BasicTickFormatter\"},{\"attributes\":{\"data_source\":{\"id\":\"1300\",\"type\":\"ColumnDataSource\"},\"glyph\":{\"id\":\"1348\",\"type\":\"Line\"},\"hover_glyph\":null,\"muted_glyph\":null,\"nonselection_glyph\":{\"id\":\"1349\",\"type\":\"Line\"},\"selection_glyph\":null,\"view\":{\"id\":\"1351\",\"type\":\"CDSView\"}},\"id\":\"1350\",\"type\":\"GlyphRenderer\"},{\"attributes\":{\"data_source\":{\"id\":\"1300\",\"type\":\"ColumnDataSource\"},\"glyph\":{\"id\":\"1408\",\"type\":\"Line\"},\"hover_glyph\":null,\"muted_glyph\":null,\"nonselection_glyph\":{\"id\":\"1409\",\"type\":\"Line\"},\"selection_glyph\":null,\"view\":{\"id\":\"1411\",\"type\":\"CDSView\"}},\"id\":\"1410\",\"type\":\"GlyphRenderer\"},{\"attributes\":{\"axis_label\":\"Smape\",\"formatter\":{\"id\":\"1340\",\"type\":\"BasicTickFormatter\"},\"ticker\":{\"id\":\"1316\",\"type\":\"BasicTicker\"}},\"id\":\"1315\",\"type\":\"LinearAxis\"},{\"attributes\":{\"text\":\"Development of Smape over time\"},\"id\":\"1338\",\"type\":\"Title\"},{\"attributes\":{\"source\":{\"id\":\"1300\",\"type\":\"ColumnDataSource\"}},\"id\":\"1426\",\"type\":\"CDSView\"},{\"attributes\":{\"source\":{\"id\":\"1300\",\"type\":\"ColumnDataSource\"}},\"id\":\"1411\",\"type\":\"CDSView\"},{\"attributes\":{\"line_color\":\"#f46d43\",\"line_width\":2,\"x\":{\"field\":\"Year\"},\"y\":{\"field\":\"yearly_training_no_weather_h_3y\"}},\"id\":\"1423\",\"type\":\"Line\"},{\"attributes\":{},\"id\":\"1340\",\"type\":\"BasicTickFormatter\"},{\"attributes\":{\"data_source\":{\"id\":\"1300\",\"type\":\"ColumnDataSource\"},\"glyph\":{\"id\":\"1378\",\"type\":\"Line\"},\"hover_glyph\":null,\"muted_glyph\":null,\"nonselection_glyph\":{\"id\":\"1379\",\"type\":\"Line\"},\"selection_glyph\":null,\"view\":{\"id\":\"1381\",\"type\":\"CDSView\"}},\"id\":\"1380\",\"type\":\"GlyphRenderer\"},{\"attributes\":{\"click_policy\":\"hide\",\"items\":[{\"id\":\"1346\",\"type\":\"LegendItem\"},{\"id\":\"1361\",\"type\":\"LegendItem\"},{\"id\":\"1376\",\"type\":\"LegendItem\"},{\"id\":\"1391\",\"type\":\"LegendItem\"},{\"id\":\"1406\",\"type\":\"LegendItem\"},{\"id\":\"1421\",\"type\":\"LegendItem\"},{\"id\":\"1436\",\"type\":\"LegendItem\"},{\"id\":\"1451\",\"type\":\"LegendItem\"}],\"location\":\"top_left\"},\"id\":\"1345\",\"type\":\"Legend\"},{\"attributes\":{\"label\":{\"value\":\"yearly_training_weather_3y\"},\"renderers\":[{\"id\":\"1410\",\"type\":\"GlyphRenderer\"}]},\"id\":\"1421\",\"type\":\"LegendItem\"},{\"attributes\":{\"line_alpha\":0.1,\"line_color\":\"#1f77b4\",\"line_width\":2,\"x\":{\"field\":\"Year\"},\"y\":{\"field\":\"static_weather_h_2009-2011\"}},\"id\":\"1379\",\"type\":\"Line\"},{\"attributes\":{},\"id\":\"1359\",\"type\":\"Selection\"},{\"attributes\":{\"data_source\":{\"id\":\"1300\",\"type\":\"ColumnDataSource\"},\"glyph\":{\"id\":\"1423\",\"type\":\"Line\"},\"hover_glyph\":null,\"muted_glyph\":null,\"nonselection_glyph\":{\"id\":\"1424\",\"type\":\"Line\"},\"selection_glyph\":null,\"view\":{\"id\":\"1426\",\"type\":\"CDSView\"}},\"id\":\"1425\",\"type\":\"GlyphRenderer\"},{\"attributes\":{\"line_alpha\":0.1,\"line_color\":\"#1f77b4\",\"line_width\":2,\"x\":{\"field\":\"Year\"},\"y\":{\"field\":\"static_weather_nh_2009-2011\"}},\"id\":\"1349\",\"type\":\"Line\"},{\"attributes\":{\"bottom_units\":\"screen\",\"fill_alpha\":{\"value\":0.5},\"fill_color\":{\"value\":\"lightgrey\"},\"left_units\":\"screen\",\"level\":\"overlay\",\"line_alpha\":{\"value\":1.0},\"line_color\":{\"value\":\"black\"},\"line_dash\":[4,4],\"line_width\":{\"value\":2},\"render_mode\":\"css\",\"right_units\":\"screen\",\"top_units\":\"screen\"},\"id\":\"1344\",\"type\":\"BoxAnnotation\"},{\"attributes\":{\"line_alpha\":0.1,\"line_color\":\"#1f77b4\",\"line_width\":2,\"x\":{\"field\":\"Year\"},\"y\":{\"field\":\"static_no_weather_h_2009-2011\"}},\"id\":\"1364\",\"type\":\"Line\"},{\"attributes\":{\"line_color\":\"#d53e4f\",\"line_width\":2,\"x\":{\"field\":\"Year\"},\"y\":{\"field\":\"yearly_training_weather_h_3y\"}},\"id\":\"1438\",\"type\":\"Line\"},{\"attributes\":{\"callback\":null},\"id\":\"1302\",\"type\":\"DataRange1d\"},{\"attributes\":{\"source\":{\"id\":\"1300\",\"type\":\"ColumnDataSource\"}},\"id\":\"1381\",\"type\":\"CDSView\"},{\"attributes\":{\"line_alpha\":0.1,\"line_color\":\"#1f77b4\",\"line_width\":2,\"x\":{\"field\":\"Year\"},\"y\":{\"field\":\"yearly_training_no_weather_h_3y\"}},\"id\":\"1424\",\"type\":\"Line\"},{\"attributes\":{},\"id\":\"1320\",\"type\":\"PanTool\"},{\"attributes\":{\"data_source\":{\"id\":\"1300\",\"type\":\"ColumnDataSource\"},\"glyph\":{\"id\":\"1334\",\"type\":\"Line\"},\"hover_glyph\":null,\"muted_glyph\":null,\"nonselection_glyph\":{\"id\":\"1335\",\"type\":\"Line\"},\"selection_glyph\":null,\"view\":{\"id\":\"1337\",\"type\":\"CDSView\"}},\"id\":\"1336\",\"type\":\"GlyphRenderer\"},{\"attributes\":{\"source\":{\"id\":\"1300\",\"type\":\"ColumnDataSource\"}},\"id\":\"1441\",\"type\":\"CDSView\"},{\"attributes\":{},\"id\":\"1321\",\"type\":\"WheelZoomTool\"},{\"attributes\":{\"line_color\":\"#3288bd\",\"line_width\":2,\"x\":{\"field\":\"Year\"},\"y\":{\"field\":\"static_no_weather_nh_2009-2011\"}},\"id\":\"1334\",\"type\":\"Line\"},{\"attributes\":{\"line_color\":\"#fee08b\",\"line_width\":2,\"x\":{\"field\":\"Year\"},\"y\":{\"field\":\"yearly_training_no_weather_3y\"}},\"id\":\"1393\",\"type\":\"Line\"},{\"attributes\":{\"callback\":null,\"data\":{\"Year\":[2012,2013,2014,2015,2016,2017,2018],\"index\":[2012,2013,2014,2015,2016,2017,2018],\"static_no_weather_h_2009-2011\":{\"__ndarray__\":\"CiM+sgtJvT+F+5LL+yS9P4Cv9LYNS70/bU1B7y6zvz/roD9k2RXBPyrWaQW+EcQ/1BD+1/OkxD8=\",\"dtype\":\"float64\",\"shape\":[7]},\"static_no_weather_nh_2009-2011\":{\"__ndarray__\":\"4N4xAxlUvD8gl/il9GK9P7rsdFerm70/MKUAat49wD9oY7dwpbLBP5ieNWVIXcQ/WqCbbXKpxT8=\",\"dtype\":\"float64\",\"shape\":[7]},\"static_weather_h_2009-2011\":{\"__ndarray__\":\"iotorxWbvT/b5ZWQJpi9P7o/VE7bxb0/WGf9rFQxwD/FXNVbZm/BP8qfSYU4gMQ/CYPD2raRxT8=\",\"dtype\":\"float64\",\"shape\":[7]},\"static_weather_nh_2009-2011\":{\"__ndarray__\":\"rmLcuMfDuz/AqQaHm7q8P8Jsg7vq3rw/6G8PdvWzvz/098mRFhzBP/Zai60SWcM/qOgLowjHxD8=\",\"dtype\":\"float64\",\"shape\":[7]},\"yearly_training_no_weather_3y\":{\"__ndarray__\":\"4N4xAxlUvD+DqMCsJGa8PzvS5K4Lg7w/KiTkyr8Tvz/qhpR+IobAP+KM5DIQsME/JrmIoOI2wT8=\",\"dtype\":\"float64\",\"shape\":[7]},\"yearly_training_no_weather_h_3y\":{\"__ndarray__\":\"CiM+sgtJvT+O/6ExLom9P2pc1lqAXL0/zY3dq5dIvz/mHwchPtzAP0qiN9w00sE/rRzyBzidwT8=\",\"dtype\":\"float64\",\"shape\":[7]},\"yearly_training_weather_3y\":{\"__ndarray__\":\"rmLcuMfDuz/I+DBuEau8Pw73AmV877w/Y42egu29vj8ugBMpRBDBPy+3Gov8isE/fQZls9U4wT8=\",\"dtype\":\"float64\",\"shape\":[7]},\"yearly_training_weather_h_3y\":{\"__ndarray__\":\"iotorxWbvT+mPvVFSL++P/6Lp64oCL0/S88bxZCZvz97oaZExeTAPx3R7O4mGMI/Dj3rIUOxwT8=\",\"dtype\":\"float64\",\"shape\":[7]}},\"selected\":{\"id\":\"1359\",\"type\":\"Selection\"},\"selection_policy\":{\"id\":\"1358\",\"type\":\"UnionRenderers\"}},\"id\":\"1300\",\"type\":\"ColumnDataSource\"},{\"attributes\":{\"overlay\":{\"id\":\"1344\",\"type\":\"BoxAnnotation\"}},\"id\":\"1322\",\"type\":\"BoxZoomTool\"},{\"attributes\":{},\"id\":\"1306\",\"type\":\"LinearScale\"},{\"attributes\":{\"data_source\":{\"id\":\"1300\",\"type\":\"ColumnDataSource\"},\"glyph\":{\"id\":\"1393\",\"type\":\"Line\"},\"hover_glyph\":null,\"muted_glyph\":null,\"nonselection_glyph\":{\"id\":\"1394\",\"type\":\"Line\"},\"selection_glyph\":null,\"view\":{\"id\":\"1396\",\"type\":\"CDSView\"}},\"id\":\"1395\",\"type\":\"GlyphRenderer\"},{\"attributes\":{},\"id\":\"1323\",\"type\":\"SaveTool\"},{\"attributes\":{\"label\":{\"value\":\"static_no_weather_nh_2009-2011\"},\"renderers\":[{\"id\":\"1336\",\"type\":\"GlyphRenderer\"}]},\"id\":\"1346\",\"type\":\"LegendItem\"},{\"attributes\":{\"label\":{\"value\":\"yearly_training_weather_h_3y\"},\"renderers\":[{\"id\":\"1440\",\"type\":\"GlyphRenderer\"}]},\"id\":\"1451\",\"type\":\"LegendItem\"},{\"attributes\":{\"callback\":null},\"id\":\"1304\",\"type\":\"DataRange1d\"},{\"attributes\":{\"line_alpha\":0.1,\"line_color\":\"#1f77b4\",\"line_width\":2,\"x\":{\"field\":\"Year\"},\"y\":{\"field\":\"yearly_training_no_weather_3y\"}},\"id\":\"1394\",\"type\":\"Line\"},{\"attributes\":{\"label\":{\"value\":\"static_weather_h_2009-2011\"},\"renderers\":[{\"id\":\"1380\",\"type\":\"GlyphRenderer\"}]},\"id\":\"1391\",\"type\":\"LegendItem\"},{\"attributes\":{\"label\":{\"value\":\"yearly_training_no_weather_h_3y\"},\"renderers\":[{\"id\":\"1425\",\"type\":\"GlyphRenderer\"}]},\"id\":\"1436\",\"type\":\"LegendItem\"},{\"attributes\":{},\"id\":\"1324\",\"type\":\"ResetTool\"},{\"attributes\":{\"line_alpha\":0.1,\"line_color\":\"#1f77b4\",\"line_width\":2,\"x\":{\"field\":\"Year\"},\"y\":{\"field\":\"yearly_training_weather_h_3y\"}},\"id\":\"1439\",\"type\":\"Line\"},{\"attributes\":{\"data_source\":{\"id\":\"1300\",\"type\":\"ColumnDataSource\"},\"glyph\":{\"id\":\"1363\",\"type\":\"Line\"},\"hover_glyph\":null,\"muted_glyph\":null,\"nonselection_glyph\":{\"id\":\"1364\",\"type\":\"Line\"},\"selection_glyph\":null,\"view\":{\"id\":\"1366\",\"type\":\"CDSView\"}},\"id\":\"1365\",\"type\":\"GlyphRenderer\"},{\"attributes\":{\"data_source\":{\"id\":\"1300\",\"type\":\"ColumnDataSource\"},\"glyph\":{\"id\":\"1438\",\"type\":\"Line\"},\"hover_glyph\":null,\"muted_glyph\":null,\"nonselection_glyph\":{\"id\":\"1439\",\"type\":\"Line\"},\"selection_glyph\":null,\"view\":{\"id\":\"1441\",\"type\":\"CDSView\"}},\"id\":\"1440\",\"type\":\"GlyphRenderer\"},{\"attributes\":{\"line_alpha\":0.1,\"line_color\":\"#1f77b4\",\"line_width\":2,\"x\":{\"field\":\"Year\"},\"y\":{\"field\":\"static_no_weather_nh_2009-2011\"}},\"id\":\"1335\",\"type\":\"Line\"},{\"attributes\":{\"line_color\":\"#66c2a5\",\"line_width\":2,\"x\":{\"field\":\"Year\"},\"y\":{\"field\":\"static_weather_nh_2009-2011\"}},\"id\":\"1348\",\"type\":\"Line\"},{\"attributes\":{},\"id\":\"1308\",\"type\":\"LinearScale\"},{\"attributes\":{\"line_color\":\"#e6f598\",\"line_width\":2,\"x\":{\"field\":\"Year\"},\"y\":{\"field\":\"static_weather_h_2009-2011\"}},\"id\":\"1378\",\"type\":\"Line\"},{\"attributes\":{\"source\":{\"id\":\"1300\",\"type\":\"ColumnDataSource\"}},\"id\":\"1396\",\"type\":\"CDSView\"},{\"attributes\":{},\"id\":\"1358\",\"type\":\"UnionRenderers\"}],\"root_ids\":[\"1301\"]},\"title\":\"Bokeh Application\",\"version\":\"1.4.0\"}};\n",
       "  var render_items = [{\"docid\":\"74a1ed3b-3a89-4a54-b344-2b03add5066e\",\"roots\":{\"1301\":\"cd6e9775-d54a-428c-b89f-a6b99305fc18\"}}];\n",
       "  root.Bokeh.embed.embed_items_notebook(docs_json, render_items);\n",
       "\n",
       "  }\n",
       "  if (root.Bokeh !== undefined) {\n",
       "    embed_document(root);\n",
       "  } else {\n",
       "    var attempts = 0;\n",
       "    var timer = setInterval(function(root) {\n",
       "      if (root.Bokeh !== undefined) {\n",
       "        clearInterval(timer);\n",
       "        embed_document(root);\n",
       "      } else {\n",
       "        attempts++;\n",
       "        if (attempts > 100) {\n",
       "          clearInterval(timer);\n",
       "          console.log(\"Bokeh: ERROR: Unable to run BokehJS code because BokehJS library is missing\");\n",
       "        }\n",
       "      }\n",
       "    }, 10, root)\n",
       "  }\n",
       "})(window);"
      ],
      "application/vnd.bokehjs_exec.v0+json": ""
     },
     "metadata": {
      "application/vnd.bokehjs_exec.v0+json": {
       "id": "1301"
      }
     },
     "output_type": "display_data"
    }
   ],
   "source": [
    "from bokeh.palettes import Spectral8\n",
    "\n",
    "p = figure(plot_width=600, plot_height=400)\n",
    "\n",
    "for i, name in enumerate(results_df_yearly.columns[:-1]):\n",
    "    p.line(x = 'Year', y=name, line_width=2, source=source_smape, legend_label=name, color = Spectral8[i])\n",
    "\n",
    "p.yaxis.axis_label = 'Smape'\n",
    "p.title.text = 'Development of Smape over time'\n",
    "\n",
    "p.legend.location = 'top_left'\n",
    "p.legend.click_policy=\"hide\"\n",
    "\n",
    "show(p)"
   ]
  },
  {
   "cell_type": "code",
   "execution_count": null,
   "metadata": {},
   "outputs": [],
   "source": []
  }
 ],
 "metadata": {
  "kernelspec": {
   "display_name": "taxiData",
   "language": "python",
   "name": "taxidata"
  },
  "language_info": {
   "codemirror_mode": {
    "name": "ipython",
    "version": 3
   },
   "file_extension": ".py",
   "mimetype": "text/x-python",
   "name": "python",
   "nbconvert_exporter": "python",
   "pygments_lexer": "ipython3",
   "version": "3.7.4"
  },
  "toc": {
   "base_numbering": 1,
   "nav_menu": {},
   "number_sections": true,
   "sideBar": false,
   "skip_h1_title": false,
   "title_cell": "Table of Contents",
   "title_sidebar": "Contents",
   "toc_cell": false,
   "toc_position": {},
   "toc_section_display": true,
   "toc_window_display": false
  }
 },
 "nbformat": 4,
 "nbformat_minor": 2
}
